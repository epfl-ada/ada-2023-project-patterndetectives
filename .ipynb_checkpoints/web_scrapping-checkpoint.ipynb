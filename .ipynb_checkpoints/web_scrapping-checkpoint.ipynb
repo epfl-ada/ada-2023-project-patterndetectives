{
 "cells": [
  {
   "cell_type": "code",
   "execution_count": 2,
   "id": "3f4ac750-e809-4b95-b6a1-d09b1964ef13",
   "metadata": {
    "tags": []
   },
   "outputs": [],
   "source": [
    "import requests\n",
    "from bs4 import BeautifulSoup\n",
    "import re\n",
    "import json"
   ]
  },
  {
   "cell_type": "code",
   "execution_count": 14,
   "id": "8b9de444-d440-4d4f-bf26-975c1cab15f1",
   "metadata": {
    "tags": []
   },
   "outputs": [
    {
     "name": "stdout",
     "output_type": "stream",
     "text": [
      "Response status code: 200\n",
      "\n",
      "Response body: {\"batchcomplete\":\"\",\"warnings\":{\"main\":{\"*\":\"Subscribe to the mediawiki-api-announce mailing list at <https://lists.wikimedia.org/postorius/lists/mediawiki-api-announce.lists.wikimedia.org/> for notice of API deprecations and breaking changes. Use [[Special:ApiFeatureUsage]] to see usage of deprecated features by your application.\"},\"revisions\":{\"*\":\"Because \\\"rvslots\\\" was not specified, a legacy format has been used for the output. This format is deprecated, and in the future the new format will always be used.\"}},\"query\":{\"pages\":{\"28028248\":{\"pageid\":28028248,\"ns\":0,\"title\":\"The House That Drips Blood on Alex\",\"revisions\":[{\"contentformat\":\"text/x-wiki\",\"contentmodel\":\"wikitext\",\"*\":\"{{Infobox film\\n| name           = The House That Drips Blood on Alex\\n| director       = {{Plainlist|\\n*Brock LaBorde\\n*Jared Richard\\n}}\\n| producer       = Brock LaBorde\\n| writer         = {{Plainlist|\\n*Brock LaBorde\\n*Jared Richard\\n}}\\n| starring       = {{Plainlist|\\n*[[Tommy Wiseau]]\\n*[[Joey Greco]]\\n*[[Justine Ezarik]]\\n*[[Brooke Brodack]]\\n*Rory Windhorst\\n*Arlando Smith\\n*Chris Trew\\n*Brock LaBorde\\n}}\\n| music          = David McKeever\\n| cinematography = Yaque Silva-Doyle\\n| editing        = Jared Richard\\n| distributor    = Atom.com\\n| released       = {{Film date|2010|10|14|}}\\n| runtime        = 13 minutes\\n| country        = United States\\n| language       = English\\n}}\\n\\n'''''The House That Drips Blood on Alex''''' is a 2010 American [[comedy horror]] [[Short film|short]] starring [[Tommy Wiseau]].<ref>{{cite news|url=http://newsfeed.time.com/2010/07/12/watch-wiseau-bizarre-director-of-the-room-preps-new-movie/#ixzz0tUEYl8TM |title=Watch: Wiseau, Bizarre Director of 'The Room,' Preps New Movie - TIME NewsFeed |publisher=Newsfeed.time.com |date= 2010-07-12|accessdate=2010-10-20}}</ref> The film was written by sketch comedy group Studio8.<ref>{{cite web|url=http://io9.com/5598625/the-rooms-tommy-wiseau-talks-his-new-absurdly-titled-horror-comedy |title=The Room's Tommy Wiseau explains his new, bloody cult movie |publisher=Io9.com |date=2010-07-28 |accessdate=2010-10-20}}</ref> It first aired October 14, 2010, on [[Comedy Central]]<ref>{{cite web|url=http://www.atom.com/spotlights/house_drips_blood_teaser/ |title=The House That Drips Blood On Alex Starring Tommy Wiseau (The Room) |publisher=Atom |date= |accessdate=2010-10-20}}</ref><ref>{{cite web|url=http://www.atom.com/funny_videos/house_that_drips_panel/ |title=Tommy Wiseau (The Room) And The House That Drips Blood On Alex Comic-Con Panel &#124; The House That Drips Blood On Alex Starring Tommy Wiseau (The Room) &#124; Sci-Fi & Horror Hilarity |publisher=Atom |date=2010-08-19 |accessdate=2010-10-20}}</ref> and was released online at [[atom.com]]. It was also included as an extra on the DVD compilation of ''The Tommy Wi-Show'', a web series also created by Studio8 and starring Wiseau.\\n\\nThe title is a homage to the Amicus film ''[[The House That Dripped Blood]]''.\\n\\n==Plot==\\nIn a movie theater, a mysterious stranger sits next to two girls and starts to tell them a scary story that he claims is true:\\n\\nAlex moves into an old house at 3 Blood Street. He is excited about moving in, until his friend Thomas points out that the house is dripping blood onto him. Alex is nonchalant about this, saying that it is just the house's paint job, although Thomas observes that nothing is painted this color. They ignore this, but after more blood drips on Alex later, the pair agree to approach the landlord to report the \\\"leak\\\".\\n\\nThe next day, they discover that the landlord's office is vacant, appearing to have not been used in years. Alex finds this odd, saying that the office was open yesterday. Alex hopes the landlord will call him and explain the dripping blood, but starts to worry as the problem continues.\\n\\nThomas explains the whole story to his friend Bobby the next day. When Alex meets up with them, Thomas offers Alex a place to stay until the problem stops. Alex declines, saying that he is not going to let some \\\"leak\\\" make him move. Later, Alex goes up to the attic to investigate the source of the blood and discovers his own dead body on the attic floor.\\n\\nBack at the theater, the stranger finishes his story. The previews start, and the first trailer is for a horror film called \\\"3 Blood Street\\\" that has the same plot as the stranger's story. When the girls look at the stranger, he has become a skeleton, causing the girls to scream.\\n\\n==Cast==\\n* [[Tommy Wiseau]] as Alex and Mysterious Stranger\\n* [[Joey Greco]] as Landlord\\n* [[Justine Ezarik]] as Melissa\\n* [[Brooke Brodack]] as Girl 1\\n* Rory Windhorst as Thomas\\n* Arlando Smith as Bobby\\n* Brock LaBorde as Landlord 2\\n* Chris Trew as Alan\\n\\n==References==\\n{{Reflist}}\\n\\n==External links==\\n*{{IMDb title|1691424}}\\n\\n{{DEFAULTSORT:House That Drips Blood on Alex, The}}\\n[[Category:2010 comedy horror films]]\\n[[Category:2010 short films]]\\n[[Category:American comedy horror films]]\\n[[Category:American horror short films]]\\n[[Category:American independent films]]\\n[[Category:2010 films]]\\n[[Category:2010 independent films]]\\n[[Category:2010s English-language films]]\\n[[Category:2010s American films]]\"}]}}}}\n"
     ]
    }
   ],
   "source": [
    "# Make the request\n",
    "pageid = 21373150\n",
    "r = requests.get(f'https://en.wikipedia.org/w/api.php?action=query&prop=revisions&rvprop=content&pageids={pageid}&format=json') \n",
    "\n",
    "print('Response status code: {0}\\n'.format(r.status_code))\n",
    "#print('Response headers: {0}\\n'.format(r.headers))\n",
    "print('Response body: {0}'.format(r.text))"
   ]
  },
  {
   "cell_type": "code",
   "execution_count": 11,
   "id": "8e5fcd7f-7551-40f0-9e83-8db8ef9c8565",
   "metadata": {
    "tags": []
   },
   "outputs": [
    {
     "name": "stdout",
     "output_type": "stream",
     "text": [
      "Unrecognized value for parameter \"format\": html.\n"
     ]
    }
   ],
   "source": [
    "soup = BeautifulSoup(r.text, 'html.parser')\n",
    "# Extract the JSON content from the <pre> tag\n",
    "json_content = soup.find('pre').text\n",
    "\n",
    "# Convert the string to a JSON object\n",
    "data = json.loads(json_content)\n",
    "\n",
    "# Check if there's an error in the response\n",
    "if \"error\" in data:\n",
    "    print(data[\"error\"][\"info\"])"
   ]
  },
  {
   "cell_type": "code",
   "execution_count": 13,
   "id": "120be2ac-cea6-4ebb-b048-e51c1cc17859",
   "metadata": {
    "tags": []
   },
   "outputs": [
    {
     "name": "stdout",
     "output_type": "stream",
     "text": [
      "Director of the movie is: John Carpenter\n"
     ]
    }
   ],
   "source": [
    "data = r.json()\n",
    "\n",
    "# Extract the wikitext content of the page\n",
    "wikitext = data['query']['pages'][str(pageid)]['revisions'][0]['*']\n",
    "match = re.search(r'\\| director\\s*=\\s*\\[\\[([^\\]]+)\\]\\]', wikitext)\n",
    "if match:\n",
    "    director = match.group(1)\n",
    "    print(f\"Director of the movie is: {director}\")\n",
    "else:\n",
    "    print(\"Director not found\")"
   ]
  },
  {
   "cell_type": "code",
   "execution_count": null,
   "id": "31cdbd82-9004-4bde-9f1c-5cf2c9fb3611",
   "metadata": {},
   "outputs": [],
   "source": []
  }
 ],
 "metadata": {
  "kernelspec": {
   "display_name": "Python 3 (ipykernel)",
   "language": "python",
   "name": "python3"
  },
  "language_info": {
   "codemirror_mode": {
    "name": "ipython",
    "version": 3
   },
   "file_extension": ".py",
   "mimetype": "text/x-python",
   "name": "python",
   "nbconvert_exporter": "python",
   "pygments_lexer": "ipython3",
   "version": "3.11.4"
  }
 },
 "nbformat": 4,
 "nbformat_minor": 5
}
