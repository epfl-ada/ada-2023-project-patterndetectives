{
 "cells": [
  {
   "cell_type": "code",
   "execution_count": 2,
   "id": "3f4ac750-e809-4b95-b6a1-d09b1964ef13",
   "metadata": {
    "tags": []
   },
   "outputs": [],
   "source": [
    "import requests\n",
    "from bs4 import BeautifulSoup\n",
    "import re"
   ]
  },
  {
   "cell_type": "code",
   "execution_count": 5,
   "id": "8b9de444-d440-4d4f-bf26-975c1cab15f1",
   "metadata": {
    "tags": []
   },
   "outputs": [
    {
     "name": "stdout",
     "output_type": "stream",
     "text": [
      "Response body: <!DOCTYPE html>\n",
      "<html class=\"client-nojs\" lang=\"en\" dir=\"ltr\">\n",
      "<head>\n",
      "<meta charset=\"UTF-8\">\n",
      "<title>MediaWiki API result - Wikipedia</title>\n",
      "<script>document.documentElement.className=\"client-js\";RLCONF={\"wgBreakFrames\":false,\"wgSeparatorTransformTable\":[\"\",\"\"],\"wgDigitTransformTable\":[\"\",\"\"],\"wgDefaultDateFormat\":\"dmy\",\"wgMonthNames\":[\"\",\"January\",\"February\",\"March\",\"April\",\"May\",\"June\",\"July\",\"August\",\"September\",\"October\",\"November\",\"December\"],\"wgRequestId\":\"d9711b97-d5e6-49bd-9979-519e4dddb091\",\"wgCanonicalNamespace\":\"Special\",\"wgCanonicalSpecialPageName\":\"ApiHelp\",\"wgNamespaceNumber\":-1,\"wgPageName\":\"Special:ApiHelp\",\"wgTitle\":\"ApiHelp\",\"wgCurRevisionId\":0,\"wgRevisionId\":0,\"wgArticleId\":0,\"wgIsArticle\":false,\"wgIsRedirect\":false,\"wgAction\":\"view\",\"wgUserName\":null,\"wgUserGroups\":[\"*\"],\"wgCategories\":[],\"wgPageViewLanguage\":\"en\",\"wgPageContentLanguage\":\"en\",\"wgPageContentModel\":\"wikitext\",\"wgRelevantPageName\":\"Special:ApiHelp\",\"wgRelevantArticleId\":0,\"wgIsProbablyEditable\":false,\"wgRelevantPageIsProbablyEditable\":false,\"wgNoticeProject\":\"wikipedia\",\"wgFlaggedRevsParams\":{\"tags\":{\"status\":{\"levels\":1}}},\"wgMediaViewerOnClick\":\n",
      "true,\"wgMediaViewerEnabledByDefault\":true,\"wgPopupsFlags\":10,\"wgVisualEditor\":{\"pageLanguageCode\":\"en\",\"pageLanguageDir\":\"ltr\",\"pageVariantFallbacks\":\"en\"},\"wgMFDisplayWikibaseDescriptions\":{\"search\":true,\"watchlist\":true,\"tagline\":false,\"nearby\":true},\"wgWMESchemaEditAttemptStepOversample\":false,\"wgWMEPageLength\":0,\"wgULSCurrentAutonym\":\"English\",\"wgCentralAuthMobileDomain\":false,\"wgEditSubmitButtonLabelPublish\":true,\"GEHomepageSuggestedEditsEnableTopics\":true,\"wgGETopicsMatchModeEnabled\":false,\"wgGEStructuredTaskRejectionReasonTextInputEnabled\":false,\"wgGELevelingUpEnabledForUser\":false};RLSTATE={\"ext.globalCssJs.user.styles\":\"ready\",\"site.styles\":\"ready\",\"user.styles\":\"ready\",\"ext.globalCssJs.user\":\"ready\",\"user\":\"ready\",\"user.options\":\"loading\",\"mediawiki.apipretty\":\"ready\",\"ext.pygments\":\"ready\",\"mediawiki.skinning.interface\":\"ready\",\"ext.visualEditor.desktopArticleTarget.noscript\":\"ready\",\"ext.wikimediaBadges\":\"ready\"};RLPAGEMODULES=[\"site\",\"mediawiki.page.ready\",\n",
      "\"ext.centralNotice.geoIP\",\"ext.gadget.switcher\",\"ext.urlShortener.toolbar\",\"ext.centralauth.centralautologin\",\"ext.popups\",\"ext.visualEditor.desktopArticleTarget.init\",\"ext.visualEditor.targetLoader\",\"ext.echo.centralauth\",\"ext.eventLogging\",\"ext.wikimediaEvents\",\"ext.wikimediaEvents.specialPages\",\"ext.navigationTiming\",\"ext.cx.eventlogging.campaigns\"];</script>\n",
      "<script>(RLQ=window.RLQ||[]).push(function(){mw.loader.impl(function(){return[\"user.options@12s5i\",function($,jQuery,require,module){mw.user.tokens.set({\"patrolToken\":\"+\\\\\",\"watchToken\":\"+\\\\\",\"csrfToken\":\"+\\\\\"});\n",
      "}];});});</script>\n",
      "<link rel=\"stylesheet\" href=\"/w/load.php?lang=en&amp;modules=ext.pygments%2CwikimediaBadges%7Cext.visualEditor.desktopArticleTarget.noscript%7Cmediawiki.apipretty%7Cmediawiki.skinning.interface&amp;only=styles&amp;skin=apioutput\">\n",
      "<script async=\"\" src=\"/w/load.php?lang=en&amp;modules=startup&amp;only=scripts&amp;raw=1&amp;skin=apioutput\"></script>\n",
      "<meta name=\"ResourceLoaderDynamicStyles\" content=\"\">\n",
      "<link rel=\"stylesheet\" href=\"/w/load.php?lang=en&amp;modules=site.styles&amp;only=styles&amp;skin=apioutput\">\n",
      "<meta name=\"generator\" content=\"MediaWiki 1.42.0-wmf.2\">\n",
      "<meta name=\"referrer\" content=\"origin\">\n",
      "<meta name=\"referrer\" content=\"origin-when-cross-origin\">\n",
      "<meta name=\"robots\" content=\"noindex,nofollow,max-image-preview:standard\">\n",
      "<meta name=\"format-detection\" content=\"telephone=no\">\n",
      "<meta name=\"viewport\" content=\"width=1000\">\n",
      "<meta property=\"og:title\" content=\"MediaWiki API result - Wikipedia\">\n",
      "<meta property=\"og:type\" content=\"website\">\n",
      "<link rel=\"alternate\" media=\"only screen and (max-width: 720px)\" href=\"//en.m.wikipedia.org/wiki/Special:ApiHelp\">\n",
      "<link rel=\"apple-touch-icon\" href=\"/static/apple-touch/wikipedia.png\">\n",
      "<link rel=\"icon\" href=\"/static/favicon/wikipedia.ico\">\n",
      "<link rel=\"search\" type=\"application/opensearchdescription+xml\" href=\"/w/opensearch_desc.php\" title=\"Wikipedia (en)\">\n",
      "<link rel=\"EditURI\" type=\"application/rsd+xml\" href=\"//en.wikipedia.org/w/api.php?action=rsd\">\n",
      "<link rel=\"canonical\" href=\"https://en.wikipedia.org/wiki/Special:ApiHelp\">\n",
      "<link rel=\"license\" href=\"https://creativecommons.org/licenses/by-sa/4.0/deed.en\">\n",
      "<link rel=\"alternate\" type=\"application/atom+xml\" title=\"Wikipedia Atom feed\" href=\"/w/index.php?title=Special:RecentChanges&amp;feed=atom\">\n",
      "<link rel=\"dns-prefetch\" href=\"//login.wikimedia.org\">\n",
      "</head>\n",
      "<body class=\"mediawiki ltr sitedir-ltr mw-hide-empty-elt ns--1 ns-special mw-special-ApiHelp page-Special_ApiHelp rootpage-Special_ApiHelp skin-apioutput action-view\"><div class=\"mw-body\" role=\"main\">\n",
      "\t<h1 id=\"firstHeading\">MediaWiki API result</h1>\n",
      "\t<div class=\"mw-body-content\">\n",
      "\t\t<div id=\"mw-content-text\" class=\"mw-body-content\"><div class=\"api-pretty-header\"><p>This is the HTML representation of the JSON format. HTML is good for debugging, but is unsuitable for application use.\n",
      "</p><p>Specify the <var>format</var> parameter to change the output format. To see the non-HTML representation of the JSON format, set <a class=\"external text\" href=\"https://en.wikipedia.org/w/api.php?action=query&amp;format=json&amp;pageids=18998739&amp;prop=revisions&amp;rvprop=content\"><kbd>format=json</kbd></a>.\n",
      "</p><p>See the <a href=\"https://www.mediawiki.org/wiki/API\" class=\"extiw\" title=\"mw:API\">complete documentation</a>, or the <a href=\"/w/api.php?action=help&amp;modules=main\">API help</a> for more information.\n",
      "</p></div><div dir=\"ltr\"><div class=\"mw-highlight mw-highlight-lang-javascript mw-content-ltr\" dir=\"ltr\"><pre><span></span><span class=\"p\">{</span>\n",
      "<span class=\"w\">    </span><span class=\"s2\">&quot;error&quot;</span><span class=\"o\">:</span><span class=\"w\"> </span><span class=\"p\">{</span>\n",
      "<span class=\"w\">        </span><span class=\"s2\">&quot;code&quot;</span><span class=\"o\">:</span><span class=\"w\"> </span><span class=\"s2\">&quot;badvalue&quot;</span><span class=\"p\">,</span>\n",
      "<span class=\"w\">        </span><span class=\"s2\">&quot;info&quot;</span><span class=\"o\">:</span><span class=\"w\"> </span><span class=\"s2\">&quot;Unrecognized value for parameter \\&quot;format\\&quot;: html.&quot;</span><span class=\"p\">,</span>\n",
      "<span class=\"w\">        </span><span class=\"s2\">&quot;*&quot;</span><span class=\"o\">:</span><span class=\"w\"> </span><span class=\"s2\">&quot;See https://en.wikipedia.org/w/api.php for API usage. Subscribe to the mediawiki-api-announce mailing list at &amp;lt;https://lists.wikimedia.org/postorius/lists/mediawiki-api-announce.lists.wikimedia.org/&amp;gt; for notice of API deprecations and breaking changes.&quot;</span>\n",
      "<span class=\"w\">    </span><span class=\"p\">},</span>\n",
      "<span class=\"w\">    </span><span class=\"s2\">&quot;servedby&quot;</span><span class=\"o\">:</span><span class=\"w\"> </span><span class=\"s2\">&quot;mw1424&quot;</span>\n",
      "<span class=\"p\">}</span>\n",
      "</pre></div></div><!--esi <esi:include src=\"/esitest-fa8a495983347898/content\" /> --><noscript><img src=\"https://login.wikimedia.org/wiki/Special:CentralAutoLogin/start?type=1x1\" alt=\"\" width=\"1\" height=\"1\" style=\"border: none; position: absolute;\"></noscript>\n",
      "<div class=\"printfooter\" data-nosnippet=\"\">Retrieved from \"<a dir=\"ltr\" href=\"https://en.wikipedia.org/wiki/Special:ApiHelp\">https://en.wikipedia.org/wiki/Special:ApiHelp</a>\"</div></div>\n",
      "\t</div>\n",
      "</div>\n",
      "<script>(RLQ=window.RLQ||[]).push(function(){mw.config.set({\"wgHostname\":\"mw1424\",\"wgBackendResponseTime\":147});});</script>\n",
      "</body>\n",
      "</html>\n"
     ]
    }
   ],
   "source": [
    "# Make the request\n",
    "pageid = 18998739\n",
    "r = requests.get(f'https://en.wikipedia.org/w/api.php?action=query&prop=revisions&rvprop=content&pageids={pageid}&format=html') \n",
    "\n",
    "#print('Response status code: {0}\\n'.format(r.status_code))\n",
    "#print('Response headers: {0}\\n'.format(r.headers))\n",
    "print('Response body: {0}'.format(r.text))"
   ]
  },
  {
   "cell_type": "code",
   "execution_count": 13,
   "id": "120be2ac-cea6-4ebb-b048-e51c1cc17859",
   "metadata": {
    "tags": []
   },
   "outputs": [
    {
     "name": "stdout",
     "output_type": "stream",
     "text": [
      "Director of the movie is: John Carpenter\n"
     ]
    }
   ],
   "source": [
    "data = r.json()\n",
    "\n",
    "# Extract the wikitext content of the page\n",
    "wikitext = data['query']['pages'][str(pageid)]['revisions'][0]['*']\n",
    "match = re.search(r'\\| director\\s*=\\s*\\[\\[([^\\]]+)\\]\\]', wikitext)\n",
    "if match:\n",
    "    director = match.group(1)\n",
    "    print(f\"Director of the movie is: {director}\")\n",
    "else:\n",
    "    print(\"Director not found\")"
   ]
  },
  {
   "cell_type": "code",
   "execution_count": null,
   "id": "31cdbd82-9004-4bde-9f1c-5cf2c9fb3611",
   "metadata": {},
   "outputs": [],
   "source": []
  }
 ],
 "metadata": {
  "kernelspec": {
   "display_name": "Python 3 (ipykernel)",
   "language": "python",
   "name": "python3"
  },
  "language_info": {
   "codemirror_mode": {
    "name": "ipython",
    "version": 3
   },
   "file_extension": ".py",
   "mimetype": "text/x-python",
   "name": "python",
   "nbconvert_exporter": "python",
   "pygments_lexer": "ipython3",
   "version": "3.11.4"
  }
 },
 "nbformat": 4,
 "nbformat_minor": 5
}
