{
 "cells": [
  {
   "cell_type": "code",
   "execution_count": 89,
   "id": "341a569b-f6cd-4c33-9efb-a0f92eb5fb94",
   "metadata": {
    "tags": []
   },
   "outputs": [
    {
     "name": "stdout",
     "output_type": "stream",
     "text": [
      "The autoreload extension is already loaded. To reload it, use:\n",
      "  %reload_ext autoreload\n"
     ]
    }
   ],
   "source": [
    "import pandas as pd\n",
    "import numpy as np\n",
    "import matplotlib.pyplot as plt\n",
    "%matplotlib inline\n",
    "import seaborn as sns\n",
    "import math\n",
    "from statsmodels.stats import diagnostic\n",
    "import statsmodels.stats as st\n",
    "from scipy import stats\n",
    "import networkx as nx\n",
    "import statsmodels.api as sm\n",
    "import statsmodels.formula.api as smf\n",
    "from sklearn.linear_model import LinearRegression, LogisticRegression, Ridge\n",
    "from sklearn.ensemble import RandomForestClassifier\n",
    "# from sklearn.preprocessing import OneHotEncoder\n",
    "# from pandas.plotting import scatter_matrix\n",
    "from sklearn.neighbors import KNeighborsClassifier\n",
    "from sklearn.model_selection import cross_val_predict\n",
    "from sklearn.model_selection import cross_val_score\n",
    "from sklearn.metrics import mean_squared_error, auc, roc_curve\n",
    "\n",
    "from director_scrap import director_scrap\n",
    "\n",
    "%load_ext autoreload\n",
    "%autoreload 2"
   ]
  },
  {
   "cell_type": "markdown",
   "id": "7404fa82-4d6c-4103-9287-0f2a281f027e",
   "metadata": {},
   "source": [
    "# Crew Database\n",
    "\n",
    "Database of directors and writers associated to each film"
   ]
  },
  {
   "cell_type": "code",
   "execution_count": 90,
   "id": "f37d4344-99f6-458b-950b-42416b278f32",
   "metadata": {
    "tags": []
   },
   "outputs": [
    {
     "data": {
      "text/html": [
       "<div>\n",
       "<style scoped>\n",
       "    .dataframe tbody tr th:only-of-type {\n",
       "        vertical-align: middle;\n",
       "    }\n",
       "\n",
       "    .dataframe tbody tr th {\n",
       "        vertical-align: top;\n",
       "    }\n",
       "\n",
       "    .dataframe thead th {\n",
       "        text-align: right;\n",
       "    }\n",
       "</style>\n",
       "<table border=\"1\" class=\"dataframe\">\n",
       "  <thead>\n",
       "    <tr style=\"text-align: right;\">\n",
       "      <th></th>\n",
       "      <th>tconst</th>\n",
       "      <th>directors</th>\n",
       "      <th>writers</th>\n",
       "    </tr>\n",
       "  </thead>\n",
       "  <tbody>\n",
       "    <tr>\n",
       "      <th>0</th>\n",
       "      <td>tt0000001</td>\n",
       "      <td>nm0005690</td>\n",
       "      <td>NaN</td>\n",
       "    </tr>\n",
       "  </tbody>\n",
       "</table>\n",
       "</div>"
      ],
      "text/plain": [
       "      tconst  directors writers\n",
       "0  tt0000001  nm0005690     NaN"
      ]
     },
     "execution_count": 90,
     "metadata": {},
     "output_type": "execute_result"
    }
   ],
   "source": [
    "df_crew = pd.read_table('data/crew.tsv')\n",
    "df_crew.head(1)"
   ]
  },
  {
   "cell_type": "markdown",
   "id": "cb314929-d138-4542-a5bb-f93f6deb0f0d",
   "metadata": {},
   "source": [
    "# Name Database\n",
    "\n",
    "Database of names of people having contributed to the movie (director, writer, actor, cosplayer...)"
   ]
  },
  {
   "cell_type": "code",
   "execution_count": 91,
   "id": "a6b61fdc-eb14-4b71-963d-efae8f513ce4",
   "metadata": {
    "tags": []
   },
   "outputs": [
    {
     "data": {
      "text/html": [
       "<div>\n",
       "<style scoped>\n",
       "    .dataframe tbody tr th:only-of-type {\n",
       "        vertical-align: middle;\n",
       "    }\n",
       "\n",
       "    .dataframe tbody tr th {\n",
       "        vertical-align: top;\n",
       "    }\n",
       "\n",
       "    .dataframe thead th {\n",
       "        text-align: right;\n",
       "    }\n",
       "</style>\n",
       "<table border=\"1\" class=\"dataframe\">\n",
       "  <thead>\n",
       "    <tr style=\"text-align: right;\">\n",
       "      <th></th>\n",
       "      <th>nconst</th>\n",
       "      <th>primaryName</th>\n",
       "      <th>birthYear</th>\n",
       "      <th>deathYear</th>\n",
       "      <th>primaryProfession</th>\n",
       "      <th>knownForTitles</th>\n",
       "    </tr>\n",
       "  </thead>\n",
       "  <tbody>\n",
       "    <tr>\n",
       "      <th>0</th>\n",
       "      <td>nm0000001</td>\n",
       "      <td>Fred Astaire</td>\n",
       "      <td>1899.0</td>\n",
       "      <td>1987.0</td>\n",
       "      <td>soundtrack,actor,miscellaneous</td>\n",
       "      <td>tt0072308,tt0053137,tt0031983,tt0050419</td>\n",
       "    </tr>\n",
       "  </tbody>\n",
       "</table>\n",
       "</div>"
      ],
      "text/plain": [
       "      nconst   primaryName  birthYear  deathYear  \\\n",
       "0  nm0000001  Fred Astaire     1899.0     1987.0   \n",
       "\n",
       "                primaryProfession                           knownForTitles  \n",
       "0  soundtrack,actor,miscellaneous  tt0072308,tt0053137,tt0031983,tt0050419  "
      ]
     },
     "execution_count": 91,
     "metadata": {},
     "output_type": "execute_result"
    }
   ],
   "source": [
    "df_name = pd.read_table('data/name.tsv')\n",
    "df_name.head(1)"
   ]
  },
  {
   "cell_type": "markdown",
   "id": "44c3e3db-5eb3-4fa6-9e04-f5d53736572a",
   "metadata": {},
   "source": [
    "# Database Title\n",
    "\n",
    "Database of titles of movies' and many other informations"
   ]
  },
  {
   "cell_type": "code",
   "execution_count": 92,
   "id": "b718d0d2-d742-49df-8c85-c5773abd4075",
   "metadata": {
    "tags": []
   },
   "outputs": [
    {
     "data": {
      "text/html": [
       "<div>\n",
       "<style scoped>\n",
       "    .dataframe tbody tr th:only-of-type {\n",
       "        vertical-align: middle;\n",
       "    }\n",
       "\n",
       "    .dataframe tbody tr th {\n",
       "        vertical-align: top;\n",
       "    }\n",
       "\n",
       "    .dataframe thead th {\n",
       "        text-align: right;\n",
       "    }\n",
       "</style>\n",
       "<table border=\"1\" class=\"dataframe\">\n",
       "  <thead>\n",
       "    <tr style=\"text-align: right;\">\n",
       "      <th></th>\n",
       "      <th>tconst</th>\n",
       "      <th>titleType</th>\n",
       "      <th>primaryTitle</th>\n",
       "      <th>originalTitle</th>\n",
       "      <th>isAdult</th>\n",
       "      <th>startYear</th>\n",
       "      <th>endYear</th>\n",
       "      <th>runtimeMinutes</th>\n",
       "      <th>genres</th>\n",
       "    </tr>\n",
       "  </thead>\n",
       "  <tbody>\n",
       "    <tr>\n",
       "      <th>0</th>\n",
       "      <td>tt0000001</td>\n",
       "      <td>short</td>\n",
       "      <td>Carmencita</td>\n",
       "      <td>Carmencita</td>\n",
       "      <td>0.0</td>\n",
       "      <td>1894.0</td>\n",
       "      <td>NaN</td>\n",
       "      <td>1.0</td>\n",
       "      <td>Documentary,Short</td>\n",
       "    </tr>\n",
       "  </tbody>\n",
       "</table>\n",
       "</div>"
      ],
      "text/plain": [
       "      tconst titleType primaryTitle originalTitle  isAdult  startYear  \\\n",
       "0  tt0000001     short   Carmencita    Carmencita      0.0     1894.0   \n",
       "\n",
       "   endYear  runtimeMinutes             genres  \n",
       "0      NaN             1.0  Documentary,Short  "
      ]
     },
     "execution_count": 92,
     "metadata": {},
     "output_type": "execute_result"
    }
   ],
   "source": [
    "df_title = pd.read_table('data/title.tsv')\n",
    "df_title.head(1)"
   ]
  },
  {
   "cell_type": "markdown",
   "id": "8364a6b7-5c4f-46a7-b046-099597c4afa4",
   "metadata": {},
   "source": [
    "# Database Imdb_Rating\n",
    "\n",
    "Database of movie ratings"
   ]
  },
  {
   "cell_type": "code",
   "execution_count": 93,
   "id": "d2b0e3c0-1f99-4e72-9755-0a35405cf9be",
   "metadata": {
    "tags": []
   },
   "outputs": [
    {
     "data": {
      "text/html": [
       "<div>\n",
       "<style scoped>\n",
       "    .dataframe tbody tr th:only-of-type {\n",
       "        vertical-align: middle;\n",
       "    }\n",
       "\n",
       "    .dataframe tbody tr th {\n",
       "        vertical-align: top;\n",
       "    }\n",
       "\n",
       "    .dataframe thead th {\n",
       "        text-align: right;\n",
       "    }\n",
       "</style>\n",
       "<table border=\"1\" class=\"dataframe\">\n",
       "  <thead>\n",
       "    <tr style=\"text-align: right;\">\n",
       "      <th></th>\n",
       "      <th>tconst</th>\n",
       "      <th>averageRating</th>\n",
       "      <th>numVotes</th>\n",
       "    </tr>\n",
       "  </thead>\n",
       "  <tbody>\n",
       "    <tr>\n",
       "      <th>0</th>\n",
       "      <td>tt0000001</td>\n",
       "      <td>5.7</td>\n",
       "      <td>2004</td>\n",
       "    </tr>\n",
       "  </tbody>\n",
       "</table>\n",
       "</div>"
      ],
      "text/plain": [
       "      tconst  averageRating  numVotes\n",
       "0  tt0000001            5.7      2004"
      ]
     },
     "execution_count": 93,
     "metadata": {},
     "output_type": "execute_result"
    }
   ],
   "source": [
    "df_rating = pd.read_table('data/imdb_rating.tsv')\n",
    "df_rating.head(1)"
   ]
  },
  {
   "cell_type": "markdown",
   "id": "dcb24f61-e210-4e7a-a77e-5cb4c9701989",
   "metadata": {},
   "source": [
    "# Database Principals\n",
    "\n",
    "Job of the person, title (if applicable) and character name"
   ]
  },
  {
   "cell_type": "code",
   "execution_count": 121,
   "id": "29d88224-bc9e-48ef-a599-e5e30e180da3",
   "metadata": {
    "tags": []
   },
   "outputs": [
    {
     "data": {
      "text/html": [
       "<div>\n",
       "<style scoped>\n",
       "    .dataframe tbody tr th:only-of-type {\n",
       "        vertical-align: middle;\n",
       "    }\n",
       "\n",
       "    .dataframe tbody tr th {\n",
       "        vertical-align: top;\n",
       "    }\n",
       "\n",
       "    .dataframe thead th {\n",
       "        text-align: right;\n",
       "    }\n",
       "</style>\n",
       "<table border=\"1\" class=\"dataframe\">\n",
       "  <thead>\n",
       "    <tr style=\"text-align: right;\">\n",
       "      <th></th>\n",
       "      <th>tconst</th>\n",
       "      <th>ordering</th>\n",
       "      <th>nconst</th>\n",
       "      <th>category</th>\n",
       "      <th>job</th>\n",
       "      <th>characters</th>\n",
       "    </tr>\n",
       "  </thead>\n",
       "  <tbody>\n",
       "    <tr>\n",
       "      <th>0</th>\n",
       "      <td>tt0000001</td>\n",
       "      <td>1</td>\n",
       "      <td>nm1588970</td>\n",
       "      <td>self</td>\n",
       "      <td>\\N</td>\n",
       "      <td>[\"Self\"]</td>\n",
       "    </tr>\n",
       "  </tbody>\n",
       "</table>\n",
       "</div>"
      ],
      "text/plain": [
       "      tconst  ordering     nconst category job characters\n",
       "0  tt0000001         1  nm1588970     self  \\N   [\"Self\"]"
      ]
     },
     "execution_count": 121,
     "metadata": {},
     "output_type": "execute_result"
    }
   ],
   "source": [
    "df_principals = pd.read_table('data/principals.tsv')\n",
    "df_principals.head(1)"
   ]
  },
  {
   "cell_type": "code",
   "execution_count": 136,
   "id": "487f603e-41f4-4808-9c44-a49afa56148d",
   "metadata": {
    "tags": []
   },
   "outputs": [
    {
     "data": {
      "text/html": [
       "<div>\n",
       "<style scoped>\n",
       "    .dataframe tbody tr th:only-of-type {\n",
       "        vertical-align: middle;\n",
       "    }\n",
       "\n",
       "    .dataframe tbody tr th {\n",
       "        vertical-align: top;\n",
       "    }\n",
       "\n",
       "    .dataframe thead th {\n",
       "        text-align: right;\n",
       "    }\n",
       "</style>\n",
       "<table border=\"1\" class=\"dataframe\">\n",
       "  <thead>\n",
       "    <tr style=\"text-align: right;\">\n",
       "      <th></th>\n",
       "      <th>tconst</th>\n",
       "      <th>nconst</th>\n",
       "      <th>category</th>\n",
       "    </tr>\n",
       "  </thead>\n",
       "  <tbody>\n",
       "    <tr>\n",
       "      <th>0</th>\n",
       "      <td>tt0000001</td>\n",
       "      <td>nm1588970</td>\n",
       "      <td>self</td>\n",
       "    </tr>\n",
       "    <tr>\n",
       "      <th>1</th>\n",
       "      <td>tt0000001</td>\n",
       "      <td>nm0005690</td>\n",
       "      <td>director</td>\n",
       "    </tr>\n",
       "    <tr>\n",
       "      <th>2</th>\n",
       "      <td>tt0000001</td>\n",
       "      <td>nm0374658</td>\n",
       "      <td>cinematographer</td>\n",
       "    </tr>\n",
       "  </tbody>\n",
       "</table>\n",
       "</div>"
      ],
      "text/plain": [
       "      tconst     nconst         category\n",
       "0  tt0000001  nm1588970             self\n",
       "1  tt0000001  nm0005690         director\n",
       "2  tt0000001  nm0374658  cinematographer"
      ]
     },
     "execution_count": 136,
     "metadata": {},
     "output_type": "execute_result"
    }
   ],
   "source": [
    "df_p = df_principals.drop(['job', 'characters', 'ordering'], axis=1)\n",
    "df_p.head(3)"
   ]
  },
  {
   "cell_type": "code",
   "execution_count": 139,
   "id": "46b69bc8-de81-4e55-b7e7-1754da9a2916",
   "metadata": {
    "tags": []
   },
   "outputs": [
    {
     "name": "stdout",
     "output_type": "stream",
     "text": [
      "58969176\n",
      "30259451\n"
     ]
    },
    {
     "data": {
      "text/html": [
       "<div>\n",
       "<style scoped>\n",
       "    .dataframe tbody tr th:only-of-type {\n",
       "        vertical-align: middle;\n",
       "    }\n",
       "\n",
       "    .dataframe tbody tr th {\n",
       "        vertical-align: top;\n",
       "    }\n",
       "\n",
       "    .dataframe thead th {\n",
       "        text-align: right;\n",
       "    }\n",
       "</style>\n",
       "<table border=\"1\" class=\"dataframe\">\n",
       "  <thead>\n",
       "    <tr style=\"text-align: right;\">\n",
       "      <th></th>\n",
       "      <th>tconst</th>\n",
       "      <th>nconst</th>\n",
       "      <th>category</th>\n",
       "    </tr>\n",
       "  </thead>\n",
       "  <tbody>\n",
       "    <tr>\n",
       "      <th>0</th>\n",
       "      <td>tt0000001</td>\n",
       "      <td>nm1588970</td>\n",
       "      <td>self</td>\n",
       "    </tr>\n",
       "    <tr>\n",
       "      <th>1</th>\n",
       "      <td>tt0000001</td>\n",
       "      <td>nm0005690</td>\n",
       "      <td>director</td>\n",
       "    </tr>\n",
       "    <tr>\n",
       "      <th>2</th>\n",
       "      <td>tt0000001</td>\n",
       "      <td>nm0374658</td>\n",
       "      <td>cinematographer</td>\n",
       "    </tr>\n",
       "    <tr>\n",
       "      <th>3</th>\n",
       "      <td>tt0000002</td>\n",
       "      <td>nm0721526</td>\n",
       "      <td>director</td>\n",
       "    </tr>\n",
       "    <tr>\n",
       "      <th>4</th>\n",
       "      <td>tt0000002</td>\n",
       "      <td>nm1335271</td>\n",
       "      <td>composer</td>\n",
       "    </tr>\n",
       "  </tbody>\n",
       "</table>\n",
       "</div>"
      ],
      "text/plain": [
       "      tconst     nconst         category\n",
       "0  tt0000001  nm1588970             self\n",
       "1  tt0000001  nm0005690         director\n",
       "2  tt0000001  nm0374658  cinematographer\n",
       "3  tt0000002  nm0721526         director\n",
       "4  tt0000002  nm1335271         composer"
      ]
     },
     "execution_count": 139,
     "metadata": {},
     "output_type": "execute_result"
    }
   ],
   "source": [
    "print(len(df_p))\n",
    "df_p_drop = df_p.drop_duplicates(subset=['tconst', 'category'])\n",
    "print(len(df_p_drop))\n",
    "df_p_drop.head()"
   ]
  },
  {
   "cell_type": "code",
   "execution_count": 140,
   "id": "f3f2715f-b58b-4700-94ec-205909cd5760",
   "metadata": {
    "tags": []
   },
   "outputs": [
    {
     "data": {
      "text/html": [
       "<div>\n",
       "<style scoped>\n",
       "    .dataframe tbody tr th:only-of-type {\n",
       "        vertical-align: middle;\n",
       "    }\n",
       "\n",
       "    .dataframe tbody tr th {\n",
       "        vertical-align: top;\n",
       "    }\n",
       "\n",
       "    .dataframe thead th {\n",
       "        text-align: right;\n",
       "    }\n",
       "</style>\n",
       "<table border=\"1\" class=\"dataframe\">\n",
       "  <thead>\n",
       "    <tr style=\"text-align: right;\">\n",
       "      <th>category</th>\n",
       "      <th>tconst</th>\n",
       "      <th>actor</th>\n",
       "      <th>actress</th>\n",
       "      <th>archive_footage</th>\n",
       "      <th>archive_sound</th>\n",
       "      <th>cinematographer</th>\n",
       "      <th>composer</th>\n",
       "      <th>director</th>\n",
       "      <th>editor</th>\n",
       "      <th>producer</th>\n",
       "      <th>production_designer</th>\n",
       "      <th>self</th>\n",
       "      <th>writer</th>\n",
       "    </tr>\n",
       "  </thead>\n",
       "  <tbody>\n",
       "    <tr>\n",
       "      <th>0</th>\n",
       "      <td>tt0000001</td>\n",
       "      <td>NaN</td>\n",
       "      <td>NaN</td>\n",
       "      <td>NaN</td>\n",
       "      <td>NaN</td>\n",
       "      <td>nm0374658</td>\n",
       "      <td>NaN</td>\n",
       "      <td>nm0005690</td>\n",
       "      <td>NaN</td>\n",
       "      <td>NaN</td>\n",
       "      <td>NaN</td>\n",
       "      <td>nm1588970</td>\n",
       "      <td>NaN</td>\n",
       "    </tr>\n",
       "    <tr>\n",
       "      <th>1</th>\n",
       "      <td>tt0000002</td>\n",
       "      <td>NaN</td>\n",
       "      <td>NaN</td>\n",
       "      <td>NaN</td>\n",
       "      <td>NaN</td>\n",
       "      <td>NaN</td>\n",
       "      <td>nm1335271</td>\n",
       "      <td>nm0721526</td>\n",
       "      <td>NaN</td>\n",
       "      <td>NaN</td>\n",
       "      <td>NaN</td>\n",
       "      <td>NaN</td>\n",
       "      <td>NaN</td>\n",
       "    </tr>\n",
       "    <tr>\n",
       "      <th>2</th>\n",
       "      <td>tt0000003</td>\n",
       "      <td>NaN</td>\n",
       "      <td>NaN</td>\n",
       "      <td>NaN</td>\n",
       "      <td>NaN</td>\n",
       "      <td>NaN</td>\n",
       "      <td>nm1335271</td>\n",
       "      <td>nm0721526</td>\n",
       "      <td>nm5442200</td>\n",
       "      <td>nm1770680</td>\n",
       "      <td>NaN</td>\n",
       "      <td>NaN</td>\n",
       "      <td>NaN</td>\n",
       "    </tr>\n",
       "    <tr>\n",
       "      <th>3</th>\n",
       "      <td>tt0000004</td>\n",
       "      <td>NaN</td>\n",
       "      <td>NaN</td>\n",
       "      <td>NaN</td>\n",
       "      <td>NaN</td>\n",
       "      <td>NaN</td>\n",
       "      <td>nm1335271</td>\n",
       "      <td>nm0721526</td>\n",
       "      <td>NaN</td>\n",
       "      <td>NaN</td>\n",
       "      <td>NaN</td>\n",
       "      <td>NaN</td>\n",
       "      <td>NaN</td>\n",
       "    </tr>\n",
       "    <tr>\n",
       "      <th>4</th>\n",
       "      <td>tt0000005</td>\n",
       "      <td>nm0443482</td>\n",
       "      <td>NaN</td>\n",
       "      <td>NaN</td>\n",
       "      <td>NaN</td>\n",
       "      <td>NaN</td>\n",
       "      <td>NaN</td>\n",
       "      <td>nm0005690</td>\n",
       "      <td>NaN</td>\n",
       "      <td>nm0249379</td>\n",
       "      <td>NaN</td>\n",
       "      <td>NaN</td>\n",
       "      <td>NaN</td>\n",
       "    </tr>\n",
       "  </tbody>\n",
       "</table>\n",
       "</div>"
      ],
      "text/plain": [
       "category     tconst      actor actress archive_footage archive_sound  \\\n",
       "0         tt0000001        NaN     NaN             NaN           NaN   \n",
       "1         tt0000002        NaN     NaN             NaN           NaN   \n",
       "2         tt0000003        NaN     NaN             NaN           NaN   \n",
       "3         tt0000004        NaN     NaN             NaN           NaN   \n",
       "4         tt0000005  nm0443482     NaN             NaN           NaN   \n",
       "\n",
       "category cinematographer   composer   director     editor   producer  \\\n",
       "0              nm0374658        NaN  nm0005690        NaN        NaN   \n",
       "1                    NaN  nm1335271  nm0721526        NaN        NaN   \n",
       "2                    NaN  nm1335271  nm0721526  nm5442200  nm1770680   \n",
       "3                    NaN  nm1335271  nm0721526        NaN        NaN   \n",
       "4                    NaN        NaN  nm0005690        NaN  nm0249379   \n",
       "\n",
       "category production_designer       self writer  \n",
       "0                        NaN  nm1588970    NaN  \n",
       "1                        NaN        NaN    NaN  \n",
       "2                        NaN        NaN    NaN  \n",
       "3                        NaN        NaN    NaN  \n",
       "4                        NaN        NaN    NaN  "
      ]
     },
     "execution_count": 140,
     "metadata": {},
     "output_type": "execute_result"
    }
   ],
   "source": [
    "df_pp = df_p_drop.pivot(index='tconst', columns='category', values='nconst').reset_index()\n",
    "df_pp.head()"
   ]
  },
  {
   "cell_type": "code",
   "execution_count": 144,
   "id": "04e5d50a-f1ba-4576-9ba9-01ab06019eb3",
   "metadata": {
    "tags": []
   },
   "outputs": [
    {
     "data": {
      "text/html": [
       "<div>\n",
       "<style scoped>\n",
       "    .dataframe tbody tr th:only-of-type {\n",
       "        vertical-align: middle;\n",
       "    }\n",
       "\n",
       "    .dataframe tbody tr th {\n",
       "        vertical-align: top;\n",
       "    }\n",
       "\n",
       "    .dataframe thead th {\n",
       "        text-align: right;\n",
       "    }\n",
       "</style>\n",
       "<table border=\"1\" class=\"dataframe\">\n",
       "  <thead>\n",
       "    <tr style=\"text-align: right;\">\n",
       "      <th>category</th>\n",
       "      <th>tconst</th>\n",
       "      <th>composer</th>\n",
       "      <th>producer</th>\n",
       "    </tr>\n",
       "  </thead>\n",
       "  <tbody>\n",
       "    <tr>\n",
       "      <th>0</th>\n",
       "      <td>tt0000001</td>\n",
       "      <td>NaN</td>\n",
       "      <td>NaN</td>\n",
       "    </tr>\n",
       "    <tr>\n",
       "      <th>1</th>\n",
       "      <td>tt0000002</td>\n",
       "      <td>nm1335271</td>\n",
       "      <td>NaN</td>\n",
       "    </tr>\n",
       "    <tr>\n",
       "      <th>2</th>\n",
       "      <td>tt0000003</td>\n",
       "      <td>nm1335271</td>\n",
       "      <td>nm1770680</td>\n",
       "    </tr>\n",
       "    <tr>\n",
       "      <th>3</th>\n",
       "      <td>tt0000004</td>\n",
       "      <td>nm1335271</td>\n",
       "      <td>NaN</td>\n",
       "    </tr>\n",
       "    <tr>\n",
       "      <th>4</th>\n",
       "      <td>tt0000005</td>\n",
       "      <td>NaN</td>\n",
       "      <td>nm0249379</td>\n",
       "    </tr>\n",
       "  </tbody>\n",
       "</table>\n",
       "</div>"
      ],
      "text/plain": [
       "category     tconst   composer   producer\n",
       "0         tt0000001        NaN        NaN\n",
       "1         tt0000002  nm1335271        NaN\n",
       "2         tt0000003  nm1335271  nm1770680\n",
       "3         tt0000004  nm1335271        NaN\n",
       "4         tt0000005        NaN  nm0249379"
      ]
     },
     "execution_count": 144,
     "metadata": {},
     "output_type": "execute_result"
    }
   ],
   "source": [
    "df_roles = df_pp[['tconst', 'composer', 'producer']]\n",
    "df_roles.head()"
   ]
  },
  {
   "cell_type": "code",
   "execution_count": 148,
   "id": "cc24f8d6-93b7-4326-8d42-ab8b74fbede4",
   "metadata": {
    "tags": []
   },
   "outputs": [
    {
     "data": {
      "text/html": [
       "<div>\n",
       "<style scoped>\n",
       "    .dataframe tbody tr th:only-of-type {\n",
       "        vertical-align: middle;\n",
       "    }\n",
       "\n",
       "    .dataframe tbody tr th {\n",
       "        vertical-align: top;\n",
       "    }\n",
       "\n",
       "    .dataframe thead th {\n",
       "        text-align: right;\n",
       "    }\n",
       "</style>\n",
       "<table border=\"1\" class=\"dataframe\">\n",
       "  <thead>\n",
       "    <tr style=\"text-align: right;\">\n",
       "      <th></th>\n",
       "      <th>tconst</th>\n",
       "      <th>producer</th>\n",
       "      <th>Composer</th>\n",
       "    </tr>\n",
       "  </thead>\n",
       "  <tbody>\n",
       "    <tr>\n",
       "      <th>0</th>\n",
       "      <td>tt0000002</td>\n",
       "      <td>NaN</td>\n",
       "      <td>Gaston Paulin</td>\n",
       "    </tr>\n",
       "  </tbody>\n",
       "</table>\n",
       "</div>"
      ],
      "text/plain": [
       "      tconst producer       Composer\n",
       "0  tt0000002      NaN  Gaston Paulin"
      ]
     },
     "execution_count": 148,
     "metadata": {},
     "output_type": "execute_result"
    }
   ],
   "source": [
    "df_co = df_roles.merge(df_name, left_on='composer', right_on='nconst', how='inner')\n",
    "df_co = df_co[['tconst', 'producer', 'primaryName']].rename(columns={'primaryName': 'Composer'})\n",
    "df_co.head(1)"
   ]
  },
  {
   "cell_type": "code",
   "execution_count": 150,
   "id": "001a8489-ddb0-4ac6-b460-6103c310dfe8",
   "metadata": {
    "tags": []
   },
   "outputs": [
    {
     "data": {
      "text/html": [
       "<div>\n",
       "<style scoped>\n",
       "    .dataframe tbody tr th:only-of-type {\n",
       "        vertical-align: middle;\n",
       "    }\n",
       "\n",
       "    .dataframe tbody tr th {\n",
       "        vertical-align: top;\n",
       "    }\n",
       "\n",
       "    .dataframe thead th {\n",
       "        text-align: right;\n",
       "    }\n",
       "</style>\n",
       "<table border=\"1\" class=\"dataframe\">\n",
       "  <thead>\n",
       "    <tr style=\"text-align: right;\">\n",
       "      <th></th>\n",
       "      <th>tconst</th>\n",
       "      <th>Producer</th>\n",
       "      <th>Composer</th>\n",
       "    </tr>\n",
       "  </thead>\n",
       "  <tbody>\n",
       "    <tr>\n",
       "      <th>0</th>\n",
       "      <td>tt0000003</td>\n",
       "      <td>Julien Pappé</td>\n",
       "      <td>Gaston Paulin</td>\n",
       "    </tr>\n",
       "  </tbody>\n",
       "</table>\n",
       "</div>"
      ],
      "text/plain": [
       "      tconst      Producer       Composer\n",
       "0  tt0000003  Julien Pappé  Gaston Paulin"
      ]
     },
     "execution_count": 150,
     "metadata": {},
     "output_type": "execute_result"
    }
   ],
   "source": [
    "df_prod = df_co.merge(df_name, left_on='producer', right_on='nconst', how='inner')\n",
    "df_prod = df_prod[['tconst', 'primaryName', 'Composer']].rename(columns={'primaryName': 'Producer'})\n",
    "df_prod.head(1)"
   ]
  },
  {
   "cell_type": "markdown",
   "id": "b225c5a6-96f6-4676-9c11-a1e1fdc3c84d",
   "metadata": {},
   "source": [
    "# Merging Step\n",
    "\n",
    "Merge the above databases and keep only the useful informations "
   ]
  },
  {
   "cell_type": "code",
   "execution_count": 151,
   "id": "aee1b5a0-9cbd-4310-9b1c-a38b600c121a",
   "metadata": {
    "tags": []
   },
   "outputs": [
    {
     "data": {
      "text/html": [
       "<div>\n",
       "<style scoped>\n",
       "    .dataframe tbody tr th:only-of-type {\n",
       "        vertical-align: middle;\n",
       "    }\n",
       "\n",
       "    .dataframe tbody tr th {\n",
       "        vertical-align: top;\n",
       "    }\n",
       "\n",
       "    .dataframe thead th {\n",
       "        text-align: right;\n",
       "    }\n",
       "</style>\n",
       "<table border=\"1\" class=\"dataframe\">\n",
       "  <thead>\n",
       "    <tr style=\"text-align: right;\">\n",
       "      <th></th>\n",
       "      <th>tconst</th>\n",
       "      <th>directors</th>\n",
       "      <th>writers</th>\n",
       "      <th>averageRating</th>\n",
       "      <th>numVotes</th>\n",
       "    </tr>\n",
       "  </thead>\n",
       "  <tbody>\n",
       "    <tr>\n",
       "      <th>0</th>\n",
       "      <td>tt0000001</td>\n",
       "      <td>nm0005690</td>\n",
       "      <td>NaN</td>\n",
       "      <td>5.7</td>\n",
       "      <td>2004</td>\n",
       "    </tr>\n",
       "  </tbody>\n",
       "</table>\n",
       "</div>"
      ],
      "text/plain": [
       "      tconst  directors writers  averageRating  numVotes\n",
       "0  tt0000001  nm0005690     NaN            5.7      2004"
      ]
     },
     "execution_count": 151,
     "metadata": {},
     "output_type": "execute_result"
    }
   ],
   "source": [
    "df_crew_rating = df_crew.merge(df_rating, how='inner', on='tconst')\n",
    "df_crew_rating.head(1)"
   ]
  },
  {
   "cell_type": "code",
   "execution_count": 152,
   "id": "207046e1-8f46-4ccd-8509-db56dc63f1c2",
   "metadata": {
    "tags": []
   },
   "outputs": [
    {
     "data": {
      "text/html": [
       "<div>\n",
       "<style scoped>\n",
       "    .dataframe tbody tr th:only-of-type {\n",
       "        vertical-align: middle;\n",
       "    }\n",
       "\n",
       "    .dataframe tbody tr th {\n",
       "        vertical-align: top;\n",
       "    }\n",
       "\n",
       "    .dataframe thead th {\n",
       "        text-align: right;\n",
       "    }\n",
       "</style>\n",
       "<table border=\"1\" class=\"dataframe\">\n",
       "  <thead>\n",
       "    <tr style=\"text-align: right;\">\n",
       "      <th></th>\n",
       "      <th>tconst</th>\n",
       "      <th>directors</th>\n",
       "      <th>writers</th>\n",
       "      <th>averageRating</th>\n",
       "      <th>numVotes</th>\n",
       "      <th>titleType</th>\n",
       "      <th>primaryTitle</th>\n",
       "      <th>originalTitle</th>\n",
       "      <th>isAdult</th>\n",
       "      <th>startYear</th>\n",
       "      <th>endYear</th>\n",
       "      <th>runtimeMinutes</th>\n",
       "      <th>genres</th>\n",
       "    </tr>\n",
       "  </thead>\n",
       "  <tbody>\n",
       "    <tr>\n",
       "      <th>0</th>\n",
       "      <td>tt0000001</td>\n",
       "      <td>nm0005690</td>\n",
       "      <td>NaN</td>\n",
       "      <td>5.7</td>\n",
       "      <td>2004</td>\n",
       "      <td>short</td>\n",
       "      <td>Carmencita</td>\n",
       "      <td>Carmencita</td>\n",
       "      <td>0.0</td>\n",
       "      <td>1894.0</td>\n",
       "      <td>NaN</td>\n",
       "      <td>1.0</td>\n",
       "      <td>Documentary,Short</td>\n",
       "    </tr>\n",
       "  </tbody>\n",
       "</table>\n",
       "</div>"
      ],
      "text/plain": [
       "      tconst  directors writers  averageRating  numVotes titleType  \\\n",
       "0  tt0000001  nm0005690     NaN            5.7      2004     short   \n",
       "\n",
       "  primaryTitle originalTitle  isAdult  startYear  endYear  runtimeMinutes  \\\n",
       "0   Carmencita    Carmencita      0.0     1894.0      NaN             1.0   \n",
       "\n",
       "              genres  \n",
       "0  Documentary,Short  "
      ]
     },
     "execution_count": 152,
     "metadata": {},
     "output_type": "execute_result"
    }
   ],
   "source": [
    "df_cr_title = df_crew_rating.merge(df_title, how='inner', on='tconst')\n",
    "df_cr_title.head(1)"
   ]
  },
  {
   "cell_type": "code",
   "execution_count": 153,
   "id": "17bf8fa7-96ac-4b75-aef0-04af20514936",
   "metadata": {
    "tags": []
   },
   "outputs": [
    {
     "data": {
      "text/html": [
       "<div>\n",
       "<style scoped>\n",
       "    .dataframe tbody tr th:only-of-type {\n",
       "        vertical-align: middle;\n",
       "    }\n",
       "\n",
       "    .dataframe tbody tr th {\n",
       "        vertical-align: top;\n",
       "    }\n",
       "\n",
       "    .dataframe thead th {\n",
       "        text-align: right;\n",
       "    }\n",
       "</style>\n",
       "<table border=\"1\" class=\"dataframe\">\n",
       "  <thead>\n",
       "    <tr style=\"text-align: right;\">\n",
       "      <th></th>\n",
       "      <th>tconst</th>\n",
       "      <th>directors</th>\n",
       "      <th>writers</th>\n",
       "      <th>averageRating</th>\n",
       "      <th>numVotes</th>\n",
       "      <th>titleType</th>\n",
       "      <th>primaryTitle</th>\n",
       "      <th>originalTitle</th>\n",
       "      <th>isAdult</th>\n",
       "      <th>startYear</th>\n",
       "      <th>endYear</th>\n",
       "      <th>runtimeMinutes</th>\n",
       "      <th>genres</th>\n",
       "      <th>Producer</th>\n",
       "      <th>Composer</th>\n",
       "    </tr>\n",
       "  </thead>\n",
       "  <tbody>\n",
       "    <tr>\n",
       "      <th>0</th>\n",
       "      <td>tt0000001</td>\n",
       "      <td>nm0005690</td>\n",
       "      <td>NaN</td>\n",
       "      <td>5.7</td>\n",
       "      <td>2004</td>\n",
       "      <td>short</td>\n",
       "      <td>Carmencita</td>\n",
       "      <td>Carmencita</td>\n",
       "      <td>0.0</td>\n",
       "      <td>1894.0</td>\n",
       "      <td>NaN</td>\n",
       "      <td>1.0</td>\n",
       "      <td>Documentary,Short</td>\n",
       "      <td>NaN</td>\n",
       "      <td>NaN</td>\n",
       "    </tr>\n",
       "  </tbody>\n",
       "</table>\n",
       "</div>"
      ],
      "text/plain": [
       "      tconst  directors writers  averageRating  numVotes titleType  \\\n",
       "0  tt0000001  nm0005690     NaN            5.7      2004     short   \n",
       "\n",
       "  primaryTitle originalTitle  isAdult  startYear  endYear  runtimeMinutes  \\\n",
       "0   Carmencita    Carmencita      0.0     1894.0      NaN             1.0   \n",
       "\n",
       "              genres Producer Composer  \n",
       "0  Documentary,Short      NaN      NaN  "
      ]
     },
     "execution_count": 153,
     "metadata": {},
     "output_type": "execute_result"
    }
   ],
   "source": [
    "df_team = df_cr_title.merge(df_prod, on='tconst', how='left')\n",
    "df_team.head(1)"
   ]
  },
  {
   "cell_type": "code",
   "execution_count": 159,
   "id": "b3d9a26d-d231-480e-8775-d8157c723715",
   "metadata": {
    "tags": []
   },
   "outputs": [
    {
     "data": {
      "text/html": [
       "<div>\n",
       "<style scoped>\n",
       "    .dataframe tbody tr th:only-of-type {\n",
       "        vertical-align: middle;\n",
       "    }\n",
       "\n",
       "    .dataframe tbody tr th {\n",
       "        vertical-align: top;\n",
       "    }\n",
       "\n",
       "    .dataframe thead th {\n",
       "        text-align: right;\n",
       "    }\n",
       "</style>\n",
       "<table border=\"1\" class=\"dataframe\">\n",
       "  <thead>\n",
       "    <tr style=\"text-align: right;\">\n",
       "      <th></th>\n",
       "      <th>tconst</th>\n",
       "      <th>directors</th>\n",
       "      <th>writers</th>\n",
       "      <th>averageRating</th>\n",
       "      <th>numVotes</th>\n",
       "      <th>titleType</th>\n",
       "      <th>primaryTitle</th>\n",
       "      <th>originalTitle</th>\n",
       "      <th>isAdult</th>\n",
       "      <th>startYear</th>\n",
       "      <th>...</th>\n",
       "      <th>runtimeMinutes</th>\n",
       "      <th>genres</th>\n",
       "      <th>Producer</th>\n",
       "      <th>Composer</th>\n",
       "      <th>nconst</th>\n",
       "      <th>primaryName</th>\n",
       "      <th>birthYear</th>\n",
       "      <th>deathYear</th>\n",
       "      <th>primaryProfession</th>\n",
       "      <th>knownForTitles</th>\n",
       "    </tr>\n",
       "  </thead>\n",
       "  <tbody>\n",
       "    <tr>\n",
       "      <th>0</th>\n",
       "      <td>tt0000001</td>\n",
       "      <td>nm0005690</td>\n",
       "      <td>NaN</td>\n",
       "      <td>5.7</td>\n",
       "      <td>2004</td>\n",
       "      <td>short</td>\n",
       "      <td>Carmencita</td>\n",
       "      <td>Carmencita</td>\n",
       "      <td>0.0</td>\n",
       "      <td>1894.0</td>\n",
       "      <td>...</td>\n",
       "      <td>1.0</td>\n",
       "      <td>Documentary,Short</td>\n",
       "      <td>NaN</td>\n",
       "      <td>NaN</td>\n",
       "      <td>nm0005690</td>\n",
       "      <td>William K.L. Dickson</td>\n",
       "      <td>1860.0</td>\n",
       "      <td>1935.0</td>\n",
       "      <td>cinematographer,director,producer</td>\n",
       "      <td>tt1428455,tt0219560,tt0308254,tt1496763</td>\n",
       "    </tr>\n",
       "  </tbody>\n",
       "</table>\n",
       "<p>1 rows × 21 columns</p>\n",
       "</div>"
      ],
      "text/plain": [
       "      tconst  directors writers  averageRating  numVotes titleType  \\\n",
       "0  tt0000001  nm0005690     NaN            5.7      2004     short   \n",
       "\n",
       "  primaryTitle originalTitle  isAdult  startYear  ...  runtimeMinutes  \\\n",
       "0   Carmencita    Carmencita      0.0     1894.0  ...             1.0   \n",
       "\n",
       "              genres Producer Composer     nconst           primaryName  \\\n",
       "0  Documentary,Short      NaN      NaN  nm0005690  William K.L. Dickson   \n",
       "\n",
       "  birthYear  deathYear                  primaryProfession  \\\n",
       "0    1860.0     1935.0  cinematographer,director,producer   \n",
       "\n",
       "                            knownForTitles  \n",
       "0  tt1428455,tt0219560,tt0308254,tt1496763  \n",
       "\n",
       "[1 rows x 21 columns]"
      ]
     },
     "execution_count": 159,
     "metadata": {},
     "output_type": "execute_result"
    }
   ],
   "source": [
    "df_crt_dir = df_team.merge(df_name, left_on='directors', right_on='nconst', how='inner')\n",
    "df_crt_dir.head(1)"
   ]
  },
  {
   "cell_type": "code",
   "execution_count": 160,
   "id": "78976b50-b4c2-48a0-85cc-6c93dcb5f57d",
   "metadata": {
    "tags": []
   },
   "outputs": [
    {
     "data": {
      "text/html": [
       "<div>\n",
       "<style scoped>\n",
       "    .dataframe tbody tr th:only-of-type {\n",
       "        vertical-align: middle;\n",
       "    }\n",
       "\n",
       "    .dataframe tbody tr th {\n",
       "        vertical-align: top;\n",
       "    }\n",
       "\n",
       "    .dataframe thead th {\n",
       "        text-align: right;\n",
       "    }\n",
       "</style>\n",
       "<table border=\"1\" class=\"dataframe\">\n",
       "  <thead>\n",
       "    <tr style=\"text-align: right;\">\n",
       "      <th></th>\n",
       "      <th>writers</th>\n",
       "      <th>averageRating</th>\n",
       "      <th>titleType</th>\n",
       "      <th>primaryTitle</th>\n",
       "      <th>originalTitle</th>\n",
       "      <th>startYear</th>\n",
       "      <th>endYear</th>\n",
       "      <th>runtimeMinutes</th>\n",
       "      <th>genres</th>\n",
       "      <th>Producer</th>\n",
       "      <th>Composer</th>\n",
       "      <th>nconst</th>\n",
       "      <th>primaryName</th>\n",
       "      <th>birthYear</th>\n",
       "      <th>deathYear</th>\n",
       "      <th>knownForTitles</th>\n",
       "    </tr>\n",
       "  </thead>\n",
       "  <tbody>\n",
       "    <tr>\n",
       "      <th>0</th>\n",
       "      <td>NaN</td>\n",
       "      <td>5.7</td>\n",
       "      <td>short</td>\n",
       "      <td>Carmencita</td>\n",
       "      <td>Carmencita</td>\n",
       "      <td>1894.0</td>\n",
       "      <td>NaN</td>\n",
       "      <td>1.0</td>\n",
       "      <td>Documentary,Short</td>\n",
       "      <td>NaN</td>\n",
       "      <td>NaN</td>\n",
       "      <td>nm0005690</td>\n",
       "      <td>William K.L. Dickson</td>\n",
       "      <td>1860.0</td>\n",
       "      <td>1935.0</td>\n",
       "      <td>tt1428455,tt0219560,tt0308254,tt1496763</td>\n",
       "    </tr>\n",
       "  </tbody>\n",
       "</table>\n",
       "</div>"
      ],
      "text/plain": [
       "  writers  averageRating titleType primaryTitle originalTitle  startYear  \\\n",
       "0     NaN            5.7     short   Carmencita    Carmencita     1894.0   \n",
       "\n",
       "   endYear  runtimeMinutes             genres Producer Composer     nconst  \\\n",
       "0      NaN             1.0  Documentary,Short      NaN      NaN  nm0005690   \n",
       "\n",
       "            primaryName  birthYear  deathYear  \\\n",
       "0  William K.L. Dickson     1860.0     1935.0   \n",
       "\n",
       "                            knownForTitles  \n",
       "0  tt1428455,tt0219560,tt0308254,tt1496763  "
      ]
     },
     "execution_count": 160,
     "metadata": {},
     "output_type": "execute_result"
    }
   ],
   "source": [
    "df_crtd = df_crt_dir.drop(['tconst', 'directors', 'numVotes', 'primaryProfession', 'isAdult'], axis=1)\n",
    "df_crtd.head(1)"
   ]
  },
  {
   "cell_type": "code",
   "execution_count": 161,
   "id": "cfb223d1-e16f-415e-b0be-535917cba808",
   "metadata": {
    "tags": []
   },
   "outputs": [
    {
     "data": {
      "text/html": [
       "<div>\n",
       "<style scoped>\n",
       "    .dataframe tbody tr th:only-of-type {\n",
       "        vertical-align: middle;\n",
       "    }\n",
       "\n",
       "    .dataframe tbody tr th {\n",
       "        vertical-align: top;\n",
       "    }\n",
       "\n",
       "    .dataframe thead th {\n",
       "        text-align: right;\n",
       "    }\n",
       "</style>\n",
       "<table border=\"1\" class=\"dataframe\">\n",
       "  <thead>\n",
       "    <tr style=\"text-align: right;\">\n",
       "      <th></th>\n",
       "      <th>writers</th>\n",
       "      <th>imdb_rating</th>\n",
       "      <th>titleType</th>\n",
       "      <th>primaryTitle</th>\n",
       "      <th>originalTitle</th>\n",
       "      <th>startYear</th>\n",
       "      <th>endYear</th>\n",
       "      <th>runtime_min</th>\n",
       "      <th>genres</th>\n",
       "      <th>Producer</th>\n",
       "      <th>Composer</th>\n",
       "      <th>nconst</th>\n",
       "      <th>director</th>\n",
       "      <th>dir_birth</th>\n",
       "      <th>dir_death</th>\n",
       "      <th>dir_known_titles</th>\n",
       "    </tr>\n",
       "  </thead>\n",
       "  <tbody>\n",
       "    <tr>\n",
       "      <th>0</th>\n",
       "      <td>NaN</td>\n",
       "      <td>5.7</td>\n",
       "      <td>short</td>\n",
       "      <td>Carmencita</td>\n",
       "      <td>Carmencita</td>\n",
       "      <td>1894.0</td>\n",
       "      <td>NaN</td>\n",
       "      <td>1.0</td>\n",
       "      <td>Documentary,Short</td>\n",
       "      <td>NaN</td>\n",
       "      <td>NaN</td>\n",
       "      <td>nm0005690</td>\n",
       "      <td>William K.L. Dickson</td>\n",
       "      <td>1860.0</td>\n",
       "      <td>1935.0</td>\n",
       "      <td>tt1428455,tt0219560,tt0308254,tt1496763</td>\n",
       "    </tr>\n",
       "  </tbody>\n",
       "</table>\n",
       "</div>"
      ],
      "text/plain": [
       "  writers  imdb_rating titleType primaryTitle originalTitle  startYear  \\\n",
       "0     NaN          5.7     short   Carmencita    Carmencita     1894.0   \n",
       "\n",
       "   endYear  runtime_min             genres Producer Composer     nconst  \\\n",
       "0      NaN          1.0  Documentary,Short      NaN      NaN  nm0005690   \n",
       "\n",
       "               director  dir_birth  dir_death  \\\n",
       "0  William K.L. Dickson     1860.0     1935.0   \n",
       "\n",
       "                          dir_known_titles  \n",
       "0  tt1428455,tt0219560,tt0308254,tt1496763  "
      ]
     },
     "execution_count": 161,
     "metadata": {},
     "output_type": "execute_result"
    }
   ],
   "source": [
    "df_crtd = df_crtd.rename(columns={'primaryName': 'director', 'birthYear': 'dir_birth', 'deathYear': 'dir_death'\n",
    "                                 , 'runtimeMinutes': 'runtime_min', 'averageRating': 'imdb_rating', \n",
    "                                  'knownForTitles': 'dir_known_titles'})\n",
    "df_crtd.head(1)"
   ]
  },
  {
   "cell_type": "code",
   "execution_count": 170,
   "id": "c3b5a350-ea09-4054-9de1-243ac6563c5a",
   "metadata": {
    "tags": []
   },
   "outputs": [
    {
     "data": {
      "text/html": [
       "<div>\n",
       "<style scoped>\n",
       "    .dataframe tbody tr th:only-of-type {\n",
       "        vertical-align: middle;\n",
       "    }\n",
       "\n",
       "    .dataframe tbody tr th {\n",
       "        vertical-align: top;\n",
       "    }\n",
       "\n",
       "    .dataframe thead th {\n",
       "        text-align: right;\n",
       "    }\n",
       "</style>\n",
       "<table border=\"1\" class=\"dataframe\">\n",
       "  <thead>\n",
       "    <tr style=\"text-align: right;\">\n",
       "      <th></th>\n",
       "      <th>writers</th>\n",
       "      <th>imdb_rating</th>\n",
       "      <th>titleType</th>\n",
       "      <th>primaryTitle</th>\n",
       "      <th>originalTitle</th>\n",
       "      <th>startYear</th>\n",
       "      <th>endYear</th>\n",
       "      <th>runtime_min</th>\n",
       "      <th>genres</th>\n",
       "      <th>Producer</th>\n",
       "      <th>...</th>\n",
       "      <th>director</th>\n",
       "      <th>dir_birth</th>\n",
       "      <th>dir_death</th>\n",
       "      <th>dir_known_titles</th>\n",
       "      <th>nconst_y</th>\n",
       "      <th>primaryName</th>\n",
       "      <th>birthYear</th>\n",
       "      <th>deathYear</th>\n",
       "      <th>primaryProfession</th>\n",
       "      <th>knownForTitles</th>\n",
       "    </tr>\n",
       "  </thead>\n",
       "  <tbody>\n",
       "    <tr>\n",
       "      <th>0</th>\n",
       "      <td>NaN</td>\n",
       "      <td>5.7</td>\n",
       "      <td>short</td>\n",
       "      <td>Carmencita</td>\n",
       "      <td>Carmencita</td>\n",
       "      <td>1894.0</td>\n",
       "      <td>NaN</td>\n",
       "      <td>1.0</td>\n",
       "      <td>Documentary,Short</td>\n",
       "      <td>NaN</td>\n",
       "      <td>...</td>\n",
       "      <td>William K.L. Dickson</td>\n",
       "      <td>1860.0</td>\n",
       "      <td>1935.0</td>\n",
       "      <td>tt1428455,tt0219560,tt0308254,tt1496763</td>\n",
       "      <td>NaN</td>\n",
       "      <td>NaN</td>\n",
       "      <td>NaN</td>\n",
       "      <td>NaN</td>\n",
       "      <td>NaN</td>\n",
       "      <td>NaN</td>\n",
       "    </tr>\n",
       "  </tbody>\n",
       "</table>\n",
       "<p>1 rows × 22 columns</p>\n",
       "</div>"
      ],
      "text/plain": [
       "  writers  imdb_rating titleType primaryTitle originalTitle  startYear  \\\n",
       "0     NaN          5.7     short   Carmencita    Carmencita     1894.0   \n",
       "\n",
       "   endYear  runtime_min             genres Producer  ...  \\\n",
       "0      NaN          1.0  Documentary,Short      NaN  ...   \n",
       "\n",
       "               director dir_birth dir_death  \\\n",
       "0  William K.L. Dickson    1860.0    1935.0   \n",
       "\n",
       "                          dir_known_titles  nconst_y primaryName birthYear  \\\n",
       "0  tt1428455,tt0219560,tt0308254,tt1496763       NaN         NaN       NaN   \n",
       "\n",
       "  deathYear  primaryProfession  knownForTitles  \n",
       "0       NaN                NaN             NaN  \n",
       "\n",
       "[1 rows x 22 columns]"
      ]
     },
     "execution_count": 170,
     "metadata": {},
     "output_type": "execute_result"
    }
   ],
   "source": [
    "df_fin = df_crtd.merge(df_name, left_on='writers', right_on='nconst', how='left')\n",
    "df_fin.head(1)"
   ]
  },
  {
   "cell_type": "code",
   "execution_count": 171,
   "id": "89dcb03d-10f2-4375-8a51-cb09d2e99d66",
   "metadata": {
    "tags": []
   },
   "outputs": [
    {
     "data": {
      "text/html": [
       "<div>\n",
       "<style scoped>\n",
       "    .dataframe tbody tr th:only-of-type {\n",
       "        vertical-align: middle;\n",
       "    }\n",
       "\n",
       "    .dataframe tbody tr th {\n",
       "        vertical-align: top;\n",
       "    }\n",
       "\n",
       "    .dataframe thead th {\n",
       "        text-align: right;\n",
       "    }\n",
       "</style>\n",
       "<table border=\"1\" class=\"dataframe\">\n",
       "  <thead>\n",
       "    <tr style=\"text-align: right;\">\n",
       "      <th></th>\n",
       "      <th>imdb_rating</th>\n",
       "      <th>type</th>\n",
       "      <th>popular_title</th>\n",
       "      <th>original_title</th>\n",
       "      <th>movie_start_year</th>\n",
       "      <th>movie_end_year</th>\n",
       "      <th>runtime_min</th>\n",
       "      <th>genres</th>\n",
       "      <th>Producer</th>\n",
       "      <th>Composer</th>\n",
       "      <th>director</th>\n",
       "      <th>dir_birth</th>\n",
       "      <th>dir_death</th>\n",
       "      <th>dir_known_titles</th>\n",
       "      <th>writer</th>\n",
       "      <th>writer_birth</th>\n",
       "      <th>writer_death</th>\n",
       "      <th>writer_know_titles</th>\n",
       "    </tr>\n",
       "  </thead>\n",
       "  <tbody>\n",
       "    <tr>\n",
       "      <th>0</th>\n",
       "      <td>5.7</td>\n",
       "      <td>short</td>\n",
       "      <td>Carmencita</td>\n",
       "      <td>Carmencita</td>\n",
       "      <td>1894.0</td>\n",
       "      <td>NaN</td>\n",
       "      <td>1.0</td>\n",
       "      <td>Documentary,Short</td>\n",
       "      <td>NaN</td>\n",
       "      <td>NaN</td>\n",
       "      <td>William K.L. Dickson</td>\n",
       "      <td>1860.0</td>\n",
       "      <td>1935.0</td>\n",
       "      <td>tt1428455,tt0219560,tt0308254,tt1496763</td>\n",
       "      <td>NaN</td>\n",
       "      <td>NaN</td>\n",
       "      <td>NaN</td>\n",
       "      <td>NaN</td>\n",
       "    </tr>\n",
       "  </tbody>\n",
       "</table>\n",
       "</div>"
      ],
      "text/plain": [
       "   imdb_rating   type popular_title original_title  movie_start_year  \\\n",
       "0          5.7  short    Carmencita     Carmencita            1894.0   \n",
       "\n",
       "   movie_end_year  runtime_min             genres Producer Composer  \\\n",
       "0             NaN          1.0  Documentary,Short      NaN      NaN   \n",
       "\n",
       "               director  dir_birth  dir_death  \\\n",
       "0  William K.L. Dickson     1860.0     1935.0   \n",
       "\n",
       "                          dir_known_titles writer  writer_birth  writer_death  \\\n",
       "0  tt1428455,tt0219560,tt0308254,tt1496763    NaN           NaN           NaN   \n",
       "\n",
       "  writer_know_titles  \n",
       "0                NaN  "
      ]
     },
     "execution_count": 171,
     "metadata": {},
     "output_type": "execute_result"
    }
   ],
   "source": [
    "df = df_fin.drop(['nconst_x', 'nconst_y', 'primaryProfession', 'writers'], axis=1)\n",
    "df = df.rename(columns={'primaryName': 'writer', 'birthYear': 'writer_birth', 'deathYear': 'writer_death',\n",
    "                        'knownForTitles': 'writer_know_titles', 'titleType': 'type', \n",
    "                        'primaryTitle': 'popular_title', 'originalTitle': 'original_title',\n",
    "                       'startYear': 'movie_start_year', 'endYear': 'movie_end_year'})\n",
    "df.head(1)"
   ]
  },
  {
   "cell_type": "code",
   "execution_count": 172,
   "id": "acfa8ac3-dae1-42e2-b468-ecee09ed533d",
   "metadata": {
    "tags": []
   },
   "outputs": [
    {
     "name": "stdout",
     "output_type": "stream",
     "text": [
      "970351\n",
      "970309\n"
     ]
    }
   ],
   "source": [
    "print(len(df))\n",
    "df = df.drop_duplicates()\n",
    "print(len(df))"
   ]
  },
  {
   "cell_type": "code",
   "execution_count": 173,
   "id": "852194e3-e310-44b2-b85c-a32aa5271c66",
   "metadata": {
    "tags": []
   },
   "outputs": [
    {
     "data": {
      "text/plain": [
       "910697"
      ]
     },
     "execution_count": 173,
     "metadata": {},
     "output_type": "execute_result"
    }
   ],
   "source": [
    "df = df.drop_duplicates(subset=['popular_title', 'movie_start_year'])\n",
    "len(df)"
   ]
  },
  {
   "cell_type": "code",
   "execution_count": 174,
   "id": "f29db316-8874-4c55-9329-32615e9621c3",
   "metadata": {
    "tags": []
   },
   "outputs": [
    {
     "data": {
      "text/html": [
       "<div>\n",
       "<style scoped>\n",
       "    .dataframe tbody tr th:only-of-type {\n",
       "        vertical-align: middle;\n",
       "    }\n",
       "\n",
       "    .dataframe tbody tr th {\n",
       "        vertical-align: top;\n",
       "    }\n",
       "\n",
       "    .dataframe thead th {\n",
       "        text-align: right;\n",
       "    }\n",
       "</style>\n",
       "<table border=\"1\" class=\"dataframe\">\n",
       "  <thead>\n",
       "    <tr style=\"text-align: right;\">\n",
       "      <th></th>\n",
       "      <th>imdb_rating</th>\n",
       "      <th>type</th>\n",
       "      <th>popular_title</th>\n",
       "      <th>original_title</th>\n",
       "      <th>movie_start_year</th>\n",
       "      <th>movie_end_year</th>\n",
       "      <th>runtime_min</th>\n",
       "      <th>genres</th>\n",
       "      <th>Producer</th>\n",
       "      <th>Composer</th>\n",
       "      <th>director</th>\n",
       "      <th>dir_birth</th>\n",
       "      <th>dir_death</th>\n",
       "      <th>dir_known_titles</th>\n",
       "      <th>writer</th>\n",
       "      <th>writer_birth</th>\n",
       "      <th>writer_death</th>\n",
       "      <th>writer_know_titles</th>\n",
       "    </tr>\n",
       "  </thead>\n",
       "  <tbody>\n",
       "    <tr>\n",
       "      <th>0</th>\n",
       "      <td>5.7</td>\n",
       "      <td>short</td>\n",
       "      <td>Carmencita</td>\n",
       "      <td>Carmencita</td>\n",
       "      <td>1894.0</td>\n",
       "      <td>NaN</td>\n",
       "      <td>1.0</td>\n",
       "      <td>Documentary,Short</td>\n",
       "      <td>NaN</td>\n",
       "      <td>NaN</td>\n",
       "      <td>William K.L. Dickson</td>\n",
       "      <td>1860.0</td>\n",
       "      <td>1935.0</td>\n",
       "      <td>tt1428455,tt0219560,tt0308254,tt1496763</td>\n",
       "      <td>NaN</td>\n",
       "      <td>NaN</td>\n",
       "      <td>NaN</td>\n",
       "      <td>NaN</td>\n",
       "    </tr>\n",
       "  </tbody>\n",
       "</table>\n",
       "</div>"
      ],
      "text/plain": [
       "   imdb_rating   type popular_title original_title  movie_start_year  \\\n",
       "0          5.7  short    Carmencita     Carmencita            1894.0   \n",
       "\n",
       "   movie_end_year  runtime_min             genres Producer Composer  \\\n",
       "0             NaN          1.0  Documentary,Short      NaN      NaN   \n",
       "\n",
       "               director  dir_birth  dir_death  \\\n",
       "0  William K.L. Dickson     1860.0     1935.0   \n",
       "\n",
       "                          dir_known_titles writer  writer_birth  writer_death  \\\n",
       "0  tt1428455,tt0219560,tt0308254,tt1496763    NaN           NaN           NaN   \n",
       "\n",
       "  writer_know_titles  \n",
       "0                NaN  "
      ]
     },
     "execution_count": 174,
     "metadata": {},
     "output_type": "execute_result"
    }
   ],
   "source": [
    "df.head(1)"
   ]
  },
  {
   "cell_type": "markdown",
   "id": "39a81575-128e-4162-9484-321c6d0ce3d5",
   "metadata": {},
   "source": [
    "# Export Database to tsv\n",
    "\n",
    "**Dont run the below cell except if you want to modify the imdb_data.tsv file**"
   ]
  },
  {
   "cell_type": "code",
   "execution_count": 175,
   "id": "b8b3bd3c-e427-4ff4-83e6-f471b39910e0",
   "metadata": {
    "tags": []
   },
   "outputs": [],
   "source": [
    "df.to_csv('data/imdb_dataV2.tsv', sep='\\t', index=False)"
   ]
  }
 ],
 "metadata": {
  "kernelspec": {
   "display_name": "Python 3 (ipykernel)",
   "language": "python",
   "name": "python3"
  },
  "language_info": {
   "codemirror_mode": {
    "name": "ipython",
    "version": 3
   },
   "file_extension": ".py",
   "mimetype": "text/x-python",
   "name": "python",
   "nbconvert_exporter": "python",
   "pygments_lexer": "ipython3",
   "version": "3.11.4"
  }
 },
 "nbformat": 4,
 "nbformat_minor": 5
}
