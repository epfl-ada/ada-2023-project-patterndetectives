{
 "cells": [
  {
   "cell_type": "code",
   "execution_count": 2,
   "id": "3f4ac750-e809-4b95-b6a1-d09b1964ef13",
   "metadata": {
    "tags": []
   },
   "outputs": [],
   "source": [
    "import requests\n",
    "from bs4 import BeautifulSoup\n",
    "import re\n",
    "import json"
   ]
  },
  {
   "cell_type": "code",
   "execution_count": 17,
   "id": "8b9de444-d440-4d4f-bf26-975c1cab15f1",
   "metadata": {
    "tags": []
   },
   "outputs": [
    {
     "name": "stdout",
     "output_type": "stream",
     "text": [
      "Response status code: 200\n",
      "\n",
      "Response body: {\"batchcomplete\":\"\",\"warnings\":{\"main\":{\"*\":\"Subscribe to the mediawiki-api-announce mailing list at <https://lists.wikimedia.org/postorius/lists/mediawiki-api-announce.lists.wikimedia.org/> for notice of API deprecations and breaking changes. Use [[Special:ApiFeatureUsage]] to see usage of deprecated features by your application.\"},\"revisions\":{\"*\":\"Because \\\"rvslots\\\" was not specified, a legacy format has been used for the output. This format is deprecated, and in the future the new format will always be used.\"}},\"query\":{\"pages\":{\"29358654\":{\"pageid\":29358654,\"ns\":0,\"title\":\"Not Worth a Fig\",\"revisions\":[{\"contentformat\":\"text/x-wiki\",\"contentmodel\":\"wikitext\",\"*\":\"{{short description|2009 film by Selda \\u00c7i\\u00e7ek}}\\n{{Use dmy dates|date=May 2021}}\\n{{Infobox film\\n| name           = Not Worth a Fig\\n| image          = NotWorthaFigFilmPoster.jpg\\n| alt            = \\n| caption        = Theatrical Poster\\n| director       = [[Selda \\u00c7i\\u00e7ek]]\\n| producer       = [[Mehmet \\u00c7i\\u00e7ek]]\\n| writer         = Selda \\u00c7i\\u00e7ek\\n| narrator       = \\n| starring       = [[\\u00d6zg\\u00fc Namal]] <br> [[Turgay Tan\\u00fclk\\u00fc]] <br> [[Veysel Diker]] <br> [[Bar\\u0131\\u015f \\u00c7akmak]] <br> [[Makbule Akba\\u015f]] <br> [[Derya Durmaz]] <br> [[Onur Dikmen]] <br> [[Burcu Saliho\\u011flu]] <br> [[Emrah D\\u00f6nmez]] <br> [[Halil Yomak]] <br> [[Nalan Ba\\u015faran]] <br> [[Sevin\\u00e7 Erol]] <br> [[Tu\\u011f\\u00e7e \\u015eeno\\u011flu]]\\n| music          = [[\\u00d6zg\\u00fcr Yal\\u00e7\\u0131n]] <br> [[Serkan Alkan]]\\n| cinematography = [[\\u0130lker Berke]]\\n| editing        = [[Emrah D\\u00f6nmez]]\\n| studio         = \\u00c7i\\u00e7ek Film\\n| distributor    = \\u00d6zen Film\\n| released       = {{Film date|2009|11|06|df=y}}\\n| runtime        = 82 mins\\n| country        = Turkey\\n| language       = Turkish\\n| budget         = \\n| gross          = [[US$]]40,366\\n}}\\n'''''Not Worth a Fig''''' ({{lang-tr|\\u0130ncir \\u00c7ekirde\\u011fi}}) is a 2009 Turkish [[drama film]] written and directed by [[Selda \\u00c7i\\u00e7ek]] based on a true story about a woman unhappily married to her late sister's husband. The film, which went on nationwide release on {{start date|2009|11|06}}, was selected for the [[16th London Turkish Film Festival]].\\n\\n== Synopsis ==\\nThe plot focuses on one day in the life of a family and is centred on Heda, who is unhappily married to her late sister's husband. At the same time, Heda's mother Cemile is suffering from ever-deepening depression but no one even notices...or cares a fig.\\n\\n==Release==\\n\\n=== General release ===\\nThe film opened on general release in 20 screens across Turkey on {{start date|2009|11|06}} at number fourteen in the Turkish box office chart with an opening weekend gross of [[US$]]12,554.<ref name=\\\"BOM01\\\">{{cite web |title=Not Worth a Fig |first= |last= |url=https://boxofficemojo.com/movies/intl/?page=&wk=2009W45&id=_fNOTWORTHAFIGINC01 |work=Box Office Mojo |date= |accessdate=2010-09-22 }}</ref>\\n\\n=== Festival screenings ===\\n* [[16th London Turkish Film Festival]] (November 4\\u201318, 2010)<ref name=\\\"LTFFS06\\\">{{cite web |title=Not Worth A Fig / \\u0130ncir \\u00c7ekirde\\u011fi |first= |last= |url=http://www.ltff.org.uk/feature_films/not_worth_a_fig.php |work=LTFF |date= |accessdate=2010-10-25 |archive-url=https://web.archive.org/web/20101024171840/http://www.ltff.org.uk/feature_films/not_worth_a_fig.php |archive-date=2010-10-24 |url-status=dead }}</ref>\\n\\n==See also==\\n* [[2009 in film]]\\n* [[Turkish films of 2009]]\\n\\n==References==\\n{{Reflist}}\\n\\n==External links==\\n* {{IMDb title|1523475|Incir \\u00e7ekirdegi}}\\n\\n[[Category:2009 drama films]]\\n[[Category:2009 films]]\\n[[Category:Films set in Turkey]]\\n[[Category:Turkish drama films]]\\n[[Category:2000s Turkish-language films]]\\n\\n\\n{{drama-film-stub}}\"}]}}}}\n"
     ]
    }
   ],
   "source": [
    "# Make the request\n",
    "pageid = 29358654\n",
    "r = requests.get(f'https://en.wikipedia.org/w/api.php?action=query&prop=revisions&rvprop=content&pageids={pageid}&format=json') \n",
    "\n",
    "print('Response status code: {0}\\n'.format(r.status_code))\n",
    "#print('Response headers: {0}\\n'.format(r.headers))\n",
    "print('Response body: {0}'.format(r.text))"
   ]
  },
  {
   "cell_type": "code",
   "execution_count": 11,
   "id": "8e5fcd7f-7551-40f0-9e83-8db8ef9c8565",
   "metadata": {
    "tags": []
   },
   "outputs": [
    {
     "name": "stdout",
     "output_type": "stream",
     "text": [
      "Unrecognized value for parameter \"format\": html.\n"
     ]
    }
   ],
   "source": [
    "soup = BeautifulSoup(r.text, 'html.parser')\n",
    "# Extract the JSON content from the <pre> tag\n",
    "json_content = soup.find('pre').text\n",
    "\n",
    "# Convert the string to a JSON object\n",
    "data = json.loads(json_content)\n",
    "\n",
    "# Check if there's an error in the response\n",
    "if \"error\" in data:\n",
    "    print(data[\"error\"][\"info\"])"
   ]
  },
  {
   "cell_type": "code",
   "execution_count": 13,
   "id": "120be2ac-cea6-4ebb-b048-e51c1cc17859",
   "metadata": {
    "tags": []
   },
   "outputs": [
    {
     "name": "stdout",
     "output_type": "stream",
     "text": [
      "Director of the movie is: John Carpenter\n"
     ]
    }
   ],
   "source": [
    "data = r.json()\n",
    "\n",
    "# Extract the wikitext content of the page\n",
    "wikitext = data['query']['pages'][str(pageid)]['revisions'][0]['*']\n",
    "match = re.search(r'\\| director\\s*=\\s*\\[\\[([^\\]]+)\\]\\]', wikitext)\n",
    "if match:\n",
    "    director = match.group(1)\n",
    "    print(f\"Director of the movie is: {director}\")\n",
    "else:\n",
    "    print(\"Director not found\")"
   ]
  },
  {
   "cell_type": "code",
   "execution_count": null,
   "id": "31cdbd82-9004-4bde-9f1c-5cf2c9fb3611",
   "metadata": {},
   "outputs": [],
   "source": []
  }
 ],
 "metadata": {
  "kernelspec": {
   "display_name": "Python 3 (ipykernel)",
   "language": "python",
   "name": "python3"
  },
  "language_info": {
   "codemirror_mode": {
    "name": "ipython",
    "version": 3
   },
   "file_extension": ".py",
   "mimetype": "text/x-python",
   "name": "python",
   "nbconvert_exporter": "python",
   "pygments_lexer": "ipython3",
   "version": "3.11.4"
  }
 },
 "nbformat": 4,
 "nbformat_minor": 5
}
