{
 "cells": [
  {
   "cell_type": "code",
   "execution_count": 9,
   "id": "3f4ac750-e809-4b95-b6a1-d09b1964ef13",
   "metadata": {
    "tags": []
   },
   "outputs": [],
   "source": [
    "import requests\n",
    "from bs4 import BeautifulSoup\n",
    "import re\n",
    "import json"
   ]
  },
  {
   "cell_type": "code",
   "execution_count": 14,
   "id": "8b9de444-d440-4d4f-bf26-975c1cab15f1",
   "metadata": {
    "tags": []
   },
   "outputs": [
    {
     "name": "stdout",
     "output_type": "stream",
     "text": [
      "Response status code: 200\n",
      "\n",
      "Response headers: {'date': 'Wed, 01 Nov 2023 18:08:55 GMT', 'server': 'mw1382.eqiad.wmnet', 'x-content-type-options': 'nosniff', 'x-frame-options': 'DENY', 'content-disposition': 'inline; filename=api-result.json', 'vary': 'Accept-Encoding,Treat-as-Untrusted,X-Forwarded-Proto,Cookie', 'cache-control': 'private, must-revalidate, max-age=0', 'content-length': '84', 'content-type': 'application/json; charset=utf-8', 'age': '2', 'x-cache': 'cp6009 miss, cp6014 pass', 'x-cache-status': 'pass', 'server-timing': 'cache;desc=\"pass\", host;desc=\"cp6014\"', 'strict-transport-security': 'max-age=106384710; includeSubDomains; preload', 'report-to': '{ \"group\": \"wm_nel\", \"max_age\": 604800, \"endpoints\": [{ \"url\": \"https://intake-logging.wikimedia.org/v1/events?stream=w3c.reportingapi.network_error&schema_uri=/w3c/reportingapi/network_error/1.0.0\" }] }', 'nel': '{ \"report_to\": \"wm_nel\", \"max_age\": 604800, \"failure_fraction\": 0.05, \"success_fraction\": 0.0}', 'set-cookie': 'WMF-Last-Access=01-Nov-2023;Path=/;HttpOnly;secure;Expires=Sun, 03 Dec 2023 12:00:00 GMT, WMF-Last-Access-Global=01-Nov-2023;Path=/;Domain=.wikipedia.org;HttpOnly;secure;Expires=Sun, 03 Dec 2023 12:00:00 GMT, GeoIP=CH:VD:Lausanne:46.49:6.61:v4; Path=/; secure; Domain=.wikipedia.org, NetworkProbeLimit=0.001;Path=/;Secure;Max-Age=3600', 'x-client-ip': '2001:620:618:588:2:80b3:0:1d9', 'accept-ranges': 'bytes'}\n",
      "\n",
      "Response body: {\"batchcomplete\":\"\",\"query\":{\"pages\":{\"18998739\":{\"pageid\":18998739,\"missing\":\"\"}}}}\n"
     ]
    }
   ],
   "source": [
    "# Make the request\n",
    "pageid = 18998739\n",
    "r = requests.get(f'https://en.wikipedia.org/w/api.php?action=query&prop=revisions&rvprop=content&pageids={pageid}&format=json') \n",
    "\n",
    "print('Response status code: {0}\\n'.format(r.status_code))\n",
    "#print('Response headers: {0}\\n'.format(r.headers))\n",
    "#print('Response body: {0}'.format(r.text))"
   ]
  },
  {
   "cell_type": "code",
   "execution_count": 11,
   "id": "8e5fcd7f-7551-40f0-9e83-8db8ef9c8565",
   "metadata": {
    "tags": []
   },
   "outputs": [
    {
     "name": "stdout",
     "output_type": "stream",
     "text": [
      "Unrecognized value for parameter \"format\": html.\n"
     ]
    }
   ],
   "source": [
    "soup = BeautifulSoup(r.text, 'html.parser')\n",
    "# Extract the JSON content from the <pre> tag\n",
    "json_content = soup.find('pre').text\n",
    "\n",
    "# Convert the string to a JSON object\n",
    "data = json.loads(json_content)\n",
    "\n",
    "# Check if there's an error in the response\n",
    "if \"error\" in data:\n",
    "    print(data[\"error\"][\"info\"])"
   ]
  },
  {
   "cell_type": "code",
   "execution_count": 13,
   "id": "120be2ac-cea6-4ebb-b048-e51c1cc17859",
   "metadata": {
    "tags": []
   },
   "outputs": [
    {
     "name": "stdout",
     "output_type": "stream",
     "text": [
      "Director of the movie is: John Carpenter\n"
     ]
    }
   ],
   "source": [
    "data = r.json()\n",
    "\n",
    "# Extract the wikitext content of the page\n",
    "wikitext = data['query']['pages'][str(pageid)]['revisions'][0]['*']\n",
    "match = re.search(r'\\| director\\s*=\\s*\\[\\[([^\\]]+)\\]\\]', wikitext)\n",
    "if match:\n",
    "    director = match.group(1)\n",
    "    print(f\"Director of the movie is: {director}\")\n",
    "else:\n",
    "    print(\"Director not found\")"
   ]
  },
  {
   "cell_type": "code",
   "execution_count": null,
   "id": "31cdbd82-9004-4bde-9f1c-5cf2c9fb3611",
   "metadata": {},
   "outputs": [],
   "source": []
  }
 ],
 "metadata": {
  "kernelspec": {
   "display_name": "Python 3 (ipykernel)",
   "language": "python",
   "name": "python3"
  },
  "language_info": {
   "codemirror_mode": {
    "name": "ipython",
    "version": 3
   },
   "file_extension": ".py",
   "mimetype": "text/x-python",
   "name": "python",
   "nbconvert_exporter": "python",
   "pygments_lexer": "ipython3",
   "version": "3.11.4"
  }
 },
 "nbformat": 4,
 "nbformat_minor": 5
}
