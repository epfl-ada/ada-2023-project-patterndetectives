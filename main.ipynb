{
 "cells": [
  {
   "cell_type": "code",
   "execution_count": 2,
   "id": "bba8f17b-1f0c-4516-8666-f7d81acddb9b",
   "metadata": {
    "tags": []
   },
   "outputs": [],
   "source": [
    "import pandas as pd\n",
    "import numpy as np\n",
    "import matplotlib.pyplot as plt\n",
    "%matplotlib inline\n",
    "import seaborn as sns\n",
    "import math\n",
    "from statsmodels.stats import diagnostic\n",
    "import statsmodels.stats as st\n",
    "from scipy import stats\n",
    "from itertools import combinations\n",
    "import networkx as nx\n",
    "import statsmodels.api as sm\n",
    "import statsmodels.formula.api as smf\n",
    "from sklearn.linear_model import LinearRegression, LogisticRegression, Ridge\n",
    "from sklearn.ensemble import RandomForestClassifier\n",
    "from sklearn.preprocessing import OneHotEncoder\n",
    "from pandas.plotting import scatter_matrix\n",
    "from sklearn.neighbors import KNeighborsClassifier\n",
    "from sklearn.model_selection import cross_val_predict\n",
    "from sklearn.model_selection import cross_val_score\n",
    "from sklearn.metrics import mean_squared_error, auc, roc_curve\n",
    "import missingno as msno\n",
    "import ast\n",
    "from collections import Counter\n",
    "import statsmodels.regression.recursive_ls as rls\n",
    "import plotly.express as px\n",
    "import plotly.graph_objects as go\n",
    "from plotly.subplots import make_subplots\n",
    "from pyvis.network import Network\n",
    "from director_scrap import director_scrap\n",
    "\n",
    "%load_ext autoreload\n",
    "%autoreload 2"
   ]
  },
  {
   "cell_type": "markdown",
   "id": "10a0840d-aacf-4f8f-bb3d-15c98316dd21",
   "metadata": {},
   "source": [
    "# I - **Database manager**\n",
    "\n",
    "In this section we add and process the imdb database. \\\n",
    "First let us depict some general characteristics of the imdb dataset that will help us undertsand it. \\\n",
    "The imdb database is constituted of 5 different <code>*.tsv</code> files, films and persons (actors, directors...) are represented by a unique alphanumeric string named respectively <code>tconst</code> and  <code>nconst</code>."
   ]
  },
  {
   "cell_type": "markdown",
   "id": "eb8fdddc-d8fb-4cf2-b4bc-795258b09137",
   "metadata": {},
   "source": [
    "### **Crew**\n",
    "\n",
    "**tconst (string)** - alphanumeric unique identifier of the title \\\n",
    "**directors (array of nconsts)** - director(s) of the given title \\\n",
    "**writers (array of nconsts)** – writer(s) of the given title "
   ]
  },
  {
   "cell_type": "code",
   "execution_count": 3,
   "id": "177cb20e-1100-4186-884b-229b0281f1e6",
   "metadata": {
    "tags": []
   },
   "outputs": [
    {
     "ename": "",
     "evalue": "",
     "output_type": "error",
     "traceback": [
      "\u001b[1;31mThe Kernel crashed while executing code in the the current cell or a previous cell. Please review the code in the cell(s) to identify a possible cause of the failure. Click <a href='https://aka.ms/vscodeJupyterKernelCrash'>here</a> for more info. View Jupyter <a href='command:jupyter.viewOutput'>log</a> for further details."
     ]
    }
   ],
   "source": [
    "df_crew = pd.read_table('data/crew.tsv')\n",
    "df_crew.head(1)"
   ]
  },
  {
   "cell_type": "markdown",
   "id": "b33bf1f3-f477-4f00-85d4-550f11b1aa46",
   "metadata": {},
   "source": [
    "We will keep the columns <code>['directors', 'writers']</code>, we think they are important features to determine the success of a movie."
   ]
  },
  {
   "cell_type": "markdown",
   "id": "82d683eb-2f12-48b2-98d0-a0629854ca78",
   "metadata": {},
   "source": [
    "### **Name**\n",
    "\n",
    "**nconst (string)** - alphanumeric unique identifier of the name/person \\\n",
    "**primaryName (string)** – name by which the person is most often credited \\\n",
    "**birthYear** – in YYYY format \\\n",
    "**deathYear** – in YYYY format if applicable, else '\\N' \\\n",
    "**primaryProfession (array of strings)** – the top-3 professions of the person \\\n",
    "**knownForTitles (array of tconsts)** – titles the person is known for "
   ]
  },
  {
   "cell_type": "code",
   "execution_count": null,
   "id": "1aca5e15-5d01-4f7a-8865-a783a7ea7e24",
   "metadata": {
    "tags": []
   },
   "outputs": [
    {
     "data": {
      "text/html": [
       "<div>\n",
       "<style scoped>\n",
       "    .dataframe tbody tr th:only-of-type {\n",
       "        vertical-align: middle;\n",
       "    }\n",
       "\n",
       "    .dataframe tbody tr th {\n",
       "        vertical-align: top;\n",
       "    }\n",
       "\n",
       "    .dataframe thead th {\n",
       "        text-align: right;\n",
       "    }\n",
       "</style>\n",
       "<table border=\"1\" class=\"dataframe\">\n",
       "  <thead>\n",
       "    <tr style=\"text-align: right;\">\n",
       "      <th></th>\n",
       "      <th>nconst</th>\n",
       "      <th>primaryName</th>\n",
       "      <th>birthYear</th>\n",
       "      <th>deathYear</th>\n",
       "      <th>primaryProfession</th>\n",
       "      <th>knownForTitles</th>\n",
       "    </tr>\n",
       "  </thead>\n",
       "  <tbody>\n",
       "    <tr>\n",
       "      <th>0</th>\n",
       "      <td>nm0000001</td>\n",
       "      <td>Fred Astaire</td>\n",
       "      <td>1899</td>\n",
       "      <td>1987</td>\n",
       "      <td>soundtrack,actor,miscellaneous</td>\n",
       "      <td>tt0050419,tt0031983,tt0072308,tt0053137</td>\n",
       "    </tr>\n",
       "  </tbody>\n",
       "</table>\n",
       "</div>"
      ],
      "text/plain": [
       "      nconst   primaryName birthYear deathYear  \\\n",
       "0  nm0000001  Fred Astaire      1899      1987   \n",
       "\n",
       "                primaryProfession                           knownForTitles  \n",
       "0  soundtrack,actor,miscellaneous  tt0050419,tt0031983,tt0072308,tt0053137  "
      ]
     },
     "execution_count": 3,
     "metadata": {},
     "output_type": "execute_result"
    }
   ],
   "source": [
    "df_name = pd.read_table('data/name.tsv')\n",
    "df_name.head(1)"
   ]
  },
  {
   "cell_type": "markdown",
   "id": "bebbaeca-ad76-485a-8dfd-f09bcb4b562d",
   "metadata": {},
   "source": [
    "We will keep the column <code>['primaryName']</code>, we are trying to retrieve the names only (for the directors, writers...)"
   ]
  },
  {
   "cell_type": "markdown",
   "id": "50a309ab-7179-45fd-8899-4bff02947928",
   "metadata": {},
   "source": [
    "### **Title**\n",
    "\n",
    "**tconst (string)** - alphanumeric unique identifier of the title \\\n",
    "**titleType (string)** – the type/format of the title (e.g. movie, short, tvseries, tvepisode, video, etc) \\\n",
    "**primaryTitle (string)** – the more popular title / the title used by the filmmakers on promotional materials at the point of release \\\n",
    "**originalTitle (string)** - original title, in the original language \\\n",
    "**isAdult (boolean)** - 0: non-adult title; 1: adult title \\\n",
    "**startYear (YYYY)** – represents the release year of a title. In the case of TV Series, it is the series start year \\\n",
    "**endYear (YYYY)** – TV Series end year. ‘\\N’ for all other title types \\\n",
    "**runtimeMinutes** – primary runtime of the title, in minutes \\\n",
    "**genres (string array)** – includes up to three genres associated with the title"
   ]
  },
  {
   "cell_type": "code",
   "execution_count": null,
   "id": "74a8fc05-7e93-45f2-a5af-3df3a36a1d63",
   "metadata": {
    "tags": []
   },
   "outputs": [
    {
     "name": "stderr",
     "output_type": "stream",
     "text": [
      "C:\\Users\\Adrien\\AppData\\Local\\Temp\\ipykernel_8356\\2948701235.py:1: DtypeWarning: Columns (4) have mixed types. Specify dtype option on import or set low_memory=False.\n",
      "  df_title = pd.read_table('data/title.tsv')\n"
     ]
    },
    {
     "data": {
      "text/html": [
       "<div>\n",
       "<style scoped>\n",
       "    .dataframe tbody tr th:only-of-type {\n",
       "        vertical-align: middle;\n",
       "    }\n",
       "\n",
       "    .dataframe tbody tr th {\n",
       "        vertical-align: top;\n",
       "    }\n",
       "\n",
       "    .dataframe thead th {\n",
       "        text-align: right;\n",
       "    }\n",
       "</style>\n",
       "<table border=\"1\" class=\"dataframe\">\n",
       "  <thead>\n",
       "    <tr style=\"text-align: right;\">\n",
       "      <th></th>\n",
       "      <th>tconst</th>\n",
       "      <th>titleType</th>\n",
       "      <th>primaryTitle</th>\n",
       "      <th>originalTitle</th>\n",
       "      <th>isAdult</th>\n",
       "      <th>startYear</th>\n",
       "      <th>endYear</th>\n",
       "      <th>runtimeMinutes</th>\n",
       "      <th>genres</th>\n",
       "    </tr>\n",
       "  </thead>\n",
       "  <tbody>\n",
       "    <tr>\n",
       "      <th>0</th>\n",
       "      <td>tt0000001</td>\n",
       "      <td>short</td>\n",
       "      <td>Carmencita</td>\n",
       "      <td>Carmencita</td>\n",
       "      <td>0</td>\n",
       "      <td>1894</td>\n",
       "      <td>\\N</td>\n",
       "      <td>1</td>\n",
       "      <td>Documentary,Short</td>\n",
       "    </tr>\n",
       "  </tbody>\n",
       "</table>\n",
       "</div>"
      ],
      "text/plain": [
       "      tconst titleType primaryTitle originalTitle isAdult startYear endYear  \\\n",
       "0  tt0000001     short   Carmencita    Carmencita       0      1894      \\N   \n",
       "\n",
       "  runtimeMinutes             genres  \n",
       "0              1  Documentary,Short  "
      ]
     },
     "execution_count": 4,
     "metadata": {},
     "output_type": "execute_result"
    }
   ],
   "source": [
    "df_title = pd.read_table('data/title.tsv')\n",
    "df_title.head(1)"
   ]
  },
  {
   "cell_type": "markdown",
   "id": "03b3b396-00ae-451f-8d8e-66b3de85789e",
   "metadata": {},
   "source": [
    "We will keep the column <code>['primaryTitle', 'startYear']</code>, we want the name of the movie so we can merge it on our primary database. We also keep the release year beacuse two movies with the same title might have been released at different years (remaster), without it we cannot differentiate them."
   ]
  },
  {
   "cell_type": "markdown",
   "id": "2192c5f2-2466-433a-9dc3-fbcd497e9c4c",
   "metadata": {},
   "source": [
    "### **Rating**\n",
    "\n",
    "**tconst (string)** - alphanumeric unique identifier of the title \\\n",
    "**averageRating** – weighted average of all the individual user ratings \\\n",
    "**numVotes** - number of votes the title has received"
   ]
  },
  {
   "cell_type": "code",
   "execution_count": null,
   "id": "61239d14-4436-43d5-b9da-65e88a3b9ce6",
   "metadata": {
    "tags": []
   },
   "outputs": [
    {
     "data": {
      "text/html": [
       "<div>\n",
       "<style scoped>\n",
       "    .dataframe tbody tr th:only-of-type {\n",
       "        vertical-align: middle;\n",
       "    }\n",
       "\n",
       "    .dataframe tbody tr th {\n",
       "        vertical-align: top;\n",
       "    }\n",
       "\n",
       "    .dataframe thead th {\n",
       "        text-align: right;\n",
       "    }\n",
       "</style>\n",
       "<table border=\"1\" class=\"dataframe\">\n",
       "  <thead>\n",
       "    <tr style=\"text-align: right;\">\n",
       "      <th></th>\n",
       "      <th>tconst</th>\n",
       "      <th>averageRating</th>\n",
       "      <th>numVotes</th>\n",
       "    </tr>\n",
       "  </thead>\n",
       "  <tbody>\n",
       "    <tr>\n",
       "      <th>0</th>\n",
       "      <td>tt0000001</td>\n",
       "      <td>5.7</td>\n",
       "      <td>2007</td>\n",
       "    </tr>\n",
       "  </tbody>\n",
       "</table>\n",
       "</div>"
      ],
      "text/plain": [
       "      tconst  averageRating  numVotes\n",
       "0  tt0000001            5.7      2007"
      ]
     },
     "execution_count": 5,
     "metadata": {},
     "output_type": "execute_result"
    }
   ],
   "source": [
    "df_rating = pd.read_table('data/imdb_rating.tsv')\n",
    "df_rating.head(1)"
   ]
  },
  {
   "cell_type": "markdown",
   "id": "42893dbc-ff65-4a63-8e74-e4cde7222946",
   "metadata": {},
   "source": [
    "We will keep the column <code>['averageRating']</code>, doing analysis on the rating instead of the revenue only might give us more insight on how to determine a succesful movie."
   ]
  },
  {
   "cell_type": "markdown",
   "id": "ae2d3331-c514-4d01-8b28-1051d3bcc64f",
   "metadata": {},
   "source": [
    "### **Principals**\n",
    "\n",
    "**tconst (string)** - alphanumeric unique identifier of the title \\\n",
    "**ordering (integer)** – a number to uniquely identify rows for a given titleId \\\n",
    "**nconst (string)** - alphanumeric unique identifier of the name/person \\\n",
    "**category (string)** - the category of job that person was in \\\n",
    "**job (string)** - the specific job title if applicable, else '\\N' \\\n",
    "**characters (string)** - the name of the character played if applicable, else '\\N'"
   ]
  },
  {
   "cell_type": "code",
   "execution_count": null,
   "id": "d2b90fc2-9ed1-4b0b-98bd-c961f12321f1",
   "metadata": {
    "tags": []
   },
   "outputs": [
    {
     "data": {
      "text/html": [
       "<div>\n",
       "<style scoped>\n",
       "    .dataframe tbody tr th:only-of-type {\n",
       "        vertical-align: middle;\n",
       "    }\n",
       "\n",
       "    .dataframe tbody tr th {\n",
       "        vertical-align: top;\n",
       "    }\n",
       "\n",
       "    .dataframe thead th {\n",
       "        text-align: right;\n",
       "    }\n",
       "</style>\n",
       "<table border=\"1\" class=\"dataframe\">\n",
       "  <thead>\n",
       "    <tr style=\"text-align: right;\">\n",
       "      <th></th>\n",
       "      <th>tconst</th>\n",
       "      <th>ordering</th>\n",
       "      <th>nconst</th>\n",
       "      <th>category</th>\n",
       "      <th>job</th>\n",
       "      <th>characters</th>\n",
       "    </tr>\n",
       "  </thead>\n",
       "  <tbody>\n",
       "    <tr>\n",
       "      <th>0</th>\n",
       "      <td>tt0000001</td>\n",
       "      <td>1</td>\n",
       "      <td>nm1588970</td>\n",
       "      <td>self</td>\n",
       "      <td>\\N</td>\n",
       "      <td>[\"Self\"]</td>\n",
       "    </tr>\n",
       "  </tbody>\n",
       "</table>\n",
       "</div>"
      ],
      "text/plain": [
       "      tconst  ordering     nconst category job characters\n",
       "0  tt0000001         1  nm1588970     self  \\N   [\"Self\"]"
      ]
     },
     "execution_count": 6,
     "metadata": {},
     "output_type": "execute_result"
    }
   ],
   "source": [
    "df_principals = pd.read_table('data/principals.tsv')\n",
    "df_principals.head(1)"
   ]
  },
  {
   "cell_type": "markdown",
   "id": "0430e22a-7756-45f5-a657-9c468bcce6cb",
   "metadata": {},
   "source": [
    "For simplicity, we will only keep the producers and composers. We could add more later but we think it is better for a first analysis. In the same spirit, we only keep one person per role : if there is multiple producers we will keep only one of them at random."
   ]
  },
  {
   "cell_type": "markdown",
   "id": "cd5ca71e-51b4-4d2e-a05d-0a0e0cd989fa",
   "metadata": {},
   "source": [
    "## **Merging the imdb databases**\n",
    "\n",
    "Here we will merge the databases loaded above"
   ]
  },
  {
   "cell_type": "code",
   "execution_count": null,
   "id": "7377f649-ee55-44df-9cb7-631fe9760662",
   "metadata": {
    "tags": []
   },
   "outputs": [
    {
     "data": {
      "text/html": [
       "<div>\n",
       "<style scoped>\n",
       "    .dataframe tbody tr th:only-of-type {\n",
       "        vertical-align: middle;\n",
       "    }\n",
       "\n",
       "    .dataframe tbody tr th {\n",
       "        vertical-align: top;\n",
       "    }\n",
       "\n",
       "    .dataframe thead th {\n",
       "        text-align: right;\n",
       "    }\n",
       "</style>\n",
       "<table border=\"1\" class=\"dataframe\">\n",
       "  <thead>\n",
       "    <tr style=\"text-align: right;\">\n",
       "      <th></th>\n",
       "      <th>tconst</th>\n",
       "      <th>Producer</th>\n",
       "      <th>Composer</th>\n",
       "    </tr>\n",
       "  </thead>\n",
       "  <tbody>\n",
       "    <tr>\n",
       "      <th>0</th>\n",
       "      <td>tt0000003</td>\n",
       "      <td>Julien Pappé</td>\n",
       "      <td>Gaston Paulin</td>\n",
       "    </tr>\n",
       "  </tbody>\n",
       "</table>\n",
       "</div>"
      ],
      "text/plain": [
       "      tconst      Producer       Composer\n",
       "0  tt0000003  Julien Pappé  Gaston Paulin"
      ]
     },
     "execution_count": 7,
     "metadata": {},
     "output_type": "execute_result"
    }
   ],
   "source": [
    "#Drop useless informations\n",
    "df_p = df_principals.drop(['job', 'characters', 'ordering'], axis=1)\n",
    "\n",
    "#Keep only one person per role\n",
    "df_p_drop = df_p.drop_duplicates(subset=['tconst', 'category'])\n",
    "\n",
    "#Pivot the dataframe so we have the each role in column format for a given movie\n",
    "df_pp = df_p_drop.pivot(index='tconst', columns='category', values='nconst').reset_index()\n",
    "\n",
    "#Keep only composer and producer\n",
    "df_roles = df_pp[['tconst', 'composer', 'producer']]\n",
    "\n",
    "#Retrieve the names for the roles via the 'Name' database\n",
    "df_co = df_roles.merge(df_name, left_on='composer', right_on='nconst', how='inner')\n",
    "df_co = df_co[['tconst', 'producer', 'primaryName']].rename(columns={'primaryName': 'Composer'})\n",
    "df_prod = df_co.merge(df_name, left_on='producer', right_on='nconst', how='inner')\n",
    "df_prod = df_prod[['tconst', 'primaryName', 'Composer']].rename(columns={'primaryName': 'Producer'})\n",
    "\n",
    "#Print the result\n",
    "df_prod.head(1)"
   ]
  },
  {
   "cell_type": "code",
   "execution_count": null,
   "id": "134d241a-6016-42b2-aa7c-c32c0c3a1cb3",
   "metadata": {
    "tags": []
   },
   "outputs": [
    {
     "data": {
      "text/html": [
       "<div>\n",
       "<style scoped>\n",
       "    .dataframe tbody tr th:only-of-type {\n",
       "        vertical-align: middle;\n",
       "    }\n",
       "\n",
       "    .dataframe tbody tr th {\n",
       "        vertical-align: top;\n",
       "    }\n",
       "\n",
       "    .dataframe thead th {\n",
       "        text-align: right;\n",
       "    }\n",
       "</style>\n",
       "<table border=\"1\" class=\"dataframe\">\n",
       "  <thead>\n",
       "    <tr style=\"text-align: right;\">\n",
       "      <th></th>\n",
       "      <th>tconst</th>\n",
       "      <th>directors</th>\n",
       "      <th>writers</th>\n",
       "      <th>averageRating</th>\n",
       "      <th>primaryTitle</th>\n",
       "      <th>startYear</th>\n",
       "      <th>Producer</th>\n",
       "      <th>Composer</th>\n",
       "      <th>nconst_x</th>\n",
       "      <th>primaryName_x</th>\n",
       "      <th>nconst_y</th>\n",
       "      <th>primaryName_y</th>\n",
       "    </tr>\n",
       "  </thead>\n",
       "  <tbody>\n",
       "    <tr>\n",
       "      <th>0</th>\n",
       "      <td>tt0000001</td>\n",
       "      <td>nm0005690</td>\n",
       "      <td>\\N</td>\n",
       "      <td>5.7</td>\n",
       "      <td>Carmencita</td>\n",
       "      <td>1894</td>\n",
       "      <td>NaN</td>\n",
       "      <td>NaN</td>\n",
       "      <td>nm0005690</td>\n",
       "      <td>William K.L. Dickson</td>\n",
       "      <td>NaN</td>\n",
       "      <td>NaN</td>\n",
       "    </tr>\n",
       "  </tbody>\n",
       "</table>\n",
       "</div>"
      ],
      "text/plain": [
       "      tconst  directors writers  averageRating primaryTitle startYear  \\\n",
       "0  tt0000001  nm0005690      \\N            5.7   Carmencita      1894   \n",
       "\n",
       "  Producer Composer   nconst_x         primaryName_x nconst_y primaryName_y  \n",
       "0      NaN      NaN  nm0005690  William K.L. Dickson      NaN           NaN  "
      ]
     },
     "execution_count": 8,
     "metadata": {},
     "output_type": "execute_result"
    }
   ],
   "source": [
    "#Associate movie rating with crew\n",
    "df_crew_rating = df_crew.merge(df_rating, how='inner', on='tconst')\n",
    "df_cr = df_crew_rating.drop(['numVotes'], axis=1)\n",
    "\n",
    "#Associate the name of the movie to the rest\n",
    "df_cr_title = df_cr.merge(df_title[['tconst', 'primaryTitle', 'startYear']], how='inner', on='tconst')\n",
    "\n",
    "#Add the composer and producer\n",
    "df_t = df_cr_title.merge(df_prod, on='tconst', how='left')\n",
    "\n",
    "#Add the director\n",
    "df_crt_dir = df_t.merge(df_name[['nconst', 'primaryName']], left_on='directors', right_on='nconst', how='inner')\n",
    "\n",
    "#Add the writer\n",
    "df_fin = df_crt_dir.merge(df_name[['nconst', 'primaryName']], left_on='writers', right_on='nconst', how='left')\n",
    "\n",
    "df_fin.head(1)"
   ]
  },
  {
   "cell_type": "markdown",
   "id": "4805015a-d3e8-4d53-8622-a8700e4e5832",
   "metadata": {},
   "source": [
    "## **Clean the database**\n",
    "\n",
    "We simply will drop duplicates, drop some columns and rename some others to have a very clean tool to work with !"
   ]
  },
  {
   "cell_type": "code",
   "execution_count": null,
   "id": "7e8f97e3-bd78-445d-b739-544a2cf1a4ed",
   "metadata": {
    "tags": []
   },
   "outputs": [
    {
     "name": "stderr",
     "output_type": "stream",
     "text": [
      "C:\\Users\\Adrien\\AppData\\Local\\Temp\\ipykernel_8356\\2590597767.py:17: SettingWithCopyWarning:\n",
      "\n",
      "\n",
      "A value is trying to be set on a copy of a slice from a DataFrame\n",
      "\n",
      "See the caveats in the documentation: https://pandas.pydata.org/pandas-docs/stable/user_guide/indexing.html#returning-a-view-versus-a-copy\n",
      "\n",
      "C:\\Users\\Adrien\\AppData\\Local\\Temp\\ipykernel_8356\\2590597767.py:18: SettingWithCopyWarning:\n",
      "\n",
      "\n",
      "A value is trying to be set on a copy of a slice from a DataFrame.\n",
      "Try using .loc[row_indexer,col_indexer] = value instead\n",
      "\n",
      "See the caveats in the documentation: https://pandas.pydata.org/pandas-docs/stable/user_guide/indexing.html#returning-a-view-versus-a-copy\n",
      "\n"
     ]
    },
    {
     "data": {
      "text/html": [
       "<div>\n",
       "<style scoped>\n",
       "    .dataframe tbody tr th:only-of-type {\n",
       "        vertical-align: middle;\n",
       "    }\n",
       "\n",
       "    .dataframe tbody tr th {\n",
       "        vertical-align: top;\n",
       "    }\n",
       "\n",
       "    .dataframe thead th {\n",
       "        text-align: right;\n",
       "    }\n",
       "</style>\n",
       "<table border=\"1\" class=\"dataframe\">\n",
       "  <thead>\n",
       "    <tr style=\"text-align: right;\">\n",
       "      <th></th>\n",
       "      <th>Movie_rating</th>\n",
       "      <th>Movie_name</th>\n",
       "      <th>Movie_release</th>\n",
       "      <th>Producer</th>\n",
       "      <th>Composer</th>\n",
       "      <th>Director</th>\n",
       "      <th>Writer</th>\n",
       "    </tr>\n",
       "  </thead>\n",
       "  <tbody>\n",
       "    <tr>\n",
       "      <th>0</th>\n",
       "      <td>5.7</td>\n",
       "      <td>Carmencita</td>\n",
       "      <td>1894.0</td>\n",
       "      <td>NaN</td>\n",
       "      <td>NaN</td>\n",
       "      <td>William K.L. Dickson</td>\n",
       "      <td>NaN</td>\n",
       "    </tr>\n",
       "  </tbody>\n",
       "</table>\n",
       "</div>"
      ],
      "text/plain": [
       "   Movie_rating  Movie_name  Movie_release Producer Composer  \\\n",
       "0           5.7  Carmencita         1894.0      NaN      NaN   \n",
       "\n",
       "               Director Writer  \n",
       "0  William K.L. Dickson    NaN  "
      ]
     },
     "execution_count": 32,
     "metadata": {},
     "output_type": "execute_result"
    }
   ],
   "source": [
    "#Drop useless columns\n",
    "df_dropped = df_fin.drop(['tconst', 'directors', 'writers', 'nconst_x', 'nconst_y'], axis=1)\n",
    "\n",
    "#Rename columns\n",
    "df_renamed = df_dropped.rename(columns={\"primaryName_x\": \"Director\", \n",
    "                                       \"primaryName_y\": \"Writer\", \n",
    "                                       \"averageRating\": \"Movie_rating\",\n",
    "                                        \"startYear\": \"Movie_release\",\n",
    "                                       \"primaryTitle\": \"Movie_name\"})\n",
    "#Remove general duplicates\n",
    "df_no_gen_dup = df_renamed.drop_duplicates()\n",
    "\n",
    "#Remove duplicate movies\n",
    "df_imdb = df_no_gen_dup.drop_duplicates(subset=['Movie_name', 'Movie_release'])\n",
    "\n",
    "#Format NaN values and convert release year to float\n",
    "df_imdb['Movie_release'].replace('\\\\N', np.nan, inplace=True)\n",
    "df_imdb['Movie_release'] = df_imdb['Movie_release'].astype(float)\n",
    "\n",
    "#Print the imdb database\n",
    "df_imdb.head(1)"
   ]
  },
  {
   "cell_type": "markdown",
   "id": "1fdbb6bf-4e3f-462c-a829-da2e8046c5fb",
   "metadata": {},
   "source": [
    "# II - **Analysis**\n",
    "\n",
    "Now we will do some analysis with our main data given by the CMU movie corpus"
   ]
  },
  {
   "cell_type": "code",
   "execution_count": null,
   "id": "0a9ddd24-437b-4b4d-bd00-fc571ffd326f",
   "metadata": {
    "tags": []
   },
   "outputs": [
    {
     "data": {
      "text/html": [
       "<div>\n",
       "<style scoped>\n",
       "    .dataframe tbody tr th:only-of-type {\n",
       "        vertical-align: middle;\n",
       "    }\n",
       "\n",
       "    .dataframe tbody tr th {\n",
       "        vertical-align: top;\n",
       "    }\n",
       "\n",
       "    .dataframe thead th {\n",
       "        text-align: right;\n",
       "    }\n",
       "</style>\n",
       "<table border=\"1\" class=\"dataframe\">\n",
       "  <thead>\n",
       "    <tr style=\"text-align: right;\">\n",
       "      <th></th>\n",
       "      <th>Wiki_ID</th>\n",
       "      <th>Freebase_ID</th>\n",
       "      <th>Movie_name</th>\n",
       "      <th>Movie_release</th>\n",
       "      <th>Movie_revenue</th>\n",
       "      <th>Movie_runtime</th>\n",
       "      <th>Movie_languages</th>\n",
       "      <th>Movie_countries</th>\n",
       "      <th>Movie_genres</th>\n",
       "    </tr>\n",
       "  </thead>\n",
       "  <tbody>\n",
       "    <tr>\n",
       "      <th>0</th>\n",
       "      <td>975900</td>\n",
       "      <td>/m/03vyhn</td>\n",
       "      <td>Ghosts of Mars</td>\n",
       "      <td>2001-08-24</td>\n",
       "      <td>14010832.0</td>\n",
       "      <td>98.0</td>\n",
       "      <td>{\"/m/02h40lc\": \"English Language\"}</td>\n",
       "      <td>{\"/m/09c7w0\": \"United States of America\"}</td>\n",
       "      <td>{\"/m/01jfsb\": \"Thriller\", \"/m/06n90\": \"Science...</td>\n",
       "    </tr>\n",
       "  </tbody>\n",
       "</table>\n",
       "</div>"
      ],
      "text/plain": [
       "   Wiki_ID Freebase_ID      Movie_name Movie_release  Movie_revenue  \\\n",
       "0   975900   /m/03vyhn  Ghosts of Mars    2001-08-24     14010832.0   \n",
       "\n",
       "   Movie_runtime                     Movie_languages  \\\n",
       "0           98.0  {\"/m/02h40lc\": \"English Language\"}   \n",
       "\n",
       "                             Movie_countries  \\\n",
       "0  {\"/m/09c7w0\": \"United States of America\"}   \n",
       "\n",
       "                                        Movie_genres  \n",
       "0  {\"/m/01jfsb\": \"Thriller\", \"/m/06n90\": \"Science...  "
      ]
     },
     "execution_count": 33,
     "metadata": {},
     "output_type": "execute_result"
    }
   ],
   "source": [
    "# Metadata for 81,741 movies, extracted from the Noverber 4, 2012 dump of Freebase.  Tab-separated; columns:\n",
    "\n",
    "# 1. Wikipedia movie ID\n",
    "# 2. Freebase movie ID\n",
    "# 3. Movie name\n",
    "# 4. Movie release date\n",
    "# 5. Movie box office revenue\n",
    "# 6. Movie runtime\n",
    "# 7. Movie languages (Freebase ID:name tuples)\n",
    "# 8. Movie countries (Freebase ID:name tuples)\n",
    "# 9. Movie genres (Freebase ID:name tuples)\n",
    "\n",
    "columns_mov = ['Wiki_ID', 'Freebase_ID', 'Movie_name', 'Movie_release', 'Movie_revenue', 'Movie_runtime', \n",
    "               'Movie_languages', 'Movie_countries', 'Movie_genres']\n",
    "df_mov = pd.read_table('data/movie.metadata.tsv', header=None, names=columns_mov)\n",
    "df_mov.head(1)"
   ]
  },
  {
   "cell_type": "code",
   "execution_count": null,
   "id": "c07328c9-9b04-4a2e-924c-2bb5b72bc733",
   "metadata": {
    "tags": []
   },
   "outputs": [
    {
     "data": {
      "text/html": [
       "<div>\n",
       "<style scoped>\n",
       "    .dataframe tbody tr th:only-of-type {\n",
       "        vertical-align: middle;\n",
       "    }\n",
       "\n",
       "    .dataframe tbody tr th {\n",
       "        vertical-align: top;\n",
       "    }\n",
       "\n",
       "    .dataframe thead th {\n",
       "        text-align: right;\n",
       "    }\n",
       "</style>\n",
       "<table border=\"1\" class=\"dataframe\">\n",
       "  <thead>\n",
       "    <tr style=\"text-align: right;\">\n",
       "      <th></th>\n",
       "      <th>Wiki_ID</th>\n",
       "      <th>Freebase_ID</th>\n",
       "      <th>Movie_release</th>\n",
       "      <th>Char_name</th>\n",
       "      <th>Actor_birth</th>\n",
       "      <th>Actor_gender</th>\n",
       "      <th>Actor_height</th>\n",
       "      <th>Actor_ethnicity</th>\n",
       "      <th>Actor_name</th>\n",
       "      <th>Actor_age_release</th>\n",
       "      <th>Char/Actor_map</th>\n",
       "      <th>Char_ID</th>\n",
       "      <th>Actor_ID</th>\n",
       "    </tr>\n",
       "  </thead>\n",
       "  <tbody>\n",
       "    <tr>\n",
       "      <th>0</th>\n",
       "      <td>975900</td>\n",
       "      <td>/m/03vyhn</td>\n",
       "      <td>2001-08-24</td>\n",
       "      <td>Akooshay</td>\n",
       "      <td>1958-08-26</td>\n",
       "      <td>F</td>\n",
       "      <td>1.62</td>\n",
       "      <td>NaN</td>\n",
       "      <td>Wanda De Jesus</td>\n",
       "      <td>42.0</td>\n",
       "      <td>/m/0bgchxw</td>\n",
       "      <td>/m/0bgcj3x</td>\n",
       "      <td>/m/03wcfv7</td>\n",
       "    </tr>\n",
       "  </tbody>\n",
       "</table>\n",
       "</div>"
      ],
      "text/plain": [
       "   Wiki_ID Freebase_ID Movie_release Char_name Actor_birth Actor_gender  \\\n",
       "0   975900   /m/03vyhn    2001-08-24  Akooshay  1958-08-26            F   \n",
       "\n",
       "   Actor_height Actor_ethnicity      Actor_name  Actor_age_release  \\\n",
       "0          1.62             NaN  Wanda De Jesus               42.0   \n",
       "\n",
       "  Char/Actor_map     Char_ID    Actor_ID  \n",
       "0     /m/0bgchxw  /m/0bgcj3x  /m/03wcfv7  "
      ]
     },
     "execution_count": 34,
     "metadata": {},
     "output_type": "execute_result"
    }
   ],
   "source": [
    "# Metadata for 450,669 characters aligned to the movies above, extracted from the Noverber 4, 2012 dump of Freebase.  Tab-separated; columns:\n",
    "\n",
    "# 1. Wikipedia movie ID\n",
    "# 2. Freebase movie ID\n",
    "# 3. Movie release date\n",
    "# 4. Character name\n",
    "# 5. Actor date of birth\n",
    "# 6. Actor gender\n",
    "# 7. Actor height (in meters)\n",
    "# 8. Actor ethnicity (Freebase ID)\n",
    "# 9. Actor name\n",
    "# 10. Actor age at movie release\n",
    "# 11. Freebase character/actor map ID\n",
    "# 12. Freebase character ID\n",
    "# 13. Freebase actor ID\n",
    "\n",
    "columns_char = ['Wiki_ID', 'Freebase_ID', 'Movie_release', 'Char_name', 'Actor_birth', 'Actor_gender', \n",
    "               'Actor_height', 'Actor_ethnicity', 'Actor_name', 'Actor_age_release', 'Char/Actor_map', \n",
    "               'Char_ID', 'Actor_ID']\n",
    "df_char = pd.read_table('data/character.metadata.tsv', header=None, names=columns_char)\n",
    "df_char.head(1)"
   ]
  },
  {
   "cell_type": "code",
   "execution_count": null,
   "id": "9bd28e92-88e5-4b21-b43d-785fb1079854",
   "metadata": {
    "tags": []
   },
   "outputs": [],
   "source": [
    "#ANOMALY FOUND IN THE DATABASE, MOVIE RELEASE IN 1010-12-02\n",
    "df_mo22 = df_mov[df_mov[\"Movie_name\"] == \"Hunting Season\"]\n",
    "# Correction\n",
    "df_mov.loc[df_mov[\"Movie_name\"] == \"Hunting Season\", \"Movie_release\"] = \"2010-12-02\""
   ]
  },
  {
   "cell_type": "markdown",
   "id": "76ff8edf-f417-4bb2-87a0-c45d3d27608c",
   "metadata": {},
   "source": [
    "## **1. Processing of the data**\n",
    "\n",
    "### **1.1 Character data**\n",
    "\n",
    "First, we clean the data, and use some predictors to replace the missing values.\n",
    "\n",
    "We directly notice that our data is full of missing values, for the proportion of lines that we see above. So we will try to count how many of them they are, in order to take measure for them."
   ]
  },
  {
   "cell_type": "code",
   "execution_count": null,
   "id": "7498d26a-b88f-40bc-9cba-6552cba3fcdc",
   "metadata": {
    "tags": []
   },
   "outputs": [
    {
     "data": {
      "text/plain": [
       "Wiki_ID                   0\n",
       "Freebase_ID               0\n",
       "Movie_release          9995\n",
       "Char_name            257875\n",
       "Actor_birth          106145\n",
       "Actor_gender          45609\n",
       "Actor_height         295845\n",
       "Actor_ethnicity      344611\n",
       "Actor_name             1228\n",
       "Actor_age_release    158113\n",
       "Char/Actor_map            0\n",
       "Char_ID              257865\n",
       "Actor_ID                815\n",
       "dtype: int64"
      ]
     },
     "execution_count": 36,
     "metadata": {},
     "output_type": "execute_result"
    }
   ],
   "source": [
    "df_char.isnull().sum()"
   ]
  },
  {
   "cell_type": "markdown",
   "id": "1918b3b4-542f-42c6-adea-8559305a4ac8",
   "metadata": {},
   "source": [
    "We see that our data is incomplete, especially for the actors' ethnicities and birth dates. The percentage of missing data is pretty high so we have to be careful with our analysis around certain features."
   ]
  },
  {
   "cell_type": "code",
   "execution_count": null,
   "id": "a480d8a7-4bd7-43d7-8ab2-a1f1bef81928",
   "metadata": {
    "tags": []
   },
   "outputs": [
    {
     "data": {
      "application/vnd.plotly.v1+json": {
       "config": {
        "plotlyServerURL": "https://plot.ly"
       },
       "data": [
        {
         "alignmentgroup": "True",
         "hovertemplate": "Column=%{x}<br>Missing Percentage=%{marker.color}<extra></extra>",
         "legendgroup": "",
         "marker": {
          "color": [
           76.47,
           65.65,
           57.22,
           57.22,
           35.08,
           23.55,
           10.12,
           2.22,
           0.27,
           0.18,
           0,
           0,
           0
          ],
          "coloraxis": "coloraxis",
          "pattern": {
           "shape": ""
          }
         },
         "name": "",
         "offsetgroup": "",
         "orientation": "v",
         "showlegend": false,
         "textposition": "auto",
         "type": "bar",
         "x": [
          "Actor_ethnicity",
          "Actor_height",
          "Char_name",
          "Char_ID",
          "Actor_age_release",
          "Actor_birth",
          "Actor_gender",
          "Movie_release",
          "Actor_name",
          "Actor_ID",
          "Wiki_ID",
          "Freebase_ID",
          "Char/Actor_map"
         ],
         "xaxis": "x",
         "y": [
          76.47,
          65.65,
          57.22,
          57.22,
          35.08,
          23.55,
          10.12,
          2.22,
          0.27,
          0.18,
          0,
          0,
          0
         ],
         "yaxis": "y"
        }
       ],
       "layout": {
        "barmode": "relative",
        "coloraxis": {
         "cmax": 100,
         "cmin": 0,
         "colorbar": {
          "title": {
           "text": "Missing Percentage"
          }
         },
         "colorscale": [
          [
           0,
           "rgb(0,104,55)"
          ],
          [
           0.1,
           "rgb(26,152,80)"
          ],
          [
           0.2,
           "rgb(102,189,99)"
          ],
          [
           0.3,
           "rgb(166,217,106)"
          ],
          [
           0.4,
           "rgb(217,239,139)"
          ],
          [
           0.5,
           "rgb(255,255,191)"
          ],
          [
           0.6,
           "rgb(254,224,139)"
          ],
          [
           0.7,
           "rgb(253,174,97)"
          ],
          [
           0.8,
           "rgb(244,109,67)"
          ],
          [
           0.9,
           "rgb(215,48,39)"
          ],
          [
           1,
           "rgb(165,0,38)"
          ]
         ]
        },
        "legend": {
         "tracegroupgap": 0
        },
        "template": {
         "data": {
          "bar": [
           {
            "error_x": {
             "color": "#2a3f5f"
            },
            "error_y": {
             "color": "#2a3f5f"
            },
            "marker": {
             "line": {
              "color": "#E5ECF6",
              "width": 0.5
             },
             "pattern": {
              "fillmode": "overlay",
              "size": 10,
              "solidity": 0.2
             }
            },
            "type": "bar"
           }
          ],
          "barpolar": [
           {
            "marker": {
             "line": {
              "color": "#E5ECF6",
              "width": 0.5
             },
             "pattern": {
              "fillmode": "overlay",
              "size": 10,
              "solidity": 0.2
             }
            },
            "type": "barpolar"
           }
          ],
          "carpet": [
           {
            "aaxis": {
             "endlinecolor": "#2a3f5f",
             "gridcolor": "white",
             "linecolor": "white",
             "minorgridcolor": "white",
             "startlinecolor": "#2a3f5f"
            },
            "baxis": {
             "endlinecolor": "#2a3f5f",
             "gridcolor": "white",
             "linecolor": "white",
             "minorgridcolor": "white",
             "startlinecolor": "#2a3f5f"
            },
            "type": "carpet"
           }
          ],
          "choropleth": [
           {
            "colorbar": {
             "outlinewidth": 0,
             "ticks": ""
            },
            "type": "choropleth"
           }
          ],
          "contour": [
           {
            "colorbar": {
             "outlinewidth": 0,
             "ticks": ""
            },
            "colorscale": [
             [
              0,
              "#0d0887"
             ],
             [
              0.1111111111111111,
              "#46039f"
             ],
             [
              0.2222222222222222,
              "#7201a8"
             ],
             [
              0.3333333333333333,
              "#9c179e"
             ],
             [
              0.4444444444444444,
              "#bd3786"
             ],
             [
              0.5555555555555556,
              "#d8576b"
             ],
             [
              0.6666666666666666,
              "#ed7953"
             ],
             [
              0.7777777777777778,
              "#fb9f3a"
             ],
             [
              0.8888888888888888,
              "#fdca26"
             ],
             [
              1,
              "#f0f921"
             ]
            ],
            "type": "contour"
           }
          ],
          "contourcarpet": [
           {
            "colorbar": {
             "outlinewidth": 0,
             "ticks": ""
            },
            "type": "contourcarpet"
           }
          ],
          "heatmap": [
           {
            "colorbar": {
             "outlinewidth": 0,
             "ticks": ""
            },
            "colorscale": [
             [
              0,
              "#0d0887"
             ],
             [
              0.1111111111111111,
              "#46039f"
             ],
             [
              0.2222222222222222,
              "#7201a8"
             ],
             [
              0.3333333333333333,
              "#9c179e"
             ],
             [
              0.4444444444444444,
              "#bd3786"
             ],
             [
              0.5555555555555556,
              "#d8576b"
             ],
             [
              0.6666666666666666,
              "#ed7953"
             ],
             [
              0.7777777777777778,
              "#fb9f3a"
             ],
             [
              0.8888888888888888,
              "#fdca26"
             ],
             [
              1,
              "#f0f921"
             ]
            ],
            "type": "heatmap"
           }
          ],
          "heatmapgl": [
           {
            "colorbar": {
             "outlinewidth": 0,
             "ticks": ""
            },
            "colorscale": [
             [
              0,
              "#0d0887"
             ],
             [
              0.1111111111111111,
              "#46039f"
             ],
             [
              0.2222222222222222,
              "#7201a8"
             ],
             [
              0.3333333333333333,
              "#9c179e"
             ],
             [
              0.4444444444444444,
              "#bd3786"
             ],
             [
              0.5555555555555556,
              "#d8576b"
             ],
             [
              0.6666666666666666,
              "#ed7953"
             ],
             [
              0.7777777777777778,
              "#fb9f3a"
             ],
             [
              0.8888888888888888,
              "#fdca26"
             ],
             [
              1,
              "#f0f921"
             ]
            ],
            "type": "heatmapgl"
           }
          ],
          "histogram": [
           {
            "marker": {
             "pattern": {
              "fillmode": "overlay",
              "size": 10,
              "solidity": 0.2
             }
            },
            "type": "histogram"
           }
          ],
          "histogram2d": [
           {
            "colorbar": {
             "outlinewidth": 0,
             "ticks": ""
            },
            "colorscale": [
             [
              0,
              "#0d0887"
             ],
             [
              0.1111111111111111,
              "#46039f"
             ],
             [
              0.2222222222222222,
              "#7201a8"
             ],
             [
              0.3333333333333333,
              "#9c179e"
             ],
             [
              0.4444444444444444,
              "#bd3786"
             ],
             [
              0.5555555555555556,
              "#d8576b"
             ],
             [
              0.6666666666666666,
              "#ed7953"
             ],
             [
              0.7777777777777778,
              "#fb9f3a"
             ],
             [
              0.8888888888888888,
              "#fdca26"
             ],
             [
              1,
              "#f0f921"
             ]
            ],
            "type": "histogram2d"
           }
          ],
          "histogram2dcontour": [
           {
            "colorbar": {
             "outlinewidth": 0,
             "ticks": ""
            },
            "colorscale": [
             [
              0,
              "#0d0887"
             ],
             [
              0.1111111111111111,
              "#46039f"
             ],
             [
              0.2222222222222222,
              "#7201a8"
             ],
             [
              0.3333333333333333,
              "#9c179e"
             ],
             [
              0.4444444444444444,
              "#bd3786"
             ],
             [
              0.5555555555555556,
              "#d8576b"
             ],
             [
              0.6666666666666666,
              "#ed7953"
             ],
             [
              0.7777777777777778,
              "#fb9f3a"
             ],
             [
              0.8888888888888888,
              "#fdca26"
             ],
             [
              1,
              "#f0f921"
             ]
            ],
            "type": "histogram2dcontour"
           }
          ],
          "mesh3d": [
           {
            "colorbar": {
             "outlinewidth": 0,
             "ticks": ""
            },
            "type": "mesh3d"
           }
          ],
          "parcoords": [
           {
            "line": {
             "colorbar": {
              "outlinewidth": 0,
              "ticks": ""
             }
            },
            "type": "parcoords"
           }
          ],
          "pie": [
           {
            "automargin": true,
            "type": "pie"
           }
          ],
          "scatter": [
           {
            "fillpattern": {
             "fillmode": "overlay",
             "size": 10,
             "solidity": 0.2
            },
            "type": "scatter"
           }
          ],
          "scatter3d": [
           {
            "line": {
             "colorbar": {
              "outlinewidth": 0,
              "ticks": ""
             }
            },
            "marker": {
             "colorbar": {
              "outlinewidth": 0,
              "ticks": ""
             }
            },
            "type": "scatter3d"
           }
          ],
          "scattercarpet": [
           {
            "marker": {
             "colorbar": {
              "outlinewidth": 0,
              "ticks": ""
             }
            },
            "type": "scattercarpet"
           }
          ],
          "scattergeo": [
           {
            "marker": {
             "colorbar": {
              "outlinewidth": 0,
              "ticks": ""
             }
            },
            "type": "scattergeo"
           }
          ],
          "scattergl": [
           {
            "marker": {
             "colorbar": {
              "outlinewidth": 0,
              "ticks": ""
             }
            },
            "type": "scattergl"
           }
          ],
          "scattermapbox": [
           {
            "marker": {
             "colorbar": {
              "outlinewidth": 0,
              "ticks": ""
             }
            },
            "type": "scattermapbox"
           }
          ],
          "scatterpolar": [
           {
            "marker": {
             "colorbar": {
              "outlinewidth": 0,
              "ticks": ""
             }
            },
            "type": "scatterpolar"
           }
          ],
          "scatterpolargl": [
           {
            "marker": {
             "colorbar": {
              "outlinewidth": 0,
              "ticks": ""
             }
            },
            "type": "scatterpolargl"
           }
          ],
          "scatterternary": [
           {
            "marker": {
             "colorbar": {
              "outlinewidth": 0,
              "ticks": ""
             }
            },
            "type": "scatterternary"
           }
          ],
          "surface": [
           {
            "colorbar": {
             "outlinewidth": 0,
             "ticks": ""
            },
            "colorscale": [
             [
              0,
              "#0d0887"
             ],
             [
              0.1111111111111111,
              "#46039f"
             ],
             [
              0.2222222222222222,
              "#7201a8"
             ],
             [
              0.3333333333333333,
              "#9c179e"
             ],
             [
              0.4444444444444444,
              "#bd3786"
             ],
             [
              0.5555555555555556,
              "#d8576b"
             ],
             [
              0.6666666666666666,
              "#ed7953"
             ],
             [
              0.7777777777777778,
              "#fb9f3a"
             ],
             [
              0.8888888888888888,
              "#fdca26"
             ],
             [
              1,
              "#f0f921"
             ]
            ],
            "type": "surface"
           }
          ],
          "table": [
           {
            "cells": {
             "fill": {
              "color": "#EBF0F8"
             },
             "line": {
              "color": "white"
             }
            },
            "header": {
             "fill": {
              "color": "#C8D4E3"
             },
             "line": {
              "color": "white"
             }
            },
            "type": "table"
           }
          ]
         },
         "layout": {
          "annotationdefaults": {
           "arrowcolor": "#2a3f5f",
           "arrowhead": 0,
           "arrowwidth": 1
          },
          "autotypenumbers": "strict",
          "coloraxis": {
           "colorbar": {
            "outlinewidth": 0,
            "ticks": ""
           }
          },
          "colorscale": {
           "diverging": [
            [
             0,
             "#8e0152"
            ],
            [
             0.1,
             "#c51b7d"
            ],
            [
             0.2,
             "#de77ae"
            ],
            [
             0.3,
             "#f1b6da"
            ],
            [
             0.4,
             "#fde0ef"
            ],
            [
             0.5,
             "#f7f7f7"
            ],
            [
             0.6,
             "#e6f5d0"
            ],
            [
             0.7,
             "#b8e186"
            ],
            [
             0.8,
             "#7fbc41"
            ],
            [
             0.9,
             "#4d9221"
            ],
            [
             1,
             "#276419"
            ]
           ],
           "sequential": [
            [
             0,
             "#0d0887"
            ],
            [
             0.1111111111111111,
             "#46039f"
            ],
            [
             0.2222222222222222,
             "#7201a8"
            ],
            [
             0.3333333333333333,
             "#9c179e"
            ],
            [
             0.4444444444444444,
             "#bd3786"
            ],
            [
             0.5555555555555556,
             "#d8576b"
            ],
            [
             0.6666666666666666,
             "#ed7953"
            ],
            [
             0.7777777777777778,
             "#fb9f3a"
            ],
            [
             0.8888888888888888,
             "#fdca26"
            ],
            [
             1,
             "#f0f921"
            ]
           ],
           "sequentialminus": [
            [
             0,
             "#0d0887"
            ],
            [
             0.1111111111111111,
             "#46039f"
            ],
            [
             0.2222222222222222,
             "#7201a8"
            ],
            [
             0.3333333333333333,
             "#9c179e"
            ],
            [
             0.4444444444444444,
             "#bd3786"
            ],
            [
             0.5555555555555556,
             "#d8576b"
            ],
            [
             0.6666666666666666,
             "#ed7953"
            ],
            [
             0.7777777777777778,
             "#fb9f3a"
            ],
            [
             0.8888888888888888,
             "#fdca26"
            ],
            [
             1,
             "#f0f921"
            ]
           ]
          },
          "colorway": [
           "#636efa",
           "#EF553B",
           "#00cc96",
           "#ab63fa",
           "#FFA15A",
           "#19d3f3",
           "#FF6692",
           "#B6E880",
           "#FF97FF",
           "#FECB52"
          ],
          "font": {
           "color": "#2a3f5f"
          },
          "geo": {
           "bgcolor": "white",
           "lakecolor": "white",
           "landcolor": "#E5ECF6",
           "showlakes": true,
           "showland": true,
           "subunitcolor": "white"
          },
          "hoverlabel": {
           "align": "left"
          },
          "hovermode": "closest",
          "mapbox": {
           "style": "light"
          },
          "paper_bgcolor": "white",
          "plot_bgcolor": "#E5ECF6",
          "polar": {
           "angularaxis": {
            "gridcolor": "white",
            "linecolor": "white",
            "ticks": ""
           },
           "bgcolor": "#E5ECF6",
           "radialaxis": {
            "gridcolor": "white",
            "linecolor": "white",
            "ticks": ""
           }
          },
          "scene": {
           "xaxis": {
            "backgroundcolor": "#E5ECF6",
            "gridcolor": "white",
            "gridwidth": 2,
            "linecolor": "white",
            "showbackground": true,
            "ticks": "",
            "zerolinecolor": "white"
           },
           "yaxis": {
            "backgroundcolor": "#E5ECF6",
            "gridcolor": "white",
            "gridwidth": 2,
            "linecolor": "white",
            "showbackground": true,
            "ticks": "",
            "zerolinecolor": "white"
           },
           "zaxis": {
            "backgroundcolor": "#E5ECF6",
            "gridcolor": "white",
            "gridwidth": 2,
            "linecolor": "white",
            "showbackground": true,
            "ticks": "",
            "zerolinecolor": "white"
           }
          },
          "shapedefaults": {
           "line": {
            "color": "#2a3f5f"
           }
          },
          "ternary": {
           "aaxis": {
            "gridcolor": "white",
            "linecolor": "white",
            "ticks": ""
           },
           "baxis": {
            "gridcolor": "white",
            "linecolor": "white",
            "ticks": ""
           },
           "bgcolor": "#E5ECF6",
           "caxis": {
            "gridcolor": "white",
            "linecolor": "white",
            "ticks": ""
           }
          },
          "title": {
           "x": 0.05
          },
          "xaxis": {
           "automargin": true,
           "gridcolor": "white",
           "linecolor": "white",
           "ticks": "",
           "title": {
            "standoff": 15
           },
           "zerolinecolor": "white",
           "zerolinewidth": 2
          },
          "yaxis": {
           "automargin": true,
           "gridcolor": "white",
           "linecolor": "white",
           "ticks": "",
           "title": {
            "standoff": 15
           },
           "zerolinecolor": "white",
           "zerolinewidth": 2
          }
         }
        },
        "title": {
         "text": "Percentage of Missing Values by Column"
        },
        "xaxis": {
         "anchor": "y",
         "domain": [
          0,
          1
         ],
         "title": {
          "text": "Column"
         }
        },
        "yaxis": {
         "anchor": "x",
         "domain": [
          0,
          1
         ],
         "title": {
          "text": "Missing Percentage"
         }
        }
       }
      }
     },
     "metadata": {},
     "output_type": "display_data"
    }
   ],
   "source": [
    "# Calculate, sort, and round the missing percentages\n",
    "missing_percentage = (df_char.isnull().sum() / len(df_char) * 100).sort_values(ascending=False).round(2)\n",
    "\n",
    "# Convert the Series to DataFrame for compatibility with plotly\n",
    "df_missing = missing_percentage.reset_index()\n",
    "df_missing.columns = ['Column', 'Missing Percentage']\n",
    "\n",
    "# Create the plot with a specified color range\n",
    "fig = px.bar(df_missing, x='Column', y='Missing Percentage', \n",
    "             color='Missing Percentage', \n",
    "             color_continuous_scale=\"RdYlGn_r\", \n",
    "             range_color=[0, 100],  # Specifying the color scale range\n",
    "             title='Percentage of Missing Values by Column')\n",
    "fig.update_layout(coloraxis_colorbar=dict(title=\"Missing Percentage\"))\n",
    "fig.show()"
   ]
  },
  {
   "cell_type": "code",
   "execution_count": null,
   "id": "257e89ae-7faa-42e7-9c88-1ae001a7103d",
   "metadata": {
    "tags": []
   },
   "outputs": [
    {
     "data": {
      "text/plain": [
       "<AxesSubplot:>"
      ]
     },
     "execution_count": 38,
     "metadata": {},
     "output_type": "execute_result"
    },
    {
     "data": {
      "image/png": "[encoded data removed]",
      "text/plain": [
       "<Figure size 2000x1200 with 2 Axes>"
      ]
     },
     "metadata": {},
     "output_type": "display_data"
    }
   ],
   "source": [
    "msno.heatmap(df_char)"
   ]
  },
  {
   "cell_type": "markdown",
   "id": "03c17032-ebcf-4f45-ae92-1baff1d37e4c",
   "metadata": {},
   "source": [
    "Observing all the missing features, the more personnal the feature is for the actor, the less present it is in percentage. We can explain this phenomenom simply because it is harder to report theses data in a database because they're harder to find for each actor. For example, Actor_age_release missing values has 0.8 correlation with Actor_birth missing values which makes sense !"
   ]
  },
  {
   "cell_type": "code",
   "execution_count": null,
   "id": "a9be21ba-1d7a-4d68-89d0-5d94cd1c92e4",
   "metadata": {
    "tags": []
   },
   "outputs": [
    {
     "name": "stdout",
     "output_type": "stream",
     "text": [
      "Number of rows after dropping missing records:  45264\n"
     ]
    }
   ],
   "source": [
    "# drop records which contain missing values\n",
    "data_dropped = df_char.dropna()\n",
    "print(\"Number of rows after dropping missing records: \", len(data_dropped))"
   ]
  },
  {
   "cell_type": "markdown",
   "id": "302e875e-40e4-47d5-a3cc-663a26fa97e4",
   "metadata": {},
   "source": [
    "We can still see that there is still a big number of rows where not a single feature is missing, so we could work with this dataframe if we wanted to analyse things around personnal actors characterics."
   ]
  },
  {
   "cell_type": "markdown",
   "id": "3c72d848-7234-4003-99a7-ca8b993ae155",
   "metadata": {},
   "source": [
    "### **1.2 Movie data**\n",
    "\n",
    "In the same manner, we can analyse our movie data :"
   ]
  },
  {
   "cell_type": "code",
   "execution_count": null,
   "id": "b994f968-ef15-4d24-90ec-3414fa29400e",
   "metadata": {
    "tags": []
   },
   "outputs": [
    {
     "data": {
      "application/vnd.plotly.v1+json": {
       "config": {
        "plotlyServerURL": "https://plot.ly"
       },
       "data": [
        {
         "alignmentgroup": "True",
         "hovertemplate": "Column=%{x}<br>Missing Percentage=%{marker.color}<extra></extra>",
         "legendgroup": "",
         "marker": {
          "color": [
           89.72,
           25.02,
           8.44,
           0,
           0,
           0,
           0,
           0,
           0
          ],
          "coloraxis": "coloraxis",
          "pattern": {
           "shape": ""
          }
         },
         "name": "",
         "offsetgroup": "",
         "orientation": "v",
         "showlegend": false,
         "textposition": "auto",
         "type": "bar",
         "x": [
          "Movie_revenue",
          "Movie_runtime",
          "Movie_release",
          "Wiki_ID",
          "Freebase_ID",
          "Movie_name",
          "Movie_languages",
          "Movie_countries",
          "Movie_genres"
         ],
         "xaxis": "x",
         "y": [
          89.72,
          25.02,
          8.44,
          0,
          0,
          0,
          0,
          0,
          0
         ],
         "yaxis": "y"
        }
       ],
       "layout": {
        "barmode": "relative",
        "coloraxis": {
         "cmax": 100,
         "cmin": 0,
         "colorbar": {
          "title": {
           "text": "Missing Percentage"
          }
         },
         "colorscale": [
          [
           0,
           "rgb(0,104,55)"
          ],
          [
           0.1,
           "rgb(26,152,80)"
          ],
          [
           0.2,
           "rgb(102,189,99)"
          ],
          [
           0.3,
           "rgb(166,217,106)"
          ],
          [
           0.4,
           "rgb(217,239,139)"
          ],
          [
           0.5,
           "rgb(255,255,191)"
          ],
          [
           0.6,
           "rgb(254,224,139)"
          ],
          [
           0.7,
           "rgb(253,174,97)"
          ],
          [
           0.8,
           "rgb(244,109,67)"
          ],
          [
           0.9,
           "rgb(215,48,39)"
          ],
          [
           1,
           "rgb(165,0,38)"
          ]
         ]
        },
        "legend": {
         "tracegroupgap": 0
        },
        "template": {
         "data": {
          "bar": [
           {
            "error_x": {
             "color": "#2a3f5f"
            },
            "error_y": {
             "color": "#2a3f5f"
            },
            "marker": {
             "line": {
              "color": "#E5ECF6",
              "width": 0.5
             },
             "pattern": {
              "fillmode": "overlay",
              "size": 10,
              "solidity": 0.2
             }
            },
            "type": "bar"
           }
          ],
          "barpolar": [
           {
            "marker": {
             "line": {
              "color": "#E5ECF6",
              "width": 0.5
             },
             "pattern": {
              "fillmode": "overlay",
              "size": 10,
              "solidity": 0.2
             }
            },
            "type": "barpolar"
           }
          ],
          "carpet": [
           {
            "aaxis": {
             "endlinecolor": "#2a3f5f",
             "gridcolor": "white",
             "linecolor": "white",
             "minorgridcolor": "white",
             "startlinecolor": "#2a3f5f"
            },
            "baxis": {
             "endlinecolor": "#2a3f5f",
             "gridcolor": "white",
             "linecolor": "white",
             "minorgridcolor": "white",
             "startlinecolor": "#2a3f5f"
            },
            "type": "carpet"
           }
          ],
          "choropleth": [
           {
            "colorbar": {
             "outlinewidth": 0,
             "ticks": ""
            },
            "type": "choropleth"
           }
          ],
          "contour": [
           {
            "colorbar": {
             "outlinewidth": 0,
             "ticks": ""
            },
            "colorscale": [
             [
              0,
              "#0d0887"
             ],
             [
              0.1111111111111111,
              "#46039f"
             ],
             [
              0.2222222222222222,
              "#7201a8"
             ],
             [
              0.3333333333333333,
              "#9c179e"
             ],
             [
              0.4444444444444444,
              "#bd3786"
             ],
             [
              0.5555555555555556,
              "#d8576b"
             ],
             [
              0.6666666666666666,
              "#ed7953"
             ],
             [
              0.7777777777777778,
              "#fb9f3a"
             ],
             [
              0.8888888888888888,
              "#fdca26"
             ],
             [
              1,
              "#f0f921"
             ]
            ],
            "type": "contour"
           }
          ],
          "contourcarpet": [
           {
            "colorbar": {
             "outlinewidth": 0,
             "ticks": ""
            },
            "type": "contourcarpet"
           }
          ],
          "heatmap": [
           {
            "colorbar": {
             "outlinewidth": 0,
             "ticks": ""
            },
            "colorscale": [
             [
              0,
              "#0d0887"
             ],
             [
              0.1111111111111111,
              "#46039f"
             ],
             [
              0.2222222222222222,
              "#7201a8"
             ],
             [
              0.3333333333333333,
              "#9c179e"
             ],
             [
              0.4444444444444444,
              "#bd3786"
             ],
             [
              0.5555555555555556,
              "#d8576b"
             ],
             [
              0.6666666666666666,
              "#ed7953"
             ],
             [
              0.7777777777777778,
              "#fb9f3a"
             ],
             [
              0.8888888888888888,
              "#fdca26"
             ],
             [
              1,
              "#f0f921"
             ]
            ],
            "type": "heatmap"
           }
          ],
          "heatmapgl": [
           {
            "colorbar": {
             "outlinewidth": 0,
             "ticks": ""
            },
            "colorscale": [
             [
              0,
              "#0d0887"
             ],
             [
              0.1111111111111111,
              "#46039f"
             ],
             [
              0.2222222222222222,
              "#7201a8"
             ],
             [
              0.3333333333333333,
              "#9c179e"
             ],
             [
              0.4444444444444444,
              "#bd3786"
             ],
             [
              0.5555555555555556,
              "#d8576b"
             ],
             [
              0.6666666666666666,
              "#ed7953"
             ],
             [
              0.7777777777777778,
              "#fb9f3a"
             ],
             [
              0.8888888888888888,
              "#fdca26"
             ],
             [
              1,
              "#f0f921"
             ]
            ],
            "type": "heatmapgl"
           }
          ],
          "histogram": [
           {
            "marker": {
             "pattern": {
              "fillmode": "overlay",
              "size": 10,
              "solidity": 0.2
             }
            },
            "type": "histogram"
           }
          ],
          "histogram2d": [
           {
            "colorbar": {
             "outlinewidth": 0,
             "ticks": ""
            },
            "colorscale": [
             [
              0,
              "#0d0887"
             ],
             [
              0.1111111111111111,
              "#46039f"
             ],
             [
              0.2222222222222222,
              "#7201a8"
             ],
             [
              0.3333333333333333,
              "#9c179e"
             ],
             [
              0.4444444444444444,
              "#bd3786"
             ],
             [
              0.5555555555555556,
              "#d8576b"
             ],
             [
              0.6666666666666666,
              "#ed7953"
             ],
             [
              0.7777777777777778,
              "#fb9f3a"
             ],
             [
              0.8888888888888888,
              "#fdca26"
             ],
             [
              1,
              "#f0f921"
             ]
            ],
            "type": "histogram2d"
           }
          ],
          "histogram2dcontour": [
           {
            "colorbar": {
             "outlinewidth": 0,
             "ticks": ""
            },
            "colorscale": [
             [
              0,
              "#0d0887"
             ],
             [
              0.1111111111111111,
              "#46039f"
             ],
             [
              0.2222222222222222,
              "#7201a8"
             ],
             [
              0.3333333333333333,
              "#9c179e"
             ],
             [
              0.4444444444444444,
              "#bd3786"
             ],
             [
              0.5555555555555556,
              "#d8576b"
             ],
             [
              0.6666666666666666,
              "#ed7953"
             ],
             [
              0.7777777777777778,
              "#fb9f3a"
             ],
             [
              0.8888888888888888,
              "#fdca26"
             ],
             [
              1,
              "#f0f921"
             ]
            ],
            "type": "histogram2dcontour"
           }
          ],
          "mesh3d": [
           {
            "colorbar": {
             "outlinewidth": 0,
             "ticks": ""
            },
            "type": "mesh3d"
           }
          ],
          "parcoords": [
           {
            "line": {
             "colorbar": {
              "outlinewidth": 0,
              "ticks": ""
             }
            },
            "type": "parcoords"
           }
          ],
          "pie": [
           {
            "automargin": true,
            "type": "pie"
           }
          ],
          "scatter": [
           {
            "fillpattern": {
             "fillmode": "overlay",
             "size": 10,
             "solidity": 0.2
            },
            "type": "scatter"
           }
          ],
          "scatter3d": [
           {
            "line": {
             "colorbar": {
              "outlinewidth": 0,
              "ticks": ""
             }
            },
            "marker": {
             "colorbar": {
              "outlinewidth": 0,
              "ticks": ""
             }
            },
            "type": "scatter3d"
           }
          ],
          "scattercarpet": [
           {
            "marker": {
             "colorbar": {
              "outlinewidth": 0,
              "ticks": ""
             }
            },
            "type": "scattercarpet"
           }
          ],
          "scattergeo": [
           {
            "marker": {
             "colorbar": {
              "outlinewidth": 0,
              "ticks": ""
             }
            },
            "type": "scattergeo"
           }
          ],
          "scattergl": [
           {
            "marker": {
             "colorbar": {
              "outlinewidth": 0,
              "ticks": ""
             }
            },
            "type": "scattergl"
           }
          ],
          "scattermapbox": [
           {
            "marker": {
             "colorbar": {
              "outlinewidth": 0,
              "ticks": ""
             }
            },
            "type": "scattermapbox"
           }
          ],
          "scatterpolar": [
           {
            "marker": {
             "colorbar": {
              "outlinewidth": 0,
              "ticks": ""
             }
            },
            "type": "scatterpolar"
           }
          ],
          "scatterpolargl": [
           {
            "marker": {
             "colorbar": {
              "outlinewidth": 0,
              "ticks": ""
             }
            },
            "type": "scatterpolargl"
           }
          ],
          "scatterternary": [
           {
            "marker": {
             "colorbar": {
              "outlinewidth": 0,
              "ticks": ""
             }
            },
            "type": "scatterternary"
           }
          ],
          "surface": [
           {
            "colorbar": {
             "outlinewidth": 0,
             "ticks": ""
            },
            "colorscale": [
             [
              0,
              "#0d0887"
             ],
             [
              0.1111111111111111,
              "#46039f"
             ],
             [
              0.2222222222222222,
              "#7201a8"
             ],
             [
              0.3333333333333333,
              "#9c179e"
             ],
             [
              0.4444444444444444,
              "#bd3786"
             ],
             [
              0.5555555555555556,
              "#d8576b"
             ],
             [
              0.6666666666666666,
              "#ed7953"
             ],
             [
              0.7777777777777778,
              "#fb9f3a"
             ],
             [
              0.8888888888888888,
              "#fdca26"
             ],
             [
              1,
              "#f0f921"
             ]
            ],
            "type": "surface"
           }
          ],
          "table": [
           {
            "cells": {
             "fill": {
              "color": "#EBF0F8"
             },
             "line": {
              "color": "white"
             }
            },
            "header": {
             "fill": {
              "color": "#C8D4E3"
             },
             "line": {
              "color": "white"
             }
            },
            "type": "table"
           }
          ]
         },
         "layout": {
          "annotationdefaults": {
           "arrowcolor": "#2a3f5f",
           "arrowhead": 0,
           "arrowwidth": 1
          },
          "autotypenumbers": "strict",
          "coloraxis": {
           "colorbar": {
            "outlinewidth": 0,
            "ticks": ""
           }
          },
          "colorscale": {
           "diverging": [
            [
             0,
             "#8e0152"
            ],
            [
             0.1,
             "#c51b7d"
            ],
            [
             0.2,
             "#de77ae"
            ],
            [
             0.3,
             "#f1b6da"
            ],
            [
             0.4,
             "#fde0ef"
            ],
            [
             0.5,
             "#f7f7f7"
            ],
            [
             0.6,
             "#e6f5d0"
            ],
            [
             0.7,
             "#b8e186"
            ],
            [
             0.8,
             "#7fbc41"
            ],
            [
             0.9,
             "#4d9221"
            ],
            [
             1,
             "#276419"
            ]
           ],
           "sequential": [
            [
             0,
             "#0d0887"
            ],
            [
             0.1111111111111111,
             "#46039f"
            ],
            [
             0.2222222222222222,
             "#7201a8"
            ],
            [
             0.3333333333333333,
             "#9c179e"
            ],
            [
             0.4444444444444444,
             "#bd3786"
            ],
            [
             0.5555555555555556,
             "#d8576b"
            ],
            [
             0.6666666666666666,
             "#ed7953"
            ],
            [
             0.7777777777777778,
             "#fb9f3a"
            ],
            [
             0.8888888888888888,
             "#fdca26"
            ],
            [
             1,
             "#f0f921"
            ]
           ],
           "sequentialminus": [
            [
             0,
             "#0d0887"
            ],
            [
             0.1111111111111111,
             "#46039f"
            ],
            [
             0.2222222222222222,
             "#7201a8"
            ],
            [
             0.3333333333333333,
             "#9c179e"
            ],
            [
             0.4444444444444444,
             "#bd3786"
            ],
            [
             0.5555555555555556,
             "#d8576b"
            ],
            [
             0.6666666666666666,
             "#ed7953"
            ],
            [
             0.7777777777777778,
             "#fb9f3a"
            ],
            [
             0.8888888888888888,
             "#fdca26"
            ],
            [
             1,
             "#f0f921"
            ]
           ]
          },
          "colorway": [
           "#636efa",
           "#EF553B",
           "#00cc96",
           "#ab63fa",
           "#FFA15A",
           "#19d3f3",
           "#FF6692",
           "#B6E880",
           "#FF97FF",
           "#FECB52"
          ],
          "font": {
           "color": "#2a3f5f"
          },
          "geo": {
           "bgcolor": "white",
           "lakecolor": "white",
           "landcolor": "#E5ECF6",
           "showlakes": true,
           "showland": true,
           "subunitcolor": "white"
          },
          "hoverlabel": {
           "align": "left"
          },
          "hovermode": "closest",
          "mapbox": {
           "style": "light"
          },
          "paper_bgcolor": "white",
          "plot_bgcolor": "#E5ECF6",
          "polar": {
           "angularaxis": {
            "gridcolor": "white",
            "linecolor": "white",
            "ticks": ""
           },
           "bgcolor": "#E5ECF6",
           "radialaxis": {
            "gridcolor": "white",
            "linecolor": "white",
            "ticks": ""
           }
          },
          "scene": {
           "xaxis": {
            "backgroundcolor": "#E5ECF6",
            "gridcolor": "white",
            "gridwidth": 2,
            "linecolor": "white",
            "showbackground": true,
            "ticks": "",
            "zerolinecolor": "white"
           },
           "yaxis": {
            "backgroundcolor": "#E5ECF6",
            "gridcolor": "white",
            "gridwidth": 2,
            "linecolor": "white",
            "showbackground": true,
            "ticks": "",
            "zerolinecolor": "white"
           },
           "zaxis": {
            "backgroundcolor": "#E5ECF6",
            "gridcolor": "white",
            "gridwidth": 2,
            "linecolor": "white",
            "showbackground": true,
            "ticks": "",
            "zerolinecolor": "white"
           }
          },
          "shapedefaults": {
           "line": {
            "color": "#2a3f5f"
           }
          },
          "ternary": {
           "aaxis": {
            "gridcolor": "white",
            "linecolor": "white",
            "ticks": ""
           },
           "baxis": {
            "gridcolor": "white",
            "linecolor": "white",
            "ticks": ""
           },
           "bgcolor": "#E5ECF6",
           "caxis": {
            "gridcolor": "white",
            "linecolor": "white",
            "ticks": ""
           }
          },
          "title": {
           "x": 0.05
          },
          "xaxis": {
           "automargin": true,
           "gridcolor": "white",
           "linecolor": "white",
           "ticks": "",
           "title": {
            "standoff": 15
           },
           "zerolinecolor": "white",
           "zerolinewidth": 2
          },
          "yaxis": {
           "automargin": true,
           "gridcolor": "white",
           "linecolor": "white",
           "ticks": "",
           "title": {
            "standoff": 15
           },
           "zerolinecolor": "white",
           "zerolinewidth": 2
          }
         }
        },
        "title": {
         "text": "Percentage of Missing Values by Column"
        },
        "xaxis": {
         "anchor": "y",
         "domain": [
          0,
          1
         ],
         "title": {
          "text": "Column"
         }
        },
        "yaxis": {
         "anchor": "x",
         "domain": [
          0,
          1
         ],
         "title": {
          "text": "Missing Percentage"
         }
        }
       }
      }
     },
     "metadata": {},
     "output_type": "display_data"
    }
   ],
   "source": [
    "# Calculate, sort, and round the missing percentages\n",
    "missing_percentage = (df_mov.isna().sum() / len(df_mov) * 100).sort_values(ascending=False).round(2)\n",
    "\n",
    "# Convert the Series to DataFrame for compatibility with plotly\n",
    "df_missing = missing_percentage.reset_index()\n",
    "df_missing.columns = ['Column', 'Missing Percentage']\n",
    "\n",
    "# Create the plot with a specified color range\n",
    "fig = px.bar(df_missing, x='Column', y='Missing Percentage', \n",
    "             color='Missing Percentage', \n",
    "             color_continuous_scale=\"RdYlGn_r\", \n",
    "             range_color=[0, 100],  # Specifying the color scale range\n",
    "             title='Percentage of Missing Values by Column')\n",
    "fig.update_layout(coloraxis_colorbar=dict(title=\"Missing Percentage\"))\n",
    "fig.show()"
   ]
  },
  {
   "cell_type": "code",
   "execution_count": null,
   "id": "8a0d3a20-604a-43b4-9dd1-bd32a74b4af2",
   "metadata": {
    "tags": []
   },
   "outputs": [
    {
     "data": {
      "text/plain": [
       "<AxesSubplot:>"
      ]
     },
     "execution_count": 41,
     "metadata": {},
     "output_type": "execute_result"
    },
    {
     "data": {
      "image/png": "[encoded data removed]",
      "text/plain": [
       "<Figure size 2000x1200 with 2 Axes>"
      ]
     },
     "metadata": {},
     "output_type": "display_data"
    }
   ],
   "source": [
    "msno.heatmap(df_mov)"
   ]
  },
  {
   "cell_type": "markdown",
   "id": "ca965805-9bd1-4185-9690-be39e6a97dae",
   "metadata": {},
   "source": [
    "We can see that on the other hand, the movie data is quite complete. Therefore any analysis will be considered relevant around this data."
   ]
  },
  {
   "cell_type": "markdown",
   "id": "49032805-b6ed-4aea-8277-573af15b1a9e",
   "metadata": {},
   "source": [
    "### **1.3 Revenue analysis around month of release**\n",
    "\n",
    "For the month of the release, we can ask ourselves which month might be the most favorable one to release your movie. We can categorize each movie into separate bins based on two criteria: firstly, the first two genres they appear to belong to, and secondly, the month in which they were released. \\\n",
    "Inflation is negligeable here because we analyse the problem around months of each year which directly normalizes the revenues."
   ]
  },
  {
   "cell_type": "code",
   "execution_count": null,
   "id": "58aff4b4-cc16-4a8e-b97b-aa76aaee9baf",
   "metadata": {
    "tags": []
   },
   "outputs": [],
   "source": [
    "# Convert string representation of a dictionary to an actual dictionary\n",
    "df_mov['Genre_dict'] = df_mov['Movie_genres'].apply(lambda x: ast.literal_eval(x) if isinstance(x, str) else {})\n",
    "\n",
    "# Extract genres\n",
    "df_mov['Main_genre'] = df_mov['Genre_dict'].apply(lambda x: list(x.values())[0] if len(x) > 0 else None)\n",
    "df_mov['Sec_Genre'] = df_mov['Genre_dict'].apply(lambda x: list(x.values())[1] if len(x) > 1 else None)\n",
    "\n",
    "#Copy\n",
    "df_mov1 = df_mov.copy()\n",
    "\n",
    "# Drop the temporary Genre_dict column\n",
    "df_mov1.drop(columns=['Genre_dict'], inplace=True)\n",
    "\n",
    "df_mov1['Movie_release'] = pd.to_datetime(df_mov1['Movie_release'], errors='coerce')\n",
    "\n",
    "# Extract year, month, and day into new columns\n",
    "df_mov1['Year_of_release'] = df_mov1['Movie_release'].dt.year\n",
    "df_mov1['Month_of_release'] = df_mov1['Movie_release'].dt.month"
   ]
  },
  {
   "cell_type": "markdown",
   "id": "951b314e-f908-4429-9514-5364d2437dd3",
   "metadata": {},
   "source": [
    "Now that we separated the month from the movie release date, we can plot analysis using them :"
   ]
  },
  {
   "cell_type": "code",
   "execution_count": null,
   "id": "07ffe168-8beb-44a7-b975-21945b421c8e",
   "metadata": {
    "tags": []
   },
   "outputs": [
    {
     "data": {
      "application/vnd.plotly.v1+json": {
       "config": {
        "plotlyServerURL": "https://plot.ly"
       },
       "data": [
        {
         "marker": {
          "color": [
           "#f0f921",
           "#fdca26",
           "#fb9f3a",
           "#ed7953",
           "#d8576b",
           "#bd3786",
           "#9c179e",
           "#7201a8",
           "#46039f",
           "#0d0887"
          ]
         },
         "name": "Action/Adventure & Thriller",
         "opacity": 1,
         "type": "bar",
         "x": [
          "January",
          "February",
          "March",
          "April",
          "May",
          "June",
          "July",
          "August",
          "September",
          "October",
          "November",
          "December"
         ],
         "y": [
          94807747.46511628,
          89606323.1590909,
          105875095.27272727,
          133394294.2909091,
          194469273.12987015,
          129504270.43434344,
          63608121.91919192,
          103192741.81818181,
          84478652.1010101,
          95927284.84848483,
          167819556.36363637,
          88953556.36363636
         ]
        },
        {
         "marker": {
          "color": [
           "#f0f921",
           "#fdca26",
           "#fb9f3a",
           "#ed7953",
           "#d8576b",
           "#bd3786",
           "#9c179e",
           "#7201a8",
           "#46039f",
           "#0d0887"
          ]
         },
         "name": "Adventure & Children's/Family",
         "opacity": 1,
         "type": "bar",
         "x": [
          "January",
          "February",
          "March",
          "April",
          "May",
          "June",
          "July",
          "August",
          "September",
          "October",
          "November",
          "December"
         ],
         "y": [
          126392605.77857143,
          89493092.30902779,
          152490628.546875,
          108486549.68824406,
          332830355.7317708,
          296782533.17083335,
          192395137.98317307,
          78293519.10677084,
          69116143.26488096,
          226619385.9854167,
          154481840.23632812,
          133862384.73039214
         ]
        },
        {
         "marker": {
          "color": [
           "#f0f921",
           "#fdca26",
           "#fb9f3a",
           "#ed7953",
           "#d8576b",
           "#bd3786",
           "#9c179e",
           "#7201a8",
           "#46039f",
           "#0d0887"
          ]
         },
         "name": "Crime Fiction & Thriller",
         "opacity": 1,
         "type": "bar",
         "x": [
          "January",
          "February",
          "March",
          "April",
          "May",
          "June",
          "July",
          "August",
          "September",
          "October",
          "November",
          "December"
         ],
         "y": [
          56982665.45622,
          52934326.34161491,
          63650793.7310606,
          49895507.76881452,
          59680316.67204513,
          83685359.72115242,
          126118203.46518244,
          67543149.43974814,
          49818268.36414901,
          58285397.8506033,
          77863109.89815447,
          73877590.56838906
         ]
        },
        {
         "marker": {
          "color": [
           "#f0f921",
           "#fdca26",
           "#fb9f3a",
           "#ed7953",
           "#d8576b",
           "#bd3786",
           "#9c179e",
           "#7201a8",
           "#46039f",
           "#0d0887"
          ]
         },
         "name": "Science Fiction & Action",
         "opacity": 1,
         "type": "bar",
         "x": [
          "January",
          "February",
          "March",
          "April",
          "May",
          "June",
          "July",
          "August",
          "September",
          "October",
          "November",
          "December"
         ],
         "y": [
          169837240.6864035,
          133375656.375,
          157962495.35,
          342462247.8333333,
          291423243.4404762,
          132833980.39393939,
          149503585.77272728,
          157377429.79629627,
          168637533.13888887,
          157956045.85,
          101303954.38888888,
          145751906.35897434
         ]
        },
        {
         "marker": {
          "color": [
           "#f0f921",
           "#fdca26",
           "#fb9f3a",
           "#ed7953",
           "#d8576b",
           "#bd3786",
           "#9c179e",
           "#7201a8",
           "#46039f",
           "#0d0887"
          ]
         },
         "name": "Science Fiction & Adventure",
         "opacity": 1,
         "type": "bar",
         "x": [
          "January",
          "February",
          "March",
          "April",
          "May",
          "June",
          "July",
          "August",
          "September",
          "October",
          "November",
          "December"
         ],
         "y": [
          152126659.5564706,
          161893612.8627451,
          142787701.5359477,
          129531390.71764708,
          358127723.7761438,
          172830548.68137255,
          143826058.30124778,
          93916770.84509805,
          161893612.8627451,
          141571130.7787115,
          133226598.66488414,
          144948480.81764707
         ]
        },
        {
         "marker": {
          "color": [
           "#f0f921",
           "#fdca26",
           "#fb9f3a",
           "#ed7953",
           "#d8576b",
           "#bd3786",
           "#9c179e",
           "#7201a8",
           "#46039f",
           "#0d0887"
          ]
         },
         "name": "Thriller & Science Fiction",
         "opacity": 1,
         "type": "bar",
         "x": [
          "January",
          "February",
          "March",
          "April",
          "May",
          "June",
          "July",
          "August",
          "September",
          "October",
          "November",
          "December"
         ],
         "y": [
          144090460.23490018,
          127926490.69331464,
          123390312.28554362,
          157110335.4325269,
          212361381.18951613,
          284581485.05705863,
          194930327.86660853,
          114284311.87041633,
          103678219.4358199,
          115915730.84547989,
          178680651.27534562,
          212482495.67274424
         ]
        },
        {
         "marker": {
          "color": [
           "#f0f921",
           "#fdca26",
           "#fb9f3a",
           "#ed7953",
           "#d8576b",
           "#bd3786",
           "#9c179e",
           "#7201a8",
           "#46039f",
           "#0d0887"
          ]
         },
         "name": "Thriller & Action Thrillers",
         "opacity": 1,
         "type": "bar",
         "x": [
          "January",
          "February",
          "March",
          "April",
          "May",
          "June",
          "July",
          "August",
          "September",
          "October",
          "November",
          "December"
         ],
         "y": [
          132901661.35186757,
          85254107.9390681,
          103568191.94009216,
          253898337.27419353,
          168950794.25268817,
          116306882.12903225,
          155977582.74910393,
          143557056.35125446,
          100779844.2672811,
          104987018.69354838,
          144803804.7947214,
          182645017.26099706
         ]
        },
        {
         "marker": {
          "color": [
           "#f0f921",
           "#fdca26",
           "#fb9f3a",
           "#ed7953",
           "#d8576b",
           "#bd3786",
           "#9c179e",
           "#7201a8",
           "#46039f",
           "#0d0887"
          ]
         },
         "name": "Thriller & Action/Adventure",
         "opacity": 1,
         "type": "bar",
         "x": [
          "January",
          "February",
          "March",
          "April",
          "May",
          "June",
          "July",
          "August",
          "September",
          "October",
          "November",
          "December"
         ],
         "y": [
          65558016.35985199,
          80347692.13256955,
          51773630.96217494,
          56869646.38857783,
          94576151.02252816,
          164359433.08510637,
          73975395.11914894,
          55313823.74692049,
          64087064.832446806,
          73370853.37706856,
          57544389.770516716,
          76439569.06595746
         ]
        },
        {
         "marker": {
          "color": [
           "#f0f921",
           "#fdca26",
           "#fb9f3a",
           "#ed7953",
           "#d8576b",
           "#bd3786",
           "#9c179e",
           "#7201a8",
           "#46039f",
           "#0d0887"
          ]
         },
         "name": "Thriller & Crime Fiction",
         "opacity": 1,
         "type": "bar",
         "x": [
          "January",
          "February",
          "March",
          "April",
          "May",
          "June",
          "July",
          "August",
          "September",
          "October",
          "November",
          "December"
         ],
         "y": [
          56026300.956510395,
          59458643.08036454,
          54054419.61686012,
          61382964.79667519,
          60290782.79147005,
          83342584.16376673,
          85248835.66069905,
          55279000.80752916,
          62714032.70424166,
          56351229.405687094,
          74695138.20163353,
          68325567.58386983
         ]
        },
        {
         "marker": {
          "color": [
           "#f0f921",
           "#fdca26",
           "#fb9f3a",
           "#ed7953",
           "#d8576b",
           "#bd3786",
           "#9c179e",
           "#7201a8",
           "#46039f",
           "#0d0887"
          ]
         },
         "name": "Thriller & Horror",
         "opacity": 1,
         "type": "bar",
         "x": [
          "January",
          "February",
          "March",
          "April",
          "May",
          "June",
          "July",
          "August",
          "September",
          "October",
          "November",
          "December"
         ],
         "y": [
          55339190.144100584,
          72829846.996633,
          53350572.92987013,
          46930613.91891892,
          47571241.66919193,
          56714055.04702195,
          74232339.62121212,
          73407417.80735931,
          55129926.87179487,
          55256319.98512396,
          77591389.41750842,
          49822397.23444977
         ]
        }
       ],
       "layout": {
        "template": {
         "data": {
          "bar": [
           {
            "error_x": {
             "color": "#2a3f5f"
            },
            "error_y": {
             "color": "#2a3f5f"
            },
            "marker": {
             "line": {
              "color": "#E5ECF6",
              "width": 0.5
             },
             "pattern": {
              "fillmode": "overlay",
              "size": 10,
              "solidity": 0.2
             }
            },
            "type": "bar"
           }
          ],
          "barpolar": [
           {
            "marker": {
             "line": {
              "color": "#E5ECF6",
              "width": 0.5
             },
             "pattern": {
              "fillmode": "overlay",
              "size": 10,
              "solidity": 0.2
             }
            },
            "type": "barpolar"
           }
          ],
          "carpet": [
           {
            "aaxis": {
             "endlinecolor": "#2a3f5f",
             "gridcolor": "white",
             "linecolor": "white",
             "minorgridcolor": "white",
             "startlinecolor": "#2a3f5f"
            },
            "baxis": {
             "endlinecolor": "#2a3f5f",
             "gridcolor": "white",
             "linecolor": "white",
             "minorgridcolor": "white",
             "startlinecolor": "#2a3f5f"
            },
            "type": "carpet"
           }
          ],
          "choropleth": [
           {
            "colorbar": {
             "outlinewidth": 0,
             "ticks": ""
            },
            "type": "choropleth"
           }
          ],
          "contour": [
           {
            "colorbar": {
             "outlinewidth": 0,
             "ticks": ""
            },
            "colorscale": [
             [
              0,
              "#0d0887"
             ],
             [
              0.1111111111111111,
              "#46039f"
             ],
             [
              0.2222222222222222,
              "#7201a8"
             ],
             [
              0.3333333333333333,
              "#9c179e"
             ],
             [
              0.4444444444444444,
              "#bd3786"
             ],
             [
              0.5555555555555556,
              "#d8576b"
             ],
             [
              0.6666666666666666,
              "#ed7953"
             ],
             [
              0.7777777777777778,
              "#fb9f3a"
             ],
             [
              0.8888888888888888,
              "#fdca26"
             ],
             [
              1,
              "#f0f921"
             ]
            ],
            "type": "contour"
           }
          ],
          "contourcarpet": [
           {
            "colorbar": {
             "outlinewidth": 0,
             "ticks": ""
            },
            "type": "contourcarpet"
           }
          ],
          "heatmap": [
           {
            "colorbar": {
             "outlinewidth": 0,
             "ticks": ""
            },
            "colorscale": [
             [
              0,
              "#0d0887"
             ],
             [
              0.1111111111111111,
              "#46039f"
             ],
             [
              0.2222222222222222,
              "#7201a8"
             ],
             [
              0.3333333333333333,
              "#9c179e"
             ],
             [
              0.4444444444444444,
              "#bd3786"
             ],
             [
              0.5555555555555556,
              "#d8576b"
             ],
             [
              0.6666666666666666,
              "#ed7953"
             ],
             [
              0.7777777777777778,
              "#fb9f3a"
             ],
             [
              0.8888888888888888,
              "#fdca26"
             ],
             [
              1,
              "#f0f921"
             ]
            ],
            "type": "heatmap"
           }
          ],
          "heatmapgl": [
           {
            "colorbar": {
             "outlinewidth": 0,
             "ticks": ""
            },
            "colorscale": [
             [
              0,
              "#0d0887"
             ],
             [
              0.1111111111111111,
              "#46039f"
             ],
             [
              0.2222222222222222,
              "#7201a8"
             ],
             [
              0.3333333333333333,
              "#9c179e"
             ],
             [
              0.4444444444444444,
              "#bd3786"
             ],
             [
              0.5555555555555556,
              "#d8576b"
             ],
             [
              0.6666666666666666,
              "#ed7953"
             ],
             [
              0.7777777777777778,
              "#fb9f3a"
             ],
             [
              0.8888888888888888,
              "#fdca26"
             ],
             [
              1,
              "#f0f921"
             ]
            ],
            "type": "heatmapgl"
           }
          ],
          "histogram": [
           {
            "marker": {
             "pattern": {
              "fillmode": "overlay",
              "size": 10,
              "solidity": 0.2
             }
            },
            "type": "histogram"
           }
          ],
          "histogram2d": [
           {
            "colorbar": {
             "outlinewidth": 0,
             "ticks": ""
            },
            "colorscale": [
             [
              0,
              "#0d0887"
             ],
             [
              0.1111111111111111,
              "#46039f"
             ],
             [
              0.2222222222222222,
              "#7201a8"
             ],
             [
              0.3333333333333333,
              "#9c179e"
             ],
             [
              0.4444444444444444,
              "#bd3786"
             ],
             [
              0.5555555555555556,
              "#d8576b"
             ],
             [
              0.6666666666666666,
              "#ed7953"
             ],
             [
              0.7777777777777778,
              "#fb9f3a"
             ],
             [
              0.8888888888888888,
              "#fdca26"
             ],
             [
              1,
              "#f0f921"
             ]
            ],
            "type": "histogram2d"
           }
          ],
          "histogram2dcontour": [
           {
            "colorbar": {
             "outlinewidth": 0,
             "ticks": ""
            },
            "colorscale": [
             [
              0,
              "#0d0887"
             ],
             [
              0.1111111111111111,
              "#46039f"
             ],
             [
              0.2222222222222222,
              "#7201a8"
             ],
             [
              0.3333333333333333,
              "#9c179e"
             ],
             [
              0.4444444444444444,
              "#bd3786"
             ],
             [
              0.5555555555555556,
              "#d8576b"
             ],
             [
              0.6666666666666666,
              "#ed7953"
             ],
             [
              0.7777777777777778,
              "#fb9f3a"
             ],
             [
              0.8888888888888888,
              "#fdca26"
             ],
             [
              1,
              "#f0f921"
             ]
            ],
            "type": "histogram2dcontour"
           }
          ],
          "mesh3d": [
           {
            "colorbar": {
             "outlinewidth": 0,
             "ticks": ""
            },
            "type": "mesh3d"
           }
          ],
          "parcoords": [
           {
            "line": {
             "colorbar": {
              "outlinewidth": 0,
              "ticks": ""
             }
            },
            "type": "parcoords"
           }
          ],
          "pie": [
           {
            "automargin": true,
            "type": "pie"
           }
          ],
          "scatter": [
           {
            "fillpattern": {
             "fillmode": "overlay",
             "size": 10,
             "solidity": 0.2
            },
            "type": "scatter"
           }
          ],
          "scatter3d": [
           {
            "line": {
             "colorbar": {
              "outlinewidth": 0,
              "ticks": ""
             }
            },
            "marker": {
             "colorbar": {
              "outlinewidth": 0,
              "ticks": ""
             }
            },
            "type": "scatter3d"
           }
          ],
          "scattercarpet": [
           {
            "marker": {
             "colorbar": {
              "outlinewidth": 0,
              "ticks": ""
             }
            },
            "type": "scattercarpet"
           }
          ],
          "scattergeo": [
           {
            "marker": {
             "colorbar": {
              "outlinewidth": 0,
              "ticks": ""
             }
            },
            "type": "scattergeo"
           }
          ],
          "scattergl": [
           {
            "marker": {
             "colorbar": {
              "outlinewidth": 0,
              "ticks": ""
             }
            },
            "type": "scattergl"
           }
          ],
          "scattermapbox": [
           {
            "marker": {
             "colorbar": {
              "outlinewidth": 0,
              "ticks": ""
             }
            },
            "type": "scattermapbox"
           }
          ],
          "scatterpolar": [
           {
            "marker": {
             "colorbar": {
              "outlinewidth": 0,
              "ticks": ""
             }
            },
            "type": "scatterpolar"
           }
          ],
          "scatterpolargl": [
           {
            "marker": {
             "colorbar": {
              "outlinewidth": 0,
              "ticks": ""
             }
            },
            "type": "scatterpolargl"
           }
          ],
          "scatterternary": [
           {
            "marker": {
             "colorbar": {
              "outlinewidth": 0,
              "ticks": ""
             }
            },
            "type": "scatterternary"
           }
          ],
          "surface": [
           {
            "colorbar": {
             "outlinewidth": 0,
             "ticks": ""
            },
            "colorscale": [
             [
              0,
              "#0d0887"
             ],
             [
              0.1111111111111111,
              "#46039f"
             ],
             [
              0.2222222222222222,
              "#7201a8"
             ],
             [
              0.3333333333333333,
              "#9c179e"
             ],
             [
              0.4444444444444444,
              "#bd3786"
             ],
             [
              0.5555555555555556,
              "#d8576b"
             ],
             [
              0.6666666666666666,
              "#ed7953"
             ],
             [
              0.7777777777777778,
              "#fb9f3a"
             ],
             [
              0.8888888888888888,
              "#fdca26"
             ],
             [
              1,
              "#f0f921"
             ]
            ],
            "type": "surface"
           }
          ],
          "table": [
           {
            "cells": {
             "fill": {
              "color": "#EBF0F8"
             },
             "line": {
              "color": "white"
             }
            },
            "header": {
             "fill": {
              "color": "#C8D4E3"
             },
             "line": {
              "color": "white"
             }
            },
            "type": "table"
           }
          ]
         },
         "layout": {
          "annotationdefaults": {
           "arrowcolor": "#2a3f5f",
           "arrowhead": 0,
           "arrowwidth": 1
          },
          "autotypenumbers": "strict",
          "coloraxis": {
           "colorbar": {
            "outlinewidth": 0,
            "ticks": ""
           }
          },
          "colorscale": {
           "diverging": [
            [
             0,
             "#8e0152"
            ],
            [
             0.1,
             "#c51b7d"
            ],
            [
             0.2,
             "#de77ae"
            ],
            [
             0.3,
             "#f1b6da"
            ],
            [
             0.4,
             "#fde0ef"
            ],
            [
             0.5,
             "#f7f7f7"
            ],
            [
             0.6,
             "#e6f5d0"
            ],
            [
             0.7,
             "#b8e186"
            ],
            [
             0.8,
             "#7fbc41"
            ],
            [
             0.9,
             "#4d9221"
            ],
            [
             1,
             "#276419"
            ]
           ],
           "sequential": [
            [
             0,
             "#0d0887"
            ],
            [
             0.1111111111111111,
             "#46039f"
            ],
            [
             0.2222222222222222,
             "#7201a8"
            ],
            [
             0.3333333333333333,
             "#9c179e"
            ],
            [
             0.4444444444444444,
             "#bd3786"
            ],
            [
             0.5555555555555556,
             "#d8576b"
            ],
            [
             0.6666666666666666,
             "#ed7953"
            ],
            [
             0.7777777777777778,
             "#fb9f3a"
            ],
            [
             0.8888888888888888,
             "#fdca26"
            ],
            [
             1,
             "#f0f921"
            ]
           ],
           "sequentialminus": [
            [
             0,
             "#0d0887"
            ],
            [
             0.1111111111111111,
             "#46039f"
            ],
            [
             0.2222222222222222,
             "#7201a8"
            ],
            [
             0.3333333333333333,
             "#9c179e"
            ],
            [
             0.4444444444444444,
             "#bd3786"
            ],
            [
             0.5555555555555556,
             "#d8576b"
            ],
            [
             0.6666666666666666,
             "#ed7953"
            ],
            [
             0.7777777777777778,
             "#fb9f3a"
            ],
            [
             0.8888888888888888,
             "#fdca26"
            ],
            [
             1,
             "#f0f921"
            ]
           ]
          },
          "colorway": [
           "#636efa",
           "#EF553B",
           "#00cc96",
           "#ab63fa",
           "#FFA15A",
           "#19d3f3",
           "#FF6692",
           "#B6E880",
           "#FF97FF",
           "#FECB52"
          ],
          "font": {
           "color": "#2a3f5f"
          },
          "geo": {
           "bgcolor": "white",
           "lakecolor": "white",
           "landcolor": "#E5ECF6",
           "showlakes": true,
           "showland": true,
           "subunitcolor": "white"
          },
          "hoverlabel": {
           "align": "left"
          },
          "hovermode": "closest",
          "mapbox": {
           "style": "light"
          },
          "paper_bgcolor": "white",
          "plot_bgcolor": "#E5ECF6",
          "polar": {
           "angularaxis": {
            "gridcolor": "white",
            "linecolor": "white",
            "ticks": ""
           },
           "bgcolor": "#E5ECF6",
           "radialaxis": {
            "gridcolor": "white",
            "linecolor": "white",
            "ticks": ""
           }
          },
          "scene": {
           "xaxis": {
            "backgroundcolor": "#E5ECF6",
            "gridcolor": "white",
            "gridwidth": 2,
            "linecolor": "white",
            "showbackground": true,
            "ticks": "",
            "zerolinecolor": "white"
           },
           "yaxis": {
            "backgroundcolor": "#E5ECF6",
            "gridcolor": "white",
            "gridwidth": 2,
            "linecolor": "white",
            "showbackground": true,
            "ticks": "",
            "zerolinecolor": "white"
           },
           "zaxis": {
            "backgroundcolor": "#E5ECF6",
            "gridcolor": "white",
            "gridwidth": 2,
            "linecolor": "white",
            "showbackground": true,
            "ticks": "",
            "zerolinecolor": "white"
           }
          },
          "shapedefaults": {
           "line": {
            "color": "#2a3f5f"
           }
          },
          "ternary": {
           "aaxis": {
            "gridcolor": "white",
            "linecolor": "white",
            "ticks": ""
           },
           "baxis": {
            "gridcolor": "white",
            "linecolor": "white",
            "ticks": ""
           },
           "bgcolor": "#E5ECF6",
           "caxis": {
            "gridcolor": "white",
            "linecolor": "white",
            "ticks": ""
           }
          },
          "title": {
           "x": 0.05
          },
          "xaxis": {
           "automargin": true,
           "gridcolor": "white",
           "linecolor": "white",
           "ticks": "",
           "title": {
            "standoff": 15
           },
           "zerolinecolor": "white",
           "zerolinewidth": 2
          },
          "yaxis": {
           "automargin": true,
           "gridcolor": "white",
           "linecolor": "white",
           "ticks": "",
           "title": {
            "standoff": 15
           },
           "zerolinecolor": "white",
           "zerolinewidth": 2
          }
         }
        },
        "updatemenus": [
         {
          "buttons": [
           {
            "args": [
             {
              "visible": [
               true,
               false,
               false,
               false,
               false,
               false,
               false,
               false,
               false,
               false
              ]
             },
             {
              "title": "Mean Box Office Revenues by Month of Release for Action/Adventure & Thriller"
             }
            ],
            "label": "Action/Adventure & Thriller",
            "method": "update"
           },
           {
            "args": [
             {
              "visible": [
               false,
               true,
               false,
               false,
               false,
               false,
               false,
               false,
               false,
               false
              ]
             },
             {
              "title": "Mean Box Office Revenues by Month of Release for Adventure & Children's/Family"
             }
            ],
            "label": "Adventure & Children's/Family",
            "method": "update"
           },
           {
            "args": [
             {
              "visible": [
               false,
               false,
               true,
               false,
               false,
               false,
               false,
               false,
               false,
               false
              ]
             },
             {
              "title": "Mean Box Office Revenues by Month of Release for Crime Fiction & Thriller"
             }
            ],
            "label": "Crime Fiction & Thriller",
            "method": "update"
           },
           {
            "args": [
             {
              "visible": [
               false,
               false,
               false,
               true,
               false,
               false,
               false,
               false,
               false,
               false
              ]
             },
             {
              "title": "Mean Box Office Revenues by Month of Release for Science Fiction & Action"
             }
            ],
            "label": "Science Fiction & Action",
            "method": "update"
           },
           {
            "args": [
             {
              "visible": [
               false,
               false,
               false,
               false,
               true,
               false,
               false,
               false,
               false,
               false
              ]
             },
             {
              "title": "Mean Box Office Revenues by Month of Release for Science Fiction & Adventure"
             }
            ],
            "label": "Science Fiction & Adventure",
            "method": "update"
           },
           {
            "args": [
             {
              "visible": [
               false,
               false,
               false,
               false,
               false,
               true,
               false,
               false,
               false,
               false
              ]
             },
             {
              "title": "Mean Box Office Revenues by Month of Release for Thriller & Science Fiction"
             }
            ],
            "label": "Thriller & Science Fiction",
            "method": "update"
           },
           {
            "args": [
             {
              "visible": [
               false,
               false,
               false,
               false,
               false,
               false,
               true,
               false,
               false,
               false
              ]
             },
             {
              "title": "Mean Box Office Revenues by Month of Release for Thriller & Action Thrillers"
             }
            ],
            "label": "Thriller & Action Thrillers",
            "method": "update"
           },
           {
            "args": [
             {
              "visible": [
               false,
               false,
               false,
               false,
               false,
               false,
               false,
               true,
               false,
               false
              ]
             },
             {
              "title": "Mean Box Office Revenues by Month of Release for Thriller & Action/Adventure"
             }
            ],
            "label": "Thriller & Action/Adventure",
            "method": "update"
           },
           {
            "args": [
             {
              "visible": [
               false,
               false,
               false,
               false,
               false,
               false,
               false,
               false,
               true,
               false
              ]
             },
             {
              "title": "Mean Box Office Revenues by Month of Release for Thriller & Crime Fiction"
             }
            ],
            "label": "Thriller & Crime Fiction",
            "method": "update"
           },
           {
            "args": [
             {
              "visible": [
               false,
               false,
               false,
               false,
               false,
               false,
               false,
               false,
               false,
               true
              ]
             },
             {
              "title": "Mean Box Office Revenues by Month of Release for Thriller & Horror"
             }
            ],
            "label": "Thriller & Horror",
            "method": "update"
           }
          ],
          "direction": "down",
          "pad": {
           "r": 10,
           "t": 10
          },
          "showactive": true,
          "type": "dropdown",
          "x": 1.1,
          "xanchor": "left",
          "y": 1.2,
          "yanchor": "top"
         }
        ],
        "xaxis": {
         "anchor": "y",
         "domain": [
          0,
          1
         ]
        },
        "yaxis": {
         "anchor": "x",
         "domain": [
          0,
          1
         ]
        }
       }
      }
     },
     "metadata": {},
     "output_type": "display_data"
    }
   ],
   "source": [
    "# Calculate mean revenue for each genre pair\n",
    "genre_pair_mean_revenue = df_mov1.groupby(['Main_genre', 'Sec_Genre'])['Movie_revenue'].mean().reset_index()\n",
    "\n",
    "# Merge this mean revenue with the original df_mov1 on 'Main_genre' and 'Sec_Genre'\n",
    "df_mov1 = df_mov1.merge(genre_pair_mean_revenue, on=['Main_genre', 'Sec_Genre'], suffixes=('', '_mean'))\n",
    "\n",
    "# Fill NaN values in 'Movie_revenue' with the mean revenue of the genre pairs\n",
    "df_mov1['Movie_revenue'] = df_mov1['Movie_revenue'].fillna(df_mov1['Movie_revenue_mean'])\n",
    "\n",
    "# Drop the auxiliary 'Movie_revenue_mean' as it's no longer needed after the NaN values are filled\n",
    "df_mov1.drop(columns=['Movie_revenue_mean'], inplace=True)\n",
    "\n",
    "# Drop rows where either 'Main_genre' or 'Secondary_Genre' is NaN\n",
    "df_genre_pairs = df_mov1.dropna(subset=['Main_genre', 'Sec_Genre'])\n",
    "\n",
    "# Drop rows where either 'Main_genre' or 'Secondary_Genre' is 'Short Film'\n",
    "df_genre_pairs = df_genre_pairs[(df_genre_pairs['Main_genre'] != 'Short Film') & (df_genre_pairs['Sec_Genre'] != 'Short Film')]\n",
    "\n",
    "month_dict = {\n",
    "    1: \"January\", 2: \"February\", 3: \"March\", 4: \"April\", 5: \"May\", 6: \"June\",\n",
    "    7: \"July\", 8: \"August\", 9: \"September\", 10: \"October\", 11: \"November\", 12: \"December\"\n",
    "}\n",
    "\n",
    "# Create the 'genre_pairs_aggregated' DataFrame with 'count' and 'mean_revenue' as columns\n",
    "genre_pairs_aggregated = df_genre_pairs.groupby(['Main_genre', 'Sec_Genre']).agg(\n",
    "    count=('Wiki_ID', 'size'), \n",
    "    mean_revenue=('Movie_revenue', 'mean')\n",
    ").reset_index()\n",
    "\n",
    "top_10_genre_pairs = genre_pairs_aggregated[genre_pairs_aggregated['count'] >= 150].sort_values(by='mean_revenue', ascending=False).head(10)\n",
    "\n",
    "# Sort the top_10_genre_pairs list alphabetically by main genre only# 'top_10_genre_pairs' would be a DataFrame here, you need to extract the genre pairs as a list of tuples\n",
    "top_10_genre_pairs_list = top_10_genre_pairs[['Main_genre', 'Sec_Genre']].values.tolist()\n",
    "\n",
    "# Then, sort the list of tuples based on the main genre\n",
    "top_10_genre_pairs_sorted_by_main_genre = sorted(top_10_genre_pairs_list, key=lambda x: x[0])\n",
    "\n",
    "# Create an empty subplot\n",
    "fig = make_subplots(rows=1, cols=1, shared_yaxes=True)\n",
    "\n",
    "# Loop through each of the top 10 genre pairs\n",
    "for main_genre, secondary_genre in top_10_genre_pairs_sorted_by_main_genre:\n",
    "    pair_data = df_mov1[(df_mov1['Main_genre'] == main_genre) & (df_mov1['Sec_Genre'] == secondary_genre)]\n",
    "    month_mean_revenues = pair_data.groupby('Month_of_release')['Movie_revenue'].mean().reset_index()\n",
    "    month_mean_revenues['Month_of_release'] = month_mean_revenues['Month_of_release'].replace(month_dict)\n",
    "\n",
    "    trace = go.Bar(x=month_mean_revenues['Month_of_release'],\n",
    "                   y=month_mean_revenues['Movie_revenue'],\n",
    "                   name=f\"{main_genre} & {secondary_genre}\",\n",
    "                   opacity=1,\n",
    "                   marker_color=px.colors.sequential.Plasma_r)\n",
    "\n",
    "    fig.add_trace(trace)\n",
    "\n",
    "# Create dropdown menu to switch between the sorted genre pairs\n",
    "dropdown = []\n",
    "for i, (main_genre, secondary_genre) in enumerate(top_10_genre_pairs_sorted_by_main_genre):\n",
    "    # Each trace corresponds to a genre pair\n",
    "    # For each button, only the corresponding trace should be visible\n",
    "    visibility = [False] * len(top_10_genre_pairs_sorted_by_main_genre)\n",
    "    visibility[i] = True  # Only the current trace is visible\n",
    "    \n",
    "    option = dict(label=f\"{main_genre} & {secondary_genre}\",\n",
    "                  method='update',\n",
    "                  args=[{'visible': visibility},\n",
    "                        {'title': f'Mean Box Office Revenues by Month of Release for {main_genre} & {secondary_genre}'}])\n",
    "    dropdown.append(option)\n",
    "\n",
    "# Update layout with the sorted dropdown\n",
    "fig.update_layout(\n",
    "    updatemenus=[dict(\n",
    "        type='dropdown',\n",
    "        showactive=True,\n",
    "        buttons=dropdown,  # Use the sorted dropdown list here\n",
    "        direction=\"down\",\n",
    "        pad={\"r\": 10, \"t\": 10},\n",
    "        x=1.1,\n",
    "        xanchor=\"left\",\n",
    "        y=1.2,\n",
    "        yanchor=\"top\"\n",
    "    )],\n",
    "    # ... (keep the rest of your layout configuration as is)\n",
    ")"
   ]
  },
  {
   "cell_type": "markdown",
   "id": "44802ad2-82cc-4de5-a890-190e85a229a5",
   "metadata": {},
   "source": [
    "From this graph we can see the general release trends for the 10 ten pairs of movie genres. The distributions are really unbalenced and and it is interesting for us data scientists ! \\\n",
    "As an example, we can see the Science Fiction & Action movies released in April and May have way higher revenues compared to the rest. \\\n",
    "However, we would need further investigation to conclude that the release month plays a role in the succes of a movie."
   ]
  },
  {
   "cell_type": "markdown",
   "id": "8efc80b4-c654-46d7-9ed7-bca0eb1e1eb8",
   "metadata": {},
   "source": [
    "## **2. Merging all databases**\n",
    "\n",
    "Here we will merge all our databases to start performing some analysis on succes of a collaboration between actors."
   ]
  },
  {
   "cell_type": "code",
   "execution_count": null,
   "id": "3ae20a57-f062-41da-bf27-dea7606f27df",
   "metadata": {
    "tags": []
   },
   "outputs": [
    {
     "data": {
      "text/html": [
       "<div>\n",
       "<style scoped>\n",
       "    .dataframe tbody tr th:only-of-type {\n",
       "        vertical-align: middle;\n",
       "    }\n",
       "\n",
       "    .dataframe tbody tr th {\n",
       "        vertical-align: top;\n",
       "    }\n",
       "\n",
       "    .dataframe thead th {\n",
       "        text-align: right;\n",
       "    }\n",
       "</style>\n",
       "<table border=\"1\" class=\"dataframe\">\n",
       "  <thead>\n",
       "    <tr style=\"text-align: right;\">\n",
       "      <th></th>\n",
       "      <th>Movie_name</th>\n",
       "      <th>Movie_release_x</th>\n",
       "      <th>Movie_revenue</th>\n",
       "      <th>Movie_runtime</th>\n",
       "      <th>Movie_languages</th>\n",
       "      <th>Movie_countries</th>\n",
       "      <th>Main_genre</th>\n",
       "      <th>Sec_Genre</th>\n",
       "      <th>Movie_rating</th>\n",
       "      <th>Producer</th>\n",
       "      <th>...</th>\n",
       "      <th>Director</th>\n",
       "      <th>Writer</th>\n",
       "      <th>Freebase_ID</th>\n",
       "      <th>Char_name</th>\n",
       "      <th>Actor_birth</th>\n",
       "      <th>Actor_gender</th>\n",
       "      <th>Actor_height</th>\n",
       "      <th>Actor_ethnicity</th>\n",
       "      <th>Actor_name</th>\n",
       "      <th>Actor_age_release</th>\n",
       "    </tr>\n",
       "  </thead>\n",
       "  <tbody>\n",
       "    <tr>\n",
       "      <th>0</th>\n",
       "      <td>Ghosts of Mars</td>\n",
       "      <td>2001.0</td>\n",
       "      <td>14010832.0</td>\n",
       "      <td>98.0</td>\n",
       "      <td>{\"/m/02h40lc\": \"English Language\"}</td>\n",
       "      <td>{\"/m/09c7w0\": \"United States of America\"}</td>\n",
       "      <td>Thriller</td>\n",
       "      <td>Science Fiction</td>\n",
       "      <td>4.9</td>\n",
       "      <td>Sandy King</td>\n",
       "      <td>...</td>\n",
       "      <td>John Carpenter</td>\n",
       "      <td>NaN</td>\n",
       "      <td>/m/03vyhn</td>\n",
       "      <td>Akooshay</td>\n",
       "      <td>1958-08-26</td>\n",
       "      <td>F</td>\n",
       "      <td>1.620</td>\n",
       "      <td>NaN</td>\n",
       "      <td>Wanda De Jesus</td>\n",
       "      <td>42.0</td>\n",
       "    </tr>\n",
       "    <tr>\n",
       "      <th>1</th>\n",
       "      <td>Ghosts of Mars</td>\n",
       "      <td>2001.0</td>\n",
       "      <td>14010832.0</td>\n",
       "      <td>98.0</td>\n",
       "      <td>{\"/m/02h40lc\": \"English Language\"}</td>\n",
       "      <td>{\"/m/09c7w0\": \"United States of America\"}</td>\n",
       "      <td>Thriller</td>\n",
       "      <td>Science Fiction</td>\n",
       "      <td>4.9</td>\n",
       "      <td>Sandy King</td>\n",
       "      <td>...</td>\n",
       "      <td>John Carpenter</td>\n",
       "      <td>NaN</td>\n",
       "      <td>/m/03vyhn</td>\n",
       "      <td>Lieutenant Melanie Ballard</td>\n",
       "      <td>1974-08-15</td>\n",
       "      <td>F</td>\n",
       "      <td>1.780</td>\n",
       "      <td>/m/044038p</td>\n",
       "      <td>Natasha Henstridge</td>\n",
       "      <td>27.0</td>\n",
       "    </tr>\n",
       "    <tr>\n",
       "      <th>2</th>\n",
       "      <td>Ghosts of Mars</td>\n",
       "      <td>2001.0</td>\n",
       "      <td>14010832.0</td>\n",
       "      <td>98.0</td>\n",
       "      <td>{\"/m/02h40lc\": \"English Language\"}</td>\n",
       "      <td>{\"/m/09c7w0\": \"United States of America\"}</td>\n",
       "      <td>Thriller</td>\n",
       "      <td>Science Fiction</td>\n",
       "      <td>4.9</td>\n",
       "      <td>Sandy King</td>\n",
       "      <td>...</td>\n",
       "      <td>John Carpenter</td>\n",
       "      <td>NaN</td>\n",
       "      <td>/m/03vyhn</td>\n",
       "      <td>Desolation Williams</td>\n",
       "      <td>1969-06-15</td>\n",
       "      <td>M</td>\n",
       "      <td>1.727</td>\n",
       "      <td>/m/0x67</td>\n",
       "      <td>Ice Cube</td>\n",
       "      <td>32.0</td>\n",
       "    </tr>\n",
       "    <tr>\n",
       "      <th>3</th>\n",
       "      <td>Ghosts of Mars</td>\n",
       "      <td>2001.0</td>\n",
       "      <td>14010832.0</td>\n",
       "      <td>98.0</td>\n",
       "      <td>{\"/m/02h40lc\": \"English Language\"}</td>\n",
       "      <td>{\"/m/09c7w0\": \"United States of America\"}</td>\n",
       "      <td>Thriller</td>\n",
       "      <td>Science Fiction</td>\n",
       "      <td>4.9</td>\n",
       "      <td>Sandy King</td>\n",
       "      <td>...</td>\n",
       "      <td>John Carpenter</td>\n",
       "      <td>NaN</td>\n",
       "      <td>/m/03vyhn</td>\n",
       "      <td>Sgt Jericho Butler</td>\n",
       "      <td>1967-09-12</td>\n",
       "      <td>M</td>\n",
       "      <td>1.750</td>\n",
       "      <td>NaN</td>\n",
       "      <td>Jason Statham</td>\n",
       "      <td>33.0</td>\n",
       "    </tr>\n",
       "    <tr>\n",
       "      <th>4</th>\n",
       "      <td>Ghosts of Mars</td>\n",
       "      <td>2001.0</td>\n",
       "      <td>14010832.0</td>\n",
       "      <td>98.0</td>\n",
       "      <td>{\"/m/02h40lc\": \"English Language\"}</td>\n",
       "      <td>{\"/m/09c7w0\": \"United States of America\"}</td>\n",
       "      <td>Thriller</td>\n",
       "      <td>Science Fiction</td>\n",
       "      <td>4.9</td>\n",
       "      <td>Sandy King</td>\n",
       "      <td>...</td>\n",
       "      <td>John Carpenter</td>\n",
       "      <td>NaN</td>\n",
       "      <td>/m/03vyhn</td>\n",
       "      <td>Bashira Kincaid</td>\n",
       "      <td>1977-09-25</td>\n",
       "      <td>F</td>\n",
       "      <td>1.650</td>\n",
       "      <td>NaN</td>\n",
       "      <td>Clea DuVall</td>\n",
       "      <td>23.0</td>\n",
       "    </tr>\n",
       "  </tbody>\n",
       "</table>\n",
       "<p>5 rows × 21 columns</p>\n",
       "</div>"
      ],
      "text/plain": [
       "       Movie_name  Movie_release_x  Movie_revenue  Movie_runtime  \\\n",
       "0  Ghosts of Mars           2001.0     14010832.0           98.0   \n",
       "1  Ghosts of Mars           2001.0     14010832.0           98.0   \n",
       "2  Ghosts of Mars           2001.0     14010832.0           98.0   \n",
       "3  Ghosts of Mars           2001.0     14010832.0           98.0   \n",
       "4  Ghosts of Mars           2001.0     14010832.0           98.0   \n",
       "\n",
       "                      Movie_languages  \\\n",
       "0  {\"/m/02h40lc\": \"English Language\"}   \n",
       "1  {\"/m/02h40lc\": \"English Language\"}   \n",
       "2  {\"/m/02h40lc\": \"English Language\"}   \n",
       "3  {\"/m/02h40lc\": \"English Language\"}   \n",
       "4  {\"/m/02h40lc\": \"English Language\"}   \n",
       "\n",
       "                             Movie_countries Main_genre        Sec_Genre  \\\n",
       "0  {\"/m/09c7w0\": \"United States of America\"}   Thriller  Science Fiction   \n",
       "1  {\"/m/09c7w0\": \"United States of America\"}   Thriller  Science Fiction   \n",
       "2  {\"/m/09c7w0\": \"United States of America\"}   Thriller  Science Fiction   \n",
       "3  {\"/m/09c7w0\": \"United States of America\"}   Thriller  Science Fiction   \n",
       "4  {\"/m/09c7w0\": \"United States of America\"}   Thriller  Science Fiction   \n",
       "\n",
       "   Movie_rating    Producer  ...        Director Writer Freebase_ID  \\\n",
       "0           4.9  Sandy King  ...  John Carpenter    NaN   /m/03vyhn   \n",
       "1           4.9  Sandy King  ...  John Carpenter    NaN   /m/03vyhn   \n",
       "2           4.9  Sandy King  ...  John Carpenter    NaN   /m/03vyhn   \n",
       "3           4.9  Sandy King  ...  John Carpenter    NaN   /m/03vyhn   \n",
       "4           4.9  Sandy King  ...  John Carpenter    NaN   /m/03vyhn   \n",
       "\n",
       "                    Char_name Actor_birth Actor_gender Actor_height  \\\n",
       "0                    Akooshay  1958-08-26            F        1.620   \n",
       "1  Lieutenant Melanie Ballard  1974-08-15            F        1.780   \n",
       "2         Desolation Williams  1969-06-15            M        1.727   \n",
       "3          Sgt Jericho Butler  1967-09-12            M        1.750   \n",
       "4             Bashira Kincaid  1977-09-25            F        1.650   \n",
       "\n",
       "   Actor_ethnicity          Actor_name Actor_age_release  \n",
       "0              NaN      Wanda De Jesus              42.0  \n",
       "1       /m/044038p  Natasha Henstridge              27.0  \n",
       "2          /m/0x67            Ice Cube              32.0  \n",
       "3              NaN       Jason Statham              33.0  \n",
       "4              NaN         Clea DuVall              23.0  \n",
       "\n",
       "[5 rows x 21 columns]"
      ]
     },
     "execution_count": 55,
     "metadata": {},
     "output_type": "execute_result"
    }
   ],
   "source": [
    "df_mov_rel = df_mov.copy()\n",
    "\n",
    "#Convert the date format into float for merging purposes\n",
    "df_mov_rel['Movie_release'] = df_mov_rel['Movie_release'].apply(lambda x: float(str(x).split('-')[0]))\n",
    "\n",
    "#Merge the imdb database with our main movie database\n",
    "df_movie = df_mov_rel.merge(df_imdb, on=['Movie_release', 'Movie_name'], how='left')\n",
    "df_movie = df_movie.drop(['Freebase_ID', 'Movie_genres', 'Genre_dict'], axis=1)\n",
    "\n",
    "#Merge actor database\n",
    "df_all = df_movie.merge(df_char, on='Wiki_ID', how='right')\n",
    "df_all = df_all.drop(['Wiki_ID', 'Char/Actor_map', 'Char_ID', 'Actor_ID', 'Movie_release_y'], axis=1)\n",
    "df_all = df_all.rename(columns={'Movie_release_x': 'Movie_release'})\n",
    "\n",
    "df_all.head()"
   ]
  },
  {
   "cell_type": "markdown",
   "id": "c6aa6962-2f03-43e6-bc69-3b26fafea6a7",
   "metadata": {},
   "source": [
    "As seen in the data management and how the data is distributed, we choose to restrict ourselves the dataset to the movies that have been published in the US because maybe the alchemy might have different mechanisms over the continents or culture so we don’t really want confounders to come into play."
   ]
  },
  {
   "cell_type": "code",
   "execution_count": null,
   "id": "4b7df5d1-9550-4e21-816a-299e078aca3c",
   "metadata": {
    "tags": []
   },
   "outputs": [
    {
     "name": "stdout",
     "output_type": "stream",
     "text": [
      "The database has now 244240 entries.\n"
     ]
    }
   ],
   "source": [
    "#We will focus on the United States of America for our analysis as they contain the most non-nan values \n",
    "df_movie = df_all[df_all['Movie_countries'].str.contains(\"United States of America\")]\n",
    "print(f\"The database has now {len(df_movie)} entries.\")"
   ]
  },
  {
   "cell_type": "code",
   "execution_count": null,
   "id": "385fc8c0-21dd-461d-9734-a83d81f59a10",
   "metadata": {
    "tags": []
   },
   "outputs": [
    {
     "name": "stdout",
     "output_type": "stream",
     "text": [
      "The database has now 87654 entries.\n"
     ]
    },
    {
     "data": {
      "text/plain": [
       "<AxesSubplot:>"
      ]
     },
     "execution_count": 57,
     "metadata": {},
     "output_type": "execute_result"
    },
    {
     "data": {
      "image/png": "[encoded data removed]",
      "text/plain": [
       "<Figure size 2500x1000 with 2 Axes>"
      ]
     },
     "metadata": {},
     "output_type": "display_data"
    }
   ],
   "source": [
    "df_movie = df_movie.dropna(subset=['Actor_name','Movie_name','Movie_revenue','Movie_release_x'])\n",
    "print(f\"The database has now {len(df_movie)} entries.\")\n",
    "msno.matrix(df_movie)"
   ]
  },
  {
   "cell_type": "code",
   "execution_count": null,
   "id": "b0b3faef-7f78-44bb-b679-cf9785a18bf8",
   "metadata": {
    "tags": []
   },
   "outputs": [
    {
     "data": {
      "text/plain": [
       "<AxesSubplot:>"
      ]
     },
     "execution_count": 58,
     "metadata": {},
     "output_type": "execute_result"
    },
    {
     "data": {
      "image/png": "[encoded data removed]",
      "text/plain": [
       "<Figure size 2000x1200 with 2 Axes>"
      ]
     },
     "metadata": {},
     "output_type": "display_data"
    }
   ],
   "source": [
    "msno.heatmap(df_movie)"
   ]
  },
  {
   "cell_type": "markdown",
   "id": "bf19fd17-dca3-4f9f-8d39-c2a27262ca45",
   "metadata": {},
   "source": [
    "## **3. First transformations around the data**\n",
    "\n",
    "### **3.1 Inflation process**\n",
    "\n",
    "First our database doesn't take into account inflation, so we the help of a verified online calculator, we created an inflation table so every revenue is similar to 2023 in inflation. For example, starting in the row of the first movie release (1888), we create a column giving us the value in 2023 of one dollar in 1888, which is 32.39$. Then we proceed for all the next years until 2023.\n",
    "The transformation for each row is just about taking the year of release of the movie, go to his movie revenue and multiply it by the corresponding inflation factor."
   ]
  },
  {
   "cell_type": "code",
   "execution_count": null,
   "id": "e2da9d56-a0a7-4ae1-88a7-8eefd25f4e7e",
   "metadata": {
    "tags": []
   },
   "outputs": [
    {
     "data": {
      "text/html": [
       "<div>\n",
       "<style scoped>\n",
       "    .dataframe tbody tr th:only-of-type {\n",
       "        vertical-align: middle;\n",
       "    }\n",
       "\n",
       "    .dataframe tbody tr th {\n",
       "        vertical-align: top;\n",
       "    }\n",
       "\n",
       "    .dataframe thead th {\n",
       "        text-align: right;\n",
       "    }\n",
       "</style>\n",
       "<table border=\"1\" class=\"dataframe\">\n",
       "  <thead>\n",
       "    <tr style=\"text-align: right;\">\n",
       "      <th></th>\n",
       "      <th>Movie_name</th>\n",
       "      <th>Movie_release_x</th>\n",
       "      <th>Movie_revenue</th>\n",
       "      <th>Movie_runtime</th>\n",
       "      <th>Movie_languages</th>\n",
       "      <th>Movie_countries</th>\n",
       "      <th>Main_genre</th>\n",
       "      <th>Sec_Genre</th>\n",
       "      <th>Movie_rating</th>\n",
       "      <th>Producer</th>\n",
       "      <th>...</th>\n",
       "      <th>Freebase_ID</th>\n",
       "      <th>Char_name</th>\n",
       "      <th>Actor_birth</th>\n",
       "      <th>Actor_gender</th>\n",
       "      <th>Actor_height</th>\n",
       "      <th>Actor_ethnicity</th>\n",
       "      <th>Actor_name</th>\n",
       "      <th>Actor_age_release</th>\n",
       "      <th>Inflation Factor for 2023</th>\n",
       "      <th>2023 valued revenue</th>\n",
       "    </tr>\n",
       "  </thead>\n",
       "  <tbody>\n",
       "    <tr>\n",
       "      <th>257252</th>\n",
       "      <td>Snow White and the Seven Dwarfs</td>\n",
       "      <td>1937.0</td>\n",
       "      <td>416000000.0</td>\n",
       "      <td>84.0</td>\n",
       "      <td>{\"/m/02h40lc\": \"English Language\"}</td>\n",
       "      <td>{\"/m/09c7w0\": \"United States of America\"}</td>\n",
       "      <td>Romance Film</td>\n",
       "      <td>Musical</td>\n",
       "      <td>NaN</td>\n",
       "      <td>NaN</td>\n",
       "      <td>...</td>\n",
       "      <td>/m/0k4d7</td>\n",
       "      <td>Doc</td>\n",
       "      <td>1878-05-02</td>\n",
       "      <td>M</td>\n",
       "      <td>NaN</td>\n",
       "      <td>NaN</td>\n",
       "      <td>Roy Atwell</td>\n",
       "      <td>NaN</td>\n",
       "      <td>21.37</td>\n",
       "      <td>8.889920e+09</td>\n",
       "    </tr>\n",
       "    <tr>\n",
       "      <th>257258</th>\n",
       "      <td>Snow White and the Seven Dwarfs</td>\n",
       "      <td>1937.0</td>\n",
       "      <td>416000000.0</td>\n",
       "      <td>84.0</td>\n",
       "      <td>{\"/m/02h40lc\": \"English Language\"}</td>\n",
       "      <td>{\"/m/09c7w0\": \"United States of America\"}</td>\n",
       "      <td>Romance Film</td>\n",
       "      <td>Musical</td>\n",
       "      <td>NaN</td>\n",
       "      <td>NaN</td>\n",
       "      <td>...</td>\n",
       "      <td>/m/0k4d7</td>\n",
       "      <td>Happy</td>\n",
       "      <td>1865-12-29</td>\n",
       "      <td>M</td>\n",
       "      <td>NaN</td>\n",
       "      <td>NaN</td>\n",
       "      <td>Otis Harlan</td>\n",
       "      <td>NaN</td>\n",
       "      <td>21.37</td>\n",
       "      <td>8.889920e+09</td>\n",
       "    </tr>\n",
       "  </tbody>\n",
       "</table>\n",
       "<p>2 rows × 23 columns</p>\n",
       "</div>"
      ],
      "text/plain": [
       "                             Movie_name  Movie_release_x  Movie_revenue  \\\n",
       "257252  Snow White and the Seven Dwarfs           1937.0    416000000.0   \n",
       "257258  Snow White and the Seven Dwarfs           1937.0    416000000.0   \n",
       "\n",
       "        Movie_runtime                     Movie_languages  \\\n",
       "257252           84.0  {\"/m/02h40lc\": \"English Language\"}   \n",
       "257258           84.0  {\"/m/02h40lc\": \"English Language\"}   \n",
       "\n",
       "                                  Movie_countries    Main_genre Sec_Genre  \\\n",
       "257252  {\"/m/09c7w0\": \"United States of America\"}  Romance Film   Musical   \n",
       "257258  {\"/m/09c7w0\": \"United States of America\"}  Romance Film   Musical   \n",
       "\n",
       "        Movie_rating Producer  ... Freebase_ID Char_name Actor_birth  \\\n",
       "257252           NaN      NaN  ...    /m/0k4d7       Doc  1878-05-02   \n",
       "257258           NaN      NaN  ...    /m/0k4d7     Happy  1865-12-29   \n",
       "\n",
       "       Actor_gender Actor_height Actor_ethnicity   Actor_name  \\\n",
       "257252            M          NaN             NaN   Roy Atwell   \n",
       "257258            M          NaN             NaN  Otis Harlan   \n",
       "\n",
       "        Actor_age_release Inflation Factor for 2023 2023 valued revenue  \n",
       "257252                NaN                     21.37        8.889920e+09  \n",
       "257258                NaN                     21.37        8.889920e+09  \n",
       "\n",
       "[2 rows x 23 columns]"
      ]
     },
     "execution_count": 59,
     "metadata": {},
     "output_type": "execute_result"
    }
   ],
   "source": [
    "columns_inf = ['year', 'amount','inflation rate']\n",
    "inflation = pd.read_table('data/inflation_data.csv', header=None, names=columns_inf,sep=',')\n",
    "inflation = inflation.drop(index=0)\n",
    "\n",
    "#From https://www.officialdata.org/us/inflation/1888?amount=1\n",
    "\n",
    "value_in_2023 = [32.39,33.44,33.81,33.81,33.81,34.19,35.78,36.63,36.63,37.07,\n",
    "                   37.07,37.07,36.63,36.20,35.78,34.96,34.57,34.96,34.19,32.73,\n",
    "                   33.44,33.81,32.39,32.39,31.72,31.08,30.77,30.46,28.23,24.04,\n",
    "                   20.38,17.78,15.38,17.19,18.31,17.99,17.99,17.58,17.38,17.68,\n",
    "                   17.99,17.99,18.42,20.24,22.46,23.67,22.96,22.46,22.13,21.37,\n",
    "                   21.82,22.13,21.98,20.93,18.88,17.78,17.48,17.09,15.78,13.80,\n",
    "                   12.77,12.93,12.77,11.83,11.61,11.52,11.44,11.48,11.31,10.95,\n",
    "                   10.65,10.57,10.39,10.29,10.19,10.05,9.92,9.77,9.50,9.21,8.84,\n",
    "                   8.38,7.93,7.60,7.36,6.93,6.24,5.72,5.41,5.08,4.72,4.24,3.73,\n",
    "                   3.38,3.19,3.09,2.96,2.86,2.81,2.71,2.60,2.48,2.35,2.26,2.19,\n",
    "                   2.13,2.08,2.02,1.96,1.92,1.89,1.85,1.79,1.74,1.71,1.67,1.63,\n",
    "                   1.58,1.53,1.48,1.43,1.43,1.41,1.37,1.34,1.32,1.30,1.30,1.28,\n",
    "                   1.26,1.22,1.20,1.19,1.14,1.05,1]\n",
    "\n",
    "inflation[\"Inflation Factor for 2023\"] = value_in_2023\n",
    "inflation[\"year\"] = inflation[\"year\"].astype(float)\n",
    "\n",
    "df_movie['Inflation Factor for 2023'] = df_movie['Movie_release_x'].map(inflation.set_index('year')['Inflation Factor for 2023'])\n",
    "df_movie['2023 valued revenue'] = df_movie['Movie_revenue'] * df_movie['Inflation Factor for 2023']\n",
    "\n",
    "df_mood = df_movie.sort_values(by=['2023 valued revenue'],ascending = False)\n",
    "df_mood.head(2)"
   ]
  },
  {
   "cell_type": "markdown",
   "id": "14f5ba45-c9aa-40a8-85ed-b78a4f577238",
   "metadata": {},
   "source": [
    "Then we plot the difference between the Movie Revenue and the value of the Movie Revenue in 2023 :"
   ]
  },
  {
   "cell_type": "code",
   "execution_count": null,
   "id": "b19a7a1e-067a-4415-b52c-c105b91026b8",
   "metadata": {
    "tags": []
   },
   "outputs": [
    {
     "data": {
      "image/png": "[encoded data removed]",
      "text/plain": [
       "<Figure size 1000x600 with 1 Axes>"
      ]
     },
     "metadata": {},
     "output_type": "display_data"
    }
   ],
   "source": [
    "# Group the DataFrame by year and calculate the average revenue for \"Non-inflated revenue\" and \"Movie_revenue\"\n",
    "average_revenue = df_mood.groupby('Movie_release_x')[['2023 valued revenue', 'Movie_revenue']].mean()\n",
    "\n",
    "# Extract the years and corresponding average revenue values\n",
    "years = average_revenue.index\n",
    "non_inflated_revenue = average_revenue['2023 valued revenue']\n",
    "movie_revenue = average_revenue['Movie_revenue']\n",
    "\n",
    "# Create a line plot\n",
    "plt.figure(figsize=(10, 6))\n",
    "plt.plot(years, non_inflated_revenue, label='2023 valued revenue', marker='o')\n",
    "plt.plot(years, movie_revenue, label='Movie_revenue', marker='o')\n",
    "\n",
    "# Set labels and legend\n",
    "plt.xlabel('Year')\n",
    "plt.ylabel('Average Revenue')\n",
    "plt.title('Average Movie Revenue per Year')\n",
    "plt.legend()\n",
    "\n",
    "# Show the plot\n",
    "plt.grid(True)\n",
    "plt.show()"
   ]
  },
  {
   "cell_type": "markdown",
   "id": "3afff39e-2c2a-4a4b-a96a-ead86d266ed8",
   "metadata": {},
   "source": [
    "We can see that the difference between the two are rather big, but it should be the correct representation of the success of a movie. \\\n",
    "It is interesting to see that movies in the 40s were really booming and that the most profitable movie of all time would be \"Snow White and the Seven Dwarfs\" and not \"Avatar\" like most of us believed."
   ]
  },
  {
   "cell_type": "markdown",
   "id": "9fc31084-4ebb-410a-addc-ecabd5d7c391",
   "metadata": {},
   "source": [
    "### **3.2 Creating new columns derived on our data**\n",
    "\n",
    "Theses new columns will help us to understand better the evolution of actors indiviudally. We will calculate the revenue, longevity in the industry, film count, and the average rating for each actor at the time of the release. We will be able to see which fe"
   ]
  },
  {
   "cell_type": "code",
   "execution_count": null,
   "id": "53bdc8c4-2ac6-4d38-8f0b-fece83f03764",
   "metadata": {
    "tags": []
   },
   "outputs": [],
   "source": [
    "def calculate_avg_revenue(row, grouped_data):\n",
    "    previous_films = grouped_data.get_group(row['Actor_name'])\n",
    "    previous_films = previous_films[previous_films['Movie_release_x'] <= row['Movie_release_x']]\n",
    "    if previous_films.empty:\n",
    "        return np.nan\n",
    "    else:\n",
    "        return previous_films['Movie_revenue'].mean()\n",
    "    \n",
    "def calculate_longevity(row, grouped_data):\n",
    "    first_film_date = grouped_data.get_group(row['Actor_name'])['Movie_release_x'].min()\n",
    "    if (len(grouped_data.get_group(row['Actor_name'])['Movie_release_x']) == 0) : \n",
    "        return 0\n",
    "    elif first_film_date == np.nan : \n",
    "        return np.nan\n",
    "    else :\n",
    "        return row['Movie_release_x'] - first_film_date\n",
    "\n",
    "def calculate_films_count(row, grouped_data):\n",
    "    previous_films = grouped_data.get_group(row['Actor_name'])\n",
    "    return previous_films[previous_films['Movie_release_x'] <= row['Movie_release_x']].shape[0]\n",
    "\n",
    "def calculate_avg_rating(row, grouped_data):\n",
    "    previous_films = grouped_data.get_group(row['Actor_name'])\n",
    "    previous_films = previous_films[previous_films['Movie_release_x'] <= row['Movie_release_x']]\n",
    "    if previous_films.empty:\n",
    "        return np.nan\n",
    "    else:\n",
    "        return previous_films['Movie_rating'].mean()"
   ]
  },
  {
   "cell_type": "code",
   "execution_count": null,
   "id": "e167a1fd-6cae-4e42-8d4e-f0283056ea2d",
   "metadata": {
    "tags": []
   },
   "outputs": [],
   "source": [
    "#Create the actors subgroups\n",
    "grouped_by_actor = df_movie.groupby('Actor_name')\n",
    "\n",
    "#Create the new columns\n",
    "df_movie['Avg_revenue_per_film_at_release'] = df_movie.apply(lambda row: calculate_avg_revenue(row, grouped_by_actor), axis=1)\n",
    "df_movie['Longevity'] = df_movie.apply(lambda row: calculate_longevity(row, grouped_by_actor), axis=1)\n",
    "df_movie['Number_of_film_at_release'] = df_movie.apply(lambda row: calculate_films_count(row, grouped_by_actor), axis=1)\n",
    "df_movie['Avg_rating_per_film_at_release'] = df_movie.apply(lambda row: calculate_avg_rating(row, grouped_by_actor), axis=1)\n",
    "\n",
    "# Ensure that Movie_release is sorted in ascending order for each actor\n",
    "df_movie = df_movie.sort_values(by=['Actor_name', 'Movie_release_x'])\n",
    "\n",
    "# Group by Actor_name and count the films in each group\n",
    "df_movie['film_count'] = df_movie.groupby('Actor_name').cumcount()\n",
    "\n",
    "# Add a new column boolean to see if this is the first film of an actor or not\n",
    "df_movie['First_film'] = df_movie['film_count'] == 0\n",
    "# Group by Actor_name and get the first release year for each actor\n",
    "df_movie['first_movie_year'] = df_movie.groupby('Actor_name')['Movie_release_x'].transform('min')\n",
    "# Create a new column 'First_film' which is True if 'Movie_release' is the same as 'first_movie_year'\n",
    "df_movie['First_film'] = df_movie['Movie_release_x'] == df_movie['first_movie_year']\n",
    "\n",
    "# Drop the useless columns\n",
    "df_movie.drop('first_movie_year', axis=1, inplace=True)\n",
    "df_movie.drop('film_count', axis=1, inplace=True)\n",
    "df_movie.rename(columns={'Movie_release_x': 'Movie_release'}, inplace=True)"
   ]
  },
  {
   "cell_type": "code",
   "execution_count": null,
   "metadata": {},
   "outputs": [
    {
     "data": {
      "text/plain": [
       "Index(['Movie_name', 'Movie_release', 'Movie_revenue', 'Movie_runtime',\n",
       "       'Movie_languages', 'Movie_countries', 'Main_genre', 'Sec_Genre',\n",
       "       'Movie_rating', 'Producer', 'Composer', 'Director', 'Writer',\n",
       "       'Freebase_ID', 'Char_name', 'Actor_birth', 'Actor_gender',\n",
       "       'Actor_height', 'Actor_ethnicity', 'Actor_name', 'Actor_age_release',\n",
       "       'Inflation Factor for 2023', '2023 valued revenue',\n",
       "       'Avg_revenue_per_film_at_release', 'Longevity',\n",
       "       'Number_of_film_at_release', 'Avg_rating_per_film_at_release',\n",
       "       'First_film'],\n",
       "      dtype='object')"
      ]
     },
     "execution_count": 63,
     "metadata": {},
     "output_type": "execute_result"
    }
   ],
   "source": [
    "df_movie.columns"
   ]
  },
  {
   "cell_type": "markdown",
   "metadata": {},
   "source": [
    "### **3.3 Creating dataframe with pairs of actors**"
   ]
  },
  {
   "cell_type": "code",
   "execution_count": null,
   "metadata": {},
   "outputs": [
    {
     "data": {
      "text/html": [
       "<div>\n",
       "<style scoped>\n",
       "    .dataframe tbody tr th:only-of-type {\n",
       "        vertical-align: middle;\n",
       "    }\n",
       "\n",
       "    .dataframe tbody tr th {\n",
       "        vertical-align: top;\n",
       "    }\n",
       "\n",
       "    .dataframe thead th {\n",
       "        text-align: right;\n",
       "    }\n",
       "</style>\n",
       "<table border=\"1\" class=\"dataframe\">\n",
       "  <thead>\n",
       "    <tr style=\"text-align: right;\">\n",
       "      <th></th>\n",
       "      <th>Movie_name</th>\n",
       "      <th>Movie_release</th>\n",
       "      <th>Actor_pairs</th>\n",
       "    </tr>\n",
       "  </thead>\n",
       "  <tbody>\n",
       "    <tr>\n",
       "      <th>0</th>\n",
       "      <td>'Til There Was You</td>\n",
       "      <td>1997.0</td>\n",
       "      <td>(Alice Drummond, Christine Ebersole)</td>\n",
       "    </tr>\n",
       "    <tr>\n",
       "      <th>0</th>\n",
       "      <td>'Til There Was You</td>\n",
       "      <td>1997.0</td>\n",
       "      <td>(Alice Drummond, Craig Bierko)</td>\n",
       "    </tr>\n",
       "    <tr>\n",
       "      <th>0</th>\n",
       "      <td>'Til There Was You</td>\n",
       "      <td>1997.0</td>\n",
       "      <td>(Alice Drummond, Dylan McDermott)</td>\n",
       "    </tr>\n",
       "    <tr>\n",
       "      <th>0</th>\n",
       "      <td>'Til There Was You</td>\n",
       "      <td>1997.0</td>\n",
       "      <td>(Alice Drummond, Jeanne Tripplehorn)</td>\n",
       "    </tr>\n",
       "    <tr>\n",
       "      <th>0</th>\n",
       "      <td>'Til There Was You</td>\n",
       "      <td>1997.0</td>\n",
       "      <td>(Alice Drummond, Jennifer Aniston)</td>\n",
       "    </tr>\n",
       "  </tbody>\n",
       "</table>\n",
       "</div>"
      ],
      "text/plain": [
       "           Movie_name  Movie_release                           Actor_pairs\n",
       "0  'Til There Was You         1997.0  (Alice Drummond, Christine Ebersole)\n",
       "0  'Til There Was You         1997.0        (Alice Drummond, Craig Bierko)\n",
       "0  'Til There Was You         1997.0     (Alice Drummond, Dylan McDermott)\n",
       "0  'Til There Was You         1997.0  (Alice Drummond, Jeanne Tripplehorn)\n",
       "0  'Til There Was You         1997.0    (Alice Drummond, Jennifer Aniston)"
      ]
     },
     "execution_count": 64,
     "metadata": {},
     "output_type": "execute_result"
    }
   ],
   "source": [
    "# Group by 'Movie_name' and aggregate 'Actor_name' into lists\n",
    "actor_pairs = df_movie.groupby(['Movie_name', 'Movie_release'])['Actor_name'].apply(list)\n",
    "\n",
    "# For each movie, create all possible pairs of actors without duplication\n",
    "actor_pairs = actor_pairs.apply(lambda x: list(combinations(sorted(set(x)), 2)))\n",
    "\n",
    "df_pairs = pd.DataFrame(actor_pairs)\n",
    "df_pairs = df_pairs.reset_index()\n",
    "df_pairs = df_pairs.rename(columns={'Actor_name': 'Actor_pairs'})\n",
    "df_pairs = df_pairs.explode('Actor_pairs')\n",
    "df_pairs.head()"
   ]
  },
  {
   "cell_type": "code",
   "execution_count": 65,
   "metadata": {},
   "outputs": [
    {
     "ename": "MemoryError",
     "evalue": "Unable to allocate 518. MiB for an array with shape (5, 13566907) and data type float64",
     "output_type": "error",
     "traceback": [
      "\u001b[1;31m---------------------------------------------------------------------------\u001b[0m",
      "\u001b[1;31mMemoryError\u001b[0m                               Traceback (most recent call last)",
      "\u001b[1;32mc:\\Users\\Adrien\\ada2023-project\\main.ipynb Cell 61\u001b[0m line \u001b[0;36m1\n\u001b[1;32m----> <a href='vscode-notebook-cell:/c%3A/Users/Adrien/ada2023-project/main.ipynb#Y123sZmlsZQ%3D%3D?line=0'>1</a>\u001b[0m df_pairs \u001b[39m=\u001b[39m df_pairs\u001b[39m.\u001b[39;49mmerge(df_movie, on\u001b[39m=\u001b[39;49m[\u001b[39m'\u001b[39;49m\u001b[39mMovie_name\u001b[39;49m\u001b[39m'\u001b[39;49m, \u001b[39m'\u001b[39;49m\u001b[39mMovie_release\u001b[39;49m\u001b[39m'\u001b[39;49m], how\u001b[39m=\u001b[39;49m\u001b[39m'\u001b[39;49m\u001b[39mleft\u001b[39;49m\u001b[39m'\u001b[39;49m)\n",
      "File \u001b[1;32md:\\Users\\Adrien\\miniconda3\\lib\\site-packages\\pandas\\core\\frame.py:10093\u001b[0m, in \u001b[0;36mDataFrame.merge\u001b[1;34m(self, right, how, on, left_on, right_on, left_index, right_index, sort, suffixes, copy, indicator, validate)\u001b[0m\n\u001b[0;32m  10074\u001b[0m \u001b[39m@Substitution\u001b[39m(\u001b[39m\"\u001b[39m\u001b[39m\"\u001b[39m)\n\u001b[0;32m  10075\u001b[0m \u001b[39m@Appender\u001b[39m(_merge_doc, indents\u001b[39m=\u001b[39m\u001b[39m2\u001b[39m)\n\u001b[0;32m  10076\u001b[0m \u001b[39mdef\u001b[39;00m \u001b[39mmerge\u001b[39m(\n\u001b[1;32m   (...)\u001b[0m\n\u001b[0;32m  10089\u001b[0m     validate: \u001b[39mstr\u001b[39m \u001b[39m|\u001b[39m \u001b[39mNone\u001b[39;00m \u001b[39m=\u001b[39m \u001b[39mNone\u001b[39;00m,\n\u001b[0;32m  10090\u001b[0m ) \u001b[39m-\u001b[39m\u001b[39m>\u001b[39m DataFrame:\n\u001b[0;32m  10091\u001b[0m     \u001b[39mfrom\u001b[39;00m \u001b[39mpandas\u001b[39;00m\u001b[39m.\u001b[39;00m\u001b[39mcore\u001b[39;00m\u001b[39m.\u001b[39;00m\u001b[39mreshape\u001b[39;00m\u001b[39m.\u001b[39;00m\u001b[39mmerge\u001b[39;00m \u001b[39mimport\u001b[39;00m merge\n\u001b[1;32m> 10093\u001b[0m     \u001b[39mreturn\u001b[39;00m merge(\n\u001b[0;32m  10094\u001b[0m         \u001b[39mself\u001b[39;49m,\n\u001b[0;32m  10095\u001b[0m         right,\n\u001b[0;32m  10096\u001b[0m         how\u001b[39m=\u001b[39;49mhow,\n\u001b[0;32m  10097\u001b[0m         on\u001b[39m=\u001b[39;49mon,\n\u001b[0;32m  10098\u001b[0m         left_on\u001b[39m=\u001b[39;49mleft_on,\n\u001b[0;32m  10099\u001b[0m         right_on\u001b[39m=\u001b[39;49mright_on,\n\u001b[0;32m  10100\u001b[0m         left_index\u001b[39m=\u001b[39;49mleft_index,\n\u001b[0;32m  10101\u001b[0m         right_index\u001b[39m=\u001b[39;49mright_index,\n\u001b[0;32m  10102\u001b[0m         sort\u001b[39m=\u001b[39;49msort,\n\u001b[0;32m  10103\u001b[0m         suffixes\u001b[39m=\u001b[39;49msuffixes,\n\u001b[0;32m  10104\u001b[0m         copy\u001b[39m=\u001b[39;49mcopy,\n\u001b[0;32m  10105\u001b[0m         indicator\u001b[39m=\u001b[39;49mindicator,\n\u001b[0;32m  10106\u001b[0m         validate\u001b[39m=\u001b[39;49mvalidate,\n\u001b[0;32m  10107\u001b[0m     )\n",
      "File \u001b[1;32md:\\Users\\Adrien\\miniconda3\\lib\\site-packages\\pandas\\core\\reshape\\merge.py:124\u001b[0m, in \u001b[0;36mmerge\u001b[1;34m(left, right, how, on, left_on, right_on, left_index, right_index, sort, suffixes, copy, indicator, validate)\u001b[0m\n\u001b[0;32m     93\u001b[0m \u001b[39m@Substitution\u001b[39m(\u001b[39m\"\u001b[39m\u001b[39m\\n\u001b[39;00m\u001b[39mleft : DataFrame or named Series\u001b[39m\u001b[39m\"\u001b[39m)\n\u001b[0;32m     94\u001b[0m \u001b[39m@Appender\u001b[39m(_merge_doc, indents\u001b[39m=\u001b[39m\u001b[39m0\u001b[39m)\n\u001b[0;32m     95\u001b[0m \u001b[39mdef\u001b[39;00m \u001b[39mmerge\u001b[39m(\n\u001b[1;32m   (...)\u001b[0m\n\u001b[0;32m    108\u001b[0m     validate: \u001b[39mstr\u001b[39m \u001b[39m|\u001b[39m \u001b[39mNone\u001b[39;00m \u001b[39m=\u001b[39m \u001b[39mNone\u001b[39;00m,\n\u001b[0;32m    109\u001b[0m ) \u001b[39m-\u001b[39m\u001b[39m>\u001b[39m DataFrame:\n\u001b[0;32m    110\u001b[0m     op \u001b[39m=\u001b[39m _MergeOperation(\n\u001b[0;32m    111\u001b[0m         left,\n\u001b[0;32m    112\u001b[0m         right,\n\u001b[1;32m   (...)\u001b[0m\n\u001b[0;32m    122\u001b[0m         validate\u001b[39m=\u001b[39mvalidate,\n\u001b[0;32m    123\u001b[0m     )\n\u001b[1;32m--> 124\u001b[0m     \u001b[39mreturn\u001b[39;00m op\u001b[39m.\u001b[39;49mget_result(copy\u001b[39m=\u001b[39;49mcopy)\n",
      "File \u001b[1;32md:\\Users\\Adrien\\miniconda3\\lib\\site-packages\\pandas\\core\\reshape\\merge.py:775\u001b[0m, in \u001b[0;36m_MergeOperation.get_result\u001b[1;34m(self, copy)\u001b[0m\n\u001b[0;32m    771\u001b[0m     \u001b[39mself\u001b[39m\u001b[39m.\u001b[39mleft, \u001b[39mself\u001b[39m\u001b[39m.\u001b[39mright \u001b[39m=\u001b[39m \u001b[39mself\u001b[39m\u001b[39m.\u001b[39m_indicator_pre_merge(\u001b[39mself\u001b[39m\u001b[39m.\u001b[39mleft, \u001b[39mself\u001b[39m\u001b[39m.\u001b[39mright)\n\u001b[0;32m    773\u001b[0m join_index, left_indexer, right_indexer \u001b[39m=\u001b[39m \u001b[39mself\u001b[39m\u001b[39m.\u001b[39m_get_join_info()\n\u001b[1;32m--> 775\u001b[0m result \u001b[39m=\u001b[39m \u001b[39mself\u001b[39;49m\u001b[39m.\u001b[39;49m_reindex_and_concat(\n\u001b[0;32m    776\u001b[0m     join_index, left_indexer, right_indexer, copy\u001b[39m=\u001b[39;49mcopy\n\u001b[0;32m    777\u001b[0m )\n\u001b[0;32m    778\u001b[0m result \u001b[39m=\u001b[39m result\u001b[39m.\u001b[39m__finalize__(\u001b[39mself\u001b[39m, method\u001b[39m=\u001b[39m\u001b[39mself\u001b[39m\u001b[39m.\u001b[39m_merge_type)\n\u001b[0;32m    780\u001b[0m \u001b[39mif\u001b[39;00m \u001b[39mself\u001b[39m\u001b[39m.\u001b[39mindicator:\n",
      "File \u001b[1;32md:\\Users\\Adrien\\miniconda3\\lib\\site-packages\\pandas\\core\\reshape\\merge.py:766\u001b[0m, in \u001b[0;36m_MergeOperation._reindex_and_concat\u001b[1;34m(self, join_index, left_indexer, right_indexer, copy)\u001b[0m\n\u001b[0;32m    764\u001b[0m left\u001b[39m.\u001b[39mcolumns \u001b[39m=\u001b[39m llabels\n\u001b[0;32m    765\u001b[0m right\u001b[39m.\u001b[39mcolumns \u001b[39m=\u001b[39m rlabels\n\u001b[1;32m--> 766\u001b[0m result \u001b[39m=\u001b[39m concat([left, right], axis\u001b[39m=\u001b[39;49m\u001b[39m1\u001b[39;49m, copy\u001b[39m=\u001b[39;49mcopy)\n\u001b[0;32m    767\u001b[0m \u001b[39mreturn\u001b[39;00m result\n",
      "File \u001b[1;32md:\\Users\\Adrien\\miniconda3\\lib\\site-packages\\pandas\\util\\_decorators.py:331\u001b[0m, in \u001b[0;36mdeprecate_nonkeyword_arguments.<locals>.decorate.<locals>.wrapper\u001b[1;34m(*args, **kwargs)\u001b[0m\n\u001b[0;32m    325\u001b[0m \u001b[39mif\u001b[39;00m \u001b[39mlen\u001b[39m(args) \u001b[39m>\u001b[39m num_allow_args:\n\u001b[0;32m    326\u001b[0m     warnings\u001b[39m.\u001b[39mwarn(\n\u001b[0;32m    327\u001b[0m         msg\u001b[39m.\u001b[39mformat(arguments\u001b[39m=\u001b[39m_format_argument_list(allow_args)),\n\u001b[0;32m    328\u001b[0m         \u001b[39mFutureWarning\u001b[39;00m,\n\u001b[0;32m    329\u001b[0m         stacklevel\u001b[39m=\u001b[39mfind_stack_level(),\n\u001b[0;32m    330\u001b[0m     )\n\u001b[1;32m--> 331\u001b[0m \u001b[39mreturn\u001b[39;00m func(\u001b[39m*\u001b[39margs, \u001b[39m*\u001b[39m\u001b[39m*\u001b[39mkwargs)\n",
      "File \u001b[1;32md:\\Users\\Adrien\\miniconda3\\lib\\site-packages\\pandas\\core\\reshape\\concat.py:381\u001b[0m, in \u001b[0;36mconcat\u001b[1;34m(objs, axis, join, ignore_index, keys, levels, names, verify_integrity, sort, copy)\u001b[0m\n\u001b[0;32m    159\u001b[0m \u001b[39m\u001b[39m\u001b[39m\"\"\"\u001b[39;00m\n\u001b[0;32m    160\u001b[0m \u001b[39mConcatenate pandas objects along a particular axis.\u001b[39;00m\n\u001b[0;32m    161\u001b[0m \n\u001b[1;32m   (...)\u001b[0m\n\u001b[0;32m    366\u001b[0m \u001b[39m1   3   4\u001b[39;00m\n\u001b[0;32m    367\u001b[0m \u001b[39m\"\"\"\u001b[39;00m\n\u001b[0;32m    368\u001b[0m op \u001b[39m=\u001b[39m _Concatenator(\n\u001b[0;32m    369\u001b[0m     objs,\n\u001b[0;32m    370\u001b[0m     axis\u001b[39m=\u001b[39maxis,\n\u001b[1;32m   (...)\u001b[0m\n\u001b[0;32m    378\u001b[0m     sort\u001b[39m=\u001b[39msort,\n\u001b[0;32m    379\u001b[0m )\n\u001b[1;32m--> 381\u001b[0m \u001b[39mreturn\u001b[39;00m op\u001b[39m.\u001b[39;49mget_result()\n",
      "File \u001b[1;32md:\\Users\\Adrien\\miniconda3\\lib\\site-packages\\pandas\\core\\reshape\\concat.py:616\u001b[0m, in \u001b[0;36m_Concatenator.get_result\u001b[1;34m(self)\u001b[0m\n\u001b[0;32m    612\u001b[0m             indexers[ax] \u001b[39m=\u001b[39m obj_labels\u001b[39m.\u001b[39mget_indexer(new_labels)\n\u001b[0;32m    614\u001b[0m     mgrs_indexers\u001b[39m.\u001b[39mappend((obj\u001b[39m.\u001b[39m_mgr, indexers))\n\u001b[1;32m--> 616\u001b[0m new_data \u001b[39m=\u001b[39m concatenate_managers(\n\u001b[0;32m    617\u001b[0m     mgrs_indexers, \u001b[39mself\u001b[39;49m\u001b[39m.\u001b[39;49mnew_axes, concat_axis\u001b[39m=\u001b[39;49m\u001b[39mself\u001b[39;49m\u001b[39m.\u001b[39;49mbm_axis, copy\u001b[39m=\u001b[39;49m\u001b[39mself\u001b[39;49m\u001b[39m.\u001b[39;49mcopy\n\u001b[0;32m    618\u001b[0m )\n\u001b[0;32m    619\u001b[0m \u001b[39mif\u001b[39;00m \u001b[39mnot\u001b[39;00m \u001b[39mself\u001b[39m\u001b[39m.\u001b[39mcopy:\n\u001b[0;32m    620\u001b[0m     new_data\u001b[39m.\u001b[39m_consolidate_inplace()\n",
      "File \u001b[1;32md:\\Users\\Adrien\\miniconda3\\lib\\site-packages\\pandas\\core\\internals\\concat.py:233\u001b[0m, in \u001b[0;36mconcatenate_managers\u001b[1;34m(mgrs_indexers, axes, concat_axis, copy)\u001b[0m\n\u001b[0;32m    231\u001b[0m     fastpath \u001b[39m=\u001b[39m blk\u001b[39m.\u001b[39mvalues\u001b[39m.\u001b[39mdtype \u001b[39m==\u001b[39m values\u001b[39m.\u001b[39mdtype\n\u001b[0;32m    232\u001b[0m \u001b[39melse\u001b[39;00m:\n\u001b[1;32m--> 233\u001b[0m     values \u001b[39m=\u001b[39m _concatenate_join_units(join_units, concat_axis, copy\u001b[39m=\u001b[39;49mcopy)\n\u001b[0;32m    234\u001b[0m     fastpath \u001b[39m=\u001b[39m \u001b[39mFalse\u001b[39;00m\n\u001b[0;32m    236\u001b[0m \u001b[39mif\u001b[39;00m fastpath:\n",
      "File \u001b[1;32md:\\Users\\Adrien\\miniconda3\\lib\\site-packages\\pandas\\core\\internals\\concat.py:542\u001b[0m, in \u001b[0;36m_concatenate_join_units\u001b[1;34m(join_units, concat_axis, copy)\u001b[0m\n\u001b[0;32m    539\u001b[0m has_none_blocks \u001b[39m=\u001b[39m \u001b[39many\u001b[39m(unit\u001b[39m.\u001b[39mblock\u001b[39m.\u001b[39mdtype\u001b[39m.\u001b[39mkind \u001b[39m==\u001b[39m \u001b[39m\"\u001b[39m\u001b[39mV\u001b[39m\u001b[39m\"\u001b[39m \u001b[39mfor\u001b[39;00m unit \u001b[39min\u001b[39;00m join_units)\n\u001b[0;32m    540\u001b[0m upcasted_na \u001b[39m=\u001b[39m _dtype_to_na_value(empty_dtype, has_none_blocks)\n\u001b[1;32m--> 542\u001b[0m to_concat \u001b[39m=\u001b[39m [\n\u001b[0;32m    543\u001b[0m     ju\u001b[39m.\u001b[39mget_reindexed_values(empty_dtype\u001b[39m=\u001b[39mempty_dtype, upcasted_na\u001b[39m=\u001b[39mupcasted_na)\n\u001b[0;32m    544\u001b[0m     \u001b[39mfor\u001b[39;00m ju \u001b[39min\u001b[39;00m join_units\n\u001b[0;32m    545\u001b[0m ]\n\u001b[0;32m    547\u001b[0m \u001b[39mif\u001b[39;00m \u001b[39mlen\u001b[39m(to_concat) \u001b[39m==\u001b[39m \u001b[39m1\u001b[39m:\n\u001b[0;32m    548\u001b[0m     \u001b[39m# Only one block, nothing to concatenate.\u001b[39;00m\n\u001b[0;32m    549\u001b[0m     concat_values \u001b[39m=\u001b[39m to_concat[\u001b[39m0\u001b[39m]\n",
      "File \u001b[1;32md:\\Users\\Adrien\\miniconda3\\lib\\site-packages\\pandas\\core\\internals\\concat.py:543\u001b[0m, in \u001b[0;36m<listcomp>\u001b[1;34m(.0)\u001b[0m\n\u001b[0;32m    539\u001b[0m has_none_blocks \u001b[39m=\u001b[39m \u001b[39many\u001b[39m(unit\u001b[39m.\u001b[39mblock\u001b[39m.\u001b[39mdtype\u001b[39m.\u001b[39mkind \u001b[39m==\u001b[39m \u001b[39m\"\u001b[39m\u001b[39mV\u001b[39m\u001b[39m\"\u001b[39m \u001b[39mfor\u001b[39;00m unit \u001b[39min\u001b[39;00m join_units)\n\u001b[0;32m    540\u001b[0m upcasted_na \u001b[39m=\u001b[39m _dtype_to_na_value(empty_dtype, has_none_blocks)\n\u001b[0;32m    542\u001b[0m to_concat \u001b[39m=\u001b[39m [\n\u001b[1;32m--> 543\u001b[0m     ju\u001b[39m.\u001b[39;49mget_reindexed_values(empty_dtype\u001b[39m=\u001b[39;49mempty_dtype, upcasted_na\u001b[39m=\u001b[39;49mupcasted_na)\n\u001b[0;32m    544\u001b[0m     \u001b[39mfor\u001b[39;00m ju \u001b[39min\u001b[39;00m join_units\n\u001b[0;32m    545\u001b[0m ]\n\u001b[0;32m    547\u001b[0m \u001b[39mif\u001b[39;00m \u001b[39mlen\u001b[39m(to_concat) \u001b[39m==\u001b[39m \u001b[39m1\u001b[39m:\n\u001b[0;32m    548\u001b[0m     \u001b[39m# Only one block, nothing to concatenate.\u001b[39;00m\n\u001b[0;32m    549\u001b[0m     concat_values \u001b[39m=\u001b[39m to_concat[\u001b[39m0\u001b[39m]\n",
      "File \u001b[1;32md:\\Users\\Adrien\\miniconda3\\lib\\site-packages\\pandas\\core\\internals\\concat.py:522\u001b[0m, in \u001b[0;36mJoinUnit.get_reindexed_values\u001b[1;34m(self, empty_dtype, upcasted_na)\u001b[0m\n\u001b[0;32m    520\u001b[0m \u001b[39melse\u001b[39;00m:\n\u001b[0;32m    521\u001b[0m     \u001b[39mfor\u001b[39;00m ax, indexer \u001b[39min\u001b[39;00m \u001b[39mself\u001b[39m\u001b[39m.\u001b[39mindexers\u001b[39m.\u001b[39mitems():\n\u001b[1;32m--> 522\u001b[0m         values \u001b[39m=\u001b[39m algos\u001b[39m.\u001b[39;49mtake_nd(values, indexer, axis\u001b[39m=\u001b[39;49max)\n\u001b[0;32m    524\u001b[0m \u001b[39mreturn\u001b[39;00m values\n",
      "File \u001b[1;32md:\\Users\\Adrien\\miniconda3\\lib\\site-packages\\pandas\\core\\array_algos\\take.py:117\u001b[0m, in \u001b[0;36mtake_nd\u001b[1;34m(arr, indexer, axis, fill_value, allow_fill)\u001b[0m\n\u001b[0;32m    114\u001b[0m     \u001b[39mreturn\u001b[39;00m arr\u001b[39m.\u001b[39mtake(indexer, fill_value\u001b[39m=\u001b[39mfill_value, allow_fill\u001b[39m=\u001b[39mallow_fill)\n\u001b[0;32m    116\u001b[0m arr \u001b[39m=\u001b[39m np\u001b[39m.\u001b[39masarray(arr)\n\u001b[1;32m--> 117\u001b[0m \u001b[39mreturn\u001b[39;00m _take_nd_ndarray(arr, indexer, axis, fill_value, allow_fill)\n",
      "File \u001b[1;32md:\\Users\\Adrien\\miniconda3\\lib\\site-packages\\pandas\\core\\array_algos\\take.py:158\u001b[0m, in \u001b[0;36m_take_nd_ndarray\u001b[1;34m(arr, indexer, axis, fill_value, allow_fill)\u001b[0m\n\u001b[0;32m    156\u001b[0m     out \u001b[39m=\u001b[39m np\u001b[39m.\u001b[39mempty(out_shape, dtype\u001b[39m=\u001b[39mdtype, order\u001b[39m=\u001b[39m\u001b[39m\"\u001b[39m\u001b[39mF\u001b[39m\u001b[39m\"\u001b[39m)\n\u001b[0;32m    157\u001b[0m \u001b[39melse\u001b[39;00m:\n\u001b[1;32m--> 158\u001b[0m     out \u001b[39m=\u001b[39m np\u001b[39m.\u001b[39;49mempty(out_shape, dtype\u001b[39m=\u001b[39;49mdtype)\n\u001b[0;32m    160\u001b[0m func \u001b[39m=\u001b[39m _get_take_nd_function(\n\u001b[0;32m    161\u001b[0m     arr\u001b[39m.\u001b[39mndim, arr\u001b[39m.\u001b[39mdtype, out\u001b[39m.\u001b[39mdtype, axis\u001b[39m=\u001b[39maxis, mask_info\u001b[39m=\u001b[39mmask_info\n\u001b[0;32m    162\u001b[0m )\n\u001b[0;32m    163\u001b[0m func(arr, indexer, out, fill_value)\n",
      "\u001b[1;31mMemoryError\u001b[0m: Unable to allocate 518. MiB for an array with shape (5, 13566907) and data type float64"
     ]
    }
   ],
   "source": [
    "df_pairs = df_pairs.merge(df_all, on=['Movie_name', 'Movie_release'], how='left')\n",
    "df_pairs = df_pairs[['Movie_name', 'Movie_release', 'Movie_revenue', 'Movie_rating', 'Actor_pairs']]"
   ]
  },
  {
   "cell_type": "code",
   "execution_count": null,
   "metadata": {},
   "outputs": [],
   "source": [
    "df_pairs['Actor1'] = df_pairs['Actor_pairs'].apply(lambda x: x[0])\n",
    "df_pairs['Actor2'] = df_pairs['Actor_pairs'].apply(lambda x: x[1])\n",
    "df_pairs.reset_index(drop=True, inplace=True)"
   ]
  },
  {
   "cell_type": "code",
   "execution_count": null,
   "metadata": {},
   "outputs": [],
   "source": [
    "def query_info_for_actor_pairs(row, df, infos):\n",
    "    actor1 = row['Actor1']\n",
    "    actor2 = row['Actor2']\n",
    "    movie_name = row['Movie_name']\n",
    "    movie_release = row['Movie_release']\n",
    "\n",
    "    # Create a mask for the condition\n",
    "    condition_mask = (df['Movie_name'] == movie_name) & (df['Movie_release'] == movie_release)\n",
    "\n",
    "    # Filter the DataFrame based on the condition\n",
    "    filtered_df = df[condition_mask]\n",
    "\n",
    "    # Extract the relevant information for actor1 and actor2\n",
    "    info1 = filtered_df.loc[filtered_df['Actor_name'] == actor1, infos].values.flatten()\n",
    "    info2 = filtered_df.loc[filtered_df['Actor_name'] == actor2, infos].values.flatten()\n",
    "\n",
    "    index = row.name\n",
    "\n",
    "    print(f\"Progress: {index / len(df_pairs) * 100:.2f}%\")\n",
    "\n",
    "    return info1, info2"
   ]
  },
  {
   "cell_type": "code",
   "execution_count": null,
   "metadata": {},
   "outputs": [],
   "source": [
    "def all_infos(row):\n",
    "    infos1, infos2 = query_info_for_actor_pairs(row, df_movie, ['Actor_age_release', 'Number_of_film_at_release', 'Avg_revenue_per_film_at_release', 'First_film'])\n",
    "\n",
    "    age_difference = abs(infos1[0] - infos2[0])\n",
    "    film_count_difference = abs(infos1[1] - infos2[1])\n",
    "    average_revenue_difference = abs(infos1[2] - infos2[2])\n",
    "    first_film = (infos1[3] and infos2[3])\n",
    "    first_film_for_one = (infos1[3] or infos2[3])\n",
    "\n",
    "    return age_difference, film_count_difference, average_revenue_difference, first_film, first_film_for_one"
   ]
  },
  {
   "cell_type": "code",
   "execution_count": null,
   "metadata": {},
   "outputs": [],
   "source": [
    "def number_of_films_together(row, df):\n",
    "    actor1 = row['Actor1']\n",
    "    actor2 = row['Actor2']\n",
    "    movie_release = row['Movie_release']\n",
    "\n",
    "    condition_mask1 = ((df['Movie_release'] < movie_release) & (df['Actor_name'] == actor1))\n",
    "    condition_mask2 = ((df['Movie_release'] < movie_release) & (df['Actor_name'] == actor2))\n",
    "\n",
    "    movie_name1 = df.loc[condition_mask1, 'Movie_name'].values.tolist()\n",
    "    movie_name2 = df.loc[condition_mask2, 'Movie_name'].values.tolist()\n",
    "\n",
    "    print(f\"Progress: {row.name / len(df_pairs) * 100:.2f}%\")\n",
    "\n",
    "    return len(set(movie_name1).intersection(set(movie_name2)))\n"
   ]
  },
  {
   "cell_type": "code",
   "execution_count": null,
   "metadata": {},
   "outputs": [],
   "source": [
    "infos = df_pairs.apply(lambda x: all_infos(x), axis=1)"
   ]
  },
  {
   "cell_type": "code",
   "execution_count": null,
   "metadata": {},
   "outputs": [],
   "source": [
    "df_pairs[['Age_difference', 'Film_count_difference', 'Average_revenue_difference', 'First_film', 'First_film_for_one']] = pd.DataFrame(infos.tolist(), index=df_pairs.index)"
   ]
  },
  {
   "cell_type": "code",
   "execution_count": null,
   "metadata": {},
   "outputs": [],
   "source": [
    "films_together = df_pairs.apply(lambda x: number_of_films_together(x, df_movie), axis=1)"
   ]
  },
  {
   "cell_type": "code",
   "execution_count": null,
   "metadata": {},
   "outputs": [],
   "source": [
    "df_pairs['Number_of_films_together'] = films_together"
   ]
  },
  {
   "cell_type": "markdown",
   "id": "e70e92cc-d62c-4034-bfbe-9d33dc55fb2a",
   "metadata": {},
   "source": [
    "## **4.Create an Actor Network**\n",
    "\n",
    "Here we create a first network of actor. We explain the graph that we plot below : \\\n",
    "**Nodes** : they represent actors, the bigger a node is, the more the actor has made different collaborations. \\\n",
    "**Edges** : they represent a collaboration between a pair of actors, the size of the edge represents the number of collaborations they have made"
   ]
  },
  {
   "cell_type": "code",
   "execution_count": 98,
   "id": "9cc01148-4b41-4974-b65a-a826bb4de6e2",
   "metadata": {
    "tags": []
   },
   "outputs": [
    {
     "data": {
      "text/html": [
       "<div>\n",
       "<style scoped>\n",
       "    .dataframe tbody tr th:only-of-type {\n",
       "        vertical-align: middle;\n",
       "    }\n",
       "\n",
       "    .dataframe tbody tr th {\n",
       "        vertical-align: top;\n",
       "    }\n",
       "\n",
       "    .dataframe thead th {\n",
       "        text-align: right;\n",
       "    }\n",
       "</style>\n",
       "<table border=\"1\" class=\"dataframe\">\n",
       "  <thead>\n",
       "    <tr style=\"text-align: right;\">\n",
       "      <th></th>\n",
       "      <th>Actor_1</th>\n",
       "      <th>Actor_2</th>\n",
       "      <th>Occurrences</th>\n",
       "    </tr>\n",
       "  </thead>\n",
       "  <tbody>\n",
       "    <tr>\n",
       "      <th>0</th>\n",
       "      <td>Dean Martin</td>\n",
       "      <td>Jerry Lewis</td>\n",
       "      <td>16</td>\n",
       "    </tr>\n",
       "    <tr>\n",
       "      <th>1</th>\n",
       "      <td>Adam Sandler</td>\n",
       "      <td>Allen Covert</td>\n",
       "      <td>13</td>\n",
       "    </tr>\n",
       "  </tbody>\n",
       "</table>\n",
       "</div>"
      ],
      "text/plain": [
       "        Actor_1       Actor_2  Occurrences\n",
       "0   Dean Martin   Jerry Lewis           16\n",
       "1  Adam Sandler  Allen Covert           13"
      ]
     },
     "execution_count": 98,
     "metadata": {},
     "output_type": "execute_result"
    }
   ],
   "source": [
    "# Group by 'Movie_name' and aggregate 'Actor_name' into lists\n",
    "actor_pairs = df_movie.groupby('Movie_name')['Actor_name'].apply(list)\n",
    "\n",
    "# For each movie, create all possible pairs of actors without duplication\n",
    "actor_pairs = actor_pairs.apply(lambda x: list(combinations(sorted(set(x)), 2)))\n",
    "\n",
    "# Flatten the list of actor pairs into a new dataframe\n",
    "actor_pair_list = [pair for sublist in actor_pairs for pair in sublist]\n",
    "df_actor_pairs = pd.DataFrame(actor_pair_list, columns=['Actor_1', 'Actor_2'])\n",
    "\n",
    "# Count the occurrences of each pair\n",
    "pair_counts = df_actor_pairs.value_counts().reset_index(name='Occurrences')\n",
    "\n",
    "# We restrict our pairs to have at least 3 films together \n",
    "pairs_more_than_three = pair_counts[pair_counts['Occurrences'] >= 3]\n",
    "\n",
    "pairs_more_than_five.head(2)"
   ]
  },
  {
   "cell_type": "markdown",
   "id": "df0ecf70-751d-462e-9226-3ff88a39d204",
   "metadata": {},
   "source": [
    "For the network, we restrict oursleves to actors that collaborated together more than three times. \\\n",
    "We believe that single time collaborations don't really bring much information to our analysis and it would prevent us from detecting the clusters of actors because the graph would be fully-connected."
   ]
  },
  {
   "cell_type": "code",
   "execution_count": 99,
   "id": "e0142a8b-2efc-4a16-8bd6-88bc8e203755",
   "metadata": {
    "tags": []
   },
   "outputs": [
    {
     "name": "stdout",
     "output_type": "stream",
     "text": [
      "edges.html\n"
     ]
    },
    {
     "data": {
      "text/html": [
       "\n",
       "        <iframe\n",
       "            width=\"100%\"\n",
       "            height=\"500px\"\n",
       "            src=\"edges.html\"\n",
       "            frameborder=\"0\"\n",
       "            allowfullscreen\n",
       "            \n",
       "        ></iframe>\n",
       "        "
      ],
      "text/plain": [
       "<IPython.lib.display.IFrame at 0x338679dd0>"
      ]
     },
     "execution_count": 99,
     "metadata": {},
     "output_type": "execute_result"
    }
   ],
   "source": [
    "# Initialize PyVis Network\n",
    "net = Network(notebook=True, \n",
    "              cdn_resources=\"remote\", \n",
    "              bgcolor=\"#222222\", \n",
    "              font_color=\"white\", \n",
    "              height=\"500px\",\n",
    "              select_menu=True,\n",
    "              filter_menu=True)\n",
    "\n",
    "net.set_options(\"\"\"\n",
    "const options = {\n",
    "  \"physics\": {\n",
    "    \"forceAtlas2Based\": {\n",
    "      \"gravitationalConstant\": -84,\n",
    "      \"centralGravity\": 0.09,\n",
    "      \"springLength\": 20,\n",
    "      \"springConstant\": 0.035\n",
    "    },\n",
    "    \"minVelocity\": 0.18,\n",
    "    \"solver\": \"forceAtlas2Based\"\n",
    "  }\n",
    "}\n",
    "\"\"\")\n",
    "\n",
    "# Combine 'Actor_1' and 'Actor_2' into a single Series and count the occurrences of each actor\n",
    "actor_pairings = pd.concat([pairs_more_than_three['Actor_1'], pairs_more_than_three['Actor_2']]).value_counts()\n",
    "\n",
    "# Add nodes to the network with the scaled size\n",
    "for actor, size in actor_pairings.items():\n",
    "    net.add_node(actor, size=size+5)\n",
    "    \n",
    "# Create edges with weights (the number of occurrences as value)\n",
    "edges = pairs_more_than_three.apply(lambda row: (row['Actor_1'], row['Actor_2'], \n",
    "                                                row['Occurrences']), axis=1).tolist()\n",
    "\n",
    "# Add weighted edges to the network\n",
    "for edge in edges:\n",
    "    net.add_edge(edge[0], edge[1], value=edge[2])\n",
    "\n",
    "# Save or show the network\n",
    "net.show(\"edges.html\")"
   ]
  },
  {
   "cell_type": "markdown",
   "id": "4a1cbc89-a54f-4bf5-bcd6-9c2e054b2fb0",
   "metadata": {},
   "source": [
    "This first network is already awesome ! Just visually we can see the different clusters of actors !\n",
    "However it is still incomplete, we plan to change the color of the edge in function of how successful a collaboration was, to do that we still need to pursue our analysis :)\n",
    "We would also like to extend our analysis by adding the producers, directors and many more."
   ]
  },
  {
   "cell_type": "code",
   "execution_count": null,
   "id": "111a9f23-27ab-48f1-9626-e5b7fcf0b7ce",
   "metadata": {},
   "outputs": [],
   "source": []
  }
 ],
 "metadata": {
  "kernelspec": {
   "display_name": "Python 3 (ipykernel)",
   "language": "python",
   "name": "python3"
  },
  "language_info": {
   "codemirror_mode": {
    "name": "ipython",
    "version": 3
   },
   "file_extension": ".py",
   "mimetype": "text/x-python",
   "name": "python",
   "nbconvert_exporter": "python",
   "pygments_lexer": "ipython3",
   "version": "3.10.13"
  }
 },
 "nbformat": 4,
 "nbformat_minor": 5
}
