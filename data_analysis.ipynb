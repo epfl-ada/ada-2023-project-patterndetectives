{
 "cells": [
  {
   "cell_type": "code",
   "execution_count": 1,
   "metadata": {
    "tags": []
   },
   "outputs": [],
   "source": [
    "import pandas as pd\n",
    "import numpy as np\n",
    "import matplotlib.pyplot as plt\n",
    "%matplotlib inline\n",
    "import seaborn as sns\n",
    "import missingno as msno\n",
    "import math\n",
    "from statsmodels.stats import diagnostic\n",
    "import statsmodels.stats as st\n",
    "from scipy import stats\n",
    "import networkx as nx\n",
    "import statsmodels.api as sm\n",
    "import statsmodels.formula.api as smf\n",
    "from sklearn.linear_model import LinearRegression, LogisticRegression, Ridge\n",
    "from sklearn.ensemble import RandomForestClassifier\n",
    "# from sklearn.preprocessing import OneHotEncoder\n",
    "# from pandas.plotting import scatter_matrix\n",
    "from sklearn.neighbors import KNeighborsClassifier\n",
    "from sklearn.model_selection import cross_val_predict\n",
    "from sklearn.model_selection import cross_val_score\n",
    "from sklearn.metrics import mean_squared_error, auc, roc_curve\n",
    "\n",
    "from director_scrap import director_scrap\n",
    "\n",
    "%load_ext autoreload\n",
    "%autoreload 2"
   ]
  },
  {
   "cell_type": "code",
   "execution_count": 2,
   "metadata": {
    "tags": []
   },
   "outputs": [
    {
     "data": {
      "text/html": [
       "<div>\n",
       "<style scoped>\n",
       "    .dataframe tbody tr th:only-of-type {\n",
       "        vertical-align: middle;\n",
       "    }\n",
       "\n",
       "    .dataframe tbody tr th {\n",
       "        vertical-align: top;\n",
       "    }\n",
       "\n",
       "    .dataframe thead th {\n",
       "        text-align: right;\n",
       "    }\n",
       "</style>\n",
       "<table border=\"1\" class=\"dataframe\">\n",
       "  <thead>\n",
       "    <tr style=\"text-align: right;\">\n",
       "      <th></th>\n",
       "      <th>Wiki_ID</th>\n",
       "      <th>Freebase_ID</th>\n",
       "      <th>Movie_release</th>\n",
       "      <th>Char_name</th>\n",
       "      <th>Actor_birth</th>\n",
       "      <th>Actor_gender</th>\n",
       "      <th>Actor_height</th>\n",
       "      <th>Actor_ethnicity</th>\n",
       "      <th>Actor_name</th>\n",
       "      <th>Actor_age_release</th>\n",
       "      <th>Char/Actor_map</th>\n",
       "      <th>Char_ID</th>\n",
       "      <th>Actor_ID</th>\n",
       "    </tr>\n",
       "  </thead>\n",
       "  <tbody>\n",
       "    <tr>\n",
       "      <th>0</th>\n",
       "      <td>975900</td>\n",
       "      <td>/m/03vyhn</td>\n",
       "      <td>2001-08-24</td>\n",
       "      <td>Akooshay</td>\n",
       "      <td>1958-08-26</td>\n",
       "      <td>F</td>\n",
       "      <td>1.62</td>\n",
       "      <td>NaN</td>\n",
       "      <td>Wanda De Jesus</td>\n",
       "      <td>42.0</td>\n",
       "      <td>/m/0bgchxw</td>\n",
       "      <td>/m/0bgcj3x</td>\n",
       "      <td>/m/03wcfv7</td>\n",
       "    </tr>\n",
       "    <tr>\n",
       "      <th>1</th>\n",
       "      <td>975900</td>\n",
       "      <td>/m/03vyhn</td>\n",
       "      <td>2001-08-24</td>\n",
       "      <td>Lieutenant Melanie Ballard</td>\n",
       "      <td>1974-08-15</td>\n",
       "      <td>F</td>\n",
       "      <td>1.78</td>\n",
       "      <td>/m/044038p</td>\n",
       "      <td>Natasha Henstridge</td>\n",
       "      <td>27.0</td>\n",
       "      <td>/m/0jys3m</td>\n",
       "      <td>/m/0bgchn4</td>\n",
       "      <td>/m/0346l4</td>\n",
       "    </tr>\n",
       "  </tbody>\n",
       "</table>\n",
       "</div>"
      ],
      "text/plain": [
       "   Wiki_ID Freebase_ID Movie_release                   Char_name Actor_birth  \\\n",
       "0   975900   /m/03vyhn    2001-08-24                    Akooshay  1958-08-26   \n",
       "1   975900   /m/03vyhn    2001-08-24  Lieutenant Melanie Ballard  1974-08-15   \n",
       "\n",
       "  Actor_gender  Actor_height Actor_ethnicity          Actor_name  \\\n",
       "0            F          1.62             NaN      Wanda De Jesus   \n",
       "1            F          1.78      /m/044038p  Natasha Henstridge   \n",
       "\n",
       "   Actor_age_release Char/Actor_map     Char_ID    Actor_ID  \n",
       "0               42.0     /m/0bgchxw  /m/0bgcj3x  /m/03wcfv7  \n",
       "1               27.0      /m/0jys3m  /m/0bgchn4   /m/0346l4  "
      ]
     },
     "execution_count": 2,
     "metadata": {},
     "output_type": "execute_result"
    }
   ],
   "source": [
    "# Metadata for 450,669 characters aligned to the movies above, extracted from the Noverber 4, 2012 dump of Freebase.  Tab-separated; columns:\n",
    "\n",
    "# 1. Wikipedia movie ID\n",
    "# 2. Freebase movie ID\n",
    "# 3. Movie release date\n",
    "# 4. Character name\n",
    "# 5. Actor date of birth\n",
    "# 6. Actor gender\n",
    "# 7. Actor height (in meters)\n",
    "# 8. Actor ethnicity (Freebase ID)\n",
    "# 9. Actor name\n",
    "# 10. Actor age at movie release\n",
    "# 11. Freebase character/actor map ID\n",
    "# 12. Freebase character ID\n",
    "# 13. Freebase actor ID\n",
    "\n",
    "columns_char = ['Wiki_ID', 'Freebase_ID', 'Movie_release', 'Char_name', 'Actor_birth', 'Actor_gender', \n",
    "               'Actor_height', 'Actor_ethnicity', 'Actor_name', 'Actor_age_release', 'Char/Actor_map', \n",
    "               'Char_ID', 'Actor_ID']\n",
    "df_char = pd.read_table('data/character.metadata.tsv', header=None, names=columns_char)\n",
    "df_char.head(2)"
   ]
  },
  {
   "cell_type": "code",
   "execution_count": 3,
   "metadata": {
    "tags": []
   },
   "outputs": [
    {
     "data": {
      "text/html": [
       "<div>\n",
       "<style scoped>\n",
       "    .dataframe tbody tr th:only-of-type {\n",
       "        vertical-align: middle;\n",
       "    }\n",
       "\n",
       "    .dataframe tbody tr th {\n",
       "        vertical-align: top;\n",
       "    }\n",
       "\n",
       "    .dataframe thead th {\n",
       "        text-align: right;\n",
       "    }\n",
       "</style>\n",
       "<table border=\"1\" class=\"dataframe\">\n",
       "  <thead>\n",
       "    <tr style=\"text-align: right;\">\n",
       "      <th></th>\n",
       "      <th>Wiki_ID</th>\n",
       "      <th>Freebase_ID</th>\n",
       "      <th>Movie_name</th>\n",
       "      <th>Movie_release</th>\n",
       "      <th>Movie_revenue</th>\n",
       "      <th>Movie_runtime</th>\n",
       "      <th>Movie_languages</th>\n",
       "      <th>Movie_countries</th>\n",
       "      <th>Movie_genres</th>\n",
       "    </tr>\n",
       "  </thead>\n",
       "  <tbody>\n",
       "    <tr>\n",
       "      <th>0</th>\n",
       "      <td>975900</td>\n",
       "      <td>/m/03vyhn</td>\n",
       "      <td>Ghosts of Mars</td>\n",
       "      <td>2001-08-24</td>\n",
       "      <td>14010832.0</td>\n",
       "      <td>98.0</td>\n",
       "      <td>{\"/m/02h40lc\": \"English Language\"}</td>\n",
       "      <td>{\"/m/09c7w0\": \"United States of America\"}</td>\n",
       "      <td>{\"/m/01jfsb\": \"Thriller\", \"/m/06n90\": \"Science...</td>\n",
       "    </tr>\n",
       "    <tr>\n",
       "      <th>1</th>\n",
       "      <td>3196793</td>\n",
       "      <td>/m/08yl5d</td>\n",
       "      <td>Getting Away with Murder: The JonBenét Ramsey ...</td>\n",
       "      <td>2000-02-16</td>\n",
       "      <td>NaN</td>\n",
       "      <td>95.0</td>\n",
       "      <td>{\"/m/02h40lc\": \"English Language\"}</td>\n",
       "      <td>{\"/m/09c7w0\": \"United States of America\"}</td>\n",
       "      <td>{\"/m/02n4kr\": \"Mystery\", \"/m/03bxz7\": \"Biograp...</td>\n",
       "    </tr>\n",
       "  </tbody>\n",
       "</table>\n",
       "</div>"
      ],
      "text/plain": [
       "   Wiki_ID Freebase_ID                                         Movie_name  \\\n",
       "0   975900   /m/03vyhn                                     Ghosts of Mars   \n",
       "1  3196793   /m/08yl5d  Getting Away with Murder: The JonBenét Ramsey ...   \n",
       "\n",
       "  Movie_release  Movie_revenue  Movie_runtime  \\\n",
       "0    2001-08-24     14010832.0           98.0   \n",
       "1    2000-02-16            NaN           95.0   \n",
       "\n",
       "                      Movie_languages  \\\n",
       "0  {\"/m/02h40lc\": \"English Language\"}   \n",
       "1  {\"/m/02h40lc\": \"English Language\"}   \n",
       "\n",
       "                             Movie_countries  \\\n",
       "0  {\"/m/09c7w0\": \"United States of America\"}   \n",
       "1  {\"/m/09c7w0\": \"United States of America\"}   \n",
       "\n",
       "                                        Movie_genres  \n",
       "0  {\"/m/01jfsb\": \"Thriller\", \"/m/06n90\": \"Science...  \n",
       "1  {\"/m/02n4kr\": \"Mystery\", \"/m/03bxz7\": \"Biograp...  "
      ]
     },
     "execution_count": 3,
     "metadata": {},
     "output_type": "execute_result"
    }
   ],
   "source": [
    "# Metadata for 81,741 movies, extracted from the Noverber 4, 2012 dump of Freebase.  Tab-separated; columns:\n",
    "\n",
    "# 1. Wikipedia movie ID\n",
    "# 2. Freebase movie ID\n",
    "# 3. Movie name\n",
    "# 4. Movie release date\n",
    "# 5. Movie box office revenue\n",
    "# 6. Movie runtime\n",
    "# 7. Movie languages (Freebase ID:name tuples)\n",
    "# 8. Movie countries (Freebase ID:name tuples)\n",
    "# 9. Movie genres (Freebase ID:name tuples)\n",
    "\n",
    "columns_mov = ['Wiki_ID', 'Freebase_ID', 'Movie_name', 'Movie_release', 'Movie_revenue', 'Movie_runtime', \n",
    "               'Movie_languages', 'Movie_countries', 'Movie_genres']\n",
    "df_mov = pd.read_table('data/movie.metadata.tsv', header=None, names=columns_mov)\n",
    "df_mov.head(2)"
   ]
  },
  {
   "cell_type": "code",
   "execution_count": 4,
   "metadata": {
    "tags": []
   },
   "outputs": [
    {
     "name": "stdout",
     "output_type": "stream",
     "text": [
      "Movie : 81741      Actor : 450669\n"
     ]
    }
   ],
   "source": [
    "print(f\"Movie : {len(df_mov)}      Actor : {len(df_char)}\")"
   ]
  },
  {
   "cell_type": "code",
   "execution_count": 5,
   "metadata": {
    "tags": []
   },
   "outputs": [
    {
     "data": {
      "text/plain": [
       "<AxesSubplot:>"
      ]
     },
     "execution_count": 5,
     "metadata": {},
     "output_type": "execute_result"
    },
    {
     "data": {
      "image/png": "[encoded data removed]",
      "text/plain": [
       "<Figure size 1800x720 with 2 Axes>"
      ]
     },
     "metadata": {
      "needs_background": "light"
     },
     "output_type": "display_data"
    }
   ],
   "source": [
    "msno.matrix(df_char)"
   ]
  },
  {
   "cell_type": "code",
   "execution_count": 6,
   "metadata": {
    "tags": []
   },
   "outputs": [
    {
     "data": {
      "text/plain": [
       "<AxesSubplot:>"
      ]
     },
     "execution_count": 6,
     "metadata": {},
     "output_type": "execute_result"
    },
    {
     "data": {
      "image/png": "[encoded data removed]",
      "text/plain": [
       "<Figure size 1440x864 with 2 Axes>"
      ]
     },
     "metadata": {
      "needs_background": "light"
     },
     "output_type": "display_data"
    }
   ],
   "source": [
    "msno.heatmap(df_char)"
   ]
  },
  {
   "cell_type": "code",
   "execution_count": 7,
   "metadata": {
    "tags": []
   },
   "outputs": [
    {
     "data": {
      "text/plain": [
       "<AxesSubplot:>"
      ]
     },
     "execution_count": 7,
     "metadata": {},
     "output_type": "execute_result"
    },
    {
     "data": {
      "image/png": "[encoded data removed]",
      "text/plain": [
       "<Figure size 1800x720 with 2 Axes>"
      ]
     },
     "metadata": {
      "needs_background": "light"
     },
     "output_type": "display_data"
    }
   ],
   "source": [
    "msno.matrix(df_mov)"
   ]
  },
  {
   "cell_type": "code",
   "execution_count": 8,
   "metadata": {
    "tags": []
   },
   "outputs": [
    {
     "data": {
      "text/plain": [
       "<AxesSubplot:>"
      ]
     },
     "execution_count": 8,
     "metadata": {},
     "output_type": "execute_result"
    },
    {
     "data": {
      "image/png": "[encoded data removed]",
      "text/plain": [
       "<Figure size 1440x864 with 2 Axes>"
      ]
     },
     "metadata": {
      "needs_background": "light"
     },
     "output_type": "display_data"
    }
   ],
   "source": [
    "msno.heatmap(df_mov)"
   ]
  },
  {
   "cell_type": "markdown",
   "metadata": {},
   "source": [
    "### When describing the relevant aspects of the data, and any other datasets you may intend to use, you should in particular show (non-exhaustive list):\n",
    "\n",
    "**-That you can handle the data in its size.**\n",
    "\n",
    "**-That you understand what’s in the data (formats, distributions, missing values, correlations, etc.).**\n",
    "\n",
    "**-That you considered ways to enrich, filter, transform the data according to your needs.**\n",
    "\n",
    "**-That you have a reasonable plan and ideas for methods you’re going to use, giving their essential mathematical details in the notebook.**\n",
    "\n",
    "**-That your plan for analysis and communication is reasonable and sound, potentially discussing alternatives to your choices that you considered but dropped.**"
   ]
  },
  {
   "cell_type": "code",
   "execution_count": 9,
   "metadata": {
    "tags": []
   },
   "outputs": [],
   "source": [
    "df_mov_rel = df_mov.copy()\n",
    "df_mov_rel['Movie_release'] = df_mov_rel['Movie_release'].apply(lambda x: float(str(x).split('-')[0]))"
   ]
  },
  {
   "cell_type": "code",
   "execution_count": 10,
   "metadata": {
    "tags": []
   },
   "outputs": [
    {
     "data": {
      "text/html": [
       "<div>\n",
       "<style scoped>\n",
       "    .dataframe tbody tr th:only-of-type {\n",
       "        vertical-align: middle;\n",
       "    }\n",
       "\n",
       "    .dataframe tbody tr th {\n",
       "        vertical-align: top;\n",
       "    }\n",
       "\n",
       "    .dataframe thead th {\n",
       "        text-align: right;\n",
       "    }\n",
       "</style>\n",
       "<table border=\"1\" class=\"dataframe\">\n",
       "  <thead>\n",
       "    <tr style=\"text-align: right;\">\n",
       "      <th></th>\n",
       "      <th>imdb_rating</th>\n",
       "      <th>type</th>\n",
       "      <th>popular_title</th>\n",
       "      <th>original_title</th>\n",
       "      <th>movie_start_year</th>\n",
       "      <th>movie_end_year</th>\n",
       "      <th>runtime_min</th>\n",
       "      <th>genres</th>\n",
       "      <th>Producer</th>\n",
       "      <th>Composer</th>\n",
       "      <th>director</th>\n",
       "      <th>dir_birth</th>\n",
       "      <th>dir_death</th>\n",
       "      <th>dir_known_titles</th>\n",
       "      <th>writer</th>\n",
       "      <th>writer_birth</th>\n",
       "      <th>writer_death</th>\n",
       "      <th>writer_know_titles</th>\n",
       "    </tr>\n",
       "  </thead>\n",
       "  <tbody>\n",
       "    <tr>\n",
       "      <th>0</th>\n",
       "      <td>5.7</td>\n",
       "      <td>short</td>\n",
       "      <td>Carmencita</td>\n",
       "      <td>Carmencita</td>\n",
       "      <td>1894.0</td>\n",
       "      <td>NaN</td>\n",
       "      <td>1.0</td>\n",
       "      <td>Documentary,Short</td>\n",
       "      <td>NaN</td>\n",
       "      <td>NaN</td>\n",
       "      <td>William K.L. Dickson</td>\n",
       "      <td>1860.0</td>\n",
       "      <td>1935.0</td>\n",
       "      <td>tt1428455,tt0219560,tt0308254,tt1496763</td>\n",
       "      <td>NaN</td>\n",
       "      <td>NaN</td>\n",
       "      <td>NaN</td>\n",
       "      <td>NaN</td>\n",
       "    </tr>\n",
       "  </tbody>\n",
       "</table>\n",
       "</div>"
      ],
      "text/plain": [
       "   imdb_rating   type popular_title original_title  movie_start_year  \\\n",
       "0          5.7  short    Carmencita     Carmencita            1894.0   \n",
       "\n",
       "   movie_end_year  runtime_min             genres Producer Composer  \\\n",
       "0             NaN          1.0  Documentary,Short      NaN      NaN   \n",
       "\n",
       "               director  dir_birth  dir_death  \\\n",
       "0  William K.L. Dickson     1860.0     1935.0   \n",
       "\n",
       "                          dir_known_titles writer  writer_birth  writer_death  \\\n",
       "0  tt1428455,tt0219560,tt0308254,tt1496763    NaN           NaN           NaN   \n",
       "\n",
       "  writer_know_titles  \n",
       "0                NaN  "
      ]
     },
     "execution_count": 10,
     "metadata": {},
     "output_type": "execute_result"
    }
   ],
   "source": [
    "df_imdb = pd.read_table('data/imdb_dataV2.tsv')\n",
    "df_imdb.head(1)"
   ]
  },
  {
   "cell_type": "code",
   "execution_count": 11,
   "metadata": {
    "tags": []
   },
   "outputs": [
    {
     "data": {
      "text/html": [
       "<div>\n",
       "<style scoped>\n",
       "    .dataframe tbody tr th:only-of-type {\n",
       "        vertical-align: middle;\n",
       "    }\n",
       "\n",
       "    .dataframe tbody tr th {\n",
       "        vertical-align: top;\n",
       "    }\n",
       "\n",
       "    .dataframe thead th {\n",
       "        text-align: right;\n",
       "    }\n",
       "</style>\n",
       "<table border=\"1\" class=\"dataframe\">\n",
       "  <thead>\n",
       "    <tr style=\"text-align: right;\">\n",
       "      <th></th>\n",
       "      <th>Wiki_ID</th>\n",
       "      <th>Freebase_ID</th>\n",
       "      <th>Movie_name</th>\n",
       "      <th>Movie_release</th>\n",
       "      <th>Movie_revenue</th>\n",
       "      <th>Movie_runtime</th>\n",
       "      <th>Movie_languages</th>\n",
       "      <th>Movie_countries</th>\n",
       "      <th>Movie_genres</th>\n",
       "      <th>imdb_rating</th>\n",
       "      <th>...</th>\n",
       "      <th>Producer</th>\n",
       "      <th>Composer</th>\n",
       "      <th>director</th>\n",
       "      <th>dir_birth</th>\n",
       "      <th>dir_death</th>\n",
       "      <th>dir_known_titles</th>\n",
       "      <th>writer</th>\n",
       "      <th>writer_birth</th>\n",
       "      <th>writer_death</th>\n",
       "      <th>writer_know_titles</th>\n",
       "    </tr>\n",
       "  </thead>\n",
       "  <tbody>\n",
       "    <tr>\n",
       "      <th>0</th>\n",
       "      <td>975900</td>\n",
       "      <td>/m/03vyhn</td>\n",
       "      <td>Ghosts of Mars</td>\n",
       "      <td>2001.0</td>\n",
       "      <td>14010832.0</td>\n",
       "      <td>98.0</td>\n",
       "      <td>{\"/m/02h40lc\": \"English Language\"}</td>\n",
       "      <td>{\"/m/09c7w0\": \"United States of America\"}</td>\n",
       "      <td>{\"/m/01jfsb\": \"Thriller\", \"/m/06n90\": \"Science...</td>\n",
       "      <td>4.9</td>\n",
       "      <td>...</td>\n",
       "      <td>Sandy King</td>\n",
       "      <td>Anthrax</td>\n",
       "      <td>John Carpenter</td>\n",
       "      <td>1948.0</td>\n",
       "      <td>NaN</td>\n",
       "      <td>tt0080749,tt0077651,tt0069945,tt0082340</td>\n",
       "      <td>NaN</td>\n",
       "      <td>NaN</td>\n",
       "      <td>NaN</td>\n",
       "      <td>NaN</td>\n",
       "    </tr>\n",
       "  </tbody>\n",
       "</table>\n",
       "<p>1 rows × 27 columns</p>\n",
       "</div>"
      ],
      "text/plain": [
       "   Wiki_ID Freebase_ID      Movie_name  Movie_release  Movie_revenue  \\\n",
       "0   975900   /m/03vyhn  Ghosts of Mars         2001.0     14010832.0   \n",
       "\n",
       "   Movie_runtime                     Movie_languages  \\\n",
       "0           98.0  {\"/m/02h40lc\": \"English Language\"}   \n",
       "\n",
       "                             Movie_countries  \\\n",
       "0  {\"/m/09c7w0\": \"United States of America\"}   \n",
       "\n",
       "                                        Movie_genres  imdb_rating  ...  \\\n",
       "0  {\"/m/01jfsb\": \"Thriller\", \"/m/06n90\": \"Science...          4.9  ...   \n",
       "\n",
       "     Producer Composer        director  dir_birth  dir_death  \\\n",
       "0  Sandy King  Anthrax  John Carpenter     1948.0        NaN   \n",
       "\n",
       "                          dir_known_titles writer writer_birth writer_death  \\\n",
       "0  tt0080749,tt0077651,tt0069945,tt0082340    NaN          NaN          NaN   \n",
       "\n",
       "  writer_know_titles  \n",
       "0                NaN  \n",
       "\n",
       "[1 rows x 27 columns]"
      ]
     },
     "execution_count": 11,
     "metadata": {},
     "output_type": "execute_result"
    }
   ],
   "source": [
    "df_movie = df_mov_rel.merge(df_imdb, left_on=['Movie_release', 'Movie_name'], \n",
    "                            right_on=['movie_start_year', 'popular_title'], how='left')\n",
    "df_movie.head(1)"
   ]
  },
  {
   "cell_type": "code",
   "execution_count": 12,
   "metadata": {
    "tags": []
   },
   "outputs": [
    {
     "name": "stdout",
     "output_type": "stream",
     "text": [
      "Samples in df_movie: 81741\n",
      "Columns of df_movie: Index(['Wiki_ID', 'Freebase_ID', 'Movie_name', 'Movie_release',\n",
      "       'Movie_revenue', 'Movie_runtime', 'Movie_languages', 'Movie_countries',\n",
      "       'Movie_genres', 'imdb_rating', 'type', 'popular_title',\n",
      "       'original_title', 'movie_start_year', 'movie_end_year', 'runtime_min',\n",
      "       'genres', 'Producer', 'Composer', 'director', 'dir_birth', 'dir_death',\n",
      "       'dir_known_titles', 'writer', 'writer_birth', 'writer_death',\n",
      "       'writer_know_titles'],\n",
      "      dtype='object')\n"
     ]
    }
   ],
   "source": [
    "print(f\"Samples in df_movie: {len(df_movie)}\")\n",
    "print(f\"Columns of df_movie: {df_movie.columns}\")"
   ]
  },
  {
   "cell_type": "code",
   "execution_count": 13,
   "metadata": {
    "tags": []
   },
   "outputs": [
    {
     "data": {
      "text/html": [
       "<div>\n",
       "<style scoped>\n",
       "    .dataframe tbody tr th:only-of-type {\n",
       "        vertical-align: middle;\n",
       "    }\n",
       "\n",
       "    .dataframe tbody tr th {\n",
       "        vertical-align: top;\n",
       "    }\n",
       "\n",
       "    .dataframe thead th {\n",
       "        text-align: right;\n",
       "    }\n",
       "</style>\n",
       "<table border=\"1\" class=\"dataframe\">\n",
       "  <thead>\n",
       "    <tr style=\"text-align: right;\">\n",
       "      <th></th>\n",
       "      <th>Wiki_ID</th>\n",
       "      <th>Freebase_ID</th>\n",
       "      <th>Movie_name</th>\n",
       "      <th>Movie_release</th>\n",
       "      <th>Movie_revenue</th>\n",
       "      <th>Movie_runtime</th>\n",
       "      <th>Movie_languages</th>\n",
       "      <th>Movie_countries</th>\n",
       "      <th>Movie_genres</th>\n",
       "      <th>imdb_rating</th>\n",
       "      <th>movie_start_year</th>\n",
       "      <th>Producer</th>\n",
       "      <th>Composer</th>\n",
       "      <th>director</th>\n",
       "      <th>writer</th>\n",
       "    </tr>\n",
       "  </thead>\n",
       "  <tbody>\n",
       "    <tr>\n",
       "      <th>0</th>\n",
       "      <td>975900</td>\n",
       "      <td>/m/03vyhn</td>\n",
       "      <td>Ghosts of Mars</td>\n",
       "      <td>2001.0</td>\n",
       "      <td>14010832.0</td>\n",
       "      <td>98.0</td>\n",
       "      <td>{\"/m/02h40lc\": \"English Language\"}</td>\n",
       "      <td>{\"/m/09c7w0\": \"United States of America\"}</td>\n",
       "      <td>{\"/m/01jfsb\": \"Thriller\", \"/m/06n90\": \"Science...</td>\n",
       "      <td>4.9</td>\n",
       "      <td>2001.0</td>\n",
       "      <td>Sandy King</td>\n",
       "      <td>Anthrax</td>\n",
       "      <td>John Carpenter</td>\n",
       "      <td>NaN</td>\n",
       "    </tr>\n",
       "  </tbody>\n",
       "</table>\n",
       "</div>"
      ],
      "text/plain": [
       "   Wiki_ID Freebase_ID      Movie_name  Movie_release  Movie_revenue  \\\n",
       "0   975900   /m/03vyhn  Ghosts of Mars         2001.0     14010832.0   \n",
       "\n",
       "   Movie_runtime                     Movie_languages  \\\n",
       "0           98.0  {\"/m/02h40lc\": \"English Language\"}   \n",
       "\n",
       "                             Movie_countries  \\\n",
       "0  {\"/m/09c7w0\": \"United States of America\"}   \n",
       "\n",
       "                                        Movie_genres  imdb_rating  \\\n",
       "0  {\"/m/01jfsb\": \"Thriller\", \"/m/06n90\": \"Science...          4.9   \n",
       "\n",
       "   movie_start_year    Producer Composer        director writer  \n",
       "0            2001.0  Sandy King  Anthrax  John Carpenter    NaN  "
      ]
     },
     "execution_count": 13,
     "metadata": {},
     "output_type": "execute_result"
    }
   ],
   "source": [
    "df_movie = df_movie.drop(['type', 'popular_title', 'original_title', 'runtime_min'\n",
    "                          , 'genres' , 'dir_birth', 'dir_death', 'dir_known_titles', 'writer_birth', \n",
    "                         'writer_death', 'writer_know_titles', 'movie_end_year'], axis=1)\n",
    "df_movie.head(1)"
   ]
  },
  {
   "cell_type": "code",
   "execution_count": 14,
   "metadata": {
    "tags": []
   },
   "outputs": [],
   "source": [
    "df_movie = df_movie.drop(['movie_start_year', 'Freebase_ID'], axis=1).rename(\n",
    "    columns={'imdb_rating': 'Movie_rating', 'Producer': 'Movie_producer', \n",
    "             'Composer': 'Movie_composer', 'director': 'Movie_director',\n",
    "            'writer': 'Movie_writer'})"
   ]
  },
  {
   "cell_type": "markdown",
   "metadata": {},
   "source": [
    "# Below is the well processed and augmented movie database"
   ]
  },
  {
   "cell_type": "code",
   "execution_count": 15,
   "metadata": {
    "tags": []
   },
   "outputs": [
    {
     "data": {
      "text/html": [
       "<div>\n",
       "<style scoped>\n",
       "    .dataframe tbody tr th:only-of-type {\n",
       "        vertical-align: middle;\n",
       "    }\n",
       "\n",
       "    .dataframe tbody tr th {\n",
       "        vertical-align: top;\n",
       "    }\n",
       "\n",
       "    .dataframe thead th {\n",
       "        text-align: right;\n",
       "    }\n",
       "</style>\n",
       "<table border=\"1\" class=\"dataframe\">\n",
       "  <thead>\n",
       "    <tr style=\"text-align: right;\">\n",
       "      <th></th>\n",
       "      <th>Wiki_ID</th>\n",
       "      <th>Movie_name</th>\n",
       "      <th>Movie_release</th>\n",
       "      <th>Movie_revenue</th>\n",
       "      <th>Movie_runtime</th>\n",
       "      <th>Movie_languages</th>\n",
       "      <th>Movie_countries</th>\n",
       "      <th>Movie_genres</th>\n",
       "      <th>Movie_rating</th>\n",
       "      <th>Movie_producer</th>\n",
       "      <th>Movie_composer</th>\n",
       "      <th>Movie_director</th>\n",
       "      <th>Movie_writer</th>\n",
       "    </tr>\n",
       "  </thead>\n",
       "  <tbody>\n",
       "    <tr>\n",
       "      <th>0</th>\n",
       "      <td>975900</td>\n",
       "      <td>Ghosts of Mars</td>\n",
       "      <td>2001.0</td>\n",
       "      <td>14010832.0</td>\n",
       "      <td>98.0</td>\n",
       "      <td>{\"/m/02h40lc\": \"English Language\"}</td>\n",
       "      <td>{\"/m/09c7w0\": \"United States of America\"}</td>\n",
       "      <td>{\"/m/01jfsb\": \"Thriller\", \"/m/06n90\": \"Science...</td>\n",
       "      <td>4.9</td>\n",
       "      <td>Sandy King</td>\n",
       "      <td>Anthrax</td>\n",
       "      <td>John Carpenter</td>\n",
       "      <td>NaN</td>\n",
       "    </tr>\n",
       "  </tbody>\n",
       "</table>\n",
       "</div>"
      ],
      "text/plain": [
       "   Wiki_ID      Movie_name  Movie_release  Movie_revenue  Movie_runtime  \\\n",
       "0   975900  Ghosts of Mars         2001.0     14010832.0           98.0   \n",
       "\n",
       "                      Movie_languages  \\\n",
       "0  {\"/m/02h40lc\": \"English Language\"}   \n",
       "\n",
       "                             Movie_countries  \\\n",
       "0  {\"/m/09c7w0\": \"United States of America\"}   \n",
       "\n",
       "                                        Movie_genres  Movie_rating  \\\n",
       "0  {\"/m/01jfsb\": \"Thriller\", \"/m/06n90\": \"Science...           4.9   \n",
       "\n",
       "  Movie_producer Movie_composer  Movie_director Movie_writer  \n",
       "0     Sandy King        Anthrax  John Carpenter          NaN  "
      ]
     },
     "execution_count": 15,
     "metadata": {},
     "output_type": "execute_result"
    }
   ],
   "source": [
    "df_movie.head(1)"
   ]
  },
  {
   "cell_type": "markdown",
   "metadata": {},
   "source": [
    "# Merge with actor database"
   ]
  },
  {
   "cell_type": "code",
   "execution_count": 16,
   "metadata": {
    "tags": []
   },
   "outputs": [
    {
     "name": "stdout",
     "output_type": "stream",
     "text": [
      "The database has 450669 entries\n"
     ]
    }
   ],
   "source": [
    "df_all = df_movie.merge(df_char, on='Wiki_ID', how='right')\n",
    "print(f\"The database has {len(df_all)} entries\")"
   ]
  },
  {
   "cell_type": "code",
   "execution_count": 17,
   "metadata": {
    "tags": []
   },
   "outputs": [
    {
     "data": {
      "text/html": [
       "<div>\n",
       "<style scoped>\n",
       "    .dataframe tbody tr th:only-of-type {\n",
       "        vertical-align: middle;\n",
       "    }\n",
       "\n",
       "    .dataframe tbody tr th {\n",
       "        vertical-align: top;\n",
       "    }\n",
       "\n",
       "    .dataframe thead th {\n",
       "        text-align: right;\n",
       "    }\n",
       "</style>\n",
       "<table border=\"1\" class=\"dataframe\">\n",
       "  <thead>\n",
       "    <tr style=\"text-align: right;\">\n",
       "      <th></th>\n",
       "      <th>Movie_name</th>\n",
       "      <th>Movie_release</th>\n",
       "      <th>Movie_revenue</th>\n",
       "      <th>Movie_runtime</th>\n",
       "      <th>Movie_languages</th>\n",
       "      <th>Movie_countries</th>\n",
       "      <th>Movie_genres</th>\n",
       "      <th>Movie_rating</th>\n",
       "      <th>Movie_producer</th>\n",
       "      <th>Movie_composer</th>\n",
       "      <th>Movie_director</th>\n",
       "      <th>Movie_writer</th>\n",
       "      <th>Char_name</th>\n",
       "      <th>Actor_birth</th>\n",
       "      <th>Actor_gender</th>\n",
       "      <th>Actor_height</th>\n",
       "      <th>Actor_ethnicity</th>\n",
       "      <th>Actor_name</th>\n",
       "      <th>Actor_age_release</th>\n",
       "    </tr>\n",
       "  </thead>\n",
       "  <tbody>\n",
       "    <tr>\n",
       "      <th>0</th>\n",
       "      <td>Ghosts of Mars</td>\n",
       "      <td>2001.0</td>\n",
       "      <td>14010832.0</td>\n",
       "      <td>98.0</td>\n",
       "      <td>{\"/m/02h40lc\": \"English Language\"}</td>\n",
       "      <td>{\"/m/09c7w0\": \"United States of America\"}</td>\n",
       "      <td>{\"/m/01jfsb\": \"Thriller\", \"/m/06n90\": \"Science...</td>\n",
       "      <td>4.9</td>\n",
       "      <td>Sandy King</td>\n",
       "      <td>Anthrax</td>\n",
       "      <td>John Carpenter</td>\n",
       "      <td>NaN</td>\n",
       "      <td>Akooshay</td>\n",
       "      <td>1958-08-26</td>\n",
       "      <td>F</td>\n",
       "      <td>1.620</td>\n",
       "      <td>NaN</td>\n",
       "      <td>Wanda De Jesus</td>\n",
       "      <td>42.0</td>\n",
       "    </tr>\n",
       "    <tr>\n",
       "      <th>1</th>\n",
       "      <td>Ghosts of Mars</td>\n",
       "      <td>2001.0</td>\n",
       "      <td>14010832.0</td>\n",
       "      <td>98.0</td>\n",
       "      <td>{\"/m/02h40lc\": \"English Language\"}</td>\n",
       "      <td>{\"/m/09c7w0\": \"United States of America\"}</td>\n",
       "      <td>{\"/m/01jfsb\": \"Thriller\", \"/m/06n90\": \"Science...</td>\n",
       "      <td>4.9</td>\n",
       "      <td>Sandy King</td>\n",
       "      <td>Anthrax</td>\n",
       "      <td>John Carpenter</td>\n",
       "      <td>NaN</td>\n",
       "      <td>Lieutenant Melanie Ballard</td>\n",
       "      <td>1974-08-15</td>\n",
       "      <td>F</td>\n",
       "      <td>1.780</td>\n",
       "      <td>/m/044038p</td>\n",
       "      <td>Natasha Henstridge</td>\n",
       "      <td>27.0</td>\n",
       "    </tr>\n",
       "    <tr>\n",
       "      <th>2</th>\n",
       "      <td>Ghosts of Mars</td>\n",
       "      <td>2001.0</td>\n",
       "      <td>14010832.0</td>\n",
       "      <td>98.0</td>\n",
       "      <td>{\"/m/02h40lc\": \"English Language\"}</td>\n",
       "      <td>{\"/m/09c7w0\": \"United States of America\"}</td>\n",
       "      <td>{\"/m/01jfsb\": \"Thriller\", \"/m/06n90\": \"Science...</td>\n",
       "      <td>4.9</td>\n",
       "      <td>Sandy King</td>\n",
       "      <td>Anthrax</td>\n",
       "      <td>John Carpenter</td>\n",
       "      <td>NaN</td>\n",
       "      <td>Desolation Williams</td>\n",
       "      <td>1969-06-15</td>\n",
       "      <td>M</td>\n",
       "      <td>1.727</td>\n",
       "      <td>/m/0x67</td>\n",
       "      <td>Ice Cube</td>\n",
       "      <td>32.0</td>\n",
       "    </tr>\n",
       "    <tr>\n",
       "      <th>3</th>\n",
       "      <td>Ghosts of Mars</td>\n",
       "      <td>2001.0</td>\n",
       "      <td>14010832.0</td>\n",
       "      <td>98.0</td>\n",
       "      <td>{\"/m/02h40lc\": \"English Language\"}</td>\n",
       "      <td>{\"/m/09c7w0\": \"United States of America\"}</td>\n",
       "      <td>{\"/m/01jfsb\": \"Thriller\", \"/m/06n90\": \"Science...</td>\n",
       "      <td>4.9</td>\n",
       "      <td>Sandy King</td>\n",
       "      <td>Anthrax</td>\n",
       "      <td>John Carpenter</td>\n",
       "      <td>NaN</td>\n",
       "      <td>Sgt Jericho Butler</td>\n",
       "      <td>1967-09-12</td>\n",
       "      <td>M</td>\n",
       "      <td>1.750</td>\n",
       "      <td>NaN</td>\n",
       "      <td>Jason Statham</td>\n",
       "      <td>33.0</td>\n",
       "    </tr>\n",
       "    <tr>\n",
       "      <th>4</th>\n",
       "      <td>Ghosts of Mars</td>\n",
       "      <td>2001.0</td>\n",
       "      <td>14010832.0</td>\n",
       "      <td>98.0</td>\n",
       "      <td>{\"/m/02h40lc\": \"English Language\"}</td>\n",
       "      <td>{\"/m/09c7w0\": \"United States of America\"}</td>\n",
       "      <td>{\"/m/01jfsb\": \"Thriller\", \"/m/06n90\": \"Science...</td>\n",
       "      <td>4.9</td>\n",
       "      <td>Sandy King</td>\n",
       "      <td>Anthrax</td>\n",
       "      <td>John Carpenter</td>\n",
       "      <td>NaN</td>\n",
       "      <td>Bashira Kincaid</td>\n",
       "      <td>1977-09-25</td>\n",
       "      <td>F</td>\n",
       "      <td>1.650</td>\n",
       "      <td>NaN</td>\n",
       "      <td>Clea DuVall</td>\n",
       "      <td>23.0</td>\n",
       "    </tr>\n",
       "  </tbody>\n",
       "</table>\n",
       "</div>"
      ],
      "text/plain": [
       "       Movie_name  Movie_release  Movie_revenue  Movie_runtime  \\\n",
       "0  Ghosts of Mars         2001.0     14010832.0           98.0   \n",
       "1  Ghosts of Mars         2001.0     14010832.0           98.0   \n",
       "2  Ghosts of Mars         2001.0     14010832.0           98.0   \n",
       "3  Ghosts of Mars         2001.0     14010832.0           98.0   \n",
       "4  Ghosts of Mars         2001.0     14010832.0           98.0   \n",
       "\n",
       "                      Movie_languages  \\\n",
       "0  {\"/m/02h40lc\": \"English Language\"}   \n",
       "1  {\"/m/02h40lc\": \"English Language\"}   \n",
       "2  {\"/m/02h40lc\": \"English Language\"}   \n",
       "3  {\"/m/02h40lc\": \"English Language\"}   \n",
       "4  {\"/m/02h40lc\": \"English Language\"}   \n",
       "\n",
       "                             Movie_countries  \\\n",
       "0  {\"/m/09c7w0\": \"United States of America\"}   \n",
       "1  {\"/m/09c7w0\": \"United States of America\"}   \n",
       "2  {\"/m/09c7w0\": \"United States of America\"}   \n",
       "3  {\"/m/09c7w0\": \"United States of America\"}   \n",
       "4  {\"/m/09c7w0\": \"United States of America\"}   \n",
       "\n",
       "                                        Movie_genres  Movie_rating  \\\n",
       "0  {\"/m/01jfsb\": \"Thriller\", \"/m/06n90\": \"Science...           4.9   \n",
       "1  {\"/m/01jfsb\": \"Thriller\", \"/m/06n90\": \"Science...           4.9   \n",
       "2  {\"/m/01jfsb\": \"Thriller\", \"/m/06n90\": \"Science...           4.9   \n",
       "3  {\"/m/01jfsb\": \"Thriller\", \"/m/06n90\": \"Science...           4.9   \n",
       "4  {\"/m/01jfsb\": \"Thriller\", \"/m/06n90\": \"Science...           4.9   \n",
       "\n",
       "  Movie_producer Movie_composer  Movie_director Movie_writer  \\\n",
       "0     Sandy King        Anthrax  John Carpenter          NaN   \n",
       "1     Sandy King        Anthrax  John Carpenter          NaN   \n",
       "2     Sandy King        Anthrax  John Carpenter          NaN   \n",
       "3     Sandy King        Anthrax  John Carpenter          NaN   \n",
       "4     Sandy King        Anthrax  John Carpenter          NaN   \n",
       "\n",
       "                    Char_name Actor_birth Actor_gender  Actor_height  \\\n",
       "0                    Akooshay  1958-08-26            F         1.620   \n",
       "1  Lieutenant Melanie Ballard  1974-08-15            F         1.780   \n",
       "2         Desolation Williams  1969-06-15            M         1.727   \n",
       "3          Sgt Jericho Butler  1967-09-12            M         1.750   \n",
       "4             Bashira Kincaid  1977-09-25            F         1.650   \n",
       "\n",
       "  Actor_ethnicity          Actor_name  Actor_age_release  \n",
       "0             NaN      Wanda De Jesus               42.0  \n",
       "1      /m/044038p  Natasha Henstridge               27.0  \n",
       "2         /m/0x67            Ice Cube               32.0  \n",
       "3             NaN       Jason Statham               33.0  \n",
       "4             NaN         Clea DuVall               23.0  "
      ]
     },
     "execution_count": 17,
     "metadata": {},
     "output_type": "execute_result"
    }
   ],
   "source": [
    "df_all = df_all.drop(['Wiki_ID', 'Movie_release_y', 'Freebase_ID', 'Char/Actor_map', 'Char_ID', \n",
    "                      'Actor_ID'], axis=1).rename(columns={'Movie_release_x': 'Movie_release'})\n",
    "df_all.head()"
   ]
  },
  {
   "cell_type": "code",
   "execution_count": 18,
   "metadata": {
    "tags": []
   },
   "outputs": [
    {
     "data": {
      "text/plain": [
       "<AxesSubplot:>"
      ]
     },
     "execution_count": 18,
     "metadata": {},
     "output_type": "execute_result"
    },
    {
     "data": {
      "image/png": "[encoded data removed]",
      "text/plain": [
       "<Figure size 1800x720 with 2 Axes>"
      ]
     },
     "metadata": {
      "needs_background": "light"
     },
     "output_type": "display_data"
    }
   ],
   "source": [
    "msno.matrix(df_all)"
   ]
  },
  {
   "cell_type": "code",
   "execution_count": 19,
   "metadata": {
    "tags": []
   },
   "outputs": [
    {
     "name": "stdout",
     "output_type": "stream",
     "text": [
      "The database has now 101028 entries\n"
     ]
    }
   ],
   "source": [
    "df = df_all.dropna(subset=['Movie_revenue'])\n",
    "print(f\"The database has now {len(df)} entries\")"
   ]
  },
  {
   "cell_type": "code",
   "execution_count": 20,
   "metadata": {
    "tags": []
   },
   "outputs": [
    {
     "data": {
      "text/plain": [
       "<AxesSubplot:>"
      ]
     },
     "execution_count": 20,
     "metadata": {},
     "output_type": "execute_result"
    },
    {
     "data": {
      "image/png": "[encoded data removed]",
      "text/plain": [
       "<Figure size 1800x720 with 2 Axes>"
      ]
     },
     "metadata": {
      "needs_background": "light"
     },
     "output_type": "display_data"
    }
   ],
   "source": [
    "msno.matrix(df)"
   ]
  },
  {
   "cell_type": "code",
   "execution_count": 22,
   "metadata": {},
   "outputs": [],
   "source": [
    "df_inflation = pd.read_csv('data/inflation_data.csv')"
   ]
  },
  {
   "cell_type": "code",
   "execution_count": 23,
   "metadata": {},
   "outputs": [
    {
     "data": {
      "text/html": [
       "<div>\n",
       "<style scoped>\n",
       "    .dataframe tbody tr th:only-of-type {\n",
       "        vertical-align: middle;\n",
       "    }\n",
       "\n",
       "    .dataframe tbody tr th {\n",
       "        vertical-align: top;\n",
       "    }\n",
       "\n",
       "    .dataframe thead th {\n",
       "        text-align: right;\n",
       "    }\n",
       "</style>\n",
       "<table border=\"1\" class=\"dataframe\">\n",
       "  <thead>\n",
       "    <tr style=\"text-align: right;\">\n",
       "      <th></th>\n",
       "      <th>year</th>\n",
       "      <th>amount</th>\n",
       "      <th>inflation rate</th>\n",
       "    </tr>\n",
       "  </thead>\n",
       "  <tbody>\n",
       "    <tr>\n",
       "      <th>0</th>\n",
       "      <td>1888</td>\n",
       "      <td>100.00</td>\n",
       "      <td>0.00</td>\n",
       "    </tr>\n",
       "    <tr>\n",
       "      <th>1</th>\n",
       "      <td>1889</td>\n",
       "      <td>96.84</td>\n",
       "      <td>-0.03</td>\n",
       "    </tr>\n",
       "    <tr>\n",
       "      <th>2</th>\n",
       "      <td>1890</td>\n",
       "      <td>95.79</td>\n",
       "      <td>-0.01</td>\n",
       "    </tr>\n",
       "    <tr>\n",
       "      <th>3</th>\n",
       "      <td>1891</td>\n",
       "      <td>95.79</td>\n",
       "      <td>0.00</td>\n",
       "    </tr>\n",
       "    <tr>\n",
       "      <th>4</th>\n",
       "      <td>1892</td>\n",
       "      <td>95.79</td>\n",
       "      <td>0.00</td>\n",
       "    </tr>\n",
       "  </tbody>\n",
       "</table>\n",
       "</div>"
      ],
      "text/plain": [
       "   year  amount  inflation rate\n",
       "0  1888  100.00            0.00\n",
       "1  1889   96.84           -0.03\n",
       "2  1890   95.79           -0.01\n",
       "3  1891   95.79            0.00\n",
       "4  1892   95.79            0.00"
      ]
     },
     "execution_count": 23,
     "metadata": {},
     "output_type": "execute_result"
    }
   ],
   "source": [
    "df_inflation.head()"
   ]
  },
  {
   "cell_type": "code",
   "execution_count": 25,
   "metadata": {},
   "outputs": [
    {
     "data": {
      "text/plain": [
       "year                int64\n",
       "amount            float64\n",
       "inflation rate    float64\n",
       "dtype: object"
      ]
     },
     "execution_count": 25,
     "metadata": {},
     "output_type": "execute_result"
    }
   ],
   "source": [
    "df_inflation.dtypes"
   ]
  },
  {
   "cell_type": "code",
   "execution_count": 26,
   "metadata": {},
   "outputs": [
    {
     "data": {
      "text/html": [
       "<div>\n",
       "<style scoped>\n",
       "    .dataframe tbody tr th:only-of-type {\n",
       "        vertical-align: middle;\n",
       "    }\n",
       "\n",
       "    .dataframe tbody tr th {\n",
       "        vertical-align: top;\n",
       "    }\n",
       "\n",
       "    .dataframe thead th {\n",
       "        text-align: right;\n",
       "    }\n",
       "</style>\n",
       "<table border=\"1\" class=\"dataframe\">\n",
       "  <thead>\n",
       "    <tr style=\"text-align: right;\">\n",
       "      <th></th>\n",
       "      <th>Movie_name</th>\n",
       "      <th>Movie_release</th>\n",
       "      <th>Movie_revenue</th>\n",
       "      <th>Movie_runtime</th>\n",
       "      <th>Movie_languages</th>\n",
       "      <th>Movie_countries</th>\n",
       "      <th>Movie_genres</th>\n",
       "      <th>Movie_rating</th>\n",
       "      <th>Movie_producer</th>\n",
       "      <th>Movie_composer</th>\n",
       "      <th>Movie_director</th>\n",
       "      <th>Movie_writer</th>\n",
       "      <th>Char_name</th>\n",
       "      <th>Actor_birth</th>\n",
       "      <th>Actor_gender</th>\n",
       "      <th>Actor_height</th>\n",
       "      <th>Actor_ethnicity</th>\n",
       "      <th>Actor_name</th>\n",
       "      <th>Actor_age_release</th>\n",
       "    </tr>\n",
       "  </thead>\n",
       "  <tbody>\n",
       "    <tr>\n",
       "      <th>0</th>\n",
       "      <td>Ghosts of Mars</td>\n",
       "      <td>2001.0</td>\n",
       "      <td>14010832.0</td>\n",
       "      <td>98.0</td>\n",
       "      <td>{\"/m/02h40lc\": \"English Language\"}</td>\n",
       "      <td>{\"/m/09c7w0\": \"United States of America\"}</td>\n",
       "      <td>{\"/m/01jfsb\": \"Thriller\", \"/m/06n90\": \"Science...</td>\n",
       "      <td>4.9</td>\n",
       "      <td>Sandy King</td>\n",
       "      <td>Anthrax</td>\n",
       "      <td>John Carpenter</td>\n",
       "      <td>NaN</td>\n",
       "      <td>Akooshay</td>\n",
       "      <td>1958-08-26</td>\n",
       "      <td>F</td>\n",
       "      <td>1.620</td>\n",
       "      <td>NaN</td>\n",
       "      <td>Wanda De Jesus</td>\n",
       "      <td>42.0</td>\n",
       "    </tr>\n",
       "    <tr>\n",
       "      <th>1</th>\n",
       "      <td>Ghosts of Mars</td>\n",
       "      <td>2001.0</td>\n",
       "      <td>14010832.0</td>\n",
       "      <td>98.0</td>\n",
       "      <td>{\"/m/02h40lc\": \"English Language\"}</td>\n",
       "      <td>{\"/m/09c7w0\": \"United States of America\"}</td>\n",
       "      <td>{\"/m/01jfsb\": \"Thriller\", \"/m/06n90\": \"Science...</td>\n",
       "      <td>4.9</td>\n",
       "      <td>Sandy King</td>\n",
       "      <td>Anthrax</td>\n",
       "      <td>John Carpenter</td>\n",
       "      <td>NaN</td>\n",
       "      <td>Lieutenant Melanie Ballard</td>\n",
       "      <td>1974-08-15</td>\n",
       "      <td>F</td>\n",
       "      <td>1.780</td>\n",
       "      <td>/m/044038p</td>\n",
       "      <td>Natasha Henstridge</td>\n",
       "      <td>27.0</td>\n",
       "    </tr>\n",
       "    <tr>\n",
       "      <th>2</th>\n",
       "      <td>Ghosts of Mars</td>\n",
       "      <td>2001.0</td>\n",
       "      <td>14010832.0</td>\n",
       "      <td>98.0</td>\n",
       "      <td>{\"/m/02h40lc\": \"English Language\"}</td>\n",
       "      <td>{\"/m/09c7w0\": \"United States of America\"}</td>\n",
       "      <td>{\"/m/01jfsb\": \"Thriller\", \"/m/06n90\": \"Science...</td>\n",
       "      <td>4.9</td>\n",
       "      <td>Sandy King</td>\n",
       "      <td>Anthrax</td>\n",
       "      <td>John Carpenter</td>\n",
       "      <td>NaN</td>\n",
       "      <td>Desolation Williams</td>\n",
       "      <td>1969-06-15</td>\n",
       "      <td>M</td>\n",
       "      <td>1.727</td>\n",
       "      <td>/m/0x67</td>\n",
       "      <td>Ice Cube</td>\n",
       "      <td>32.0</td>\n",
       "    </tr>\n",
       "    <tr>\n",
       "      <th>3</th>\n",
       "      <td>Ghosts of Mars</td>\n",
       "      <td>2001.0</td>\n",
       "      <td>14010832.0</td>\n",
       "      <td>98.0</td>\n",
       "      <td>{\"/m/02h40lc\": \"English Language\"}</td>\n",
       "      <td>{\"/m/09c7w0\": \"United States of America\"}</td>\n",
       "      <td>{\"/m/01jfsb\": \"Thriller\", \"/m/06n90\": \"Science...</td>\n",
       "      <td>4.9</td>\n",
       "      <td>Sandy King</td>\n",
       "      <td>Anthrax</td>\n",
       "      <td>John Carpenter</td>\n",
       "      <td>NaN</td>\n",
       "      <td>Sgt Jericho Butler</td>\n",
       "      <td>1967-09-12</td>\n",
       "      <td>M</td>\n",
       "      <td>1.750</td>\n",
       "      <td>NaN</td>\n",
       "      <td>Jason Statham</td>\n",
       "      <td>33.0</td>\n",
       "    </tr>\n",
       "    <tr>\n",
       "      <th>4</th>\n",
       "      <td>Ghosts of Mars</td>\n",
       "      <td>2001.0</td>\n",
       "      <td>14010832.0</td>\n",
       "      <td>98.0</td>\n",
       "      <td>{\"/m/02h40lc\": \"English Language\"}</td>\n",
       "      <td>{\"/m/09c7w0\": \"United States of America\"}</td>\n",
       "      <td>{\"/m/01jfsb\": \"Thriller\", \"/m/06n90\": \"Science...</td>\n",
       "      <td>4.9</td>\n",
       "      <td>Sandy King</td>\n",
       "      <td>Anthrax</td>\n",
       "      <td>John Carpenter</td>\n",
       "      <td>NaN</td>\n",
       "      <td>Bashira Kincaid</td>\n",
       "      <td>1977-09-25</td>\n",
       "      <td>F</td>\n",
       "      <td>1.650</td>\n",
       "      <td>NaN</td>\n",
       "      <td>Clea DuVall</td>\n",
       "      <td>23.0</td>\n",
       "    </tr>\n",
       "    <tr>\n",
       "      <th>...</th>\n",
       "      <td>...</td>\n",
       "      <td>...</td>\n",
       "      <td>...</td>\n",
       "      <td>...</td>\n",
       "      <td>...</td>\n",
       "      <td>...</td>\n",
       "      <td>...</td>\n",
       "      <td>...</td>\n",
       "      <td>...</td>\n",
       "      <td>...</td>\n",
       "      <td>...</td>\n",
       "      <td>...</td>\n",
       "      <td>...</td>\n",
       "      <td>...</td>\n",
       "      <td>...</td>\n",
       "      <td>...</td>\n",
       "      <td>...</td>\n",
       "      <td>...</td>\n",
       "      <td>...</td>\n",
       "    </tr>\n",
       "    <tr>\n",
       "      <th>450561</th>\n",
       "      <td>The Yellow Rolls-Royce</td>\n",
       "      <td>1964.0</td>\n",
       "      <td>5400000.0</td>\n",
       "      <td>122.0</td>\n",
       "      <td>{\"/m/02h40lc\": \"English Language\"}</td>\n",
       "      <td>{\"/m/07ssc\": \"United Kingdom\"}</td>\n",
       "      <td>{\"/m/07s9rl0\": \"Drama\", \"/m/03p5xs\": \"Comedy o...</td>\n",
       "      <td>6.4</td>\n",
       "      <td>Anatole de Grunwald</td>\n",
       "      <td>Riz Ortolani</td>\n",
       "      <td>Anthony Asquith</td>\n",
       "      <td>Terence Rattigan</td>\n",
       "      <td>Norwood</td>\n",
       "      <td>1900-08-31</td>\n",
       "      <td>M</td>\n",
       "      <td>NaN</td>\n",
       "      <td>NaN</td>\n",
       "      <td>Roland Culver</td>\n",
       "      <td>64.0</td>\n",
       "    </tr>\n",
       "    <tr>\n",
       "      <th>450562</th>\n",
       "      <td>The Yellow Rolls-Royce</td>\n",
       "      <td>1964.0</td>\n",
       "      <td>5400000.0</td>\n",
       "      <td>122.0</td>\n",
       "      <td>{\"/m/02h40lc\": \"English Language\"}</td>\n",
       "      <td>{\"/m/07ssc\": \"United Kingdom\"}</td>\n",
       "      <td>{\"/m/07s9rl0\": \"Drama\", \"/m/03p5xs\": \"Comedy o...</td>\n",
       "      <td>6.4</td>\n",
       "      <td>Anatole de Grunwald</td>\n",
       "      <td>Riz Ortolani</td>\n",
       "      <td>Anthony Asquith</td>\n",
       "      <td>Terence Rattigan</td>\n",
       "      <td>Harnsworth</td>\n",
       "      <td>1911-10-03</td>\n",
       "      <td>M</td>\n",
       "      <td>NaN</td>\n",
       "      <td>NaN</td>\n",
       "      <td>Michael Hordern</td>\n",
       "      <td>53.0</td>\n",
       "    </tr>\n",
       "    <tr>\n",
       "      <th>450563</th>\n",
       "      <td>The Yellow Rolls-Royce</td>\n",
       "      <td>1964.0</td>\n",
       "      <td>5400000.0</td>\n",
       "      <td>122.0</td>\n",
       "      <td>{\"/m/02h40lc\": \"English Language\"}</td>\n",
       "      <td>{\"/m/07ssc\": \"United Kingdom\"}</td>\n",
       "      <td>{\"/m/07s9rl0\": \"Drama\", \"/m/03p5xs\": \"Comedy o...</td>\n",
       "      <td>6.4</td>\n",
       "      <td>Anatole de Grunwald</td>\n",
       "      <td>Riz Ortolani</td>\n",
       "      <td>Anthony Asquith</td>\n",
       "      <td>Terence Rattigan</td>\n",
       "      <td>NaN</td>\n",
       "      <td>1908-11-02</td>\n",
       "      <td>M</td>\n",
       "      <td>NaN</td>\n",
       "      <td>NaN</td>\n",
       "      <td>Reginald Beckwith</td>\n",
       "      <td>56.0</td>\n",
       "    </tr>\n",
       "    <tr>\n",
       "      <th>450601</th>\n",
       "      <td>The Crucible</td>\n",
       "      <td>2011.0</td>\n",
       "      <td>30723856.0</td>\n",
       "      <td>NaN</td>\n",
       "      <td>{\"/m/02hwhyv\": \"Korean Language\"}</td>\n",
       "      <td>{}</td>\n",
       "      <td>{\"/m/07s9rl0\": \"Drama\"}</td>\n",
       "      <td>NaN</td>\n",
       "      <td>NaN</td>\n",
       "      <td>NaN</td>\n",
       "      <td>NaN</td>\n",
       "      <td>NaN</td>\n",
       "      <td>NaN</td>\n",
       "      <td>1979-07-10</td>\n",
       "      <td>M</td>\n",
       "      <td>1.820</td>\n",
       "      <td>/m/01xhh5</td>\n",
       "      <td>Gong Yoo</td>\n",
       "      <td>32.0</td>\n",
       "    </tr>\n",
       "    <tr>\n",
       "      <th>450602</th>\n",
       "      <td>The Crucible</td>\n",
       "      <td>2011.0</td>\n",
       "      <td>30723856.0</td>\n",
       "      <td>NaN</td>\n",
       "      <td>{\"/m/02hwhyv\": \"Korean Language\"}</td>\n",
       "      <td>{}</td>\n",
       "      <td>{\"/m/07s9rl0\": \"Drama\"}</td>\n",
       "      <td>NaN</td>\n",
       "      <td>NaN</td>\n",
       "      <td>NaN</td>\n",
       "      <td>NaN</td>\n",
       "      <td>NaN</td>\n",
       "      <td>NaN</td>\n",
       "      <td>1984-01-18</td>\n",
       "      <td>F</td>\n",
       "      <td>NaN</td>\n",
       "      <td>NaN</td>\n",
       "      <td>Jung Yoo Mi</td>\n",
       "      <td>27.0</td>\n",
       "    </tr>\n",
       "  </tbody>\n",
       "</table>\n",
       "<p>101028 rows × 19 columns</p>\n",
       "</div>"
      ],
      "text/plain": [
       "                    Movie_name  Movie_release  Movie_revenue  Movie_runtime  \\\n",
       "0               Ghosts of Mars         2001.0     14010832.0           98.0   \n",
       "1               Ghosts of Mars         2001.0     14010832.0           98.0   \n",
       "2               Ghosts of Mars         2001.0     14010832.0           98.0   \n",
       "3               Ghosts of Mars         2001.0     14010832.0           98.0   \n",
       "4               Ghosts of Mars         2001.0     14010832.0           98.0   \n",
       "...                        ...            ...            ...            ...   \n",
       "450561  The Yellow Rolls-Royce         1964.0      5400000.0          122.0   \n",
       "450562  The Yellow Rolls-Royce         1964.0      5400000.0          122.0   \n",
       "450563  The Yellow Rolls-Royce         1964.0      5400000.0          122.0   \n",
       "450601            The Crucible         2011.0     30723856.0            NaN   \n",
       "450602            The Crucible         2011.0     30723856.0            NaN   \n",
       "\n",
       "                           Movie_languages  \\\n",
       "0       {\"/m/02h40lc\": \"English Language\"}   \n",
       "1       {\"/m/02h40lc\": \"English Language\"}   \n",
       "2       {\"/m/02h40lc\": \"English Language\"}   \n",
       "3       {\"/m/02h40lc\": \"English Language\"}   \n",
       "4       {\"/m/02h40lc\": \"English Language\"}   \n",
       "...                                    ...   \n",
       "450561  {\"/m/02h40lc\": \"English Language\"}   \n",
       "450562  {\"/m/02h40lc\": \"English Language\"}   \n",
       "450563  {\"/m/02h40lc\": \"English Language\"}   \n",
       "450601   {\"/m/02hwhyv\": \"Korean Language\"}   \n",
       "450602   {\"/m/02hwhyv\": \"Korean Language\"}   \n",
       "\n",
       "                                  Movie_countries  \\\n",
       "0       {\"/m/09c7w0\": \"United States of America\"}   \n",
       "1       {\"/m/09c7w0\": \"United States of America\"}   \n",
       "2       {\"/m/09c7w0\": \"United States of America\"}   \n",
       "3       {\"/m/09c7w0\": \"United States of America\"}   \n",
       "4       {\"/m/09c7w0\": \"United States of America\"}   \n",
       "...                                           ...   \n",
       "450561             {\"/m/07ssc\": \"United Kingdom\"}   \n",
       "450562             {\"/m/07ssc\": \"United Kingdom\"}   \n",
       "450563             {\"/m/07ssc\": \"United Kingdom\"}   \n",
       "450601                                         {}   \n",
       "450602                                         {}   \n",
       "\n",
       "                                             Movie_genres  Movie_rating  \\\n",
       "0       {\"/m/01jfsb\": \"Thriller\", \"/m/06n90\": \"Science...           4.9   \n",
       "1       {\"/m/01jfsb\": \"Thriller\", \"/m/06n90\": \"Science...           4.9   \n",
       "2       {\"/m/01jfsb\": \"Thriller\", \"/m/06n90\": \"Science...           4.9   \n",
       "3       {\"/m/01jfsb\": \"Thriller\", \"/m/06n90\": \"Science...           4.9   \n",
       "4       {\"/m/01jfsb\": \"Thriller\", \"/m/06n90\": \"Science...           4.9   \n",
       "...                                                   ...           ...   \n",
       "450561  {\"/m/07s9rl0\": \"Drama\", \"/m/03p5xs\": \"Comedy o...           6.4   \n",
       "450562  {\"/m/07s9rl0\": \"Drama\", \"/m/03p5xs\": \"Comedy o...           6.4   \n",
       "450563  {\"/m/07s9rl0\": \"Drama\", \"/m/03p5xs\": \"Comedy o...           6.4   \n",
       "450601                            {\"/m/07s9rl0\": \"Drama\"}           NaN   \n",
       "450602                            {\"/m/07s9rl0\": \"Drama\"}           NaN   \n",
       "\n",
       "             Movie_producer Movie_composer   Movie_director      Movie_writer  \\\n",
       "0                Sandy King        Anthrax   John Carpenter               NaN   \n",
       "1                Sandy King        Anthrax   John Carpenter               NaN   \n",
       "2                Sandy King        Anthrax   John Carpenter               NaN   \n",
       "3                Sandy King        Anthrax   John Carpenter               NaN   \n",
       "4                Sandy King        Anthrax   John Carpenter               NaN   \n",
       "...                     ...            ...              ...               ...   \n",
       "450561  Anatole de Grunwald   Riz Ortolani  Anthony Asquith  Terence Rattigan   \n",
       "450562  Anatole de Grunwald   Riz Ortolani  Anthony Asquith  Terence Rattigan   \n",
       "450563  Anatole de Grunwald   Riz Ortolani  Anthony Asquith  Terence Rattigan   \n",
       "450601                  NaN            NaN              NaN               NaN   \n",
       "450602                  NaN            NaN              NaN               NaN   \n",
       "\n",
       "                         Char_name Actor_birth Actor_gender  Actor_height  \\\n",
       "0                         Akooshay  1958-08-26            F         1.620   \n",
       "1       Lieutenant Melanie Ballard  1974-08-15            F         1.780   \n",
       "2              Desolation Williams  1969-06-15            M         1.727   \n",
       "3               Sgt Jericho Butler  1967-09-12            M         1.750   \n",
       "4                  Bashira Kincaid  1977-09-25            F         1.650   \n",
       "...                            ...         ...          ...           ...   \n",
       "450561                     Norwood  1900-08-31            M           NaN   \n",
       "450562                  Harnsworth  1911-10-03            M           NaN   \n",
       "450563                         NaN  1908-11-02            M           NaN   \n",
       "450601                         NaN  1979-07-10            M         1.820   \n",
       "450602                         NaN  1984-01-18            F           NaN   \n",
       "\n",
       "       Actor_ethnicity          Actor_name  Actor_age_release  \n",
       "0                  NaN      Wanda De Jesus               42.0  \n",
       "1           /m/044038p  Natasha Henstridge               27.0  \n",
       "2              /m/0x67            Ice Cube               32.0  \n",
       "3                  NaN       Jason Statham               33.0  \n",
       "4                  NaN         Clea DuVall               23.0  \n",
       "...                ...                 ...                ...  \n",
       "450561             NaN       Roland Culver               64.0  \n",
       "450562             NaN     Michael Hordern               53.0  \n",
       "450563             NaN   Reginald Beckwith               56.0  \n",
       "450601       /m/01xhh5            Gong Yoo               32.0  \n",
       "450602             NaN         Jung Yoo Mi               27.0  \n",
       "\n",
       "[101028 rows x 19 columns]"
      ]
     },
     "execution_count": 26,
     "metadata": {},
     "output_type": "execute_result"
    }
   ],
   "source": [
    "df"
   ]
  },
  {
   "cell_type": "code",
   "execution_count": 29,
   "metadata": {},
   "outputs": [],
   "source": [
    "from itertools import combinations"
   ]
  },
  {
   "cell_type": "code",
   "execution_count": 147,
   "metadata": {},
   "outputs": [],
   "source": [
    "df_complete = pd.read_csv('data/df_movie.csv')\n",
    "df_complete.rename(columns={'Movie_release_x': 'Movie_release'}, inplace=True)"
   ]
  },
  {
   "cell_type": "code",
   "execution_count": 166,
   "metadata": {},
   "outputs": [
    {
     "data": {
      "text/html": [
       "<div>\n",
       "<style scoped>\n",
       "    .dataframe tbody tr th:only-of-type {\n",
       "        vertical-align: middle;\n",
       "    }\n",
       "\n",
       "    .dataframe tbody tr th {\n",
       "        vertical-align: top;\n",
       "    }\n",
       "\n",
       "    .dataframe thead th {\n",
       "        text-align: right;\n",
       "    }\n",
       "</style>\n",
       "<table border=\"1\" class=\"dataframe\">\n",
       "  <thead>\n",
       "    <tr style=\"text-align: right;\">\n",
       "      <th></th>\n",
       "      <th>Movie_name</th>\n",
       "      <th>Movie_release</th>\n",
       "      <th>Movie_revenue</th>\n",
       "      <th>Movie_runtime</th>\n",
       "      <th>Movie_countries</th>\n",
       "      <th>Genre_dict</th>\n",
       "      <th>Main_genre</th>\n",
       "      <th>Sec_Genre</th>\n",
       "      <th>imdb_rating</th>\n",
       "      <th>runtime_min</th>\n",
       "      <th>...</th>\n",
       "      <th>Actor_gender</th>\n",
       "      <th>Actor_height</th>\n",
       "      <th>Actor_ethnicity</th>\n",
       "      <th>Actor_name</th>\n",
       "      <th>Actor_age_release</th>\n",
       "      <th>Avg_revenue_per_film_at_release</th>\n",
       "      <th>Longevity</th>\n",
       "      <th>Number_of_film_at_release</th>\n",
       "      <th>Avg_rating_per_film_at_release</th>\n",
       "      <th>First_film</th>\n",
       "    </tr>\n",
       "  </thead>\n",
       "  <tbody>\n",
       "    <tr>\n",
       "      <th>0</th>\n",
       "      <td>The Fox and the Hound</td>\n",
       "      <td>1981.0</td>\n",
       "      <td>63456988.0</td>\n",
       "      <td>83.0</td>\n",
       "      <td>{\"/m/09c7w0\": \"United States of America\"}</td>\n",
       "      <td>{'/m/03k9fj': 'Adventure', '/m/0hj3myq': \"Chil...</td>\n",
       "      <td>Adventure</td>\n",
       "      <td>Children's/Family</td>\n",
       "      <td>NaN</td>\n",
       "      <td>NaN</td>\n",
       "      <td>...</td>\n",
       "      <td>NaN</td>\n",
       "      <td>NaN</td>\n",
       "      <td>NaN</td>\n",
       "      <td>'Squeeks' the Caterpillar</td>\n",
       "      <td>NaN</td>\n",
       "      <td>6.345699e+07</td>\n",
       "      <td>0.0</td>\n",
       "      <td>1</td>\n",
       "      <td>NaN</td>\n",
       "      <td>True</td>\n",
       "    </tr>\n",
       "    <tr>\n",
       "      <th>1</th>\n",
       "      <td>Miss March</td>\n",
       "      <td>2009.0</td>\n",
       "      <td>4591629.0</td>\n",
       "      <td>90.0</td>\n",
       "      <td>{\"/m/09c7w0\": \"United States of America\"}</td>\n",
       "      <td>{'/m/04228s': 'Road movie', '/m/0gsy3b': 'Sex ...</td>\n",
       "      <td>Road movie</td>\n",
       "      <td>Sex comedy</td>\n",
       "      <td>NaN</td>\n",
       "      <td>NaN</td>\n",
       "      <td>...</td>\n",
       "      <td>M</td>\n",
       "      <td>NaN</td>\n",
       "      <td>NaN</td>\n",
       "      <td>40 Glocc</td>\n",
       "      <td>29.0</td>\n",
       "      <td>4.591629e+06</td>\n",
       "      <td>0.0</td>\n",
       "      <td>1</td>\n",
       "      <td>NaN</td>\n",
       "      <td>True</td>\n",
       "    </tr>\n",
       "    <tr>\n",
       "      <th>2</th>\n",
       "      <td>Get Rich or Die Tryin'</td>\n",
       "      <td>2005.0</td>\n",
       "      <td>46442528.0</td>\n",
       "      <td>117.0</td>\n",
       "      <td>{\"/m/09c7w0\": \"United States of America\"}</td>\n",
       "      <td>{'/m/0lsxr': 'Crime Fiction', '/m/026v1nw': 'H...</td>\n",
       "      <td>Crime Fiction</td>\n",
       "      <td>Hip hop movies</td>\n",
       "      <td>5.4</td>\n",
       "      <td>117.0</td>\n",
       "      <td>...</td>\n",
       "      <td>M</td>\n",
       "      <td>1.829</td>\n",
       "      <td>/m/0x67</td>\n",
       "      <td>50 Cent</td>\n",
       "      <td>30.0</td>\n",
       "      <td>4.644253e+07</td>\n",
       "      <td>0.0</td>\n",
       "      <td>1</td>\n",
       "      <td>5.400000</td>\n",
       "      <td>True</td>\n",
       "    </tr>\n",
       "    <tr>\n",
       "      <th>3</th>\n",
       "      <td>Home of the Brave</td>\n",
       "      <td>2006.0</td>\n",
       "      <td>499620.0</td>\n",
       "      <td>106.0</td>\n",
       "      <td>{\"/m/09c7w0\": \"United States of America\", \"/m/...</td>\n",
       "      <td>{'/m/07s9rl0': 'Drama', '/m/082gq': 'War film'}</td>\n",
       "      <td>Drama</td>\n",
       "      <td>War film</td>\n",
       "      <td>5.6</td>\n",
       "      <td>106.0</td>\n",
       "      <td>...</td>\n",
       "      <td>M</td>\n",
       "      <td>1.829</td>\n",
       "      <td>/m/0x67</td>\n",
       "      <td>50 Cent</td>\n",
       "      <td>31.0</td>\n",
       "      <td>2.347107e+07</td>\n",
       "      <td>1.0</td>\n",
       "      <td>2</td>\n",
       "      <td>5.500000</td>\n",
       "      <td>False</td>\n",
       "    </tr>\n",
       "    <tr>\n",
       "      <th>4</th>\n",
       "      <td>Righteous Kill</td>\n",
       "      <td>2008.0</td>\n",
       "      <td>76747202.0</td>\n",
       "      <td>100.0</td>\n",
       "      <td>{\"/m/09c7w0\": \"United States of America\"}</td>\n",
       "      <td>{'/m/01jfsb': 'Thriller', '/m/0lsxr': 'Crime F...</td>\n",
       "      <td>Thriller</td>\n",
       "      <td>Crime Fiction</td>\n",
       "      <td>6.0</td>\n",
       "      <td>101.0</td>\n",
       "      <td>...</td>\n",
       "      <td>M</td>\n",
       "      <td>1.829</td>\n",
       "      <td>/m/0x67</td>\n",
       "      <td>50 Cent</td>\n",
       "      <td>33.0</td>\n",
       "      <td>4.122978e+07</td>\n",
       "      <td>3.0</td>\n",
       "      <td>3</td>\n",
       "      <td>5.666667</td>\n",
       "      <td>False</td>\n",
       "    </tr>\n",
       "  </tbody>\n",
       "</table>\n",
       "<p>5 rows × 27 columns</p>\n",
       "</div>"
      ],
      "text/plain": [
       "               Movie_name  Movie_release  Movie_revenue  Movie_runtime  \\\n",
       "0   The Fox and the Hound         1981.0     63456988.0           83.0   \n",
       "1              Miss March         2009.0      4591629.0           90.0   \n",
       "2  Get Rich or Die Tryin'         2005.0     46442528.0          117.0   \n",
       "3       Home of the Brave         2006.0       499620.0          106.0   \n",
       "4          Righteous Kill         2008.0     76747202.0          100.0   \n",
       "\n",
       "                                     Movie_countries  \\\n",
       "0          {\"/m/09c7w0\": \"United States of America\"}   \n",
       "1          {\"/m/09c7w0\": \"United States of America\"}   \n",
       "2          {\"/m/09c7w0\": \"United States of America\"}   \n",
       "3  {\"/m/09c7w0\": \"United States of America\", \"/m/...   \n",
       "4          {\"/m/09c7w0\": \"United States of America\"}   \n",
       "\n",
       "                                          Genre_dict     Main_genre  \\\n",
       "0  {'/m/03k9fj': 'Adventure', '/m/0hj3myq': \"Chil...      Adventure   \n",
       "1  {'/m/04228s': 'Road movie', '/m/0gsy3b': 'Sex ...     Road movie   \n",
       "2  {'/m/0lsxr': 'Crime Fiction', '/m/026v1nw': 'H...  Crime Fiction   \n",
       "3    {'/m/07s9rl0': 'Drama', '/m/082gq': 'War film'}          Drama   \n",
       "4  {'/m/01jfsb': 'Thriller', '/m/0lsxr': 'Crime F...       Thriller   \n",
       "\n",
       "           Sec_Genre  imdb_rating  runtime_min  ... Actor_gender Actor_height  \\\n",
       "0  Children's/Family          NaN          NaN  ...          NaN          NaN   \n",
       "1         Sex comedy          NaN          NaN  ...            M          NaN   \n",
       "2     Hip hop movies          5.4        117.0  ...            M        1.829   \n",
       "3           War film          5.6        106.0  ...            M        1.829   \n",
       "4      Crime Fiction          6.0        101.0  ...            M        1.829   \n",
       "\n",
       "  Actor_ethnicity                 Actor_name Actor_age_release  \\\n",
       "0             NaN  'Squeeks' the Caterpillar               NaN   \n",
       "1             NaN                   40 Glocc              29.0   \n",
       "2         /m/0x67                    50 Cent              30.0   \n",
       "3         /m/0x67                    50 Cent              31.0   \n",
       "4         /m/0x67                    50 Cent              33.0   \n",
       "\n",
       "  Avg_revenue_per_film_at_release Longevity Number_of_film_at_release  \\\n",
       "0                    6.345699e+07       0.0                         1   \n",
       "1                    4.591629e+06       0.0                         1   \n",
       "2                    4.644253e+07       0.0                         1   \n",
       "3                    2.347107e+07       1.0                         2   \n",
       "4                    4.122978e+07       3.0                         3   \n",
       "\n",
       "   Avg_rating_per_film_at_release First_film  \n",
       "0                             NaN       True  \n",
       "1                             NaN       True  \n",
       "2                        5.400000       True  \n",
       "3                        5.500000      False  \n",
       "4                        5.666667      False  \n",
       "\n",
       "[5 rows x 27 columns]"
      ]
     },
     "execution_count": 166,
     "metadata": {},
     "output_type": "execute_result"
    }
   ],
   "source": [
    "df_complete.head()"
   ]
  },
  {
   "cell_type": "code",
   "execution_count": 167,
   "metadata": {},
   "outputs": [],
   "source": [
    "# Group by 'Movie_name' and aggregate 'Actor_name' into lists\n",
    "actor_pairs = df_complete.groupby(['Movie_name', 'Movie_release'])['Actor_name'].apply(list)\n",
    "\n",
    "# For each movie, create all possible pairs of actors without duplication\n",
    "actor_pairs = actor_pairs.apply(lambda x: list(combinations(sorted(set(x)), 2)))"
   ]
  },
  {
   "cell_type": "code",
   "execution_count": 168,
   "metadata": {},
   "outputs": [
    {
     "data": {
      "text/plain": [
       "Movie_name               Movie_release\n",
       "'Til There Was You       1997.0           [(Alice Drummond, Christine Ebersole), (Alice ...\n",
       "(500) Days of Summer     2009.0           [(Chloë Moretz, Clark Gregg), (Chloë Moretz, G...\n",
       "*batteries not included  1987.0           [(Dennis Boutsikaris, Doris Belack), (Dennis B...\n",
       "...And Justice for All   1979.0           [(Al Pacino, Christine Lahti), (Al Pacino, Cra...\n",
       "10                       1979.0           [(Bo Derek, Brian Dennehy), (Bo Derek, Dee Wal...\n",
       "Name: Actor_name, dtype: object"
      ]
     },
     "execution_count": 168,
     "metadata": {},
     "output_type": "execute_result"
    }
   ],
   "source": [
    "actor_pairs.head()"
   ]
  },
  {
   "cell_type": "code",
   "execution_count": 169,
   "metadata": {},
   "outputs": [
    {
     "data": {
      "text/html": [
       "<div>\n",
       "<style scoped>\n",
       "    .dataframe tbody tr th:only-of-type {\n",
       "        vertical-align: middle;\n",
       "    }\n",
       "\n",
       "    .dataframe tbody tr th {\n",
       "        vertical-align: top;\n",
       "    }\n",
       "\n",
       "    .dataframe thead th {\n",
       "        text-align: right;\n",
       "    }\n",
       "</style>\n",
       "<table border=\"1\" class=\"dataframe\">\n",
       "  <thead>\n",
       "    <tr style=\"text-align: right;\">\n",
       "      <th></th>\n",
       "      <th>Movie_name</th>\n",
       "      <th>Movie_release</th>\n",
       "      <th>Actor_pairs</th>\n",
       "    </tr>\n",
       "  </thead>\n",
       "  <tbody>\n",
       "    <tr>\n",
       "      <th>0</th>\n",
       "      <td>'Til There Was You</td>\n",
       "      <td>1997.0</td>\n",
       "      <td>(Alice Drummond, Christine Ebersole)</td>\n",
       "    </tr>\n",
       "    <tr>\n",
       "      <th>0</th>\n",
       "      <td>'Til There Was You</td>\n",
       "      <td>1997.0</td>\n",
       "      <td>(Alice Drummond, Craig Bierko)</td>\n",
       "    </tr>\n",
       "    <tr>\n",
       "      <th>0</th>\n",
       "      <td>'Til There Was You</td>\n",
       "      <td>1997.0</td>\n",
       "      <td>(Alice Drummond, Dylan McDermott)</td>\n",
       "    </tr>\n",
       "    <tr>\n",
       "      <th>0</th>\n",
       "      <td>'Til There Was You</td>\n",
       "      <td>1997.0</td>\n",
       "      <td>(Alice Drummond, Jeanne Tripplehorn)</td>\n",
       "    </tr>\n",
       "    <tr>\n",
       "      <th>0</th>\n",
       "      <td>'Til There Was You</td>\n",
       "      <td>1997.0</td>\n",
       "      <td>(Alice Drummond, Jennifer Aniston)</td>\n",
       "    </tr>\n",
       "  </tbody>\n",
       "</table>\n",
       "</div>"
      ],
      "text/plain": [
       "           Movie_name  Movie_release                           Actor_pairs\n",
       "0  'Til There Was You         1997.0  (Alice Drummond, Christine Ebersole)\n",
       "0  'Til There Was You         1997.0        (Alice Drummond, Craig Bierko)\n",
       "0  'Til There Was You         1997.0     (Alice Drummond, Dylan McDermott)\n",
       "0  'Til There Was You         1997.0  (Alice Drummond, Jeanne Tripplehorn)\n",
       "0  'Til There Was You         1997.0    (Alice Drummond, Jennifer Aniston)"
      ]
     },
     "execution_count": 169,
     "metadata": {},
     "output_type": "execute_result"
    }
   ],
   "source": [
    "df_pairs = pd.DataFrame(actor_pairs)\n",
    "df_pairs = df_pairs.reset_index()\n",
    "df_pairs = df_pairs.rename(columns={'Actor_name': 'Actor_pairs'})\n",
    "df_pairs = df_pairs.explode('Actor_pairs')\n",
    "df_pairs.head()"
   ]
  },
  {
   "cell_type": "code",
   "execution_count": 170,
   "metadata": {},
   "outputs": [],
   "source": [
    "df_pairs = df_pairs.merge(df_movie, on=['Movie_name', 'Movie_release'], how='left')"
   ]
  },
  {
   "cell_type": "code",
   "execution_count": 171,
   "metadata": {},
   "outputs": [],
   "source": [
    "df_pairs.drop(['Wiki_ID', 'Movie_runtime', 'Movie_languages', 'Movie_countries', 'Movie_genres','Movie_producer','Movie_composer','Movie_director','Movie_writer'], axis=1, inplace=True)\n",
    "df_pairs.dropna(subset=['Actor_pairs', 'Movie_release', 'Movie_revenue', 'Movie_rating'], inplace=True)"
   ]
  },
  {
   "cell_type": "code",
   "execution_count": 172,
   "metadata": {},
   "outputs": [],
   "source": [
    "df_pairs['Actor1'] = df_pairs['Actor_pairs'].apply(lambda x: x[0])\n",
    "df_pairs['Actor2'] = df_pairs['Actor_pairs'].apply(lambda x: x[1])\n",
    "df_pairs.sort_values(by=['Movie_release'], inplace=True)"
   ]
  },
  {
   "cell_type": "code",
   "execution_count": 280,
   "metadata": {},
   "outputs": [
    {
     "data": {
      "text/html": [
       "<div>\n",
       "<style scoped>\n",
       "    .dataframe tbody tr th:only-of-type {\n",
       "        vertical-align: middle;\n",
       "    }\n",
       "\n",
       "    .dataframe tbody tr th {\n",
       "        vertical-align: top;\n",
       "    }\n",
       "\n",
       "    .dataframe thead th {\n",
       "        text-align: right;\n",
       "    }\n",
       "</style>\n",
       "<table border=\"1\" class=\"dataframe\">\n",
       "  <thead>\n",
       "    <tr style=\"text-align: right;\">\n",
       "      <th></th>\n",
       "      <th>Movie_name</th>\n",
       "      <th>Movie_release</th>\n",
       "      <th>Actor_pairs</th>\n",
       "      <th>Movie_revenue</th>\n",
       "      <th>Movie_rating</th>\n",
       "      <th>Actor1</th>\n",
       "      <th>Actor2</th>\n",
       "    </tr>\n",
       "  </thead>\n",
       "  <tbody>\n",
       "    <tr>\n",
       "      <th>0</th>\n",
       "      <td>The Million Dollar Mystery</td>\n",
       "      <td>1914.0</td>\n",
       "      <td>(James Cruze, Sidney Bracey)</td>\n",
       "      <td>1500000.0</td>\n",
       "      <td>6.0</td>\n",
       "      <td>James Cruze</td>\n",
       "      <td>Sidney Bracey</td>\n",
       "    </tr>\n",
       "    <tr>\n",
       "      <th>1</th>\n",
       "      <td>The Million Dollar Mystery</td>\n",
       "      <td>1914.0</td>\n",
       "      <td>(Marguerite Snow, Sidney Bracey)</td>\n",
       "      <td>1500000.0</td>\n",
       "      <td>6.0</td>\n",
       "      <td>Marguerite Snow</td>\n",
       "      <td>Sidney Bracey</td>\n",
       "    </tr>\n",
       "    <tr>\n",
       "      <th>2</th>\n",
       "      <td>The Million Dollar Mystery</td>\n",
       "      <td>1914.0</td>\n",
       "      <td>(Lila Chester, Sidney Bracey)</td>\n",
       "      <td>1500000.0</td>\n",
       "      <td>6.0</td>\n",
       "      <td>Lila Chester</td>\n",
       "      <td>Sidney Bracey</td>\n",
       "    </tr>\n",
       "    <tr>\n",
       "      <th>3</th>\n",
       "      <td>The Million Dollar Mystery</td>\n",
       "      <td>1914.0</td>\n",
       "      <td>(Lila Chester, Marguerite Snow)</td>\n",
       "      <td>1500000.0</td>\n",
       "      <td>6.0</td>\n",
       "      <td>Lila Chester</td>\n",
       "      <td>Marguerite Snow</td>\n",
       "    </tr>\n",
       "    <tr>\n",
       "      <th>4</th>\n",
       "      <td>The Million Dollar Mystery</td>\n",
       "      <td>1914.0</td>\n",
       "      <td>(James Cruze, Marguerite Snow)</td>\n",
       "      <td>1500000.0</td>\n",
       "      <td>6.0</td>\n",
       "      <td>James Cruze</td>\n",
       "      <td>Marguerite Snow</td>\n",
       "    </tr>\n",
       "    <tr>\n",
       "      <th>...</th>\n",
       "      <td>...</td>\n",
       "      <td>...</td>\n",
       "      <td>...</td>\n",
       "      <td>...</td>\n",
       "      <td>...</td>\n",
       "      <td>...</td>\n",
       "      <td>...</td>\n",
       "    </tr>\n",
       "    <tr>\n",
       "      <th>552031</th>\n",
       "      <td>Hit and Run</td>\n",
       "      <td>2012.0</td>\n",
       "      <td>(Dax Shepard, Jess Rowland)</td>\n",
       "      <td>14453354.0</td>\n",
       "      <td>9.4</td>\n",
       "      <td>Dax Shepard</td>\n",
       "      <td>Jess Rowland</td>\n",
       "    </tr>\n",
       "    <tr>\n",
       "      <th>552032</th>\n",
       "      <td>Hit and Run</td>\n",
       "      <td>2012.0</td>\n",
       "      <td>(David Koechner, Tom Arnold)</td>\n",
       "      <td>14453354.0</td>\n",
       "      <td>9.4</td>\n",
       "      <td>David Koechner</td>\n",
       "      <td>Tom Arnold</td>\n",
       "    </tr>\n",
       "    <tr>\n",
       "      <th>552033</th>\n",
       "      <td>Hit and Run</td>\n",
       "      <td>2012.0</td>\n",
       "      <td>(David Koechner, Steve Agee)</td>\n",
       "      <td>14453354.0</td>\n",
       "      <td>9.4</td>\n",
       "      <td>David Koechner</td>\n",
       "      <td>Steve Agee</td>\n",
       "    </tr>\n",
       "    <tr>\n",
       "      <th>552034</th>\n",
       "      <td>Hit and Run</td>\n",
       "      <td>2012.0</td>\n",
       "      <td>(Beau Bridges, Jess Rowland)</td>\n",
       "      <td>14453354.0</td>\n",
       "      <td>9.4</td>\n",
       "      <td>Beau Bridges</td>\n",
       "      <td>Jess Rowland</td>\n",
       "    </tr>\n",
       "    <tr>\n",
       "      <th>552035</th>\n",
       "      <td>Fun Size</td>\n",
       "      <td>2012.0</td>\n",
       "      <td>(Johnny Knoxville, Thomas McDonell)</td>\n",
       "      <td>4891866.0</td>\n",
       "      <td>5.4</td>\n",
       "      <td>Johnny Knoxville</td>\n",
       "      <td>Thomas McDonell</td>\n",
       "    </tr>\n",
       "  </tbody>\n",
       "</table>\n",
       "<p>552036 rows × 7 columns</p>\n",
       "</div>"
      ],
      "text/plain": [
       "                        Movie_name  Movie_release  \\\n",
       "0       The Million Dollar Mystery         1914.0   \n",
       "1       The Million Dollar Mystery         1914.0   \n",
       "2       The Million Dollar Mystery         1914.0   \n",
       "3       The Million Dollar Mystery         1914.0   \n",
       "4       The Million Dollar Mystery         1914.0   \n",
       "...                            ...            ...   \n",
       "552031                 Hit and Run         2012.0   \n",
       "552032                 Hit and Run         2012.0   \n",
       "552033                 Hit and Run         2012.0   \n",
       "552034                 Hit and Run         2012.0   \n",
       "552035                    Fun Size         2012.0   \n",
       "\n",
       "                                Actor_pairs  Movie_revenue  Movie_rating  \\\n",
       "0              (James Cruze, Sidney Bracey)      1500000.0           6.0   \n",
       "1          (Marguerite Snow, Sidney Bracey)      1500000.0           6.0   \n",
       "2             (Lila Chester, Sidney Bracey)      1500000.0           6.0   \n",
       "3           (Lila Chester, Marguerite Snow)      1500000.0           6.0   \n",
       "4            (James Cruze, Marguerite Snow)      1500000.0           6.0   \n",
       "...                                     ...            ...           ...   \n",
       "552031          (Dax Shepard, Jess Rowland)     14453354.0           9.4   \n",
       "552032         (David Koechner, Tom Arnold)     14453354.0           9.4   \n",
       "552033         (David Koechner, Steve Agee)     14453354.0           9.4   \n",
       "552034         (Beau Bridges, Jess Rowland)     14453354.0           9.4   \n",
       "552035  (Johnny Knoxville, Thomas McDonell)      4891866.0           5.4   \n",
       "\n",
       "                  Actor1           Actor2  \n",
       "0            James Cruze    Sidney Bracey  \n",
       "1        Marguerite Snow    Sidney Bracey  \n",
       "2           Lila Chester    Sidney Bracey  \n",
       "3           Lila Chester  Marguerite Snow  \n",
       "4            James Cruze  Marguerite Snow  \n",
       "...                  ...              ...  \n",
       "552031       Dax Shepard     Jess Rowland  \n",
       "552032    David Koechner       Tom Arnold  \n",
       "552033    David Koechner       Steve Agee  \n",
       "552034      Beau Bridges     Jess Rowland  \n",
       "552035  Johnny Knoxville  Thomas McDonell  \n",
       "\n",
       "[552036 rows x 7 columns]"
      ]
     },
     "execution_count": 280,
     "metadata": {},
     "output_type": "execute_result"
    }
   ],
   "source": [
    "df_pairs.reset_index(drop=True, inplace=True)\n",
    "df_pairs"
   ]
  },
  {
   "cell_type": "code",
   "execution_count": 264,
   "metadata": {},
   "outputs": [
    {
     "data": {
      "text/plain": [
       "Index(['Movie_name', 'Movie_release', 'Movie_revenue', 'Movie_runtime',\n",
       "       'Movie_countries', 'Genre_dict', 'Main_genre', 'Sec_Genre',\n",
       "       'imdb_rating', 'runtime_min', 'Producer', 'Composer', 'director',\n",
       "       'writer', 'Freebase_ID', 'Char_name', 'Actor_birth', 'Actor_gender',\n",
       "       'Actor_height', 'Actor_ethnicity', 'Actor_name', 'Actor_age_release',\n",
       "       'Avg_revenue_per_film_at_release', 'Longevity',\n",
       "       'Number_of_film_at_release', 'Avg_rating_per_film_at_release',\n",
       "       'First_film'],\n",
       "      dtype='object')"
      ]
     },
     "execution_count": 264,
     "metadata": {},
     "output_type": "execute_result"
    }
   ],
   "source": [
    "df_complete.columns"
   ]
  },
  {
   "cell_type": "code",
   "execution_count": 265,
   "metadata": {},
   "outputs": [],
   "source": [
    "def query_info_for_actor_pairs(row, df, info):\n",
    "    actor1 = row['Actor1']\n",
    "    actor2 = row['Actor2']\n",
    "    movie_name = row['Movie_name']\n",
    "    movie_release = row['Movie_release']\n",
    "\n",
    "    movie_condition = (df['Movie_name'] == movie_name) & (df['Movie_release'] == movie_release)\n",
    "\n",
    "    info1 = df.loc[movie_condition & (df['Actor_name'] == actor1), info].values[0]\n",
    "    info2 = df.loc[movie_condition & (df['Actor_name'] == actor2), info].values[0]\n",
    "\n",
    "    return info1, info2"
   ]
  },
  {
   "cell_type": "code",
   "execution_count": 266,
   "metadata": {},
   "outputs": [],
   "source": [
    "def age_difference_between_actors(row):\n",
    "    age1, age2 = query_info_for_actor_pairs(row, df_complete, 'Actor_age_release')\n",
    "    return abs(age1 - age2)"
   ]
  },
  {
   "cell_type": "code",
   "execution_count": 267,
   "metadata": {},
   "outputs": [],
   "source": [
    "def film_count_difference_between_actors(row):\n",
    "    film_count1, film_count2 = query_info_for_actor_pairs(row, df_complete, 'Number_of_film_at_release')\n",
    "    \n",
    "    return abs(film_count1 - film_count2)"
   ]
  },
  {
   "cell_type": "code",
   "execution_count": 268,
   "metadata": {},
   "outputs": [],
   "source": [
    "def average_revenue_difference_at_release_between_actors(row):\n",
    "    revenue1, revenue2 = query_info_for_actor_pairs(row, df_complete, 'Avg_revenue_per_film_at_release')\n",
    "    \n",
    "    return abs(revenue1 - revenue2)"
   ]
  },
  {
   "cell_type": "code",
   "execution_count": 269,
   "metadata": {},
   "outputs": [],
   "source": [
    "def first_film_for_both(row):\n",
    "    first_film1, first_film2 = query_info_for_actor_pairs(row, df_complete, 'First_film')\n",
    "\n",
    "    return (first_film1 and first_film2)"
   ]
  },
  {
   "cell_type": "code",
   "execution_count": 331,
   "metadata": {},
   "outputs": [],
   "source": [
    "def number_of_films_together(row, df):\n",
    "    actor1 = row['Actor1']\n",
    "    actor2 = row['Actor2']\n",
    "    movie_name = row['Movie_name']\n",
    "    movie_release = row['Movie_release']\n",
    "\n",
    "    condition = (df['Movie_name'] == movie_name) & (df['Movie_release'] < movie_release) & (((df['Actor1'] == actor1) & (df['Actor2'] == actor2)) | ((df['Actor1'] == actor2) & (df['Actor2'] == actor1)))\n",
    "\n",
    "    index = row.name\n",
    "    if int((index / len(df)) * 100) % 10 == 0 and int(((index - 1) / len(df)) * 100) % 10 != 0:\n",
    "        print(f\"{int((index / len(df)) * 100)}%\", end=' ')\n",
    "\n",
    "    if index == 0:\n",
    "        print(\"0%\")\n",
    "\n",
    "    return len(df.loc[condition]) / 2"
   ]
  },
  {
   "cell_type": "code",
   "execution_count": 337,
   "metadata": {},
   "outputs": [
    {
     "data": {
      "text/plain": [
       "0.0"
      ]
     },
     "execution_count": 337,
     "metadata": {},
     "output_type": "execute_result"
    }
   ],
   "source": [
    "number_of_films_together(df_pairs.iloc[55205], df_pairs)"
   ]
  },
  {
   "cell_type": "code",
   "execution_count": 338,
   "metadata": {},
   "outputs": [
    {
     "name": "stdout",
     "output_type": "stream",
     "text": [
      "0%\n"
     ]
    },
    {
     "ename": "KeyboardInterrupt",
     "evalue": "",
     "output_type": "error",
     "traceback": [
      "\u001b[1;31m---------------------------------------------------------------------------\u001b[0m",
      "\u001b[1;31mKeyboardInterrupt\u001b[0m                         Traceback (most recent call last)",
      "\u001b[1;32m~\\AppData\\Local\\Temp/ipykernel_10980/4218528948.py\u001b[0m in \u001b[0;36m<module>\u001b[1;34m\u001b[0m\n\u001b[1;32m----> 1\u001b[1;33m \u001b[0mtest\u001b[0m \u001b[1;33m=\u001b[0m \u001b[0mdf_pairs\u001b[0m\u001b[1;33m.\u001b[0m\u001b[0mapply\u001b[0m\u001b[1;33m(\u001b[0m\u001b[1;32mlambda\u001b[0m \u001b[0mx\u001b[0m\u001b[1;33m:\u001b[0m \u001b[0mnumber_of_films_together\u001b[0m\u001b[1;33m(\u001b[0m\u001b[0mx\u001b[0m\u001b[1;33m,\u001b[0m \u001b[0mdf_pairs\u001b[0m\u001b[1;33m)\u001b[0m\u001b[1;33m,\u001b[0m \u001b[0maxis\u001b[0m\u001b[1;33m=\u001b[0m\u001b[1;36m1\u001b[0m\u001b[1;33m)\u001b[0m\u001b[1;33m\u001b[0m\u001b[1;33m\u001b[0m\u001b[0m\n\u001b[0m\u001b[0;32m      2\u001b[0m \u001b[0mtest\u001b[0m\u001b[1;33m\u001b[0m\u001b[1;33m\u001b[0m\u001b[0m\n",
      "\u001b[1;32mc:\\Users\\Adrie\\anaconda3\\lib\\site-packages\\pandas\\core\\frame.py\u001b[0m in \u001b[0;36mapply\u001b[1;34m(self, func, axis, raw, result_type, args, **kwargs)\u001b[0m\n\u001b[0;32m   8738\u001b[0m             \u001b[0mkwargs\u001b[0m\u001b[1;33m=\u001b[0m\u001b[0mkwargs\u001b[0m\u001b[1;33m,\u001b[0m\u001b[1;33m\u001b[0m\u001b[1;33m\u001b[0m\u001b[0m\n\u001b[0;32m   8739\u001b[0m         )\n\u001b[1;32m-> 8740\u001b[1;33m         \u001b[1;32mreturn\u001b[0m \u001b[0mop\u001b[0m\u001b[1;33m.\u001b[0m\u001b[0mapply\u001b[0m\u001b[1;33m(\u001b[0m\u001b[1;33m)\u001b[0m\u001b[1;33m\u001b[0m\u001b[1;33m\u001b[0m\u001b[0m\n\u001b[0m\u001b[0;32m   8741\u001b[0m \u001b[1;33m\u001b[0m\u001b[0m\n\u001b[0;32m   8742\u001b[0m     def applymap(\n",
      "\u001b[1;32mc:\\Users\\Adrie\\anaconda3\\lib\\site-packages\\pandas\\core\\apply.py\u001b[0m in \u001b[0;36mapply\u001b[1;34m(self)\u001b[0m\n\u001b[0;32m    686\u001b[0m             \u001b[1;32mreturn\u001b[0m \u001b[0mself\u001b[0m\u001b[1;33m.\u001b[0m\u001b[0mapply_raw\u001b[0m\u001b[1;33m(\u001b[0m\u001b[1;33m)\u001b[0m\u001b[1;33m\u001b[0m\u001b[1;33m\u001b[0m\u001b[0m\n\u001b[0;32m    687\u001b[0m \u001b[1;33m\u001b[0m\u001b[0m\n\u001b[1;32m--> 688\u001b[1;33m         \u001b[1;32mreturn\u001b[0m \u001b[0mself\u001b[0m\u001b[1;33m.\u001b[0m\u001b[0mapply_standard\u001b[0m\u001b[1;33m(\u001b[0m\u001b[1;33m)\u001b[0m\u001b[1;33m\u001b[0m\u001b[1;33m\u001b[0m\u001b[0m\n\u001b[0m\u001b[0;32m    689\u001b[0m \u001b[1;33m\u001b[0m\u001b[0m\n\u001b[0;32m    690\u001b[0m     \u001b[1;32mdef\u001b[0m \u001b[0magg\u001b[0m\u001b[1;33m(\u001b[0m\u001b[0mself\u001b[0m\u001b[1;33m)\u001b[0m\u001b[1;33m:\u001b[0m\u001b[1;33m\u001b[0m\u001b[1;33m\u001b[0m\u001b[0m\n",
      "\u001b[1;32mc:\\Users\\Adrie\\anaconda3\\lib\\site-packages\\pandas\\core\\apply.py\u001b[0m in \u001b[0;36mapply_standard\u001b[1;34m(self)\u001b[0m\n\u001b[0;32m    810\u001b[0m \u001b[1;33m\u001b[0m\u001b[0m\n\u001b[0;32m    811\u001b[0m     \u001b[1;32mdef\u001b[0m \u001b[0mapply_standard\u001b[0m\u001b[1;33m(\u001b[0m\u001b[0mself\u001b[0m\u001b[1;33m)\u001b[0m\u001b[1;33m:\u001b[0m\u001b[1;33m\u001b[0m\u001b[1;33m\u001b[0m\u001b[0m\n\u001b[1;32m--> 812\u001b[1;33m         \u001b[0mresults\u001b[0m\u001b[1;33m,\u001b[0m \u001b[0mres_index\u001b[0m \u001b[1;33m=\u001b[0m \u001b[0mself\u001b[0m\u001b[1;33m.\u001b[0m\u001b[0mapply_series_generator\u001b[0m\u001b[1;33m(\u001b[0m\u001b[1;33m)\u001b[0m\u001b[1;33m\u001b[0m\u001b[1;33m\u001b[0m\u001b[0m\n\u001b[0m\u001b[0;32m    813\u001b[0m \u001b[1;33m\u001b[0m\u001b[0m\n\u001b[0;32m    814\u001b[0m         \u001b[1;31m# wrap results\u001b[0m\u001b[1;33m\u001b[0m\u001b[1;33m\u001b[0m\u001b[0m\n",
      "\u001b[1;32mc:\\Users\\Adrie\\anaconda3\\lib\\site-packages\\pandas\\core\\apply.py\u001b[0m in \u001b[0;36mapply_series_generator\u001b[1;34m(self)\u001b[0m\n\u001b[0;32m    826\u001b[0m             \u001b[1;32mfor\u001b[0m \u001b[0mi\u001b[0m\u001b[1;33m,\u001b[0m \u001b[0mv\u001b[0m \u001b[1;32min\u001b[0m \u001b[0menumerate\u001b[0m\u001b[1;33m(\u001b[0m\u001b[0mseries_gen\u001b[0m\u001b[1;33m)\u001b[0m\u001b[1;33m:\u001b[0m\u001b[1;33m\u001b[0m\u001b[1;33m\u001b[0m\u001b[0m\n\u001b[0;32m    827\u001b[0m                 \u001b[1;31m# ignore SettingWithCopy here in case the user mutates\u001b[0m\u001b[1;33m\u001b[0m\u001b[1;33m\u001b[0m\u001b[0m\n\u001b[1;32m--> 828\u001b[1;33m                 \u001b[0mresults\u001b[0m\u001b[1;33m[\u001b[0m\u001b[0mi\u001b[0m\u001b[1;33m]\u001b[0m \u001b[1;33m=\u001b[0m \u001b[0mself\u001b[0m\u001b[1;33m.\u001b[0m\u001b[0mf\u001b[0m\u001b[1;33m(\u001b[0m\u001b[0mv\u001b[0m\u001b[1;33m)\u001b[0m\u001b[1;33m\u001b[0m\u001b[1;33m\u001b[0m\u001b[0m\n\u001b[0m\u001b[0;32m    829\u001b[0m                 \u001b[1;32mif\u001b[0m \u001b[0misinstance\u001b[0m\u001b[1;33m(\u001b[0m\u001b[0mresults\u001b[0m\u001b[1;33m[\u001b[0m\u001b[0mi\u001b[0m\u001b[1;33m]\u001b[0m\u001b[1;33m,\u001b[0m \u001b[0mABCSeries\u001b[0m\u001b[1;33m)\u001b[0m\u001b[1;33m:\u001b[0m\u001b[1;33m\u001b[0m\u001b[1;33m\u001b[0m\u001b[0m\n\u001b[0;32m    830\u001b[0m                     \u001b[1;31m# If we have a view on v, we need to make a copy because\u001b[0m\u001b[1;33m\u001b[0m\u001b[1;33m\u001b[0m\u001b[0m\n",
      "\u001b[1;32m~\\AppData\\Local\\Temp/ipykernel_10980/4218528948.py\u001b[0m in \u001b[0;36m<lambda>\u001b[1;34m(x)\u001b[0m\n\u001b[1;32m----> 1\u001b[1;33m \u001b[0mtest\u001b[0m \u001b[1;33m=\u001b[0m \u001b[0mdf_pairs\u001b[0m\u001b[1;33m.\u001b[0m\u001b[0mapply\u001b[0m\u001b[1;33m(\u001b[0m\u001b[1;32mlambda\u001b[0m \u001b[0mx\u001b[0m\u001b[1;33m:\u001b[0m \u001b[0mnumber_of_films_together\u001b[0m\u001b[1;33m(\u001b[0m\u001b[0mx\u001b[0m\u001b[1;33m,\u001b[0m \u001b[0mdf_pairs\u001b[0m\u001b[1;33m)\u001b[0m\u001b[1;33m,\u001b[0m \u001b[0maxis\u001b[0m\u001b[1;33m=\u001b[0m\u001b[1;36m1\u001b[0m\u001b[1;33m)\u001b[0m\u001b[1;33m\u001b[0m\u001b[1;33m\u001b[0m\u001b[0m\n\u001b[0m\u001b[0;32m      2\u001b[0m \u001b[0mtest\u001b[0m\u001b[1;33m\u001b[0m\u001b[1;33m\u001b[0m\u001b[0m\n",
      "\u001b[1;32m~\\AppData\\Local\\Temp/ipykernel_10980/1879577449.py\u001b[0m in \u001b[0;36mnumber_of_films_together\u001b[1;34m(row, df)\u001b[0m\n\u001b[0;32m      5\u001b[0m     \u001b[0mmovie_release\u001b[0m \u001b[1;33m=\u001b[0m \u001b[0mrow\u001b[0m\u001b[1;33m[\u001b[0m\u001b[1;34m'Movie_release'\u001b[0m\u001b[1;33m]\u001b[0m\u001b[1;33m\u001b[0m\u001b[1;33m\u001b[0m\u001b[0m\n\u001b[0;32m      6\u001b[0m \u001b[1;33m\u001b[0m\u001b[0m\n\u001b[1;32m----> 7\u001b[1;33m     \u001b[0mcondition\u001b[0m \u001b[1;33m=\u001b[0m \u001b[1;33m(\u001b[0m\u001b[0mdf\u001b[0m\u001b[1;33m[\u001b[0m\u001b[1;34m'Movie_name'\u001b[0m\u001b[1;33m]\u001b[0m \u001b[1;33m==\u001b[0m \u001b[0mmovie_name\u001b[0m\u001b[1;33m)\u001b[0m \u001b[1;33m&\u001b[0m \u001b[1;33m(\u001b[0m\u001b[0mdf\u001b[0m\u001b[1;33m[\u001b[0m\u001b[1;34m'Movie_release'\u001b[0m\u001b[1;33m]\u001b[0m \u001b[1;33m<\u001b[0m \u001b[0mmovie_release\u001b[0m\u001b[1;33m)\u001b[0m \u001b[1;33m&\u001b[0m \u001b[1;33m(\u001b[0m\u001b[1;33m(\u001b[0m\u001b[1;33m(\u001b[0m\u001b[0mdf\u001b[0m\u001b[1;33m[\u001b[0m\u001b[1;34m'Actor1'\u001b[0m\u001b[1;33m]\u001b[0m \u001b[1;33m==\u001b[0m \u001b[0mactor1\u001b[0m\u001b[1;33m)\u001b[0m \u001b[1;33m&\u001b[0m \u001b[1;33m(\u001b[0m\u001b[0mdf\u001b[0m\u001b[1;33m[\u001b[0m\u001b[1;34m'Actor2'\u001b[0m\u001b[1;33m]\u001b[0m \u001b[1;33m==\u001b[0m \u001b[0mactor2\u001b[0m\u001b[1;33m)\u001b[0m\u001b[1;33m)\u001b[0m \u001b[1;33m|\u001b[0m \u001b[1;33m(\u001b[0m\u001b[1;33m(\u001b[0m\u001b[0mdf\u001b[0m\u001b[1;33m[\u001b[0m\u001b[1;34m'Actor1'\u001b[0m\u001b[1;33m]\u001b[0m \u001b[1;33m==\u001b[0m \u001b[0mactor2\u001b[0m\u001b[1;33m)\u001b[0m \u001b[1;33m&\u001b[0m \u001b[1;33m(\u001b[0m\u001b[0mdf\u001b[0m\u001b[1;33m[\u001b[0m\u001b[1;34m'Actor2'\u001b[0m\u001b[1;33m]\u001b[0m \u001b[1;33m==\u001b[0m \u001b[0mactor1\u001b[0m\u001b[1;33m)\u001b[0m\u001b[1;33m)\u001b[0m\u001b[1;33m)\u001b[0m\u001b[1;33m\u001b[0m\u001b[1;33m\u001b[0m\u001b[0m\n\u001b[0m\u001b[0;32m      8\u001b[0m \u001b[1;33m\u001b[0m\u001b[0m\n\u001b[0;32m      9\u001b[0m     \u001b[0mindex\u001b[0m \u001b[1;33m=\u001b[0m \u001b[0mrow\u001b[0m\u001b[1;33m.\u001b[0m\u001b[0mname\u001b[0m\u001b[1;33m\u001b[0m\u001b[1;33m\u001b[0m\u001b[0m\n",
      "\u001b[1;32mc:\\Users\\Adrie\\anaconda3\\lib\\site-packages\\pandas\\core\\ops\\common.py\u001b[0m in \u001b[0;36mnew_method\u001b[1;34m(self, other)\u001b[0m\n\u001b[0;32m     67\u001b[0m         \u001b[0mother\u001b[0m \u001b[1;33m=\u001b[0m \u001b[0mitem_from_zerodim\u001b[0m\u001b[1;33m(\u001b[0m\u001b[0mother\u001b[0m\u001b[1;33m)\u001b[0m\u001b[1;33m\u001b[0m\u001b[1;33m\u001b[0m\u001b[0m\n\u001b[0;32m     68\u001b[0m \u001b[1;33m\u001b[0m\u001b[0m\n\u001b[1;32m---> 69\u001b[1;33m         \u001b[1;32mreturn\u001b[0m \u001b[0mmethod\u001b[0m\u001b[1;33m(\u001b[0m\u001b[0mself\u001b[0m\u001b[1;33m,\u001b[0m \u001b[0mother\u001b[0m\u001b[1;33m)\u001b[0m\u001b[1;33m\u001b[0m\u001b[1;33m\u001b[0m\u001b[0m\n\u001b[0m\u001b[0;32m     70\u001b[0m \u001b[1;33m\u001b[0m\u001b[0m\n\u001b[0;32m     71\u001b[0m     \u001b[1;32mreturn\u001b[0m \u001b[0mnew_method\u001b[0m\u001b[1;33m\u001b[0m\u001b[1;33m\u001b[0m\u001b[0m\n",
      "\u001b[1;32mc:\\Users\\Adrie\\anaconda3\\lib\\site-packages\\pandas\\core\\arraylike.py\u001b[0m in \u001b[0;36m__eq__\u001b[1;34m(self, other)\u001b[0m\n\u001b[0;32m     30\u001b[0m     \u001b[1;33m@\u001b[0m\u001b[0munpack_zerodim_and_defer\u001b[0m\u001b[1;33m(\u001b[0m\u001b[1;34m\"__eq__\"\u001b[0m\u001b[1;33m)\u001b[0m\u001b[1;33m\u001b[0m\u001b[1;33m\u001b[0m\u001b[0m\n\u001b[0;32m     31\u001b[0m     \u001b[1;32mdef\u001b[0m \u001b[0m__eq__\u001b[0m\u001b[1;33m(\u001b[0m\u001b[0mself\u001b[0m\u001b[1;33m,\u001b[0m \u001b[0mother\u001b[0m\u001b[1;33m)\u001b[0m\u001b[1;33m:\u001b[0m\u001b[1;33m\u001b[0m\u001b[1;33m\u001b[0m\u001b[0m\n\u001b[1;32m---> 32\u001b[1;33m         \u001b[1;32mreturn\u001b[0m \u001b[0mself\u001b[0m\u001b[1;33m.\u001b[0m\u001b[0m_cmp_method\u001b[0m\u001b[1;33m(\u001b[0m\u001b[0mother\u001b[0m\u001b[1;33m,\u001b[0m \u001b[0moperator\u001b[0m\u001b[1;33m.\u001b[0m\u001b[0meq\u001b[0m\u001b[1;33m)\u001b[0m\u001b[1;33m\u001b[0m\u001b[1;33m\u001b[0m\u001b[0m\n\u001b[0m\u001b[0;32m     33\u001b[0m \u001b[1;33m\u001b[0m\u001b[0m\n\u001b[0;32m     34\u001b[0m     \u001b[1;33m@\u001b[0m\u001b[0munpack_zerodim_and_defer\u001b[0m\u001b[1;33m(\u001b[0m\u001b[1;34m\"__ne__\"\u001b[0m\u001b[1;33m)\u001b[0m\u001b[1;33m\u001b[0m\u001b[1;33m\u001b[0m\u001b[0m\n",
      "\u001b[1;32mc:\\Users\\Adrie\\anaconda3\\lib\\site-packages\\pandas\\core\\series.py\u001b[0m in \u001b[0;36m_cmp_method\u001b[1;34m(self, other, op)\u001b[0m\n\u001b[0;32m   5500\u001b[0m \u001b[1;33m\u001b[0m\u001b[0m\n\u001b[0;32m   5501\u001b[0m         \u001b[1;32mwith\u001b[0m \u001b[0mnp\u001b[0m\u001b[1;33m.\u001b[0m\u001b[0merrstate\u001b[0m\u001b[1;33m(\u001b[0m\u001b[0mall\u001b[0m\u001b[1;33m=\u001b[0m\u001b[1;34m\"ignore\"\u001b[0m\u001b[1;33m)\u001b[0m\u001b[1;33m:\u001b[0m\u001b[1;33m\u001b[0m\u001b[1;33m\u001b[0m\u001b[0m\n\u001b[1;32m-> 5502\u001b[1;33m             \u001b[0mres_values\u001b[0m \u001b[1;33m=\u001b[0m \u001b[0mops\u001b[0m\u001b[1;33m.\u001b[0m\u001b[0mcomparison_op\u001b[0m\u001b[1;33m(\u001b[0m\u001b[0mlvalues\u001b[0m\u001b[1;33m,\u001b[0m \u001b[0mrvalues\u001b[0m\u001b[1;33m,\u001b[0m \u001b[0mop\u001b[0m\u001b[1;33m)\u001b[0m\u001b[1;33m\u001b[0m\u001b[1;33m\u001b[0m\u001b[0m\n\u001b[0m\u001b[0;32m   5503\u001b[0m \u001b[1;33m\u001b[0m\u001b[0m\n\u001b[0;32m   5504\u001b[0m         \u001b[1;32mreturn\u001b[0m \u001b[0mself\u001b[0m\u001b[1;33m.\u001b[0m\u001b[0m_construct_result\u001b[0m\u001b[1;33m(\u001b[0m\u001b[0mres_values\u001b[0m\u001b[1;33m,\u001b[0m \u001b[0mname\u001b[0m\u001b[1;33m=\u001b[0m\u001b[0mres_name\u001b[0m\u001b[1;33m)\u001b[0m\u001b[1;33m\u001b[0m\u001b[1;33m\u001b[0m\u001b[0m\n",
      "\u001b[1;32mc:\\Users\\Adrie\\anaconda3\\lib\\site-packages\\pandas\\core\\ops\\array_ops.py\u001b[0m in \u001b[0;36mcomparison_op\u001b[1;34m(left, right, op)\u001b[0m\n\u001b[0;32m    282\u001b[0m \u001b[1;33m\u001b[0m\u001b[0m\n\u001b[0;32m    283\u001b[0m     \u001b[1;32melif\u001b[0m \u001b[0mis_object_dtype\u001b[0m\u001b[1;33m(\u001b[0m\u001b[0mlvalues\u001b[0m\u001b[1;33m.\u001b[0m\u001b[0mdtype\u001b[0m\u001b[1;33m)\u001b[0m \u001b[1;32mor\u001b[0m \u001b[0misinstance\u001b[0m\u001b[1;33m(\u001b[0m\u001b[0mrvalues\u001b[0m\u001b[1;33m,\u001b[0m \u001b[0mstr\u001b[0m\u001b[1;33m)\u001b[0m\u001b[1;33m:\u001b[0m\u001b[1;33m\u001b[0m\u001b[1;33m\u001b[0m\u001b[0m\n\u001b[1;32m--> 284\u001b[1;33m         \u001b[0mres_values\u001b[0m \u001b[1;33m=\u001b[0m \u001b[0mcomp_method_OBJECT_ARRAY\u001b[0m\u001b[1;33m(\u001b[0m\u001b[0mop\u001b[0m\u001b[1;33m,\u001b[0m \u001b[0mlvalues\u001b[0m\u001b[1;33m,\u001b[0m \u001b[0mrvalues\u001b[0m\u001b[1;33m)\u001b[0m\u001b[1;33m\u001b[0m\u001b[1;33m\u001b[0m\u001b[0m\n\u001b[0m\u001b[0;32m    285\u001b[0m \u001b[1;33m\u001b[0m\u001b[0m\n\u001b[0;32m    286\u001b[0m     \u001b[1;32melse\u001b[0m\u001b[1;33m:\u001b[0m\u001b[1;33m\u001b[0m\u001b[1;33m\u001b[0m\u001b[0m\n",
      "\u001b[1;32mc:\\Users\\Adrie\\anaconda3\\lib\\site-packages\\pandas\\core\\ops\\array_ops.py\u001b[0m in \u001b[0;36mcomp_method_OBJECT_ARRAY\u001b[1;34m(op, x, y)\u001b[0m\n\u001b[0;32m     72\u001b[0m     \u001b[1;32melse\u001b[0m\u001b[1;33m:\u001b[0m\u001b[1;33m\u001b[0m\u001b[1;33m\u001b[0m\u001b[0m\n\u001b[0;32m     73\u001b[0m         \u001b[0mresult\u001b[0m \u001b[1;33m=\u001b[0m \u001b[0mlibops\u001b[0m\u001b[1;33m.\u001b[0m\u001b[0mscalar_compare\u001b[0m\u001b[1;33m(\u001b[0m\u001b[0mx\u001b[0m\u001b[1;33m.\u001b[0m\u001b[0mravel\u001b[0m\u001b[1;33m(\u001b[0m\u001b[1;33m)\u001b[0m\u001b[1;33m,\u001b[0m \u001b[0my\u001b[0m\u001b[1;33m,\u001b[0m \u001b[0mop\u001b[0m\u001b[1;33m)\u001b[0m\u001b[1;33m\u001b[0m\u001b[1;33m\u001b[0m\u001b[0m\n\u001b[1;32m---> 74\u001b[1;33m     \u001b[1;32mreturn\u001b[0m \u001b[0mresult\u001b[0m\u001b[1;33m.\u001b[0m\u001b[0mreshape\u001b[0m\u001b[1;33m(\u001b[0m\u001b[0mx\u001b[0m\u001b[1;33m.\u001b[0m\u001b[0mshape\u001b[0m\u001b[1;33m)\u001b[0m\u001b[1;33m\u001b[0m\u001b[1;33m\u001b[0m\u001b[0m\n\u001b[0m\u001b[0;32m     75\u001b[0m \u001b[1;33m\u001b[0m\u001b[0m\n\u001b[0;32m     76\u001b[0m \u001b[1;33m\u001b[0m\u001b[0m\n",
      "\u001b[1;31mKeyboardInterrupt\u001b[0m: "
     ]
    }
   ],
   "source": [
    "test = df_pairs.apply(lambda x: number_of_films_together(x, df_pairs), axis=1)\n",
    "test"
   ]
  }
 ],
 "metadata": {
  "kernelspec": {
   "display_name": "Python 3 (ipykernel)",
   "language": "python",
   "name": "python3"
  },
  "language_info": {
   "codemirror_mode": {
    "name": "ipython",
    "version": 3
   },
   "file_extension": ".py",
   "mimetype": "text/x-python",
   "name": "python",
   "nbconvert_exporter": "python",
   "pygments_lexer": "ipython3",
   "version": "3.9.7"
  }
 },
 "nbformat": 4,
 "nbformat_minor": 4
}
