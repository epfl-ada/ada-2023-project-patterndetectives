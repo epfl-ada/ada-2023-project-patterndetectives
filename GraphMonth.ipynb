{
 "cells": [
  {
   "cell_type": "code",
   "execution_count": 13,
   "metadata": {
    "tags": []
   },
   "outputs": [
    {
     "name": "stdout",
     "output_type": "stream",
     "text": [
      "The autoreload extension is already loaded. To reload it, use:\n",
      "  %reload_ext autoreload\n"
     ]
    }
   ],
   "source": [
    "import pandas as pd\n",
    "import numpy as np\n",
    "import matplotlib.pyplot as plt\n",
    "%matplotlib inline\n",
    "import seaborn as sns\n",
    "import math\n",
    "from statsmodels.stats import diagnostic\n",
    "import statsmodels.stats as st\n",
    "from scipy import stats\n",
    "import networkx as nx\n",
    "import statsmodels.api as sm\n",
    "import statsmodels.formula.api as smf\n",
    "from sklearn.linear_model import LinearRegression, LogisticRegression, Ridge\n",
    "from sklearn.ensemble import RandomForestClassifier\n",
    "# from sklearn.preprocessing import OneHotEncoder\n",
    "# from pandas.plotting import scatter_matrix\n",
    "from sklearn.neighbors import KNeighborsClassifier\n",
    "from sklearn.model_selection import cross_val_predict\n",
    "from sklearn.model_selection import cross_val_score\n",
    "from sklearn.metrics import mean_squared_error, auc, roc_curve\n",
    "import plotly.express as px\n",
    "import ast\n",
    "import plotly.graph_objects as go\n",
    "from plotly.subplots import make_subplots\n",
    "from director_scrap import director_scrap\n",
    "import missingno as msno\n",
    "\n",
    "%load_ext autoreload\n",
    "%autoreload 2"
   ]
  },
  {
   "cell_type": "code",
   "execution_count": 14,
   "metadata": {
    "tags": []
   },
   "outputs": [
    {
     "data": {
      "text/html": [
       "<div>\n",
       "<style scoped>\n",
       "    .dataframe tbody tr th:only-of-type {\n",
       "        vertical-align: middle;\n",
       "    }\n",
       "\n",
       "    .dataframe tbody tr th {\n",
       "        vertical-align: top;\n",
       "    }\n",
       "\n",
       "    .dataframe thead th {\n",
       "        text-align: right;\n",
       "    }\n",
       "</style>\n",
       "<table border=\"1\" class=\"dataframe\">\n",
       "  <thead>\n",
       "    <tr style=\"text-align: right;\">\n",
       "      <th></th>\n",
       "      <th>Wiki_ID</th>\n",
       "      <th>Freebase_ID</th>\n",
       "      <th>Movie_release</th>\n",
       "      <th>Char_name</th>\n",
       "      <th>Actor_birth</th>\n",
       "      <th>Actor_gender</th>\n",
       "      <th>Actor_height</th>\n",
       "      <th>Actor_ethnicity</th>\n",
       "      <th>Actor_name</th>\n",
       "      <th>Actor_age_release</th>\n",
       "      <th>Char/Actor_map</th>\n",
       "      <th>Char_ID</th>\n",
       "      <th>Actor_ID</th>\n",
       "    </tr>\n",
       "  </thead>\n",
       "  <tbody>\n",
       "    <tr>\n",
       "      <th>0</th>\n",
       "      <td>975900</td>\n",
       "      <td>/m/03vyhn</td>\n",
       "      <td>2001-08-24</td>\n",
       "      <td>Akooshay</td>\n",
       "      <td>1958-08-26</td>\n",
       "      <td>F</td>\n",
       "      <td>1.620</td>\n",
       "      <td>NaN</td>\n",
       "      <td>Wanda De Jesus</td>\n",
       "      <td>42.0</td>\n",
       "      <td>/m/0bgchxw</td>\n",
       "      <td>/m/0bgcj3x</td>\n",
       "      <td>/m/03wcfv7</td>\n",
       "    </tr>\n",
       "    <tr>\n",
       "      <th>1</th>\n",
       "      <td>975900</td>\n",
       "      <td>/m/03vyhn</td>\n",
       "      <td>2001-08-24</td>\n",
       "      <td>Lieutenant Melanie Ballard</td>\n",
       "      <td>1974-08-15</td>\n",
       "      <td>F</td>\n",
       "      <td>1.780</td>\n",
       "      <td>/m/044038p</td>\n",
       "      <td>Natasha Henstridge</td>\n",
       "      <td>27.0</td>\n",
       "      <td>/m/0jys3m</td>\n",
       "      <td>/m/0bgchn4</td>\n",
       "      <td>/m/0346l4</td>\n",
       "    </tr>\n",
       "    <tr>\n",
       "      <th>2</th>\n",
       "      <td>975900</td>\n",
       "      <td>/m/03vyhn</td>\n",
       "      <td>2001-08-24</td>\n",
       "      <td>Desolation Williams</td>\n",
       "      <td>1969-06-15</td>\n",
       "      <td>M</td>\n",
       "      <td>1.727</td>\n",
       "      <td>/m/0x67</td>\n",
       "      <td>Ice Cube</td>\n",
       "      <td>32.0</td>\n",
       "      <td>/m/0jys3g</td>\n",
       "      <td>/m/0bgchn_</td>\n",
       "      <td>/m/01vw26l</td>\n",
       "    </tr>\n",
       "    <tr>\n",
       "      <th>3</th>\n",
       "      <td>975900</td>\n",
       "      <td>/m/03vyhn</td>\n",
       "      <td>2001-08-24</td>\n",
       "      <td>Sgt Jericho Butler</td>\n",
       "      <td>1967-09-12</td>\n",
       "      <td>M</td>\n",
       "      <td>1.750</td>\n",
       "      <td>NaN</td>\n",
       "      <td>Jason Statham</td>\n",
       "      <td>33.0</td>\n",
       "      <td>/m/02vchl6</td>\n",
       "      <td>/m/0bgchnq</td>\n",
       "      <td>/m/034hyc</td>\n",
       "    </tr>\n",
       "    <tr>\n",
       "      <th>4</th>\n",
       "      <td>975900</td>\n",
       "      <td>/m/03vyhn</td>\n",
       "      <td>2001-08-24</td>\n",
       "      <td>Bashira Kincaid</td>\n",
       "      <td>1977-09-25</td>\n",
       "      <td>F</td>\n",
       "      <td>1.650</td>\n",
       "      <td>NaN</td>\n",
       "      <td>Clea DuVall</td>\n",
       "      <td>23.0</td>\n",
       "      <td>/m/02vbb3r</td>\n",
       "      <td>/m/0bgchp9</td>\n",
       "      <td>/m/01y9xg</td>\n",
       "    </tr>\n",
       "  </tbody>\n",
       "</table>\n",
       "</div>"
      ],
      "text/plain": [
       "   Wiki_ID Freebase_ID Movie_release                   Char_name Actor_birth  \\\n",
       "0   975900   /m/03vyhn    2001-08-24                    Akooshay  1958-08-26   \n",
       "1   975900   /m/03vyhn    2001-08-24  Lieutenant Melanie Ballard  1974-08-15   \n",
       "2   975900   /m/03vyhn    2001-08-24         Desolation Williams  1969-06-15   \n",
       "3   975900   /m/03vyhn    2001-08-24          Sgt Jericho Butler  1967-09-12   \n",
       "4   975900   /m/03vyhn    2001-08-24             Bashira Kincaid  1977-09-25   \n",
       "\n",
       "  Actor_gender  Actor_height Actor_ethnicity          Actor_name  \\\n",
       "0            F         1.620             NaN      Wanda De Jesus   \n",
       "1            F         1.780      /m/044038p  Natasha Henstridge   \n",
       "2            M         1.727         /m/0x67            Ice Cube   \n",
       "3            M         1.750             NaN       Jason Statham   \n",
       "4            F         1.650             NaN         Clea DuVall   \n",
       "\n",
       "   Actor_age_release Char/Actor_map     Char_ID    Actor_ID  \n",
       "0               42.0     /m/0bgchxw  /m/0bgcj3x  /m/03wcfv7  \n",
       "1               27.0      /m/0jys3m  /m/0bgchn4   /m/0346l4  \n",
       "2               32.0      /m/0jys3g  /m/0bgchn_  /m/01vw26l  \n",
       "3               33.0     /m/02vchl6  /m/0bgchnq   /m/034hyc  \n",
       "4               23.0     /m/02vbb3r  /m/0bgchp9   /m/01y9xg  "
      ]
     },
     "execution_count": 14,
     "metadata": {},
     "output_type": "execute_result"
    }
   ],
   "source": [
    "columns_char = ['Wiki_ID', 'Freebase_ID', 'Movie_release', 'Char_name', 'Actor_birth', 'Actor_gender', \n",
    "               'Actor_height', 'Actor_ethnicity', 'Actor_name', 'Actor_age_release', 'Char/Actor_map', \n",
    "               'Char_ID', 'Actor_ID']\n",
    "df_char = pd.read_table('data/character.metadata.tsv', header=None, names=columns_char)\n",
    "df_char.head(5)"
   ]
  },
  {
   "cell_type": "code",
   "execution_count": 15,
   "metadata": {
    "tags": []
   },
   "outputs": [],
   "source": [
    "columns_mov = ['Wiki_ID', 'Freebase_ID', 'Movie_name', 'Movie_release', 'Movie_revenue', 'Movie_runtime', \n",
    "               'Movie_languages', 'Movie_countries', 'Movie_genres']\n",
    "df_mov = pd.read_table('data/movie.metadata.tsv', header=None, names=columns_mov)\n"
   ]
  },
  {
   "cell_type": "code",
   "execution_count": 16,
   "metadata": {
    "tags": []
   },
   "outputs": [
    {
     "name": "stdout",
     "output_type": "stream",
     "text": [
      "Movie : 81741      Actor : 450669\n"
     ]
    }
   ],
   "source": [
    "print(f\"Movie : {len(df_mov)}      Actor : {len(df_char)}\")"
   ]
  },
  {
   "cell_type": "markdown",
   "metadata": {
    "tags": []
   },
   "source": [
    "### When describing the relevant aspects of the data, and any other datasets you may intend to use, you should in particular show (non-exhaustive list):\n",
    "\n",
    "**-That you can handle the data in its size.**\n",
    "\n",
    "**-That you understand what’s in the data (formats, distributions, missing values, correlations, etc.).**\n",
    "\n",
    "**-That you considered ways to enrich, filter, transform the data according to your needs.**\n",
    "\n",
    "**-That you have a reasonable plan and ideas for methods you’re going to use, giving their essential mathematical details in the notebook.**\n",
    "\n",
    "**-That your plan for analysis and communication is reasonable and sound, potentially discussing alternatives to your choices that you considered but dropped.**"
   ]
  },
  {
   "cell_type": "markdown",
   "metadata": {},
   "source": [
    "## 1. Management of the data\n",
    "### 1.1 Character data"
   ]
  },
  {
   "cell_type": "markdown",
   "metadata": {},
   "source": [
    "First, we clean the data, and use some predictors to replace the missing values.\n",
    "\n",
    "We directly notice that our data is full of missing values, for the proportion of lines that we see above. So we will try to count how many of them they are, in order to take measure for them."
   ]
  },
  {
   "cell_type": "code",
   "execution_count": 17,
   "metadata": {},
   "outputs": [
    {
     "data": {
      "text/plain": [
       "Wiki_ID                   0\n",
       "Freebase_ID               0\n",
       "Movie_release          9995\n",
       "Char_name            257875\n",
       "Actor_birth          106145\n",
       "Actor_gender          45609\n",
       "Actor_height         295845\n",
       "Actor_ethnicity      344611\n",
       "Actor_name             1228\n",
       "Actor_age_release    158113\n",
       "Char/Actor_map            0\n",
       "Char_ID              257865\n",
       "Actor_ID                815\n",
       "dtype: int64"
      ]
     },
     "execution_count": 17,
     "metadata": {},
     "output_type": "execute_result"
    }
   ],
   "source": [
    "df_char.isnull().sum()"
   ]
  },
  {
   "cell_type": "markdown",
   "metadata": {
    "tags": []
   },
   "source": [
    "We see that our data is incomplete, especially for the actors' ethnicities and birth dates. The percentage of missing data is pretty high so we have to be careful with our analysis around certain features"
   ]
  },
  {
   "cell_type": "code",
   "execution_count": 18,
   "metadata": {
    "tags": []
   },
   "outputs": [
    {
     "data": {
      "application/vnd.plotly.v1+json": {
       "config": {
        "plotlyServerURL": "https://plot.ly"
       },
       "data": [
        {
         "alignmentgroup": "True",
         "hovertemplate": "Column=%{x}<br>Missing Percentage=%{marker.color}<extra></extra>",
         "legendgroup": "",
         "marker": {
          "color": [
           76.47,
           65.65,
           57.22,
           57.22,
           35.08,
           23.55,
           10.12,
           2.22,
           0.27,
           0.18,
           0,
           0,
           0
          ],
          "coloraxis": "coloraxis",
          "pattern": {
           "shape": ""
          }
         },
         "name": "",
         "offsetgroup": "",
         "orientation": "v",
         "showlegend": false,
         "textposition": "auto",
         "type": "bar",
         "x": [
          "Actor_ethnicity",
          "Actor_height",
          "Char_name",
          "Char_ID",
          "Actor_age_release",
          "Actor_birth",
          "Actor_gender",
          "Movie_release",
          "Actor_name",
          "Actor_ID",
          "Wiki_ID",
          "Freebase_ID",
          "Char/Actor_map"
         ],
         "xaxis": "x",
         "y": [
          76.47,
          65.65,
          57.22,
          57.22,
          35.08,
          23.55,
          10.12,
          2.22,
          0.27,
          0.18,
          0,
          0,
          0
         ],
         "yaxis": "y"
        }
       ],
       "layout": {
        "autosize": true,
        "barmode": "relative",
        "coloraxis": {
         "cmax": 100,
         "cmin": 0,
         "colorbar": {
          "title": {
           "text": "Missing Percentage"
          }
         },
         "colorscale": [
          [
           0,
           "rgb(0,104,55)"
          ],
          [
           0.1,
           "rgb(26,152,80)"
          ],
          [
           0.2,
           "rgb(102,189,99)"
          ],
          [
           0.3,
           "rgb(166,217,106)"
          ],
          [
           0.4,
           "rgb(217,239,139)"
          ],
          [
           0.5,
           "rgb(255,255,191)"
          ],
          [
           0.6,
           "rgb(254,224,139)"
          ],
          [
           0.7,
           "rgb(253,174,97)"
          ],
          [
           0.8,
           "rgb(244,109,67)"
          ],
          [
           0.9,
           "rgb(215,48,39)"
          ],
          [
           1,
           "rgb(165,0,38)"
          ]
         ]
        },
        "legend": {
         "tracegroupgap": 0
        },
        "template": {
         "data": {
          "bar": [
           {
            "error_x": {
             "color": "#2a3f5f"
            },
            "error_y": {
             "color": "#2a3f5f"
            },
            "marker": {
             "line": {
              "color": "#E5ECF6",
              "width": 0.5
             },
             "pattern": {
              "fillmode": "overlay",
              "size": 10,
              "solidity": 0.2
             }
            },
            "type": "bar"
           }
          ],
          "barpolar": [
           {
            "marker": {
             "line": {
              "color": "#E5ECF6",
              "width": 0.5
             },
             "pattern": {
              "fillmode": "overlay",
              "size": 10,
              "solidity": 0.2
             }
            },
            "type": "barpolar"
           }
          ],
          "carpet": [
           {
            "aaxis": {
             "endlinecolor": "#2a3f5f",
             "gridcolor": "white",
             "linecolor": "white",
             "minorgridcolor": "white",
             "startlinecolor": "#2a3f5f"
            },
            "baxis": {
             "endlinecolor": "#2a3f5f",
             "gridcolor": "white",
             "linecolor": "white",
             "minorgridcolor": "white",
             "startlinecolor": "#2a3f5f"
            },
            "type": "carpet"
           }
          ],
          "choropleth": [
           {
            "colorbar": {
             "outlinewidth": 0,
             "ticks": ""
            },
            "type": "choropleth"
           }
          ],
          "contour": [
           {
            "colorbar": {
             "outlinewidth": 0,
             "ticks": ""
            },
            "colorscale": [
             [
              0,
              "#0d0887"
             ],
             [
              0.1111111111111111,
              "#46039f"
             ],
             [
              0.2222222222222222,
              "#7201a8"
             ],
             [
              0.3333333333333333,
              "#9c179e"
             ],
             [
              0.4444444444444444,
              "#bd3786"
             ],
             [
              0.5555555555555556,
              "#d8576b"
             ],
             [
              0.6666666666666666,
              "#ed7953"
             ],
             [
              0.7777777777777778,
              "#fb9f3a"
             ],
             [
              0.8888888888888888,
              "#fdca26"
             ],
             [
              1,
              "#f0f921"
             ]
            ],
            "type": "contour"
           }
          ],
          "contourcarpet": [
           {
            "colorbar": {
             "outlinewidth": 0,
             "ticks": ""
            },
            "type": "contourcarpet"
           }
          ],
          "heatmap": [
           {
            "colorbar": {
             "outlinewidth": 0,
             "ticks": ""
            },
            "colorscale": [
             [
              0,
              "#0d0887"
             ],
             [
              0.1111111111111111,
              "#46039f"
             ],
             [
              0.2222222222222222,
              "#7201a8"
             ],
             [
              0.3333333333333333,
              "#9c179e"
             ],
             [
              0.4444444444444444,
              "#bd3786"
             ],
             [
              0.5555555555555556,
              "#d8576b"
             ],
             [
              0.6666666666666666,
              "#ed7953"
             ],
             [
              0.7777777777777778,
              "#fb9f3a"
             ],
             [
              0.8888888888888888,
              "#fdca26"
             ],
             [
              1,
              "#f0f921"
             ]
            ],
            "type": "heatmap"
           }
          ],
          "heatmapgl": [
           {
            "colorbar": {
             "outlinewidth": 0,
             "ticks": ""
            },
            "colorscale": [
             [
              0,
              "#0d0887"
             ],
             [
              0.1111111111111111,
              "#46039f"
             ],
             [
              0.2222222222222222,
              "#7201a8"
             ],
             [
              0.3333333333333333,
              "#9c179e"
             ],
             [
              0.4444444444444444,
              "#bd3786"
             ],
             [
              0.5555555555555556,
              "#d8576b"
             ],
             [
              0.6666666666666666,
              "#ed7953"
             ],
             [
              0.7777777777777778,
              "#fb9f3a"
             ],
             [
              0.8888888888888888,
              "#fdca26"
             ],
             [
              1,
              "#f0f921"
             ]
            ],
            "type": "heatmapgl"
           }
          ],
          "histogram": [
           {
            "marker": {
             "pattern": {
              "fillmode": "overlay",
              "size": 10,
              "solidity": 0.2
             }
            },
            "type": "histogram"
           }
          ],
          "histogram2d": [
           {
            "colorbar": {
             "outlinewidth": 0,
             "ticks": ""
            },
            "colorscale": [
             [
              0,
              "#0d0887"
             ],
             [
              0.1111111111111111,
              "#46039f"
             ],
             [
              0.2222222222222222,
              "#7201a8"
             ],
             [
              0.3333333333333333,
              "#9c179e"
             ],
             [
              0.4444444444444444,
              "#bd3786"
             ],
             [
              0.5555555555555556,
              "#d8576b"
             ],
             [
              0.6666666666666666,
              "#ed7953"
             ],
             [
              0.7777777777777778,
              "#fb9f3a"
             ],
             [
              0.8888888888888888,
              "#fdca26"
             ],
             [
              1,
              "#f0f921"
             ]
            ],
            "type": "histogram2d"
           }
          ],
          "histogram2dcontour": [
           {
            "colorbar": {
             "outlinewidth": 0,
             "ticks": ""
            },
            "colorscale": [
             [
              0,
              "#0d0887"
             ],
             [
              0.1111111111111111,
              "#46039f"
             ],
             [
              0.2222222222222222,
              "#7201a8"
             ],
             [
              0.3333333333333333,
              "#9c179e"
             ],
             [
              0.4444444444444444,
              "#bd3786"
             ],
             [
              0.5555555555555556,
              "#d8576b"
             ],
             [
              0.6666666666666666,
              "#ed7953"
             ],
             [
              0.7777777777777778,
              "#fb9f3a"
             ],
             [
              0.8888888888888888,
              "#fdca26"
             ],
             [
              1,
              "#f0f921"
             ]
            ],
            "type": "histogram2dcontour"
           }
          ],
          "mesh3d": [
           {
            "colorbar": {
             "outlinewidth": 0,
             "ticks": ""
            },
            "type": "mesh3d"
           }
          ],
          "parcoords": [
           {
            "line": {
             "colorbar": {
              "outlinewidth": 0,
              "ticks": ""
             }
            },
            "type": "parcoords"
           }
          ],
          "pie": [
           {
            "automargin": true,
            "type": "pie"
           }
          ],
          "scatter": [
           {
            "fillpattern": {
             "fillmode": "overlay",
             "size": 10,
             "solidity": 0.2
            },
            "type": "scatter"
           }
          ],
          "scatter3d": [
           {
            "line": {
             "colorbar": {
              "outlinewidth": 0,
              "ticks": ""
             }
            },
            "marker": {
             "colorbar": {
              "outlinewidth": 0,
              "ticks": ""
             }
            },
            "type": "scatter3d"
           }
          ],
          "scattercarpet": [
           {
            "marker": {
             "colorbar": {
              "outlinewidth": 0,
              "ticks": ""
             }
            },
            "type": "scattercarpet"
           }
          ],
          "scattergeo": [
           {
            "marker": {
             "colorbar": {
              "outlinewidth": 0,
              "ticks": ""
             }
            },
            "type": "scattergeo"
           }
          ],
          "scattergl": [
           {
            "marker": {
             "colorbar": {
              "outlinewidth": 0,
              "ticks": ""
             }
            },
            "type": "scattergl"
           }
          ],
          "scattermapbox": [
           {
            "marker": {
             "colorbar": {
              "outlinewidth": 0,
              "ticks": ""
             }
            },
            "type": "scattermapbox"
           }
          ],
          "scatterpolar": [
           {
            "marker": {
             "colorbar": {
              "outlinewidth": 0,
              "ticks": ""
             }
            },
            "type": "scatterpolar"
           }
          ],
          "scatterpolargl": [
           {
            "marker": {
             "colorbar": {
              "outlinewidth": 0,
              "ticks": ""
             }
            },
            "type": "scatterpolargl"
           }
          ],
          "scatterternary": [
           {
            "marker": {
             "colorbar": {
              "outlinewidth": 0,
              "ticks": ""
             }
            },
            "type": "scatterternary"
           }
          ],
          "surface": [
           {
            "colorbar": {
             "outlinewidth": 0,
             "ticks": ""
            },
            "colorscale": [
             [
              0,
              "#0d0887"
             ],
             [
              0.1111111111111111,
              "#46039f"
             ],
             [
              0.2222222222222222,
              "#7201a8"
             ],
             [
              0.3333333333333333,
              "#9c179e"
             ],
             [
              0.4444444444444444,
              "#bd3786"
             ],
             [
              0.5555555555555556,
              "#d8576b"
             ],
             [
              0.6666666666666666,
              "#ed7953"
             ],
             [
              0.7777777777777778,
              "#fb9f3a"
             ],
             [
              0.8888888888888888,
              "#fdca26"
             ],
             [
              1,
              "#f0f921"
             ]
            ],
            "type": "surface"
           }
          ],
          "table": [
           {
            "cells": {
             "fill": {
              "color": "#EBF0F8"
             },
             "line": {
              "color": "white"
             }
            },
            "header": {
             "fill": {
              "color": "#C8D4E3"
             },
             "line": {
              "color": "white"
             }
            },
            "type": "table"
           }
          ]
         },
         "layout": {
          "annotationdefaults": {
           "arrowcolor": "#2a3f5f",
           "arrowhead": 0,
           "arrowwidth": 1
          },
          "autotypenumbers": "strict",
          "coloraxis": {
           "colorbar": {
            "outlinewidth": 0,
            "ticks": ""
           }
          },
          "colorscale": {
           "diverging": [
            [
             0,
             "#8e0152"
            ],
            [
             0.1,
             "#c51b7d"
            ],
            [
             0.2,
             "#de77ae"
            ],
            [
             0.3,
             "#f1b6da"
            ],
            [
             0.4,
             "#fde0ef"
            ],
            [
             0.5,
             "#f7f7f7"
            ],
            [
             0.6,
             "#e6f5d0"
            ],
            [
             0.7,
             "#b8e186"
            ],
            [
             0.8,
             "#7fbc41"
            ],
            [
             0.9,
             "#4d9221"
            ],
            [
             1,
             "#276419"
            ]
           ],
           "sequential": [
            [
             0,
             "#0d0887"
            ],
            [
             0.1111111111111111,
             "#46039f"
            ],
            [
             0.2222222222222222,
             "#7201a8"
            ],
            [
             0.3333333333333333,
             "#9c179e"
            ],
            [
             0.4444444444444444,
             "#bd3786"
            ],
            [
             0.5555555555555556,
             "#d8576b"
            ],
            [
             0.6666666666666666,
             "#ed7953"
            ],
            [
             0.7777777777777778,
             "#fb9f3a"
            ],
            [
             0.8888888888888888,
             "#fdca26"
            ],
            [
             1,
             "#f0f921"
            ]
           ],
           "sequentialminus": [
            [
             0,
             "#0d0887"
            ],
            [
             0.1111111111111111,
             "#46039f"
            ],
            [
             0.2222222222222222,
             "#7201a8"
            ],
            [
             0.3333333333333333,
             "#9c179e"
            ],
            [
             0.4444444444444444,
             "#bd3786"
            ],
            [
             0.5555555555555556,
             "#d8576b"
            ],
            [
             0.6666666666666666,
             "#ed7953"
            ],
            [
             0.7777777777777778,
             "#fb9f3a"
            ],
            [
             0.8888888888888888,
             "#fdca26"
            ],
            [
             1,
             "#f0f921"
            ]
           ]
          },
          "colorway": [
           "#636efa",
           "#EF553B",
           "#00cc96",
           "#ab63fa",
           "#FFA15A",
           "#19d3f3",
           "#FF6692",
           "#B6E880",
           "#FF97FF",
           "#FECB52"
          ],
          "font": {
           "color": "#2a3f5f"
          },
          "geo": {
           "bgcolor": "white",
           "lakecolor": "white",
           "landcolor": "#E5ECF6",
           "showlakes": true,
           "showland": true,
           "subunitcolor": "white"
          },
          "hoverlabel": {
           "align": "left"
          },
          "hovermode": "closest",
          "mapbox": {
           "style": "light"
          },
          "paper_bgcolor": "white",
          "plot_bgcolor": "#E5ECF6",
          "polar": {
           "angularaxis": {
            "gridcolor": "white",
            "linecolor": "white",
            "ticks": ""
           },
           "bgcolor": "#E5ECF6",
           "radialaxis": {
            "gridcolor": "white",
            "linecolor": "white",
            "ticks": ""
           }
          },
          "scene": {
           "xaxis": {
            "backgroundcolor": "#E5ECF6",
            "gridcolor": "white",
            "gridwidth": 2,
            "linecolor": "white",
            "showbackground": true,
            "ticks": "",
            "zerolinecolor": "white"
           },
           "yaxis": {
            "backgroundcolor": "#E5ECF6",
            "gridcolor": "white",
            "gridwidth": 2,
            "linecolor": "white",
            "showbackground": true,
            "ticks": "",
            "zerolinecolor": "white"
           },
           "zaxis": {
            "backgroundcolor": "#E5ECF6",
            "gridcolor": "white",
            "gridwidth": 2,
            "linecolor": "white",
            "showbackground": true,
            "ticks": "",
            "zerolinecolor": "white"
           }
          },
          "shapedefaults": {
           "line": {
            "color": "#2a3f5f"
           }
          },
          "ternary": {
           "aaxis": {
            "gridcolor": "white",
            "linecolor": "white",
            "ticks": ""
           },
           "baxis": {
            "gridcolor": "white",
            "linecolor": "white",
            "ticks": ""
           },
           "bgcolor": "#E5ECF6",
           "caxis": {
            "gridcolor": "white",
            "linecolor": "white",
            "ticks": ""
           }
          },
          "title": {
           "x": 0.05
          },
          "xaxis": {
           "automargin": true,
           "gridcolor": "white",
           "linecolor": "white",
           "ticks": "",
           "title": {
            "standoff": 15
           },
           "zerolinecolor": "white",
           "zerolinewidth": 2
          },
          "yaxis": {
           "automargin": true,
           "gridcolor": "white",
           "linecolor": "white",
           "ticks": "",
           "title": {
            "standoff": 15
           },
           "zerolinecolor": "white",
           "zerolinewidth": 2
          }
         }
        },
        "title": {
         "text": "Percentage of Missing Values by Column"
        },
        "xaxis": {
         "anchor": "y",
         "autorange": true,
         "domain": [
          0,
          1
         ],
         "range": [
          -0.5,
          12.5
         ],
         "title": {
          "text": "Column"
         },
         "type": "category"
        },
        "yaxis": {
         "anchor": "x",
         "autorange": true,
         "domain": [
          0,
          1
         ],
         "range": [
          0,
          80.49473684210527
         ],
         "title": {
          "text": "Missing Percentage"
         },
         "type": "linear"
        }
       }
      },
      "image/png": "[encoded data removed]",
      "text/html": [
       "<div>                            <div id=\"5e8f263a-2a64-4eed-993a-ea3f6f9b894f\" class=\"plotly-graph-div\" style=\"height:525px; width:100%;\"></div>            <script type=\"text/javascript\">                require([\"plotly\"], function(Plotly) {                    window.PLOTLYENV=window.PLOTLYENV || {};                                    if (document.getElementById(\"5e8f263a-2a64-4eed-993a-ea3f6f9b894f\")) {                    Plotly.newPlot(                        \"5e8f263a-2a64-4eed-993a-ea3f6f9b894f\",                        [{\"alignmentgroup\":\"True\",\"hovertemplate\":\"Column=%{x}\\u003cbr\\u003eMissing Percentage=%{marker.color}\\u003cextra\\u003e\\u003c\\u002fextra\\u003e\",\"legendgroup\":\"\",\"marker\":{\"color\":[76.47,65.65,57.22,57.22,35.08,23.55,10.12,2.22,0.27,0.18,0.0,0.0,0.0],\"coloraxis\":\"coloraxis\",\"pattern\":{\"shape\":\"\"}},\"name\":\"\",\"offsetgroup\":\"\",\"orientation\":\"v\",\"showlegend\":false,\"textposition\":\"auto\",\"x\":[\"Actor_ethnicity\",\"Actor_height\",\"Char_name\",\"Char_ID\",\"Actor_age_release\",\"Actor_birth\",\"Actor_gender\",\"Movie_release\",\"Actor_name\",\"Actor_ID\",\"Wiki_ID\",\"Freebase_ID\",\"Char\\u002fActor_map\"],\"xaxis\":\"x\",\"y\":[76.47,65.65,57.22,57.22,35.08,23.55,10.12,2.22,0.27,0.18,0.0,0.0,0.0],\"yaxis\":\"y\",\"type\":\"bar\"}],                        {\"template\":{\"data\":{\"histogram2dcontour\":[{\"type\":\"histogram2dcontour\",\"colorbar\":{\"outlinewidth\":0,\"ticks\":\"\"},\"colorscale\":[[0.0,\"#0d0887\"],[0.1111111111111111,\"#46039f\"],[0.2222222222222222,\"#7201a8\"],[0.3333333333333333,\"#9c179e\"],[0.4444444444444444,\"#bd3786\"],[0.5555555555555556,\"#d8576b\"],[0.6666666666666666,\"#ed7953\"],[0.7777777777777778,\"#fb9f3a\"],[0.8888888888888888,\"#fdca26\"],[1.0,\"#f0f921\"]]}],\"choropleth\":[{\"type\":\"choropleth\",\"colorbar\":{\"outlinewidth\":0,\"ticks\":\"\"}}],\"histogram2d\":[{\"type\":\"histogram2d\",\"colorbar\":{\"outlinewidth\":0,\"ticks\":\"\"},\"colorscale\":[[0.0,\"#0d0887\"],[0.1111111111111111,\"#46039f\"],[0.2222222222222222,\"#7201a8\"],[0.3333333333333333,\"#9c179e\"],[0.4444444444444444,\"#bd3786\"],[0.5555555555555556,\"#d8576b\"],[0.6666666666666666,\"#ed7953\"],[0.7777777777777778,\"#fb9f3a\"],[0.8888888888888888,\"#fdca26\"],[1.0,\"#f0f921\"]]}],\"heatmap\":[{\"type\":\"heatmap\",\"colorbar\":{\"outlinewidth\":0,\"ticks\":\"\"},\"colorscale\":[[0.0,\"#0d0887\"],[0.1111111111111111,\"#46039f\"],[0.2222222222222222,\"#7201a8\"],[0.3333333333333333,\"#9c179e\"],[0.4444444444444444,\"#bd3786\"],[0.5555555555555556,\"#d8576b\"],[0.6666666666666666,\"#ed7953\"],[0.7777777777777778,\"#fb9f3a\"],[0.8888888888888888,\"#fdca26\"],[1.0,\"#f0f921\"]]}],\"heatmapgl\":[{\"type\":\"heatmapgl\",\"colorbar\":{\"outlinewidth\":0,\"ticks\":\"\"},\"colorscale\":[[0.0,\"#0d0887\"],[0.1111111111111111,\"#46039f\"],[0.2222222222222222,\"#7201a8\"],[0.3333333333333333,\"#9c179e\"],[0.4444444444444444,\"#bd3786\"],[0.5555555555555556,\"#d8576b\"],[0.6666666666666666,\"#ed7953\"],[0.7777777777777778,\"#fb9f3a\"],[0.8888888888888888,\"#fdca26\"],[1.0,\"#f0f921\"]]}],\"contourcarpet\":[{\"type\":\"contourcarpet\",\"colorbar\":{\"outlinewidth\":0,\"ticks\":\"\"}}],\"contour\":[{\"type\":\"contour\",\"colorbar\":{\"outlinewidth\":0,\"ticks\":\"\"},\"colorscale\":[[0.0,\"#0d0887\"],[0.1111111111111111,\"#46039f\"],[0.2222222222222222,\"#7201a8\"],[0.3333333333333333,\"#9c179e\"],[0.4444444444444444,\"#bd3786\"],[0.5555555555555556,\"#d8576b\"],[0.6666666666666666,\"#ed7953\"],[0.7777777777777778,\"#fb9f3a\"],[0.8888888888888888,\"#fdca26\"],[1.0,\"#f0f921\"]]}],\"surface\":[{\"type\":\"surface\",\"colorbar\":{\"outlinewidth\":0,\"ticks\":\"\"},\"colorscale\":[[0.0,\"#0d0887\"],[0.1111111111111111,\"#46039f\"],[0.2222222222222222,\"#7201a8\"],[0.3333333333333333,\"#9c179e\"],[0.4444444444444444,\"#bd3786\"],[0.5555555555555556,\"#d8576b\"],[0.6666666666666666,\"#ed7953\"],[0.7777777777777778,\"#fb9f3a\"],[0.8888888888888888,\"#fdca26\"],[1.0,\"#f0f921\"]]}],\"mesh3d\":[{\"type\":\"mesh3d\",\"colorbar\":{\"outlinewidth\":0,\"ticks\":\"\"}}],\"scatter\":[{\"fillpattern\":{\"fillmode\":\"overlay\",\"size\":10,\"solidity\":0.2},\"type\":\"scatter\"}],\"parcoords\":[{\"type\":\"parcoords\",\"line\":{\"colorbar\":{\"outlinewidth\":0,\"ticks\":\"\"}}}],\"scatterpolargl\":[{\"type\":\"scatterpolargl\",\"marker\":{\"colorbar\":{\"outlinewidth\":0,\"ticks\":\"\"}}}],\"bar\":[{\"error_x\":{\"color\":\"#2a3f5f\"},\"error_y\":{\"color\":\"#2a3f5f\"},\"marker\":{\"line\":{\"color\":\"#E5ECF6\",\"width\":0.5},\"pattern\":{\"fillmode\":\"overlay\",\"size\":10,\"solidity\":0.2}},\"type\":\"bar\"}],\"scattergeo\":[{\"type\":\"scattergeo\",\"marker\":{\"colorbar\":{\"outlinewidth\":0,\"ticks\":\"\"}}}],\"scatterpolar\":[{\"type\":\"scatterpolar\",\"marker\":{\"colorbar\":{\"outlinewidth\":0,\"ticks\":\"\"}}}],\"histogram\":[{\"marker\":{\"pattern\":{\"fillmode\":\"overlay\",\"size\":10,\"solidity\":0.2}},\"type\":\"histogram\"}],\"scattergl\":[{\"type\":\"scattergl\",\"marker\":{\"colorbar\":{\"outlinewidth\":0,\"ticks\":\"\"}}}],\"scatter3d\":[{\"type\":\"scatter3d\",\"line\":{\"colorbar\":{\"outlinewidth\":0,\"ticks\":\"\"}},\"marker\":{\"colorbar\":{\"outlinewidth\":0,\"ticks\":\"\"}}}],\"scattermapbox\":[{\"type\":\"scattermapbox\",\"marker\":{\"colorbar\":{\"outlinewidth\":0,\"ticks\":\"\"}}}],\"scatterternary\":[{\"type\":\"scatterternary\",\"marker\":{\"colorbar\":{\"outlinewidth\":0,\"ticks\":\"\"}}}],\"scattercarpet\":[{\"type\":\"scattercarpet\",\"marker\":{\"colorbar\":{\"outlinewidth\":0,\"ticks\":\"\"}}}],\"carpet\":[{\"aaxis\":{\"endlinecolor\":\"#2a3f5f\",\"gridcolor\":\"white\",\"linecolor\":\"white\",\"minorgridcolor\":\"white\",\"startlinecolor\":\"#2a3f5f\"},\"baxis\":{\"endlinecolor\":\"#2a3f5f\",\"gridcolor\":\"white\",\"linecolor\":\"white\",\"minorgridcolor\":\"white\",\"startlinecolor\":\"#2a3f5f\"},\"type\":\"carpet\"}],\"table\":[{\"cells\":{\"fill\":{\"color\":\"#EBF0F8\"},\"line\":{\"color\":\"white\"}},\"header\":{\"fill\":{\"color\":\"#C8D4E3\"},\"line\":{\"color\":\"white\"}},\"type\":\"table\"}],\"barpolar\":[{\"marker\":{\"line\":{\"color\":\"#E5ECF6\",\"width\":0.5},\"pattern\":{\"fillmode\":\"overlay\",\"size\":10,\"solidity\":0.2}},\"type\":\"barpolar\"}],\"pie\":[{\"automargin\":true,\"type\":\"pie\"}]},\"layout\":{\"autotypenumbers\":\"strict\",\"colorway\":[\"#636efa\",\"#EF553B\",\"#00cc96\",\"#ab63fa\",\"#FFA15A\",\"#19d3f3\",\"#FF6692\",\"#B6E880\",\"#FF97FF\",\"#FECB52\"],\"font\":{\"color\":\"#2a3f5f\"},\"hovermode\":\"closest\",\"hoverlabel\":{\"align\":\"left\"},\"paper_bgcolor\":\"white\",\"plot_bgcolor\":\"#E5ECF6\",\"polar\":{\"bgcolor\":\"#E5ECF6\",\"angularaxis\":{\"gridcolor\":\"white\",\"linecolor\":\"white\",\"ticks\":\"\"},\"radialaxis\":{\"gridcolor\":\"white\",\"linecolor\":\"white\",\"ticks\":\"\"}},\"ternary\":{\"bgcolor\":\"#E5ECF6\",\"aaxis\":{\"gridcolor\":\"white\",\"linecolor\":\"white\",\"ticks\":\"\"},\"baxis\":{\"gridcolor\":\"white\",\"linecolor\":\"white\",\"ticks\":\"\"},\"caxis\":{\"gridcolor\":\"white\",\"linecolor\":\"white\",\"ticks\":\"\"}},\"coloraxis\":{\"colorbar\":{\"outlinewidth\":0,\"ticks\":\"\"}},\"colorscale\":{\"sequential\":[[0.0,\"#0d0887\"],[0.1111111111111111,\"#46039f\"],[0.2222222222222222,\"#7201a8\"],[0.3333333333333333,\"#9c179e\"],[0.4444444444444444,\"#bd3786\"],[0.5555555555555556,\"#d8576b\"],[0.6666666666666666,\"#ed7953\"],[0.7777777777777778,\"#fb9f3a\"],[0.8888888888888888,\"#fdca26\"],[1.0,\"#f0f921\"]],\"sequentialminus\":[[0.0,\"#0d0887\"],[0.1111111111111111,\"#46039f\"],[0.2222222222222222,\"#7201a8\"],[0.3333333333333333,\"#9c179e\"],[0.4444444444444444,\"#bd3786\"],[0.5555555555555556,\"#d8576b\"],[0.6666666666666666,\"#ed7953\"],[0.7777777777777778,\"#fb9f3a\"],[0.8888888888888888,\"#fdca26\"],[1.0,\"#f0f921\"]],\"diverging\":[[0,\"#8e0152\"],[0.1,\"#c51b7d\"],[0.2,\"#de77ae\"],[0.3,\"#f1b6da\"],[0.4,\"#fde0ef\"],[0.5,\"#f7f7f7\"],[0.6,\"#e6f5d0\"],[0.7,\"#b8e186\"],[0.8,\"#7fbc41\"],[0.9,\"#4d9221\"],[1,\"#276419\"]]},\"xaxis\":{\"gridcolor\":\"white\",\"linecolor\":\"white\",\"ticks\":\"\",\"title\":{\"standoff\":15},\"zerolinecolor\":\"white\",\"automargin\":true,\"zerolinewidth\":2},\"yaxis\":{\"gridcolor\":\"white\",\"linecolor\":\"white\",\"ticks\":\"\",\"title\":{\"standoff\":15},\"zerolinecolor\":\"white\",\"automargin\":true,\"zerolinewidth\":2},\"scene\":{\"xaxis\":{\"backgroundcolor\":\"#E5ECF6\",\"gridcolor\":\"white\",\"linecolor\":\"white\",\"showbackground\":true,\"ticks\":\"\",\"zerolinecolor\":\"white\",\"gridwidth\":2},\"yaxis\":{\"backgroundcolor\":\"#E5ECF6\",\"gridcolor\":\"white\",\"linecolor\":\"white\",\"showbackground\":true,\"ticks\":\"\",\"zerolinecolor\":\"white\",\"gridwidth\":2},\"zaxis\":{\"backgroundcolor\":\"#E5ECF6\",\"gridcolor\":\"white\",\"linecolor\":\"white\",\"showbackground\":true,\"ticks\":\"\",\"zerolinecolor\":\"white\",\"gridwidth\":2}},\"shapedefaults\":{\"line\":{\"color\":\"#2a3f5f\"}},\"annotationdefaults\":{\"arrowcolor\":\"#2a3f5f\",\"arrowhead\":0,\"arrowwidth\":1},\"geo\":{\"bgcolor\":\"white\",\"landcolor\":\"#E5ECF6\",\"subunitcolor\":\"white\",\"showland\":true,\"showlakes\":true,\"lakecolor\":\"white\"},\"title\":{\"x\":0.05},\"mapbox\":{\"style\":\"light\"}}},\"xaxis\":{\"anchor\":\"y\",\"domain\":[0.0,1.0],\"title\":{\"text\":\"Column\"}},\"yaxis\":{\"anchor\":\"x\",\"domain\":[0.0,1.0],\"title\":{\"text\":\"Missing Percentage\"}},\"coloraxis\":{\"colorbar\":{\"title\":{\"text\":\"Missing Percentage\"}},\"colorscale\":[[0.0,\"rgb(0,104,55)\"],[0.1,\"rgb(26,152,80)\"],[0.2,\"rgb(102,189,99)\"],[0.3,\"rgb(166,217,106)\"],[0.4,\"rgb(217,239,139)\"],[0.5,\"rgb(255,255,191)\"],[0.6,\"rgb(254,224,139)\"],[0.7,\"rgb(253,174,97)\"],[0.8,\"rgb(244,109,67)\"],[0.9,\"rgb(215,48,39)\"],[1.0,\"rgb(165,0,38)\"]],\"cmin\":0,\"cmax\":100},\"legend\":{\"tracegroupgap\":0},\"title\":{\"text\":\"Percentage of Missing Values by Column\"},\"barmode\":\"relative\"},                        {\"responsive\": true}                    ).then(function(){\n",
       "                            \n",
       "var gd = document.getElementById('5e8f263a-2a64-4eed-993a-ea3f6f9b894f');\n",
       "var x = new MutationObserver(function (mutations, observer) {{\n",
       "        var display = window.getComputedStyle(gd).display;\n",
       "        if (!display || display === 'none') {{\n",
       "            console.log([gd, 'removed!']);\n",
       "            Plotly.purge(gd);\n",
       "            observer.disconnect();\n",
       "        }}\n",
       "}});\n",
       "\n",
       "// Listen for the removal of the full notebook cells\n",
       "var notebookContainer = gd.closest('#notebook-container');\n",
       "if (notebookContainer) {{\n",
       "    x.observe(notebookContainer, {childList: true});\n",
       "}}\n",
       "\n",
       "// Listen for the clearing of the current output cell\n",
       "var outputEl = gd.closest('.output');\n",
       "if (outputEl) {{\n",
       "    x.observe(outputEl, {childList: true});\n",
       "}}\n",
       "\n",
       "                        })                };                });            </script>        </div>"
      ]
     },
     "metadata": {},
     "output_type": "display_data"
    }
   ],
   "source": [
    "# Calculate, sort, and round the missing percentages\n",
    "missing_percentage = (df_char.isnull().sum() / len(df_char) * 100).sort_values(ascending=False).round(2)\n",
    "\n",
    "# Convert the Series to DataFrame for compatibility with plotly\n",
    "df_missing = missing_percentage.reset_index()\n",
    "df_missing.columns = ['Column', 'Missing Percentage']\n",
    "\n",
    "# Create the plot with a specified color range\n",
    "fig = px.bar(df_missing, x='Column', y='Missing Percentage', \n",
    "             color='Missing Percentage', \n",
    "             color_continuous_scale=\"RdYlGn_r\", \n",
    "             range_color=[0, 100],  # Specifying the color scale range\n",
    "             title='Percentage of Missing Values by Column')\n",
    "fig.update_layout(coloraxis_colorbar=dict(title=\"Missing Percentage\"))\n",
    "fig.show()\n"
   ]
  },
  {
   "cell_type": "code",
   "execution_count": 19,
   "metadata": {},
   "outputs": [
    {
     "name": "stdout",
     "output_type": "stream",
     "text": [
      "Number of rows after dropping missing records:  45264\n"
     ]
    }
   ],
   "source": [
    "# drop records which contain missing values\n",
    "data_dropped = df_char.dropna()\n",
    "print(\"Number of rows after dropping missing records: \", len(data_dropped))"
   ]
  },
  {
   "cell_type": "markdown",
   "metadata": {},
   "source": [
    "We can still see that there is still a big number of rows where not a single feature is missing, so we could work with theses gf we wanted to analyse things around personnal actors characterics."
   ]
  },
  {
   "cell_type": "markdown",
   "metadata": {},
   "source": [
    "We will try to use the IMDb database to enrich the data of some of our data, because we would like to go deeper into chemistry between actors and with the directors themselves. So we might add the ratings of the films, number of votants, nominations and directors' names."
   ]
  },
  {
   "cell_type": "markdown",
   "metadata": {
    "tags": []
   },
   "source": [
    "### 1.2 Movie data"
   ]
  },
  {
   "cell_type": "markdown",
   "metadata": {
    "tags": []
   },
   "source": [
    "In the same manner, we can analyse our movie data : "
   ]
  },
  {
   "cell_type": "code",
   "execution_count": 20,
   "metadata": {
    "tags": []
   },
   "outputs": [
    {
     "data": {
      "application/vnd.plotly.v1+json": {
       "config": {
        "plotlyServerURL": "https://plot.ly"
       },
       "data": [
        {
         "alignmentgroup": "True",
         "hovertemplate": "Column=%{x}<br>Missing Percentage=%{marker.color}<extra></extra>",
         "legendgroup": "",
         "marker": {
          "color": [
           89.72,
           25.02,
           8.44,
           0,
           0,
           0,
           0,
           0,
           0
          ],
          "coloraxis": "coloraxis",
          "pattern": {
           "shape": ""
          }
         },
         "name": "",
         "offsetgroup": "",
         "orientation": "v",
         "showlegend": false,
         "textposition": "auto",
         "type": "bar",
         "x": [
          "Movie_revenue",
          "Movie_runtime",
          "Movie_release",
          "Wiki_ID",
          "Freebase_ID",
          "Movie_name",
          "Movie_languages",
          "Movie_countries",
          "Movie_genres"
         ],
         "xaxis": "x",
         "y": [
          89.72,
          25.02,
          8.44,
          0,
          0,
          0,
          0,
          0,
          0
         ],
         "yaxis": "y"
        }
       ],
       "layout": {
        "autosize": true,
        "barmode": "relative",
        "coloraxis": {
         "cmax": 100,
         "cmin": 0,
         "colorbar": {
          "title": {
           "text": "Missing Percentage"
          }
         },
         "colorscale": [
          [
           0,
           "rgb(0,104,55)"
          ],
          [
           0.1,
           "rgb(26,152,80)"
          ],
          [
           0.2,
           "rgb(102,189,99)"
          ],
          [
           0.3,
           "rgb(166,217,106)"
          ],
          [
           0.4,
           "rgb(217,239,139)"
          ],
          [
           0.5,
           "rgb(255,255,191)"
          ],
          [
           0.6,
           "rgb(254,224,139)"
          ],
          [
           0.7,
           "rgb(253,174,97)"
          ],
          [
           0.8,
           "rgb(244,109,67)"
          ],
          [
           0.9,
           "rgb(215,48,39)"
          ],
          [
           1,
           "rgb(165,0,38)"
          ]
         ]
        },
        "legend": {
         "tracegroupgap": 0
        },
        "template": {
         "data": {
          "bar": [
           {
            "error_x": {
             "color": "#2a3f5f"
            },
            "error_y": {
             "color": "#2a3f5f"
            },
            "marker": {
             "line": {
              "color": "#E5ECF6",
              "width": 0.5
             },
             "pattern": {
              "fillmode": "overlay",
              "size": 10,
              "solidity": 0.2
             }
            },
            "type": "bar"
           }
          ],
          "barpolar": [
           {
            "marker": {
             "line": {
              "color": "#E5ECF6",
              "width": 0.5
             },
             "pattern": {
              "fillmode": "overlay",
              "size": 10,
              "solidity": 0.2
             }
            },
            "type": "barpolar"
           }
          ],
          "carpet": [
           {
            "aaxis": {
             "endlinecolor": "#2a3f5f",
             "gridcolor": "white",
             "linecolor": "white",
             "minorgridcolor": "white",
             "startlinecolor": "#2a3f5f"
            },
            "baxis": {
             "endlinecolor": "#2a3f5f",
             "gridcolor": "white",
             "linecolor": "white",
             "minorgridcolor": "white",
             "startlinecolor": "#2a3f5f"
            },
            "type": "carpet"
           }
          ],
          "choropleth": [
           {
            "colorbar": {
             "outlinewidth": 0,
             "ticks": ""
            },
            "type": "choropleth"
           }
          ],
          "contour": [
           {
            "colorbar": {
             "outlinewidth": 0,
             "ticks": ""
            },
            "colorscale": [
             [
              0,
              "#0d0887"
             ],
             [
              0.1111111111111111,
              "#46039f"
             ],
             [
              0.2222222222222222,
              "#7201a8"
             ],
             [
              0.3333333333333333,
              "#9c179e"
             ],
             [
              0.4444444444444444,
              "#bd3786"
             ],
             [
              0.5555555555555556,
              "#d8576b"
             ],
             [
              0.6666666666666666,
              "#ed7953"
             ],
             [
              0.7777777777777778,
              "#fb9f3a"
             ],
             [
              0.8888888888888888,
              "#fdca26"
             ],
             [
              1,
              "#f0f921"
             ]
            ],
            "type": "contour"
           }
          ],
          "contourcarpet": [
           {
            "colorbar": {
             "outlinewidth": 0,
             "ticks": ""
            },
            "type": "contourcarpet"
           }
          ],
          "heatmap": [
           {
            "colorbar": {
             "outlinewidth": 0,
             "ticks": ""
            },
            "colorscale": [
             [
              0,
              "#0d0887"
             ],
             [
              0.1111111111111111,
              "#46039f"
             ],
             [
              0.2222222222222222,
              "#7201a8"
             ],
             [
              0.3333333333333333,
              "#9c179e"
             ],
             [
              0.4444444444444444,
              "#bd3786"
             ],
             [
              0.5555555555555556,
              "#d8576b"
             ],
             [
              0.6666666666666666,
              "#ed7953"
             ],
             [
              0.7777777777777778,
              "#fb9f3a"
             ],
             [
              0.8888888888888888,
              "#fdca26"
             ],
             [
              1,
              "#f0f921"
             ]
            ],
            "type": "heatmap"
           }
          ],
          "heatmapgl": [
           {
            "colorbar": {
             "outlinewidth": 0,
             "ticks": ""
            },
            "colorscale": [
             [
              0,
              "#0d0887"
             ],
             [
              0.1111111111111111,
              "#46039f"
             ],
             [
              0.2222222222222222,
              "#7201a8"
             ],
             [
              0.3333333333333333,
              "#9c179e"
             ],
             [
              0.4444444444444444,
              "#bd3786"
             ],
             [
              0.5555555555555556,
              "#d8576b"
             ],
             [
              0.6666666666666666,
              "#ed7953"
             ],
             [
              0.7777777777777778,
              "#fb9f3a"
             ],
             [
              0.8888888888888888,
              "#fdca26"
             ],
             [
              1,
              "#f0f921"
             ]
            ],
            "type": "heatmapgl"
           }
          ],
          "histogram": [
           {
            "marker": {
             "pattern": {
              "fillmode": "overlay",
              "size": 10,
              "solidity": 0.2
             }
            },
            "type": "histogram"
           }
          ],
          "histogram2d": [
           {
            "colorbar": {
             "outlinewidth": 0,
             "ticks": ""
            },
            "colorscale": [
             [
              0,
              "#0d0887"
             ],
             [
              0.1111111111111111,
              "#46039f"
             ],
             [
              0.2222222222222222,
              "#7201a8"
             ],
             [
              0.3333333333333333,
              "#9c179e"
             ],
             [
              0.4444444444444444,
              "#bd3786"
             ],
             [
              0.5555555555555556,
              "#d8576b"
             ],
             [
              0.6666666666666666,
              "#ed7953"
             ],
             [
              0.7777777777777778,
              "#fb9f3a"
             ],
             [
              0.8888888888888888,
              "#fdca26"
             ],
             [
              1,
              "#f0f921"
             ]
            ],
            "type": "histogram2d"
           }
          ],
          "histogram2dcontour": [
           {
            "colorbar": {
             "outlinewidth": 0,
             "ticks": ""
            },
            "colorscale": [
             [
              0,
              "#0d0887"
             ],
             [
              0.1111111111111111,
              "#46039f"
             ],
             [
              0.2222222222222222,
              "#7201a8"
             ],
             [
              0.3333333333333333,
              "#9c179e"
             ],
             [
              0.4444444444444444,
              "#bd3786"
             ],
             [
              0.5555555555555556,
              "#d8576b"
             ],
             [
              0.6666666666666666,
              "#ed7953"
             ],
             [
              0.7777777777777778,
              "#fb9f3a"
             ],
             [
              0.8888888888888888,
              "#fdca26"
             ],
             [
              1,
              "#f0f921"
             ]
            ],
            "type": "histogram2dcontour"
           }
          ],
          "mesh3d": [
           {
            "colorbar": {
             "outlinewidth": 0,
             "ticks": ""
            },
            "type": "mesh3d"
           }
          ],
          "parcoords": [
           {
            "line": {
             "colorbar": {
              "outlinewidth": 0,
              "ticks": ""
             }
            },
            "type": "parcoords"
           }
          ],
          "pie": [
           {
            "automargin": true,
            "type": "pie"
           }
          ],
          "scatter": [
           {
            "fillpattern": {
             "fillmode": "overlay",
             "size": 10,
             "solidity": 0.2
            },
            "type": "scatter"
           }
          ],
          "scatter3d": [
           {
            "line": {
             "colorbar": {
              "outlinewidth": 0,
              "ticks": ""
             }
            },
            "marker": {
             "colorbar": {
              "outlinewidth": 0,
              "ticks": ""
             }
            },
            "type": "scatter3d"
           }
          ],
          "scattercarpet": [
           {
            "marker": {
             "colorbar": {
              "outlinewidth": 0,
              "ticks": ""
             }
            },
            "type": "scattercarpet"
           }
          ],
          "scattergeo": [
           {
            "marker": {
             "colorbar": {
              "outlinewidth": 0,
              "ticks": ""
             }
            },
            "type": "scattergeo"
           }
          ],
          "scattergl": [
           {
            "marker": {
             "colorbar": {
              "outlinewidth": 0,
              "ticks": ""
             }
            },
            "type": "scattergl"
           }
          ],
          "scattermapbox": [
           {
            "marker": {
             "colorbar": {
              "outlinewidth": 0,
              "ticks": ""
             }
            },
            "type": "scattermapbox"
           }
          ],
          "scatterpolar": [
           {
            "marker": {
             "colorbar": {
              "outlinewidth": 0,
              "ticks": ""
             }
            },
            "type": "scatterpolar"
           }
          ],
          "scatterpolargl": [
           {
            "marker": {
             "colorbar": {
              "outlinewidth": 0,
              "ticks": ""
             }
            },
            "type": "scatterpolargl"
           }
          ],
          "scatterternary": [
           {
            "marker": {
             "colorbar": {
              "outlinewidth": 0,
              "ticks": ""
             }
            },
            "type": "scatterternary"
           }
          ],
          "surface": [
           {
            "colorbar": {
             "outlinewidth": 0,
             "ticks": ""
            },
            "colorscale": [
             [
              0,
              "#0d0887"
             ],
             [
              0.1111111111111111,
              "#46039f"
             ],
             [
              0.2222222222222222,
              "#7201a8"
             ],
             [
              0.3333333333333333,
              "#9c179e"
             ],
             [
              0.4444444444444444,
              "#bd3786"
             ],
             [
              0.5555555555555556,
              "#d8576b"
             ],
             [
              0.6666666666666666,
              "#ed7953"
             ],
             [
              0.7777777777777778,
              "#fb9f3a"
             ],
             [
              0.8888888888888888,
              "#fdca26"
             ],
             [
              1,
              "#f0f921"
             ]
            ],
            "type": "surface"
           }
          ],
          "table": [
           {
            "cells": {
             "fill": {
              "color": "#EBF0F8"
             },
             "line": {
              "color": "white"
             }
            },
            "header": {
             "fill": {
              "color": "#C8D4E3"
             },
             "line": {
              "color": "white"
             }
            },
            "type": "table"
           }
          ]
         },
         "layout": {
          "annotationdefaults": {
           "arrowcolor": "#2a3f5f",
           "arrowhead": 0,
           "arrowwidth": 1
          },
          "autotypenumbers": "strict",
          "coloraxis": {
           "colorbar": {
            "outlinewidth": 0,
            "ticks": ""
           }
          },
          "colorscale": {
           "diverging": [
            [
             0,
             "#8e0152"
            ],
            [
             0.1,
             "#c51b7d"
            ],
            [
             0.2,
             "#de77ae"
            ],
            [
             0.3,
             "#f1b6da"
            ],
            [
             0.4,
             "#fde0ef"
            ],
            [
             0.5,
             "#f7f7f7"
            ],
            [
             0.6,
             "#e6f5d0"
            ],
            [
             0.7,
             "#b8e186"
            ],
            [
             0.8,
             "#7fbc41"
            ],
            [
             0.9,
             "#4d9221"
            ],
            [
             1,
             "#276419"
            ]
           ],
           "sequential": [
            [
             0,
             "#0d0887"
            ],
            [
             0.1111111111111111,
             "#46039f"
            ],
            [
             0.2222222222222222,
             "#7201a8"
            ],
            [
             0.3333333333333333,
             "#9c179e"
            ],
            [
             0.4444444444444444,
             "#bd3786"
            ],
            [
             0.5555555555555556,
             "#d8576b"
            ],
            [
             0.6666666666666666,
             "#ed7953"
            ],
            [
             0.7777777777777778,
             "#fb9f3a"
            ],
            [
             0.8888888888888888,
             "#fdca26"
            ],
            [
             1,
             "#f0f921"
            ]
           ],
           "sequentialminus": [
            [
             0,
             "#0d0887"
            ],
            [
             0.1111111111111111,
             "#46039f"
            ],
            [
             0.2222222222222222,
             "#7201a8"
            ],
            [
             0.3333333333333333,
             "#9c179e"
            ],
            [
             0.4444444444444444,
             "#bd3786"
            ],
            [
             0.5555555555555556,
             "#d8576b"
            ],
            [
             0.6666666666666666,
             "#ed7953"
            ],
            [
             0.7777777777777778,
             "#fb9f3a"
            ],
            [
             0.8888888888888888,
             "#fdca26"
            ],
            [
             1,
             "#f0f921"
            ]
           ]
          },
          "colorway": [
           "#636efa",
           "#EF553B",
           "#00cc96",
           "#ab63fa",
           "#FFA15A",
           "#19d3f3",
           "#FF6692",
           "#B6E880",
           "#FF97FF",
           "#FECB52"
          ],
          "font": {
           "color": "#2a3f5f"
          },
          "geo": {
           "bgcolor": "white",
           "lakecolor": "white",
           "landcolor": "#E5ECF6",
           "showlakes": true,
           "showland": true,
           "subunitcolor": "white"
          },
          "hoverlabel": {
           "align": "left"
          },
          "hovermode": "closest",
          "mapbox": {
           "style": "light"
          },
          "paper_bgcolor": "white",
          "plot_bgcolor": "#E5ECF6",
          "polar": {
           "angularaxis": {
            "gridcolor": "white",
            "linecolor": "white",
            "ticks": ""
           },
           "bgcolor": "#E5ECF6",
           "radialaxis": {
            "gridcolor": "white",
            "linecolor": "white",
            "ticks": ""
           }
          },
          "scene": {
           "xaxis": {
            "backgroundcolor": "#E5ECF6",
            "gridcolor": "white",
            "gridwidth": 2,
            "linecolor": "white",
            "showbackground": true,
            "ticks": "",
            "zerolinecolor": "white"
           },
           "yaxis": {
            "backgroundcolor": "#E5ECF6",
            "gridcolor": "white",
            "gridwidth": 2,
            "linecolor": "white",
            "showbackground": true,
            "ticks": "",
            "zerolinecolor": "white"
           },
           "zaxis": {
            "backgroundcolor": "#E5ECF6",
            "gridcolor": "white",
            "gridwidth": 2,
            "linecolor": "white",
            "showbackground": true,
            "ticks": "",
            "zerolinecolor": "white"
           }
          },
          "shapedefaults": {
           "line": {
            "color": "#2a3f5f"
           }
          },
          "ternary": {
           "aaxis": {
            "gridcolor": "white",
            "linecolor": "white",
            "ticks": ""
           },
           "baxis": {
            "gridcolor": "white",
            "linecolor": "white",
            "ticks": ""
           },
           "bgcolor": "#E5ECF6",
           "caxis": {
            "gridcolor": "white",
            "linecolor": "white",
            "ticks": ""
           }
          },
          "title": {
           "x": 0.05
          },
          "xaxis": {
           "automargin": true,
           "gridcolor": "white",
           "linecolor": "white",
           "ticks": "",
           "title": {
            "standoff": 15
           },
           "zerolinecolor": "white",
           "zerolinewidth": 2
          },
          "yaxis": {
           "automargin": true,
           "gridcolor": "white",
           "linecolor": "white",
           "ticks": "",
           "title": {
            "standoff": 15
           },
           "zerolinecolor": "white",
           "zerolinewidth": 2
          }
         }
        },
        "title": {
         "text": "Percentage of Missing Values by Column"
        },
        "xaxis": {
         "anchor": "y",
         "autorange": true,
         "domain": [
          0,
          1
         ],
         "range": [
          -0.5,
          8.5
         ],
         "title": {
          "text": "Column"
         },
         "type": "category"
        },
        "yaxis": {
         "anchor": "x",
         "autorange": true,
         "domain": [
          0,
          1
         ],
         "range": [
          0,
          94.4421052631579
         ],
         "title": {
          "text": "Missing Percentage"
         },
         "type": "linear"
        }
       }
      },
      "image/png": "[encoded data removed]",
      "text/html": [
       "<div>                            <div id=\"df5da20b-0efe-410e-954b-578cf3be8ea1\" class=\"plotly-graph-div\" style=\"height:525px; width:100%;\"></div>            <script type=\"text/javascript\">                require([\"plotly\"], function(Plotly) {                    window.PLOTLYENV=window.PLOTLYENV || {};                                    if (document.getElementById(\"df5da20b-0efe-410e-954b-578cf3be8ea1\")) {                    Plotly.newPlot(                        \"df5da20b-0efe-410e-954b-578cf3be8ea1\",                        [{\"alignmentgroup\":\"True\",\"hovertemplate\":\"Column=%{x}\\u003cbr\\u003eMissing Percentage=%{marker.color}\\u003cextra\\u003e\\u003c\\u002fextra\\u003e\",\"legendgroup\":\"\",\"marker\":{\"color\":[89.72,25.02,8.44,0.0,0.0,0.0,0.0,0.0,0.0],\"coloraxis\":\"coloraxis\",\"pattern\":{\"shape\":\"\"}},\"name\":\"\",\"offsetgroup\":\"\",\"orientation\":\"v\",\"showlegend\":false,\"textposition\":\"auto\",\"x\":[\"Movie_revenue\",\"Movie_runtime\",\"Movie_release\",\"Wiki_ID\",\"Freebase_ID\",\"Movie_name\",\"Movie_languages\",\"Movie_countries\",\"Movie_genres\"],\"xaxis\":\"x\",\"y\":[89.72,25.02,8.44,0.0,0.0,0.0,0.0,0.0,0.0],\"yaxis\":\"y\",\"type\":\"bar\"}],                        {\"template\":{\"data\":{\"histogram2dcontour\":[{\"type\":\"histogram2dcontour\",\"colorbar\":{\"outlinewidth\":0,\"ticks\":\"\"},\"colorscale\":[[0.0,\"#0d0887\"],[0.1111111111111111,\"#46039f\"],[0.2222222222222222,\"#7201a8\"],[0.3333333333333333,\"#9c179e\"],[0.4444444444444444,\"#bd3786\"],[0.5555555555555556,\"#d8576b\"],[0.6666666666666666,\"#ed7953\"],[0.7777777777777778,\"#fb9f3a\"],[0.8888888888888888,\"#fdca26\"],[1.0,\"#f0f921\"]]}],\"choropleth\":[{\"type\":\"choropleth\",\"colorbar\":{\"outlinewidth\":0,\"ticks\":\"\"}}],\"histogram2d\":[{\"type\":\"histogram2d\",\"colorbar\":{\"outlinewidth\":0,\"ticks\":\"\"},\"colorscale\":[[0.0,\"#0d0887\"],[0.1111111111111111,\"#46039f\"],[0.2222222222222222,\"#7201a8\"],[0.3333333333333333,\"#9c179e\"],[0.4444444444444444,\"#bd3786\"],[0.5555555555555556,\"#d8576b\"],[0.6666666666666666,\"#ed7953\"],[0.7777777777777778,\"#fb9f3a\"],[0.8888888888888888,\"#fdca26\"],[1.0,\"#f0f921\"]]}],\"heatmap\":[{\"type\":\"heatmap\",\"colorbar\":{\"outlinewidth\":0,\"ticks\":\"\"},\"colorscale\":[[0.0,\"#0d0887\"],[0.1111111111111111,\"#46039f\"],[0.2222222222222222,\"#7201a8\"],[0.3333333333333333,\"#9c179e\"],[0.4444444444444444,\"#bd3786\"],[0.5555555555555556,\"#d8576b\"],[0.6666666666666666,\"#ed7953\"],[0.7777777777777778,\"#fb9f3a\"],[0.8888888888888888,\"#fdca26\"],[1.0,\"#f0f921\"]]}],\"heatmapgl\":[{\"type\":\"heatmapgl\",\"colorbar\":{\"outlinewidth\":0,\"ticks\":\"\"},\"colorscale\":[[0.0,\"#0d0887\"],[0.1111111111111111,\"#46039f\"],[0.2222222222222222,\"#7201a8\"],[0.3333333333333333,\"#9c179e\"],[0.4444444444444444,\"#bd3786\"],[0.5555555555555556,\"#d8576b\"],[0.6666666666666666,\"#ed7953\"],[0.7777777777777778,\"#fb9f3a\"],[0.8888888888888888,\"#fdca26\"],[1.0,\"#f0f921\"]]}],\"contourcarpet\":[{\"type\":\"contourcarpet\",\"colorbar\":{\"outlinewidth\":0,\"ticks\":\"\"}}],\"contour\":[{\"type\":\"contour\",\"colorbar\":{\"outlinewidth\":0,\"ticks\":\"\"},\"colorscale\":[[0.0,\"#0d0887\"],[0.1111111111111111,\"#46039f\"],[0.2222222222222222,\"#7201a8\"],[0.3333333333333333,\"#9c179e\"],[0.4444444444444444,\"#bd3786\"],[0.5555555555555556,\"#d8576b\"],[0.6666666666666666,\"#ed7953\"],[0.7777777777777778,\"#fb9f3a\"],[0.8888888888888888,\"#fdca26\"],[1.0,\"#f0f921\"]]}],\"surface\":[{\"type\":\"surface\",\"colorbar\":{\"outlinewidth\":0,\"ticks\":\"\"},\"colorscale\":[[0.0,\"#0d0887\"],[0.1111111111111111,\"#46039f\"],[0.2222222222222222,\"#7201a8\"],[0.3333333333333333,\"#9c179e\"],[0.4444444444444444,\"#bd3786\"],[0.5555555555555556,\"#d8576b\"],[0.6666666666666666,\"#ed7953\"],[0.7777777777777778,\"#fb9f3a\"],[0.8888888888888888,\"#fdca26\"],[1.0,\"#f0f921\"]]}],\"mesh3d\":[{\"type\":\"mesh3d\",\"colorbar\":{\"outlinewidth\":0,\"ticks\":\"\"}}],\"scatter\":[{\"fillpattern\":{\"fillmode\":\"overlay\",\"size\":10,\"solidity\":0.2},\"type\":\"scatter\"}],\"parcoords\":[{\"type\":\"parcoords\",\"line\":{\"colorbar\":{\"outlinewidth\":0,\"ticks\":\"\"}}}],\"scatterpolargl\":[{\"type\":\"scatterpolargl\",\"marker\":{\"colorbar\":{\"outlinewidth\":0,\"ticks\":\"\"}}}],\"bar\":[{\"error_x\":{\"color\":\"#2a3f5f\"},\"error_y\":{\"color\":\"#2a3f5f\"},\"marker\":{\"line\":{\"color\":\"#E5ECF6\",\"width\":0.5},\"pattern\":{\"fillmode\":\"overlay\",\"size\":10,\"solidity\":0.2}},\"type\":\"bar\"}],\"scattergeo\":[{\"type\":\"scattergeo\",\"marker\":{\"colorbar\":{\"outlinewidth\":0,\"ticks\":\"\"}}}],\"scatterpolar\":[{\"type\":\"scatterpolar\",\"marker\":{\"colorbar\":{\"outlinewidth\":0,\"ticks\":\"\"}}}],\"histogram\":[{\"marker\":{\"pattern\":{\"fillmode\":\"overlay\",\"size\":10,\"solidity\":0.2}},\"type\":\"histogram\"}],\"scattergl\":[{\"type\":\"scattergl\",\"marker\":{\"colorbar\":{\"outlinewidth\":0,\"ticks\":\"\"}}}],\"scatter3d\":[{\"type\":\"scatter3d\",\"line\":{\"colorbar\":{\"outlinewidth\":0,\"ticks\":\"\"}},\"marker\":{\"colorbar\":{\"outlinewidth\":0,\"ticks\":\"\"}}}],\"scattermapbox\":[{\"type\":\"scattermapbox\",\"marker\":{\"colorbar\":{\"outlinewidth\":0,\"ticks\":\"\"}}}],\"scatterternary\":[{\"type\":\"scatterternary\",\"marker\":{\"colorbar\":{\"outlinewidth\":0,\"ticks\":\"\"}}}],\"scattercarpet\":[{\"type\":\"scattercarpet\",\"marker\":{\"colorbar\":{\"outlinewidth\":0,\"ticks\":\"\"}}}],\"carpet\":[{\"aaxis\":{\"endlinecolor\":\"#2a3f5f\",\"gridcolor\":\"white\",\"linecolor\":\"white\",\"minorgridcolor\":\"white\",\"startlinecolor\":\"#2a3f5f\"},\"baxis\":{\"endlinecolor\":\"#2a3f5f\",\"gridcolor\":\"white\",\"linecolor\":\"white\",\"minorgridcolor\":\"white\",\"startlinecolor\":\"#2a3f5f\"},\"type\":\"carpet\"}],\"table\":[{\"cells\":{\"fill\":{\"color\":\"#EBF0F8\"},\"line\":{\"color\":\"white\"}},\"header\":{\"fill\":{\"color\":\"#C8D4E3\"},\"line\":{\"color\":\"white\"}},\"type\":\"table\"}],\"barpolar\":[{\"marker\":{\"line\":{\"color\":\"#E5ECF6\",\"width\":0.5},\"pattern\":{\"fillmode\":\"overlay\",\"size\":10,\"solidity\":0.2}},\"type\":\"barpolar\"}],\"pie\":[{\"automargin\":true,\"type\":\"pie\"}]},\"layout\":{\"autotypenumbers\":\"strict\",\"colorway\":[\"#636efa\",\"#EF553B\",\"#00cc96\",\"#ab63fa\",\"#FFA15A\",\"#19d3f3\",\"#FF6692\",\"#B6E880\",\"#FF97FF\",\"#FECB52\"],\"font\":{\"color\":\"#2a3f5f\"},\"hovermode\":\"closest\",\"hoverlabel\":{\"align\":\"left\"},\"paper_bgcolor\":\"white\",\"plot_bgcolor\":\"#E5ECF6\",\"polar\":{\"bgcolor\":\"#E5ECF6\",\"angularaxis\":{\"gridcolor\":\"white\",\"linecolor\":\"white\",\"ticks\":\"\"},\"radialaxis\":{\"gridcolor\":\"white\",\"linecolor\":\"white\",\"ticks\":\"\"}},\"ternary\":{\"bgcolor\":\"#E5ECF6\",\"aaxis\":{\"gridcolor\":\"white\",\"linecolor\":\"white\",\"ticks\":\"\"},\"baxis\":{\"gridcolor\":\"white\",\"linecolor\":\"white\",\"ticks\":\"\"},\"caxis\":{\"gridcolor\":\"white\",\"linecolor\":\"white\",\"ticks\":\"\"}},\"coloraxis\":{\"colorbar\":{\"outlinewidth\":0,\"ticks\":\"\"}},\"colorscale\":{\"sequential\":[[0.0,\"#0d0887\"],[0.1111111111111111,\"#46039f\"],[0.2222222222222222,\"#7201a8\"],[0.3333333333333333,\"#9c179e\"],[0.4444444444444444,\"#bd3786\"],[0.5555555555555556,\"#d8576b\"],[0.6666666666666666,\"#ed7953\"],[0.7777777777777778,\"#fb9f3a\"],[0.8888888888888888,\"#fdca26\"],[1.0,\"#f0f921\"]],\"sequentialminus\":[[0.0,\"#0d0887\"],[0.1111111111111111,\"#46039f\"],[0.2222222222222222,\"#7201a8\"],[0.3333333333333333,\"#9c179e\"],[0.4444444444444444,\"#bd3786\"],[0.5555555555555556,\"#d8576b\"],[0.6666666666666666,\"#ed7953\"],[0.7777777777777778,\"#fb9f3a\"],[0.8888888888888888,\"#fdca26\"],[1.0,\"#f0f921\"]],\"diverging\":[[0,\"#8e0152\"],[0.1,\"#c51b7d\"],[0.2,\"#de77ae\"],[0.3,\"#f1b6da\"],[0.4,\"#fde0ef\"],[0.5,\"#f7f7f7\"],[0.6,\"#e6f5d0\"],[0.7,\"#b8e186\"],[0.8,\"#7fbc41\"],[0.9,\"#4d9221\"],[1,\"#276419\"]]},\"xaxis\":{\"gridcolor\":\"white\",\"linecolor\":\"white\",\"ticks\":\"\",\"title\":{\"standoff\":15},\"zerolinecolor\":\"white\",\"automargin\":true,\"zerolinewidth\":2},\"yaxis\":{\"gridcolor\":\"white\",\"linecolor\":\"white\",\"ticks\":\"\",\"title\":{\"standoff\":15},\"zerolinecolor\":\"white\",\"automargin\":true,\"zerolinewidth\":2},\"scene\":{\"xaxis\":{\"backgroundcolor\":\"#E5ECF6\",\"gridcolor\":\"white\",\"linecolor\":\"white\",\"showbackground\":true,\"ticks\":\"\",\"zerolinecolor\":\"white\",\"gridwidth\":2},\"yaxis\":{\"backgroundcolor\":\"#E5ECF6\",\"gridcolor\":\"white\",\"linecolor\":\"white\",\"showbackground\":true,\"ticks\":\"\",\"zerolinecolor\":\"white\",\"gridwidth\":2},\"zaxis\":{\"backgroundcolor\":\"#E5ECF6\",\"gridcolor\":\"white\",\"linecolor\":\"white\",\"showbackground\":true,\"ticks\":\"\",\"zerolinecolor\":\"white\",\"gridwidth\":2}},\"shapedefaults\":{\"line\":{\"color\":\"#2a3f5f\"}},\"annotationdefaults\":{\"arrowcolor\":\"#2a3f5f\",\"arrowhead\":0,\"arrowwidth\":1},\"geo\":{\"bgcolor\":\"white\",\"landcolor\":\"#E5ECF6\",\"subunitcolor\":\"white\",\"showland\":true,\"showlakes\":true,\"lakecolor\":\"white\"},\"title\":{\"x\":0.05},\"mapbox\":{\"style\":\"light\"}}},\"xaxis\":{\"anchor\":\"y\",\"domain\":[0.0,1.0],\"title\":{\"text\":\"Column\"}},\"yaxis\":{\"anchor\":\"x\",\"domain\":[0.0,1.0],\"title\":{\"text\":\"Missing Percentage\"}},\"coloraxis\":{\"colorbar\":{\"title\":{\"text\":\"Missing Percentage\"}},\"colorscale\":[[0.0,\"rgb(0,104,55)\"],[0.1,\"rgb(26,152,80)\"],[0.2,\"rgb(102,189,99)\"],[0.3,\"rgb(166,217,106)\"],[0.4,\"rgb(217,239,139)\"],[0.5,\"rgb(255,255,191)\"],[0.6,\"rgb(254,224,139)\"],[0.7,\"rgb(253,174,97)\"],[0.8,\"rgb(244,109,67)\"],[0.9,\"rgb(215,48,39)\"],[1.0,\"rgb(165,0,38)\"]],\"cmin\":0,\"cmax\":100},\"legend\":{\"tracegroupgap\":0},\"title\":{\"text\":\"Percentage of Missing Values by Column\"},\"barmode\":\"relative\"},                        {\"responsive\": true}                    ).then(function(){\n",
       "                            \n",
       "var gd = document.getElementById('df5da20b-0efe-410e-954b-578cf3be8ea1');\n",
       "var x = new MutationObserver(function (mutations, observer) {{\n",
       "        var display = window.getComputedStyle(gd).display;\n",
       "        if (!display || display === 'none') {{\n",
       "            console.log([gd, 'removed!']);\n",
       "            Plotly.purge(gd);\n",
       "            observer.disconnect();\n",
       "        }}\n",
       "}});\n",
       "\n",
       "// Listen for the removal of the full notebook cells\n",
       "var notebookContainer = gd.closest('#notebook-container');\n",
       "if (notebookContainer) {{\n",
       "    x.observe(notebookContainer, {childList: true});\n",
       "}}\n",
       "\n",
       "// Listen for the clearing of the current output cell\n",
       "var outputEl = gd.closest('.output');\n",
       "if (outputEl) {{\n",
       "    x.observe(outputEl, {childList: true});\n",
       "}}\n",
       "\n",
       "                        })                };                });            </script>        </div>"
      ]
     },
     "metadata": {},
     "output_type": "display_data"
    }
   ],
   "source": [
    "# Calculate, sort, and round the missing percentages\n",
    "missing_percentage = (df_mov.isna().sum() / len(df_mov) * 100).sort_values(ascending=False).round(2)\n",
    "\n",
    "# Convert the Series to DataFrame for compatibility with plotly\n",
    "df_missing = missing_percentage.reset_index()\n",
    "df_missing.columns = ['Column', 'Missing Percentage']\n",
    "\n",
    "# Create the plot with a specified color range\n",
    "fig = px.bar(df_missing, x='Column', y='Missing Percentage', \n",
    "             color='Missing Percentage', \n",
    "             color_continuous_scale=\"RdYlGn_r\", \n",
    "             range_color=[0, 100],  # Specifying the color scale range\n",
    "             title='Percentage of Missing Values by Column')\n",
    "fig.update_layout(coloraxis_colorbar=dict(title=\"Missing Percentage\"))\n",
    "fig.show()"
   ]
  },
  {
   "cell_type": "markdown",
   "metadata": {},
   "source": [
    "We can see that on the other hand, the movie data is quite complete. Therefore any analysis will be considered relevant around this data."
   ]
  },
  {
   "cell_type": "code",
   "execution_count": 21,
   "metadata": {},
   "outputs": [],
   "source": [
    "columns_mov = ['Wiki_ID', 'Freebase_ID', 'Movie_name', 'Movie_release', 'Movie_revenue', 'Movie_runtime', \n",
    "               'Movie_languages', 'Movie_countries', 'Movie_genres','Main_genre', 'Secondary_Genre']"
   ]
  },
  {
   "cell_type": "code",
   "execution_count": 22,
   "metadata": {
    "tags": []
   },
   "outputs": [],
   "source": [
    "# Convert string representation of a dictionary to an actual dictionary\n",
    "df_mov['Genre_dict'] = df_mov['Movie_genres'].apply(lambda x: ast.literal_eval(x) if isinstance(x, str) else {})\n",
    "\n",
    "# Extract genres\n",
    "df_mov['Main_genre'] = df_mov['Genre_dict'].apply(lambda x: list(x.values())[0] if len(x) > 0 else None)\n",
    "df_mov['Sec_Genre'] = df_mov['Genre_dict'].apply(lambda x: list(x.values())[1] if len(x) > 1 else None)\n",
    "\n",
    "\n",
    "df_mov1 = df_mov.copy()\n",
    "\n",
    "# Drop the temporary Genre_dict column\n",
    "df_mov1.drop(columns=['Genre_dict'], inplace=True)\n",
    "\n",
    "df_mov1['Movie_release'] = pd.to_datetime(df_mov1['Movie_release'], errors='coerce')\n",
    "\n",
    "# Extract year, month, and day into new columns\n",
    "df_mov1['Year_of_release'] = df_mov1['Movie_release'].dt.year\n",
    "df_mov1['Month_of_release'] = df_mov1['Movie_release'].dt.month\n",
    "df_mov1['Day_of_release'] = df_mov1['Movie_release'].dt.day\n"
   ]
  },
  {
   "cell_type": "markdown",
   "metadata": {
    "tags": []
   },
   "source": [
    "Now that we separated the month and day from the movie release date, we can plot analysis using them :"
   ]
  },
  {
   "cell_type": "code",
   "execution_count": 23,
   "metadata": {
    "jupyter": {
     "source_hidden": true
    },
    "tags": []
   },
   "outputs": [
    {
     "data": {
      "application/vnd.plotly.v1+json": {
       "config": {
        "plotlyServerURL": "https://plot.ly"
       },
       "data": [
        {
         "marker": {
          "color": [
           "#f0f921",
           "#fdca26",
           "#fb9f3a",
           "#ed7953",
           "#d8576b",
           "#bd3786",
           "#9c179e",
           "#7201a8",
           "#46039f",
           "#0d0887"
          ]
         },
         "name": "Action & Drama",
         "opacity": 1,
         "type": "bar",
         "visible": true,
         "x": [
          "January",
          "February",
          "March",
          "April",
          "May",
          "June",
          "July",
          "August",
          "September",
          "October",
          "November",
          "December"
         ],
         "y": [
          34136660.94444445,
          29731987.737254903,
          28975687.204481788,
          31598915.647058822,
          24249186.73529412,
          42236664.106617644,
          30326237.663101602,
          33409220.951871656,
          33712700.682352945,
          31598915.64705882,
          29894468.770053472,
          31598915.647058822
         ]
        },
        {
         "marker": {
          "color": [
           "#f0f921",
           "#fdca26",
           "#fb9f3a",
           "#ed7953",
           "#d8576b",
           "#bd3786",
           "#9c179e",
           "#7201a8",
           "#46039f",
           "#0d0887"
          ]
         },
         "name": "Action/Adventure & Thriller",
         "opacity": 1,
         "type": "bar",
         "x": [
          "January",
          "February",
          "March",
          "April",
          "May",
          "June",
          "July",
          "August",
          "September",
          "October",
          "November",
          "December"
         ],
         "y": [
          70546550.0909091,
          87665406.20779221,
          106322154.18181817,
          133394294.2909091,
          209682028.34848484,
          129504270.43434344,
          58660044.43181818,
          103192741.81818181,
          84478652.1010101,
          95927284.84848483,
          167819556.36363637,
          84207161.2121212
         ]
        },
        {
         "marker": {
          "color": [
           "#f0f921",
           "#fdca26",
           "#fb9f3a",
           "#ed7953",
           "#d8576b",
           "#bd3786",
           "#9c179e",
           "#7201a8",
           "#46039f",
           "#0d0887"
          ]
         },
         "name": "Action/Adventure & Action",
         "opacity": 1,
         "type": "bar",
         "x": [
          "January",
          "February",
          "March",
          "April",
          "May",
          "June",
          "July",
          "August",
          "September",
          "October",
          "November",
          "December"
         ],
         "y": [
          21994071.529411763,
          28605799.665158372,
          24580993.20588235,
          16533243.819607843,
          45746490.73856209,
          20437156.352941174,
          28653716.397058822,
          21480556.55462185,
          20079690.676470585,
          18970267.522058822,
          21994071.529411763,
          19780442.797385618
         ]
        },
        {
         "marker": {
          "color": [
           "#f0f921",
           "#fdca26",
           "#fb9f3a",
           "#ed7953",
           "#d8576b",
           "#bd3786",
           "#9c179e",
           "#7201a8",
           "#46039f",
           "#0d0887"
          ]
         },
         "name": "Adventure & Children's/Family",
         "opacity": 1,
         "type": "bar",
         "x": [
          "January",
          "February",
          "March",
          "April",
          "May",
          "June",
          "July",
          "August",
          "September",
          "October",
          "November",
          "December"
         ],
         "y": [
          62053461.6,
          89493092.30902779,
          152490628.546875,
          104381644.6698718,
          332830355.7317708,
          296782533.17083335,
          192395137.98317307,
          78293519.10677084,
          69116143.26488096,
          226619385.9854167,
          154481840.23632812,
          133862384.73039214
         ]
        },
        {
         "marker": {
          "color": [
           "#f0f921",
           "#fdca26",
           "#fb9f3a",
           "#ed7953",
           "#d8576b",
           "#bd3786",
           "#9c179e",
           "#7201a8",
           "#46039f",
           "#0d0887"
          ]
         },
         "name": "Crime Fiction & Thriller",
         "opacity": 1,
         "type": "bar",
         "x": [
          "January",
          "February",
          "March",
          "April",
          "May",
          "June",
          "July",
          "August",
          "September",
          "October",
          "November",
          "December"
         ],
         "y": [
          37193968.113172546,
          52934326.34161491,
          63675341.403538495,
          49895507.76881452,
          59234214.43044733,
          86802439.61831251,
          126118203.46518244,
          67800281.2960373,
          48883907.174013786,
          59162099.95052567,
          78262485.91529192,
          74357208.04858105
         ]
        },
        {
         "marker": {
          "color": [
           "#f0f921",
           "#fdca26",
           "#fb9f3a",
           "#ed7953",
           "#d8576b",
           "#bd3786",
           "#9c179e",
           "#7201a8",
           "#46039f",
           "#0d0887"
          ]
         },
         "name": "Crime Fiction & Comedy film",
         "opacity": 1,
         "type": "bar",
         "x": [
          "January",
          "February",
          "March",
          "April",
          "May",
          "June",
          "July",
          "August",
          "September",
          "October",
          "November",
          "December"
         ],
         "y": [
          49493954.6,
          49493954.6,
          74842516.83333333,
          44615882.54000001,
          49493954.6,
          44456165.025,
          49493954.6,
          49493954.6,
          49493954.6,
          46628936.5625,
          49493954.6,
          49493954.6
         ]
        },
        {
         "marker": {
          "color": [
           "#f0f921",
           "#fdca26",
           "#fb9f3a",
           "#ed7953",
           "#d8576b",
           "#bd3786",
           "#9c179e",
           "#7201a8",
           "#46039f",
           "#0d0887"
          ]
         },
         "name": "Crime Fiction & Romance Film",
         "opacity": 1,
         "type": "bar",
         "x": [
          "January",
          "February",
          "March",
          "April",
          "May",
          "June",
          "July",
          "August",
          "September",
          "October",
          "November",
          "December"
         ],
         "y": [
          45936219.333333336,
          43093942.6,
          45936219.333333336,
          42332239.740740746,
          45936219.333333336,
          40745330.85714286,
          76500938.1,
          41373582.740740746,
          45936219.333333336,
          45936219.333333336,
          41743739.79166667,
          34591644.75
         ]
        },
        {
         "marker": {
          "color": [
           "#f0f921",
           "#fdca26",
           "#fb9f3a",
           "#ed7953",
           "#d8576b",
           "#bd3786",
           "#9c179e",
           "#7201a8",
           "#46039f",
           "#0d0887"
          ]
         },
         "name": "Crime Fiction & Action",
         "opacity": 1,
         "type": "bar",
         "x": [
          "January",
          "February",
          "March",
          "April",
          "May",
          "June",
          "July",
          "August",
          "September",
          "October",
          "November",
          "December"
         ],
         "y": [
          35114037.26953125,
          36715290.6875,
          36715290.6875,
          37176015.329166666,
          36715290.6875,
          32788785.900735293,
          60273585.65,
          34795461.3881579,
          35115176.14930555,
          34105169.852678575,
          45300240.15,
          33832082.44318182
         ]
        },
        {
         "marker": {
          "color": [
           "#f0f921",
           "#fdca26",
           "#fb9f3a",
           "#ed7953",
           "#d8576b",
           "#bd3786",
           "#9c179e",
           "#7201a8",
           "#46039f",
           "#0d0887"
          ]
         },
         "name": "Crime Fiction & Mystery",
         "opacity": 1,
         "type": "bar",
         "x": [
          "January",
          "February",
          "March",
          "April",
          "May",
          "June",
          "July",
          "August",
          "September",
          "October",
          "November",
          "December"
         ],
         "y": [
          34223863.564705886,
          36355908.6,
          30641828.611111112,
          36355908.6,
          34276149.270588234,
          41945068.32631579,
          33859057.98571429,
          40012131.47142857,
          31861221.76,
          33720923.36363637,
          34116999.38333333,
          58665462.425000004
         ]
        },
        {
         "marker": {
          "color": [
           "#f0f921",
           "#fdca26",
           "#fb9f3a",
           "#ed7953",
           "#d8576b",
           "#bd3786",
           "#9c179e",
           "#7201a8",
           "#46039f",
           "#0d0887"
          ]
         },
         "name": "Family Film & Comedy",
         "opacity": 1,
         "type": "bar",
         "x": [
          "January",
          "February",
          "March",
          "April",
          "May",
          "June",
          "July",
          "August",
          "September",
          "October",
          "November",
          "December"
         ],
         "y": [
          44829634.14285714,
          38431657.12244898,
          66531261.057142854,
          44829634.14285714,
          33652338.21428572,
          65404663.761904754,
          24542974.82142857,
          36413130.190476194,
          44829634.14285714,
          38162029.91428571,
          47611521.72527473,
          44829634.14285714
         ]
        },
        {
         "marker": {
          "color": [
           "#f0f921",
           "#fdca26",
           "#fb9f3a",
           "#ed7953",
           "#d8576b",
           "#bd3786",
           "#9c179e",
           "#7201a8",
           "#46039f",
           "#0d0887"
          ]
         },
         "name": "Family Film & Drama",
         "opacity": 1,
         "type": "bar",
         "x": [
          "January",
          "February",
          "March",
          "April",
          "May",
          "June",
          "July",
          "August",
          "September",
          "October",
          "November",
          "December"
         ],
         "y": [
          60304537.63636363,
          43560826.61111111,
          41336187.666666664,
          41710938.35294118,
          42210117.071428575,
          63453114.06666667,
          41462637,
          44894626.05263158,
          48968440.583333336,
          42520965.38888889,
          42549290.5,
          44684415.777777776
         ]
        },
        {
         "marker": {
          "color": [
           "#f0f921",
           "#fdca26",
           "#fb9f3a",
           "#ed7953",
           "#d8576b",
           "#bd3786",
           "#9c179e",
           "#7201a8",
           "#46039f",
           "#0d0887"
          ]
         },
         "name": "Horror & Slasher",
         "opacity": 1,
         "type": "bar",
         "x": [
          "January",
          "February",
          "March",
          "April",
          "May",
          "June",
          "July",
          "August",
          "September",
          "October",
          "November",
          "December"
         ],
         "y": [
          19430351.363636363,
          38872596.40909091,
          25758407.727272727,
          21768080.295454547,
          25758407.72727273,
          25758407.727272727,
          25758407.727272727,
          27639129.129870128,
          30935650.836363636,
          30017555.354545455,
          30660701.329545453,
          18157577.484848484
         ]
        },
        {
         "marker": {
          "color": [
           "#f0f921",
           "#fdca26",
           "#fb9f3a",
           "#ed7953",
           "#d8576b",
           "#bd3786",
           "#9c179e",
           "#7201a8",
           "#46039f",
           "#0d0887"
          ]
         },
         "name": "Romance Film & Comedy",
         "opacity": 1,
         "type": "bar",
         "x": [
          "January",
          "February",
          "March",
          "April",
          "May",
          "June",
          "July",
          "August",
          "September",
          "October",
          "November",
          "December"
         ],
         "y": [
          31301145.942857143,
          35950824.05864662,
          36648382.489523806,
          90816387.48571429,
          41550352.25714286,
          39201597.775824174,
          43354824.961038955,
          35818159.07755102,
          37106558.225,
          42633807.297619045,
          25821300.33714286,
          47793967.32653061
         ]
        },
        {
         "marker": {
          "color": [
           "#f0f921",
           "#fdca26",
           "#fb9f3a",
           "#ed7953",
           "#d8576b",
           "#bd3786",
           "#9c179e",
           "#7201a8",
           "#46039f",
           "#0d0887"
          ]
         },
         "name": "Romance Film & Comedy film",
         "opacity": 1,
         "type": "bar",
         "x": [
          "January",
          "February",
          "March",
          "April",
          "May",
          "June",
          "July",
          "August",
          "September",
          "October",
          "November",
          "December"
         ],
         "y": [
          25175220.42857143,
          25175220.42857143,
          35736685.653061226,
          25504962.350649353,
          21025183.69047619,
          25175220.42857143,
          22112067.875,
          25175220.42857143,
          22715065.93877551,
          25175220.42857143,
          25175220.42857143,
          24264312.476190478
         ]
        },
        {
         "marker": {
          "color": [
           "#f0f921",
           "#fdca26",
           "#fb9f3a",
           "#ed7953",
           "#d8576b",
           "#bd3786",
           "#9c179e",
           "#7201a8",
           "#46039f",
           "#0d0887"
          ]
         },
         "name": "Romantic comedy & Romance Film",
         "opacity": 1,
         "type": "bar",
         "x": [
          "January",
          "February",
          "March",
          "April",
          "May",
          "June",
          "July",
          "August",
          "September",
          "October",
          "November",
          "December"
         ],
         "y": [
          51981585.70013864,
          67093605.419571534,
          62248055.53390523,
          46182955.79302832,
          55831764.61137788,
          69760652.9051006,
          55487923.92156863,
          38893710.81297134,
          42171318.03349673,
          53123831.63498153,
          53844185.43128422,
          62425598.795855924
         ]
        },
        {
         "marker": {
          "color": [
           "#f0f921",
           "#fdca26",
           "#fb9f3a",
           "#ed7953",
           "#d8576b",
           "#bd3786",
           "#9c179e",
           "#7201a8",
           "#46039f",
           "#0d0887"
          ]
         },
         "name": "Romantic comedy & World cinema",
         "opacity": 1,
         "type": "bar",
         "x": [
          "January",
          "February",
          "March",
          "April",
          "May",
          "June",
          "July",
          "August",
          "September",
          "October",
          "November",
          "December"
         ],
         "y": [
          23811380.263157893,
          23811380.263157893,
          23811380.263157893,
          34533564.10150376,
          21864777.907894734,
          23811380.263157893,
          23811380.263157893,
          22457005.165991902,
          23811380.263157893,
          23811380.263157893,
          21321617.357894737,
          27617593.563909773
         ]
        },
        {
         "marker": {
          "color": [
           "#f0f921",
           "#fdca26",
           "#fb9f3a",
           "#ed7953",
           "#d8576b",
           "#bd3786",
           "#9c179e",
           "#7201a8",
           "#46039f",
           "#0d0887"
          ]
         },
         "name": "Romantic drama & Romance Film",
         "opacity": 1,
         "type": "bar",
         "x": [
          "January",
          "February",
          "March",
          "April",
          "May",
          "June",
          "July",
          "August",
          "September",
          "October",
          "November",
          "December"
         ],
         "y": [
          21769337.678837556,
          20445124.16393443,
          19534677.01222318,
          22020294.170554858,
          23839704.938111577,
          22774246.42360656,
          22894686.342076503,
          27883980.31048187,
          19038947.975244246,
          19815591.48009368,
          18797566.074195508,
          28554359.370159186
         ]
        },
        {
         "marker": {
          "color": [
           "#f0f921",
           "#fdca26",
           "#fb9f3a",
           "#ed7953",
           "#d8576b",
           "#bd3786",
           "#9c179e",
           "#7201a8",
           "#46039f",
           "#0d0887"
          ]
         },
         "name": "Science Fiction & Action",
         "opacity": 1,
         "type": "bar",
         "x": [
          "January",
          "February",
          "March",
          "April",
          "May",
          "June",
          "July",
          "August",
          "September",
          "October",
          "November",
          "December"
         ],
         "y": [
          166929590.9722222,
          133375656.375,
          156062520.03703701,
          342462247.8333333,
          300374087.3076923,
          132833980.39393939,
          146947717.03333333,
          157377429.79629627,
          168637533.13888887,
          175062273.16666666,
          101303954.38888888,
          143309375.79166666
         ]
        },
        {
         "marker": {
          "color": [
           "#f0f921",
           "#fdca26",
           "#fb9f3a",
           "#ed7953",
           "#d8576b",
           "#bd3786",
           "#9c179e",
           "#7201a8",
           "#46039f",
           "#0d0887"
          ]
         },
         "name": "Science Fiction & Adventure",
         "opacity": 1,
         "type": "bar",
         "x": [
          "January",
          "February",
          "March",
          "April",
          "May",
          "June",
          "July",
          "August",
          "September",
          "October",
          "November",
          "December"
         ],
         "y": [
          161893612.8627451,
          161893612.8627451,
          142787701.5359477,
          129531390.71764708,
          375967188.40463454,
          172830548.68137255,
          143826058.30124778,
          93916770.84509805,
          161893612.8627451,
          141571130.7787115,
          133226598.66488414,
          144948480.81764707
         ]
        },
        {
         "marker": {
          "color": [
           "#f0f921",
           "#fdca26",
           "#fb9f3a",
           "#ed7953",
           "#d8576b",
           "#bd3786",
           "#9c179e",
           "#7201a8",
           "#46039f",
           "#0d0887"
          ]
         },
         "name": "Sports & Drama",
         "opacity": 1,
         "type": "bar",
         "x": [
          "January",
          "February",
          "March",
          "April",
          "May",
          "June",
          "July",
          "August",
          "September",
          "October",
          "November",
          "December"
         ],
         "y": [
          31298051.44736842,
          26477820.75657895,
          29168067.759398494,
          18277310.147368424,
          23481899.809210528,
          58633995.41447368,
          35356719.38596491,
          25026126.934210528,
          20058151.074561406,
          25655054.04511278,
          18176371.719298247,
          23148189.300751884
         ]
        },
        {
         "marker": {
          "color": [
           "#f0f921",
           "#fdca26",
           "#fb9f3a",
           "#ed7953",
           "#d8576b",
           "#bd3786",
           "#9c179e",
           "#7201a8",
           "#46039f",
           "#0d0887"
          ]
         },
         "name": "Thriller & Science Fiction",
         "opacity": 1,
         "type": "bar",
         "x": [
          "January",
          "February",
          "March",
          "April",
          "May",
          "June",
          "July",
          "August",
          "September",
          "October",
          "November",
          "December"
         ],
         "y": [
          93425172.34888634,
          126540689.9494135,
          122043243.2557899,
          157110335.4325269,
          212361381.18951613,
          288787064.3236559,
          197016969.05560675,
          116137136.6455972,
          100548312.17031491,
          110603433.81877239,
          178680651.27534562,
          212482495.67274424
         ]
        },
        {
         "marker": {
          "color": [
           "#f0f921",
           "#fdca26",
           "#fb9f3a",
           "#ed7953",
           "#d8576b",
           "#bd3786",
           "#9c179e",
           "#7201a8",
           "#46039f",
           "#0d0887"
          ]
         },
         "name": "Thriller & Action Thrillers",
         "opacity": 1,
         "type": "bar",
         "x": [
          "January",
          "February",
          "March",
          "April",
          "May",
          "June",
          "July",
          "August",
          "September",
          "October",
          "November",
          "December"
         ],
         "y": [
          132763850.09274194,
          85254107.9390681,
          103568191.94009216,
          253898337.27419353,
          174823429.44516128,
          113396790.10887095,
          155977582.74910393,
          143557056.35125446,
          100779844.2672811,
          104987018.69354838,
          145325423.44516128,
          182645017.26099706
         ]
        },
        {
         "marker": {
          "color": [
           "#f0f921",
           "#fdca26",
           "#fb9f3a",
           "#ed7953",
           "#d8576b",
           "#bd3786",
           "#9c179e",
           "#7201a8",
           "#46039f",
           "#0d0887"
          ]
         },
         "name": "Thriller & Action/Adventure",
         "opacity": 1,
         "type": "bar",
         "x": [
          "January",
          "February",
          "March",
          "April",
          "May",
          "June",
          "July",
          "August",
          "September",
          "October",
          "November",
          "December"
         ],
         "y": [
          46778495.90180032,
          81115865.59929077,
          49354133.515957445,
          56869646.38857783,
          97702356.4212766,
          164359433.08510637,
          73975395.11914894,
          53453142.948685855,
          63617561.785815604,
          73502691.19148935,
          57544389.770516716,
          76439569.06595746
         ]
        },
        {
         "marker": {
          "color": [
           "#f0f921",
           "#fdca26",
           "#fb9f3a",
           "#ed7953",
           "#d8576b",
           "#bd3786",
           "#9c179e",
           "#7201a8",
           "#46039f",
           "#0d0887"
          ]
         },
         "name": "Thriller & Crime Fiction",
         "opacity": 1,
         "type": "bar",
         "x": [
          "January",
          "February",
          "March",
          "April",
          "May",
          "June",
          "July",
          "August",
          "September",
          "October",
          "November",
          "December"
         ],
         "y": [
          58374204.15368172,
          59292944.493724175,
          53231643.44709536,
          62322999.46059783,
          61146957.218725674,
          85752279.40683563,
          86121385.64464079,
          55692775.94757034,
          62727940.529022045,
          57496966.98341907,
          76135291.10513337,
          68578133.88678297
         ]
        },
        {
         "marker": {
          "color": [
           "#f0f921",
           "#fdca26",
           "#fb9f3a",
           "#ed7953",
           "#d8576b",
           "#bd3786",
           "#9c179e",
           "#7201a8",
           "#46039f",
           "#0d0887"
          ]
         },
         "name": "Thriller & Horror",
         "opacity": 1,
         "type": "bar",
         "x": [
          "January",
          "February",
          "March",
          "April",
          "May",
          "June",
          "July",
          "August",
          "September",
          "October",
          "November",
          "December"
         ],
         "y": [
          53180343.53379953,
          73414613.54195803,
          54349341.14325069,
          46319453.753246754,
          46979790.18983957,
          58420160.05944056,
          74954358.00395258,
          73792332.46563193,
          55064242.92583732,
          54910753.78030303,
          77591389.41750842,
          49388868.36868687
         ]
        },
        {
         "marker": {
          "color": [
           "#f0f921",
           "#fdca26",
           "#fb9f3a",
           "#ed7953",
           "#d8576b",
           "#bd3786",
           "#9c179e",
           "#7201a8",
           "#46039f",
           "#0d0887"
          ]
         },
         "name": "Thriller & Mystery",
         "opacity": 1,
         "type": "bar",
         "x": [
          "January",
          "February",
          "March",
          "April",
          "May",
          "June",
          "July",
          "August",
          "September",
          "October",
          "November",
          "December"
         ],
         "y": [
          49156288.14542652,
          52819409.28776979,
          50408925.58735869,
          57450468.95930756,
          81643946.753551,
          63089148.939893246,
          57816050.52328663,
          44647454.16546763,
          51646273.58179543,
          48947481.21230075,
          47539132.01547852,
          57076714.23280576
         ]
        },
        {
         "marker": {
          "color": [
           "#f0f921",
           "#fdca26",
           "#fb9f3a",
           "#ed7953",
           "#d8576b",
           "#bd3786",
           "#9c179e",
           "#7201a8",
           "#46039f",
           "#0d0887"
          ]
         },
         "name": "Thriller & Crime Thriller",
         "opacity": 1,
         "type": "bar",
         "x": [
          "January",
          "February",
          "March",
          "April",
          "May",
          "June",
          "July",
          "August",
          "September",
          "October",
          "November",
          "December"
         ],
         "y": [
          27238794.634920634,
          32455960.553061225,
          30921446.28756957,
          27493912.680272106,
          28874888.671428572,
          40810360.72562358,
          29906859.816326525,
          34783030.91836735,
          32276320.89504373,
          30895866.680612244,
          26592978.083090376,
          25162573.634920634
         ]
        },
        {
         "marker": {
          "color": [
           "#f0f921",
           "#fdca26",
           "#fb9f3a",
           "#ed7953",
           "#d8576b",
           "#bd3786",
           "#9c179e",
           "#7201a8",
           "#46039f",
           "#0d0887"
          ]
         },
         "name": "Thriller & Drama",
         "opacity": 1,
         "type": "bar",
         "x": [
          "January",
          "February",
          "March",
          "April",
          "May",
          "June",
          "July",
          "August",
          "September",
          "October",
          "November",
          "December"
         ],
         "y": [
          27043643.95883941,
          32629601.365874365,
          28753699.195652176,
          28077522.715102974,
          24380004.270833332,
          29041109.157894734,
          46027307.47807018,
          29722417.657894734,
          26564275.885338347,
          24700871.49359886,
          30966890.395585738,
          43926500.6305668
         ]
        },
        {
         "marker": {
          "color": [
           "#f0f921",
           "#fdca26",
           "#fb9f3a",
           "#ed7953",
           "#d8576b",
           "#bd3786",
           "#9c179e",
           "#7201a8",
           "#46039f",
           "#0d0887"
          ]
         },
         "name": "Thriller & Action",
         "opacity": 1,
         "type": "bar",
         "x": [
          "January",
          "February",
          "March",
          "April",
          "May",
          "June",
          "July",
          "August",
          "September",
          "October",
          "November",
          "December"
         ],
         "y": [
          19983033.235795453,
          25960051.268939395,
          24227635.136363637,
          24227635.136363637,
          23985675.895104893,
          24227635.136363637,
          35027676.36931818,
          29839885.509090908,
          18399089.162878785,
          24227635.136363637,
          23922621.576923076,
          29479460.20909091
         ]
        },
        {
         "marker": {
          "color": [
           "#f0f921",
           "#fdca26",
           "#fb9f3a",
           "#ed7953",
           "#d8576b",
           "#bd3786",
           "#9c179e",
           "#7201a8",
           "#46039f",
           "#0d0887"
          ]
         },
         "name": "Thriller & World cinema",
         "opacity": 1,
         "type": "bar",
         "x": [
          "January",
          "February",
          "March",
          "April",
          "May",
          "June",
          "July",
          "August",
          "September",
          "October",
          "November",
          "December"
         ],
         "y": [
          21157008.07142857,
          19402499.4375,
          16432041.214285715,
          21157008.07142857,
          20209537.726190474,
          18806607.0625,
          21157008.07142857,
          21157008.07142857,
          27538340.964285713,
          18509543.91836735,
          25481632.5974026,
          14987591.035714285
         ]
        }
       ],
       "layout": {
        "autosize": true,
        "template": {
         "data": {
          "bar": [
           {
            "error_x": {
             "color": "#2a3f5f"
            },
            "error_y": {
             "color": "#2a3f5f"
            },
            "marker": {
             "line": {
              "color": "#E5ECF6",
              "width": 0.5
             },
             "pattern": {
              "fillmode": "overlay",
              "size": 10,
              "solidity": 0.2
             }
            },
            "type": "bar"
           }
          ],
          "barpolar": [
           {
            "marker": {
             "line": {
              "color": "#E5ECF6",
              "width": 0.5
             },
             "pattern": {
              "fillmode": "overlay",
              "size": 10,
              "solidity": 0.2
             }
            },
            "type": "barpolar"
           }
          ],
          "carpet": [
           {
            "aaxis": {
             "endlinecolor": "#2a3f5f",
             "gridcolor": "white",
             "linecolor": "white",
             "minorgridcolor": "white",
             "startlinecolor": "#2a3f5f"
            },
            "baxis": {
             "endlinecolor": "#2a3f5f",
             "gridcolor": "white",
             "linecolor": "white",
             "minorgridcolor": "white",
             "startlinecolor": "#2a3f5f"
            },
            "type": "carpet"
           }
          ],
          "choropleth": [
           {
            "colorbar": {
             "outlinewidth": 0,
             "ticks": ""
            },
            "type": "choropleth"
           }
          ],
          "contour": [
           {
            "colorbar": {
             "outlinewidth": 0,
             "ticks": ""
            },
            "colorscale": [
             [
              0,
              "#0d0887"
             ],
             [
              0.1111111111111111,
              "#46039f"
             ],
             [
              0.2222222222222222,
              "#7201a8"
             ],
             [
              0.3333333333333333,
              "#9c179e"
             ],
             [
              0.4444444444444444,
              "#bd3786"
             ],
             [
              0.5555555555555556,
              "#d8576b"
             ],
             [
              0.6666666666666666,
              "#ed7953"
             ],
             [
              0.7777777777777778,
              "#fb9f3a"
             ],
             [
              0.8888888888888888,
              "#fdca26"
             ],
             [
              1,
              "#f0f921"
             ]
            ],
            "type": "contour"
           }
          ],
          "contourcarpet": [
           {
            "colorbar": {
             "outlinewidth": 0,
             "ticks": ""
            },
            "type": "contourcarpet"
           }
          ],
          "heatmap": [
           {
            "colorbar": {
             "outlinewidth": 0,
             "ticks": ""
            },
            "colorscale": [
             [
              0,
              "#0d0887"
             ],
             [
              0.1111111111111111,
              "#46039f"
             ],
             [
              0.2222222222222222,
              "#7201a8"
             ],
             [
              0.3333333333333333,
              "#9c179e"
             ],
             [
              0.4444444444444444,
              "#bd3786"
             ],
             [
              0.5555555555555556,
              "#d8576b"
             ],
             [
              0.6666666666666666,
              "#ed7953"
             ],
             [
              0.7777777777777778,
              "#fb9f3a"
             ],
             [
              0.8888888888888888,
              "#fdca26"
             ],
             [
              1,
              "#f0f921"
             ]
            ],
            "type": "heatmap"
           }
          ],
          "heatmapgl": [
           {
            "colorbar": {
             "outlinewidth": 0,
             "ticks": ""
            },
            "colorscale": [
             [
              0,
              "#0d0887"
             ],
             [
              0.1111111111111111,
              "#46039f"
             ],
             [
              0.2222222222222222,
              "#7201a8"
             ],
             [
              0.3333333333333333,
              "#9c179e"
             ],
             [
              0.4444444444444444,
              "#bd3786"
             ],
             [
              0.5555555555555556,
              "#d8576b"
             ],
             [
              0.6666666666666666,
              "#ed7953"
             ],
             [
              0.7777777777777778,
              "#fb9f3a"
             ],
             [
              0.8888888888888888,
              "#fdca26"
             ],
             [
              1,
              "#f0f921"
             ]
            ],
            "type": "heatmapgl"
           }
          ],
          "histogram": [
           {
            "marker": {
             "pattern": {
              "fillmode": "overlay",
              "size": 10,
              "solidity": 0.2
             }
            },
            "type": "histogram"
           }
          ],
          "histogram2d": [
           {
            "colorbar": {
             "outlinewidth": 0,
             "ticks": ""
            },
            "colorscale": [
             [
              0,
              "#0d0887"
             ],
             [
              0.1111111111111111,
              "#46039f"
             ],
             [
              0.2222222222222222,
              "#7201a8"
             ],
             [
              0.3333333333333333,
              "#9c179e"
             ],
             [
              0.4444444444444444,
              "#bd3786"
             ],
             [
              0.5555555555555556,
              "#d8576b"
             ],
             [
              0.6666666666666666,
              "#ed7953"
             ],
             [
              0.7777777777777778,
              "#fb9f3a"
             ],
             [
              0.8888888888888888,
              "#fdca26"
             ],
             [
              1,
              "#f0f921"
             ]
            ],
            "type": "histogram2d"
           }
          ],
          "histogram2dcontour": [
           {
            "colorbar": {
             "outlinewidth": 0,
             "ticks": ""
            },
            "colorscale": [
             [
              0,
              "#0d0887"
             ],
             [
              0.1111111111111111,
              "#46039f"
             ],
             [
              0.2222222222222222,
              "#7201a8"
             ],
             [
              0.3333333333333333,
              "#9c179e"
             ],
             [
              0.4444444444444444,
              "#bd3786"
             ],
             [
              0.5555555555555556,
              "#d8576b"
             ],
             [
              0.6666666666666666,
              "#ed7953"
             ],
             [
              0.7777777777777778,
              "#fb9f3a"
             ],
             [
              0.8888888888888888,
              "#fdca26"
             ],
             [
              1,
              "#f0f921"
             ]
            ],
            "type": "histogram2dcontour"
           }
          ],
          "mesh3d": [
           {
            "colorbar": {
             "outlinewidth": 0,
             "ticks": ""
            },
            "type": "mesh3d"
           }
          ],
          "parcoords": [
           {
            "line": {
             "colorbar": {
              "outlinewidth": 0,
              "ticks": ""
             }
            },
            "type": "parcoords"
           }
          ],
          "pie": [
           {
            "automargin": true,
            "type": "pie"
           }
          ],
          "scatter": [
           {
            "fillpattern": {
             "fillmode": "overlay",
             "size": 10,
             "solidity": 0.2
            },
            "type": "scatter"
           }
          ],
          "scatter3d": [
           {
            "line": {
             "colorbar": {
              "outlinewidth": 0,
              "ticks": ""
             }
            },
            "marker": {
             "colorbar": {
              "outlinewidth": 0,
              "ticks": ""
             }
            },
            "type": "scatter3d"
           }
          ],
          "scattercarpet": [
           {
            "marker": {
             "colorbar": {
              "outlinewidth": 0,
              "ticks": ""
             }
            },
            "type": "scattercarpet"
           }
          ],
          "scattergeo": [
           {
            "marker": {
             "colorbar": {
              "outlinewidth": 0,
              "ticks": ""
             }
            },
            "type": "scattergeo"
           }
          ],
          "scattergl": [
           {
            "marker": {
             "colorbar": {
              "outlinewidth": 0,
              "ticks": ""
             }
            },
            "type": "scattergl"
           }
          ],
          "scattermapbox": [
           {
            "marker": {
             "colorbar": {
              "outlinewidth": 0,
              "ticks": ""
             }
            },
            "type": "scattermapbox"
           }
          ],
          "scatterpolar": [
           {
            "marker": {
             "colorbar": {
              "outlinewidth": 0,
              "ticks": ""
             }
            },
            "type": "scatterpolar"
           }
          ],
          "scatterpolargl": [
           {
            "marker": {
             "colorbar": {
              "outlinewidth": 0,
              "ticks": ""
             }
            },
            "type": "scatterpolargl"
           }
          ],
          "scatterternary": [
           {
            "marker": {
             "colorbar": {
              "outlinewidth": 0,
              "ticks": ""
             }
            },
            "type": "scatterternary"
           }
          ],
          "surface": [
           {
            "colorbar": {
             "outlinewidth": 0,
             "ticks": ""
            },
            "colorscale": [
             [
              0,
              "#0d0887"
             ],
             [
              0.1111111111111111,
              "#46039f"
             ],
             [
              0.2222222222222222,
              "#7201a8"
             ],
             [
              0.3333333333333333,
              "#9c179e"
             ],
             [
              0.4444444444444444,
              "#bd3786"
             ],
             [
              0.5555555555555556,
              "#d8576b"
             ],
             [
              0.6666666666666666,
              "#ed7953"
             ],
             [
              0.7777777777777778,
              "#fb9f3a"
             ],
             [
              0.8888888888888888,
              "#fdca26"
             ],
             [
              1,
              "#f0f921"
             ]
            ],
            "type": "surface"
           }
          ],
          "table": [
           {
            "cells": {
             "fill": {
              "color": "#EBF0F8"
             },
             "line": {
              "color": "white"
             }
            },
            "header": {
             "fill": {
              "color": "#C8D4E3"
             },
             "line": {
              "color": "white"
             }
            },
            "type": "table"
           }
          ]
         },
         "layout": {
          "annotationdefaults": {
           "arrowcolor": "#2a3f5f",
           "arrowhead": 0,
           "arrowwidth": 1
          },
          "autotypenumbers": "strict",
          "coloraxis": {
           "colorbar": {
            "outlinewidth": 0,
            "ticks": ""
           }
          },
          "colorscale": {
           "diverging": [
            [
             0,
             "#8e0152"
            ],
            [
             0.1,
             "#c51b7d"
            ],
            [
             0.2,
             "#de77ae"
            ],
            [
             0.3,
             "#f1b6da"
            ],
            [
             0.4,
             "#fde0ef"
            ],
            [
             0.5,
             "#f7f7f7"
            ],
            [
             0.6,
             "#e6f5d0"
            ],
            [
             0.7,
             "#b8e186"
            ],
            [
             0.8,
             "#7fbc41"
            ],
            [
             0.9,
             "#4d9221"
            ],
            [
             1,
             "#276419"
            ]
           ],
           "sequential": [
            [
             0,
             "#0d0887"
            ],
            [
             0.1111111111111111,
             "#46039f"
            ],
            [
             0.2222222222222222,
             "#7201a8"
            ],
            [
             0.3333333333333333,
             "#9c179e"
            ],
            [
             0.4444444444444444,
             "#bd3786"
            ],
            [
             0.5555555555555556,
             "#d8576b"
            ],
            [
             0.6666666666666666,
             "#ed7953"
            ],
            [
             0.7777777777777778,
             "#fb9f3a"
            ],
            [
             0.8888888888888888,
             "#fdca26"
            ],
            [
             1,
             "#f0f921"
            ]
           ],
           "sequentialminus": [
            [
             0,
             "#0d0887"
            ],
            [
             0.1111111111111111,
             "#46039f"
            ],
            [
             0.2222222222222222,
             "#7201a8"
            ],
            [
             0.3333333333333333,
             "#9c179e"
            ],
            [
             0.4444444444444444,
             "#bd3786"
            ],
            [
             0.5555555555555556,
             "#d8576b"
            ],
            [
             0.6666666666666666,
             "#ed7953"
            ],
            [
             0.7777777777777778,
             "#fb9f3a"
            ],
            [
             0.8888888888888888,
             "#fdca26"
            ],
            [
             1,
             "#f0f921"
            ]
           ]
          },
          "colorway": [
           "#636efa",
           "#EF553B",
           "#00cc96",
           "#ab63fa",
           "#FFA15A",
           "#19d3f3",
           "#FF6692",
           "#B6E880",
           "#FF97FF",
           "#FECB52"
          ],
          "font": {
           "color": "#2a3f5f"
          },
          "geo": {
           "bgcolor": "white",
           "lakecolor": "white",
           "landcolor": "#E5ECF6",
           "showlakes": true,
           "showland": true,
           "subunitcolor": "white"
          },
          "hoverlabel": {
           "align": "left"
          },
          "hovermode": "closest",
          "mapbox": {
           "style": "light"
          },
          "paper_bgcolor": "white",
          "plot_bgcolor": "#E5ECF6",
          "polar": {
           "angularaxis": {
            "gridcolor": "white",
            "linecolor": "white",
            "ticks": ""
           },
           "bgcolor": "#E5ECF6",
           "radialaxis": {
            "gridcolor": "white",
            "linecolor": "white",
            "ticks": ""
           }
          },
          "scene": {
           "xaxis": {
            "backgroundcolor": "#E5ECF6",
            "gridcolor": "white",
            "gridwidth": 2,
            "linecolor": "white",
            "showbackground": true,
            "ticks": "",
            "zerolinecolor": "white"
           },
           "yaxis": {
            "backgroundcolor": "#E5ECF6",
            "gridcolor": "white",
            "gridwidth": 2,
            "linecolor": "white",
            "showbackground": true,
            "ticks": "",
            "zerolinecolor": "white"
           },
           "zaxis": {
            "backgroundcolor": "#E5ECF6",
            "gridcolor": "white",
            "gridwidth": 2,
            "linecolor": "white",
            "showbackground": true,
            "ticks": "",
            "zerolinecolor": "white"
           }
          },
          "shapedefaults": {
           "line": {
            "color": "#2a3f5f"
           }
          },
          "ternary": {
           "aaxis": {
            "gridcolor": "white",
            "linecolor": "white",
            "ticks": ""
           },
           "baxis": {
            "gridcolor": "white",
            "linecolor": "white",
            "ticks": ""
           },
           "bgcolor": "#E5ECF6",
           "caxis": {
            "gridcolor": "white",
            "linecolor": "white",
            "ticks": ""
           }
          },
          "title": {
           "x": 0.05
          },
          "xaxis": {
           "automargin": true,
           "gridcolor": "white",
           "linecolor": "white",
           "ticks": "",
           "title": {
            "standoff": 15
           },
           "zerolinecolor": "white",
           "zerolinewidth": 2
          },
          "yaxis": {
           "automargin": true,
           "gridcolor": "white",
           "linecolor": "white",
           "ticks": "",
           "title": {
            "standoff": 15
           },
           "zerolinecolor": "white",
           "zerolinewidth": 2
          }
         }
        },
        "updatemenus": [
         {
          "buttons": [
           {
            "args": [
             {
              "visible": [
               true,
               false,
               false,
               false,
               false,
               false,
               false,
               false,
               false,
               false,
               false,
               false,
               false,
               false,
               false,
               false,
               false,
               false,
               false,
               false,
               false,
               false,
               false,
               false,
               false,
               false,
               false,
               false,
               false,
               false
              ]
             },
             {
              "title": "Mean Box Office Revenues by Month of Release for Action & Drama"
             }
            ],
            "label": "Action & Drama",
            "method": "update"
           },
           {
            "args": [
             {
              "visible": [
               false,
               true,
               false,
               false,
               false,
               false,
               false,
               false,
               false,
               false,
               false,
               false,
               false,
               false,
               false,
               false,
               false,
               false,
               false,
               false,
               false,
               false,
               false,
               false,
               false,
               false,
               false,
               false,
               false,
               false
              ]
             },
             {
              "title": "Mean Box Office Revenues by Month of Release for Action/Adventure & Thriller"
             }
            ],
            "label": "Action/Adventure & Thriller",
            "method": "update"
           },
           {
            "args": [
             {
              "visible": [
               false,
               false,
               true,
               false,
               false,
               false,
               false,
               false,
               false,
               false,
               false,
               false,
               false,
               false,
               false,
               false,
               false,
               false,
               false,
               false,
               false,
               false,
               false,
               false,
               false,
               false,
               false,
               false,
               false,
               false
              ]
             },
             {
              "title": "Mean Box Office Revenues by Month of Release for Action/Adventure & Action"
             }
            ],
            "label": "Action/Adventure & Action",
            "method": "update"
           },
           {
            "args": [
             {
              "visible": [
               false,
               false,
               false,
               true,
               false,
               false,
               false,
               false,
               false,
               false,
               false,
               false,
               false,
               false,
               false,
               false,
               false,
               false,
               false,
               false,
               false,
               false,
               false,
               false,
               false,
               false,
               false,
               false,
               false,
               false
              ]
             },
             {
              "title": "Mean Box Office Revenues by Month of Release for Adventure & Children's/Family"
             }
            ],
            "label": "Adventure & Children's/Family",
            "method": "update"
           },
           {
            "args": [
             {
              "visible": [
               false,
               false,
               false,
               false,
               true,
               false,
               false,
               false,
               false,
               false,
               false,
               false,
               false,
               false,
               false,
               false,
               false,
               false,
               false,
               false,
               false,
               false,
               false,
               false,
               false,
               false,
               false,
               false,
               false,
               false
              ]
             },
             {
              "title": "Mean Box Office Revenues by Month of Release for Crime Fiction & Thriller"
             }
            ],
            "label": "Crime Fiction & Thriller",
            "method": "update"
           },
           {
            "args": [
             {
              "visible": [
               false,
               false,
               false,
               false,
               false,
               true,
               false,
               false,
               false,
               false,
               false,
               false,
               false,
               false,
               false,
               false,
               false,
               false,
               false,
               false,
               false,
               false,
               false,
               false,
               false,
               false,
               false,
               false,
               false,
               false
              ]
             },
             {
              "title": "Mean Box Office Revenues by Month of Release for Crime Fiction & Comedy film"
             }
            ],
            "label": "Crime Fiction & Comedy film",
            "method": "update"
           },
           {
            "args": [
             {
              "visible": [
               false,
               false,
               false,
               false,
               false,
               false,
               true,
               false,
               false,
               false,
               false,
               false,
               false,
               false,
               false,
               false,
               false,
               false,
               false,
               false,
               false,
               false,
               false,
               false,
               false,
               false,
               false,
               false,
               false,
               false
              ]
             },
             {
              "title": "Mean Box Office Revenues by Month of Release for Crime Fiction & Romance Film"
             }
            ],
            "label": "Crime Fiction & Romance Film",
            "method": "update"
           },
           {
            "args": [
             {
              "visible": [
               false,
               false,
               false,
               false,
               false,
               false,
               false,
               true,
               false,
               false,
               false,
               false,
               false,
               false,
               false,
               false,
               false,
               false,
               false,
               false,
               false,
               false,
               false,
               false,
               false,
               false,
               false,
               false,
               false,
               false
              ]
             },
             {
              "title": "Mean Box Office Revenues by Month of Release for Crime Fiction & Action"
             }
            ],
            "label": "Crime Fiction & Action",
            "method": "update"
           },
           {
            "args": [
             {
              "visible": [
               false,
               false,
               false,
               false,
               false,
               false,
               false,
               false,
               true,
               false,
               false,
               false,
               false,
               false,
               false,
               false,
               false,
               false,
               false,
               false,
               false,
               false,
               false,
               false,
               false,
               false,
               false,
               false,
               false,
               false
              ]
             },
             {
              "title": "Mean Box Office Revenues by Month of Release for Crime Fiction & Mystery"
             }
            ],
            "label": "Crime Fiction & Mystery",
            "method": "update"
           },
           {
            "args": [
             {
              "visible": [
               false,
               false,
               false,
               false,
               false,
               false,
               false,
               false,
               false,
               true,
               false,
               false,
               false,
               false,
               false,
               false,
               false,
               false,
               false,
               false,
               false,
               false,
               false,
               false,
               false,
               false,
               false,
               false,
               false,
               false
              ]
             },
             {
              "title": "Mean Box Office Revenues by Month of Release for Family Film & Comedy"
             }
            ],
            "label": "Family Film & Comedy",
            "method": "update"
           },
           {
            "args": [
             {
              "visible": [
               false,
               false,
               false,
               false,
               false,
               false,
               false,
               false,
               false,
               false,
               true,
               false,
               false,
               false,
               false,
               false,
               false,
               false,
               false,
               false,
               false,
               false,
               false,
               false,
               false,
               false,
               false,
               false,
               false,
               false
              ]
             },
             {
              "title": "Mean Box Office Revenues by Month of Release for Family Film & Drama"
             }
            ],
            "label": "Family Film & Drama",
            "method": "update"
           },
           {
            "args": [
             {
              "visible": [
               false,
               false,
               false,
               false,
               false,
               false,
               false,
               false,
               false,
               false,
               false,
               true,
               false,
               false,
               false,
               false,
               false,
               false,
               false,
               false,
               false,
               false,
               false,
               false,
               false,
               false,
               false,
               false,
               false,
               false
              ]
             },
             {
              "title": "Mean Box Office Revenues by Month of Release for Horror & Slasher"
             }
            ],
            "label": "Horror & Slasher",
            "method": "update"
           },
           {
            "args": [
             {
              "visible": [
               false,
               false,
               false,
               false,
               false,
               false,
               false,
               false,
               false,
               false,
               false,
               false,
               true,
               false,
               false,
               false,
               false,
               false,
               false,
               false,
               false,
               false,
               false,
               false,
               false,
               false,
               false,
               false,
               false,
               false
              ]
             },
             {
              "title": "Mean Box Office Revenues by Month of Release for Romance Film & Comedy"
             }
            ],
            "label": "Romance Film & Comedy",
            "method": "update"
           },
           {
            "args": [
             {
              "visible": [
               false,
               false,
               false,
               false,
               false,
               false,
               false,
               false,
               false,
               false,
               false,
               false,
               false,
               true,
               false,
               false,
               false,
               false,
               false,
               false,
               false,
               false,
               false,
               false,
               false,
               false,
               false,
               false,
               false,
               false
              ]
             },
             {
              "title": "Mean Box Office Revenues by Month of Release for Romance Film & Comedy film"
             }
            ],
            "label": "Romance Film & Comedy film",
            "method": "update"
           },
           {
            "args": [
             {
              "visible": [
               false,
               false,
               false,
               false,
               false,
               false,
               false,
               false,
               false,
               false,
               false,
               false,
               false,
               false,
               true,
               false,
               false,
               false,
               false,
               false,
               false,
               false,
               false,
               false,
               false,
               false,
               false,
               false,
               false,
               false
              ]
             },
             {
              "title": "Mean Box Office Revenues by Month of Release for Romantic comedy & Romance Film"
             }
            ],
            "label": "Romantic comedy & Romance Film",
            "method": "update"
           },
           {
            "args": [
             {
              "visible": [
               false,
               false,
               false,
               false,
               false,
               false,
               false,
               false,
               false,
               false,
               false,
               false,
               false,
               false,
               false,
               true,
               false,
               false,
               false,
               false,
               false,
               false,
               false,
               false,
               false,
               false,
               false,
               false,
               false,
               false
              ]
             },
             {
              "title": "Mean Box Office Revenues by Month of Release for Romantic comedy & World cinema"
             }
            ],
            "label": "Romantic comedy & World cinema",
            "method": "update"
           },
           {
            "args": [
             {
              "visible": [
               false,
               false,
               false,
               false,
               false,
               false,
               false,
               false,
               false,
               false,
               false,
               false,
               false,
               false,
               false,
               false,
               true,
               false,
               false,
               false,
               false,
               false,
               false,
               false,
               false,
               false,
               false,
               false,
               false,
               false
              ]
             },
             {
              "title": "Mean Box Office Revenues by Month of Release for Romantic drama & Romance Film"
             }
            ],
            "label": "Romantic drama & Romance Film",
            "method": "update"
           },
           {
            "args": [
             {
              "visible": [
               false,
               false,
               false,
               false,
               false,
               false,
               false,
               false,
               false,
               false,
               false,
               false,
               false,
               false,
               false,
               false,
               false,
               true,
               false,
               false,
               false,
               false,
               false,
               false,
               false,
               false,
               false,
               false,
               false,
               false
              ]
             },
             {
              "title": "Mean Box Office Revenues by Month of Release for Science Fiction & Action"
             }
            ],
            "label": "Science Fiction & Action",
            "method": "update"
           },
           {
            "args": [
             {
              "visible": [
               false,
               false,
               false,
               false,
               false,
               false,
               false,
               false,
               false,
               false,
               false,
               false,
               false,
               false,
               false,
               false,
               false,
               false,
               true,
               false,
               false,
               false,
               false,
               false,
               false,
               false,
               false,
               false,
               false,
               false
              ]
             },
             {
              "title": "Mean Box Office Revenues by Month of Release for Science Fiction & Adventure"
             }
            ],
            "label": "Science Fiction & Adventure",
            "method": "update"
           },
           {
            "args": [
             {
              "visible": [
               false,
               false,
               false,
               false,
               false,
               false,
               false,
               false,
               false,
               false,
               false,
               false,
               false,
               false,
               false,
               false,
               false,
               false,
               false,
               true,
               false,
               false,
               false,
               false,
               false,
               false,
               false,
               false,
               false,
               false
              ]
             },
             {
              "title": "Mean Box Office Revenues by Month of Release for Sports & Drama"
             }
            ],
            "label": "Sports & Drama",
            "method": "update"
           },
           {
            "args": [
             {
              "visible": [
               false,
               false,
               false,
               false,
               false,
               false,
               false,
               false,
               false,
               false,
               false,
               false,
               false,
               false,
               false,
               false,
               false,
               false,
               false,
               false,
               true,
               false,
               false,
               false,
               false,
               false,
               false,
               false,
               false,
               false
              ]
             },
             {
              "title": "Mean Box Office Revenues by Month of Release for Thriller & Science Fiction"
             }
            ],
            "label": "Thriller & Science Fiction",
            "method": "update"
           },
           {
            "args": [
             {
              "visible": [
               false,
               false,
               false,
               false,
               false,
               false,
               false,
               false,
               false,
               false,
               false,
               false,
               false,
               false,
               false,
               false,
               false,
               false,
               false,
               false,
               false,
               true,
               false,
               false,
               false,
               false,
               false,
               false,
               false,
               false
              ]
             },
             {
              "title": "Mean Box Office Revenues by Month of Release for Thriller & Action Thrillers"
             }
            ],
            "label": "Thriller & Action Thrillers",
            "method": "update"
           },
           {
            "args": [
             {
              "visible": [
               false,
               false,
               false,
               false,
               false,
               false,
               false,
               false,
               false,
               false,
               false,
               false,
               false,
               false,
               false,
               false,
               false,
               false,
               false,
               false,
               false,
               false,
               true,
               false,
               false,
               false,
               false,
               false,
               false,
               false
              ]
             },
             {
              "title": "Mean Box Office Revenues by Month of Release for Thriller & Action/Adventure"
             }
            ],
            "label": "Thriller & Action/Adventure",
            "method": "update"
           },
           {
            "args": [
             {
              "visible": [
               false,
               false,
               false,
               false,
               false,
               false,
               false,
               false,
               false,
               false,
               false,
               false,
               false,
               false,
               false,
               false,
               false,
               false,
               false,
               false,
               false,
               false,
               false,
               true,
               false,
               false,
               false,
               false,
               false,
               false
              ]
             },
             {
              "title": "Mean Box Office Revenues by Month of Release for Thriller & Crime Fiction"
             }
            ],
            "label": "Thriller & Crime Fiction",
            "method": "update"
           },
           {
            "args": [
             {
              "visible": [
               false,
               false,
               false,
               false,
               false,
               false,
               false,
               false,
               false,
               false,
               false,
               false,
               false,
               false,
               false,
               false,
               false,
               false,
               false,
               false,
               false,
               false,
               false,
               false,
               true,
               false,
               false,
               false,
               false,
               false
              ]
             },
             {
              "title": "Mean Box Office Revenues by Month of Release for Thriller & Horror"
             }
            ],
            "label": "Thriller & Horror",
            "method": "update"
           },
           {
            "args": [
             {
              "visible": [
               false,
               false,
               false,
               false,
               false,
               false,
               false,
               false,
               false,
               false,
               false,
               false,
               false,
               false,
               false,
               false,
               false,
               false,
               false,
               false,
               false,
               false,
               false,
               false,
               false,
               true,
               false,
               false,
               false,
               false
              ]
             },
             {
              "title": "Mean Box Office Revenues by Month of Release for Thriller & Mystery"
             }
            ],
            "label": "Thriller & Mystery",
            "method": "update"
           },
           {
            "args": [
             {
              "visible": [
               false,
               false,
               false,
               false,
               false,
               false,
               false,
               false,
               false,
               false,
               false,
               false,
               false,
               false,
               false,
               false,
               false,
               false,
               false,
               false,
               false,
               false,
               false,
               false,
               false,
               false,
               true,
               false,
               false,
               false
              ]
             },
             {
              "title": "Mean Box Office Revenues by Month of Release for Thriller & Crime Thriller"
             }
            ],
            "label": "Thriller & Crime Thriller",
            "method": "update"
           },
           {
            "args": [
             {
              "visible": [
               false,
               false,
               false,
               false,
               false,
               false,
               false,
               false,
               false,
               false,
               false,
               false,
               false,
               false,
               false,
               false,
               false,
               false,
               false,
               false,
               false,
               false,
               false,
               false,
               false,
               false,
               false,
               true,
               false,
               false
              ]
             },
             {
              "title": "Mean Box Office Revenues by Month of Release for Thriller & Drama"
             }
            ],
            "label": "Thriller & Drama",
            "method": "update"
           },
           {
            "args": [
             {
              "visible": [
               false,
               false,
               false,
               false,
               false,
               false,
               false,
               false,
               false,
               false,
               false,
               false,
               false,
               false,
               false,
               false,
               false,
               false,
               false,
               false,
               false,
               false,
               false,
               false,
               false,
               false,
               false,
               false,
               true,
               false
              ]
             },
             {
              "title": "Mean Box Office Revenues by Month of Release for Thriller & Action"
             }
            ],
            "label": "Thriller & Action",
            "method": "update"
           },
           {
            "args": [
             {
              "visible": [
               false,
               false,
               false,
               false,
               false,
               false,
               false,
               false,
               false,
               false,
               false,
               false,
               false,
               false,
               false,
               false,
               false,
               false,
               false,
               false,
               false,
               false,
               false,
               false,
               false,
               false,
               false,
               false,
               false,
               true
              ]
             },
             {
              "title": "Mean Box Office Revenues by Month of Release for Thriller & World cinema"
             }
            ],
            "label": "Thriller & World cinema",
            "method": "update"
           }
          ],
          "direction": "down",
          "pad": {
           "r": 10,
           "t": 10
          },
          "showactive": true,
          "type": "dropdown",
          "x": 1.1,
          "xanchor": "left",
          "y": 1.2,
          "yanchor": "top"
         }
        ],
        "xaxis": {
         "anchor": "y",
         "autorange": true,
         "domain": [
          0,
          1
         ],
         "range": [
          -0.5,
          11.5
         ],
         "type": "category"
        },
        "yaxis": {
         "anchor": "x",
         "autorange": true,
         "domain": [
          0,
          1
         ],
         "range": [
          0,
          395754935.1627732
         ],
         "type": "linear"
        }
       }
      },
      "image/png": "[encoded data removed]",
      "text/html": [
       "<div>                            <div id=\"8403219f-dee8-433c-81b0-4d248a83647d\" class=\"plotly-graph-div\" style=\"height:525px; width:100%;\"></div>            <script type=\"text/javascript\">                require([\"plotly\"], function(Plotly) {                    window.PLOTLYENV=window.PLOTLYENV || {};                                    if (document.getElementById(\"8403219f-dee8-433c-81b0-4d248a83647d\")) {                    Plotly.newPlot(                        \"8403219f-dee8-433c-81b0-4d248a83647d\",                        [{\"marker\":{\"color\":[\"#f0f921\",\"#fdca26\",\"#fb9f3a\",\"#ed7953\",\"#d8576b\",\"#bd3786\",\"#9c179e\",\"#7201a8\",\"#46039f\",\"#0d0887\"]},\"name\":\"Action & Drama\",\"opacity\":1,\"x\":[\"January\",\"February\",\"March\",\"April\",\"May\",\"June\",\"July\",\"August\",\"September\",\"October\",\"November\",\"December\"],\"y\":[34136660.94444445,29731987.737254903,28975687.204481788,31598915.647058822,24249186.73529412,42236664.106617644,30326237.663101602,33409220.951871656,33712700.682352945,31598915.64705882,29894468.770053472,31598915.647058822],\"type\":\"bar\",\"visible\":true},{\"marker\":{\"color\":[\"#f0f921\",\"#fdca26\",\"#fb9f3a\",\"#ed7953\",\"#d8576b\",\"#bd3786\",\"#9c179e\",\"#7201a8\",\"#46039f\",\"#0d0887\"]},\"name\":\"Action\\u002fAdventure & Thriller\",\"opacity\":1,\"x\":[\"January\",\"February\",\"March\",\"April\",\"May\",\"June\",\"July\",\"August\",\"September\",\"October\",\"November\",\"December\"],\"y\":[70546550.0909091,87665406.20779221,106322154.18181817,133394294.2909091,209682028.34848484,129504270.43434344,58660044.43181818,103192741.81818181,84478652.1010101,95927284.84848483,167819556.36363637,84207161.2121212],\"type\":\"bar\"},{\"marker\":{\"color\":[\"#f0f921\",\"#fdca26\",\"#fb9f3a\",\"#ed7953\",\"#d8576b\",\"#bd3786\",\"#9c179e\",\"#7201a8\",\"#46039f\",\"#0d0887\"]},\"name\":\"Action\\u002fAdventure & Action\",\"opacity\":1,\"x\":[\"January\",\"February\",\"March\",\"April\",\"May\",\"June\",\"July\",\"August\",\"September\",\"October\",\"November\",\"December\"],\"y\":[21994071.529411763,28605799.665158372,24580993.20588235,16533243.819607843,45746490.73856209,20437156.352941174,28653716.397058822,21480556.55462185,20079690.676470585,18970267.522058822,21994071.529411763,19780442.797385618],\"type\":\"bar\"},{\"marker\":{\"color\":[\"#f0f921\",\"#fdca26\",\"#fb9f3a\",\"#ed7953\",\"#d8576b\",\"#bd3786\",\"#9c179e\",\"#7201a8\",\"#46039f\",\"#0d0887\"]},\"name\":\"Adventure & Children's\\u002fFamily\",\"opacity\":1,\"x\":[\"January\",\"February\",\"March\",\"April\",\"May\",\"June\",\"July\",\"August\",\"September\",\"October\",\"November\",\"December\"],\"y\":[62053461.6,89493092.30902779,152490628.546875,104381644.6698718,332830355.7317708,296782533.17083335,192395137.98317307,78293519.10677084,69116143.26488096,226619385.9854167,154481840.23632812,133862384.73039214],\"type\":\"bar\"},{\"marker\":{\"color\":[\"#f0f921\",\"#fdca26\",\"#fb9f3a\",\"#ed7953\",\"#d8576b\",\"#bd3786\",\"#9c179e\",\"#7201a8\",\"#46039f\",\"#0d0887\"]},\"name\":\"Crime Fiction & Thriller\",\"opacity\":1,\"x\":[\"January\",\"February\",\"March\",\"April\",\"May\",\"June\",\"July\",\"August\",\"September\",\"October\",\"November\",\"December\"],\"y\":[37193968.113172546,52934326.34161491,63675341.403538495,49895507.76881452,59234214.43044733,86802439.61831251,126118203.46518244,67800281.2960373,48883907.174013786,59162099.95052567,78262485.91529192,74357208.04858105],\"type\":\"bar\"},{\"marker\":{\"color\":[\"#f0f921\",\"#fdca26\",\"#fb9f3a\",\"#ed7953\",\"#d8576b\",\"#bd3786\",\"#9c179e\",\"#7201a8\",\"#46039f\",\"#0d0887\"]},\"name\":\"Crime Fiction & Comedy film\",\"opacity\":1,\"x\":[\"January\",\"February\",\"March\",\"April\",\"May\",\"June\",\"July\",\"August\",\"September\",\"October\",\"November\",\"December\"],\"y\":[49493954.6,49493954.6,74842516.83333333,44615882.54000001,49493954.6,44456165.025,49493954.6,49493954.6,49493954.6,46628936.5625,49493954.6,49493954.6],\"type\":\"bar\"},{\"marker\":{\"color\":[\"#f0f921\",\"#fdca26\",\"#fb9f3a\",\"#ed7953\",\"#d8576b\",\"#bd3786\",\"#9c179e\",\"#7201a8\",\"#46039f\",\"#0d0887\"]},\"name\":\"Crime Fiction & Romance Film\",\"opacity\":1,\"x\":[\"January\",\"February\",\"March\",\"April\",\"May\",\"June\",\"July\",\"August\",\"September\",\"October\",\"November\",\"December\"],\"y\":[45936219.333333336,43093942.6,45936219.333333336,42332239.740740746,45936219.333333336,40745330.85714286,76500938.1,41373582.740740746,45936219.333333336,45936219.333333336,41743739.79166667,34591644.75],\"type\":\"bar\"},{\"marker\":{\"color\":[\"#f0f921\",\"#fdca26\",\"#fb9f3a\",\"#ed7953\",\"#d8576b\",\"#bd3786\",\"#9c179e\",\"#7201a8\",\"#46039f\",\"#0d0887\"]},\"name\":\"Crime Fiction & Action\",\"opacity\":1,\"x\":[\"January\",\"February\",\"March\",\"April\",\"May\",\"June\",\"July\",\"August\",\"September\",\"October\",\"November\",\"December\"],\"y\":[35114037.26953125,36715290.6875,36715290.6875,37176015.329166666,36715290.6875,32788785.900735293,60273585.65,34795461.3881579,35115176.14930555,34105169.852678575,45300240.15,33832082.44318182],\"type\":\"bar\"},{\"marker\":{\"color\":[\"#f0f921\",\"#fdca26\",\"#fb9f3a\",\"#ed7953\",\"#d8576b\",\"#bd3786\",\"#9c179e\",\"#7201a8\",\"#46039f\",\"#0d0887\"]},\"name\":\"Crime Fiction & Mystery\",\"opacity\":1,\"x\":[\"January\",\"February\",\"March\",\"April\",\"May\",\"June\",\"July\",\"August\",\"September\",\"October\",\"November\",\"December\"],\"y\":[34223863.564705886,36355908.6,30641828.611111112,36355908.6,34276149.270588234,41945068.32631579,33859057.98571429,40012131.47142857,31861221.76,33720923.36363637,34116999.38333333,58665462.425000004],\"type\":\"bar\"},{\"marker\":{\"color\":[\"#f0f921\",\"#fdca26\",\"#fb9f3a\",\"#ed7953\",\"#d8576b\",\"#bd3786\",\"#9c179e\",\"#7201a8\",\"#46039f\",\"#0d0887\"]},\"name\":\"Family Film & Comedy\",\"opacity\":1,\"x\":[\"January\",\"February\",\"March\",\"April\",\"May\",\"June\",\"July\",\"August\",\"September\",\"October\",\"November\",\"December\"],\"y\":[44829634.14285714,38431657.12244898,66531261.057142854,44829634.14285714,33652338.21428572,65404663.761904754,24542974.82142857,36413130.190476194,44829634.14285714,38162029.91428571,47611521.72527473,44829634.14285714],\"type\":\"bar\"},{\"marker\":{\"color\":[\"#f0f921\",\"#fdca26\",\"#fb9f3a\",\"#ed7953\",\"#d8576b\",\"#bd3786\",\"#9c179e\",\"#7201a8\",\"#46039f\",\"#0d0887\"]},\"name\":\"Family Film & Drama\",\"opacity\":1,\"x\":[\"January\",\"February\",\"March\",\"April\",\"May\",\"June\",\"July\",\"August\",\"September\",\"October\",\"November\",\"December\"],\"y\":[60304537.63636363,43560826.61111111,41336187.666666664,41710938.35294118,42210117.071428575,63453114.06666667,41462637.0,44894626.05263158,48968440.583333336,42520965.38888889,42549290.5,44684415.777777776],\"type\":\"bar\"},{\"marker\":{\"color\":[\"#f0f921\",\"#fdca26\",\"#fb9f3a\",\"#ed7953\",\"#d8576b\",\"#bd3786\",\"#9c179e\",\"#7201a8\",\"#46039f\",\"#0d0887\"]},\"name\":\"Horror & Slasher\",\"opacity\":1,\"x\":[\"January\",\"February\",\"March\",\"April\",\"May\",\"June\",\"July\",\"August\",\"September\",\"October\",\"November\",\"December\"],\"y\":[19430351.363636363,38872596.40909091,25758407.727272727,21768080.295454547,25758407.72727273,25758407.727272727,25758407.727272727,27639129.129870128,30935650.836363636,30017555.354545455,30660701.329545453,18157577.484848484],\"type\":\"bar\"},{\"marker\":{\"color\":[\"#f0f921\",\"#fdca26\",\"#fb9f3a\",\"#ed7953\",\"#d8576b\",\"#bd3786\",\"#9c179e\",\"#7201a8\",\"#46039f\",\"#0d0887\"]},\"name\":\"Romance Film & Comedy\",\"opacity\":1,\"x\":[\"January\",\"February\",\"March\",\"April\",\"May\",\"June\",\"July\",\"August\",\"September\",\"October\",\"November\",\"December\"],\"y\":[31301145.942857143,35950824.05864662,36648382.489523806,90816387.48571429,41550352.25714286,39201597.775824174,43354824.961038955,35818159.07755102,37106558.225,42633807.297619045,25821300.33714286,47793967.32653061],\"type\":\"bar\"},{\"marker\":{\"color\":[\"#f0f921\",\"#fdca26\",\"#fb9f3a\",\"#ed7953\",\"#d8576b\",\"#bd3786\",\"#9c179e\",\"#7201a8\",\"#46039f\",\"#0d0887\"]},\"name\":\"Romance Film & Comedy film\",\"opacity\":1,\"x\":[\"January\",\"February\",\"March\",\"April\",\"May\",\"June\",\"July\",\"August\",\"September\",\"October\",\"November\",\"December\"],\"y\":[25175220.42857143,25175220.42857143,35736685.653061226,25504962.350649353,21025183.69047619,25175220.42857143,22112067.875,25175220.42857143,22715065.93877551,25175220.42857143,25175220.42857143,24264312.476190478],\"type\":\"bar\"},{\"marker\":{\"color\":[\"#f0f921\",\"#fdca26\",\"#fb9f3a\",\"#ed7953\",\"#d8576b\",\"#bd3786\",\"#9c179e\",\"#7201a8\",\"#46039f\",\"#0d0887\"]},\"name\":\"Romantic comedy & Romance Film\",\"opacity\":1,\"x\":[\"January\",\"February\",\"March\",\"April\",\"May\",\"June\",\"July\",\"August\",\"September\",\"October\",\"November\",\"December\"],\"y\":[51981585.70013864,67093605.419571534,62248055.53390523,46182955.79302832,55831764.61137788,69760652.9051006,55487923.92156863,38893710.81297134,42171318.03349673,53123831.63498153,53844185.43128422,62425598.795855924],\"type\":\"bar\"},{\"marker\":{\"color\":[\"#f0f921\",\"#fdca26\",\"#fb9f3a\",\"#ed7953\",\"#d8576b\",\"#bd3786\",\"#9c179e\",\"#7201a8\",\"#46039f\",\"#0d0887\"]},\"name\":\"Romantic comedy & World cinema\",\"opacity\":1,\"x\":[\"January\",\"February\",\"March\",\"April\",\"May\",\"June\",\"July\",\"August\",\"September\",\"October\",\"November\",\"December\"],\"y\":[23811380.263157893,23811380.263157893,23811380.263157893,34533564.10150376,21864777.907894734,23811380.263157893,23811380.263157893,22457005.165991902,23811380.263157893,23811380.263157893,21321617.357894737,27617593.563909773],\"type\":\"bar\"},{\"marker\":{\"color\":[\"#f0f921\",\"#fdca26\",\"#fb9f3a\",\"#ed7953\",\"#d8576b\",\"#bd3786\",\"#9c179e\",\"#7201a8\",\"#46039f\",\"#0d0887\"]},\"name\":\"Romantic drama & Romance Film\",\"opacity\":1,\"x\":[\"January\",\"February\",\"March\",\"April\",\"May\",\"June\",\"July\",\"August\",\"September\",\"October\",\"November\",\"December\"],\"y\":[21769337.678837556,20445124.16393443,19534677.01222318,22020294.170554858,23839704.938111577,22774246.42360656,22894686.342076503,27883980.31048187,19038947.975244246,19815591.48009368,18797566.074195508,28554359.370159186],\"type\":\"bar\"},{\"marker\":{\"color\":[\"#f0f921\",\"#fdca26\",\"#fb9f3a\",\"#ed7953\",\"#d8576b\",\"#bd3786\",\"#9c179e\",\"#7201a8\",\"#46039f\",\"#0d0887\"]},\"name\":\"Science Fiction & Action\",\"opacity\":1,\"x\":[\"January\",\"February\",\"March\",\"April\",\"May\",\"June\",\"July\",\"August\",\"September\",\"October\",\"November\",\"December\"],\"y\":[166929590.9722222,133375656.375,156062520.03703701,342462247.8333333,300374087.3076923,132833980.39393939,146947717.03333333,157377429.79629627,168637533.13888887,175062273.16666666,101303954.38888888,143309375.79166666],\"type\":\"bar\"},{\"marker\":{\"color\":[\"#f0f921\",\"#fdca26\",\"#fb9f3a\",\"#ed7953\",\"#d8576b\",\"#bd3786\",\"#9c179e\",\"#7201a8\",\"#46039f\",\"#0d0887\"]},\"name\":\"Science Fiction & Adventure\",\"opacity\":1,\"x\":[\"January\",\"February\",\"March\",\"April\",\"May\",\"June\",\"July\",\"August\",\"September\",\"October\",\"November\",\"December\"],\"y\":[161893612.8627451,161893612.8627451,142787701.5359477,129531390.71764708,375967188.40463454,172830548.68137255,143826058.30124778,93916770.84509805,161893612.8627451,141571130.7787115,133226598.66488414,144948480.81764707],\"type\":\"bar\"},{\"marker\":{\"color\":[\"#f0f921\",\"#fdca26\",\"#fb9f3a\",\"#ed7953\",\"#d8576b\",\"#bd3786\",\"#9c179e\",\"#7201a8\",\"#46039f\",\"#0d0887\"]},\"name\":\"Sports & Drama\",\"opacity\":1,\"x\":[\"January\",\"February\",\"March\",\"April\",\"May\",\"June\",\"July\",\"August\",\"September\",\"October\",\"November\",\"December\"],\"y\":[31298051.44736842,26477820.75657895,29168067.759398494,18277310.147368424,23481899.809210528,58633995.41447368,35356719.38596491,25026126.934210528,20058151.074561406,25655054.04511278,18176371.719298247,23148189.300751884],\"type\":\"bar\"},{\"marker\":{\"color\":[\"#f0f921\",\"#fdca26\",\"#fb9f3a\",\"#ed7953\",\"#d8576b\",\"#bd3786\",\"#9c179e\",\"#7201a8\",\"#46039f\",\"#0d0887\"]},\"name\":\"Thriller & Science Fiction\",\"opacity\":1,\"x\":[\"January\",\"February\",\"March\",\"April\",\"May\",\"June\",\"July\",\"August\",\"September\",\"October\",\"November\",\"December\"],\"y\":[93425172.34888634,126540689.9494135,122043243.2557899,157110335.4325269,212361381.18951613,288787064.3236559,197016969.05560675,116137136.6455972,100548312.17031491,110603433.81877239,178680651.27534562,212482495.67274424],\"type\":\"bar\"},{\"marker\":{\"color\":[\"#f0f921\",\"#fdca26\",\"#fb9f3a\",\"#ed7953\",\"#d8576b\",\"#bd3786\",\"#9c179e\",\"#7201a8\",\"#46039f\",\"#0d0887\"]},\"name\":\"Thriller & Action Thrillers\",\"opacity\":1,\"x\":[\"January\",\"February\",\"March\",\"April\",\"May\",\"June\",\"July\",\"August\",\"September\",\"October\",\"November\",\"December\"],\"y\":[132763850.09274194,85254107.9390681,103568191.94009216,253898337.27419353,174823429.44516128,113396790.10887095,155977582.74910393,143557056.35125446,100779844.2672811,104987018.69354838,145325423.44516128,182645017.26099706],\"type\":\"bar\"},{\"marker\":{\"color\":[\"#f0f921\",\"#fdca26\",\"#fb9f3a\",\"#ed7953\",\"#d8576b\",\"#bd3786\",\"#9c179e\",\"#7201a8\",\"#46039f\",\"#0d0887\"]},\"name\":\"Thriller & Action\\u002fAdventure\",\"opacity\":1,\"x\":[\"January\",\"February\",\"March\",\"April\",\"May\",\"June\",\"July\",\"August\",\"September\",\"October\",\"November\",\"December\"],\"y\":[46778495.90180032,81115865.59929077,49354133.515957445,56869646.38857783,97702356.4212766,164359433.08510637,73975395.11914894,53453142.948685855,63617561.785815604,73502691.19148935,57544389.770516716,76439569.06595746],\"type\":\"bar\"},{\"marker\":{\"color\":[\"#f0f921\",\"#fdca26\",\"#fb9f3a\",\"#ed7953\",\"#d8576b\",\"#bd3786\",\"#9c179e\",\"#7201a8\",\"#46039f\",\"#0d0887\"]},\"name\":\"Thriller & Crime Fiction\",\"opacity\":1,\"x\":[\"January\",\"February\",\"March\",\"April\",\"May\",\"June\",\"July\",\"August\",\"September\",\"October\",\"November\",\"December\"],\"y\":[58374204.15368172,59292944.493724175,53231643.44709536,62322999.46059783,61146957.218725674,85752279.40683563,86121385.64464079,55692775.94757034,62727940.529022045,57496966.98341907,76135291.10513337,68578133.88678297],\"type\":\"bar\"},{\"marker\":{\"color\":[\"#f0f921\",\"#fdca26\",\"#fb9f3a\",\"#ed7953\",\"#d8576b\",\"#bd3786\",\"#9c179e\",\"#7201a8\",\"#46039f\",\"#0d0887\"]},\"name\":\"Thriller & Horror\",\"opacity\":1,\"x\":[\"January\",\"February\",\"March\",\"April\",\"May\",\"June\",\"July\",\"August\",\"September\",\"October\",\"November\",\"December\"],\"y\":[53180343.53379953,73414613.54195803,54349341.14325069,46319453.753246754,46979790.18983957,58420160.05944056,74954358.00395258,73792332.46563193,55064242.92583732,54910753.78030303,77591389.41750842,49388868.36868687],\"type\":\"bar\"},{\"marker\":{\"color\":[\"#f0f921\",\"#fdca26\",\"#fb9f3a\",\"#ed7953\",\"#d8576b\",\"#bd3786\",\"#9c179e\",\"#7201a8\",\"#46039f\",\"#0d0887\"]},\"name\":\"Thriller & Mystery\",\"opacity\":1,\"x\":[\"January\",\"February\",\"March\",\"April\",\"May\",\"June\",\"July\",\"August\",\"September\",\"October\",\"November\",\"December\"],\"y\":[49156288.14542652,52819409.28776979,50408925.58735869,57450468.95930756,81643946.753551,63089148.939893246,57816050.52328663,44647454.16546763,51646273.58179543,48947481.21230075,47539132.01547852,57076714.23280576],\"type\":\"bar\"},{\"marker\":{\"color\":[\"#f0f921\",\"#fdca26\",\"#fb9f3a\",\"#ed7953\",\"#d8576b\",\"#bd3786\",\"#9c179e\",\"#7201a8\",\"#46039f\",\"#0d0887\"]},\"name\":\"Thriller & Crime Thriller\",\"opacity\":1,\"x\":[\"January\",\"February\",\"March\",\"April\",\"May\",\"June\",\"July\",\"August\",\"September\",\"October\",\"November\",\"December\"],\"y\":[27238794.634920634,32455960.553061225,30921446.28756957,27493912.680272106,28874888.671428572,40810360.72562358,29906859.816326525,34783030.91836735,32276320.89504373,30895866.680612244,26592978.083090376,25162573.634920634],\"type\":\"bar\"},{\"marker\":{\"color\":[\"#f0f921\",\"#fdca26\",\"#fb9f3a\",\"#ed7953\",\"#d8576b\",\"#bd3786\",\"#9c179e\",\"#7201a8\",\"#46039f\",\"#0d0887\"]},\"name\":\"Thriller & Drama\",\"opacity\":1,\"x\":[\"January\",\"February\",\"March\",\"April\",\"May\",\"June\",\"July\",\"August\",\"September\",\"October\",\"November\",\"December\"],\"y\":[27043643.95883941,32629601.365874365,28753699.195652176,28077522.715102974,24380004.270833332,29041109.157894734,46027307.47807018,29722417.657894734,26564275.885338347,24700871.49359886,30966890.395585738,43926500.6305668],\"type\":\"bar\"},{\"marker\":{\"color\":[\"#f0f921\",\"#fdca26\",\"#fb9f3a\",\"#ed7953\",\"#d8576b\",\"#bd3786\",\"#9c179e\",\"#7201a8\",\"#46039f\",\"#0d0887\"]},\"name\":\"Thriller & Action\",\"opacity\":1,\"x\":[\"January\",\"February\",\"March\",\"April\",\"May\",\"June\",\"July\",\"August\",\"September\",\"October\",\"November\",\"December\"],\"y\":[19983033.235795453,25960051.268939395,24227635.136363637,24227635.136363637,23985675.895104893,24227635.136363637,35027676.36931818,29839885.509090908,18399089.162878785,24227635.136363637,23922621.576923076,29479460.20909091],\"type\":\"bar\"},{\"marker\":{\"color\":[\"#f0f921\",\"#fdca26\",\"#fb9f3a\",\"#ed7953\",\"#d8576b\",\"#bd3786\",\"#9c179e\",\"#7201a8\",\"#46039f\",\"#0d0887\"]},\"name\":\"Thriller & World cinema\",\"opacity\":1,\"x\":[\"January\",\"February\",\"March\",\"April\",\"May\",\"June\",\"July\",\"August\",\"September\",\"October\",\"November\",\"December\"],\"y\":[21157008.07142857,19402499.4375,16432041.214285715,21157008.07142857,20209537.726190474,18806607.0625,21157008.07142857,21157008.07142857,27538340.964285713,18509543.91836735,25481632.5974026,14987591.035714285],\"type\":\"bar\"}],                        {\"template\":{\"data\":{\"histogram2dcontour\":[{\"type\":\"histogram2dcontour\",\"colorbar\":{\"outlinewidth\":0,\"ticks\":\"\"},\"colorscale\":[[0.0,\"#0d0887\"],[0.1111111111111111,\"#46039f\"],[0.2222222222222222,\"#7201a8\"],[0.3333333333333333,\"#9c179e\"],[0.4444444444444444,\"#bd3786\"],[0.5555555555555556,\"#d8576b\"],[0.6666666666666666,\"#ed7953\"],[0.7777777777777778,\"#fb9f3a\"],[0.8888888888888888,\"#fdca26\"],[1.0,\"#f0f921\"]]}],\"choropleth\":[{\"type\":\"choropleth\",\"colorbar\":{\"outlinewidth\":0,\"ticks\":\"\"}}],\"histogram2d\":[{\"type\":\"histogram2d\",\"colorbar\":{\"outlinewidth\":0,\"ticks\":\"\"},\"colorscale\":[[0.0,\"#0d0887\"],[0.1111111111111111,\"#46039f\"],[0.2222222222222222,\"#7201a8\"],[0.3333333333333333,\"#9c179e\"],[0.4444444444444444,\"#bd3786\"],[0.5555555555555556,\"#d8576b\"],[0.6666666666666666,\"#ed7953\"],[0.7777777777777778,\"#fb9f3a\"],[0.8888888888888888,\"#fdca26\"],[1.0,\"#f0f921\"]]}],\"heatmap\":[{\"type\":\"heatmap\",\"colorbar\":{\"outlinewidth\":0,\"ticks\":\"\"},\"colorscale\":[[0.0,\"#0d0887\"],[0.1111111111111111,\"#46039f\"],[0.2222222222222222,\"#7201a8\"],[0.3333333333333333,\"#9c179e\"],[0.4444444444444444,\"#bd3786\"],[0.5555555555555556,\"#d8576b\"],[0.6666666666666666,\"#ed7953\"],[0.7777777777777778,\"#fb9f3a\"],[0.8888888888888888,\"#fdca26\"],[1.0,\"#f0f921\"]]}],\"heatmapgl\":[{\"type\":\"heatmapgl\",\"colorbar\":{\"outlinewidth\":0,\"ticks\":\"\"},\"colorscale\":[[0.0,\"#0d0887\"],[0.1111111111111111,\"#46039f\"],[0.2222222222222222,\"#7201a8\"],[0.3333333333333333,\"#9c179e\"],[0.4444444444444444,\"#bd3786\"],[0.5555555555555556,\"#d8576b\"],[0.6666666666666666,\"#ed7953\"],[0.7777777777777778,\"#fb9f3a\"],[0.8888888888888888,\"#fdca26\"],[1.0,\"#f0f921\"]]}],\"contourcarpet\":[{\"type\":\"contourcarpet\",\"colorbar\":{\"outlinewidth\":0,\"ticks\":\"\"}}],\"contour\":[{\"type\":\"contour\",\"colorbar\":{\"outlinewidth\":0,\"ticks\":\"\"},\"colorscale\":[[0.0,\"#0d0887\"],[0.1111111111111111,\"#46039f\"],[0.2222222222222222,\"#7201a8\"],[0.3333333333333333,\"#9c179e\"],[0.4444444444444444,\"#bd3786\"],[0.5555555555555556,\"#d8576b\"],[0.6666666666666666,\"#ed7953\"],[0.7777777777777778,\"#fb9f3a\"],[0.8888888888888888,\"#fdca26\"],[1.0,\"#f0f921\"]]}],\"surface\":[{\"type\":\"surface\",\"colorbar\":{\"outlinewidth\":0,\"ticks\":\"\"},\"colorscale\":[[0.0,\"#0d0887\"],[0.1111111111111111,\"#46039f\"],[0.2222222222222222,\"#7201a8\"],[0.3333333333333333,\"#9c179e\"],[0.4444444444444444,\"#bd3786\"],[0.5555555555555556,\"#d8576b\"],[0.6666666666666666,\"#ed7953\"],[0.7777777777777778,\"#fb9f3a\"],[0.8888888888888888,\"#fdca26\"],[1.0,\"#f0f921\"]]}],\"mesh3d\":[{\"type\":\"mesh3d\",\"colorbar\":{\"outlinewidth\":0,\"ticks\":\"\"}}],\"scatter\":[{\"fillpattern\":{\"fillmode\":\"overlay\",\"size\":10,\"solidity\":0.2},\"type\":\"scatter\"}],\"parcoords\":[{\"type\":\"parcoords\",\"line\":{\"colorbar\":{\"outlinewidth\":0,\"ticks\":\"\"}}}],\"scatterpolargl\":[{\"type\":\"scatterpolargl\",\"marker\":{\"colorbar\":{\"outlinewidth\":0,\"ticks\":\"\"}}}],\"bar\":[{\"error_x\":{\"color\":\"#2a3f5f\"},\"error_y\":{\"color\":\"#2a3f5f\"},\"marker\":{\"line\":{\"color\":\"#E5ECF6\",\"width\":0.5},\"pattern\":{\"fillmode\":\"overlay\",\"size\":10,\"solidity\":0.2}},\"type\":\"bar\"}],\"scattergeo\":[{\"type\":\"scattergeo\",\"marker\":{\"colorbar\":{\"outlinewidth\":0,\"ticks\":\"\"}}}],\"scatterpolar\":[{\"type\":\"scatterpolar\",\"marker\":{\"colorbar\":{\"outlinewidth\":0,\"ticks\":\"\"}}}],\"histogram\":[{\"marker\":{\"pattern\":{\"fillmode\":\"overlay\",\"size\":10,\"solidity\":0.2}},\"type\":\"histogram\"}],\"scattergl\":[{\"type\":\"scattergl\",\"marker\":{\"colorbar\":{\"outlinewidth\":0,\"ticks\":\"\"}}}],\"scatter3d\":[{\"type\":\"scatter3d\",\"line\":{\"colorbar\":{\"outlinewidth\":0,\"ticks\":\"\"}},\"marker\":{\"colorbar\":{\"outlinewidth\":0,\"ticks\":\"\"}}}],\"scattermapbox\":[{\"type\":\"scattermapbox\",\"marker\":{\"colorbar\":{\"outlinewidth\":0,\"ticks\":\"\"}}}],\"scatterternary\":[{\"type\":\"scatterternary\",\"marker\":{\"colorbar\":{\"outlinewidth\":0,\"ticks\":\"\"}}}],\"scattercarpet\":[{\"type\":\"scattercarpet\",\"marker\":{\"colorbar\":{\"outlinewidth\":0,\"ticks\":\"\"}}}],\"carpet\":[{\"aaxis\":{\"endlinecolor\":\"#2a3f5f\",\"gridcolor\":\"white\",\"linecolor\":\"white\",\"minorgridcolor\":\"white\",\"startlinecolor\":\"#2a3f5f\"},\"baxis\":{\"endlinecolor\":\"#2a3f5f\",\"gridcolor\":\"white\",\"linecolor\":\"white\",\"minorgridcolor\":\"white\",\"startlinecolor\":\"#2a3f5f\"},\"type\":\"carpet\"}],\"table\":[{\"cells\":{\"fill\":{\"color\":\"#EBF0F8\"},\"line\":{\"color\":\"white\"}},\"header\":{\"fill\":{\"color\":\"#C8D4E3\"},\"line\":{\"color\":\"white\"}},\"type\":\"table\"}],\"barpolar\":[{\"marker\":{\"line\":{\"color\":\"#E5ECF6\",\"width\":0.5},\"pattern\":{\"fillmode\":\"overlay\",\"size\":10,\"solidity\":0.2}},\"type\":\"barpolar\"}],\"pie\":[{\"automargin\":true,\"type\":\"pie\"}]},\"layout\":{\"autotypenumbers\":\"strict\",\"colorway\":[\"#636efa\",\"#EF553B\",\"#00cc96\",\"#ab63fa\",\"#FFA15A\",\"#19d3f3\",\"#FF6692\",\"#B6E880\",\"#FF97FF\",\"#FECB52\"],\"font\":{\"color\":\"#2a3f5f\"},\"hovermode\":\"closest\",\"hoverlabel\":{\"align\":\"left\"},\"paper_bgcolor\":\"white\",\"plot_bgcolor\":\"#E5ECF6\",\"polar\":{\"bgcolor\":\"#E5ECF6\",\"angularaxis\":{\"gridcolor\":\"white\",\"linecolor\":\"white\",\"ticks\":\"\"},\"radialaxis\":{\"gridcolor\":\"white\",\"linecolor\":\"white\",\"ticks\":\"\"}},\"ternary\":{\"bgcolor\":\"#E5ECF6\",\"aaxis\":{\"gridcolor\":\"white\",\"linecolor\":\"white\",\"ticks\":\"\"},\"baxis\":{\"gridcolor\":\"white\",\"linecolor\":\"white\",\"ticks\":\"\"},\"caxis\":{\"gridcolor\":\"white\",\"linecolor\":\"white\",\"ticks\":\"\"}},\"coloraxis\":{\"colorbar\":{\"outlinewidth\":0,\"ticks\":\"\"}},\"colorscale\":{\"sequential\":[[0.0,\"#0d0887\"],[0.1111111111111111,\"#46039f\"],[0.2222222222222222,\"#7201a8\"],[0.3333333333333333,\"#9c179e\"],[0.4444444444444444,\"#bd3786\"],[0.5555555555555556,\"#d8576b\"],[0.6666666666666666,\"#ed7953\"],[0.7777777777777778,\"#fb9f3a\"],[0.8888888888888888,\"#fdca26\"],[1.0,\"#f0f921\"]],\"sequentialminus\":[[0.0,\"#0d0887\"],[0.1111111111111111,\"#46039f\"],[0.2222222222222222,\"#7201a8\"],[0.3333333333333333,\"#9c179e\"],[0.4444444444444444,\"#bd3786\"],[0.5555555555555556,\"#d8576b\"],[0.6666666666666666,\"#ed7953\"],[0.7777777777777778,\"#fb9f3a\"],[0.8888888888888888,\"#fdca26\"],[1.0,\"#f0f921\"]],\"diverging\":[[0,\"#8e0152\"],[0.1,\"#c51b7d\"],[0.2,\"#de77ae\"],[0.3,\"#f1b6da\"],[0.4,\"#fde0ef\"],[0.5,\"#f7f7f7\"],[0.6,\"#e6f5d0\"],[0.7,\"#b8e186\"],[0.8,\"#7fbc41\"],[0.9,\"#4d9221\"],[1,\"#276419\"]]},\"xaxis\":{\"gridcolor\":\"white\",\"linecolor\":\"white\",\"ticks\":\"\",\"title\":{\"standoff\":15},\"zerolinecolor\":\"white\",\"automargin\":true,\"zerolinewidth\":2},\"yaxis\":{\"gridcolor\":\"white\",\"linecolor\":\"white\",\"ticks\":\"\",\"title\":{\"standoff\":15},\"zerolinecolor\":\"white\",\"automargin\":true,\"zerolinewidth\":2},\"scene\":{\"xaxis\":{\"backgroundcolor\":\"#E5ECF6\",\"gridcolor\":\"white\",\"linecolor\":\"white\",\"showbackground\":true,\"ticks\":\"\",\"zerolinecolor\":\"white\",\"gridwidth\":2},\"yaxis\":{\"backgroundcolor\":\"#E5ECF6\",\"gridcolor\":\"white\",\"linecolor\":\"white\",\"showbackground\":true,\"ticks\":\"\",\"zerolinecolor\":\"white\",\"gridwidth\":2},\"zaxis\":{\"backgroundcolor\":\"#E5ECF6\",\"gridcolor\":\"white\",\"linecolor\":\"white\",\"showbackground\":true,\"ticks\":\"\",\"zerolinecolor\":\"white\",\"gridwidth\":2}},\"shapedefaults\":{\"line\":{\"color\":\"#2a3f5f\"}},\"annotationdefaults\":{\"arrowcolor\":\"#2a3f5f\",\"arrowhead\":0,\"arrowwidth\":1},\"geo\":{\"bgcolor\":\"white\",\"landcolor\":\"#E5ECF6\",\"subunitcolor\":\"white\",\"showland\":true,\"showlakes\":true,\"lakecolor\":\"white\"},\"title\":{\"x\":0.05},\"mapbox\":{\"style\":\"light\"}}},\"xaxis\":{\"anchor\":\"y\",\"domain\":[0.0,1.0]},\"yaxis\":{\"anchor\":\"x\",\"domain\":[0.0,1.0]},\"updatemenus\":[{\"buttons\":[{\"args\":[{\"visible\":[true,false,false,false,false,false,false,false,false,false,false,false,false,false,false,false,false,false,false,false,false,false,false,false,false,false,false,false,false,false]},{\"title\":\"Mean Box Office Revenues by Month of Release for Action & Drama\"}],\"label\":\"Action & Drama\",\"method\":\"update\"},{\"args\":[{\"visible\":[false,true,false,false,false,false,false,false,false,false,false,false,false,false,false,false,false,false,false,false,false,false,false,false,false,false,false,false,false,false]},{\"title\":\"Mean Box Office Revenues by Month of Release for Action\\u002fAdventure & Thriller\"}],\"label\":\"Action\\u002fAdventure & Thriller\",\"method\":\"update\"},{\"args\":[{\"visible\":[false,false,true,false,false,false,false,false,false,false,false,false,false,false,false,false,false,false,false,false,false,false,false,false,false,false,false,false,false,false]},{\"title\":\"Mean Box Office Revenues by Month of Release for Action\\u002fAdventure & Action\"}],\"label\":\"Action\\u002fAdventure & Action\",\"method\":\"update\"},{\"args\":[{\"visible\":[false,false,false,true,false,false,false,false,false,false,false,false,false,false,false,false,false,false,false,false,false,false,false,false,false,false,false,false,false,false]},{\"title\":\"Mean Box Office Revenues by Month of Release for Adventure & Children's\\u002fFamily\"}],\"label\":\"Adventure & Children's\\u002fFamily\",\"method\":\"update\"},{\"args\":[{\"visible\":[false,false,false,false,true,false,false,false,false,false,false,false,false,false,false,false,false,false,false,false,false,false,false,false,false,false,false,false,false,false]},{\"title\":\"Mean Box Office Revenues by Month of Release for Crime Fiction & Thriller\"}],\"label\":\"Crime Fiction & Thriller\",\"method\":\"update\"},{\"args\":[{\"visible\":[false,false,false,false,false,true,false,false,false,false,false,false,false,false,false,false,false,false,false,false,false,false,false,false,false,false,false,false,false,false]},{\"title\":\"Mean Box Office Revenues by Month of Release for Crime Fiction & Comedy film\"}],\"label\":\"Crime Fiction & Comedy film\",\"method\":\"update\"},{\"args\":[{\"visible\":[false,false,false,false,false,false,true,false,false,false,false,false,false,false,false,false,false,false,false,false,false,false,false,false,false,false,false,false,false,false]},{\"title\":\"Mean Box Office Revenues by Month of Release for Crime Fiction & Romance Film\"}],\"label\":\"Crime Fiction & Romance Film\",\"method\":\"update\"},{\"args\":[{\"visible\":[false,false,false,false,false,false,false,true,false,false,false,false,false,false,false,false,false,false,false,false,false,false,false,false,false,false,false,false,false,false]},{\"title\":\"Mean Box Office Revenues by Month of Release for Crime Fiction & Action\"}],\"label\":\"Crime Fiction & Action\",\"method\":\"update\"},{\"args\":[{\"visible\":[false,false,false,false,false,false,false,false,true,false,false,false,false,false,false,false,false,false,false,false,false,false,false,false,false,false,false,false,false,false]},{\"title\":\"Mean Box Office Revenues by Month of Release for Crime Fiction & Mystery\"}],\"label\":\"Crime Fiction & Mystery\",\"method\":\"update\"},{\"args\":[{\"visible\":[false,false,false,false,false,false,false,false,false,true,false,false,false,false,false,false,false,false,false,false,false,false,false,false,false,false,false,false,false,false]},{\"title\":\"Mean Box Office Revenues by Month of Release for Family Film & Comedy\"}],\"label\":\"Family Film & Comedy\",\"method\":\"update\"},{\"args\":[{\"visible\":[false,false,false,false,false,false,false,false,false,false,true,false,false,false,false,false,false,false,false,false,false,false,false,false,false,false,false,false,false,false]},{\"title\":\"Mean Box Office Revenues by Month of Release for Family Film & Drama\"}],\"label\":\"Family Film & Drama\",\"method\":\"update\"},{\"args\":[{\"visible\":[false,false,false,false,false,false,false,false,false,false,false,true,false,false,false,false,false,false,false,false,false,false,false,false,false,false,false,false,false,false]},{\"title\":\"Mean Box Office Revenues by Month of Release for Horror & Slasher\"}],\"label\":\"Horror & Slasher\",\"method\":\"update\"},{\"args\":[{\"visible\":[false,false,false,false,false,false,false,false,false,false,false,false,true,false,false,false,false,false,false,false,false,false,false,false,false,false,false,false,false,false]},{\"title\":\"Mean Box Office Revenues by Month of Release for Romance Film & Comedy\"}],\"label\":\"Romance Film & Comedy\",\"method\":\"update\"},{\"args\":[{\"visible\":[false,false,false,false,false,false,false,false,false,false,false,false,false,true,false,false,false,false,false,false,false,false,false,false,false,false,false,false,false,false]},{\"title\":\"Mean Box Office Revenues by Month of Release for Romance Film & Comedy film\"}],\"label\":\"Romance Film & Comedy film\",\"method\":\"update\"},{\"args\":[{\"visible\":[false,false,false,false,false,false,false,false,false,false,false,false,false,false,true,false,false,false,false,false,false,false,false,false,false,false,false,false,false,false]},{\"title\":\"Mean Box Office Revenues by Month of Release for Romantic comedy & Romance Film\"}],\"label\":\"Romantic comedy & Romance Film\",\"method\":\"update\"},{\"args\":[{\"visible\":[false,false,false,false,false,false,false,false,false,false,false,false,false,false,false,true,false,false,false,false,false,false,false,false,false,false,false,false,false,false]},{\"title\":\"Mean Box Office Revenues by Month of Release for Romantic comedy & World cinema\"}],\"label\":\"Romantic comedy & World cinema\",\"method\":\"update\"},{\"args\":[{\"visible\":[false,false,false,false,false,false,false,false,false,false,false,false,false,false,false,false,true,false,false,false,false,false,false,false,false,false,false,false,false,false]},{\"title\":\"Mean Box Office Revenues by Month of Release for Romantic drama & Romance Film\"}],\"label\":\"Romantic drama & Romance Film\",\"method\":\"update\"},{\"args\":[{\"visible\":[false,false,false,false,false,false,false,false,false,false,false,false,false,false,false,false,false,true,false,false,false,false,false,false,false,false,false,false,false,false]},{\"title\":\"Mean Box Office Revenues by Month of Release for Science Fiction & Action\"}],\"label\":\"Science Fiction & Action\",\"method\":\"update\"},{\"args\":[{\"visible\":[false,false,false,false,false,false,false,false,false,false,false,false,false,false,false,false,false,false,true,false,false,false,false,false,false,false,false,false,false,false]},{\"title\":\"Mean Box Office Revenues by Month of Release for Science Fiction & Adventure\"}],\"label\":\"Science Fiction & Adventure\",\"method\":\"update\"},{\"args\":[{\"visible\":[false,false,false,false,false,false,false,false,false,false,false,false,false,false,false,false,false,false,false,true,false,false,false,false,false,false,false,false,false,false]},{\"title\":\"Mean Box Office Revenues by Month of Release for Sports & Drama\"}],\"label\":\"Sports & Drama\",\"method\":\"update\"},{\"args\":[{\"visible\":[false,false,false,false,false,false,false,false,false,false,false,false,false,false,false,false,false,false,false,false,true,false,false,false,false,false,false,false,false,false]},{\"title\":\"Mean Box Office Revenues by Month of Release for Thriller & Science Fiction\"}],\"label\":\"Thriller & Science Fiction\",\"method\":\"update\"},{\"args\":[{\"visible\":[false,false,false,false,false,false,false,false,false,false,false,false,false,false,false,false,false,false,false,false,false,true,false,false,false,false,false,false,false,false]},{\"title\":\"Mean Box Office Revenues by Month of Release for Thriller & Action Thrillers\"}],\"label\":\"Thriller & Action Thrillers\",\"method\":\"update\"},{\"args\":[{\"visible\":[false,false,false,false,false,false,false,false,false,false,false,false,false,false,false,false,false,false,false,false,false,false,true,false,false,false,false,false,false,false]},{\"title\":\"Mean Box Office Revenues by Month of Release for Thriller & Action\\u002fAdventure\"}],\"label\":\"Thriller & Action\\u002fAdventure\",\"method\":\"update\"},{\"args\":[{\"visible\":[false,false,false,false,false,false,false,false,false,false,false,false,false,false,false,false,false,false,false,false,false,false,false,true,false,false,false,false,false,false]},{\"title\":\"Mean Box Office Revenues by Month of Release for Thriller & Crime Fiction\"}],\"label\":\"Thriller & Crime Fiction\",\"method\":\"update\"},{\"args\":[{\"visible\":[false,false,false,false,false,false,false,false,false,false,false,false,false,false,false,false,false,false,false,false,false,false,false,false,true,false,false,false,false,false]},{\"title\":\"Mean Box Office Revenues by Month of Release for Thriller & Horror\"}],\"label\":\"Thriller & Horror\",\"method\":\"update\"},{\"args\":[{\"visible\":[false,false,false,false,false,false,false,false,false,false,false,false,false,false,false,false,false,false,false,false,false,false,false,false,false,true,false,false,false,false]},{\"title\":\"Mean Box Office Revenues by Month of Release for Thriller & Mystery\"}],\"label\":\"Thriller & Mystery\",\"method\":\"update\"},{\"args\":[{\"visible\":[false,false,false,false,false,false,false,false,false,false,false,false,false,false,false,false,false,false,false,false,false,false,false,false,false,false,true,false,false,false]},{\"title\":\"Mean Box Office Revenues by Month of Release for Thriller & Crime Thriller\"}],\"label\":\"Thriller & Crime Thriller\",\"method\":\"update\"},{\"args\":[{\"visible\":[false,false,false,false,false,false,false,false,false,false,false,false,false,false,false,false,false,false,false,false,false,false,false,false,false,false,false,true,false,false]},{\"title\":\"Mean Box Office Revenues by Month of Release for Thriller & Drama\"}],\"label\":\"Thriller & Drama\",\"method\":\"update\"},{\"args\":[{\"visible\":[false,false,false,false,false,false,false,false,false,false,false,false,false,false,false,false,false,false,false,false,false,false,false,false,false,false,false,false,true,false]},{\"title\":\"Mean Box Office Revenues by Month of Release for Thriller & Action\"}],\"label\":\"Thriller & Action\",\"method\":\"update\"},{\"args\":[{\"visible\":[false,false,false,false,false,false,false,false,false,false,false,false,false,false,false,false,false,false,false,false,false,false,false,false,false,false,false,false,false,true]},{\"title\":\"Mean Box Office Revenues by Month of Release for Thriller & World cinema\"}],\"label\":\"Thriller & World cinema\",\"method\":\"update\"}],\"direction\":\"down\",\"pad\":{\"r\":10,\"t\":10},\"showactive\":true,\"type\":\"dropdown\",\"x\":1.1,\"xanchor\":\"left\",\"y\":1.2,\"yanchor\":\"top\"}]},                        {\"responsive\": true}                    ).then(function(){\n",
       "                            \n",
       "var gd = document.getElementById('8403219f-dee8-433c-81b0-4d248a83647d');\n",
       "var x = new MutationObserver(function (mutations, observer) {{\n",
       "        var display = window.getComputedStyle(gd).display;\n",
       "        if (!display || display === 'none') {{\n",
       "            console.log([gd, 'removed!']);\n",
       "            Plotly.purge(gd);\n",
       "            observer.disconnect();\n",
       "        }}\n",
       "}});\n",
       "\n",
       "// Listen for the removal of the full notebook cells\n",
       "var notebookContainer = gd.closest('#notebook-container');\n",
       "if (notebookContainer) {{\n",
       "    x.observe(notebookContainer, {childList: true});\n",
       "}}\n",
       "\n",
       "// Listen for the clearing of the current output cell\n",
       "var outputEl = gd.closest('.output');\n",
       "if (outputEl) {{\n",
       "    x.observe(outputEl, {childList: true});\n",
       "}}\n",
       "\n",
       "                        })                };                });            </script>        </div>"
      ]
     },
     "metadata": {},
     "output_type": "display_data"
    }
   ],
   "source": [
    "# Calculate mean revenue for each genre pair\n",
    "genre_pair_mean_revenue = df_mov1.groupby(['Main_genre', 'Sec_Genre'])['Movie_revenue'].mean().reset_index()\n",
    "\n",
    "# Merge this mean revenue with the original df_mov1 on 'Main_genre' and 'Sec_Genre'\n",
    "df_mov1 = df_mov1.merge(genre_pair_mean_revenue, on=['Main_genre', 'Sec_Genre'], suffixes=('', '_mean'))\n",
    "\n",
    "# Fill NaN values in 'Movie_revenue' with the mean revenue of the genre pairs\n",
    "df_mov1['Movie_revenue'] = df_mov1['Movie_revenue'].fillna(df_mov1['Movie_revenue_mean'])\n",
    "\n",
    "# Drop the auxiliary 'Movie_revenue_mean' as it's no longer needed after the NaN values are filled\n",
    "df_mov1.drop(columns=['Movie_revenue_mean'], inplace=True)\n",
    "\n",
    "# Drop rows where either 'Main_genre' or 'Secondary_Genre' is NaN\n",
    "df_genre_pairs = df_mov1.dropna(subset=['Main_genre', 'Sec_Genre'])\n",
    "\n",
    "# Drop rows where either 'Main_genre' or 'Secondary_Genre' is 'Short Film'\n",
    "df_genre_pairs = df_genre_pairs[(df_genre_pairs['Main_genre'] != 'Short Film') & (df_genre_pairs['Sec_Genre'] != 'Short Film')]\n",
    "\n",
    "month_dict = {\n",
    "    1: \"January\", 2: \"February\", 3: \"March\", 4: \"April\", 5: \"May\", 6: \"June\",\n",
    "    7: \"July\", 8: \"August\", 9: \"September\", 10: \"October\", 11: \"November\", 12: \"December\"\n",
    "}\n",
    "\n",
    "# Create the 'genre_pairs_aggregated' DataFrame with 'count' and 'mean_revenue' as columns\n",
    "genre_pairs_aggregated = df_genre_pairs.groupby(['Main_genre', 'Sec_Genre']).agg(\n",
    "    count=('Wiki_ID', 'size'), \n",
    "    mean_revenue=('Movie_revenue', 'mean')\n",
    ").reset_index()\n",
    "\n",
    "top_30_genre_pairs = genre_pairs_aggregated[genre_pairs_aggregated['count'] >= 150].sort_values(by='mean_revenue', ascending=False).head(30)\n",
    "\n",
    "# Sort the top_30_genre_pairs list alphabetically by main genre only# 'top_30_genre_pairs' would be a DataFrame here, you need to extract the genre pairs as a list of tuples\n",
    "top_30_genre_pairs_list = top_30_genre_pairs[['Main_genre', 'Sec_Genre']].values.tolist()\n",
    "\n",
    "# Then, sort the list of tuples based on the main genre\n",
    "top_30_genre_pairs_sorted_by_main_genre = sorted(top_30_genre_pairs_list, key=lambda x: x[0])\n",
    "\n",
    "# Create an empty subplot\n",
    "fig = make_subplots(rows=1, cols=1, shared_yaxes=True)\n",
    "\n",
    "# Loop through each of the top 30 genre pairs\n",
    "for main_genre, secondary_genre in top_30_genre_pairs_sorted_by_main_genre:\n",
    "    pair_data = df_mov1[(df_mov1['Main_genre'] == main_genre) & (df_mov1['Sec_Genre'] == secondary_genre)]\n",
    "    month_mean_revenues = pair_data.groupby('Month_of_release')['Movie_revenue'].mean().reset_index()\n",
    "    month_mean_revenues['Month_of_release'] = month_mean_revenues['Month_of_release'].replace(month_dict)\n",
    "\n",
    "    trace = go.Bar(x=month_mean_revenues['Month_of_release'],\n",
    "                   y=month_mean_revenues['Movie_revenue'],\n",
    "                   name=f\"{main_genre} & {secondary_genre}\",\n",
    "                   opacity=1,\n",
    "                   marker_color=px.colors.sequential.Plasma_r)\n",
    "\n",
    "    fig.add_trace(trace)\n",
    "\n",
    "# Create dropdown menu to switch between the sorted genre pairs\n",
    "dropdown = []\n",
    "for i, (main_genre, secondary_genre) in enumerate(top_30_genre_pairs_sorted_by_main_genre):\n",
    "    # Each trace corresponds to a genre pair\n",
    "    # For each button, only the corresponding trace should be visible\n",
    "    visibility = [False] * len(top_30_genre_pairs_sorted_by_main_genre)\n",
    "    visibility[i] = True  # Only the current trace is visible\n",
    "    \n",
    "    option = dict(label=f\"{main_genre} & {secondary_genre}\",\n",
    "                  method='update',\n",
    "                  args=[{'visible': visibility},\n",
    "                        {'title': f'Mean Box Office Revenues by Month of Release for {main_genre} & {secondary_genre}'}])\n",
    "    dropdown.append(option)\n",
    "\n",
    "# Update layout with the sorted dropdown\n",
    "fig.update_layout(\n",
    "    updatemenus=[dict(\n",
    "        type='dropdown',\n",
    "        showactive=True,\n",
    "        buttons=dropdown,  # Use the sorted dropdown list here\n",
    "        direction=\"down\",\n",
    "        pad={\"r\": 10, \"t\": 10},\n",
    "        x=1.1,\n",
    "        xanchor=\"left\",\n",
    "        y=1.2,\n",
    "        yanchor=\"top\"\n",
    "    )],\n",
    "    # ... (keep the rest of your layout configuration as is)\n",
    ")\n",
    "\n",
    "# Update to ensure that the first genre pair from the sorted list is set as the default visible trace\n",
    "fig.data[0].visible = True  # This assumes the first trace in fig corresponds to the first pair in the sorted list\n",
    "\n",
    "fig.show()\n"
   ]
  },
  {
   "cell_type": "markdown",
   "metadata": {},
   "source": [
    "## 2. Merging all our tables :"
   ]
  },
  {
   "cell_type": "code",
   "execution_count": 35,
   "metadata": {
    "tags": []
   },
   "outputs": [],
   "source": [
    "df_mov_rel = df_mov.copy()\n",
    "df_mov_rel['Movie_release'] = df_mov_rel['Movie_release'].apply(lambda x: float(str(x).split('-')[0]))"
   ]
  },
  {
   "cell_type": "code",
   "execution_count": 36,
   "metadata": {
    "collapsed": true,
    "jupyter": {
     "outputs_hidden": true
    },
    "tags": []
   },
   "outputs": [
    {
     "name": "stdout",
     "output_type": "stream",
     "text": [
      "81741\n",
      "0        2001.0\n",
      "1        2000.0\n",
      "2        1988.0\n",
      "3        1987.0\n",
      "4        1983.0\n",
      "          ...  \n",
      "81736    2011.0\n",
      "81737    2011.0\n",
      "81738    1972.0\n",
      "81739    1992.0\n",
      "81740    2002.0\n",
      "Name: Movie_release, Length: 81741, dtype: float64\n"
     ]
    },
    {
     "data": {
      "text/plain": [
       "Index(['Wiki_ID', 'Freebase_ID', 'Movie_name', 'Movie_release',\n",
       "       'Movie_revenue', 'Movie_runtime', 'Movie_languages', 'Movie_countries',\n",
       "       'Movie_genres', 'Genre_dict', 'Main_genre', 'Sec_Genre', 'imdb_rating',\n",
       "       'type', 'popular_title', 'original_title', 'movie_start_year',\n",
       "       'movie_end_year', 'runtime_min', 'genres', 'Producer', 'Composer',\n",
       "       'director', 'dir_birth', 'dir_death', 'dir_known_titles', 'writer',\n",
       "       'writer_birth', 'writer_death', 'writer_know_titles'],\n",
       "      dtype='object')"
      ]
     },
     "execution_count": 36,
     "metadata": {},
     "output_type": "execute_result"
    }
   ],
   "source": [
    "df_imdb = pd.read_table('data/imdb_dataV2.tsv')\n",
    "df_movie = df_mov_rel.merge(df_imdb, left_on=['Movie_name','Movie_release'], right_on=['popular_title','movie_start_year'], how='left')\n",
    "print(len(df_movie))\n",
    "print(df_movie['Movie_release'])\n",
    "df_movie.columns"
   ]
  },
  {
   "cell_type": "code",
   "execution_count": 37,
   "metadata": {
    "collapsed": true,
    "jupyter": {
     "outputs_hidden": true
    },
    "tags": []
   },
   "outputs": [
    {
     "name": "stdout",
     "output_type": "stream",
     "text": [
      "81741\n",
      "0        2001.0\n",
      "1        2000.0\n",
      "2        1988.0\n",
      "3        1987.0\n",
      "4        1983.0\n",
      "          ...  \n",
      "81736    2011.0\n",
      "81737    2011.0\n",
      "81738    1972.0\n",
      "81739    1992.0\n",
      "81740    2002.0\n",
      "Name: Movie_release, Length: 81741, dtype: float64\n"
     ]
    },
    {
     "data": {
      "text/plain": [
       "Index(['Wiki_ID', 'Movie_name', 'Movie_release', 'Movie_revenue',\n",
       "       'Movie_runtime', 'Movie_countries', 'Genre_dict', 'Main_genre',\n",
       "       'Sec_Genre', 'imdb_rating', 'runtime_min', 'Producer', 'Composer',\n",
       "       'director', 'dir_birth', 'writer', 'writer_birth'],\n",
       "      dtype='object')"
      ]
     },
     "execution_count": 37,
     "metadata": {},
     "output_type": "execute_result"
    }
   ],
   "source": [
    "df_movie = df_movie.drop(['type', 'popular_title','original_title','writer_death','dir_known_titles','genres','writer_death'\n",
    "             ,'writer_know_titles','Movie_languages', 'Freebase_ID','dir_death','movie_end_year','movie_start_year','Movie_genres'], axis=1)\n",
    "print(len(df_movie))\n",
    "print(df_movie['Movie_release'])\n",
    "df_movie.columns"
   ]
  },
  {
   "cell_type": "code",
   "execution_count": 38,
   "metadata": {
    "collapsed": true,
    "jupyter": {
     "outputs_hidden": true
    },
    "tags": []
   },
   "outputs": [
    {
     "name": "stdout",
     "output_type": "stream",
     "text": [
      "450669\n",
      "0         2001.0\n",
      "1         2001.0\n",
      "2         2001.0\n",
      "3         2001.0\n",
      "4         2001.0\n",
      "           ...  \n",
      "450664    1992.0\n",
      "450665    1992.0\n",
      "450666    1957.0\n",
      "450667    1957.0\n",
      "450668    1957.0\n",
      "Name: Movie_release_x, Length: 450669, dtype: float64\n"
     ]
    },
    {
     "data": {
      "text/plain": [
       "Index(['Wiki_ID', 'Movie_name', 'Movie_release_x', 'Movie_revenue',\n",
       "       'Movie_runtime', 'Movie_countries', 'Genre_dict', 'Main_genre',\n",
       "       'Sec_Genre', 'imdb_rating', 'runtime_min', 'Producer', 'Composer',\n",
       "       'director', 'dir_birth', 'writer', 'writer_birth', 'Freebase_ID',\n",
       "       'Movie_release_y', 'Char_name', 'Actor_birth', 'Actor_gender',\n",
       "       'Actor_height', 'Actor_ethnicity', 'Actor_name', 'Actor_age_release',\n",
       "       'Char/Actor_map', 'Char_ID', 'Actor_ID'],\n",
       "      dtype='object')"
      ]
     },
     "execution_count": 38,
     "metadata": {},
     "output_type": "execute_result"
    }
   ],
   "source": [
    "df_movie = df_movie.merge(df_char, left_on='Wiki_ID', right_on='Wiki_ID', how='right')\n",
    "print(len(df_movie))\n",
    "print(df_movie['Movie_release_x'])\n",
    "\n",
    "df_movie.columns"
   ]
  },
  {
   "cell_type": "code",
   "execution_count": 40,
   "metadata": {
    "tags": []
   },
   "outputs": [
    {
     "name": "stdout",
     "output_type": "stream",
     "text": [
      "100661\n",
      "0         2001.0\n",
      "1         2001.0\n",
      "2         2001.0\n",
      "3         2001.0\n",
      "4         2001.0\n",
      "           ...  \n",
      "450561    1964.0\n",
      "450562    1964.0\n",
      "450563    1964.0\n",
      "450601    2011.0\n",
      "450602    2011.0\n",
      "Name: Movie_release_x, Length: 100661, dtype: float64\n"
     ]
    }
   ],
   "source": [
    "df_movie = df_movie.drop(['Actor_ID','Wiki_ID','Char/Actor_map','writer_birth','dir_birth','Char_ID','Movie_release_y'],axis =1 )\n",
    "print(len(df_movie))\n",
    "print(df_movie['Movie_release_x'])"
   ]
  },
  {
   "cell_type": "code",
   "execution_count": 41,
   "metadata": {
    "tags": []
   },
   "outputs": [
    {
     "name": "stdout",
     "output_type": "stream",
     "text": [
      "100661\n"
     ]
    },
    {
     "data": {
      "image/png": "[encoded data removed]",
      "text/plain": [
       "<Figure size 2500x1000 with 2 Axes>"
      ]
     },
     "metadata": {},
     "output_type": "display_data"
    }
   ],
   "source": [
    "df_movie = df_movie.dropna(subset=['Actor_name','Movie_name','Movie_revenue','Movie_release_x'])\n",
    "msno.matrix(df_movie)\n",
    "print(len(df_movie))\n"
   ]
  },
  {
   "cell_type": "markdown",
   "metadata": {},
   "source": [
    "## 3. Add new columns derived on our data"
   ]
  },
  {
   "cell_type": "code",
   "execution_count": 42,
   "metadata": {
    "tags": []
   },
   "outputs": [],
   "source": [
    "data = {\n",
    "    'year': [\n",
    "        2022, 2021, 2020, 2019, 2018, 2017, 2016, 2015, 2014, 2013, 2012, \n",
    "        2011, 2010, 2009, 2008, 2007, 2006, 2005, 2004, 2003, 2002, 2001, \n",
    "        2000, 1999, 1998, 1997, 1996, 1995, 1994, 1993, 1992, 1991, 1990, \n",
    "        1989, 1988, 1987, 1986, 1985, 1984, 1983, 1982, 1981, 1980, 1979, \n",
    "        1978, 1977, 1976, 1975, 1974, 1973, 1972, 1971, 1970, 1969, 1968, \n",
    "        1967, 1966, 1965, 1964, 1963, 1962, 1961, 1960\n",
    "    ],\n",
    "    'inflation_factor': [\n",
    "        8.00, 4.70, 1.23, 1.81, 2.44, 2.13, 1.26, 0.12, 1.62, 1.46, 2.07,\n",
    "        3.16, 1.64, -0.36, 3.84, 2.85, 3.23, 3.39, 2.68, 2.27, 1.59, 2.83,\n",
    "        3.38, 2.19, 1.55, 2.34, 2.93, 2.81, 2.61, 2.95, 3.03, 4.24, 5.40,\n",
    "        4.83, 4.08, 3.66, 1.90, 3.55, 4.30, 3.21, 6.13, 10.33, 13.55, 11.25,\n",
    "        7.63, 6.50, 5.74, 9.14, 11.05, 6.18, 3.27, 4.29, 5.84, 5.46, 4.27,\n",
    "        2.77, 3.02, 1.59, 1.28, 1.24, 1.20, 1.07, 1.46\n",
    "    ]\n",
    "}\n",
    "\n",
    "#From https://www.macrotrends.net/countries/USA/united-states/inflation-rate-cpi website\n",
    "df_inflation = pd.DataFrame(data)"
   ]
  },
  {
   "cell_type": "code",
   "execution_count": 43,
   "metadata": {
    "tags": []
   },
   "outputs": [],
   "source": [
    "#def standardize_revenue(row, inflation_data):\n",
    "#    if pd.isnull(row['Movie_revenue']):\n",
    "#        return row['Mo\n",
    "#        year = row['movie_start_year']\n",
    "#        inflation_factor = inflation_data.loc[inflation_data['year'] == year, 'inflation_factor'].values[0]\n",
    "#        return row['Movie_revenue'] * inflation_factorvie_revenue']\n",
    "#    else:\n",
    "    \n",
    "def calculate_avg_revenue(row, grouped_data):\n",
    "    previous_films = grouped_data.get_group(row['Actor_name'])\n",
    "    previous_films = previous_films[previous_films['Movie_release_x'] <= row['Movie_release_x']]\n",
    "    if previous_films.empty:\n",
    "        return np.nan\n",
    "    else:\n",
    "        return previous_films['Movie_revenue'].mean()\n",
    "    \n",
    "def calculate_longevity(row, grouped_data):\n",
    "    first_film_date = grouped_data.get_group(row['Actor_name'])['Movie_release_x'].min()\n",
    "    if (len(grouped_data.get_group(row['Actor_name'])['Movie_release_x']) == 0) : \n",
    "        return 0\n",
    "    elif first_film_date == np.nan : \n",
    "        return np.nan\n",
    "    else :\n",
    "        return row['Movie_release_x'] - first_film_date\n",
    "\n",
    "def calculate_films_count(row, grouped_data):\n",
    "    previous_films = grouped_data.get_group(row['Actor_name'])\n",
    "    return previous_films[previous_films['Movie_release_x'] <= row['Movie_release_x']].shape[0]\n",
    "\n",
    "def calculate_avg_rating(row, grouped_data):\n",
    "    previous_films = grouped_data.get_group(row['Actor_name'])\n",
    "    previous_films = previous_films[previous_films['Movie_release_x'] <= row['Movie_release_x']]\n",
    "    if previous_films.empty:\n",
    "        return np.nan\n",
    "    else:\n",
    "        return previous_films['imdb_rating'].mean()\n",
    "\n",
    "#def calculate_preferred_genre(row, grouped_data):\n",
    "#    previous_films = grouped_data.get_group(row['Actor_name'])\n",
    "#    previous_films = previous_films[previous_films['Movie_release'] < row['Movie_release']]\n",
    "#    if previous_films.empty:\n",
    "#        return np.nan\n",
    "#    else:\n",
    "#       genres = previous_films['Main_genre'].append(previous_films['Sec_Genre']).reset_index(drop=True)\n",
    "#        return genres.value_counts().idxmax()"
   ]
  },
  {
   "cell_type": "code",
   "execution_count": 44,
   "metadata": {
    "tags": []
   },
   "outputs": [],
   "source": [
    "# Assuming 'Movies_countries' is a column that you haven't listed in df_movie.columns but exists in your DataFrame\n",
    "df_movie = df_movie[df_movie['Movie_countries'].str.contains(\"United States of America\")]\n",
    "\n",
    "# Function to standardize revenue\n",
    "#df_movie['Movie_revenue'] = df_movie.apply(lambda row: standardize_revenue(row, df_inflation), axis=1)\n",
    "\n",
    "#Create the actors subgroups\n",
    "grouped_by_actor = df_movie.groupby('Actor_name')\n",
    "\n",
    "#Create the new columns\n",
    "df_movie['Avg_revenue_per_film_at_release'] = df_movie.apply(lambda row: calculate_avg_revenue(row, grouped_by_actor), axis=1)\n",
    "df_movie['Longevity'] = df_movie.apply(lambda row: calculate_longevity(row, grouped_by_actor), axis=1)\n",
    "df_movie['Number_of_film_at_release'] = df_movie.apply(lambda row: calculate_films_count(row, grouped_by_actor), axis=1)\n",
    "df_movie['Avg_rating_per_film_at_release'] = df_movie.apply(lambda row: calculate_avg_rating(row, grouped_by_actor), axis=1)\n",
    "#df_movie['Preferred_genre'] = df_movie.apply(lambda row: calculate_preferred_genre(row, grouped_by_actor), axis=1)\n",
    "\n",
    "\n"
   ]
  },
  {
   "cell_type": "code",
   "execution_count": 45,
   "metadata": {
    "tags": []
   },
   "outputs": [],
   "source": [
    "# Ensure that Movie_release is sorted in ascending order for each actor\n",
    "df_movie = df_movie.sort_values(by=['Actor_name', 'Movie_release_x'])\n",
    "\n",
    "# Group by Actor_name and count the films in each group\n",
    "df_movie['film_count'] = df_movie.groupby('Actor_name').cumcount()\n",
    "\n",
    "# Add a new column 'First_film' which is True if 'film_count' is zero (first film for the actor)\n",
    "df_movie['First_film'] = df_movie['film_count'] == 0\n",
    "# Group by Actor_name and get the first release year for each actor\n",
    "df_movie['first_movie_year'] = df_movie.groupby('Actor_name')['Movie_release_x'].transform('min')\n",
    "# Create a new column 'First_film' which is True if 'Movie_release' is the same as 'first_movie_year'\n",
    "df_movie['First_film'] = df_movie['Movie_release_x'] == df_movie['first_movie_year']\n",
    "\n",
    "df_movie.drop('first_movie_year', axis=1, inplace=True)\n",
    "df_movie.drop('film_count', axis=1, inplace=True)"
   ]
  },
  {
   "cell_type": "code",
   "execution_count": 42,
   "metadata": {
    "collapsed": true,
    "jupyter": {
     "outputs_hidden": true
    },
    "tags": []
   },
   "outputs": [
    {
     "data": {
      "text/html": [
       "<div>\n",
       "<style scoped>\n",
       "    .dataframe tbody tr th:only-of-type {\n",
       "        vertical-align: middle;\n",
       "    }\n",
       "\n",
       "    .dataframe tbody tr th {\n",
       "        vertical-align: top;\n",
       "    }\n",
       "\n",
       "    .dataframe thead th {\n",
       "        text-align: right;\n",
       "    }\n",
       "</style>\n",
       "<table border=\"1\" class=\"dataframe\">\n",
       "  <thead>\n",
       "    <tr style=\"text-align: right;\">\n",
       "      <th></th>\n",
       "      <th>Movie_name</th>\n",
       "      <th>Movie_release_x</th>\n",
       "      <th>Movie_revenue</th>\n",
       "      <th>Movie_runtime</th>\n",
       "      <th>Movie_countries</th>\n",
       "      <th>Genre_dict</th>\n",
       "      <th>Main_genre</th>\n",
       "      <th>Sec_Genre</th>\n",
       "      <th>imdb_rating</th>\n",
       "      <th>runtime_min</th>\n",
       "      <th>...</th>\n",
       "      <th>Actor_gender</th>\n",
       "      <th>Actor_height</th>\n",
       "      <th>Actor_ethnicity</th>\n",
       "      <th>Actor_name</th>\n",
       "      <th>Actor_age_release</th>\n",
       "      <th>Avg_revenue_per_film_at_release</th>\n",
       "      <th>Longevity</th>\n",
       "      <th>Number_of_film_at_release</th>\n",
       "      <th>Avg_rating_per_film_at_release</th>\n",
       "      <th>First_film</th>\n",
       "    </tr>\n",
       "  </thead>\n",
       "  <tbody>\n",
       "    <tr>\n",
       "      <th>147120</th>\n",
       "      <td>Turn It Up</td>\n",
       "      <td>2000.0</td>\n",
       "      <td>1247949.0</td>\n",
       "      <td>87.0</td>\n",
       "      <td>{\"/m/09c7w0\": \"United States of America\"}</td>\n",
       "      <td>{'/m/0lsxr': 'Crime Fiction', '/m/04t36': 'Mus...</td>\n",
       "      <td>Crime Fiction</td>\n",
       "      <td>Musical</td>\n",
       "      <td>4.1</td>\n",
       "      <td>86.0</td>\n",
       "      <td>...</td>\n",
       "      <td>M</td>\n",
       "      <td>1.75</td>\n",
       "      <td>NaN</td>\n",
       "      <td>Jason Statham</td>\n",
       "      <td>32.0</td>\n",
       "      <td>4.240291e+07</td>\n",
       "      <td>0.0</td>\n",
       "      <td>2</td>\n",
       "      <td>6.150000</td>\n",
       "      <td>True</td>\n",
       "    </tr>\n",
       "    <tr>\n",
       "      <th>273026</th>\n",
       "      <td>Snatch</td>\n",
       "      <td>2000.0</td>\n",
       "      <td>83557872.0</td>\n",
       "      <td>103.0</td>\n",
       "      <td>{\"/m/09c7w0\": \"United States of America\", \"/m/...</td>\n",
       "      <td>{'/m/0lsxr': 'Crime Fiction', '/m/01jfsb': 'Th...</td>\n",
       "      <td>Crime Fiction</td>\n",
       "      <td>Thriller</td>\n",
       "      <td>8.2</td>\n",
       "      <td>104.0</td>\n",
       "      <td>...</td>\n",
       "      <td>M</td>\n",
       "      <td>1.75</td>\n",
       "      <td>NaN</td>\n",
       "      <td>Jason Statham</td>\n",
       "      <td>32.0</td>\n",
       "      <td>4.240291e+07</td>\n",
       "      <td>0.0</td>\n",
       "      <td>2</td>\n",
       "      <td>6.150000</td>\n",
       "      <td>True</td>\n",
       "    </tr>\n",
       "    <tr>\n",
       "      <th>3</th>\n",
       "      <td>Ghosts of Mars</td>\n",
       "      <td>2001.0</td>\n",
       "      <td>14010832.0</td>\n",
       "      <td>98.0</td>\n",
       "      <td>{\"/m/09c7w0\": \"United States of America\"}</td>\n",
       "      <td>{'/m/01jfsb': 'Thriller', '/m/06n90': 'Science...</td>\n",
       "      <td>Thriller</td>\n",
       "      <td>Science Fiction</td>\n",
       "      <td>4.9</td>\n",
       "      <td>98.0</td>\n",
       "      <td>...</td>\n",
       "      <td>M</td>\n",
       "      <td>1.75</td>\n",
       "      <td>NaN</td>\n",
       "      <td>Jason Statham</td>\n",
       "      <td>33.0</td>\n",
       "      <td>3.576320e+07</td>\n",
       "      <td>1.0</td>\n",
       "      <td>5</td>\n",
       "      <td>5.900000</td>\n",
       "      <td>False</td>\n",
       "    </tr>\n",
       "    <tr>\n",
       "      <th>130142</th>\n",
       "      <td>Mean Machine</td>\n",
       "      <td>2001.0</td>\n",
       "      <td>7310206.0</td>\n",
       "      <td>98.0</td>\n",
       "      <td>{\"/m/09c7w0\": \"United States of America\", \"/m/...</td>\n",
       "      <td>{'/m/01z02hx': 'Sports', '/m/07s9rl0': 'Drama'...</td>\n",
       "      <td>Sports</td>\n",
       "      <td>Drama</td>\n",
       "      <td>6.4</td>\n",
       "      <td>99.0</td>\n",
       "      <td>...</td>\n",
       "      <td>M</td>\n",
       "      <td>1.75</td>\n",
       "      <td>NaN</td>\n",
       "      <td>Jason Statham</td>\n",
       "      <td>34.0</td>\n",
       "      <td>3.576320e+07</td>\n",
       "      <td>1.0</td>\n",
       "      <td>5</td>\n",
       "      <td>5.900000</td>\n",
       "      <td>False</td>\n",
       "    </tr>\n",
       "    <tr>\n",
       "      <th>212758</th>\n",
       "      <td>The One</td>\n",
       "      <td>2001.0</td>\n",
       "      <td>72689126.0</td>\n",
       "      <td>85.0</td>\n",
       "      <td>{\"/m/09c7w0\": \"United States of America\"}</td>\n",
       "      <td>{'/m/01jfsb': 'Thriller', '/m/06n90': 'Science...</td>\n",
       "      <td>Thriller</td>\n",
       "      <td>Science Fiction</td>\n",
       "      <td>5.9</td>\n",
       "      <td>87.0</td>\n",
       "      <td>...</td>\n",
       "      <td>M</td>\n",
       "      <td>1.75</td>\n",
       "      <td>NaN</td>\n",
       "      <td>Jason Statham</td>\n",
       "      <td>34.0</td>\n",
       "      <td>3.576320e+07</td>\n",
       "      <td>1.0</td>\n",
       "      <td>5</td>\n",
       "      <td>5.900000</td>\n",
       "      <td>False</td>\n",
       "    </tr>\n",
       "    <tr>\n",
       "      <th>350092</th>\n",
       "      <td>The Transporter</td>\n",
       "      <td>2002.0</td>\n",
       "      <td>43928932.0</td>\n",
       "      <td>94.0</td>\n",
       "      <td>{\"/m/0f8l9c\": \"France\", \"/m/09c7w0\": \"United S...</td>\n",
       "      <td>{'/m/01jfsb': 'Thriller', '/m/0cq22f9': 'Actio...</td>\n",
       "      <td>Thriller</td>\n",
       "      <td>Action Thrillers</td>\n",
       "      <td>NaN</td>\n",
       "      <td>NaN</td>\n",
       "      <td>...</td>\n",
       "      <td>M</td>\n",
       "      <td>1.75</td>\n",
       "      <td>NaN</td>\n",
       "      <td>Jason Statham</td>\n",
       "      <td>35.0</td>\n",
       "      <td>3.712415e+07</td>\n",
       "      <td>2.0</td>\n",
       "      <td>6</td>\n",
       "      <td>5.900000</td>\n",
       "      <td>False</td>\n",
       "    </tr>\n",
       "    <tr>\n",
       "      <th>201341</th>\n",
       "      <td>The Italian Job</td>\n",
       "      <td>2003.0</td>\n",
       "      <td>176070171.0</td>\n",
       "      <td>111.0</td>\n",
       "      <td>{\"/m/09c7w0\": \"United States of America\", \"/m/...</td>\n",
       "      <td>{'/m/0lsxr': 'Crime Fiction', '/m/01jfsb': 'Th...</td>\n",
       "      <td>Crime Fiction</td>\n",
       "      <td>Thriller</td>\n",
       "      <td>7.0</td>\n",
       "      <td>111.0</td>\n",
       "      <td>...</td>\n",
       "      <td>M</td>\n",
       "      <td>1.75</td>\n",
       "      <td>NaN</td>\n",
       "      <td>Jason Statham</td>\n",
       "      <td>35.0</td>\n",
       "      <td>5.697358e+07</td>\n",
       "      <td>3.0</td>\n",
       "      <td>7</td>\n",
       "      <td>6.083333</td>\n",
       "      <td>False</td>\n",
       "    </tr>\n",
       "    <tr>\n",
       "      <th>198986</th>\n",
       "      <td>Collateral</td>\n",
       "      <td>2004.0</td>\n",
       "      <td>217764291.0</td>\n",
       "      <td>120.0</td>\n",
       "      <td>{\"/m/09c7w0\": \"United States of America\"}</td>\n",
       "      <td>{'/m/0lsxr': 'Crime Fiction', '/m/01jfsb': 'Th...</td>\n",
       "      <td>Crime Fiction</td>\n",
       "      <td>Thriller</td>\n",
       "      <td>7.5</td>\n",
       "      <td>120.0</td>\n",
       "      <td>...</td>\n",
       "      <td>M</td>\n",
       "      <td>1.75</td>\n",
       "      <td>NaN</td>\n",
       "      <td>Jason Statham</td>\n",
       "      <td>36.0</td>\n",
       "      <td>7.477801e+07</td>\n",
       "      <td>4.0</td>\n",
       "      <td>9</td>\n",
       "      <td>6.312500</td>\n",
       "      <td>False</td>\n",
       "    </tr>\n",
       "    <tr>\n",
       "      <th>281101</th>\n",
       "      <td>Cellular</td>\n",
       "      <td>2004.0</td>\n",
       "      <td>56422687.0</td>\n",
       "      <td>95.0</td>\n",
       "      <td>{\"/m/09c7w0\": \"United States of America\"}</td>\n",
       "      <td>{'/m/01jfsb': 'Thriller', '/m/02wtdps': 'Crime...</td>\n",
       "      <td>Thriller</td>\n",
       "      <td>Crime Thriller</td>\n",
       "      <td>6.5</td>\n",
       "      <td>94.0</td>\n",
       "      <td>...</td>\n",
       "      <td>M</td>\n",
       "      <td>1.75</td>\n",
       "      <td>NaN</td>\n",
       "      <td>Jason Statham</td>\n",
       "      <td>36.0</td>\n",
       "      <td>7.477801e+07</td>\n",
       "      <td>4.0</td>\n",
       "      <td>9</td>\n",
       "      <td>6.312500</td>\n",
       "      <td>False</td>\n",
       "    </tr>\n",
       "    <tr>\n",
       "      <th>295375</th>\n",
       "      <td>Transporter 2</td>\n",
       "      <td>2005.0</td>\n",
       "      <td>85167639.0</td>\n",
       "      <td>87.0</td>\n",
       "      <td>{\"/m/09c7w0\": \"United States of America\", \"/m/...</td>\n",
       "      <td>{'/m/01jfsb': 'Thriller', '/m/02wtdps': 'Crime...</td>\n",
       "      <td>Thriller</td>\n",
       "      <td>Crime Thriller</td>\n",
       "      <td>6.3</td>\n",
       "      <td>87.0</td>\n",
       "      <td>...</td>\n",
       "      <td>M</td>\n",
       "      <td>1.75</td>\n",
       "      <td>NaN</td>\n",
       "      <td>Jason Statham</td>\n",
       "      <td>37.0</td>\n",
       "      <td>6.956090e+07</td>\n",
       "      <td>5.0</td>\n",
       "      <td>11</td>\n",
       "      <td>6.320000</td>\n",
       "      <td>False</td>\n",
       "    </tr>\n",
       "    <tr>\n",
       "      <th>299564</th>\n",
       "      <td>Chaos</td>\n",
       "      <td>2005.0</td>\n",
       "      <td>7000248.0</td>\n",
       "      <td>105.0</td>\n",
       "      <td>{\"/m/09c7w0\": \"United States of America\", \"/m/...</td>\n",
       "      <td>{'/m/01jfsb': 'Thriller', '/m/0lsxr': 'Crime F...</td>\n",
       "      <td>Thriller</td>\n",
       "      <td>Crime Fiction</td>\n",
       "      <td>6.4</td>\n",
       "      <td>106.0</td>\n",
       "      <td>...</td>\n",
       "      <td>M</td>\n",
       "      <td>1.75</td>\n",
       "      <td>NaN</td>\n",
       "      <td>Jason Statham</td>\n",
       "      <td>38.0</td>\n",
       "      <td>6.956090e+07</td>\n",
       "      <td>5.0</td>\n",
       "      <td>11</td>\n",
       "      <td>6.320000</td>\n",
       "      <td>False</td>\n",
       "    </tr>\n",
       "    <tr>\n",
       "      <th>275190</th>\n",
       "      <td>London</td>\n",
       "      <td>2006.0</td>\n",
       "      <td>20361.0</td>\n",
       "      <td>92.0</td>\n",
       "      <td>{\"/m/09c7w0\": \"United States of America\", \"/m/...</td>\n",
       "      <td>{'/m/068d7h': 'Romantic drama', '/m/02l7c8': '...</td>\n",
       "      <td>Romantic drama</td>\n",
       "      <td>Romance Film</td>\n",
       "      <td>7.0</td>\n",
       "      <td>120.0</td>\n",
       "      <td>...</td>\n",
       "      <td>M</td>\n",
       "      <td>1.75</td>\n",
       "      <td>NaN</td>\n",
       "      <td>Jason Statham</td>\n",
       "      <td>38.0</td>\n",
       "      <td>6.906948e+07</td>\n",
       "      <td>6.0</td>\n",
       "      <td>14</td>\n",
       "      <td>6.325000</td>\n",
       "      <td>False</td>\n",
       "    </tr>\n",
       "    <tr>\n",
       "      <th>285684</th>\n",
       "      <td>Crank</td>\n",
       "      <td>2006.0</td>\n",
       "      <td>42931041.0</td>\n",
       "      <td>93.0</td>\n",
       "      <td>{\"/m/09c7w0\": \"United States of America\"}</td>\n",
       "      <td>{'/m/01jfsb': 'Thriller', '/m/0cq22f9': 'Actio...</td>\n",
       "      <td>Thriller</td>\n",
       "      <td>Action Thrillers</td>\n",
       "      <td>NaN</td>\n",
       "      <td>NaN</td>\n",
       "      <td>...</td>\n",
       "      <td>M</td>\n",
       "      <td>1.75</td>\n",
       "      <td>NaN</td>\n",
       "      <td>Jason Statham</td>\n",
       "      <td>38.0</td>\n",
       "      <td>6.906948e+07</td>\n",
       "      <td>6.0</td>\n",
       "      <td>14</td>\n",
       "      <td>6.325000</td>\n",
       "      <td>False</td>\n",
       "    </tr>\n",
       "    <tr>\n",
       "      <th>304995</th>\n",
       "      <td>The Pink Panther</td>\n",
       "      <td>2006.0</td>\n",
       "      <td>158851357.0</td>\n",
       "      <td>93.0</td>\n",
       "      <td>{\"/m/0f8l9c\": \"France\", \"/m/09c7w0\": \"United S...</td>\n",
       "      <td>{'/m/0lsxr': 'Crime Fiction', '/m/03btsm8': 'A...</td>\n",
       "      <td>Crime Fiction</td>\n",
       "      <td>Action/Adventure</td>\n",
       "      <td>5.7</td>\n",
       "      <td>93.0</td>\n",
       "      <td>...</td>\n",
       "      <td>M</td>\n",
       "      <td>1.75</td>\n",
       "      <td>NaN</td>\n",
       "      <td>Jason Statham</td>\n",
       "      <td>38.0</td>\n",
       "      <td>6.906948e+07</td>\n",
       "      <td>6.0</td>\n",
       "      <td>14</td>\n",
       "      <td>6.325000</td>\n",
       "      <td>False</td>\n",
       "    </tr>\n",
       "    <tr>\n",
       "      <th>193820</th>\n",
       "      <td>War</td>\n",
       "      <td>2007.0</td>\n",
       "      <td>40452643.0</td>\n",
       "      <td>103.0</td>\n",
       "      <td>{\"/m/09c7w0\": \"United States of America\"}</td>\n",
       "      <td>{'/m/01jfsb': 'Thriller', '/m/0gw5w78': 'Gangs...</td>\n",
       "      <td>Thriller</td>\n",
       "      <td>Gangster Film</td>\n",
       "      <td>6.2</td>\n",
       "      <td>103.0</td>\n",
       "      <td>...</td>\n",
       "      <td>M</td>\n",
       "      <td>1.75</td>\n",
       "      <td>NaN</td>\n",
       "      <td>Jason Statham</td>\n",
       "      <td>39.0</td>\n",
       "      <td>6.716169e+07</td>\n",
       "      <td>7.0</td>\n",
       "      <td>15</td>\n",
       "      <td>6.315385</td>\n",
       "      <td>False</td>\n",
       "    </tr>\n",
       "    <tr>\n",
       "      <th>271081</th>\n",
       "      <td>The Bank Job</td>\n",
       "      <td>2008.0</td>\n",
       "      <td>64068159.0</td>\n",
       "      <td>111.0</td>\n",
       "      <td>{\"/m/09c7w0\": \"United States of America\", \"/m/...</td>\n",
       "      <td>{'/m/0lsxr': 'Crime Fiction', '/m/01jfsb': 'Th...</td>\n",
       "      <td>Crime Fiction</td>\n",
       "      <td>Thriller</td>\n",
       "      <td>7.2</td>\n",
       "      <td>111.0</td>\n",
       "      <td>...</td>\n",
       "      <td>M</td>\n",
       "      <td>1.75</td>\n",
       "      <td>NaN</td>\n",
       "      <td>Jason Statham</td>\n",
       "      <td>40.0</td>\n",
       "      <td>6.379950e+07</td>\n",
       "      <td>8.0</td>\n",
       "      <td>17</td>\n",
       "      <td>6.378571</td>\n",
       "      <td>False</td>\n",
       "    </tr>\n",
       "    <tr>\n",
       "      <th>409606</th>\n",
       "      <td>In the Name of the King: A Dungeon Siege Tale</td>\n",
       "      <td>2008.0</td>\n",
       "      <td>13097915.0</td>\n",
       "      <td>127.0</td>\n",
       "      <td>{\"/m/09c7w0\": \"United States of America\", \"/m/...</td>\n",
       "      <td>{'/m/03k9fj': 'Adventure', '/m/03q4nz': 'World...</td>\n",
       "      <td>Adventure</td>\n",
       "      <td>World cinema</td>\n",
       "      <td>NaN</td>\n",
       "      <td>NaN</td>\n",
       "      <td>...</td>\n",
       "      <td>M</td>\n",
       "      <td>1.75</td>\n",
       "      <td>NaN</td>\n",
       "      <td>Jason Statham</td>\n",
       "      <td>40.0</td>\n",
       "      <td>6.379950e+07</td>\n",
       "      <td>8.0</td>\n",
       "      <td>17</td>\n",
       "      <td>6.378571</td>\n",
       "      <td>False</td>\n",
       "    </tr>\n",
       "    <tr>\n",
       "      <th>149730</th>\n",
       "      <td>Crank: High Voltage</td>\n",
       "      <td>2009.0</td>\n",
       "      <td>34560577.0</td>\n",
       "      <td>96.0</td>\n",
       "      <td>{\"/m/09c7w0\": \"United States of America\"}</td>\n",
       "      <td>{'/m/01jfsb': 'Thriller', '/m/0lsxr': 'Crime F...</td>\n",
       "      <td>Thriller</td>\n",
       "      <td>Crime Fiction</td>\n",
       "      <td>NaN</td>\n",
       "      <td>NaN</td>\n",
       "      <td>...</td>\n",
       "      <td>M</td>\n",
       "      <td>1.75</td>\n",
       "      <td>NaN</td>\n",
       "      <td>Jason Statham</td>\n",
       "      <td>41.0</td>\n",
       "      <td>6.217511e+07</td>\n",
       "      <td>9.0</td>\n",
       "      <td>18</td>\n",
       "      <td>6.378571</td>\n",
       "      <td>False</td>\n",
       "    </tr>\n",
       "    <tr>\n",
       "      <th>40041</th>\n",
       "      <td>The Expendables</td>\n",
       "      <td>2010.0</td>\n",
       "      <td>274470394.0</td>\n",
       "      <td>98.0</td>\n",
       "      <td>{\"/m/09c7w0\": \"United States of America\", \"/m/...</td>\n",
       "      <td>{'/m/01jfsb': 'Thriller', '/m/03btsm8': 'Actio...</td>\n",
       "      <td>Thriller</td>\n",
       "      <td>Action/Adventure</td>\n",
       "      <td>6.4</td>\n",
       "      <td>103.0</td>\n",
       "      <td>...</td>\n",
       "      <td>M</td>\n",
       "      <td>1.75</td>\n",
       "      <td>NaN</td>\n",
       "      <td>Jason Statham</td>\n",
       "      <td>42.0</td>\n",
       "      <td>7.334855e+07</td>\n",
       "      <td>10.0</td>\n",
       "      <td>19</td>\n",
       "      <td>6.380000</td>\n",
       "      <td>False</td>\n",
       "    </tr>\n",
       "    <tr>\n",
       "      <th>137253</th>\n",
       "      <td>The Mechanic</td>\n",
       "      <td>2011.0</td>\n",
       "      <td>51070807.0</td>\n",
       "      <td>93.0</td>\n",
       "      <td>{\"/m/09c7w0\": \"United States of America\"}</td>\n",
       "      <td>{'/m/0lsxr': 'Crime Fiction', '/m/03btsm8': 'A...</td>\n",
       "      <td>Crime Fiction</td>\n",
       "      <td>Action/Adventure</td>\n",
       "      <td>6.5</td>\n",
       "      <td>93.0</td>\n",
       "      <td>...</td>\n",
       "      <td>M</td>\n",
       "      <td>1.75</td>\n",
       "      <td>NaN</td>\n",
       "      <td>Jason Statham</td>\n",
       "      <td>43.0</td>\n",
       "      <td>7.701649e+07</td>\n",
       "      <td>11.0</td>\n",
       "      <td>22</td>\n",
       "      <td>6.422222</td>\n",
       "      <td>False</td>\n",
       "    </tr>\n",
       "    <tr>\n",
       "      <th>177978</th>\n",
       "      <td>Killer Elite</td>\n",
       "      <td>2011.0</td>\n",
       "      <td>55701900.0</td>\n",
       "      <td>120.0</td>\n",
       "      <td>{\"/m/09c7w0\": \"United States of America\", \"/m/...</td>\n",
       "      <td>{'/m/01jfsb': 'Thriller', '/m/0lsxr': 'Crime F...</td>\n",
       "      <td>Thriller</td>\n",
       "      <td>Crime Fiction</td>\n",
       "      <td>6.4</td>\n",
       "      <td>116.0</td>\n",
       "      <td>...</td>\n",
       "      <td>M</td>\n",
       "      <td>1.75</td>\n",
       "      <td>NaN</td>\n",
       "      <td>Jason Statham</td>\n",
       "      <td>43.0</td>\n",
       "      <td>7.701649e+07</td>\n",
       "      <td>11.0</td>\n",
       "      <td>22</td>\n",
       "      <td>6.422222</td>\n",
       "      <td>False</td>\n",
       "    </tr>\n",
       "    <tr>\n",
       "      <th>208832</th>\n",
       "      <td>Gnomeo and Juliet</td>\n",
       "      <td>2011.0</td>\n",
       "      <td>193967670.0</td>\n",
       "      <td>84.0</td>\n",
       "      <td>{\"/m/09c7w0\": \"United States of America\", \"/m/...</td>\n",
       "      <td>{'/m/03k9fj': 'Adventure', '/m/0hj3myq': 'Chil...</td>\n",
       "      <td>Adventure</td>\n",
       "      <td>Children's/Family</td>\n",
       "      <td>7.0</td>\n",
       "      <td>NaN</td>\n",
       "      <td>...</td>\n",
       "      <td>M</td>\n",
       "      <td>1.75</td>\n",
       "      <td>NaN</td>\n",
       "      <td>Jason Statham</td>\n",
       "      <td>43.0</td>\n",
       "      <td>7.701649e+07</td>\n",
       "      <td>11.0</td>\n",
       "      <td>22</td>\n",
       "      <td>6.422222</td>\n",
       "      <td>False</td>\n",
       "    </tr>\n",
       "    <tr>\n",
       "      <th>352077</th>\n",
       "      <td>The Expendables 2</td>\n",
       "      <td>2012.0</td>\n",
       "      <td>289400000.0</td>\n",
       "      <td>103.0</td>\n",
       "      <td>{\"/m/09c7w0\": \"United States of America\"}</td>\n",
       "      <td>{'/m/02kdv5l': 'Action'}</td>\n",
       "      <td>Action</td>\n",
       "      <td>None</td>\n",
       "      <td>6.6</td>\n",
       "      <td>103.0</td>\n",
       "      <td>...</td>\n",
       "      <td>M</td>\n",
       "      <td>1.75</td>\n",
       "      <td>NaN</td>\n",
       "      <td>Jason Statham</td>\n",
       "      <td>44.0</td>\n",
       "      <td>8.433787e+07</td>\n",
       "      <td>12.0</td>\n",
       "      <td>24</td>\n",
       "      <td>6.435000</td>\n",
       "      <td>False</td>\n",
       "    </tr>\n",
       "    <tr>\n",
       "      <th>419334</th>\n",
       "      <td>Safe</td>\n",
       "      <td>2012.0</td>\n",
       "      <td>40346186.0</td>\n",
       "      <td>95.0</td>\n",
       "      <td>{\"/m/09c7w0\": \"United States of America\"}</td>\n",
       "      <td>{'/m/0lsxr': 'Crime Fiction', '/m/03btsm8': 'A...</td>\n",
       "      <td>Crime Fiction</td>\n",
       "      <td>Action/Adventure</td>\n",
       "      <td>6.5</td>\n",
       "      <td>94.0</td>\n",
       "      <td>...</td>\n",
       "      <td>M</td>\n",
       "      <td>1.75</td>\n",
       "      <td>NaN</td>\n",
       "      <td>Jason Statham</td>\n",
       "      <td>44.0</td>\n",
       "      <td>8.433787e+07</td>\n",
       "      <td>12.0</td>\n",
       "      <td>24</td>\n",
       "      <td>6.435000</td>\n",
       "      <td>False</td>\n",
       "    </tr>\n",
       "  </tbody>\n",
       "</table>\n",
       "<p>24 rows × 27 columns</p>\n",
       "</div>"
      ],
      "text/plain": [
       "                                           Movie_name  Movie_release_x  \\\n",
       "147120                                     Turn It Up           2000.0   \n",
       "273026                                         Snatch           2000.0   \n",
       "3                                      Ghosts of Mars           2001.0   \n",
       "130142                                   Mean Machine           2001.0   \n",
       "212758                                        The One           2001.0   \n",
       "350092                                The Transporter           2002.0   \n",
       "201341                                The Italian Job           2003.0   \n",
       "198986                                     Collateral           2004.0   \n",
       "281101                                       Cellular           2004.0   \n",
       "295375                                  Transporter 2           2005.0   \n",
       "299564                                          Chaos           2005.0   \n",
       "275190                                         London           2006.0   \n",
       "285684                                          Crank           2006.0   \n",
       "304995                               The Pink Panther           2006.0   \n",
       "193820                                            War           2007.0   \n",
       "271081                                   The Bank Job           2008.0   \n",
       "409606  In the Name of the King: A Dungeon Siege Tale           2008.0   \n",
       "149730                            Crank: High Voltage           2009.0   \n",
       "40041                                 The Expendables           2010.0   \n",
       "137253                                   The Mechanic           2011.0   \n",
       "177978                                   Killer Elite           2011.0   \n",
       "208832                              Gnomeo and Juliet           2011.0   \n",
       "352077                              The Expendables 2           2012.0   \n",
       "419334                                           Safe           2012.0   \n",
       "\n",
       "        Movie_revenue  Movie_runtime  \\\n",
       "147120      1247949.0           87.0   \n",
       "273026     83557872.0          103.0   \n",
       "3          14010832.0           98.0   \n",
       "130142      7310206.0           98.0   \n",
       "212758     72689126.0           85.0   \n",
       "350092     43928932.0           94.0   \n",
       "201341    176070171.0          111.0   \n",
       "198986    217764291.0          120.0   \n",
       "281101     56422687.0           95.0   \n",
       "295375     85167639.0           87.0   \n",
       "299564      7000248.0          105.0   \n",
       "275190        20361.0           92.0   \n",
       "285684     42931041.0           93.0   \n",
       "304995    158851357.0           93.0   \n",
       "193820     40452643.0          103.0   \n",
       "271081     64068159.0          111.0   \n",
       "409606     13097915.0          127.0   \n",
       "149730     34560577.0           96.0   \n",
       "40041     274470394.0           98.0   \n",
       "137253     51070807.0           93.0   \n",
       "177978     55701900.0          120.0   \n",
       "208832    193967670.0           84.0   \n",
       "352077    289400000.0          103.0   \n",
       "419334     40346186.0           95.0   \n",
       "\n",
       "                                          Movie_countries  \\\n",
       "147120          {\"/m/09c7w0\": \"United States of America\"}   \n",
       "273026  {\"/m/09c7w0\": \"United States of America\", \"/m/...   \n",
       "3               {\"/m/09c7w0\": \"United States of America\"}   \n",
       "130142  {\"/m/09c7w0\": \"United States of America\", \"/m/...   \n",
       "212758          {\"/m/09c7w0\": \"United States of America\"}   \n",
       "350092  {\"/m/0f8l9c\": \"France\", \"/m/09c7w0\": \"United S...   \n",
       "201341  {\"/m/09c7w0\": \"United States of America\", \"/m/...   \n",
       "198986          {\"/m/09c7w0\": \"United States of America\"}   \n",
       "281101          {\"/m/09c7w0\": \"United States of America\"}   \n",
       "295375  {\"/m/09c7w0\": \"United States of America\", \"/m/...   \n",
       "299564  {\"/m/09c7w0\": \"United States of America\", \"/m/...   \n",
       "275190  {\"/m/09c7w0\": \"United States of America\", \"/m/...   \n",
       "285684          {\"/m/09c7w0\": \"United States of America\"}   \n",
       "304995  {\"/m/0f8l9c\": \"France\", \"/m/09c7w0\": \"United S...   \n",
       "193820          {\"/m/09c7w0\": \"United States of America\"}   \n",
       "271081  {\"/m/09c7w0\": \"United States of America\", \"/m/...   \n",
       "409606  {\"/m/09c7w0\": \"United States of America\", \"/m/...   \n",
       "149730          {\"/m/09c7w0\": \"United States of America\"}   \n",
       "40041   {\"/m/09c7w0\": \"United States of America\", \"/m/...   \n",
       "137253          {\"/m/09c7w0\": \"United States of America\"}   \n",
       "177978  {\"/m/09c7w0\": \"United States of America\", \"/m/...   \n",
       "208832  {\"/m/09c7w0\": \"United States of America\", \"/m/...   \n",
       "352077          {\"/m/09c7w0\": \"United States of America\"}   \n",
       "419334          {\"/m/09c7w0\": \"United States of America\"}   \n",
       "\n",
       "                                               Genre_dict      Main_genre  \\\n",
       "147120  {'/m/0lsxr': 'Crime Fiction', '/m/04t36': 'Mus...   Crime Fiction   \n",
       "273026  {'/m/0lsxr': 'Crime Fiction', '/m/01jfsb': 'Th...   Crime Fiction   \n",
       "3       {'/m/01jfsb': 'Thriller', '/m/06n90': 'Science...        Thriller   \n",
       "130142  {'/m/01z02hx': 'Sports', '/m/07s9rl0': 'Drama'...          Sports   \n",
       "212758  {'/m/01jfsb': 'Thriller', '/m/06n90': 'Science...        Thriller   \n",
       "350092  {'/m/01jfsb': 'Thriller', '/m/0cq22f9': 'Actio...        Thriller   \n",
       "201341  {'/m/0lsxr': 'Crime Fiction', '/m/01jfsb': 'Th...   Crime Fiction   \n",
       "198986  {'/m/0lsxr': 'Crime Fiction', '/m/01jfsb': 'Th...   Crime Fiction   \n",
       "281101  {'/m/01jfsb': 'Thriller', '/m/02wtdps': 'Crime...        Thriller   \n",
       "295375  {'/m/01jfsb': 'Thriller', '/m/02wtdps': 'Crime...        Thriller   \n",
       "299564  {'/m/01jfsb': 'Thriller', '/m/0lsxr': 'Crime F...        Thriller   \n",
       "275190  {'/m/068d7h': 'Romantic drama', '/m/02l7c8': '...  Romantic drama   \n",
       "285684  {'/m/01jfsb': 'Thriller', '/m/0cq22f9': 'Actio...        Thriller   \n",
       "304995  {'/m/0lsxr': 'Crime Fiction', '/m/03btsm8': 'A...   Crime Fiction   \n",
       "193820  {'/m/01jfsb': 'Thriller', '/m/0gw5w78': 'Gangs...        Thriller   \n",
       "271081  {'/m/0lsxr': 'Crime Fiction', '/m/01jfsb': 'Th...   Crime Fiction   \n",
       "409606  {'/m/03k9fj': 'Adventure', '/m/03q4nz': 'World...       Adventure   \n",
       "149730  {'/m/01jfsb': 'Thriller', '/m/0lsxr': 'Crime F...        Thriller   \n",
       "40041   {'/m/01jfsb': 'Thriller', '/m/03btsm8': 'Actio...        Thriller   \n",
       "137253  {'/m/0lsxr': 'Crime Fiction', '/m/03btsm8': 'A...   Crime Fiction   \n",
       "177978  {'/m/01jfsb': 'Thriller', '/m/0lsxr': 'Crime F...        Thriller   \n",
       "208832  {'/m/03k9fj': 'Adventure', '/m/0hj3myq': 'Chil...       Adventure   \n",
       "352077                           {'/m/02kdv5l': 'Action'}          Action   \n",
       "419334  {'/m/0lsxr': 'Crime Fiction', '/m/03btsm8': 'A...   Crime Fiction   \n",
       "\n",
       "                Sec_Genre  imdb_rating  runtime_min  ... Actor_gender  \\\n",
       "147120            Musical          4.1         86.0  ...            M   \n",
       "273026           Thriller          8.2        104.0  ...            M   \n",
       "3         Science Fiction          4.9         98.0  ...            M   \n",
       "130142              Drama          6.4         99.0  ...            M   \n",
       "212758    Science Fiction          5.9         87.0  ...            M   \n",
       "350092   Action Thrillers          NaN          NaN  ...            M   \n",
       "201341           Thriller          7.0        111.0  ...            M   \n",
       "198986           Thriller          7.5        120.0  ...            M   \n",
       "281101     Crime Thriller          6.5         94.0  ...            M   \n",
       "295375     Crime Thriller          6.3         87.0  ...            M   \n",
       "299564      Crime Fiction          6.4        106.0  ...            M   \n",
       "275190       Romance Film          7.0        120.0  ...            M   \n",
       "285684   Action Thrillers          NaN          NaN  ...            M   \n",
       "304995   Action/Adventure          5.7         93.0  ...            M   \n",
       "193820      Gangster Film          6.2        103.0  ...            M   \n",
       "271081           Thriller          7.2        111.0  ...            M   \n",
       "409606       World cinema          NaN          NaN  ...            M   \n",
       "149730      Crime Fiction          NaN          NaN  ...            M   \n",
       "40041    Action/Adventure          6.4        103.0  ...            M   \n",
       "137253   Action/Adventure          6.5         93.0  ...            M   \n",
       "177978      Crime Fiction          6.4        116.0  ...            M   \n",
       "208832  Children's/Family          7.0          NaN  ...            M   \n",
       "352077               None          6.6        103.0  ...            M   \n",
       "419334   Action/Adventure          6.5         94.0  ...            M   \n",
       "\n",
       "       Actor_height Actor_ethnicity     Actor_name Actor_age_release  \\\n",
       "147120         1.75             NaN  Jason Statham              32.0   \n",
       "273026         1.75             NaN  Jason Statham              32.0   \n",
       "3              1.75             NaN  Jason Statham              33.0   \n",
       "130142         1.75             NaN  Jason Statham              34.0   \n",
       "212758         1.75             NaN  Jason Statham              34.0   \n",
       "350092         1.75             NaN  Jason Statham              35.0   \n",
       "201341         1.75             NaN  Jason Statham              35.0   \n",
       "198986         1.75             NaN  Jason Statham              36.0   \n",
       "281101         1.75             NaN  Jason Statham              36.0   \n",
       "295375         1.75             NaN  Jason Statham              37.0   \n",
       "299564         1.75             NaN  Jason Statham              38.0   \n",
       "275190         1.75             NaN  Jason Statham              38.0   \n",
       "285684         1.75             NaN  Jason Statham              38.0   \n",
       "304995         1.75             NaN  Jason Statham              38.0   \n",
       "193820         1.75             NaN  Jason Statham              39.0   \n",
       "271081         1.75             NaN  Jason Statham              40.0   \n",
       "409606         1.75             NaN  Jason Statham              40.0   \n",
       "149730         1.75             NaN  Jason Statham              41.0   \n",
       "40041          1.75             NaN  Jason Statham              42.0   \n",
       "137253         1.75             NaN  Jason Statham              43.0   \n",
       "177978         1.75             NaN  Jason Statham              43.0   \n",
       "208832         1.75             NaN  Jason Statham              43.0   \n",
       "352077         1.75             NaN  Jason Statham              44.0   \n",
       "419334         1.75             NaN  Jason Statham              44.0   \n",
       "\n",
       "       Avg_revenue_per_film_at_release Longevity Number_of_film_at_release  \\\n",
       "147120                    4.240291e+07       0.0                         2   \n",
       "273026                    4.240291e+07       0.0                         2   \n",
       "3                         3.576320e+07       1.0                         5   \n",
       "130142                    3.576320e+07       1.0                         5   \n",
       "212758                    3.576320e+07       1.0                         5   \n",
       "350092                    3.712415e+07       2.0                         6   \n",
       "201341                    5.697358e+07       3.0                         7   \n",
       "198986                    7.477801e+07       4.0                         9   \n",
       "281101                    7.477801e+07       4.0                         9   \n",
       "295375                    6.956090e+07       5.0                        11   \n",
       "299564                    6.956090e+07       5.0                        11   \n",
       "275190                    6.906948e+07       6.0                        14   \n",
       "285684                    6.906948e+07       6.0                        14   \n",
       "304995                    6.906948e+07       6.0                        14   \n",
       "193820                    6.716169e+07       7.0                        15   \n",
       "271081                    6.379950e+07       8.0                        17   \n",
       "409606                    6.379950e+07       8.0                        17   \n",
       "149730                    6.217511e+07       9.0                        18   \n",
       "40041                     7.334855e+07      10.0                        19   \n",
       "137253                    7.701649e+07      11.0                        22   \n",
       "177978                    7.701649e+07      11.0                        22   \n",
       "208832                    7.701649e+07      11.0                        22   \n",
       "352077                    8.433787e+07      12.0                        24   \n",
       "419334                    8.433787e+07      12.0                        24   \n",
       "\n",
       "        Avg_rating_per_film_at_release First_film  \n",
       "147120                        6.150000       True  \n",
       "273026                        6.150000       True  \n",
       "3                             5.900000      False  \n",
       "130142                        5.900000      False  \n",
       "212758                        5.900000      False  \n",
       "350092                        5.900000      False  \n",
       "201341                        6.083333      False  \n",
       "198986                        6.312500      False  \n",
       "281101                        6.312500      False  \n",
       "295375                        6.320000      False  \n",
       "299564                        6.320000      False  \n",
       "275190                        6.325000      False  \n",
       "285684                        6.325000      False  \n",
       "304995                        6.325000      False  \n",
       "193820                        6.315385      False  \n",
       "271081                        6.378571      False  \n",
       "409606                        6.378571      False  \n",
       "149730                        6.378571      False  \n",
       "40041                         6.380000      False  \n",
       "137253                        6.422222      False  \n",
       "177978                        6.422222      False  \n",
       "208832                        6.422222      False  \n",
       "352077                        6.435000      False  \n",
       "419334                        6.435000      False  \n",
       "\n",
       "[24 rows x 27 columns]"
      ]
     },
     "execution_count": 42,
     "metadata": {},
     "output_type": "execute_result"
    }
   ],
   "source": [
    "df_mov1_filtered = df_movie[df_movie['Actor_name'] == 'Jason Statham']\n",
    "df_mov1_filtered"
   ]
  },
  {
   "cell_type": "code",
   "execution_count": 43,
   "metadata": {
    "tags": []
   },
   "outputs": [
    {
     "data": {
      "text/plain": [
       "Index(['Movie_name', 'Movie_release_x', 'Movie_revenue', 'Movie_runtime',\n",
       "       'Movie_countries', 'Genre_dict', 'Main_genre', 'Sec_Genre',\n",
       "       'imdb_rating', 'runtime_min', 'Producer', 'Composer', 'director',\n",
       "       'writer', 'Freebase_ID', 'Char_name', 'Actor_birth', 'Actor_gender',\n",
       "       'Actor_height', 'Actor_ethnicity', 'Actor_name', 'Actor_age_release',\n",
       "       'Avg_revenue_per_film_at_release', 'Longevity',\n",
       "       'Number_of_film_at_release', 'Avg_rating_per_film_at_release',\n",
       "       'First_film'],\n",
       "      dtype='object')"
      ]
     },
     "execution_count": 43,
     "metadata": {},
     "output_type": "execute_result"
    }
   ],
   "source": [
    "df_movie.columns"
   ]
  },
  {
   "cell_type": "markdown",
   "metadata": {
    "tags": []
   },
   "source": [
    "## 3. Create the Network"
   ]
  },
  {
   "cell_type": "code",
   "execution_count": 67,
   "metadata": {
    "tags": []
   },
   "outputs": [
    {
     "name": "stdout",
     "output_type": "stream",
     "text": [
      "              Actor_1         Actor_2  Occurrences\n",
      "0         Dean Martin     Jerry Lewis           16\n",
      "1        Adam Sandler    Allen Covert           13\n",
      "2        Frank Welker    Jim Cummings           12\n",
      "3        Adam Sandler   Rob Schneider           12\n",
      "4        Fred Astaire   Ginger Rogers           10\n",
      "..                ...             ...          ...\n",
      "556     Shawnee Smith      Tobin Bell            5\n",
      "557      Alan Rickman    Robert Hardy            5\n",
      "558       Katie Leung  Michael Gambon            5\n",
      "559  Daniel Radcliffe     Katie Leung            5\n",
      "560     Bonnie Wright   Harry Melling            5\n",
      "\n",
      "[561 rows x 3 columns]\n"
     ]
    }
   ],
   "source": [
    "from itertools import combinations\n",
    "import networkx as nx\n",
    "\n",
    "# Group by 'Movie_name' and aggregate 'Actor_name' into lists\n",
    "actor_pairs = df_movie.groupby('Movie_name')['Actor_name'].apply(list)\n",
    "\n",
    "# For each movie, create all possible pairs of actors without duplication\n",
    "actor_pairs = actor_pairs.apply(lambda x: list(combinations(sorted(set(x)), 2)))\n",
    "\n",
    "# Flatten the list of actor pairs into a new dataframe\n",
    "actor_pair_list = [pair for sublist in actor_pairs for pair in sublist]\n",
    "df_actor_pairs = pd.DataFrame(actor_pair_list, columns=['Actor_1', 'Actor_2'])\n",
    "\n",
    "# Count the occurrences of each pair\n",
    "pair_counts = df_actor_pairs.value_counts().reset_index(name='Occurrences')\n",
    "\n",
    "# We restrict our pairs to have at least 7 films together \n",
    "\n",
    "pairs_more_than_seven = pair_counts[pair_counts['Occurrences'] >= 5]\n",
    "\n",
    "print(pairs_more_than_seven)"
   ]
  },
  {
   "cell_type": "code",
   "execution_count": 97,
   "metadata": {
    "tags": []
   },
   "outputs": [
    {
     "name": "stdout",
     "output_type": "stream",
     "text": [
      "edges.html\n"
     ]
    },
    {
     "data": {
      "text/html": [
       "\n",
       "        <iframe\n",
       "            width=\"100%\"\n",
       "            height=\"500px\"\n",
       "            src=\"edges.html\"\n",
       "            frameborder=\"0\"\n",
       "            allowfullscreen\n",
       "            \n",
       "        ></iframe>\n",
       "        "
      ],
      "text/plain": [
       "<IPython.lib.display.IFrame at 0x18240c04760>"
      ]
     },
     "execution_count": 97,
     "metadata": {},
     "output_type": "execute_result"
    }
   ],
   "source": [
    "from pyvis.network import Network\n",
    "import pandas as pd\n",
    "\n",
    "# Assuming you already have the pairs_more_than_seven DataFrame ready as per your previous code.\n",
    "\n",
    "# Initialize PyVis Network\n",
    "\n",
    "net = Network(notebook=True, \n",
    "              cdn_resources=\"remote\", \n",
    "              bgcolor=\"#222222\", \n",
    "              font_color=\"white\", \n",
    "              height=\"500px\",\n",
    "              select_menu=True,\n",
    "              filter_menu=True)\n",
    "\n",
    "net.set_options(\"\"\"\n",
    "const options = {\n",
    "  \"physics\": {\n",
    "    \"forceAtlas2Based\": {\n",
    "      \"gravitationalConstant\": -84,\n",
    "      \"centralGravity\": 0.09,\n",
    "      \"springLength\": 20,\n",
    "      \"springConstant\": 0.035\n",
    "    },\n",
    "    \"minVelocity\": 0.18,\n",
    "    \"solver\": \"forceAtlas2Based\"\n",
    "  }\n",
    "}\n",
    "\"\"\")\n",
    "\n",
    "\n",
    "# Combine 'Actor_1' and 'Actor_2' into a single Series and count the occurrences of each actor\n",
    "actor_pairings = pd.concat([pairs_more_than_seven['Actor_1'], pairs_more_than_seven['Actor_2']]).value_counts()\n",
    "\n",
    "#print(actor_pairings)\n",
    "\n",
    "# Add nodes to the network with the scaled size\n",
    "for actor, size in actor_pairings.items():\n",
    "    net.add_node(actor, size=size)\n",
    "    \n",
    "# Create edges with weights (the number of occurrences as value)\n",
    "edges = pairs_more_than_seven.apply(lambda row: (row['Actor_1'], row['Actor_2'], row['Occurrences']), axis=1).tolist()\n",
    "\n",
    "# Add weighted edges to the network\n",
    "for edge in edges:\n",
    "    net.add_edge(edge[0], edge[1], value=edge[2])\n",
    "\n",
    "# Save or show the network\n",
    "net.show(\"edges.html\")\n",
    "\n"
   ]
  },
  {
   "cell_type": "code",
   "execution_count": null,
   "metadata": {},
   "outputs": [],
   "source": []
  }
 ],
 "metadata": {
  "kernelspec": {
   "display_name": "Python 3 (ipykernel)",
   "language": "python",
   "name": "python3"
  },
  "language_info": {
   "codemirror_mode": {
    "name": "ipython",
    "version": 3
   },
   "file_extension": ".py",
   "mimetype": "text/x-python",
   "name": "python",
   "nbconvert_exporter": "python",
   "pygments_lexer": "ipython3",
   "version": "3.9.18"
  }
 },
 "nbformat": 4,
 "nbformat_minor": 4
}
