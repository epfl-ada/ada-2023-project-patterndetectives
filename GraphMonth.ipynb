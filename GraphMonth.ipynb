{
 "cells": [
  {
   "cell_type": "code",
   "execution_count": 35,
   "metadata": {
    "tags": []
   },
   "outputs": [
    {
     "name": "stdout",
     "output_type": "stream",
     "text": [
      "The autoreload extension is already loaded. To reload it, use:\n",
      "  %reload_ext autoreload\n"
     ]
    }
   ],
   "source": [
    "import pandas as pd\n",
    "import numpy as np\n",
    "import matplotlib.pyplot as plt\n",
    "%matplotlib inline\n",
    "import seaborn as sns\n",
    "import math\n",
    "from statsmodels.stats import diagnostic\n",
    "import statsmodels.stats as st\n",
    "from scipy import stats\n",
    "import networkx as nx\n",
    "import statsmodels.api as sm\n",
    "import statsmodels.formula.api as smf\n",
    "from sklearn.linear_model import LinearRegression, LogisticRegression, Ridge\n",
    "from sklearn.ensemble import RandomForestClassifier\n",
    "# from sklearn.preprocessing import OneHotEncoder\n",
    "# from pandas.plotting import scatter_matrix\n",
    "from sklearn.neighbors import KNeighborsClassifier\n",
    "from sklearn.model_selection import cross_val_predict\n",
    "from sklearn.model_selection import cross_val_score\n",
    "from sklearn.metrics import mean_squared_error, auc, roc_curve\n",
    "import plotly.express as px\n",
    "import ast\n",
    "import plotly.graph_objects as go\n",
    "from plotly.subplots import make_subplots\n",
    "from director_scrap import director_scrap\n",
    "import missingno as msno\n",
    "\n",
    "%load_ext autoreload\n",
    "%autoreload 2"
   ]
  },
  {
   "cell_type": "code",
   "execution_count": 36,
   "metadata": {
    "tags": []
   },
   "outputs": [
    {
     "data": {
      "text/html": [
       "<div>\n",
       "<style scoped>\n",
       "    .dataframe tbody tr th:only-of-type {\n",
       "        vertical-align: middle;\n",
       "    }\n",
       "\n",
       "    .dataframe tbody tr th {\n",
       "        vertical-align: top;\n",
       "    }\n",
       "\n",
       "    .dataframe thead th {\n",
       "        text-align: right;\n",
       "    }\n",
       "</style>\n",
       "<table border=\"1\" class=\"dataframe\">\n",
       "  <thead>\n",
       "    <tr style=\"text-align: right;\">\n",
       "      <th></th>\n",
       "      <th>Wiki_ID</th>\n",
       "      <th>Freebase_ID</th>\n",
       "      <th>Movie_release</th>\n",
       "      <th>Char_name</th>\n",
       "      <th>Actor_birth</th>\n",
       "      <th>Actor_gender</th>\n",
       "      <th>Actor_height</th>\n",
       "      <th>Actor_ethnicity</th>\n",
       "      <th>Actor_name</th>\n",
       "      <th>Actor_age_release</th>\n",
       "      <th>Char/Actor_map</th>\n",
       "      <th>Char_ID</th>\n",
       "      <th>Actor_ID</th>\n",
       "    </tr>\n",
       "  </thead>\n",
       "  <tbody>\n",
       "    <tr>\n",
       "      <th>0</th>\n",
       "      <td>975900</td>\n",
       "      <td>/m/03vyhn</td>\n",
       "      <td>2001-08-24</td>\n",
       "      <td>Akooshay</td>\n",
       "      <td>1958-08-26</td>\n",
       "      <td>F</td>\n",
       "      <td>1.620</td>\n",
       "      <td>NaN</td>\n",
       "      <td>Wanda De Jesus</td>\n",
       "      <td>42.0</td>\n",
       "      <td>/m/0bgchxw</td>\n",
       "      <td>/m/0bgcj3x</td>\n",
       "      <td>/m/03wcfv7</td>\n",
       "    </tr>\n",
       "    <tr>\n",
       "      <th>1</th>\n",
       "      <td>975900</td>\n",
       "      <td>/m/03vyhn</td>\n",
       "      <td>2001-08-24</td>\n",
       "      <td>Lieutenant Melanie Ballard</td>\n",
       "      <td>1974-08-15</td>\n",
       "      <td>F</td>\n",
       "      <td>1.780</td>\n",
       "      <td>/m/044038p</td>\n",
       "      <td>Natasha Henstridge</td>\n",
       "      <td>27.0</td>\n",
       "      <td>/m/0jys3m</td>\n",
       "      <td>/m/0bgchn4</td>\n",
       "      <td>/m/0346l4</td>\n",
       "    </tr>\n",
       "    <tr>\n",
       "      <th>2</th>\n",
       "      <td>975900</td>\n",
       "      <td>/m/03vyhn</td>\n",
       "      <td>2001-08-24</td>\n",
       "      <td>Desolation Williams</td>\n",
       "      <td>1969-06-15</td>\n",
       "      <td>M</td>\n",
       "      <td>1.727</td>\n",
       "      <td>/m/0x67</td>\n",
       "      <td>Ice Cube</td>\n",
       "      <td>32.0</td>\n",
       "      <td>/m/0jys3g</td>\n",
       "      <td>/m/0bgchn_</td>\n",
       "      <td>/m/01vw26l</td>\n",
       "    </tr>\n",
       "    <tr>\n",
       "      <th>3</th>\n",
       "      <td>975900</td>\n",
       "      <td>/m/03vyhn</td>\n",
       "      <td>2001-08-24</td>\n",
       "      <td>Sgt Jericho Butler</td>\n",
       "      <td>1967-09-12</td>\n",
       "      <td>M</td>\n",
       "      <td>1.750</td>\n",
       "      <td>NaN</td>\n",
       "      <td>Jason Statham</td>\n",
       "      <td>33.0</td>\n",
       "      <td>/m/02vchl6</td>\n",
       "      <td>/m/0bgchnq</td>\n",
       "      <td>/m/034hyc</td>\n",
       "    </tr>\n",
       "    <tr>\n",
       "      <th>4</th>\n",
       "      <td>975900</td>\n",
       "      <td>/m/03vyhn</td>\n",
       "      <td>2001-08-24</td>\n",
       "      <td>Bashira Kincaid</td>\n",
       "      <td>1977-09-25</td>\n",
       "      <td>F</td>\n",
       "      <td>1.650</td>\n",
       "      <td>NaN</td>\n",
       "      <td>Clea DuVall</td>\n",
       "      <td>23.0</td>\n",
       "      <td>/m/02vbb3r</td>\n",
       "      <td>/m/0bgchp9</td>\n",
       "      <td>/m/01y9xg</td>\n",
       "    </tr>\n",
       "  </tbody>\n",
       "</table>\n",
       "</div>"
      ],
      "text/plain": [
       "   Wiki_ID Freebase_ID Movie_release                   Char_name Actor_birth  \\\n",
       "0   975900   /m/03vyhn    2001-08-24                    Akooshay  1958-08-26   \n",
       "1   975900   /m/03vyhn    2001-08-24  Lieutenant Melanie Ballard  1974-08-15   \n",
       "2   975900   /m/03vyhn    2001-08-24         Desolation Williams  1969-06-15   \n",
       "3   975900   /m/03vyhn    2001-08-24          Sgt Jericho Butler  1967-09-12   \n",
       "4   975900   /m/03vyhn    2001-08-24             Bashira Kincaid  1977-09-25   \n",
       "\n",
       "  Actor_gender  Actor_height Actor_ethnicity          Actor_name  \\\n",
       "0            F         1.620             NaN      Wanda De Jesus   \n",
       "1            F         1.780      /m/044038p  Natasha Henstridge   \n",
       "2            M         1.727         /m/0x67            Ice Cube   \n",
       "3            M         1.750             NaN       Jason Statham   \n",
       "4            F         1.650             NaN         Clea DuVall   \n",
       "\n",
       "   Actor_age_release Char/Actor_map     Char_ID    Actor_ID  \n",
       "0               42.0     /m/0bgchxw  /m/0bgcj3x  /m/03wcfv7  \n",
       "1               27.0      /m/0jys3m  /m/0bgchn4   /m/0346l4  \n",
       "2               32.0      /m/0jys3g  /m/0bgchn_  /m/01vw26l  \n",
       "3               33.0     /m/02vchl6  /m/0bgchnq   /m/034hyc  \n",
       "4               23.0     /m/02vbb3r  /m/0bgchp9   /m/01y9xg  "
      ]
     },
     "execution_count": 36,
     "metadata": {},
     "output_type": "execute_result"
    }
   ],
   "source": [
    "columns_char = ['Wiki_ID', 'Freebase_ID', 'Movie_release', 'Char_name', 'Actor_birth', 'Actor_gender', \n",
    "               'Actor_height', 'Actor_ethnicity', 'Actor_name', 'Actor_age_release', 'Char/Actor_map', \n",
    "               'Char_ID', 'Actor_ID']\n",
    "df_char = pd.read_table('data/character.metadata.tsv', header=None, names=columns_char)\n",
    "df_char.head(5)"
   ]
  },
  {
   "cell_type": "code",
   "execution_count": 37,
   "metadata": {
    "tags": []
   },
   "outputs": [
    {
     "data": {
      "text/html": [
       "<div>\n",
       "<style scoped>\n",
       "    .dataframe tbody tr th:only-of-type {\n",
       "        vertical-align: middle;\n",
       "    }\n",
       "\n",
       "    .dataframe tbody tr th {\n",
       "        vertical-align: top;\n",
       "    }\n",
       "\n",
       "    .dataframe thead th {\n",
       "        text-align: right;\n",
       "    }\n",
       "</style>\n",
       "<table border=\"1\" class=\"dataframe\">\n",
       "  <thead>\n",
       "    <tr style=\"text-align: right;\">\n",
       "      <th></th>\n",
       "      <th>Wiki_ID</th>\n",
       "      <th>Freebase_ID</th>\n",
       "      <th>Movie_name</th>\n",
       "      <th>Movie_release</th>\n",
       "      <th>Movie_revenue</th>\n",
       "      <th>Movie_runtime</th>\n",
       "      <th>Movie_languages</th>\n",
       "      <th>Movie_countries</th>\n",
       "      <th>Movie_genres</th>\n",
       "    </tr>\n",
       "  </thead>\n",
       "  <tbody>\n",
       "    <tr>\n",
       "      <th>0</th>\n",
       "      <td>975900</td>\n",
       "      <td>/m/03vyhn</td>\n",
       "      <td>Ghosts of Mars</td>\n",
       "      <td>2001-08-24</td>\n",
       "      <td>14010832.0</td>\n",
       "      <td>98.0</td>\n",
       "      <td>{\"/m/02h40lc\": \"English Language\"}</td>\n",
       "      <td>{\"/m/09c7w0\": \"United States of America\"}</td>\n",
       "      <td>{\"/m/01jfsb\": \"Thriller\", \"/m/06n90\": \"Science...</td>\n",
       "    </tr>\n",
       "    <tr>\n",
       "      <th>1</th>\n",
       "      <td>3196793</td>\n",
       "      <td>/m/08yl5d</td>\n",
       "      <td>Getting Away with Murder: The JonBenét Ramsey ...</td>\n",
       "      <td>2000-02-16</td>\n",
       "      <td>NaN</td>\n",
       "      <td>95.0</td>\n",
       "      <td>{\"/m/02h40lc\": \"English Language\"}</td>\n",
       "      <td>{\"/m/09c7w0\": \"United States of America\"}</td>\n",
       "      <td>{\"/m/02n4kr\": \"Mystery\", \"/m/03bxz7\": \"Biograp...</td>\n",
       "    </tr>\n",
       "    <tr>\n",
       "      <th>2</th>\n",
       "      <td>28463795</td>\n",
       "      <td>/m/0crgdbh</td>\n",
       "      <td>Brun bitter</td>\n",
       "      <td>1988</td>\n",
       "      <td>NaN</td>\n",
       "      <td>83.0</td>\n",
       "      <td>{\"/m/05f_3\": \"Norwegian Language\"}</td>\n",
       "      <td>{\"/m/05b4w\": \"Norway\"}</td>\n",
       "      <td>{\"/m/0lsxr\": \"Crime Fiction\", \"/m/07s9rl0\": \"D...</td>\n",
       "    </tr>\n",
       "    <tr>\n",
       "      <th>3</th>\n",
       "      <td>9363483</td>\n",
       "      <td>/m/0285_cd</td>\n",
       "      <td>White Of The Eye</td>\n",
       "      <td>1987</td>\n",
       "      <td>NaN</td>\n",
       "      <td>110.0</td>\n",
       "      <td>{\"/m/02h40lc\": \"English Language\"}</td>\n",
       "      <td>{\"/m/07ssc\": \"United Kingdom\"}</td>\n",
       "      <td>{\"/m/01jfsb\": \"Thriller\", \"/m/0glj9q\": \"Erotic...</td>\n",
       "    </tr>\n",
       "    <tr>\n",
       "      <th>4</th>\n",
       "      <td>261236</td>\n",
       "      <td>/m/01mrr1</td>\n",
       "      <td>A Woman in Flames</td>\n",
       "      <td>1983</td>\n",
       "      <td>NaN</td>\n",
       "      <td>106.0</td>\n",
       "      <td>{\"/m/04306rv\": \"German Language\"}</td>\n",
       "      <td>{\"/m/0345h\": \"Germany\"}</td>\n",
       "      <td>{\"/m/07s9rl0\": \"Drama\"}</td>\n",
       "    </tr>\n",
       "  </tbody>\n",
       "</table>\n",
       "</div>"
      ],
      "text/plain": [
       "    Wiki_ID Freebase_ID                                         Movie_name  \\\n",
       "0    975900   /m/03vyhn                                     Ghosts of Mars   \n",
       "1   3196793   /m/08yl5d  Getting Away with Murder: The JonBenét Ramsey ...   \n",
       "2  28463795  /m/0crgdbh                                        Brun bitter   \n",
       "3   9363483  /m/0285_cd                                   White Of The Eye   \n",
       "4    261236   /m/01mrr1                                  A Woman in Flames   \n",
       "\n",
       "  Movie_release  Movie_revenue  Movie_runtime  \\\n",
       "0    2001-08-24     14010832.0           98.0   \n",
       "1    2000-02-16            NaN           95.0   \n",
       "2          1988            NaN           83.0   \n",
       "3          1987            NaN          110.0   \n",
       "4          1983            NaN          106.0   \n",
       "\n",
       "                      Movie_languages  \\\n",
       "0  {\"/m/02h40lc\": \"English Language\"}   \n",
       "1  {\"/m/02h40lc\": \"English Language\"}   \n",
       "2  {\"/m/05f_3\": \"Norwegian Language\"}   \n",
       "3  {\"/m/02h40lc\": \"English Language\"}   \n",
       "4   {\"/m/04306rv\": \"German Language\"}   \n",
       "\n",
       "                             Movie_countries  \\\n",
       "0  {\"/m/09c7w0\": \"United States of America\"}   \n",
       "1  {\"/m/09c7w0\": \"United States of America\"}   \n",
       "2                     {\"/m/05b4w\": \"Norway\"}   \n",
       "3             {\"/m/07ssc\": \"United Kingdom\"}   \n",
       "4                    {\"/m/0345h\": \"Germany\"}   \n",
       "\n",
       "                                        Movie_genres  \n",
       "0  {\"/m/01jfsb\": \"Thriller\", \"/m/06n90\": \"Science...  \n",
       "1  {\"/m/02n4kr\": \"Mystery\", \"/m/03bxz7\": \"Biograp...  \n",
       "2  {\"/m/0lsxr\": \"Crime Fiction\", \"/m/07s9rl0\": \"D...  \n",
       "3  {\"/m/01jfsb\": \"Thriller\", \"/m/0glj9q\": \"Erotic...  \n",
       "4                            {\"/m/07s9rl0\": \"Drama\"}  "
      ]
     },
     "execution_count": 37,
     "metadata": {},
     "output_type": "execute_result"
    }
   ],
   "source": [
    "columns_mov = ['Wiki_ID', 'Freebase_ID', 'Movie_name', 'Movie_release', 'Movie_revenue', 'Movie_runtime', \n",
    "               'Movie_languages', 'Movie_countries', 'Movie_genres']\n",
    "df_mov = pd.read_table('data/movie.metadata.tsv', header=None, names=columns_mov)\n",
    "df_mov.head()"
   ]
  },
  {
   "cell_type": "code",
   "execution_count": 38,
   "metadata": {
    "tags": []
   },
   "outputs": [
    {
     "name": "stdout",
     "output_type": "stream",
     "text": [
      "Movie : 81741      Actor : 450669\n"
     ]
    }
   ],
   "source": [
    "print(f\"Movie : {len(df_mov)}      Actor : {len(df_char)}\")"
   ]
  },
  {
   "cell_type": "markdown",
   "metadata": {
    "tags": []
   },
   "source": [
    "### When describing the relevant aspects of the data, and any other datasets you may intend to use, you should in particular show (non-exhaustive list):\n",
    "\n",
    "**-That you can handle the data in its size.**\n",
    "\n",
    "**-That you understand what’s in the data (formats, distributions, missing values, correlations, etc.).**\n",
    "\n",
    "**-That you considered ways to enrich, filter, transform the data according to your needs.**\n",
    "\n",
    "**-That you have a reasonable plan and ideas for methods you’re going to use, giving their essential mathematical details in the notebook.**\n",
    "\n",
    "**-That your plan for analysis and communication is reasonable and sound, potentially discussing alternatives to your choices that you considered but dropped.**"
   ]
  },
  {
   "cell_type": "markdown",
   "metadata": {},
   "source": [
    "## 1. Management of the data\n",
    "### 1.1 Character data"
   ]
  },
  {
   "cell_type": "markdown",
   "metadata": {},
   "source": [
    "First, we clean the data, and use some predictors to replace the missing values.\n",
    "\n",
    "We directly notice that our data is full of missing values, for the proportion of lines that we see above. So we will try to count how many of them they are, in order to take measure for them."
   ]
  },
  {
   "cell_type": "code",
   "execution_count": 39,
   "metadata": {},
   "outputs": [
    {
     "data": {
      "text/plain": [
       "Wiki_ID                   0\n",
       "Freebase_ID               0\n",
       "Movie_release          9995\n",
       "Char_name            257875\n",
       "Actor_birth          106145\n",
       "Actor_gender          45609\n",
       "Actor_height         295845\n",
       "Actor_ethnicity      344611\n",
       "Actor_name             1228\n",
       "Actor_age_release    158113\n",
       "Char/Actor_map            0\n",
       "Char_ID              257865\n",
       "Actor_ID                815\n",
       "dtype: int64"
      ]
     },
     "execution_count": 39,
     "metadata": {},
     "output_type": "execute_result"
    }
   ],
   "source": [
    "df_char.isnull().sum()"
   ]
  },
  {
   "cell_type": "markdown",
   "metadata": {
    "tags": []
   },
   "source": [
    "We see that our data is incomplete, especially for the actors' ethnicities and birth dates. The percentage of missing data is pretty high so we have to be careful with our analysis around certain features"
   ]
  },
  {
   "cell_type": "code",
   "execution_count": 40,
   "metadata": {
    "tags": []
   },
   "outputs": [
    {
     "data": {
      "application/vnd.plotly.v1+json": {
       "config": {
        "plotlyServerURL": "https://plot.ly"
       },
       "data": [
        {
         "alignmentgroup": "True",
         "hovertemplate": "Column=%{x}<br>Missing Percentage=%{marker.color}<extra></extra>",
         "legendgroup": "",
         "marker": {
          "color": [
           76.47,
           65.65,
           57.22,
           57.22,
           35.08,
           23.55,
           10.12,
           2.22,
           0.27,
           0.18,
           0,
           0,
           0
          ],
          "coloraxis": "coloraxis",
          "pattern": {
           "shape": ""
          }
         },
         "name": "",
         "offsetgroup": "",
         "orientation": "v",
         "showlegend": false,
         "textposition": "auto",
         "type": "bar",
         "x": [
          "Actor_ethnicity",
          "Actor_height",
          "Char_name",
          "Char_ID",
          "Actor_age_release",
          "Actor_birth",
          "Actor_gender",
          "Movie_release",
          "Actor_name",
          "Actor_ID",
          "Wiki_ID",
          "Freebase_ID",
          "Char/Actor_map"
         ],
         "xaxis": "x",
         "y": [
          76.47,
          65.65,
          57.22,
          57.22,
          35.08,
          23.55,
          10.12,
          2.22,
          0.27,
          0.18,
          0,
          0,
          0
         ],
         "yaxis": "y"
        }
       ],
       "layout": {
        "autosize": true,
        "barmode": "relative",
        "coloraxis": {
         "cmax": 100,
         "cmin": 0,
         "colorbar": {
          "title": {
           "text": "Missing Percentage"
          }
         },
         "colorscale": [
          [
           0,
           "rgb(0,104,55)"
          ],
          [
           0.1,
           "rgb(26,152,80)"
          ],
          [
           0.2,
           "rgb(102,189,99)"
          ],
          [
           0.3,
           "rgb(166,217,106)"
          ],
          [
           0.4,
           "rgb(217,239,139)"
          ],
          [
           0.5,
           "rgb(255,255,191)"
          ],
          [
           0.6,
           "rgb(254,224,139)"
          ],
          [
           0.7,
           "rgb(253,174,97)"
          ],
          [
           0.8,
           "rgb(244,109,67)"
          ],
          [
           0.9,
           "rgb(215,48,39)"
          ],
          [
           1,
           "rgb(165,0,38)"
          ]
         ]
        },
        "legend": {
         "tracegroupgap": 0
        },
        "template": {
         "data": {
          "bar": [
           {
            "error_x": {
             "color": "#2a3f5f"
            },
            "error_y": {
             "color": "#2a3f5f"
            },
            "marker": {
             "line": {
              "color": "#E5ECF6",
              "width": 0.5
             },
             "pattern": {
              "fillmode": "overlay",
              "size": 10,
              "solidity": 0.2
             }
            },
            "type": "bar"
           }
          ],
          "barpolar": [
           {
            "marker": {
             "line": {
              "color": "#E5ECF6",
              "width": 0.5
             },
             "pattern": {
              "fillmode": "overlay",
              "size": 10,
              "solidity": 0.2
             }
            },
            "type": "barpolar"
           }
          ],
          "carpet": [
           {
            "aaxis": {
             "endlinecolor": "#2a3f5f",
             "gridcolor": "white",
             "linecolor": "white",
             "minorgridcolor": "white",
             "startlinecolor": "#2a3f5f"
            },
            "baxis": {
             "endlinecolor": "#2a3f5f",
             "gridcolor": "white",
             "linecolor": "white",
             "minorgridcolor": "white",
             "startlinecolor": "#2a3f5f"
            },
            "type": "carpet"
           }
          ],
          "choropleth": [
           {
            "colorbar": {
             "outlinewidth": 0,
             "ticks": ""
            },
            "type": "choropleth"
           }
          ],
          "contour": [
           {
            "colorbar": {
             "outlinewidth": 0,
             "ticks": ""
            },
            "colorscale": [
             [
              0,
              "#0d0887"
             ],
             [
              0.1111111111111111,
              "#46039f"
             ],
             [
              0.2222222222222222,
              "#7201a8"
             ],
             [
              0.3333333333333333,
              "#9c179e"
             ],
             [
              0.4444444444444444,
              "#bd3786"
             ],
             [
              0.5555555555555556,
              "#d8576b"
             ],
             [
              0.6666666666666666,
              "#ed7953"
             ],
             [
              0.7777777777777778,
              "#fb9f3a"
             ],
             [
              0.8888888888888888,
              "#fdca26"
             ],
             [
              1,
              "#f0f921"
             ]
            ],
            "type": "contour"
           }
          ],
          "contourcarpet": [
           {
            "colorbar": {
             "outlinewidth": 0,
             "ticks": ""
            },
            "type": "contourcarpet"
           }
          ],
          "heatmap": [
           {
            "colorbar": {
             "outlinewidth": 0,
             "ticks": ""
            },
            "colorscale": [
             [
              0,
              "#0d0887"
             ],
             [
              0.1111111111111111,
              "#46039f"
             ],
             [
              0.2222222222222222,
              "#7201a8"
             ],
             [
              0.3333333333333333,
              "#9c179e"
             ],
             [
              0.4444444444444444,
              "#bd3786"
             ],
             [
              0.5555555555555556,
              "#d8576b"
             ],
             [
              0.6666666666666666,
              "#ed7953"
             ],
             [
              0.7777777777777778,
              "#fb9f3a"
             ],
             [
              0.8888888888888888,
              "#fdca26"
             ],
             [
              1,
              "#f0f921"
             ]
            ],
            "type": "heatmap"
           }
          ],
          "heatmapgl": [
           {
            "colorbar": {
             "outlinewidth": 0,
             "ticks": ""
            },
            "colorscale": [
             [
              0,
              "#0d0887"
             ],
             [
              0.1111111111111111,
              "#46039f"
             ],
             [
              0.2222222222222222,
              "#7201a8"
             ],
             [
              0.3333333333333333,
              "#9c179e"
             ],
             [
              0.4444444444444444,
              "#bd3786"
             ],
             [
              0.5555555555555556,
              "#d8576b"
             ],
             [
              0.6666666666666666,
              "#ed7953"
             ],
             [
              0.7777777777777778,
              "#fb9f3a"
             ],
             [
              0.8888888888888888,
              "#fdca26"
             ],
             [
              1,
              "#f0f921"
             ]
            ],
            "type": "heatmapgl"
           }
          ],
          "histogram": [
           {
            "marker": {
             "pattern": {
              "fillmode": "overlay",
              "size": 10,
              "solidity": 0.2
             }
            },
            "type": "histogram"
           }
          ],
          "histogram2d": [
           {
            "colorbar": {
             "outlinewidth": 0,
             "ticks": ""
            },
            "colorscale": [
             [
              0,
              "#0d0887"
             ],
             [
              0.1111111111111111,
              "#46039f"
             ],
             [
              0.2222222222222222,
              "#7201a8"
             ],
             [
              0.3333333333333333,
              "#9c179e"
             ],
             [
              0.4444444444444444,
              "#bd3786"
             ],
             [
              0.5555555555555556,
              "#d8576b"
             ],
             [
              0.6666666666666666,
              "#ed7953"
             ],
             [
              0.7777777777777778,
              "#fb9f3a"
             ],
             [
              0.8888888888888888,
              "#fdca26"
             ],
             [
              1,
              "#f0f921"
             ]
            ],
            "type": "histogram2d"
           }
          ],
          "histogram2dcontour": [
           {
            "colorbar": {
             "outlinewidth": 0,
             "ticks": ""
            },
            "colorscale": [
             [
              0,
              "#0d0887"
             ],
             [
              0.1111111111111111,
              "#46039f"
             ],
             [
              0.2222222222222222,
              "#7201a8"
             ],
             [
              0.3333333333333333,
              "#9c179e"
             ],
             [
              0.4444444444444444,
              "#bd3786"
             ],
             [
              0.5555555555555556,
              "#d8576b"
             ],
             [
              0.6666666666666666,
              "#ed7953"
             ],
             [
              0.7777777777777778,
              "#fb9f3a"
             ],
             [
              0.8888888888888888,
              "#fdca26"
             ],
             [
              1,
              "#f0f921"
             ]
            ],
            "type": "histogram2dcontour"
           }
          ],
          "mesh3d": [
           {
            "colorbar": {
             "outlinewidth": 0,
             "ticks": ""
            },
            "type": "mesh3d"
           }
          ],
          "parcoords": [
           {
            "line": {
             "colorbar": {
              "outlinewidth": 0,
              "ticks": ""
             }
            },
            "type": "parcoords"
           }
          ],
          "pie": [
           {
            "automargin": true,
            "type": "pie"
           }
          ],
          "scatter": [
           {
            "fillpattern": {
             "fillmode": "overlay",
             "size": 10,
             "solidity": 0.2
            },
            "type": "scatter"
           }
          ],
          "scatter3d": [
           {
            "line": {
             "colorbar": {
              "outlinewidth": 0,
              "ticks": ""
             }
            },
            "marker": {
             "colorbar": {
              "outlinewidth": 0,
              "ticks": ""
             }
            },
            "type": "scatter3d"
           }
          ],
          "scattercarpet": [
           {
            "marker": {
             "colorbar": {
              "outlinewidth": 0,
              "ticks": ""
             }
            },
            "type": "scattercarpet"
           }
          ],
          "scattergeo": [
           {
            "marker": {
             "colorbar": {
              "outlinewidth": 0,
              "ticks": ""
             }
            },
            "type": "scattergeo"
           }
          ],
          "scattergl": [
           {
            "marker": {
             "colorbar": {
              "outlinewidth": 0,
              "ticks": ""
             }
            },
            "type": "scattergl"
           }
          ],
          "scattermapbox": [
           {
            "marker": {
             "colorbar": {
              "outlinewidth": 0,
              "ticks": ""
             }
            },
            "type": "scattermapbox"
           }
          ],
          "scatterpolar": [
           {
            "marker": {
             "colorbar": {
              "outlinewidth": 0,
              "ticks": ""
             }
            },
            "type": "scatterpolar"
           }
          ],
          "scatterpolargl": [
           {
            "marker": {
             "colorbar": {
              "outlinewidth": 0,
              "ticks": ""
             }
            },
            "type": "scatterpolargl"
           }
          ],
          "scatterternary": [
           {
            "marker": {
             "colorbar": {
              "outlinewidth": 0,
              "ticks": ""
             }
            },
            "type": "scatterternary"
           }
          ],
          "surface": [
           {
            "colorbar": {
             "outlinewidth": 0,
             "ticks": ""
            },
            "colorscale": [
             [
              0,
              "#0d0887"
             ],
             [
              0.1111111111111111,
              "#46039f"
             ],
             [
              0.2222222222222222,
              "#7201a8"
             ],
             [
              0.3333333333333333,
              "#9c179e"
             ],
             [
              0.4444444444444444,
              "#bd3786"
             ],
             [
              0.5555555555555556,
              "#d8576b"
             ],
             [
              0.6666666666666666,
              "#ed7953"
             ],
             [
              0.7777777777777778,
              "#fb9f3a"
             ],
             [
              0.8888888888888888,
              "#fdca26"
             ],
             [
              1,
              "#f0f921"
             ]
            ],
            "type": "surface"
           }
          ],
          "table": [
           {
            "cells": {
             "fill": {
              "color": "#EBF0F8"
             },
             "line": {
              "color": "white"
             }
            },
            "header": {
             "fill": {
              "color": "#C8D4E3"
             },
             "line": {
              "color": "white"
             }
            },
            "type": "table"
           }
          ]
         },
         "layout": {
          "annotationdefaults": {
           "arrowcolor": "#2a3f5f",
           "arrowhead": 0,
           "arrowwidth": 1
          },
          "autotypenumbers": "strict",
          "coloraxis": {
           "colorbar": {
            "outlinewidth": 0,
            "ticks": ""
           }
          },
          "colorscale": {
           "diverging": [
            [
             0,
             "#8e0152"
            ],
            [
             0.1,
             "#c51b7d"
            ],
            [
             0.2,
             "#de77ae"
            ],
            [
             0.3,
             "#f1b6da"
            ],
            [
             0.4,
             "#fde0ef"
            ],
            [
             0.5,
             "#f7f7f7"
            ],
            [
             0.6,
             "#e6f5d0"
            ],
            [
             0.7,
             "#b8e186"
            ],
            [
             0.8,
             "#7fbc41"
            ],
            [
             0.9,
             "#4d9221"
            ],
            [
             1,
             "#276419"
            ]
           ],
           "sequential": [
            [
             0,
             "#0d0887"
            ],
            [
             0.1111111111111111,
             "#46039f"
            ],
            [
             0.2222222222222222,
             "#7201a8"
            ],
            [
             0.3333333333333333,
             "#9c179e"
            ],
            [
             0.4444444444444444,
             "#bd3786"
            ],
            [
             0.5555555555555556,
             "#d8576b"
            ],
            [
             0.6666666666666666,
             "#ed7953"
            ],
            [
             0.7777777777777778,
             "#fb9f3a"
            ],
            [
             0.8888888888888888,
             "#fdca26"
            ],
            [
             1,
             "#f0f921"
            ]
           ],
           "sequentialminus": [
            [
             0,
             "#0d0887"
            ],
            [
             0.1111111111111111,
             "#46039f"
            ],
            [
             0.2222222222222222,
             "#7201a8"
            ],
            [
             0.3333333333333333,
             "#9c179e"
            ],
            [
             0.4444444444444444,
             "#bd3786"
            ],
            [
             0.5555555555555556,
             "#d8576b"
            ],
            [
             0.6666666666666666,
             "#ed7953"
            ],
            [
             0.7777777777777778,
             "#fb9f3a"
            ],
            [
             0.8888888888888888,
             "#fdca26"
            ],
            [
             1,
             "#f0f921"
            ]
           ]
          },
          "colorway": [
           "#636efa",
           "#EF553B",
           "#00cc96",
           "#ab63fa",
           "#FFA15A",
           "#19d3f3",
           "#FF6692",
           "#B6E880",
           "#FF97FF",
           "#FECB52"
          ],
          "font": {
           "color": "#2a3f5f"
          },
          "geo": {
           "bgcolor": "white",
           "lakecolor": "white",
           "landcolor": "#E5ECF6",
           "showlakes": true,
           "showland": true,
           "subunitcolor": "white"
          },
          "hoverlabel": {
           "align": "left"
          },
          "hovermode": "closest",
          "mapbox": {
           "style": "light"
          },
          "paper_bgcolor": "white",
          "plot_bgcolor": "#E5ECF6",
          "polar": {
           "angularaxis": {
            "gridcolor": "white",
            "linecolor": "white",
            "ticks": ""
           },
           "bgcolor": "#E5ECF6",
           "radialaxis": {
            "gridcolor": "white",
            "linecolor": "white",
            "ticks": ""
           }
          },
          "scene": {
           "xaxis": {
            "backgroundcolor": "#E5ECF6",
            "gridcolor": "white",
            "gridwidth": 2,
            "linecolor": "white",
            "showbackground": true,
            "ticks": "",
            "zerolinecolor": "white"
           },
           "yaxis": {
            "backgroundcolor": "#E5ECF6",
            "gridcolor": "white",
            "gridwidth": 2,
            "linecolor": "white",
            "showbackground": true,
            "ticks": "",
            "zerolinecolor": "white"
           },
           "zaxis": {
            "backgroundcolor": "#E5ECF6",
            "gridcolor": "white",
            "gridwidth": 2,
            "linecolor": "white",
            "showbackground": true,
            "ticks": "",
            "zerolinecolor": "white"
           }
          },
          "shapedefaults": {
           "line": {
            "color": "#2a3f5f"
           }
          },
          "ternary": {
           "aaxis": {
            "gridcolor": "white",
            "linecolor": "white",
            "ticks": ""
           },
           "baxis": {
            "gridcolor": "white",
            "linecolor": "white",
            "ticks": ""
           },
           "bgcolor": "#E5ECF6",
           "caxis": {
            "gridcolor": "white",
            "linecolor": "white",
            "ticks": ""
           }
          },
          "title": {
           "x": 0.05
          },
          "xaxis": {
           "automargin": true,
           "gridcolor": "white",
           "linecolor": "white",
           "ticks": "",
           "title": {
            "standoff": 15
           },
           "zerolinecolor": "white",
           "zerolinewidth": 2
          },
          "yaxis": {
           "automargin": true,
           "gridcolor": "white",
           "linecolor": "white",
           "ticks": "",
           "title": {
            "standoff": 15
           },
           "zerolinecolor": "white",
           "zerolinewidth": 2
          }
         }
        },
        "title": {
         "text": "Percentage of Missing Values by Column"
        },
        "xaxis": {
         "anchor": "y",
         "autorange": true,
         "domain": [
          0,
          1
         ],
         "range": [
          -0.5,
          12.5
         ],
         "title": {
          "text": "Column"
         },
         "type": "category"
        },
        "yaxis": {
         "anchor": "x",
         "autorange": true,
         "domain": [
          0,
          1
         ],
         "range": [
          0,
          80.49473684210527
         ],
         "title": {
          "text": "Missing Percentage"
         },
         "type": "linear"
        }
       }
      },
      "image/png": "[encoded data removed]",
      "text/html": [
       "<div>                            <div id=\"7270d398-dc1f-403e-9fab-30ed15d2b405\" class=\"plotly-graph-div\" style=\"height:525px; width:100%;\"></div>            <script type=\"text/javascript\">                require([\"plotly\"], function(Plotly) {                    window.PLOTLYENV=window.PLOTLYENV || {};                                    if (document.getElementById(\"7270d398-dc1f-403e-9fab-30ed15d2b405\")) {                    Plotly.newPlot(                        \"7270d398-dc1f-403e-9fab-30ed15d2b405\",                        [{\"alignmentgroup\":\"True\",\"hovertemplate\":\"Column=%{x}\\u003cbr\\u003eMissing Percentage=%{marker.color}\\u003cextra\\u003e\\u003c\\u002fextra\\u003e\",\"legendgroup\":\"\",\"marker\":{\"color\":[76.47,65.65,57.22,57.22,35.08,23.55,10.12,2.22,0.27,0.18,0.0,0.0,0.0],\"coloraxis\":\"coloraxis\",\"pattern\":{\"shape\":\"\"}},\"name\":\"\",\"offsetgroup\":\"\",\"orientation\":\"v\",\"showlegend\":false,\"textposition\":\"auto\",\"x\":[\"Actor_ethnicity\",\"Actor_height\",\"Char_name\",\"Char_ID\",\"Actor_age_release\",\"Actor_birth\",\"Actor_gender\",\"Movie_release\",\"Actor_name\",\"Actor_ID\",\"Wiki_ID\",\"Freebase_ID\",\"Char\\u002fActor_map\"],\"xaxis\":\"x\",\"y\":[76.47,65.65,57.22,57.22,35.08,23.55,10.12,2.22,0.27,0.18,0.0,0.0,0.0],\"yaxis\":\"y\",\"type\":\"bar\"}],                        {\"template\":{\"data\":{\"histogram2dcontour\":[{\"type\":\"histogram2dcontour\",\"colorbar\":{\"outlinewidth\":0,\"ticks\":\"\"},\"colorscale\":[[0.0,\"#0d0887\"],[0.1111111111111111,\"#46039f\"],[0.2222222222222222,\"#7201a8\"],[0.3333333333333333,\"#9c179e\"],[0.4444444444444444,\"#bd3786\"],[0.5555555555555556,\"#d8576b\"],[0.6666666666666666,\"#ed7953\"],[0.7777777777777778,\"#fb9f3a\"],[0.8888888888888888,\"#fdca26\"],[1.0,\"#f0f921\"]]}],\"choropleth\":[{\"type\":\"choropleth\",\"colorbar\":{\"outlinewidth\":0,\"ticks\":\"\"}}],\"histogram2d\":[{\"type\":\"histogram2d\",\"colorbar\":{\"outlinewidth\":0,\"ticks\":\"\"},\"colorscale\":[[0.0,\"#0d0887\"],[0.1111111111111111,\"#46039f\"],[0.2222222222222222,\"#7201a8\"],[0.3333333333333333,\"#9c179e\"],[0.4444444444444444,\"#bd3786\"],[0.5555555555555556,\"#d8576b\"],[0.6666666666666666,\"#ed7953\"],[0.7777777777777778,\"#fb9f3a\"],[0.8888888888888888,\"#fdca26\"],[1.0,\"#f0f921\"]]}],\"heatmap\":[{\"type\":\"heatmap\",\"colorbar\":{\"outlinewidth\":0,\"ticks\":\"\"},\"colorscale\":[[0.0,\"#0d0887\"],[0.1111111111111111,\"#46039f\"],[0.2222222222222222,\"#7201a8\"],[0.3333333333333333,\"#9c179e\"],[0.4444444444444444,\"#bd3786\"],[0.5555555555555556,\"#d8576b\"],[0.6666666666666666,\"#ed7953\"],[0.7777777777777778,\"#fb9f3a\"],[0.8888888888888888,\"#fdca26\"],[1.0,\"#f0f921\"]]}],\"heatmapgl\":[{\"type\":\"heatmapgl\",\"colorbar\":{\"outlinewidth\":0,\"ticks\":\"\"},\"colorscale\":[[0.0,\"#0d0887\"],[0.1111111111111111,\"#46039f\"],[0.2222222222222222,\"#7201a8\"],[0.3333333333333333,\"#9c179e\"],[0.4444444444444444,\"#bd3786\"],[0.5555555555555556,\"#d8576b\"],[0.6666666666666666,\"#ed7953\"],[0.7777777777777778,\"#fb9f3a\"],[0.8888888888888888,\"#fdca26\"],[1.0,\"#f0f921\"]]}],\"contourcarpet\":[{\"type\":\"contourcarpet\",\"colorbar\":{\"outlinewidth\":0,\"ticks\":\"\"}}],\"contour\":[{\"type\":\"contour\",\"colorbar\":{\"outlinewidth\":0,\"ticks\":\"\"},\"colorscale\":[[0.0,\"#0d0887\"],[0.1111111111111111,\"#46039f\"],[0.2222222222222222,\"#7201a8\"],[0.3333333333333333,\"#9c179e\"],[0.4444444444444444,\"#bd3786\"],[0.5555555555555556,\"#d8576b\"],[0.6666666666666666,\"#ed7953\"],[0.7777777777777778,\"#fb9f3a\"],[0.8888888888888888,\"#fdca26\"],[1.0,\"#f0f921\"]]}],\"surface\":[{\"type\":\"surface\",\"colorbar\":{\"outlinewidth\":0,\"ticks\":\"\"},\"colorscale\":[[0.0,\"#0d0887\"],[0.1111111111111111,\"#46039f\"],[0.2222222222222222,\"#7201a8\"],[0.3333333333333333,\"#9c179e\"],[0.4444444444444444,\"#bd3786\"],[0.5555555555555556,\"#d8576b\"],[0.6666666666666666,\"#ed7953\"],[0.7777777777777778,\"#fb9f3a\"],[0.8888888888888888,\"#fdca26\"],[1.0,\"#f0f921\"]]}],\"mesh3d\":[{\"type\":\"mesh3d\",\"colorbar\":{\"outlinewidth\":0,\"ticks\":\"\"}}],\"scatter\":[{\"fillpattern\":{\"fillmode\":\"overlay\",\"size\":10,\"solidity\":0.2},\"type\":\"scatter\"}],\"parcoords\":[{\"type\":\"parcoords\",\"line\":{\"colorbar\":{\"outlinewidth\":0,\"ticks\":\"\"}}}],\"scatterpolargl\":[{\"type\":\"scatterpolargl\",\"marker\":{\"colorbar\":{\"outlinewidth\":0,\"ticks\":\"\"}}}],\"bar\":[{\"error_x\":{\"color\":\"#2a3f5f\"},\"error_y\":{\"color\":\"#2a3f5f\"},\"marker\":{\"line\":{\"color\":\"#E5ECF6\",\"width\":0.5},\"pattern\":{\"fillmode\":\"overlay\",\"size\":10,\"solidity\":0.2}},\"type\":\"bar\"}],\"scattergeo\":[{\"type\":\"scattergeo\",\"marker\":{\"colorbar\":{\"outlinewidth\":0,\"ticks\":\"\"}}}],\"scatterpolar\":[{\"type\":\"scatterpolar\",\"marker\":{\"colorbar\":{\"outlinewidth\":0,\"ticks\":\"\"}}}],\"histogram\":[{\"marker\":{\"pattern\":{\"fillmode\":\"overlay\",\"size\":10,\"solidity\":0.2}},\"type\":\"histogram\"}],\"scattergl\":[{\"type\":\"scattergl\",\"marker\":{\"colorbar\":{\"outlinewidth\":0,\"ticks\":\"\"}}}],\"scatter3d\":[{\"type\":\"scatter3d\",\"line\":{\"colorbar\":{\"outlinewidth\":0,\"ticks\":\"\"}},\"marker\":{\"colorbar\":{\"outlinewidth\":0,\"ticks\":\"\"}}}],\"scattermapbox\":[{\"type\":\"scattermapbox\",\"marker\":{\"colorbar\":{\"outlinewidth\":0,\"ticks\":\"\"}}}],\"scatterternary\":[{\"type\":\"scatterternary\",\"marker\":{\"colorbar\":{\"outlinewidth\":0,\"ticks\":\"\"}}}],\"scattercarpet\":[{\"type\":\"scattercarpet\",\"marker\":{\"colorbar\":{\"outlinewidth\":0,\"ticks\":\"\"}}}],\"carpet\":[{\"aaxis\":{\"endlinecolor\":\"#2a3f5f\",\"gridcolor\":\"white\",\"linecolor\":\"white\",\"minorgridcolor\":\"white\",\"startlinecolor\":\"#2a3f5f\"},\"baxis\":{\"endlinecolor\":\"#2a3f5f\",\"gridcolor\":\"white\",\"linecolor\":\"white\",\"minorgridcolor\":\"white\",\"startlinecolor\":\"#2a3f5f\"},\"type\":\"carpet\"}],\"table\":[{\"cells\":{\"fill\":{\"color\":\"#EBF0F8\"},\"line\":{\"color\":\"white\"}},\"header\":{\"fill\":{\"color\":\"#C8D4E3\"},\"line\":{\"color\":\"white\"}},\"type\":\"table\"}],\"barpolar\":[{\"marker\":{\"line\":{\"color\":\"#E5ECF6\",\"width\":0.5},\"pattern\":{\"fillmode\":\"overlay\",\"size\":10,\"solidity\":0.2}},\"type\":\"barpolar\"}],\"pie\":[{\"automargin\":true,\"type\":\"pie\"}]},\"layout\":{\"autotypenumbers\":\"strict\",\"colorway\":[\"#636efa\",\"#EF553B\",\"#00cc96\",\"#ab63fa\",\"#FFA15A\",\"#19d3f3\",\"#FF6692\",\"#B6E880\",\"#FF97FF\",\"#FECB52\"],\"font\":{\"color\":\"#2a3f5f\"},\"hovermode\":\"closest\",\"hoverlabel\":{\"align\":\"left\"},\"paper_bgcolor\":\"white\",\"plot_bgcolor\":\"#E5ECF6\",\"polar\":{\"bgcolor\":\"#E5ECF6\",\"angularaxis\":{\"gridcolor\":\"white\",\"linecolor\":\"white\",\"ticks\":\"\"},\"radialaxis\":{\"gridcolor\":\"white\",\"linecolor\":\"white\",\"ticks\":\"\"}},\"ternary\":{\"bgcolor\":\"#E5ECF6\",\"aaxis\":{\"gridcolor\":\"white\",\"linecolor\":\"white\",\"ticks\":\"\"},\"baxis\":{\"gridcolor\":\"white\",\"linecolor\":\"white\",\"ticks\":\"\"},\"caxis\":{\"gridcolor\":\"white\",\"linecolor\":\"white\",\"ticks\":\"\"}},\"coloraxis\":{\"colorbar\":{\"outlinewidth\":0,\"ticks\":\"\"}},\"colorscale\":{\"sequential\":[[0.0,\"#0d0887\"],[0.1111111111111111,\"#46039f\"],[0.2222222222222222,\"#7201a8\"],[0.3333333333333333,\"#9c179e\"],[0.4444444444444444,\"#bd3786\"],[0.5555555555555556,\"#d8576b\"],[0.6666666666666666,\"#ed7953\"],[0.7777777777777778,\"#fb9f3a\"],[0.8888888888888888,\"#fdca26\"],[1.0,\"#f0f921\"]],\"sequentialminus\":[[0.0,\"#0d0887\"],[0.1111111111111111,\"#46039f\"],[0.2222222222222222,\"#7201a8\"],[0.3333333333333333,\"#9c179e\"],[0.4444444444444444,\"#bd3786\"],[0.5555555555555556,\"#d8576b\"],[0.6666666666666666,\"#ed7953\"],[0.7777777777777778,\"#fb9f3a\"],[0.8888888888888888,\"#fdca26\"],[1.0,\"#f0f921\"]],\"diverging\":[[0,\"#8e0152\"],[0.1,\"#c51b7d\"],[0.2,\"#de77ae\"],[0.3,\"#f1b6da\"],[0.4,\"#fde0ef\"],[0.5,\"#f7f7f7\"],[0.6,\"#e6f5d0\"],[0.7,\"#b8e186\"],[0.8,\"#7fbc41\"],[0.9,\"#4d9221\"],[1,\"#276419\"]]},\"xaxis\":{\"gridcolor\":\"white\",\"linecolor\":\"white\",\"ticks\":\"\",\"title\":{\"standoff\":15},\"zerolinecolor\":\"white\",\"automargin\":true,\"zerolinewidth\":2},\"yaxis\":{\"gridcolor\":\"white\",\"linecolor\":\"white\",\"ticks\":\"\",\"title\":{\"standoff\":15},\"zerolinecolor\":\"white\",\"automargin\":true,\"zerolinewidth\":2},\"scene\":{\"xaxis\":{\"backgroundcolor\":\"#E5ECF6\",\"gridcolor\":\"white\",\"linecolor\":\"white\",\"showbackground\":true,\"ticks\":\"\",\"zerolinecolor\":\"white\",\"gridwidth\":2},\"yaxis\":{\"backgroundcolor\":\"#E5ECF6\",\"gridcolor\":\"white\",\"linecolor\":\"white\",\"showbackground\":true,\"ticks\":\"\",\"zerolinecolor\":\"white\",\"gridwidth\":2},\"zaxis\":{\"backgroundcolor\":\"#E5ECF6\",\"gridcolor\":\"white\",\"linecolor\":\"white\",\"showbackground\":true,\"ticks\":\"\",\"zerolinecolor\":\"white\",\"gridwidth\":2}},\"shapedefaults\":{\"line\":{\"color\":\"#2a3f5f\"}},\"annotationdefaults\":{\"arrowcolor\":\"#2a3f5f\",\"arrowhead\":0,\"arrowwidth\":1},\"geo\":{\"bgcolor\":\"white\",\"landcolor\":\"#E5ECF6\",\"subunitcolor\":\"white\",\"showland\":true,\"showlakes\":true,\"lakecolor\":\"white\"},\"title\":{\"x\":0.05},\"mapbox\":{\"style\":\"light\"}}},\"xaxis\":{\"anchor\":\"y\",\"domain\":[0.0,1.0],\"title\":{\"text\":\"Column\"}},\"yaxis\":{\"anchor\":\"x\",\"domain\":[0.0,1.0],\"title\":{\"text\":\"Missing Percentage\"}},\"coloraxis\":{\"colorbar\":{\"title\":{\"text\":\"Missing Percentage\"}},\"colorscale\":[[0.0,\"rgb(0,104,55)\"],[0.1,\"rgb(26,152,80)\"],[0.2,\"rgb(102,189,99)\"],[0.3,\"rgb(166,217,106)\"],[0.4,\"rgb(217,239,139)\"],[0.5,\"rgb(255,255,191)\"],[0.6,\"rgb(254,224,139)\"],[0.7,\"rgb(253,174,97)\"],[0.8,\"rgb(244,109,67)\"],[0.9,\"rgb(215,48,39)\"],[1.0,\"rgb(165,0,38)\"]],\"cmin\":0,\"cmax\":100},\"legend\":{\"tracegroupgap\":0},\"title\":{\"text\":\"Percentage of Missing Values by Column\"},\"barmode\":\"relative\"},                        {\"responsive\": true}                    ).then(function(){\n",
       "                            \n",
       "var gd = document.getElementById('7270d398-dc1f-403e-9fab-30ed15d2b405');\n",
       "var x = new MutationObserver(function (mutations, observer) {{\n",
       "        var display = window.getComputedStyle(gd).display;\n",
       "        if (!display || display === 'none') {{\n",
       "            console.log([gd, 'removed!']);\n",
       "            Plotly.purge(gd);\n",
       "            observer.disconnect();\n",
       "        }}\n",
       "}});\n",
       "\n",
       "// Listen for the removal of the full notebook cells\n",
       "var notebookContainer = gd.closest('#notebook-container');\n",
       "if (notebookContainer) {{\n",
       "    x.observe(notebookContainer, {childList: true});\n",
       "}}\n",
       "\n",
       "// Listen for the clearing of the current output cell\n",
       "var outputEl = gd.closest('.output');\n",
       "if (outputEl) {{\n",
       "    x.observe(outputEl, {childList: true});\n",
       "}}\n",
       "\n",
       "                        })                };                });            </script>        </div>"
      ]
     },
     "metadata": {},
     "output_type": "display_data"
    }
   ],
   "source": [
    "# Calculate, sort, and round the missing percentages\n",
    "missing_percentage = (df_char.isnull().sum() / len(df_char) * 100).sort_values(ascending=False).round(2)\n",
    "\n",
    "# Convert the Series to DataFrame for compatibility with plotly\n",
    "df_missing = missing_percentage.reset_index()\n",
    "df_missing.columns = ['Column', 'Missing Percentage']\n",
    "\n",
    "# Create the plot with a specified color range\n",
    "fig = px.bar(df_missing, x='Column', y='Missing Percentage', \n",
    "             color='Missing Percentage', \n",
    "             color_continuous_scale=\"RdYlGn_r\", \n",
    "             range_color=[0, 100],  # Specifying the color scale range\n",
    "             title='Percentage of Missing Values by Column')\n",
    "fig.update_layout(coloraxis_colorbar=dict(title=\"Missing Percentage\"))\n",
    "fig.show()\n"
   ]
  },
  {
   "cell_type": "code",
   "execution_count": 41,
   "metadata": {},
   "outputs": [
    {
     "name": "stdout",
     "output_type": "stream",
     "text": [
      "Number of rows after dropping missing records:  45264\n"
     ]
    }
   ],
   "source": [
    "# drop records which contain missing values\n",
    "data_dropped = df_char.dropna()\n",
    "print(\"Number of rows after dropping missing records: \", len(data_dropped))"
   ]
  },
  {
   "cell_type": "markdown",
   "metadata": {},
   "source": [
    "We can still see that there is still a big number of rows where not a single feature is missing, so we could work with theses gf we wanted to analyse things around personnal actors characterics."
   ]
  },
  {
   "cell_type": "markdown",
   "metadata": {},
   "source": [
    "We will try to use the IMDb database to enrich the data of some of our data, because we would like to go deeper into chemistry between actors and with the directors themselves. So we might add the ratings of the films, number of votants, nominations and directors' names."
   ]
  },
  {
   "cell_type": "markdown",
   "metadata": {
    "tags": []
   },
   "source": [
    "### 1.2 Movie data"
   ]
  },
  {
   "cell_type": "markdown",
   "metadata": {
    "tags": []
   },
   "source": [
    "In the same manner, we can analyse our movie data : "
   ]
  },
  {
   "cell_type": "code",
   "execution_count": 42,
   "metadata": {
    "tags": []
   },
   "outputs": [
    {
     "data": {
      "application/vnd.plotly.v1+json": {
       "config": {
        "plotlyServerURL": "https://plot.ly"
       },
       "data": [
        {
         "alignmentgroup": "True",
         "hovertemplate": "Column=%{x}<br>Missing Percentage=%{marker.color}<extra></extra>",
         "legendgroup": "",
         "marker": {
          "color": [
           89.72,
           25.02,
           8.44,
           0,
           0,
           0,
           0,
           0,
           0
          ],
          "coloraxis": "coloraxis",
          "pattern": {
           "shape": ""
          }
         },
         "name": "",
         "offsetgroup": "",
         "orientation": "v",
         "showlegend": false,
         "textposition": "auto",
         "type": "bar",
         "x": [
          "Movie_revenue",
          "Movie_runtime",
          "Movie_release",
          "Wiki_ID",
          "Freebase_ID",
          "Movie_name",
          "Movie_languages",
          "Movie_countries",
          "Movie_genres"
         ],
         "xaxis": "x",
         "y": [
          89.72,
          25.02,
          8.44,
          0,
          0,
          0,
          0,
          0,
          0
         ],
         "yaxis": "y"
        }
       ],
       "layout": {
        "autosize": true,
        "barmode": "relative",
        "coloraxis": {
         "cmax": 100,
         "cmin": 0,
         "colorbar": {
          "title": {
           "text": "Missing Percentage"
          }
         },
         "colorscale": [
          [
           0,
           "rgb(0,104,55)"
          ],
          [
           0.1,
           "rgb(26,152,80)"
          ],
          [
           0.2,
           "rgb(102,189,99)"
          ],
          [
           0.3,
           "rgb(166,217,106)"
          ],
          [
           0.4,
           "rgb(217,239,139)"
          ],
          [
           0.5,
           "rgb(255,255,191)"
          ],
          [
           0.6,
           "rgb(254,224,139)"
          ],
          [
           0.7,
           "rgb(253,174,97)"
          ],
          [
           0.8,
           "rgb(244,109,67)"
          ],
          [
           0.9,
           "rgb(215,48,39)"
          ],
          [
           1,
           "rgb(165,0,38)"
          ]
         ]
        },
        "legend": {
         "tracegroupgap": 0
        },
        "template": {
         "data": {
          "bar": [
           {
            "error_x": {
             "color": "#2a3f5f"
            },
            "error_y": {
             "color": "#2a3f5f"
            },
            "marker": {
             "line": {
              "color": "#E5ECF6",
              "width": 0.5
             },
             "pattern": {
              "fillmode": "overlay",
              "size": 10,
              "solidity": 0.2
             }
            },
            "type": "bar"
           }
          ],
          "barpolar": [
           {
            "marker": {
             "line": {
              "color": "#E5ECF6",
              "width": 0.5
             },
             "pattern": {
              "fillmode": "overlay",
              "size": 10,
              "solidity": 0.2
             }
            },
            "type": "barpolar"
           }
          ],
          "carpet": [
           {
            "aaxis": {
             "endlinecolor": "#2a3f5f",
             "gridcolor": "white",
             "linecolor": "white",
             "minorgridcolor": "white",
             "startlinecolor": "#2a3f5f"
            },
            "baxis": {
             "endlinecolor": "#2a3f5f",
             "gridcolor": "white",
             "linecolor": "white",
             "minorgridcolor": "white",
             "startlinecolor": "#2a3f5f"
            },
            "type": "carpet"
           }
          ],
          "choropleth": [
           {
            "colorbar": {
             "outlinewidth": 0,
             "ticks": ""
            },
            "type": "choropleth"
           }
          ],
          "contour": [
           {
            "colorbar": {
             "outlinewidth": 0,
             "ticks": ""
            },
            "colorscale": [
             [
              0,
              "#0d0887"
             ],
             [
              0.1111111111111111,
              "#46039f"
             ],
             [
              0.2222222222222222,
              "#7201a8"
             ],
             [
              0.3333333333333333,
              "#9c179e"
             ],
             [
              0.4444444444444444,
              "#bd3786"
             ],
             [
              0.5555555555555556,
              "#d8576b"
             ],
             [
              0.6666666666666666,
              "#ed7953"
             ],
             [
              0.7777777777777778,
              "#fb9f3a"
             ],
             [
              0.8888888888888888,
              "#fdca26"
             ],
             [
              1,
              "#f0f921"
             ]
            ],
            "type": "contour"
           }
          ],
          "contourcarpet": [
           {
            "colorbar": {
             "outlinewidth": 0,
             "ticks": ""
            },
            "type": "contourcarpet"
           }
          ],
          "heatmap": [
           {
            "colorbar": {
             "outlinewidth": 0,
             "ticks": ""
            },
            "colorscale": [
             [
              0,
              "#0d0887"
             ],
             [
              0.1111111111111111,
              "#46039f"
             ],
             [
              0.2222222222222222,
              "#7201a8"
             ],
             [
              0.3333333333333333,
              "#9c179e"
             ],
             [
              0.4444444444444444,
              "#bd3786"
             ],
             [
              0.5555555555555556,
              "#d8576b"
             ],
             [
              0.6666666666666666,
              "#ed7953"
             ],
             [
              0.7777777777777778,
              "#fb9f3a"
             ],
             [
              0.8888888888888888,
              "#fdca26"
             ],
             [
              1,
              "#f0f921"
             ]
            ],
            "type": "heatmap"
           }
          ],
          "heatmapgl": [
           {
            "colorbar": {
             "outlinewidth": 0,
             "ticks": ""
            },
            "colorscale": [
             [
              0,
              "#0d0887"
             ],
             [
              0.1111111111111111,
              "#46039f"
             ],
             [
              0.2222222222222222,
              "#7201a8"
             ],
             [
              0.3333333333333333,
              "#9c179e"
             ],
             [
              0.4444444444444444,
              "#bd3786"
             ],
             [
              0.5555555555555556,
              "#d8576b"
             ],
             [
              0.6666666666666666,
              "#ed7953"
             ],
             [
              0.7777777777777778,
              "#fb9f3a"
             ],
             [
              0.8888888888888888,
              "#fdca26"
             ],
             [
              1,
              "#f0f921"
             ]
            ],
            "type": "heatmapgl"
           }
          ],
          "histogram": [
           {
            "marker": {
             "pattern": {
              "fillmode": "overlay",
              "size": 10,
              "solidity": 0.2
             }
            },
            "type": "histogram"
           }
          ],
          "histogram2d": [
           {
            "colorbar": {
             "outlinewidth": 0,
             "ticks": ""
            },
            "colorscale": [
             [
              0,
              "#0d0887"
             ],
             [
              0.1111111111111111,
              "#46039f"
             ],
             [
              0.2222222222222222,
              "#7201a8"
             ],
             [
              0.3333333333333333,
              "#9c179e"
             ],
             [
              0.4444444444444444,
              "#bd3786"
             ],
             [
              0.5555555555555556,
              "#d8576b"
             ],
             [
              0.6666666666666666,
              "#ed7953"
             ],
             [
              0.7777777777777778,
              "#fb9f3a"
             ],
             [
              0.8888888888888888,
              "#fdca26"
             ],
             [
              1,
              "#f0f921"
             ]
            ],
            "type": "histogram2d"
           }
          ],
          "histogram2dcontour": [
           {
            "colorbar": {
             "outlinewidth": 0,
             "ticks": ""
            },
            "colorscale": [
             [
              0,
              "#0d0887"
             ],
             [
              0.1111111111111111,
              "#46039f"
             ],
             [
              0.2222222222222222,
              "#7201a8"
             ],
             [
              0.3333333333333333,
              "#9c179e"
             ],
             [
              0.4444444444444444,
              "#bd3786"
             ],
             [
              0.5555555555555556,
              "#d8576b"
             ],
             [
              0.6666666666666666,
              "#ed7953"
             ],
             [
              0.7777777777777778,
              "#fb9f3a"
             ],
             [
              0.8888888888888888,
              "#fdca26"
             ],
             [
              1,
              "#f0f921"
             ]
            ],
            "type": "histogram2dcontour"
           }
          ],
          "mesh3d": [
           {
            "colorbar": {
             "outlinewidth": 0,
             "ticks": ""
            },
            "type": "mesh3d"
           }
          ],
          "parcoords": [
           {
            "line": {
             "colorbar": {
              "outlinewidth": 0,
              "ticks": ""
             }
            },
            "type": "parcoords"
           }
          ],
          "pie": [
           {
            "automargin": true,
            "type": "pie"
           }
          ],
          "scatter": [
           {
            "fillpattern": {
             "fillmode": "overlay",
             "size": 10,
             "solidity": 0.2
            },
            "type": "scatter"
           }
          ],
          "scatter3d": [
           {
            "line": {
             "colorbar": {
              "outlinewidth": 0,
              "ticks": ""
             }
            },
            "marker": {
             "colorbar": {
              "outlinewidth": 0,
              "ticks": ""
             }
            },
            "type": "scatter3d"
           }
          ],
          "scattercarpet": [
           {
            "marker": {
             "colorbar": {
              "outlinewidth": 0,
              "ticks": ""
             }
            },
            "type": "scattercarpet"
           }
          ],
          "scattergeo": [
           {
            "marker": {
             "colorbar": {
              "outlinewidth": 0,
              "ticks": ""
             }
            },
            "type": "scattergeo"
           }
          ],
          "scattergl": [
           {
            "marker": {
             "colorbar": {
              "outlinewidth": 0,
              "ticks": ""
             }
            },
            "type": "scattergl"
           }
          ],
          "scattermapbox": [
           {
            "marker": {
             "colorbar": {
              "outlinewidth": 0,
              "ticks": ""
             }
            },
            "type": "scattermapbox"
           }
          ],
          "scatterpolar": [
           {
            "marker": {
             "colorbar": {
              "outlinewidth": 0,
              "ticks": ""
             }
            },
            "type": "scatterpolar"
           }
          ],
          "scatterpolargl": [
           {
            "marker": {
             "colorbar": {
              "outlinewidth": 0,
              "ticks": ""
             }
            },
            "type": "scatterpolargl"
           }
          ],
          "scatterternary": [
           {
            "marker": {
             "colorbar": {
              "outlinewidth": 0,
              "ticks": ""
             }
            },
            "type": "scatterternary"
           }
          ],
          "surface": [
           {
            "colorbar": {
             "outlinewidth": 0,
             "ticks": ""
            },
            "colorscale": [
             [
              0,
              "#0d0887"
             ],
             [
              0.1111111111111111,
              "#46039f"
             ],
             [
              0.2222222222222222,
              "#7201a8"
             ],
             [
              0.3333333333333333,
              "#9c179e"
             ],
             [
              0.4444444444444444,
              "#bd3786"
             ],
             [
              0.5555555555555556,
              "#d8576b"
             ],
             [
              0.6666666666666666,
              "#ed7953"
             ],
             [
              0.7777777777777778,
              "#fb9f3a"
             ],
             [
              0.8888888888888888,
              "#fdca26"
             ],
             [
              1,
              "#f0f921"
             ]
            ],
            "type": "surface"
           }
          ],
          "table": [
           {
            "cells": {
             "fill": {
              "color": "#EBF0F8"
             },
             "line": {
              "color": "white"
             }
            },
            "header": {
             "fill": {
              "color": "#C8D4E3"
             },
             "line": {
              "color": "white"
             }
            },
            "type": "table"
           }
          ]
         },
         "layout": {
          "annotationdefaults": {
           "arrowcolor": "#2a3f5f",
           "arrowhead": 0,
           "arrowwidth": 1
          },
          "autotypenumbers": "strict",
          "coloraxis": {
           "colorbar": {
            "outlinewidth": 0,
            "ticks": ""
           }
          },
          "colorscale": {
           "diverging": [
            [
             0,
             "#8e0152"
            ],
            [
             0.1,
             "#c51b7d"
            ],
            [
             0.2,
             "#de77ae"
            ],
            [
             0.3,
             "#f1b6da"
            ],
            [
             0.4,
             "#fde0ef"
            ],
            [
             0.5,
             "#f7f7f7"
            ],
            [
             0.6,
             "#e6f5d0"
            ],
            [
             0.7,
             "#b8e186"
            ],
            [
             0.8,
             "#7fbc41"
            ],
            [
             0.9,
             "#4d9221"
            ],
            [
             1,
             "#276419"
            ]
           ],
           "sequential": [
            [
             0,
             "#0d0887"
            ],
            [
             0.1111111111111111,
             "#46039f"
            ],
            [
             0.2222222222222222,
             "#7201a8"
            ],
            [
             0.3333333333333333,
             "#9c179e"
            ],
            [
             0.4444444444444444,
             "#bd3786"
            ],
            [
             0.5555555555555556,
             "#d8576b"
            ],
            [
             0.6666666666666666,
             "#ed7953"
            ],
            [
             0.7777777777777778,
             "#fb9f3a"
            ],
            [
             0.8888888888888888,
             "#fdca26"
            ],
            [
             1,
             "#f0f921"
            ]
           ],
           "sequentialminus": [
            [
             0,
             "#0d0887"
            ],
            [
             0.1111111111111111,
             "#46039f"
            ],
            [
             0.2222222222222222,
             "#7201a8"
            ],
            [
             0.3333333333333333,
             "#9c179e"
            ],
            [
             0.4444444444444444,
             "#bd3786"
            ],
            [
             0.5555555555555556,
             "#d8576b"
            ],
            [
             0.6666666666666666,
             "#ed7953"
            ],
            [
             0.7777777777777778,
             "#fb9f3a"
            ],
            [
             0.8888888888888888,
             "#fdca26"
            ],
            [
             1,
             "#f0f921"
            ]
           ]
          },
          "colorway": [
           "#636efa",
           "#EF553B",
           "#00cc96",
           "#ab63fa",
           "#FFA15A",
           "#19d3f3",
           "#FF6692",
           "#B6E880",
           "#FF97FF",
           "#FECB52"
          ],
          "font": {
           "color": "#2a3f5f"
          },
          "geo": {
           "bgcolor": "white",
           "lakecolor": "white",
           "landcolor": "#E5ECF6",
           "showlakes": true,
           "showland": true,
           "subunitcolor": "white"
          },
          "hoverlabel": {
           "align": "left"
          },
          "hovermode": "closest",
          "mapbox": {
           "style": "light"
          },
          "paper_bgcolor": "white",
          "plot_bgcolor": "#E5ECF6",
          "polar": {
           "angularaxis": {
            "gridcolor": "white",
            "linecolor": "white",
            "ticks": ""
           },
           "bgcolor": "#E5ECF6",
           "radialaxis": {
            "gridcolor": "white",
            "linecolor": "white",
            "ticks": ""
           }
          },
          "scene": {
           "xaxis": {
            "backgroundcolor": "#E5ECF6",
            "gridcolor": "white",
            "gridwidth": 2,
            "linecolor": "white",
            "showbackground": true,
            "ticks": "",
            "zerolinecolor": "white"
           },
           "yaxis": {
            "backgroundcolor": "#E5ECF6",
            "gridcolor": "white",
            "gridwidth": 2,
            "linecolor": "white",
            "showbackground": true,
            "ticks": "",
            "zerolinecolor": "white"
           },
           "zaxis": {
            "backgroundcolor": "#E5ECF6",
            "gridcolor": "white",
            "gridwidth": 2,
            "linecolor": "white",
            "showbackground": true,
            "ticks": "",
            "zerolinecolor": "white"
           }
          },
          "shapedefaults": {
           "line": {
            "color": "#2a3f5f"
           }
          },
          "ternary": {
           "aaxis": {
            "gridcolor": "white",
            "linecolor": "white",
            "ticks": ""
           },
           "baxis": {
            "gridcolor": "white",
            "linecolor": "white",
            "ticks": ""
           },
           "bgcolor": "#E5ECF6",
           "caxis": {
            "gridcolor": "white",
            "linecolor": "white",
            "ticks": ""
           }
          },
          "title": {
           "x": 0.05
          },
          "xaxis": {
           "automargin": true,
           "gridcolor": "white",
           "linecolor": "white",
           "ticks": "",
           "title": {
            "standoff": 15
           },
           "zerolinecolor": "white",
           "zerolinewidth": 2
          },
          "yaxis": {
           "automargin": true,
           "gridcolor": "white",
           "linecolor": "white",
           "ticks": "",
           "title": {
            "standoff": 15
           },
           "zerolinecolor": "white",
           "zerolinewidth": 2
          }
         }
        },
        "title": {
         "text": "Percentage of Missing Values by Column"
        },
        "xaxis": {
         "anchor": "y",
         "autorange": true,
         "domain": [
          0,
          1
         ],
         "range": [
          -0.5,
          8.5
         ],
         "title": {
          "text": "Column"
         },
         "type": "category"
        },
        "yaxis": {
         "anchor": "x",
         "autorange": true,
         "domain": [
          0,
          1
         ],
         "range": [
          0,
          94.4421052631579
         ],
         "title": {
          "text": "Missing Percentage"
         },
         "type": "linear"
        }
       }
      },
      "image/png": "[encoded data removed]",
      "text/html": [
       "<div>                            <div id=\"3824da96-e0af-4f39-8569-a0403418bc4c\" class=\"plotly-graph-div\" style=\"height:525px; width:100%;\"></div>            <script type=\"text/javascript\">                require([\"plotly\"], function(Plotly) {                    window.PLOTLYENV=window.PLOTLYENV || {};                                    if (document.getElementById(\"3824da96-e0af-4f39-8569-a0403418bc4c\")) {                    Plotly.newPlot(                        \"3824da96-e0af-4f39-8569-a0403418bc4c\",                        [{\"alignmentgroup\":\"True\",\"hovertemplate\":\"Column=%{x}\\u003cbr\\u003eMissing Percentage=%{marker.color}\\u003cextra\\u003e\\u003c\\u002fextra\\u003e\",\"legendgroup\":\"\",\"marker\":{\"color\":[89.72,25.02,8.44,0.0,0.0,0.0,0.0,0.0,0.0],\"coloraxis\":\"coloraxis\",\"pattern\":{\"shape\":\"\"}},\"name\":\"\",\"offsetgroup\":\"\",\"orientation\":\"v\",\"showlegend\":false,\"textposition\":\"auto\",\"x\":[\"Movie_revenue\",\"Movie_runtime\",\"Movie_release\",\"Wiki_ID\",\"Freebase_ID\",\"Movie_name\",\"Movie_languages\",\"Movie_countries\",\"Movie_genres\"],\"xaxis\":\"x\",\"y\":[89.72,25.02,8.44,0.0,0.0,0.0,0.0,0.0,0.0],\"yaxis\":\"y\",\"type\":\"bar\"}],                        {\"template\":{\"data\":{\"histogram2dcontour\":[{\"type\":\"histogram2dcontour\",\"colorbar\":{\"outlinewidth\":0,\"ticks\":\"\"},\"colorscale\":[[0.0,\"#0d0887\"],[0.1111111111111111,\"#46039f\"],[0.2222222222222222,\"#7201a8\"],[0.3333333333333333,\"#9c179e\"],[0.4444444444444444,\"#bd3786\"],[0.5555555555555556,\"#d8576b\"],[0.6666666666666666,\"#ed7953\"],[0.7777777777777778,\"#fb9f3a\"],[0.8888888888888888,\"#fdca26\"],[1.0,\"#f0f921\"]]}],\"choropleth\":[{\"type\":\"choropleth\",\"colorbar\":{\"outlinewidth\":0,\"ticks\":\"\"}}],\"histogram2d\":[{\"type\":\"histogram2d\",\"colorbar\":{\"outlinewidth\":0,\"ticks\":\"\"},\"colorscale\":[[0.0,\"#0d0887\"],[0.1111111111111111,\"#46039f\"],[0.2222222222222222,\"#7201a8\"],[0.3333333333333333,\"#9c179e\"],[0.4444444444444444,\"#bd3786\"],[0.5555555555555556,\"#d8576b\"],[0.6666666666666666,\"#ed7953\"],[0.7777777777777778,\"#fb9f3a\"],[0.8888888888888888,\"#fdca26\"],[1.0,\"#f0f921\"]]}],\"heatmap\":[{\"type\":\"heatmap\",\"colorbar\":{\"outlinewidth\":0,\"ticks\":\"\"},\"colorscale\":[[0.0,\"#0d0887\"],[0.1111111111111111,\"#46039f\"],[0.2222222222222222,\"#7201a8\"],[0.3333333333333333,\"#9c179e\"],[0.4444444444444444,\"#bd3786\"],[0.5555555555555556,\"#d8576b\"],[0.6666666666666666,\"#ed7953\"],[0.7777777777777778,\"#fb9f3a\"],[0.8888888888888888,\"#fdca26\"],[1.0,\"#f0f921\"]]}],\"heatmapgl\":[{\"type\":\"heatmapgl\",\"colorbar\":{\"outlinewidth\":0,\"ticks\":\"\"},\"colorscale\":[[0.0,\"#0d0887\"],[0.1111111111111111,\"#46039f\"],[0.2222222222222222,\"#7201a8\"],[0.3333333333333333,\"#9c179e\"],[0.4444444444444444,\"#bd3786\"],[0.5555555555555556,\"#d8576b\"],[0.6666666666666666,\"#ed7953\"],[0.7777777777777778,\"#fb9f3a\"],[0.8888888888888888,\"#fdca26\"],[1.0,\"#f0f921\"]]}],\"contourcarpet\":[{\"type\":\"contourcarpet\",\"colorbar\":{\"outlinewidth\":0,\"ticks\":\"\"}}],\"contour\":[{\"type\":\"contour\",\"colorbar\":{\"outlinewidth\":0,\"ticks\":\"\"},\"colorscale\":[[0.0,\"#0d0887\"],[0.1111111111111111,\"#46039f\"],[0.2222222222222222,\"#7201a8\"],[0.3333333333333333,\"#9c179e\"],[0.4444444444444444,\"#bd3786\"],[0.5555555555555556,\"#d8576b\"],[0.6666666666666666,\"#ed7953\"],[0.7777777777777778,\"#fb9f3a\"],[0.8888888888888888,\"#fdca26\"],[1.0,\"#f0f921\"]]}],\"surface\":[{\"type\":\"surface\",\"colorbar\":{\"outlinewidth\":0,\"ticks\":\"\"},\"colorscale\":[[0.0,\"#0d0887\"],[0.1111111111111111,\"#46039f\"],[0.2222222222222222,\"#7201a8\"],[0.3333333333333333,\"#9c179e\"],[0.4444444444444444,\"#bd3786\"],[0.5555555555555556,\"#d8576b\"],[0.6666666666666666,\"#ed7953\"],[0.7777777777777778,\"#fb9f3a\"],[0.8888888888888888,\"#fdca26\"],[1.0,\"#f0f921\"]]}],\"mesh3d\":[{\"type\":\"mesh3d\",\"colorbar\":{\"outlinewidth\":0,\"ticks\":\"\"}}],\"scatter\":[{\"fillpattern\":{\"fillmode\":\"overlay\",\"size\":10,\"solidity\":0.2},\"type\":\"scatter\"}],\"parcoords\":[{\"type\":\"parcoords\",\"line\":{\"colorbar\":{\"outlinewidth\":0,\"ticks\":\"\"}}}],\"scatterpolargl\":[{\"type\":\"scatterpolargl\",\"marker\":{\"colorbar\":{\"outlinewidth\":0,\"ticks\":\"\"}}}],\"bar\":[{\"error_x\":{\"color\":\"#2a3f5f\"},\"error_y\":{\"color\":\"#2a3f5f\"},\"marker\":{\"line\":{\"color\":\"#E5ECF6\",\"width\":0.5},\"pattern\":{\"fillmode\":\"overlay\",\"size\":10,\"solidity\":0.2}},\"type\":\"bar\"}],\"scattergeo\":[{\"type\":\"scattergeo\",\"marker\":{\"colorbar\":{\"outlinewidth\":0,\"ticks\":\"\"}}}],\"scatterpolar\":[{\"type\":\"scatterpolar\",\"marker\":{\"colorbar\":{\"outlinewidth\":0,\"ticks\":\"\"}}}],\"histogram\":[{\"marker\":{\"pattern\":{\"fillmode\":\"overlay\",\"size\":10,\"solidity\":0.2}},\"type\":\"histogram\"}],\"scattergl\":[{\"type\":\"scattergl\",\"marker\":{\"colorbar\":{\"outlinewidth\":0,\"ticks\":\"\"}}}],\"scatter3d\":[{\"type\":\"scatter3d\",\"line\":{\"colorbar\":{\"outlinewidth\":0,\"ticks\":\"\"}},\"marker\":{\"colorbar\":{\"outlinewidth\":0,\"ticks\":\"\"}}}],\"scattermapbox\":[{\"type\":\"scattermapbox\",\"marker\":{\"colorbar\":{\"outlinewidth\":0,\"ticks\":\"\"}}}],\"scatterternary\":[{\"type\":\"scatterternary\",\"marker\":{\"colorbar\":{\"outlinewidth\":0,\"ticks\":\"\"}}}],\"scattercarpet\":[{\"type\":\"scattercarpet\",\"marker\":{\"colorbar\":{\"outlinewidth\":0,\"ticks\":\"\"}}}],\"carpet\":[{\"aaxis\":{\"endlinecolor\":\"#2a3f5f\",\"gridcolor\":\"white\",\"linecolor\":\"white\",\"minorgridcolor\":\"white\",\"startlinecolor\":\"#2a3f5f\"},\"baxis\":{\"endlinecolor\":\"#2a3f5f\",\"gridcolor\":\"white\",\"linecolor\":\"white\",\"minorgridcolor\":\"white\",\"startlinecolor\":\"#2a3f5f\"},\"type\":\"carpet\"}],\"table\":[{\"cells\":{\"fill\":{\"color\":\"#EBF0F8\"},\"line\":{\"color\":\"white\"}},\"header\":{\"fill\":{\"color\":\"#C8D4E3\"},\"line\":{\"color\":\"white\"}},\"type\":\"table\"}],\"barpolar\":[{\"marker\":{\"line\":{\"color\":\"#E5ECF6\",\"width\":0.5},\"pattern\":{\"fillmode\":\"overlay\",\"size\":10,\"solidity\":0.2}},\"type\":\"barpolar\"}],\"pie\":[{\"automargin\":true,\"type\":\"pie\"}]},\"layout\":{\"autotypenumbers\":\"strict\",\"colorway\":[\"#636efa\",\"#EF553B\",\"#00cc96\",\"#ab63fa\",\"#FFA15A\",\"#19d3f3\",\"#FF6692\",\"#B6E880\",\"#FF97FF\",\"#FECB52\"],\"font\":{\"color\":\"#2a3f5f\"},\"hovermode\":\"closest\",\"hoverlabel\":{\"align\":\"left\"},\"paper_bgcolor\":\"white\",\"plot_bgcolor\":\"#E5ECF6\",\"polar\":{\"bgcolor\":\"#E5ECF6\",\"angularaxis\":{\"gridcolor\":\"white\",\"linecolor\":\"white\",\"ticks\":\"\"},\"radialaxis\":{\"gridcolor\":\"white\",\"linecolor\":\"white\",\"ticks\":\"\"}},\"ternary\":{\"bgcolor\":\"#E5ECF6\",\"aaxis\":{\"gridcolor\":\"white\",\"linecolor\":\"white\",\"ticks\":\"\"},\"baxis\":{\"gridcolor\":\"white\",\"linecolor\":\"white\",\"ticks\":\"\"},\"caxis\":{\"gridcolor\":\"white\",\"linecolor\":\"white\",\"ticks\":\"\"}},\"coloraxis\":{\"colorbar\":{\"outlinewidth\":0,\"ticks\":\"\"}},\"colorscale\":{\"sequential\":[[0.0,\"#0d0887\"],[0.1111111111111111,\"#46039f\"],[0.2222222222222222,\"#7201a8\"],[0.3333333333333333,\"#9c179e\"],[0.4444444444444444,\"#bd3786\"],[0.5555555555555556,\"#d8576b\"],[0.6666666666666666,\"#ed7953\"],[0.7777777777777778,\"#fb9f3a\"],[0.8888888888888888,\"#fdca26\"],[1.0,\"#f0f921\"]],\"sequentialminus\":[[0.0,\"#0d0887\"],[0.1111111111111111,\"#46039f\"],[0.2222222222222222,\"#7201a8\"],[0.3333333333333333,\"#9c179e\"],[0.4444444444444444,\"#bd3786\"],[0.5555555555555556,\"#d8576b\"],[0.6666666666666666,\"#ed7953\"],[0.7777777777777778,\"#fb9f3a\"],[0.8888888888888888,\"#fdca26\"],[1.0,\"#f0f921\"]],\"diverging\":[[0,\"#8e0152\"],[0.1,\"#c51b7d\"],[0.2,\"#de77ae\"],[0.3,\"#f1b6da\"],[0.4,\"#fde0ef\"],[0.5,\"#f7f7f7\"],[0.6,\"#e6f5d0\"],[0.7,\"#b8e186\"],[0.8,\"#7fbc41\"],[0.9,\"#4d9221\"],[1,\"#276419\"]]},\"xaxis\":{\"gridcolor\":\"white\",\"linecolor\":\"white\",\"ticks\":\"\",\"title\":{\"standoff\":15},\"zerolinecolor\":\"white\",\"automargin\":true,\"zerolinewidth\":2},\"yaxis\":{\"gridcolor\":\"white\",\"linecolor\":\"white\",\"ticks\":\"\",\"title\":{\"standoff\":15},\"zerolinecolor\":\"white\",\"automargin\":true,\"zerolinewidth\":2},\"scene\":{\"xaxis\":{\"backgroundcolor\":\"#E5ECF6\",\"gridcolor\":\"white\",\"linecolor\":\"white\",\"showbackground\":true,\"ticks\":\"\",\"zerolinecolor\":\"white\",\"gridwidth\":2},\"yaxis\":{\"backgroundcolor\":\"#E5ECF6\",\"gridcolor\":\"white\",\"linecolor\":\"white\",\"showbackground\":true,\"ticks\":\"\",\"zerolinecolor\":\"white\",\"gridwidth\":2},\"zaxis\":{\"backgroundcolor\":\"#E5ECF6\",\"gridcolor\":\"white\",\"linecolor\":\"white\",\"showbackground\":true,\"ticks\":\"\",\"zerolinecolor\":\"white\",\"gridwidth\":2}},\"shapedefaults\":{\"line\":{\"color\":\"#2a3f5f\"}},\"annotationdefaults\":{\"arrowcolor\":\"#2a3f5f\",\"arrowhead\":0,\"arrowwidth\":1},\"geo\":{\"bgcolor\":\"white\",\"landcolor\":\"#E5ECF6\",\"subunitcolor\":\"white\",\"showland\":true,\"showlakes\":true,\"lakecolor\":\"white\"},\"title\":{\"x\":0.05},\"mapbox\":{\"style\":\"light\"}}},\"xaxis\":{\"anchor\":\"y\",\"domain\":[0.0,1.0],\"title\":{\"text\":\"Column\"}},\"yaxis\":{\"anchor\":\"x\",\"domain\":[0.0,1.0],\"title\":{\"text\":\"Missing Percentage\"}},\"coloraxis\":{\"colorbar\":{\"title\":{\"text\":\"Missing Percentage\"}},\"colorscale\":[[0.0,\"rgb(0,104,55)\"],[0.1,\"rgb(26,152,80)\"],[0.2,\"rgb(102,189,99)\"],[0.3,\"rgb(166,217,106)\"],[0.4,\"rgb(217,239,139)\"],[0.5,\"rgb(255,255,191)\"],[0.6,\"rgb(254,224,139)\"],[0.7,\"rgb(253,174,97)\"],[0.8,\"rgb(244,109,67)\"],[0.9,\"rgb(215,48,39)\"],[1.0,\"rgb(165,0,38)\"]],\"cmin\":0,\"cmax\":100},\"legend\":{\"tracegroupgap\":0},\"title\":{\"text\":\"Percentage of Missing Values by Column\"},\"barmode\":\"relative\"},                        {\"responsive\": true}                    ).then(function(){\n",
       "                            \n",
       "var gd = document.getElementById('3824da96-e0af-4f39-8569-a0403418bc4c');\n",
       "var x = new MutationObserver(function (mutations, observer) {{\n",
       "        var display = window.getComputedStyle(gd).display;\n",
       "        if (!display || display === 'none') {{\n",
       "            console.log([gd, 'removed!']);\n",
       "            Plotly.purge(gd);\n",
       "            observer.disconnect();\n",
       "        }}\n",
       "}});\n",
       "\n",
       "// Listen for the removal of the full notebook cells\n",
       "var notebookContainer = gd.closest('#notebook-container');\n",
       "if (notebookContainer) {{\n",
       "    x.observe(notebookContainer, {childList: true});\n",
       "}}\n",
       "\n",
       "// Listen for the clearing of the current output cell\n",
       "var outputEl = gd.closest('.output');\n",
       "if (outputEl) {{\n",
       "    x.observe(outputEl, {childList: true});\n",
       "}}\n",
       "\n",
       "                        })                };                });            </script>        </div>"
      ]
     },
     "metadata": {},
     "output_type": "display_data"
    }
   ],
   "source": [
    "# Calculate, sort, and round the missing percentages\n",
    "missing_percentage = (df_mov.isna().sum() / len(df_mov) * 100).sort_values(ascending=False).round(2)\n",
    "\n",
    "# Convert the Series to DataFrame for compatibility with plotly\n",
    "df_missing = missing_percentage.reset_index()\n",
    "df_missing.columns = ['Column', 'Missing Percentage']\n",
    "\n",
    "# Create the plot with a specified color range\n",
    "fig = px.bar(df_missing, x='Column', y='Missing Percentage', \n",
    "             color='Missing Percentage', \n",
    "             color_continuous_scale=\"RdYlGn_r\", \n",
    "             range_color=[0, 100],  # Specifying the color scale range\n",
    "             title='Percentage of Missing Values by Column')\n",
    "fig.update_layout(coloraxis_colorbar=dict(title=\"Missing Percentage\"))\n",
    "fig.show()"
   ]
  },
  {
   "cell_type": "markdown",
   "metadata": {},
   "source": [
    "We can see that on the other hand, the movie data is quite complete. Therefore any analysis will be considered relevant around this data."
   ]
  },
  {
   "cell_type": "code",
   "execution_count": 45,
   "metadata": {},
   "outputs": [],
   "source": [
    "columns_mov = ['Wiki_ID', 'Freebase_ID', 'Movie_name', 'Movie_release', 'Movie_revenue', 'Movie_runtime', \n",
    "               'Movie_languages', 'Movie_countries', 'Movie_genres','Main_genre', 'Secondary_Genre']"
   ]
  },
  {
   "cell_type": "code",
   "execution_count": 46,
   "metadata": {
    "tags": []
   },
   "outputs": [],
   "source": [
    "df_mov1 = df_mov.copy()\n",
    "df_mov1['Movie_release'] = pd.to_datetime(df_mov1['Movie_release'], errors='coerce')\n",
    "\n",
    "# Extract year, month, and day into new columns\n",
    "df_mov1['Year_of_release'] = df_mov1['Movie_release'].dt.year\n",
    "df_mov1['Month_of_release'] = df_mov1['Movie_release'].dt.month\n",
    "df_mov1['Day_of_release'] = df_mov1['Movie_release'].dt.day\n"
   ]
  },
  {
   "cell_type": "code",
   "execution_count": 51,
   "metadata": {
    "tags": []
   },
   "outputs": [],
   "source": [
    "# Convert string representation of a dictionary to an actual dictionary\n",
    "df_mov1['Genre_dict'] = df_mov1['Movie_genres'].apply(lambda x: ast.literal_eval(x) if isinstance(x, str) else {})\n",
    "\n",
    "# Extract genres\n",
    "df_mov1['Main_genre'] = df_mov1['Genre_dict'].apply(lambda x: list(x.values())[0] if len(x) > 0 else None)\n",
    "df_mov1['Sec_Genre'] = df_mov1['Genre_dict'].apply(lambda x: list(x.values())[1] if len(x) > 1 else None)\n",
    "\n",
    "# Drop the temporary Genre_dict column\n",
    "df_mov1.drop(columns=['Genre_dict'], inplace=True)\n"
   ]
  },
  {
   "cell_type": "markdown",
   "metadata": {
    "tags": []
   },
   "source": [
    "Now that we separated the month and day from the movie release date, we can plot analysis using them :"
   ]
  },
  {
   "cell_type": "code",
   "execution_count": 52,
   "metadata": {
    "tags": []
   },
   "outputs": [
    {
     "data": {
      "application/vnd.plotly.v1+json": {
       "config": {
        "plotlyServerURL": "https://plot.ly"
       },
       "data": [
        {
         "marker": {
          "color": [
           "#f0f921",
           "#fdca26",
           "#fb9f3a",
           "#ed7953",
           "#d8576b",
           "#bd3786",
           "#9c179e",
           "#7201a8",
           "#46039f",
           "#0d0887"
          ]
         },
         "name": "Action & Drama",
         "opacity": 1,
         "type": "bar",
         "visible": false,
         "x": [
          "January",
          "February",
          "March",
          "April",
          "May",
          "June",
          "July",
          "August",
          "September",
          "October",
          "November",
          "December"
         ],
         "y": [
          34136660.94444445,
          29731987.737254903,
          28975687.204481788,
          31598915.647058822,
          24249186.73529412,
          42236664.106617644,
          30326237.663101602,
          33409220.951871656,
          33712700.682352945,
          31598915.64705882,
          29894468.770053472,
          31598915.647058822
         ]
        },
        {
         "marker": {
          "color": [
           "#f0f921",
           "#fdca26",
           "#fb9f3a",
           "#ed7953",
           "#d8576b",
           "#bd3786",
           "#9c179e",
           "#7201a8",
           "#46039f",
           "#0d0887"
          ]
         },
         "name": "Action/Adventure & Thriller",
         "opacity": 1,
         "type": "bar",
         "visible": false,
         "x": [
          "January",
          "February",
          "March",
          "April",
          "May",
          "June",
          "July",
          "August",
          "September",
          "October",
          "November",
          "December"
         ],
         "y": [
          70546550.0909091,
          87665406.20779221,
          106322154.18181817,
          133394294.2909091,
          209682028.34848484,
          129504270.43434344,
          58660044.43181818,
          103192741.81818181,
          84478652.1010101,
          95927284.84848483,
          167819556.36363637,
          84207161.2121212
         ]
        },
        {
         "marker": {
          "color": [
           "#f0f921",
           "#fdca26",
           "#fb9f3a",
           "#ed7953",
           "#d8576b",
           "#bd3786",
           "#9c179e",
           "#7201a8",
           "#46039f",
           "#0d0887"
          ]
         },
         "name": "Action/Adventure & Action",
         "opacity": 1,
         "type": "bar",
         "visible": false,
         "x": [
          "January",
          "February",
          "March",
          "April",
          "May",
          "June",
          "July",
          "August",
          "September",
          "October",
          "November",
          "December"
         ],
         "y": [
          21994071.529411763,
          28605799.665158372,
          24580993.20588235,
          16533243.819607843,
          45746490.73856209,
          20437156.352941174,
          28653716.397058822,
          21480556.55462185,
          20079690.676470585,
          18970267.522058822,
          21994071.529411763,
          19780442.797385618
         ]
        },
        {
         "marker": {
          "color": [
           "#f0f921",
           "#fdca26",
           "#fb9f3a",
           "#ed7953",
           "#d8576b",
           "#bd3786",
           "#9c179e",
           "#7201a8",
           "#46039f",
           "#0d0887"
          ]
         },
         "name": "Adventure & Children's/Family",
         "opacity": 1,
         "type": "bar",
         "visible": false,
         "x": [
          "January",
          "February",
          "March",
          "April",
          "May",
          "June",
          "July",
          "August",
          "September",
          "October",
          "November",
          "December"
         ],
         "y": [
          62053461.6,
          89493092.30902779,
          152490628.546875,
          104381644.6698718,
          332830355.7317708,
          296782533.17083335,
          192395137.98317307,
          78293519.10677084,
          69116143.26488096,
          226619385.9854167,
          154481840.23632812,
          133862384.73039214
         ]
        },
        {
         "marker": {
          "color": [
           "#f0f921",
           "#fdca26",
           "#fb9f3a",
           "#ed7953",
           "#d8576b",
           "#bd3786",
           "#9c179e",
           "#7201a8",
           "#46039f",
           "#0d0887"
          ]
         },
         "name": "Crime Fiction & Thriller",
         "opacity": 1,
         "type": "bar",
         "visible": false,
         "x": [
          "January",
          "February",
          "March",
          "April",
          "May",
          "June",
          "July",
          "August",
          "September",
          "October",
          "November",
          "December"
         ],
         "y": [
          37193968.113172546,
          52934326.34161491,
          63675341.403538495,
          49895507.76881452,
          59234214.43044733,
          86802439.61831251,
          126118203.46518244,
          67800281.2960373,
          48883907.174013786,
          59162099.95052567,
          78262485.91529192,
          74357208.04858105
         ]
        },
        {
         "marker": {
          "color": [
           "#f0f921",
           "#fdca26",
           "#fb9f3a",
           "#ed7953",
           "#d8576b",
           "#bd3786",
           "#9c179e",
           "#7201a8",
           "#46039f",
           "#0d0887"
          ]
         },
         "name": "Crime Fiction & Comedy film",
         "opacity": 1,
         "type": "bar",
         "visible": false,
         "x": [
          "January",
          "February",
          "March",
          "April",
          "May",
          "June",
          "July",
          "August",
          "September",
          "October",
          "November",
          "December"
         ],
         "y": [
          49493954.6,
          49493954.6,
          74842516.83333333,
          44615882.54000001,
          49493954.6,
          44456165.025,
          49493954.6,
          49493954.6,
          49493954.6,
          46628936.5625,
          49493954.6,
          49493954.6
         ]
        },
        {
         "marker": {
          "color": [
           "#f0f921",
           "#fdca26",
           "#fb9f3a",
           "#ed7953",
           "#d8576b",
           "#bd3786",
           "#9c179e",
           "#7201a8",
           "#46039f",
           "#0d0887"
          ]
         },
         "name": "Crime Fiction & Romance Film",
         "opacity": 1,
         "type": "bar",
         "visible": false,
         "x": [
          "January",
          "February",
          "March",
          "April",
          "May",
          "June",
          "July",
          "August",
          "September",
          "October",
          "November",
          "December"
         ],
         "y": [
          45936219.333333336,
          43093942.6,
          45936219.333333336,
          42332239.740740746,
          45936219.333333336,
          40745330.85714286,
          76500938.1,
          41373582.740740746,
          45936219.333333336,
          45936219.333333336,
          41743739.79166667,
          34591644.75
         ]
        },
        {
         "marker": {
          "color": [
           "#f0f921",
           "#fdca26",
           "#fb9f3a",
           "#ed7953",
           "#d8576b",
           "#bd3786",
           "#9c179e",
           "#7201a8",
           "#46039f",
           "#0d0887"
          ]
         },
         "name": "Crime Fiction & Action",
         "opacity": 1,
         "type": "bar",
         "visible": false,
         "x": [
          "January",
          "February",
          "March",
          "April",
          "May",
          "June",
          "July",
          "August",
          "September",
          "October",
          "November",
          "December"
         ],
         "y": [
          35114037.26953125,
          36715290.6875,
          36715290.6875,
          37176015.329166666,
          36715290.6875,
          32788785.900735293,
          60273585.65,
          34795461.3881579,
          35115176.14930555,
          34105169.852678575,
          45300240.15,
          33832082.44318182
         ]
        },
        {
         "marker": {
          "color": [
           "#f0f921",
           "#fdca26",
           "#fb9f3a",
           "#ed7953",
           "#d8576b",
           "#bd3786",
           "#9c179e",
           "#7201a8",
           "#46039f",
           "#0d0887"
          ]
         },
         "name": "Crime Fiction & Mystery",
         "opacity": 1,
         "type": "bar",
         "visible": false,
         "x": [
          "January",
          "February",
          "March",
          "April",
          "May",
          "June",
          "July",
          "August",
          "September",
          "October",
          "November",
          "December"
         ],
         "y": [
          34223863.564705886,
          36355908.6,
          30641828.611111112,
          36355908.6,
          34276149.270588234,
          41945068.32631579,
          33859057.98571429,
          40012131.47142857,
          31861221.76,
          33720923.36363637,
          34116999.38333333,
          58665462.425000004
         ]
        },
        {
         "marker": {
          "color": [
           "#f0f921",
           "#fdca26",
           "#fb9f3a",
           "#ed7953",
           "#d8576b",
           "#bd3786",
           "#9c179e",
           "#7201a8",
           "#46039f",
           "#0d0887"
          ]
         },
         "name": "Family Film & Comedy",
         "opacity": 1,
         "type": "bar",
         "visible": false,
         "x": [
          "January",
          "February",
          "March",
          "April",
          "May",
          "June",
          "July",
          "August",
          "September",
          "October",
          "November",
          "December"
         ],
         "y": [
          44829634.14285714,
          38431657.12244898,
          66531261.057142854,
          44829634.14285714,
          33652338.21428572,
          65404663.761904754,
          24542974.82142857,
          36413130.190476194,
          44829634.14285714,
          38162029.91428571,
          47611521.72527473,
          44829634.14285714
         ]
        },
        {
         "marker": {
          "color": [
           "#f0f921",
           "#fdca26",
           "#fb9f3a",
           "#ed7953",
           "#d8576b",
           "#bd3786",
           "#9c179e",
           "#7201a8",
           "#46039f",
           "#0d0887"
          ]
         },
         "name": "Family Film & Drama",
         "opacity": 1,
         "type": "bar",
         "visible": false,
         "x": [
          "January",
          "February",
          "March",
          "April",
          "May",
          "June",
          "July",
          "August",
          "September",
          "October",
          "November",
          "December"
         ],
         "y": [
          60304537.63636363,
          43560826.61111111,
          41336187.666666664,
          41710938.35294118,
          42210117.071428575,
          63453114.06666667,
          41462637,
          44894626.05263158,
          48968440.583333336,
          42520965.38888889,
          42549290.5,
          44684415.777777776
         ]
        },
        {
         "marker": {
          "color": [
           "#f0f921",
           "#fdca26",
           "#fb9f3a",
           "#ed7953",
           "#d8576b",
           "#bd3786",
           "#9c179e",
           "#7201a8",
           "#46039f",
           "#0d0887"
          ]
         },
         "name": "Horror & Slasher",
         "opacity": 1,
         "type": "bar",
         "visible": false,
         "x": [
          "January",
          "February",
          "March",
          "April",
          "May",
          "June",
          "July",
          "August",
          "September",
          "October",
          "November",
          "December"
         ],
         "y": [
          19430351.363636363,
          38872596.40909091,
          25758407.727272727,
          21768080.295454547,
          25758407.72727273,
          25758407.727272727,
          25758407.727272727,
          27639129.129870128,
          30935650.836363636,
          30017555.354545455,
          30660701.329545453,
          18157577.484848484
         ]
        },
        {
         "marker": {
          "color": [
           "#f0f921",
           "#fdca26",
           "#fb9f3a",
           "#ed7953",
           "#d8576b",
           "#bd3786",
           "#9c179e",
           "#7201a8",
           "#46039f",
           "#0d0887"
          ]
         },
         "name": "Romance Film & Comedy",
         "opacity": 1,
         "type": "bar",
         "visible": false,
         "x": [
          "January",
          "February",
          "March",
          "April",
          "May",
          "June",
          "July",
          "August",
          "September",
          "October",
          "November",
          "December"
         ],
         "y": [
          31301145.942857143,
          35950824.05864662,
          36648382.489523806,
          90816387.48571429,
          41550352.25714286,
          39201597.775824174,
          43354824.961038955,
          35818159.07755102,
          37106558.225,
          42633807.297619045,
          25821300.33714286,
          47793967.32653061
         ]
        },
        {
         "marker": {
          "color": [
           "#f0f921",
           "#fdca26",
           "#fb9f3a",
           "#ed7953",
           "#d8576b",
           "#bd3786",
           "#9c179e",
           "#7201a8",
           "#46039f",
           "#0d0887"
          ]
         },
         "name": "Romance Film & Comedy film",
         "opacity": 1,
         "type": "bar",
         "visible": false,
         "x": [
          "January",
          "February",
          "March",
          "April",
          "May",
          "June",
          "July",
          "August",
          "September",
          "October",
          "November",
          "December"
         ],
         "y": [
          25175220.42857143,
          25175220.42857143,
          35736685.653061226,
          25504962.350649353,
          21025183.69047619,
          25175220.42857143,
          22112067.875,
          25175220.42857143,
          22715065.93877551,
          25175220.42857143,
          25175220.42857143,
          24264312.476190478
         ]
        },
        {
         "marker": {
          "color": [
           "#f0f921",
           "#fdca26",
           "#fb9f3a",
           "#ed7953",
           "#d8576b",
           "#bd3786",
           "#9c179e",
           "#7201a8",
           "#46039f",
           "#0d0887"
          ]
         },
         "name": "Romantic comedy & Romance Film",
         "opacity": 1,
         "type": "bar",
         "visible": false,
         "x": [
          "January",
          "February",
          "March",
          "April",
          "May",
          "June",
          "July",
          "August",
          "September",
          "October",
          "November",
          "December"
         ],
         "y": [
          51981585.70013864,
          67093605.419571534,
          62248055.53390523,
          46182955.79302832,
          55831764.61137788,
          69760652.9051006,
          55487923.92156863,
          38893710.81297134,
          42171318.03349673,
          53123831.63498153,
          53844185.43128422,
          62425598.795855924
         ]
        },
        {
         "marker": {
          "color": [
           "#f0f921",
           "#fdca26",
           "#fb9f3a",
           "#ed7953",
           "#d8576b",
           "#bd3786",
           "#9c179e",
           "#7201a8",
           "#46039f",
           "#0d0887"
          ]
         },
         "name": "Romantic comedy & World cinema",
         "opacity": 1,
         "type": "bar",
         "visible": false,
         "x": [
          "January",
          "February",
          "March",
          "April",
          "May",
          "June",
          "July",
          "August",
          "September",
          "October",
          "November",
          "December"
         ],
         "y": [
          23811380.263157893,
          23811380.263157893,
          23811380.263157893,
          34533564.10150376,
          21864777.907894734,
          23811380.263157893,
          23811380.263157893,
          22457005.165991902,
          23811380.263157893,
          23811380.263157893,
          21321617.357894737,
          27617593.563909773
         ]
        },
        {
         "marker": {
          "color": [
           "#f0f921",
           "#fdca26",
           "#fb9f3a",
           "#ed7953",
           "#d8576b",
           "#bd3786",
           "#9c179e",
           "#7201a8",
           "#46039f",
           "#0d0887"
          ]
         },
         "name": "Romantic drama & Romance Film",
         "opacity": 1,
         "type": "bar",
         "visible": false,
         "x": [
          "January",
          "February",
          "March",
          "April",
          "May",
          "June",
          "July",
          "August",
          "September",
          "October",
          "November",
          "December"
         ],
         "y": [
          21769337.678837556,
          20445124.16393443,
          19534677.01222318,
          22020294.170554858,
          23839704.938111577,
          22774246.42360656,
          22894686.342076503,
          27883980.31048187,
          19038947.975244246,
          19815591.48009368,
          18797566.074195508,
          28554359.370159186
         ]
        },
        {
         "marker": {
          "color": [
           "#f0f921",
           "#fdca26",
           "#fb9f3a",
           "#ed7953",
           "#d8576b",
           "#bd3786",
           "#9c179e",
           "#7201a8",
           "#46039f",
           "#0d0887"
          ]
         },
         "name": "Science Fiction & Action",
         "opacity": 1,
         "type": "bar",
         "visible": false,
         "x": [
          "January",
          "February",
          "March",
          "April",
          "May",
          "June",
          "July",
          "August",
          "September",
          "October",
          "November",
          "December"
         ],
         "y": [
          166929590.9722222,
          133375656.375,
          156062520.03703701,
          342462247.8333333,
          300374087.3076923,
          132833980.39393939,
          146947717.03333333,
          157377429.79629627,
          168637533.13888887,
          175062273.16666666,
          101303954.38888888,
          143309375.79166666
         ]
        },
        {
         "marker": {
          "color": [
           "#f0f921",
           "#fdca26",
           "#fb9f3a",
           "#ed7953",
           "#d8576b",
           "#bd3786",
           "#9c179e",
           "#7201a8",
           "#46039f",
           "#0d0887"
          ]
         },
         "name": "Science Fiction & Adventure",
         "opacity": 1,
         "type": "bar",
         "visible": false,
         "x": [
          "January",
          "February",
          "March",
          "April",
          "May",
          "June",
          "July",
          "August",
          "September",
          "October",
          "November",
          "December"
         ],
         "y": [
          161893612.8627451,
          161893612.8627451,
          142787701.5359477,
          129531390.71764708,
          375967188.40463454,
          172830548.68137255,
          143826058.30124778,
          93916770.84509805,
          161893612.8627451,
          141571130.7787115,
          133226598.66488414,
          144948480.81764707
         ]
        },
        {
         "marker": {
          "color": [
           "#f0f921",
           "#fdca26",
           "#fb9f3a",
           "#ed7953",
           "#d8576b",
           "#bd3786",
           "#9c179e",
           "#7201a8",
           "#46039f",
           "#0d0887"
          ]
         },
         "name": "Sports & Drama",
         "opacity": 1,
         "type": "bar",
         "visible": false,
         "x": [
          "January",
          "February",
          "March",
          "April",
          "May",
          "June",
          "July",
          "August",
          "September",
          "October",
          "November",
          "December"
         ],
         "y": [
          31298051.44736842,
          26477820.75657895,
          29168067.759398494,
          18277310.147368424,
          23481899.809210528,
          58633995.41447368,
          35356719.38596491,
          25026126.934210528,
          20058151.074561406,
          25655054.04511278,
          18176371.719298247,
          23148189.300751884
         ]
        },
        {
         "marker": {
          "color": [
           "#f0f921",
           "#fdca26",
           "#fb9f3a",
           "#ed7953",
           "#d8576b",
           "#bd3786",
           "#9c179e",
           "#7201a8",
           "#46039f",
           "#0d0887"
          ]
         },
         "name": "Thriller & Science Fiction",
         "opacity": 1,
         "type": "bar",
         "visible": false,
         "x": [
          "January",
          "February",
          "March",
          "April",
          "May",
          "June",
          "July",
          "August",
          "September",
          "October",
          "November",
          "December"
         ],
         "y": [
          93425172.34888634,
          126540689.9494135,
          122043243.2557899,
          157110335.4325269,
          212361381.18951613,
          288787064.3236559,
          197016969.05560675,
          116137136.6455972,
          100548312.17031491,
          110603433.81877239,
          178680651.27534562,
          212482495.67274424
         ]
        },
        {
         "marker": {
          "color": [
           "#f0f921",
           "#fdca26",
           "#fb9f3a",
           "#ed7953",
           "#d8576b",
           "#bd3786",
           "#9c179e",
           "#7201a8",
           "#46039f",
           "#0d0887"
          ]
         },
         "name": "Thriller & Action Thrillers",
         "opacity": 1,
         "type": "bar",
         "visible": false,
         "x": [
          "January",
          "February",
          "March",
          "April",
          "May",
          "June",
          "July",
          "August",
          "September",
          "October",
          "November",
          "December"
         ],
         "y": [
          132763850.09274194,
          85254107.9390681,
          103568191.94009216,
          253898337.27419353,
          174823429.44516128,
          113396790.10887095,
          155977582.74910393,
          143557056.35125446,
          100779844.2672811,
          104987018.69354838,
          145325423.44516128,
          182645017.26099706
         ]
        },
        {
         "marker": {
          "color": [
           "#f0f921",
           "#fdca26",
           "#fb9f3a",
           "#ed7953",
           "#d8576b",
           "#bd3786",
           "#9c179e",
           "#7201a8",
           "#46039f",
           "#0d0887"
          ]
         },
         "name": "Thriller & Action/Adventure",
         "opacity": 1,
         "type": "bar",
         "visible": false,
         "x": [
          "January",
          "February",
          "March",
          "April",
          "May",
          "June",
          "July",
          "August",
          "September",
          "October",
          "November",
          "December"
         ],
         "y": [
          46778495.90180032,
          81115865.59929077,
          49354133.515957445,
          56869646.38857783,
          97702356.4212766,
          164359433.08510637,
          73975395.11914894,
          53453142.948685855,
          63617561.785815604,
          73502691.19148935,
          57544389.770516716,
          76439569.06595746
         ]
        },
        {
         "marker": {
          "color": [
           "#f0f921",
           "#fdca26",
           "#fb9f3a",
           "#ed7953",
           "#d8576b",
           "#bd3786",
           "#9c179e",
           "#7201a8",
           "#46039f",
           "#0d0887"
          ]
         },
         "name": "Thriller & Crime Fiction",
         "opacity": 1,
         "type": "bar",
         "visible": true,
         "x": [
          "January",
          "February",
          "March",
          "April",
          "May",
          "June",
          "July",
          "August",
          "September",
          "October",
          "November",
          "December"
         ],
         "y": [
          58374204.15368172,
          59292944.493724175,
          53231643.44709536,
          62322999.46059783,
          61146957.218725674,
          85752279.40683563,
          86121385.64464079,
          55692775.94757034,
          62727940.529022045,
          57496966.98341907,
          76135291.10513337,
          68578133.88678297
         ]
        },
        {
         "marker": {
          "color": [
           "#f0f921",
           "#fdca26",
           "#fb9f3a",
           "#ed7953",
           "#d8576b",
           "#bd3786",
           "#9c179e",
           "#7201a8",
           "#46039f",
           "#0d0887"
          ]
         },
         "name": "Thriller & Horror",
         "opacity": 1,
         "type": "bar",
         "visible": false,
         "x": [
          "January",
          "February",
          "March",
          "April",
          "May",
          "June",
          "July",
          "August",
          "September",
          "October",
          "November",
          "December"
         ],
         "y": [
          53180343.53379953,
          73414613.54195803,
          54349341.14325069,
          46319453.753246754,
          46979790.18983957,
          58420160.05944056,
          74954358.00395258,
          73792332.46563193,
          55064242.92583732,
          54910753.78030303,
          77591389.41750842,
          49388868.36868687
         ]
        },
        {
         "marker": {
          "color": [
           "#f0f921",
           "#fdca26",
           "#fb9f3a",
           "#ed7953",
           "#d8576b",
           "#bd3786",
           "#9c179e",
           "#7201a8",
           "#46039f",
           "#0d0887"
          ]
         },
         "name": "Thriller & Mystery",
         "opacity": 1,
         "type": "bar",
         "visible": false,
         "x": [
          "January",
          "February",
          "March",
          "April",
          "May",
          "June",
          "July",
          "August",
          "September",
          "October",
          "November",
          "December"
         ],
         "y": [
          49156288.14542652,
          52819409.28776979,
          50408925.58735869,
          57450468.95930756,
          81643946.753551,
          63089148.939893246,
          57816050.52328663,
          44647454.16546763,
          51646273.58179543,
          48947481.21230075,
          47539132.01547852,
          57076714.23280576
         ]
        },
        {
         "marker": {
          "color": [
           "#f0f921",
           "#fdca26",
           "#fb9f3a",
           "#ed7953",
           "#d8576b",
           "#bd3786",
           "#9c179e",
           "#7201a8",
           "#46039f",
           "#0d0887"
          ]
         },
         "name": "Thriller & Crime Thriller",
         "opacity": 1,
         "type": "bar",
         "visible": false,
         "x": [
          "January",
          "February",
          "March",
          "April",
          "May",
          "June",
          "July",
          "August",
          "September",
          "October",
          "November",
          "December"
         ],
         "y": [
          27238794.634920634,
          32455960.553061225,
          30921446.28756957,
          27493912.680272106,
          28874888.671428572,
          40810360.72562358,
          29906859.816326525,
          34783030.91836735,
          32276320.89504373,
          30895866.680612244,
          26592978.083090376,
          25162573.634920634
         ]
        },
        {
         "marker": {
          "color": [
           "#f0f921",
           "#fdca26",
           "#fb9f3a",
           "#ed7953",
           "#d8576b",
           "#bd3786",
           "#9c179e",
           "#7201a8",
           "#46039f",
           "#0d0887"
          ]
         },
         "name": "Thriller & Drama",
         "opacity": 1,
         "type": "bar",
         "visible": false,
         "x": [
          "January",
          "February",
          "March",
          "April",
          "May",
          "June",
          "July",
          "August",
          "September",
          "October",
          "November",
          "December"
         ],
         "y": [
          27043643.95883941,
          32629601.365874365,
          28753699.195652176,
          28077522.715102974,
          24380004.270833332,
          29041109.157894734,
          46027307.47807018,
          29722417.657894734,
          26564275.885338347,
          24700871.49359886,
          30966890.395585738,
          43926500.6305668
         ]
        },
        {
         "marker": {
          "color": [
           "#f0f921",
           "#fdca26",
           "#fb9f3a",
           "#ed7953",
           "#d8576b",
           "#bd3786",
           "#9c179e",
           "#7201a8",
           "#46039f",
           "#0d0887"
          ]
         },
         "name": "Thriller & Action",
         "opacity": 1,
         "type": "bar",
         "visible": false,
         "x": [
          "January",
          "February",
          "March",
          "April",
          "May",
          "June",
          "July",
          "August",
          "September",
          "October",
          "November",
          "December"
         ],
         "y": [
          19983033.235795453,
          25960051.268939395,
          24227635.136363637,
          24227635.136363637,
          23985675.895104893,
          24227635.136363637,
          35027676.36931818,
          29839885.509090908,
          18399089.162878785,
          24227635.136363637,
          23922621.576923076,
          29479460.20909091
         ]
        },
        {
         "marker": {
          "color": [
           "#f0f921",
           "#fdca26",
           "#fb9f3a",
           "#ed7953",
           "#d8576b",
           "#bd3786",
           "#9c179e",
           "#7201a8",
           "#46039f",
           "#0d0887"
          ]
         },
         "name": "Thriller & World cinema",
         "opacity": 1,
         "type": "bar",
         "visible": false,
         "x": [
          "January",
          "February",
          "March",
          "April",
          "May",
          "June",
          "July",
          "August",
          "September",
          "October",
          "November",
          "December"
         ],
         "y": [
          21157008.07142857,
          19402499.4375,
          16432041.214285715,
          21157008.07142857,
          20209537.726190474,
          18806607.0625,
          21157008.07142857,
          21157008.07142857,
          27538340.964285713,
          18509543.91836735,
          25481632.5974026,
          14987591.035714285
         ]
        }
       ],
       "layout": {
        "autosize": true,
        "template": {
         "data": {
          "bar": [
           {
            "error_x": {
             "color": "#2a3f5f"
            },
            "error_y": {
             "color": "#2a3f5f"
            },
            "marker": {
             "line": {
              "color": "#E5ECF6",
              "width": 0.5
             },
             "pattern": {
              "fillmode": "overlay",
              "size": 10,
              "solidity": 0.2
             }
            },
            "type": "bar"
           }
          ],
          "barpolar": [
           {
            "marker": {
             "line": {
              "color": "#E5ECF6",
              "width": 0.5
             },
             "pattern": {
              "fillmode": "overlay",
              "size": 10,
              "solidity": 0.2
             }
            },
            "type": "barpolar"
           }
          ],
          "carpet": [
           {
            "aaxis": {
             "endlinecolor": "#2a3f5f",
             "gridcolor": "white",
             "linecolor": "white",
             "minorgridcolor": "white",
             "startlinecolor": "#2a3f5f"
            },
            "baxis": {
             "endlinecolor": "#2a3f5f",
             "gridcolor": "white",
             "linecolor": "white",
             "minorgridcolor": "white",
             "startlinecolor": "#2a3f5f"
            },
            "type": "carpet"
           }
          ],
          "choropleth": [
           {
            "colorbar": {
             "outlinewidth": 0,
             "ticks": ""
            },
            "type": "choropleth"
           }
          ],
          "contour": [
           {
            "colorbar": {
             "outlinewidth": 0,
             "ticks": ""
            },
            "colorscale": [
             [
              0,
              "#0d0887"
             ],
             [
              0.1111111111111111,
              "#46039f"
             ],
             [
              0.2222222222222222,
              "#7201a8"
             ],
             [
              0.3333333333333333,
              "#9c179e"
             ],
             [
              0.4444444444444444,
              "#bd3786"
             ],
             [
              0.5555555555555556,
              "#d8576b"
             ],
             [
              0.6666666666666666,
              "#ed7953"
             ],
             [
              0.7777777777777778,
              "#fb9f3a"
             ],
             [
              0.8888888888888888,
              "#fdca26"
             ],
             [
              1,
              "#f0f921"
             ]
            ],
            "type": "contour"
           }
          ],
          "contourcarpet": [
           {
            "colorbar": {
             "outlinewidth": 0,
             "ticks": ""
            },
            "type": "contourcarpet"
           }
          ],
          "heatmap": [
           {
            "colorbar": {
             "outlinewidth": 0,
             "ticks": ""
            },
            "colorscale": [
             [
              0,
              "#0d0887"
             ],
             [
              0.1111111111111111,
              "#46039f"
             ],
             [
              0.2222222222222222,
              "#7201a8"
             ],
             [
              0.3333333333333333,
              "#9c179e"
             ],
             [
              0.4444444444444444,
              "#bd3786"
             ],
             [
              0.5555555555555556,
              "#d8576b"
             ],
             [
              0.6666666666666666,
              "#ed7953"
             ],
             [
              0.7777777777777778,
              "#fb9f3a"
             ],
             [
              0.8888888888888888,
              "#fdca26"
             ],
             [
              1,
              "#f0f921"
             ]
            ],
            "type": "heatmap"
           }
          ],
          "heatmapgl": [
           {
            "colorbar": {
             "outlinewidth": 0,
             "ticks": ""
            },
            "colorscale": [
             [
              0,
              "#0d0887"
             ],
             [
              0.1111111111111111,
              "#46039f"
             ],
             [
              0.2222222222222222,
              "#7201a8"
             ],
             [
              0.3333333333333333,
              "#9c179e"
             ],
             [
              0.4444444444444444,
              "#bd3786"
             ],
             [
              0.5555555555555556,
              "#d8576b"
             ],
             [
              0.6666666666666666,
              "#ed7953"
             ],
             [
              0.7777777777777778,
              "#fb9f3a"
             ],
             [
              0.8888888888888888,
              "#fdca26"
             ],
             [
              1,
              "#f0f921"
             ]
            ],
            "type": "heatmapgl"
           }
          ],
          "histogram": [
           {
            "marker": {
             "pattern": {
              "fillmode": "overlay",
              "size": 10,
              "solidity": 0.2
             }
            },
            "type": "histogram"
           }
          ],
          "histogram2d": [
           {
            "colorbar": {
             "outlinewidth": 0,
             "ticks": ""
            },
            "colorscale": [
             [
              0,
              "#0d0887"
             ],
             [
              0.1111111111111111,
              "#46039f"
             ],
             [
              0.2222222222222222,
              "#7201a8"
             ],
             [
              0.3333333333333333,
              "#9c179e"
             ],
             [
              0.4444444444444444,
              "#bd3786"
             ],
             [
              0.5555555555555556,
              "#d8576b"
             ],
             [
              0.6666666666666666,
              "#ed7953"
             ],
             [
              0.7777777777777778,
              "#fb9f3a"
             ],
             [
              0.8888888888888888,
              "#fdca26"
             ],
             [
              1,
              "#f0f921"
             ]
            ],
            "type": "histogram2d"
           }
          ],
          "histogram2dcontour": [
           {
            "colorbar": {
             "outlinewidth": 0,
             "ticks": ""
            },
            "colorscale": [
             [
              0,
              "#0d0887"
             ],
             [
              0.1111111111111111,
              "#46039f"
             ],
             [
              0.2222222222222222,
              "#7201a8"
             ],
             [
              0.3333333333333333,
              "#9c179e"
             ],
             [
              0.4444444444444444,
              "#bd3786"
             ],
             [
              0.5555555555555556,
              "#d8576b"
             ],
             [
              0.6666666666666666,
              "#ed7953"
             ],
             [
              0.7777777777777778,
              "#fb9f3a"
             ],
             [
              0.8888888888888888,
              "#fdca26"
             ],
             [
              1,
              "#f0f921"
             ]
            ],
            "type": "histogram2dcontour"
           }
          ],
          "mesh3d": [
           {
            "colorbar": {
             "outlinewidth": 0,
             "ticks": ""
            },
            "type": "mesh3d"
           }
          ],
          "parcoords": [
           {
            "line": {
             "colorbar": {
              "outlinewidth": 0,
              "ticks": ""
             }
            },
            "type": "parcoords"
           }
          ],
          "pie": [
           {
            "automargin": true,
            "type": "pie"
           }
          ],
          "scatter": [
           {
            "fillpattern": {
             "fillmode": "overlay",
             "size": 10,
             "solidity": 0.2
            },
            "type": "scatter"
           }
          ],
          "scatter3d": [
           {
            "line": {
             "colorbar": {
              "outlinewidth": 0,
              "ticks": ""
             }
            },
            "marker": {
             "colorbar": {
              "outlinewidth": 0,
              "ticks": ""
             }
            },
            "type": "scatter3d"
           }
          ],
          "scattercarpet": [
           {
            "marker": {
             "colorbar": {
              "outlinewidth": 0,
              "ticks": ""
             }
            },
            "type": "scattercarpet"
           }
          ],
          "scattergeo": [
           {
            "marker": {
             "colorbar": {
              "outlinewidth": 0,
              "ticks": ""
             }
            },
            "type": "scattergeo"
           }
          ],
          "scattergl": [
           {
            "marker": {
             "colorbar": {
              "outlinewidth": 0,
              "ticks": ""
             }
            },
            "type": "scattergl"
           }
          ],
          "scattermapbox": [
           {
            "marker": {
             "colorbar": {
              "outlinewidth": 0,
              "ticks": ""
             }
            },
            "type": "scattermapbox"
           }
          ],
          "scatterpolar": [
           {
            "marker": {
             "colorbar": {
              "outlinewidth": 0,
              "ticks": ""
             }
            },
            "type": "scatterpolar"
           }
          ],
          "scatterpolargl": [
           {
            "marker": {
             "colorbar": {
              "outlinewidth": 0,
              "ticks": ""
             }
            },
            "type": "scatterpolargl"
           }
          ],
          "scatterternary": [
           {
            "marker": {
             "colorbar": {
              "outlinewidth": 0,
              "ticks": ""
             }
            },
            "type": "scatterternary"
           }
          ],
          "surface": [
           {
            "colorbar": {
             "outlinewidth": 0,
             "ticks": ""
            },
            "colorscale": [
             [
              0,
              "#0d0887"
             ],
             [
              0.1111111111111111,
              "#46039f"
             ],
             [
              0.2222222222222222,
              "#7201a8"
             ],
             [
              0.3333333333333333,
              "#9c179e"
             ],
             [
              0.4444444444444444,
              "#bd3786"
             ],
             [
              0.5555555555555556,
              "#d8576b"
             ],
             [
              0.6666666666666666,
              "#ed7953"
             ],
             [
              0.7777777777777778,
              "#fb9f3a"
             ],
             [
              0.8888888888888888,
              "#fdca26"
             ],
             [
              1,
              "#f0f921"
             ]
            ],
            "type": "surface"
           }
          ],
          "table": [
           {
            "cells": {
             "fill": {
              "color": "#EBF0F8"
             },
             "line": {
              "color": "white"
             }
            },
            "header": {
             "fill": {
              "color": "#C8D4E3"
             },
             "line": {
              "color": "white"
             }
            },
            "type": "table"
           }
          ]
         },
         "layout": {
          "annotationdefaults": {
           "arrowcolor": "#2a3f5f",
           "arrowhead": 0,
           "arrowwidth": 1
          },
          "autotypenumbers": "strict",
          "coloraxis": {
           "colorbar": {
            "outlinewidth": 0,
            "ticks": ""
           }
          },
          "colorscale": {
           "diverging": [
            [
             0,
             "#8e0152"
            ],
            [
             0.1,
             "#c51b7d"
            ],
            [
             0.2,
             "#de77ae"
            ],
            [
             0.3,
             "#f1b6da"
            ],
            [
             0.4,
             "#fde0ef"
            ],
            [
             0.5,
             "#f7f7f7"
            ],
            [
             0.6,
             "#e6f5d0"
            ],
            [
             0.7,
             "#b8e186"
            ],
            [
             0.8,
             "#7fbc41"
            ],
            [
             0.9,
             "#4d9221"
            ],
            [
             1,
             "#276419"
            ]
           ],
           "sequential": [
            [
             0,
             "#0d0887"
            ],
            [
             0.1111111111111111,
             "#46039f"
            ],
            [
             0.2222222222222222,
             "#7201a8"
            ],
            [
             0.3333333333333333,
             "#9c179e"
            ],
            [
             0.4444444444444444,
             "#bd3786"
            ],
            [
             0.5555555555555556,
             "#d8576b"
            ],
            [
             0.6666666666666666,
             "#ed7953"
            ],
            [
             0.7777777777777778,
             "#fb9f3a"
            ],
            [
             0.8888888888888888,
             "#fdca26"
            ],
            [
             1,
             "#f0f921"
            ]
           ],
           "sequentialminus": [
            [
             0,
             "#0d0887"
            ],
            [
             0.1111111111111111,
             "#46039f"
            ],
            [
             0.2222222222222222,
             "#7201a8"
            ],
            [
             0.3333333333333333,
             "#9c179e"
            ],
            [
             0.4444444444444444,
             "#bd3786"
            ],
            [
             0.5555555555555556,
             "#d8576b"
            ],
            [
             0.6666666666666666,
             "#ed7953"
            ],
            [
             0.7777777777777778,
             "#fb9f3a"
            ],
            [
             0.8888888888888888,
             "#fdca26"
            ],
            [
             1,
             "#f0f921"
            ]
           ]
          },
          "colorway": [
           "#636efa",
           "#EF553B",
           "#00cc96",
           "#ab63fa",
           "#FFA15A",
           "#19d3f3",
           "#FF6692",
           "#B6E880",
           "#FF97FF",
           "#FECB52"
          ],
          "font": {
           "color": "#2a3f5f"
          },
          "geo": {
           "bgcolor": "white",
           "lakecolor": "white",
           "landcolor": "#E5ECF6",
           "showlakes": true,
           "showland": true,
           "subunitcolor": "white"
          },
          "hoverlabel": {
           "align": "left"
          },
          "hovermode": "closest",
          "mapbox": {
           "style": "light"
          },
          "paper_bgcolor": "white",
          "plot_bgcolor": "#E5ECF6",
          "polar": {
           "angularaxis": {
            "gridcolor": "white",
            "linecolor": "white",
            "ticks": ""
           },
           "bgcolor": "#E5ECF6",
           "radialaxis": {
            "gridcolor": "white",
            "linecolor": "white",
            "ticks": ""
           }
          },
          "scene": {
           "xaxis": {
            "backgroundcolor": "#E5ECF6",
            "gridcolor": "white",
            "gridwidth": 2,
            "linecolor": "white",
            "showbackground": true,
            "ticks": "",
            "zerolinecolor": "white"
           },
           "yaxis": {
            "backgroundcolor": "#E5ECF6",
            "gridcolor": "white",
            "gridwidth": 2,
            "linecolor": "white",
            "showbackground": true,
            "ticks": "",
            "zerolinecolor": "white"
           },
           "zaxis": {
            "backgroundcolor": "#E5ECF6",
            "gridcolor": "white",
            "gridwidth": 2,
            "linecolor": "white",
            "showbackground": true,
            "ticks": "",
            "zerolinecolor": "white"
           }
          },
          "shapedefaults": {
           "line": {
            "color": "#2a3f5f"
           }
          },
          "ternary": {
           "aaxis": {
            "gridcolor": "white",
            "linecolor": "white",
            "ticks": ""
           },
           "baxis": {
            "gridcolor": "white",
            "linecolor": "white",
            "ticks": ""
           },
           "bgcolor": "#E5ECF6",
           "caxis": {
            "gridcolor": "white",
            "linecolor": "white",
            "ticks": ""
           }
          },
          "title": {
           "x": 0.05
          },
          "xaxis": {
           "automargin": true,
           "gridcolor": "white",
           "linecolor": "white",
           "ticks": "",
           "title": {
            "standoff": 15
           },
           "zerolinecolor": "white",
           "zerolinewidth": 2
          },
          "yaxis": {
           "automargin": true,
           "gridcolor": "white",
           "linecolor": "white",
           "ticks": "",
           "title": {
            "standoff": 15
           },
           "zerolinecolor": "white",
           "zerolinewidth": 2
          }
         }
        },
        "title": {
         "text": "Mean Box Office Revenues by Month of Release for Thriller & Crime Fiction"
        },
        "updatemenus": [
         {
          "active": 23,
          "buttons": [
           {
            "args": [
             {
              "visible": [
               true,
               false,
               false,
               false,
               false,
               false,
               false,
               false,
               false,
               false,
               false,
               false,
               false,
               false,
               false,
               false,
               false,
               false,
               false,
               false,
               false,
               false,
               false,
               false,
               false,
               false,
               false,
               false,
               false,
               false
              ]
             },
             {
              "title": "Mean Box Office Revenues by Month of Release for Action & Drama"
             }
            ],
            "label": "Action & Drama",
            "method": "update"
           },
           {
            "args": [
             {
              "visible": [
               false,
               true,
               false,
               false,
               false,
               false,
               false,
               false,
               false,
               false,
               false,
               false,
               false,
               false,
               false,
               false,
               false,
               false,
               false,
               false,
               false,
               false,
               false,
               false,
               false,
               false,
               false,
               false,
               false,
               false
              ]
             },
             {
              "title": "Mean Box Office Revenues by Month of Release for Action/Adventure & Thriller"
             }
            ],
            "label": "Action/Adventure & Thriller",
            "method": "update"
           },
           {
            "args": [
             {
              "visible": [
               false,
               false,
               true,
               false,
               false,
               false,
               false,
               false,
               false,
               false,
               false,
               false,
               false,
               false,
               false,
               false,
               false,
               false,
               false,
               false,
               false,
               false,
               false,
               false,
               false,
               false,
               false,
               false,
               false,
               false
              ]
             },
             {
              "title": "Mean Box Office Revenues by Month of Release for Action/Adventure & Action"
             }
            ],
            "label": "Action/Adventure & Action",
            "method": "update"
           },
           {
            "args": [
             {
              "visible": [
               false,
               false,
               false,
               true,
               false,
               false,
               false,
               false,
               false,
               false,
               false,
               false,
               false,
               false,
               false,
               false,
               false,
               false,
               false,
               false,
               false,
               false,
               false,
               false,
               false,
               false,
               false,
               false,
               false,
               false
              ]
             },
             {
              "title": "Mean Box Office Revenues by Month of Release for Adventure & Children's/Family"
             }
            ],
            "label": "Adventure & Children's/Family",
            "method": "update"
           },
           {
            "args": [
             {
              "visible": [
               false,
               false,
               false,
               false,
               true,
               false,
               false,
               false,
               false,
               false,
               false,
               false,
               false,
               false,
               false,
               false,
               false,
               false,
               false,
               false,
               false,
               false,
               false,
               false,
               false,
               false,
               false,
               false,
               false,
               false
              ]
             },
             {
              "title": "Mean Box Office Revenues by Month of Release for Crime Fiction & Thriller"
             }
            ],
            "label": "Crime Fiction & Thriller",
            "method": "update"
           },
           {
            "args": [
             {
              "visible": [
               false,
               false,
               false,
               false,
               false,
               true,
               false,
               false,
               false,
               false,
               false,
               false,
               false,
               false,
               false,
               false,
               false,
               false,
               false,
               false,
               false,
               false,
               false,
               false,
               false,
               false,
               false,
               false,
               false,
               false
              ]
             },
             {
              "title": "Mean Box Office Revenues by Month of Release for Crime Fiction & Comedy film"
             }
            ],
            "label": "Crime Fiction & Comedy film",
            "method": "update"
           },
           {
            "args": [
             {
              "visible": [
               false,
               false,
               false,
               false,
               false,
               false,
               true,
               false,
               false,
               false,
               false,
               false,
               false,
               false,
               false,
               false,
               false,
               false,
               false,
               false,
               false,
               false,
               false,
               false,
               false,
               false,
               false,
               false,
               false,
               false
              ]
             },
             {
              "title": "Mean Box Office Revenues by Month of Release for Crime Fiction & Romance Film"
             }
            ],
            "label": "Crime Fiction & Romance Film",
            "method": "update"
           },
           {
            "args": [
             {
              "visible": [
               false,
               false,
               false,
               false,
               false,
               false,
               false,
               true,
               false,
               false,
               false,
               false,
               false,
               false,
               false,
               false,
               false,
               false,
               false,
               false,
               false,
               false,
               false,
               false,
               false,
               false,
               false,
               false,
               false,
               false
              ]
             },
             {
              "title": "Mean Box Office Revenues by Month of Release for Crime Fiction & Action"
             }
            ],
            "label": "Crime Fiction & Action",
            "method": "update"
           },
           {
            "args": [
             {
              "visible": [
               false,
               false,
               false,
               false,
               false,
               false,
               false,
               false,
               true,
               false,
               false,
               false,
               false,
               false,
               false,
               false,
               false,
               false,
               false,
               false,
               false,
               false,
               false,
               false,
               false,
               false,
               false,
               false,
               false,
               false
              ]
             },
             {
              "title": "Mean Box Office Revenues by Month of Release for Crime Fiction & Mystery"
             }
            ],
            "label": "Crime Fiction & Mystery",
            "method": "update"
           },
           {
            "args": [
             {
              "visible": [
               false,
               false,
               false,
               false,
               false,
               false,
               false,
               false,
               false,
               true,
               false,
               false,
               false,
               false,
               false,
               false,
               false,
               false,
               false,
               false,
               false,
               false,
               false,
               false,
               false,
               false,
               false,
               false,
               false,
               false
              ]
             },
             {
              "title": "Mean Box Office Revenues by Month of Release for Family Film & Comedy"
             }
            ],
            "label": "Family Film & Comedy",
            "method": "update"
           },
           {
            "args": [
             {
              "visible": [
               false,
               false,
               false,
               false,
               false,
               false,
               false,
               false,
               false,
               false,
               true,
               false,
               false,
               false,
               false,
               false,
               false,
               false,
               false,
               false,
               false,
               false,
               false,
               false,
               false,
               false,
               false,
               false,
               false,
               false
              ]
             },
             {
              "title": "Mean Box Office Revenues by Month of Release for Family Film & Drama"
             }
            ],
            "label": "Family Film & Drama",
            "method": "update"
           },
           {
            "args": [
             {
              "visible": [
               false,
               false,
               false,
               false,
               false,
               false,
               false,
               false,
               false,
               false,
               false,
               true,
               false,
               false,
               false,
               false,
               false,
               false,
               false,
               false,
               false,
               false,
               false,
               false,
               false,
               false,
               false,
               false,
               false,
               false
              ]
             },
             {
              "title": "Mean Box Office Revenues by Month of Release for Horror & Slasher"
             }
            ],
            "label": "Horror & Slasher",
            "method": "update"
           },
           {
            "args": [
             {
              "visible": [
               false,
               false,
               false,
               false,
               false,
               false,
               false,
               false,
               false,
               false,
               false,
               false,
               true,
               false,
               false,
               false,
               false,
               false,
               false,
               false,
               false,
               false,
               false,
               false,
               false,
               false,
               false,
               false,
               false,
               false
              ]
             },
             {
              "title": "Mean Box Office Revenues by Month of Release for Romance Film & Comedy"
             }
            ],
            "label": "Romance Film & Comedy",
            "method": "update"
           },
           {
            "args": [
             {
              "visible": [
               false,
               false,
               false,
               false,
               false,
               false,
               false,
               false,
               false,
               false,
               false,
               false,
               false,
               true,
               false,
               false,
               false,
               false,
               false,
               false,
               false,
               false,
               false,
               false,
               false,
               false,
               false,
               false,
               false,
               false
              ]
             },
             {
              "title": "Mean Box Office Revenues by Month of Release for Romance Film & Comedy film"
             }
            ],
            "label": "Romance Film & Comedy film",
            "method": "update"
           },
           {
            "args": [
             {
              "visible": [
               false,
               false,
               false,
               false,
               false,
               false,
               false,
               false,
               false,
               false,
               false,
               false,
               false,
               false,
               true,
               false,
               false,
               false,
               false,
               false,
               false,
               false,
               false,
               false,
               false,
               false,
               false,
               false,
               false,
               false
              ]
             },
             {
              "title": "Mean Box Office Revenues by Month of Release for Romantic comedy & Romance Film"
             }
            ],
            "label": "Romantic comedy & Romance Film",
            "method": "update"
           },
           {
            "args": [
             {
              "visible": [
               false,
               false,
               false,
               false,
               false,
               false,
               false,
               false,
               false,
               false,
               false,
               false,
               false,
               false,
               false,
               true,
               false,
               false,
               false,
               false,
               false,
               false,
               false,
               false,
               false,
               false,
               false,
               false,
               false,
               false
              ]
             },
             {
              "title": "Mean Box Office Revenues by Month of Release for Romantic comedy & World cinema"
             }
            ],
            "label": "Romantic comedy & World cinema",
            "method": "update"
           },
           {
            "args": [
             {
              "visible": [
               false,
               false,
               false,
               false,
               false,
               false,
               false,
               false,
               false,
               false,
               false,
               false,
               false,
               false,
               false,
               false,
               true,
               false,
               false,
               false,
               false,
               false,
               false,
               false,
               false,
               false,
               false,
               false,
               false,
               false
              ]
             },
             {
              "title": "Mean Box Office Revenues by Month of Release for Romantic drama & Romance Film"
             }
            ],
            "label": "Romantic drama & Romance Film",
            "method": "update"
           },
           {
            "args": [
             {
              "visible": [
               false,
               false,
               false,
               false,
               false,
               false,
               false,
               false,
               false,
               false,
               false,
               false,
               false,
               false,
               false,
               false,
               false,
               true,
               false,
               false,
               false,
               false,
               false,
               false,
               false,
               false,
               false,
               false,
               false,
               false
              ]
             },
             {
              "title": "Mean Box Office Revenues by Month of Release for Science Fiction & Action"
             }
            ],
            "label": "Science Fiction & Action",
            "method": "update"
           },
           {
            "args": [
             {
              "visible": [
               false,
               false,
               false,
               false,
               false,
               false,
               false,
               false,
               false,
               false,
               false,
               false,
               false,
               false,
               false,
               false,
               false,
               false,
               true,
               false,
               false,
               false,
               false,
               false,
               false,
               false,
               false,
               false,
               false,
               false
              ]
             },
             {
              "title": "Mean Box Office Revenues by Month of Release for Science Fiction & Adventure"
             }
            ],
            "label": "Science Fiction & Adventure",
            "method": "update"
           },
           {
            "args": [
             {
              "visible": [
               false,
               false,
               false,
               false,
               false,
               false,
               false,
               false,
               false,
               false,
               false,
               false,
               false,
               false,
               false,
               false,
               false,
               false,
               false,
               true,
               false,
               false,
               false,
               false,
               false,
               false,
               false,
               false,
               false,
               false
              ]
             },
             {
              "title": "Mean Box Office Revenues by Month of Release for Sports & Drama"
             }
            ],
            "label": "Sports & Drama",
            "method": "update"
           },
           {
            "args": [
             {
              "visible": [
               false,
               false,
               false,
               false,
               false,
               false,
               false,
               false,
               false,
               false,
               false,
               false,
               false,
               false,
               false,
               false,
               false,
               false,
               false,
               false,
               true,
               false,
               false,
               false,
               false,
               false,
               false,
               false,
               false,
               false
              ]
             },
             {
              "title": "Mean Box Office Revenues by Month of Release for Thriller & Science Fiction"
             }
            ],
            "label": "Thriller & Science Fiction",
            "method": "update"
           },
           {
            "args": [
             {
              "visible": [
               false,
               false,
               false,
               false,
               false,
               false,
               false,
               false,
               false,
               false,
               false,
               false,
               false,
               false,
               false,
               false,
               false,
               false,
               false,
               false,
               false,
               true,
               false,
               false,
               false,
               false,
               false,
               false,
               false,
               false
              ]
             },
             {
              "title": "Mean Box Office Revenues by Month of Release for Thriller & Action Thrillers"
             }
            ],
            "label": "Thriller & Action Thrillers",
            "method": "update"
           },
           {
            "args": [
             {
              "visible": [
               false,
               false,
               false,
               false,
               false,
               false,
               false,
               false,
               false,
               false,
               false,
               false,
               false,
               false,
               false,
               false,
               false,
               false,
               false,
               false,
               false,
               false,
               true,
               false,
               false,
               false,
               false,
               false,
               false,
               false
              ]
             },
             {
              "title": "Mean Box Office Revenues by Month of Release for Thriller & Action/Adventure"
             }
            ],
            "label": "Thriller & Action/Adventure",
            "method": "update"
           },
           {
            "args": [
             {
              "visible": [
               false,
               false,
               false,
               false,
               false,
               false,
               false,
               false,
               false,
               false,
               false,
               false,
               false,
               false,
               false,
               false,
               false,
               false,
               false,
               false,
               false,
               false,
               false,
               true,
               false,
               false,
               false,
               false,
               false,
               false
              ]
             },
             {
              "title": "Mean Box Office Revenues by Month of Release for Thriller & Crime Fiction"
             }
            ],
            "label": "Thriller & Crime Fiction",
            "method": "update"
           },
           {
            "args": [
             {
              "visible": [
               false,
               false,
               false,
               false,
               false,
               false,
               false,
               false,
               false,
               false,
               false,
               false,
               false,
               false,
               false,
               false,
               false,
               false,
               false,
               false,
               false,
               false,
               false,
               false,
               true,
               false,
               false,
               false,
               false,
               false
              ]
             },
             {
              "title": "Mean Box Office Revenues by Month of Release for Thriller & Horror"
             }
            ],
            "label": "Thriller & Horror",
            "method": "update"
           },
           {
            "args": [
             {
              "visible": [
               false,
               false,
               false,
               false,
               false,
               false,
               false,
               false,
               false,
               false,
               false,
               false,
               false,
               false,
               false,
               false,
               false,
               false,
               false,
               false,
               false,
               false,
               false,
               false,
               false,
               true,
               false,
               false,
               false,
               false
              ]
             },
             {
              "title": "Mean Box Office Revenues by Month of Release for Thriller & Mystery"
             }
            ],
            "label": "Thriller & Mystery",
            "method": "update"
           },
           {
            "args": [
             {
              "visible": [
               false,
               false,
               false,
               false,
               false,
               false,
               false,
               false,
               false,
               false,
               false,
               false,
               false,
               false,
               false,
               false,
               false,
               false,
               false,
               false,
               false,
               false,
               false,
               false,
               false,
               false,
               true,
               false,
               false,
               false
              ]
             },
             {
              "title": "Mean Box Office Revenues by Month of Release for Thriller & Crime Thriller"
             }
            ],
            "label": "Thriller & Crime Thriller",
            "method": "update"
           },
           {
            "args": [
             {
              "visible": [
               false,
               false,
               false,
               false,
               false,
               false,
               false,
               false,
               false,
               false,
               false,
               false,
               false,
               false,
               false,
               false,
               false,
               false,
               false,
               false,
               false,
               false,
               false,
               false,
               false,
               false,
               false,
               true,
               false,
               false
              ]
             },
             {
              "title": "Mean Box Office Revenues by Month of Release for Thriller & Drama"
             }
            ],
            "label": "Thriller & Drama",
            "method": "update"
           },
           {
            "args": [
             {
              "visible": [
               false,
               false,
               false,
               false,
               false,
               false,
               false,
               false,
               false,
               false,
               false,
               false,
               false,
               false,
               false,
               false,
               false,
               false,
               false,
               false,
               false,
               false,
               false,
               false,
               false,
               false,
               false,
               false,
               true,
               false
              ]
             },
             {
              "title": "Mean Box Office Revenues by Month of Release for Thriller & Action"
             }
            ],
            "label": "Thriller & Action",
            "method": "update"
           },
           {
            "args": [
             {
              "visible": [
               false,
               false,
               false,
               false,
               false,
               false,
               false,
               false,
               false,
               false,
               false,
               false,
               false,
               false,
               false,
               false,
               false,
               false,
               false,
               false,
               false,
               false,
               false,
               false,
               false,
               false,
               false,
               false,
               false,
               true
              ]
             },
             {
              "title": "Mean Box Office Revenues by Month of Release for Thriller & World cinema"
             }
            ],
            "label": "Thriller & World cinema",
            "method": "update"
           }
          ],
          "direction": "down",
          "pad": {
           "r": 10,
           "t": 10
          },
          "showactive": true,
          "type": "dropdown",
          "x": 1.1,
          "xanchor": "left",
          "y": 1.2,
          "yanchor": "top"
         }
        ],
        "xaxis": {
         "anchor": "y",
         "autorange": true,
         "domain": [
          0,
          1
         ],
         "range": [
          -0.5,
          11.5
         ],
         "type": "category"
        },
        "yaxis": {
         "anchor": "x",
         "autorange": true,
         "domain": [
          0,
          1
         ],
         "range": [
          0,
          90654090.15225346
         ],
         "type": "linear"
        }
       }
      },
      "image/png": "[encoded data removed]",
      "text/html": [
       "<div>                            <div id=\"894c3645-f68b-4b3b-ad11-f4715618949b\" class=\"plotly-graph-div\" style=\"height:525px; width:100%;\"></div>            <script type=\"text/javascript\">                require([\"plotly\"], function(Plotly) {                    window.PLOTLYENV=window.PLOTLYENV || {};                                    if (document.getElementById(\"894c3645-f68b-4b3b-ad11-f4715618949b\")) {                    Plotly.newPlot(                        \"894c3645-f68b-4b3b-ad11-f4715618949b\",                        [{\"marker\":{\"color\":[\"#f0f921\",\"#fdca26\",\"#fb9f3a\",\"#ed7953\",\"#d8576b\",\"#bd3786\",\"#9c179e\",\"#7201a8\",\"#46039f\",\"#0d0887\"]},\"name\":\"Action & Drama\",\"opacity\":1,\"x\":[\"January\",\"February\",\"March\",\"April\",\"May\",\"June\",\"July\",\"August\",\"September\",\"October\",\"November\",\"December\"],\"y\":[34136660.94444445,29731987.737254903,28975687.204481788,31598915.647058822,24249186.73529412,42236664.106617644,30326237.663101602,33409220.951871656,33712700.682352945,31598915.64705882,29894468.770053472,31598915.647058822],\"type\":\"bar\",\"visible\":true},{\"marker\":{\"color\":[\"#f0f921\",\"#fdca26\",\"#fb9f3a\",\"#ed7953\",\"#d8576b\",\"#bd3786\",\"#9c179e\",\"#7201a8\",\"#46039f\",\"#0d0887\"]},\"name\":\"Action\\u002fAdventure & Thriller\",\"opacity\":1,\"x\":[\"January\",\"February\",\"March\",\"April\",\"May\",\"June\",\"July\",\"August\",\"September\",\"October\",\"November\",\"December\"],\"y\":[70546550.0909091,87665406.20779221,106322154.18181817,133394294.2909091,209682028.34848484,129504270.43434344,58660044.43181818,103192741.81818181,84478652.1010101,95927284.84848483,167819556.36363637,84207161.2121212],\"type\":\"bar\"},{\"marker\":{\"color\":[\"#f0f921\",\"#fdca26\",\"#fb9f3a\",\"#ed7953\",\"#d8576b\",\"#bd3786\",\"#9c179e\",\"#7201a8\",\"#46039f\",\"#0d0887\"]},\"name\":\"Action\\u002fAdventure & Action\",\"opacity\":1,\"x\":[\"January\",\"February\",\"March\",\"April\",\"May\",\"June\",\"July\",\"August\",\"September\",\"October\",\"November\",\"December\"],\"y\":[21994071.529411763,28605799.665158372,24580993.20588235,16533243.819607843,45746490.73856209,20437156.352941174,28653716.397058822,21480556.55462185,20079690.676470585,18970267.522058822,21994071.529411763,19780442.797385618],\"type\":\"bar\"},{\"marker\":{\"color\":[\"#f0f921\",\"#fdca26\",\"#fb9f3a\",\"#ed7953\",\"#d8576b\",\"#bd3786\",\"#9c179e\",\"#7201a8\",\"#46039f\",\"#0d0887\"]},\"name\":\"Adventure & Children's\\u002fFamily\",\"opacity\":1,\"x\":[\"January\",\"February\",\"March\",\"April\",\"May\",\"June\",\"July\",\"August\",\"September\",\"October\",\"November\",\"December\"],\"y\":[62053461.6,89493092.30902779,152490628.546875,104381644.6698718,332830355.7317708,296782533.17083335,192395137.98317307,78293519.10677084,69116143.26488096,226619385.9854167,154481840.23632812,133862384.73039214],\"type\":\"bar\"},{\"marker\":{\"color\":[\"#f0f921\",\"#fdca26\",\"#fb9f3a\",\"#ed7953\",\"#d8576b\",\"#bd3786\",\"#9c179e\",\"#7201a8\",\"#46039f\",\"#0d0887\"]},\"name\":\"Crime Fiction & Thriller\",\"opacity\":1,\"x\":[\"January\",\"February\",\"March\",\"April\",\"May\",\"June\",\"July\",\"August\",\"September\",\"October\",\"November\",\"December\"],\"y\":[37193968.113172546,52934326.34161491,63675341.403538495,49895507.76881452,59234214.43044733,86802439.61831251,126118203.46518244,67800281.2960373,48883907.174013786,59162099.95052567,78262485.91529192,74357208.04858105],\"type\":\"bar\"},{\"marker\":{\"color\":[\"#f0f921\",\"#fdca26\",\"#fb9f3a\",\"#ed7953\",\"#d8576b\",\"#bd3786\",\"#9c179e\",\"#7201a8\",\"#46039f\",\"#0d0887\"]},\"name\":\"Crime Fiction & Comedy film\",\"opacity\":1,\"x\":[\"January\",\"February\",\"March\",\"April\",\"May\",\"June\",\"July\",\"August\",\"September\",\"October\",\"November\",\"December\"],\"y\":[49493954.6,49493954.6,74842516.83333333,44615882.54000001,49493954.6,44456165.025,49493954.6,49493954.6,49493954.6,46628936.5625,49493954.6,49493954.6],\"type\":\"bar\"},{\"marker\":{\"color\":[\"#f0f921\",\"#fdca26\",\"#fb9f3a\",\"#ed7953\",\"#d8576b\",\"#bd3786\",\"#9c179e\",\"#7201a8\",\"#46039f\",\"#0d0887\"]},\"name\":\"Crime Fiction & Romance Film\",\"opacity\":1,\"x\":[\"January\",\"February\",\"March\",\"April\",\"May\",\"June\",\"July\",\"August\",\"September\",\"October\",\"November\",\"December\"],\"y\":[45936219.333333336,43093942.6,45936219.333333336,42332239.740740746,45936219.333333336,40745330.85714286,76500938.1,41373582.740740746,45936219.333333336,45936219.333333336,41743739.79166667,34591644.75],\"type\":\"bar\"},{\"marker\":{\"color\":[\"#f0f921\",\"#fdca26\",\"#fb9f3a\",\"#ed7953\",\"#d8576b\",\"#bd3786\",\"#9c179e\",\"#7201a8\",\"#46039f\",\"#0d0887\"]},\"name\":\"Crime Fiction & Action\",\"opacity\":1,\"x\":[\"January\",\"February\",\"March\",\"April\",\"May\",\"June\",\"July\",\"August\",\"September\",\"October\",\"November\",\"December\"],\"y\":[35114037.26953125,36715290.6875,36715290.6875,37176015.329166666,36715290.6875,32788785.900735293,60273585.65,34795461.3881579,35115176.14930555,34105169.852678575,45300240.15,33832082.44318182],\"type\":\"bar\"},{\"marker\":{\"color\":[\"#f0f921\",\"#fdca26\",\"#fb9f3a\",\"#ed7953\",\"#d8576b\",\"#bd3786\",\"#9c179e\",\"#7201a8\",\"#46039f\",\"#0d0887\"]},\"name\":\"Crime Fiction & Mystery\",\"opacity\":1,\"x\":[\"January\",\"February\",\"March\",\"April\",\"May\",\"June\",\"July\",\"August\",\"September\",\"October\",\"November\",\"December\"],\"y\":[34223863.564705886,36355908.6,30641828.611111112,36355908.6,34276149.270588234,41945068.32631579,33859057.98571429,40012131.47142857,31861221.76,33720923.36363637,34116999.38333333,58665462.425000004],\"type\":\"bar\"},{\"marker\":{\"color\":[\"#f0f921\",\"#fdca26\",\"#fb9f3a\",\"#ed7953\",\"#d8576b\",\"#bd3786\",\"#9c179e\",\"#7201a8\",\"#46039f\",\"#0d0887\"]},\"name\":\"Family Film & Comedy\",\"opacity\":1,\"x\":[\"January\",\"February\",\"March\",\"April\",\"May\",\"June\",\"July\",\"August\",\"September\",\"October\",\"November\",\"December\"],\"y\":[44829634.14285714,38431657.12244898,66531261.057142854,44829634.14285714,33652338.21428572,65404663.761904754,24542974.82142857,36413130.190476194,44829634.14285714,38162029.91428571,47611521.72527473,44829634.14285714],\"type\":\"bar\"},{\"marker\":{\"color\":[\"#f0f921\",\"#fdca26\",\"#fb9f3a\",\"#ed7953\",\"#d8576b\",\"#bd3786\",\"#9c179e\",\"#7201a8\",\"#46039f\",\"#0d0887\"]},\"name\":\"Family Film & Drama\",\"opacity\":1,\"x\":[\"January\",\"February\",\"March\",\"April\",\"May\",\"June\",\"July\",\"August\",\"September\",\"October\",\"November\",\"December\"],\"y\":[60304537.63636363,43560826.61111111,41336187.666666664,41710938.35294118,42210117.071428575,63453114.06666667,41462637.0,44894626.05263158,48968440.583333336,42520965.38888889,42549290.5,44684415.777777776],\"type\":\"bar\"},{\"marker\":{\"color\":[\"#f0f921\",\"#fdca26\",\"#fb9f3a\",\"#ed7953\",\"#d8576b\",\"#bd3786\",\"#9c179e\",\"#7201a8\",\"#46039f\",\"#0d0887\"]},\"name\":\"Horror & Slasher\",\"opacity\":1,\"x\":[\"January\",\"February\",\"March\",\"April\",\"May\",\"June\",\"July\",\"August\",\"September\",\"October\",\"November\",\"December\"],\"y\":[19430351.363636363,38872596.40909091,25758407.727272727,21768080.295454547,25758407.72727273,25758407.727272727,25758407.727272727,27639129.129870128,30935650.836363636,30017555.354545455,30660701.329545453,18157577.484848484],\"type\":\"bar\"},{\"marker\":{\"color\":[\"#f0f921\",\"#fdca26\",\"#fb9f3a\",\"#ed7953\",\"#d8576b\",\"#bd3786\",\"#9c179e\",\"#7201a8\",\"#46039f\",\"#0d0887\"]},\"name\":\"Romance Film & Comedy\",\"opacity\":1,\"x\":[\"January\",\"February\",\"March\",\"April\",\"May\",\"June\",\"July\",\"August\",\"September\",\"October\",\"November\",\"December\"],\"y\":[31301145.942857143,35950824.05864662,36648382.489523806,90816387.48571429,41550352.25714286,39201597.775824174,43354824.961038955,35818159.07755102,37106558.225,42633807.297619045,25821300.33714286,47793967.32653061],\"type\":\"bar\"},{\"marker\":{\"color\":[\"#f0f921\",\"#fdca26\",\"#fb9f3a\",\"#ed7953\",\"#d8576b\",\"#bd3786\",\"#9c179e\",\"#7201a8\",\"#46039f\",\"#0d0887\"]},\"name\":\"Romance Film & Comedy film\",\"opacity\":1,\"x\":[\"January\",\"February\",\"March\",\"April\",\"May\",\"June\",\"July\",\"August\",\"September\",\"October\",\"November\",\"December\"],\"y\":[25175220.42857143,25175220.42857143,35736685.653061226,25504962.350649353,21025183.69047619,25175220.42857143,22112067.875,25175220.42857143,22715065.93877551,25175220.42857143,25175220.42857143,24264312.476190478],\"type\":\"bar\"},{\"marker\":{\"color\":[\"#f0f921\",\"#fdca26\",\"#fb9f3a\",\"#ed7953\",\"#d8576b\",\"#bd3786\",\"#9c179e\",\"#7201a8\",\"#46039f\",\"#0d0887\"]},\"name\":\"Romantic comedy & Romance Film\",\"opacity\":1,\"x\":[\"January\",\"February\",\"March\",\"April\",\"May\",\"June\",\"July\",\"August\",\"September\",\"October\",\"November\",\"December\"],\"y\":[51981585.70013864,67093605.419571534,62248055.53390523,46182955.79302832,55831764.61137788,69760652.9051006,55487923.92156863,38893710.81297134,42171318.03349673,53123831.63498153,53844185.43128422,62425598.795855924],\"type\":\"bar\"},{\"marker\":{\"color\":[\"#f0f921\",\"#fdca26\",\"#fb9f3a\",\"#ed7953\",\"#d8576b\",\"#bd3786\",\"#9c179e\",\"#7201a8\",\"#46039f\",\"#0d0887\"]},\"name\":\"Romantic comedy & World cinema\",\"opacity\":1,\"x\":[\"January\",\"February\",\"March\",\"April\",\"May\",\"June\",\"July\",\"August\",\"September\",\"October\",\"November\",\"December\"],\"y\":[23811380.263157893,23811380.263157893,23811380.263157893,34533564.10150376,21864777.907894734,23811380.263157893,23811380.263157893,22457005.165991902,23811380.263157893,23811380.263157893,21321617.357894737,27617593.563909773],\"type\":\"bar\"},{\"marker\":{\"color\":[\"#f0f921\",\"#fdca26\",\"#fb9f3a\",\"#ed7953\",\"#d8576b\",\"#bd3786\",\"#9c179e\",\"#7201a8\",\"#46039f\",\"#0d0887\"]},\"name\":\"Romantic drama & Romance Film\",\"opacity\":1,\"x\":[\"January\",\"February\",\"March\",\"April\",\"May\",\"June\",\"July\",\"August\",\"September\",\"October\",\"November\",\"December\"],\"y\":[21769337.678837556,20445124.16393443,19534677.01222318,22020294.170554858,23839704.938111577,22774246.42360656,22894686.342076503,27883980.31048187,19038947.975244246,19815591.48009368,18797566.074195508,28554359.370159186],\"type\":\"bar\"},{\"marker\":{\"color\":[\"#f0f921\",\"#fdca26\",\"#fb9f3a\",\"#ed7953\",\"#d8576b\",\"#bd3786\",\"#9c179e\",\"#7201a8\",\"#46039f\",\"#0d0887\"]},\"name\":\"Science Fiction & Action\",\"opacity\":1,\"x\":[\"January\",\"February\",\"March\",\"April\",\"May\",\"June\",\"July\",\"August\",\"September\",\"October\",\"November\",\"December\"],\"y\":[166929590.9722222,133375656.375,156062520.03703701,342462247.8333333,300374087.3076923,132833980.39393939,146947717.03333333,157377429.79629627,168637533.13888887,175062273.16666666,101303954.38888888,143309375.79166666],\"type\":\"bar\"},{\"marker\":{\"color\":[\"#f0f921\",\"#fdca26\",\"#fb9f3a\",\"#ed7953\",\"#d8576b\",\"#bd3786\",\"#9c179e\",\"#7201a8\",\"#46039f\",\"#0d0887\"]},\"name\":\"Science Fiction & Adventure\",\"opacity\":1,\"x\":[\"January\",\"February\",\"March\",\"April\",\"May\",\"June\",\"July\",\"August\",\"September\",\"October\",\"November\",\"December\"],\"y\":[161893612.8627451,161893612.8627451,142787701.5359477,129531390.71764708,375967188.40463454,172830548.68137255,143826058.30124778,93916770.84509805,161893612.8627451,141571130.7787115,133226598.66488414,144948480.81764707],\"type\":\"bar\"},{\"marker\":{\"color\":[\"#f0f921\",\"#fdca26\",\"#fb9f3a\",\"#ed7953\",\"#d8576b\",\"#bd3786\",\"#9c179e\",\"#7201a8\",\"#46039f\",\"#0d0887\"]},\"name\":\"Sports & Drama\",\"opacity\":1,\"x\":[\"January\",\"February\",\"March\",\"April\",\"May\",\"June\",\"July\",\"August\",\"September\",\"October\",\"November\",\"December\"],\"y\":[31298051.44736842,26477820.75657895,29168067.759398494,18277310.147368424,23481899.809210528,58633995.41447368,35356719.38596491,25026126.934210528,20058151.074561406,25655054.04511278,18176371.719298247,23148189.300751884],\"type\":\"bar\"},{\"marker\":{\"color\":[\"#f0f921\",\"#fdca26\",\"#fb9f3a\",\"#ed7953\",\"#d8576b\",\"#bd3786\",\"#9c179e\",\"#7201a8\",\"#46039f\",\"#0d0887\"]},\"name\":\"Thriller & Science Fiction\",\"opacity\":1,\"x\":[\"January\",\"February\",\"March\",\"April\",\"May\",\"June\",\"July\",\"August\",\"September\",\"October\",\"November\",\"December\"],\"y\":[93425172.34888634,126540689.9494135,122043243.2557899,157110335.4325269,212361381.18951613,288787064.3236559,197016969.05560675,116137136.6455972,100548312.17031491,110603433.81877239,178680651.27534562,212482495.67274424],\"type\":\"bar\"},{\"marker\":{\"color\":[\"#f0f921\",\"#fdca26\",\"#fb9f3a\",\"#ed7953\",\"#d8576b\",\"#bd3786\",\"#9c179e\",\"#7201a8\",\"#46039f\",\"#0d0887\"]},\"name\":\"Thriller & Action Thrillers\",\"opacity\":1,\"x\":[\"January\",\"February\",\"March\",\"April\",\"May\",\"June\",\"July\",\"August\",\"September\",\"October\",\"November\",\"December\"],\"y\":[132763850.09274194,85254107.9390681,103568191.94009216,253898337.27419353,174823429.44516128,113396790.10887095,155977582.74910393,143557056.35125446,100779844.2672811,104987018.69354838,145325423.44516128,182645017.26099706],\"type\":\"bar\"},{\"marker\":{\"color\":[\"#f0f921\",\"#fdca26\",\"#fb9f3a\",\"#ed7953\",\"#d8576b\",\"#bd3786\",\"#9c179e\",\"#7201a8\",\"#46039f\",\"#0d0887\"]},\"name\":\"Thriller & Action\\u002fAdventure\",\"opacity\":1,\"x\":[\"January\",\"February\",\"March\",\"April\",\"May\",\"June\",\"July\",\"August\",\"September\",\"October\",\"November\",\"December\"],\"y\":[46778495.90180032,81115865.59929077,49354133.515957445,56869646.38857783,97702356.4212766,164359433.08510637,73975395.11914894,53453142.948685855,63617561.785815604,73502691.19148935,57544389.770516716,76439569.06595746],\"type\":\"bar\"},{\"marker\":{\"color\":[\"#f0f921\",\"#fdca26\",\"#fb9f3a\",\"#ed7953\",\"#d8576b\",\"#bd3786\",\"#9c179e\",\"#7201a8\",\"#46039f\",\"#0d0887\"]},\"name\":\"Thriller & Crime Fiction\",\"opacity\":1,\"x\":[\"January\",\"February\",\"March\",\"April\",\"May\",\"June\",\"July\",\"August\",\"September\",\"October\",\"November\",\"December\"],\"y\":[58374204.15368172,59292944.493724175,53231643.44709536,62322999.46059783,61146957.218725674,85752279.40683563,86121385.64464079,55692775.94757034,62727940.529022045,57496966.98341907,76135291.10513337,68578133.88678297],\"type\":\"bar\"},{\"marker\":{\"color\":[\"#f0f921\",\"#fdca26\",\"#fb9f3a\",\"#ed7953\",\"#d8576b\",\"#bd3786\",\"#9c179e\",\"#7201a8\",\"#46039f\",\"#0d0887\"]},\"name\":\"Thriller & Horror\",\"opacity\":1,\"x\":[\"January\",\"February\",\"March\",\"April\",\"May\",\"June\",\"July\",\"August\",\"September\",\"October\",\"November\",\"December\"],\"y\":[53180343.53379953,73414613.54195803,54349341.14325069,46319453.753246754,46979790.18983957,58420160.05944056,74954358.00395258,73792332.46563193,55064242.92583732,54910753.78030303,77591389.41750842,49388868.36868687],\"type\":\"bar\"},{\"marker\":{\"color\":[\"#f0f921\",\"#fdca26\",\"#fb9f3a\",\"#ed7953\",\"#d8576b\",\"#bd3786\",\"#9c179e\",\"#7201a8\",\"#46039f\",\"#0d0887\"]},\"name\":\"Thriller & Mystery\",\"opacity\":1,\"x\":[\"January\",\"February\",\"March\",\"April\",\"May\",\"June\",\"July\",\"August\",\"September\",\"October\",\"November\",\"December\"],\"y\":[49156288.14542652,52819409.28776979,50408925.58735869,57450468.95930756,81643946.753551,63089148.939893246,57816050.52328663,44647454.16546763,51646273.58179543,48947481.21230075,47539132.01547852,57076714.23280576],\"type\":\"bar\"},{\"marker\":{\"color\":[\"#f0f921\",\"#fdca26\",\"#fb9f3a\",\"#ed7953\",\"#d8576b\",\"#bd3786\",\"#9c179e\",\"#7201a8\",\"#46039f\",\"#0d0887\"]},\"name\":\"Thriller & Crime Thriller\",\"opacity\":1,\"x\":[\"January\",\"February\",\"March\",\"April\",\"May\",\"June\",\"July\",\"August\",\"September\",\"October\",\"November\",\"December\"],\"y\":[27238794.634920634,32455960.553061225,30921446.28756957,27493912.680272106,28874888.671428572,40810360.72562358,29906859.816326525,34783030.91836735,32276320.89504373,30895866.680612244,26592978.083090376,25162573.634920634],\"type\":\"bar\"},{\"marker\":{\"color\":[\"#f0f921\",\"#fdca26\",\"#fb9f3a\",\"#ed7953\",\"#d8576b\",\"#bd3786\",\"#9c179e\",\"#7201a8\",\"#46039f\",\"#0d0887\"]},\"name\":\"Thriller & Drama\",\"opacity\":1,\"x\":[\"January\",\"February\",\"March\",\"April\",\"May\",\"June\",\"July\",\"August\",\"September\",\"October\",\"November\",\"December\"],\"y\":[27043643.95883941,32629601.365874365,28753699.195652176,28077522.715102974,24380004.270833332,29041109.157894734,46027307.47807018,29722417.657894734,26564275.885338347,24700871.49359886,30966890.395585738,43926500.6305668],\"type\":\"bar\"},{\"marker\":{\"color\":[\"#f0f921\",\"#fdca26\",\"#fb9f3a\",\"#ed7953\",\"#d8576b\",\"#bd3786\",\"#9c179e\",\"#7201a8\",\"#46039f\",\"#0d0887\"]},\"name\":\"Thriller & Action\",\"opacity\":1,\"x\":[\"January\",\"February\",\"March\",\"April\",\"May\",\"June\",\"July\",\"August\",\"September\",\"October\",\"November\",\"December\"],\"y\":[19983033.235795453,25960051.268939395,24227635.136363637,24227635.136363637,23985675.895104893,24227635.136363637,35027676.36931818,29839885.509090908,18399089.162878785,24227635.136363637,23922621.576923076,29479460.20909091],\"type\":\"bar\"},{\"marker\":{\"color\":[\"#f0f921\",\"#fdca26\",\"#fb9f3a\",\"#ed7953\",\"#d8576b\",\"#bd3786\",\"#9c179e\",\"#7201a8\",\"#46039f\",\"#0d0887\"]},\"name\":\"Thriller & World cinema\",\"opacity\":1,\"x\":[\"January\",\"February\",\"March\",\"April\",\"May\",\"June\",\"July\",\"August\",\"September\",\"October\",\"November\",\"December\"],\"y\":[21157008.07142857,19402499.4375,16432041.214285715,21157008.07142857,20209537.726190474,18806607.0625,21157008.07142857,21157008.07142857,27538340.964285713,18509543.91836735,25481632.5974026,14987591.035714285],\"type\":\"bar\"}],                        {\"template\":{\"data\":{\"histogram2dcontour\":[{\"type\":\"histogram2dcontour\",\"colorbar\":{\"outlinewidth\":0,\"ticks\":\"\"},\"colorscale\":[[0.0,\"#0d0887\"],[0.1111111111111111,\"#46039f\"],[0.2222222222222222,\"#7201a8\"],[0.3333333333333333,\"#9c179e\"],[0.4444444444444444,\"#bd3786\"],[0.5555555555555556,\"#d8576b\"],[0.6666666666666666,\"#ed7953\"],[0.7777777777777778,\"#fb9f3a\"],[0.8888888888888888,\"#fdca26\"],[1.0,\"#f0f921\"]]}],\"choropleth\":[{\"type\":\"choropleth\",\"colorbar\":{\"outlinewidth\":0,\"ticks\":\"\"}}],\"histogram2d\":[{\"type\":\"histogram2d\",\"colorbar\":{\"outlinewidth\":0,\"ticks\":\"\"},\"colorscale\":[[0.0,\"#0d0887\"],[0.1111111111111111,\"#46039f\"],[0.2222222222222222,\"#7201a8\"],[0.3333333333333333,\"#9c179e\"],[0.4444444444444444,\"#bd3786\"],[0.5555555555555556,\"#d8576b\"],[0.6666666666666666,\"#ed7953\"],[0.7777777777777778,\"#fb9f3a\"],[0.8888888888888888,\"#fdca26\"],[1.0,\"#f0f921\"]]}],\"heatmap\":[{\"type\":\"heatmap\",\"colorbar\":{\"outlinewidth\":0,\"ticks\":\"\"},\"colorscale\":[[0.0,\"#0d0887\"],[0.1111111111111111,\"#46039f\"],[0.2222222222222222,\"#7201a8\"],[0.3333333333333333,\"#9c179e\"],[0.4444444444444444,\"#bd3786\"],[0.5555555555555556,\"#d8576b\"],[0.6666666666666666,\"#ed7953\"],[0.7777777777777778,\"#fb9f3a\"],[0.8888888888888888,\"#fdca26\"],[1.0,\"#f0f921\"]]}],\"heatmapgl\":[{\"type\":\"heatmapgl\",\"colorbar\":{\"outlinewidth\":0,\"ticks\":\"\"},\"colorscale\":[[0.0,\"#0d0887\"],[0.1111111111111111,\"#46039f\"],[0.2222222222222222,\"#7201a8\"],[0.3333333333333333,\"#9c179e\"],[0.4444444444444444,\"#bd3786\"],[0.5555555555555556,\"#d8576b\"],[0.6666666666666666,\"#ed7953\"],[0.7777777777777778,\"#fb9f3a\"],[0.8888888888888888,\"#fdca26\"],[1.0,\"#f0f921\"]]}],\"contourcarpet\":[{\"type\":\"contourcarpet\",\"colorbar\":{\"outlinewidth\":0,\"ticks\":\"\"}}],\"contour\":[{\"type\":\"contour\",\"colorbar\":{\"outlinewidth\":0,\"ticks\":\"\"},\"colorscale\":[[0.0,\"#0d0887\"],[0.1111111111111111,\"#46039f\"],[0.2222222222222222,\"#7201a8\"],[0.3333333333333333,\"#9c179e\"],[0.4444444444444444,\"#bd3786\"],[0.5555555555555556,\"#d8576b\"],[0.6666666666666666,\"#ed7953\"],[0.7777777777777778,\"#fb9f3a\"],[0.8888888888888888,\"#fdca26\"],[1.0,\"#f0f921\"]]}],\"surface\":[{\"type\":\"surface\",\"colorbar\":{\"outlinewidth\":0,\"ticks\":\"\"},\"colorscale\":[[0.0,\"#0d0887\"],[0.1111111111111111,\"#46039f\"],[0.2222222222222222,\"#7201a8\"],[0.3333333333333333,\"#9c179e\"],[0.4444444444444444,\"#bd3786\"],[0.5555555555555556,\"#d8576b\"],[0.6666666666666666,\"#ed7953\"],[0.7777777777777778,\"#fb9f3a\"],[0.8888888888888888,\"#fdca26\"],[1.0,\"#f0f921\"]]}],\"mesh3d\":[{\"type\":\"mesh3d\",\"colorbar\":{\"outlinewidth\":0,\"ticks\":\"\"}}],\"scatter\":[{\"fillpattern\":{\"fillmode\":\"overlay\",\"size\":10,\"solidity\":0.2},\"type\":\"scatter\"}],\"parcoords\":[{\"type\":\"parcoords\",\"line\":{\"colorbar\":{\"outlinewidth\":0,\"ticks\":\"\"}}}],\"scatterpolargl\":[{\"type\":\"scatterpolargl\",\"marker\":{\"colorbar\":{\"outlinewidth\":0,\"ticks\":\"\"}}}],\"bar\":[{\"error_x\":{\"color\":\"#2a3f5f\"},\"error_y\":{\"color\":\"#2a3f5f\"},\"marker\":{\"line\":{\"color\":\"#E5ECF6\",\"width\":0.5},\"pattern\":{\"fillmode\":\"overlay\",\"size\":10,\"solidity\":0.2}},\"type\":\"bar\"}],\"scattergeo\":[{\"type\":\"scattergeo\",\"marker\":{\"colorbar\":{\"outlinewidth\":0,\"ticks\":\"\"}}}],\"scatterpolar\":[{\"type\":\"scatterpolar\",\"marker\":{\"colorbar\":{\"outlinewidth\":0,\"ticks\":\"\"}}}],\"histogram\":[{\"marker\":{\"pattern\":{\"fillmode\":\"overlay\",\"size\":10,\"solidity\":0.2}},\"type\":\"histogram\"}],\"scattergl\":[{\"type\":\"scattergl\",\"marker\":{\"colorbar\":{\"outlinewidth\":0,\"ticks\":\"\"}}}],\"scatter3d\":[{\"type\":\"scatter3d\",\"line\":{\"colorbar\":{\"outlinewidth\":0,\"ticks\":\"\"}},\"marker\":{\"colorbar\":{\"outlinewidth\":0,\"ticks\":\"\"}}}],\"scattermapbox\":[{\"type\":\"scattermapbox\",\"marker\":{\"colorbar\":{\"outlinewidth\":0,\"ticks\":\"\"}}}],\"scatterternary\":[{\"type\":\"scatterternary\",\"marker\":{\"colorbar\":{\"outlinewidth\":0,\"ticks\":\"\"}}}],\"scattercarpet\":[{\"type\":\"scattercarpet\",\"marker\":{\"colorbar\":{\"outlinewidth\":0,\"ticks\":\"\"}}}],\"carpet\":[{\"aaxis\":{\"endlinecolor\":\"#2a3f5f\",\"gridcolor\":\"white\",\"linecolor\":\"white\",\"minorgridcolor\":\"white\",\"startlinecolor\":\"#2a3f5f\"},\"baxis\":{\"endlinecolor\":\"#2a3f5f\",\"gridcolor\":\"white\",\"linecolor\":\"white\",\"minorgridcolor\":\"white\",\"startlinecolor\":\"#2a3f5f\"},\"type\":\"carpet\"}],\"table\":[{\"cells\":{\"fill\":{\"color\":\"#EBF0F8\"},\"line\":{\"color\":\"white\"}},\"header\":{\"fill\":{\"color\":\"#C8D4E3\"},\"line\":{\"color\":\"white\"}},\"type\":\"table\"}],\"barpolar\":[{\"marker\":{\"line\":{\"color\":\"#E5ECF6\",\"width\":0.5},\"pattern\":{\"fillmode\":\"overlay\",\"size\":10,\"solidity\":0.2}},\"type\":\"barpolar\"}],\"pie\":[{\"automargin\":true,\"type\":\"pie\"}]},\"layout\":{\"autotypenumbers\":\"strict\",\"colorway\":[\"#636efa\",\"#EF553B\",\"#00cc96\",\"#ab63fa\",\"#FFA15A\",\"#19d3f3\",\"#FF6692\",\"#B6E880\",\"#FF97FF\",\"#FECB52\"],\"font\":{\"color\":\"#2a3f5f\"},\"hovermode\":\"closest\",\"hoverlabel\":{\"align\":\"left\"},\"paper_bgcolor\":\"white\",\"plot_bgcolor\":\"#E5ECF6\",\"polar\":{\"bgcolor\":\"#E5ECF6\",\"angularaxis\":{\"gridcolor\":\"white\",\"linecolor\":\"white\",\"ticks\":\"\"},\"radialaxis\":{\"gridcolor\":\"white\",\"linecolor\":\"white\",\"ticks\":\"\"}},\"ternary\":{\"bgcolor\":\"#E5ECF6\",\"aaxis\":{\"gridcolor\":\"white\",\"linecolor\":\"white\",\"ticks\":\"\"},\"baxis\":{\"gridcolor\":\"white\",\"linecolor\":\"white\",\"ticks\":\"\"},\"caxis\":{\"gridcolor\":\"white\",\"linecolor\":\"white\",\"ticks\":\"\"}},\"coloraxis\":{\"colorbar\":{\"outlinewidth\":0,\"ticks\":\"\"}},\"colorscale\":{\"sequential\":[[0.0,\"#0d0887\"],[0.1111111111111111,\"#46039f\"],[0.2222222222222222,\"#7201a8\"],[0.3333333333333333,\"#9c179e\"],[0.4444444444444444,\"#bd3786\"],[0.5555555555555556,\"#d8576b\"],[0.6666666666666666,\"#ed7953\"],[0.7777777777777778,\"#fb9f3a\"],[0.8888888888888888,\"#fdca26\"],[1.0,\"#f0f921\"]],\"sequentialminus\":[[0.0,\"#0d0887\"],[0.1111111111111111,\"#46039f\"],[0.2222222222222222,\"#7201a8\"],[0.3333333333333333,\"#9c179e\"],[0.4444444444444444,\"#bd3786\"],[0.5555555555555556,\"#d8576b\"],[0.6666666666666666,\"#ed7953\"],[0.7777777777777778,\"#fb9f3a\"],[0.8888888888888888,\"#fdca26\"],[1.0,\"#f0f921\"]],\"diverging\":[[0,\"#8e0152\"],[0.1,\"#c51b7d\"],[0.2,\"#de77ae\"],[0.3,\"#f1b6da\"],[0.4,\"#fde0ef\"],[0.5,\"#f7f7f7\"],[0.6,\"#e6f5d0\"],[0.7,\"#b8e186\"],[0.8,\"#7fbc41\"],[0.9,\"#4d9221\"],[1,\"#276419\"]]},\"xaxis\":{\"gridcolor\":\"white\",\"linecolor\":\"white\",\"ticks\":\"\",\"title\":{\"standoff\":15},\"zerolinecolor\":\"white\",\"automargin\":true,\"zerolinewidth\":2},\"yaxis\":{\"gridcolor\":\"white\",\"linecolor\":\"white\",\"ticks\":\"\",\"title\":{\"standoff\":15},\"zerolinecolor\":\"white\",\"automargin\":true,\"zerolinewidth\":2},\"scene\":{\"xaxis\":{\"backgroundcolor\":\"#E5ECF6\",\"gridcolor\":\"white\",\"linecolor\":\"white\",\"showbackground\":true,\"ticks\":\"\",\"zerolinecolor\":\"white\",\"gridwidth\":2},\"yaxis\":{\"backgroundcolor\":\"#E5ECF6\",\"gridcolor\":\"white\",\"linecolor\":\"white\",\"showbackground\":true,\"ticks\":\"\",\"zerolinecolor\":\"white\",\"gridwidth\":2},\"zaxis\":{\"backgroundcolor\":\"#E5ECF6\",\"gridcolor\":\"white\",\"linecolor\":\"white\",\"showbackground\":true,\"ticks\":\"\",\"zerolinecolor\":\"white\",\"gridwidth\":2}},\"shapedefaults\":{\"line\":{\"color\":\"#2a3f5f\"}},\"annotationdefaults\":{\"arrowcolor\":\"#2a3f5f\",\"arrowhead\":0,\"arrowwidth\":1},\"geo\":{\"bgcolor\":\"white\",\"landcolor\":\"#E5ECF6\",\"subunitcolor\":\"white\",\"showland\":true,\"showlakes\":true,\"lakecolor\":\"white\"},\"title\":{\"x\":0.05},\"mapbox\":{\"style\":\"light\"}}},\"xaxis\":{\"anchor\":\"y\",\"domain\":[0.0,1.0]},\"yaxis\":{\"anchor\":\"x\",\"domain\":[0.0,1.0]},\"updatemenus\":[{\"buttons\":[{\"args\":[{\"visible\":[true,false,false,false,false,false,false,false,false,false,false,false,false,false,false,false,false,false,false,false,false,false,false,false,false,false,false,false,false,false]},{\"title\":\"Mean Box Office Revenues by Month of Release for Action & Drama\"}],\"label\":\"Action & Drama\",\"method\":\"update\"},{\"args\":[{\"visible\":[false,true,false,false,false,false,false,false,false,false,false,false,false,false,false,false,false,false,false,false,false,false,false,false,false,false,false,false,false,false]},{\"title\":\"Mean Box Office Revenues by Month of Release for Action\\u002fAdventure & Thriller\"}],\"label\":\"Action\\u002fAdventure & Thriller\",\"method\":\"update\"},{\"args\":[{\"visible\":[false,false,true,false,false,false,false,false,false,false,false,false,false,false,false,false,false,false,false,false,false,false,false,false,false,false,false,false,false,false]},{\"title\":\"Mean Box Office Revenues by Month of Release for Action\\u002fAdventure & Action\"}],\"label\":\"Action\\u002fAdventure & Action\",\"method\":\"update\"},{\"args\":[{\"visible\":[false,false,false,true,false,false,false,false,false,false,false,false,false,false,false,false,false,false,false,false,false,false,false,false,false,false,false,false,false,false]},{\"title\":\"Mean Box Office Revenues by Month of Release for Adventure & Children's\\u002fFamily\"}],\"label\":\"Adventure & Children's\\u002fFamily\",\"method\":\"update\"},{\"args\":[{\"visible\":[false,false,false,false,true,false,false,false,false,false,false,false,false,false,false,false,false,false,false,false,false,false,false,false,false,false,false,false,false,false]},{\"title\":\"Mean Box Office Revenues by Month of Release for Crime Fiction & Thriller\"}],\"label\":\"Crime Fiction & Thriller\",\"method\":\"update\"},{\"args\":[{\"visible\":[false,false,false,false,false,true,false,false,false,false,false,false,false,false,false,false,false,false,false,false,false,false,false,false,false,false,false,false,false,false]},{\"title\":\"Mean Box Office Revenues by Month of Release for Crime Fiction & Comedy film\"}],\"label\":\"Crime Fiction & Comedy film\",\"method\":\"update\"},{\"args\":[{\"visible\":[false,false,false,false,false,false,true,false,false,false,false,false,false,false,false,false,false,false,false,false,false,false,false,false,false,false,false,false,false,false]},{\"title\":\"Mean Box Office Revenues by Month of Release for Crime Fiction & Romance Film\"}],\"label\":\"Crime Fiction & Romance Film\",\"method\":\"update\"},{\"args\":[{\"visible\":[false,false,false,false,false,false,false,true,false,false,false,false,false,false,false,false,false,false,false,false,false,false,false,false,false,false,false,false,false,false]},{\"title\":\"Mean Box Office Revenues by Month of Release for Crime Fiction & Action\"}],\"label\":\"Crime Fiction & Action\",\"method\":\"update\"},{\"args\":[{\"visible\":[false,false,false,false,false,false,false,false,true,false,false,false,false,false,false,false,false,false,false,false,false,false,false,false,false,false,false,false,false,false]},{\"title\":\"Mean Box Office Revenues by Month of Release for Crime Fiction & Mystery\"}],\"label\":\"Crime Fiction & Mystery\",\"method\":\"update\"},{\"args\":[{\"visible\":[false,false,false,false,false,false,false,false,false,true,false,false,false,false,false,false,false,false,false,false,false,false,false,false,false,false,false,false,false,false]},{\"title\":\"Mean Box Office Revenues by Month of Release for Family Film & Comedy\"}],\"label\":\"Family Film & Comedy\",\"method\":\"update\"},{\"args\":[{\"visible\":[false,false,false,false,false,false,false,false,false,false,true,false,false,false,false,false,false,false,false,false,false,false,false,false,false,false,false,false,false,false]},{\"title\":\"Mean Box Office Revenues by Month of Release for Family Film & Drama\"}],\"label\":\"Family Film & Drama\",\"method\":\"update\"},{\"args\":[{\"visible\":[false,false,false,false,false,false,false,false,false,false,false,true,false,false,false,false,false,false,false,false,false,false,false,false,false,false,false,false,false,false]},{\"title\":\"Mean Box Office Revenues by Month of Release for Horror & Slasher\"}],\"label\":\"Horror & Slasher\",\"method\":\"update\"},{\"args\":[{\"visible\":[false,false,false,false,false,false,false,false,false,false,false,false,true,false,false,false,false,false,false,false,false,false,false,false,false,false,false,false,false,false]},{\"title\":\"Mean Box Office Revenues by Month of Release for Romance Film & Comedy\"}],\"label\":\"Romance Film & Comedy\",\"method\":\"update\"},{\"args\":[{\"visible\":[false,false,false,false,false,false,false,false,false,false,false,false,false,true,false,false,false,false,false,false,false,false,false,false,false,false,false,false,false,false]},{\"title\":\"Mean Box Office Revenues by Month of Release for Romance Film & Comedy film\"}],\"label\":\"Romance Film & Comedy film\",\"method\":\"update\"},{\"args\":[{\"visible\":[false,false,false,false,false,false,false,false,false,false,false,false,false,false,true,false,false,false,false,false,false,false,false,false,false,false,false,false,false,false]},{\"title\":\"Mean Box Office Revenues by Month of Release for Romantic comedy & Romance Film\"}],\"label\":\"Romantic comedy & Romance Film\",\"method\":\"update\"},{\"args\":[{\"visible\":[false,false,false,false,false,false,false,false,false,false,false,false,false,false,false,true,false,false,false,false,false,false,false,false,false,false,false,false,false,false]},{\"title\":\"Mean Box Office Revenues by Month of Release for Romantic comedy & World cinema\"}],\"label\":\"Romantic comedy & World cinema\",\"method\":\"update\"},{\"args\":[{\"visible\":[false,false,false,false,false,false,false,false,false,false,false,false,false,false,false,false,true,false,false,false,false,false,false,false,false,false,false,false,false,false]},{\"title\":\"Mean Box Office Revenues by Month of Release for Romantic drama & Romance Film\"}],\"label\":\"Romantic drama & Romance Film\",\"method\":\"update\"},{\"args\":[{\"visible\":[false,false,false,false,false,false,false,false,false,false,false,false,false,false,false,false,false,true,false,false,false,false,false,false,false,false,false,false,false,false]},{\"title\":\"Mean Box Office Revenues by Month of Release for Science Fiction & Action\"}],\"label\":\"Science Fiction & Action\",\"method\":\"update\"},{\"args\":[{\"visible\":[false,false,false,false,false,false,false,false,false,false,false,false,false,false,false,false,false,false,true,false,false,false,false,false,false,false,false,false,false,false]},{\"title\":\"Mean Box Office Revenues by Month of Release for Science Fiction & Adventure\"}],\"label\":\"Science Fiction & Adventure\",\"method\":\"update\"},{\"args\":[{\"visible\":[false,false,false,false,false,false,false,false,false,false,false,false,false,false,false,false,false,false,false,true,false,false,false,false,false,false,false,false,false,false]},{\"title\":\"Mean Box Office Revenues by Month of Release for Sports & Drama\"}],\"label\":\"Sports & Drama\",\"method\":\"update\"},{\"args\":[{\"visible\":[false,false,false,false,false,false,false,false,false,false,false,false,false,false,false,false,false,false,false,false,true,false,false,false,false,false,false,false,false,false]},{\"title\":\"Mean Box Office Revenues by Month of Release for Thriller & Science Fiction\"}],\"label\":\"Thriller & Science Fiction\",\"method\":\"update\"},{\"args\":[{\"visible\":[false,false,false,false,false,false,false,false,false,false,false,false,false,false,false,false,false,false,false,false,false,true,false,false,false,false,false,false,false,false]},{\"title\":\"Mean Box Office Revenues by Month of Release for Thriller & Action Thrillers\"}],\"label\":\"Thriller & Action Thrillers\",\"method\":\"update\"},{\"args\":[{\"visible\":[false,false,false,false,false,false,false,false,false,false,false,false,false,false,false,false,false,false,false,false,false,false,true,false,false,false,false,false,false,false]},{\"title\":\"Mean Box Office Revenues by Month of Release for Thriller & Action\\u002fAdventure\"}],\"label\":\"Thriller & Action\\u002fAdventure\",\"method\":\"update\"},{\"args\":[{\"visible\":[false,false,false,false,false,false,false,false,false,false,false,false,false,false,false,false,false,false,false,false,false,false,false,true,false,false,false,false,false,false]},{\"title\":\"Mean Box Office Revenues by Month of Release for Thriller & Crime Fiction\"}],\"label\":\"Thriller & Crime Fiction\",\"method\":\"update\"},{\"args\":[{\"visible\":[false,false,false,false,false,false,false,false,false,false,false,false,false,false,false,false,false,false,false,false,false,false,false,false,true,false,false,false,false,false]},{\"title\":\"Mean Box Office Revenues by Month of Release for Thriller & Horror\"}],\"label\":\"Thriller & Horror\",\"method\":\"update\"},{\"args\":[{\"visible\":[false,false,false,false,false,false,false,false,false,false,false,false,false,false,false,false,false,false,false,false,false,false,false,false,false,true,false,false,false,false]},{\"title\":\"Mean Box Office Revenues by Month of Release for Thriller & Mystery\"}],\"label\":\"Thriller & Mystery\",\"method\":\"update\"},{\"args\":[{\"visible\":[false,false,false,false,false,false,false,false,false,false,false,false,false,false,false,false,false,false,false,false,false,false,false,false,false,false,true,false,false,false]},{\"title\":\"Mean Box Office Revenues by Month of Release for Thriller & Crime Thriller\"}],\"label\":\"Thriller & Crime Thriller\",\"method\":\"update\"},{\"args\":[{\"visible\":[false,false,false,false,false,false,false,false,false,false,false,false,false,false,false,false,false,false,false,false,false,false,false,false,false,false,false,true,false,false]},{\"title\":\"Mean Box Office Revenues by Month of Release for Thriller & Drama\"}],\"label\":\"Thriller & Drama\",\"method\":\"update\"},{\"args\":[{\"visible\":[false,false,false,false,false,false,false,false,false,false,false,false,false,false,false,false,false,false,false,false,false,false,false,false,false,false,false,false,true,false]},{\"title\":\"Mean Box Office Revenues by Month of Release for Thriller & Action\"}],\"label\":\"Thriller & Action\",\"method\":\"update\"},{\"args\":[{\"visible\":[false,false,false,false,false,false,false,false,false,false,false,false,false,false,false,false,false,false,false,false,false,false,false,false,false,false,false,false,false,true]},{\"title\":\"Mean Box Office Revenues by Month of Release for Thriller & World cinema\"}],\"label\":\"Thriller & World cinema\",\"method\":\"update\"}],\"direction\":\"down\",\"pad\":{\"r\":10,\"t\":10},\"showactive\":true,\"type\":\"dropdown\",\"x\":1.1,\"xanchor\":\"left\",\"y\":1.2,\"yanchor\":\"top\"}]},                        {\"responsive\": true}                    ).then(function(){\n",
       "                            \n",
       "var gd = document.getElementById('894c3645-f68b-4b3b-ad11-f4715618949b');\n",
       "var x = new MutationObserver(function (mutations, observer) {{\n",
       "        var display = window.getComputedStyle(gd).display;\n",
       "        if (!display || display === 'none') {{\n",
       "            console.log([gd, 'removed!']);\n",
       "            Plotly.purge(gd);\n",
       "            observer.disconnect();\n",
       "        }}\n",
       "}});\n",
       "\n",
       "// Listen for the removal of the full notebook cells\n",
       "var notebookContainer = gd.closest('#notebook-container');\n",
       "if (notebookContainer) {{\n",
       "    x.observe(notebookContainer, {childList: true});\n",
       "}}\n",
       "\n",
       "// Listen for the clearing of the current output cell\n",
       "var outputEl = gd.closest('.output');\n",
       "if (outputEl) {{\n",
       "    x.observe(outputEl, {childList: true});\n",
       "}}\n",
       "\n",
       "                        })                };                });            </script>        </div>"
      ]
     },
     "metadata": {},
     "output_type": "display_data"
    }
   ],
   "source": [
    "# Calculate mean revenue for each genre pair\n",
    "genre_pair_mean_revenue = df_mov1.groupby(['Main_genre', 'Sec_Genre'])['Movie_revenue'].mean().reset_index()\n",
    "\n",
    "# Merge this mean revenue with the original df_mov1 on 'Main_genre' and 'Sec_Genre'\n",
    "df_mov1 = df_mov1.merge(genre_pair_mean_revenue, on=['Main_genre', 'Sec_Genre'], suffixes=('', '_mean'))\n",
    "\n",
    "# Fill NaN values in 'Movie_revenue' with the mean revenue of the genre pairs\n",
    "df_mov1['Movie_revenue'] = df_mov1['Movie_revenue'].fillna(df_mov1['Movie_revenue_mean'])\n",
    "\n",
    "# Drop the auxiliary 'Movie_revenue_mean' as it's no longer needed after the NaN values are filled\n",
    "df_mov1.drop(columns=['Movie_revenue_mean'], inplace=True)\n",
    "\n",
    "# Drop rows where either 'Main_genre' or 'Secondary_Genre' is NaN\n",
    "df_genre_pairs = df_mov1.dropna(subset=['Main_genre', 'Sec_Genre'])\n",
    "\n",
    "# Drop rows where either 'Main_genre' or 'Secondary_Genre' is 'Short Film'\n",
    "df_genre_pairs = df_genre_pairs[(df_genre_pairs['Main_genre'] != 'Short Film') & (df_genre_pairs['Sec_Genre'] != 'Short Film')]\n",
    "\n",
    "month_dict = {\n",
    "    1: \"January\", 2: \"February\", 3: \"March\", 4: \"April\", 5: \"May\", 6: \"June\",\n",
    "    7: \"July\", 8: \"August\", 9: \"September\", 10: \"October\", 11: \"November\", 12: \"December\"\n",
    "}\n",
    "\n",
    "# Create the 'genre_pairs_aggregated' DataFrame with 'count' and 'mean_revenue' as columns\n",
    "genre_pairs_aggregated = df_genre_pairs.groupby(['Main_genre', 'Sec_Genre']).agg(\n",
    "    count=('Wiki_ID', 'size'), \n",
    "    mean_revenue=('Movie_revenue', 'mean')\n",
    ").reset_index()\n",
    "\n",
    "top_30_genre_pairs = genre_pairs_aggregated[genre_pairs_aggregated['count'] >= 150].sort_values(by='mean_revenue', ascending=False).head(30)\n",
    "\n",
    "# Sort the top_30_genre_pairs list alphabetically by main genre only# 'top_30_genre_pairs' would be a DataFrame here, you need to extract the genre pairs as a list of tuples\n",
    "top_30_genre_pairs_list = top_30_genre_pairs[['Main_genre', 'Sec_Genre']].values.tolist()\n",
    "\n",
    "# Then, sort the list of tuples based on the main genre\n",
    "top_30_genre_pairs_sorted_by_main_genre = sorted(top_30_genre_pairs_list, key=lambda x: x[0])\n",
    "\n",
    "# Create an empty subplot\n",
    "fig = make_subplots(rows=1, cols=1, shared_yaxes=True)\n",
    "\n",
    "# Loop through each of the top 30 genre pairs\n",
    "for main_genre, secondary_genre in top_30_genre_pairs_sorted_by_main_genre:\n",
    "    pair_data = df_mov1[(df_mov1['Main_genre'] == main_genre) & (df_mov1['Sec_Genre'] == secondary_genre)]\n",
    "    month_mean_revenues = pair_data.groupby('Month_of_release')['Movie_revenue'].mean().reset_index()\n",
    "    month_mean_revenues['Month_of_release'] = month_mean_revenues['Month_of_release'].replace(month_dict)\n",
    "\n",
    "    trace = go.Bar(x=month_mean_revenues['Month_of_release'],\n",
    "                   y=month_mean_revenues['Movie_revenue'],\n",
    "                   name=f\"{main_genre} & {secondary_genre}\",\n",
    "                   opacity=1,\n",
    "                   marker_color=px.colors.sequential.Plasma_r)\n",
    "\n",
    "    fig.add_trace(trace)\n",
    "\n",
    "# Create dropdown menu to switch between the sorted genre pairs\n",
    "dropdown = []\n",
    "for i, (main_genre, secondary_genre) in enumerate(top_30_genre_pairs_sorted_by_main_genre):\n",
    "    # Each trace corresponds to a genre pair\n",
    "    # For each button, only the corresponding trace should be visible\n",
    "    visibility = [False] * len(top_30_genre_pairs_sorted_by_main_genre)\n",
    "    visibility[i] = True  # Only the current trace is visible\n",
    "    \n",
    "    option = dict(label=f\"{main_genre} & {secondary_genre}\",\n",
    "                  method='update',\n",
    "                  args=[{'visible': visibility},\n",
    "                        {'title': f'Mean Box Office Revenues by Month of Release for {main_genre} & {secondary_genre}'}])\n",
    "    dropdown.append(option)\n",
    "\n",
    "# Update layout with the sorted dropdown\n",
    "fig.update_layout(\n",
    "    updatemenus=[dict(\n",
    "        type='dropdown',\n",
    "        showactive=True,\n",
    "        buttons=dropdown,  # Use the sorted dropdown list here\n",
    "        direction=\"down\",\n",
    "        pad={\"r\": 10, \"t\": 10},\n",
    "        x=1.1,\n",
    "        xanchor=\"left\",\n",
    "        y=1.2,\n",
    "        yanchor=\"top\"\n",
    "    )],\n",
    "    # ... (keep the rest of your layout configuration as is)\n",
    ")\n",
    "\n",
    "# Update to ensure that the first genre pair from the sorted list is set as the default visible trace\n",
    "fig.data[0].visible = True  # This assumes the first trace in fig corresponds to the first pair in the sorted list\n",
    "\n",
    "fig.show()\n"
   ]
  },
  {
   "cell_type": "code",
   "execution_count": 69,
   "metadata": {
    "collapsed": true,
    "jupyter": {
     "outputs_hidden": true
    },
    "tags": []
   },
   "outputs": [
    {
     "name": "stdout",
     "output_type": "stream",
     "text": [
      "57011\n"
     ]
    },
    {
     "data": {
      "text/plain": [
       "Index(['imdb_rating', 'type', 'popular_title', 'original_title',\n",
       "       'movie_start_year', 'movie_end_year', 'runtime', 'genres', 'director',\n",
       "       'dir_birth', 'dir_death', 'dir_known_titles', 'writer', 'writer_birth',\n",
       "       'writer_death', 'writer_know_titles', 'Wiki_ID', 'Freebase_ID',\n",
       "       'Movie_name', 'Movie_release', 'Movie_revenue', 'Movie_runtime',\n",
       "       'Movie_languages', 'Movie_countries', 'Movie_genres', 'Year_of_release',\n",
       "       'Month_of_release', 'Day_of_release', 'Main_genre', 'Sec_Genre'],\n",
       "      dtype='object')"
      ]
     },
     "execution_count": 69,
     "metadata": {},
     "output_type": "execute_result"
    }
   ],
   "source": [
    "df_imdb = pd.read_table('data/imdb_data.tsv')\n",
    "df_movie = df_imdb.merge(df_mov1, left_on='popular_title', right_on='Movie_name', how='right')\n",
    "print(len(df_movie))\n",
    "df_movie.columns"
   ]
  },
  {
   "cell_type": "code",
   "execution_count": 70,
   "metadata": {
    "collapsed": true,
    "jupyter": {
     "outputs_hidden": true
    },
    "tags": []
   },
   "outputs": [
    {
     "name": "stdout",
     "output_type": "stream",
     "text": [
      "57011\n"
     ]
    },
    {
     "data": {
      "text/plain": [
       "Index(['imdb_rating', 'movie_start_year', 'runtime', 'director', 'dir_birth',\n",
       "       'writer', 'writer_birth', 'Wiki_ID', 'Movie_name', 'Movie_revenue',\n",
       "       'Movie_runtime', 'Movie_countries', 'Year_of_release',\n",
       "       'Month_of_release', 'Day_of_release', 'Main_genre', 'Sec_Genre'],\n",
       "      dtype='object')"
      ]
     },
     "execution_count": 70,
     "metadata": {},
     "output_type": "execute_result"
    }
   ],
   "source": [
    "df_movie = df_movie.drop(['type', 'popular_title','original_title','writer_death','dir_known_titles','genres','writer_death'\n",
    "             ,'writer_know_titles','Movie_languages', 'Freebase_ID','dir_death','movie_end_year','Movie_release','Movie_genres'], axis=1)\n",
    "print(len(df_movie))\n",
    "df_movie.columns"
   ]
  },
  {
   "cell_type": "code",
   "execution_count": 71,
   "metadata": {
    "collapsed": true,
    "jupyter": {
     "outputs_hidden": true
    },
    "tags": []
   },
   "outputs": [
    {
     "name": "stdout",
     "output_type": "stream",
     "text": [
      "450669\n"
     ]
    },
    {
     "data": {
      "text/plain": [
       "Index(['imdb_rating', 'movie_start_year', 'runtime', 'director', 'dir_birth',\n",
       "       'writer', 'writer_birth', 'Wiki_ID', 'Movie_name', 'Movie_revenue',\n",
       "       'Movie_runtime', 'Movie_countries', 'Year_of_release',\n",
       "       'Month_of_release', 'Day_of_release', 'Main_genre', 'Sec_Genre',\n",
       "       'Freebase_ID', 'Movie_release', 'Char_name', 'Actor_birth',\n",
       "       'Actor_gender', 'Actor_height', 'Actor_ethnicity', 'Actor_name',\n",
       "       'Actor_age_release', 'Char/Actor_map', 'Char_ID', 'Actor_ID'],\n",
       "      dtype='object')"
      ]
     },
     "execution_count": 71,
     "metadata": {},
     "output_type": "execute_result"
    }
   ],
   "source": [
    "df_movie = df_movie.merge(df_char, left_on='Wiki_ID', right_on='Wiki_ID', how='right')\n",
    "print(len(df_movie))\n",
    "df_movie.columns\n"
   ]
  },
  {
   "cell_type": "code",
   "execution_count": 72,
   "metadata": {
    "collapsed": true,
    "jupyter": {
     "outputs_hidden": true
    },
    "tags": []
   },
   "outputs": [
    {
     "name": "stdout",
     "output_type": "stream",
     "text": [
      "450669\n"
     ]
    },
    {
     "data": {
      "text/plain": [
       "Index(['imdb_rating', 'movie_start_year', 'runtime', 'director', 'writer',\n",
       "       'Movie_name', 'Movie_revenue', 'Movie_runtime', 'Movie_countries',\n",
       "       'Year_of_release', 'Month_of_release', 'Day_of_release', 'Main_genre',\n",
       "       'Sec_Genre', 'Freebase_ID', 'Movie_release', 'Char_name', 'Actor_birth',\n",
       "       'Actor_gender', 'Actor_height', 'Actor_ethnicity', 'Actor_name',\n",
       "       'Actor_age_release'],\n",
       "      dtype='object')"
      ]
     },
     "execution_count": 72,
     "metadata": {},
     "output_type": "execute_result"
    }
   ],
   "source": [
    "df_movie = df_movie.drop(['Actor_ID','Wiki_ID','Char/Actor_map','writer_birth','dir_birth','Char_ID'],axis =1 )\n",
    "print(len(df_movie))\n",
    "df_movie.columns"
   ]
  },
  {
   "cell_type": "code",
   "execution_count": 73,
   "metadata": {
    "collapsed": true,
    "jupyter": {
     "outputs_hidden": true
    },
    "tags": []
   },
   "outputs": [
    {
     "name": "stdout",
     "output_type": "stream",
     "text": [
      "331757\n"
     ]
    },
    {
     "data": {
      "image/png": "[encoded data removed]",
      "text/plain": [
       "<Figure size 2500x1000 with 2 Axes>"
      ]
     },
     "metadata": {},
     "output_type": "display_data"
    }
   ],
   "source": [
    "df_movie = df_movie.dropna(subset=['Actor_name','Movie_name','Movie_revenue'])\n",
    "\n",
    "msno.matrix(df_movie)\n",
    "print(len(df_movie))"
   ]
  },
  {
   "cell_type": "code",
   "execution_count": null,
   "metadata": {},
   "outputs": [],
   "source": []
  },
  {
   "cell_type": "code",
   "execution_count": 74,
   "metadata": {
    "tags": []
   },
   "outputs": [],
   "source": [
    "data = {\n",
    "    'year': [\n",
    "        2022, 2021, 2020, 2019, 2018, 2017, 2016, 2015, 2014, 2013, 2012, \n",
    "        2011, 2010, 2009, 2008, 2007, 2006, 2005, 2004, 2003, 2002, 2001, \n",
    "        2000, 1999, 1998, 1997, 1996, 1995, 1994, 1993, 1992, 1991, 1990, \n",
    "        1989, 1988, 1987, 1986, 1985, 1984, 1983, 1982, 1981, 1980, 1979, \n",
    "        1978, 1977, 1976, 1975, 1974, 1973, 1972, 1971, 1970, 1969, 1968, \n",
    "        1967, 1966, 1965, 1964, 1963, 1962, 1961, 1960\n",
    "    ],\n",
    "    'inflation_factor': [\n",
    "        8.00, 4.70, 1.23, 1.81, 2.44, 2.13, 1.26, 0.12, 1.62, 1.46, 2.07,\n",
    "        3.16, 1.64, -0.36, 3.84, 2.85, 3.23, 3.39, 2.68, 2.27, 1.59, 2.83,\n",
    "        3.38, 2.19, 1.55, 2.34, 2.93, 2.81, 2.61, 2.95, 3.03, 4.24, 5.40,\n",
    "        4.83, 4.08, 3.66, 1.90, 3.55, 4.30, 3.21, 6.13, 10.33, 13.55, 11.25,\n",
    "        7.63, 6.50, 5.74, 9.14, 11.05, 6.18, 3.27, 4.29, 5.84, 5.46, 4.27,\n",
    "        2.77, 3.02, 1.59, 1.28, 1.24, 1.20, 1.07, 1.46\n",
    "    ]\n",
    "}\n",
    "\n",
    "#From https://www.macrotrends.net/countries/USA/united-states/inflation-rate-cpi website\n",
    "df_inflation = pd.DataFrame(data)"
   ]
  },
  {
   "cell_type": "code",
   "execution_count": 77,
   "metadata": {
    "tags": []
   },
   "outputs": [],
   "source": [
    "#def standardize_revenue(row, inflation_data):\n",
    "#    if pd.isnull(row['Movie_revenue']):\n",
    "#        return row['Movie_revenue']\n",
    "#    else:\n",
    "#        year = row['movie_start_year']\n",
    "#        inflation_factor = inflation_data.loc[inflation_data['year'] == year, 'inflation_factor'].values[0]\n",
    "#        return row['Movie_revenue'] * inflation_factor\n",
    "    \n",
    "def calculate_avg_revenue(row, grouped_data):\n",
    "    previous_films = grouped_data.get_group(row['Actor_name'])\n",
    "    previous_films = previous_films[previous_films['Movie_release'] < row['Movie_release']]\n",
    "    if previous_films.empty:\n",
    "        return np.nan\n",
    "    else:\n",
    "        return previous_films['Movie_revenue'].mean()\n",
    "    \n",
    "def calculate_longevity(row, grouped_data):\n",
    "    first_film_date = grouped_data.get_group(row['Actor_name'])['Movie_release'].min()\n",
    "    if (len(grouped_data.get_group(row['Actor_name'])['Movie_release']) == 0) : \n",
    "        return 0\n",
    "    elif (row['Movie_release'] == np.nan) or (first_film_date == np.nan) : \n",
    "        return np.nan\n",
    "    else :\n",
    "        return row['Movie_release'] - first_film_date\n",
    "\n",
    "def calculate_films_count(row, grouped_data):\n",
    "    previous_films = grouped_data.get_group(row['Actor_name'])\n",
    "    return previous_films[previous_films['Movie_release'] < row['Movie_release']].shape[0]\n",
    "\n",
    "def calculate_avg_rating(row, grouped_data):\n",
    "    previous_films = grouped_data.get_group(row['Actor_name'])\n",
    "    previous_films = previous_films[previous_films['Movie_release'] < row['Movie_release']]\n",
    "    if previous_films.empty:\n",
    "        return np.nan\n",
    "    else:\n",
    "        return previous_films['imdb_rating'].mean()\n",
    "\n",
    "#def calculate_preferred_genre(row, grouped_data):\n",
    "#    previous_films = grouped_data.get_group(row['Actor_name'])\n",
    "#    previous_films = previous_films[previous_films['Movie_release'] < row['Movie_release']]\n",
    "#    if previous_films.empty:\n",
    "#        return np.nan\n",
    "#    else:\n",
    "#       genres = previous_films['Main_genre'].append(previous_films['Sec_Genre']).reset_index(drop=True)\n",
    "#        return genres.value_counts().idxmax()"
   ]
  },
  {
   "cell_type": "code",
   "execution_count": 79,
   "metadata": {
    "tags": []
   },
   "outputs": [],
   "source": [
    "# Assuming 'Movies_countries' is a column that you haven't listed in df_movie.columns but exists in your DataFrame\n",
    "df_movie = df_movie[df_movie['Movie_countries'].str.contains(\"United States of America\")]\n",
    "\n",
    "# Function to standardize revenue\n",
    "#df_movie['Movie_revenue'] = df_movie.apply(lambda row: standardize_revenue(row, df_inflation), axis=1)\n",
    "\n",
    "#Create the actors subgroups\n",
    "grouped_by_actor = df_movie.groupby('Actor_name')\n",
    "\n",
    "#Create the new columns\n",
    "df_movie['Avg_revenue_per_film_at_release'] = df_movie.apply(lambda row: calculate_avg_revenue(row, grouped_by_actor), axis=1)\n",
    "df_movie['Longevity'] = df_movie.apply(lambda row: calculate_longevity(row, grouped_by_actor), axis=1)\n",
    "df_movie['Number_of_film_at_release'] = df_movie.apply(lambda row: calculate_films_count(row, grouped_by_actor), axis=1)\n",
    "df_movie['Avg_rating_per_film_at_release'] = df_movie.apply(lambda row: calculate_avg_rating(row, grouped_by_actor), axis=1)\n",
    "#df_movie['Preferred_genre'] = df_movie.apply(lambda row: calculate_preferred_genre(row, grouped_by_actor), axis=1)\n",
    "\n",
    "\n"
   ]
  },
  {
   "cell_type": "code",
   "execution_count": 87,
   "metadata": {
    "tags": []
   },
   "outputs": [
    {
     "data": {
      "text/html": [
       "<div>\n",
       "<style scoped>\n",
       "    .dataframe tbody tr th:only-of-type {\n",
       "        vertical-align: middle;\n",
       "    }\n",
       "\n",
       "    .dataframe tbody tr th {\n",
       "        vertical-align: top;\n",
       "    }\n",
       "\n",
       "    .dataframe thead th {\n",
       "        text-align: right;\n",
       "    }\n",
       "</style>\n",
       "<table border=\"1\" class=\"dataframe\">\n",
       "  <thead>\n",
       "    <tr style=\"text-align: right;\">\n",
       "      <th></th>\n",
       "      <th>imdb_rating</th>\n",
       "      <th>movie_start_year</th>\n",
       "      <th>runtime</th>\n",
       "      <th>director</th>\n",
       "      <th>writer</th>\n",
       "      <th>Movie_name</th>\n",
       "      <th>Movie_revenue</th>\n",
       "      <th>Movie_runtime</th>\n",
       "      <th>Movie_countries</th>\n",
       "      <th>Year_of_release</th>\n",
       "      <th>...</th>\n",
       "      <th>Actor_birth</th>\n",
       "      <th>Actor_gender</th>\n",
       "      <th>Actor_height</th>\n",
       "      <th>Actor_ethnicity</th>\n",
       "      <th>Actor_name</th>\n",
       "      <th>Actor_age_release</th>\n",
       "      <th>Avg_revenue_per_film_at_release</th>\n",
       "      <th>Longevity</th>\n",
       "      <th>Number_of_film_at_release</th>\n",
       "      <th>Avg_rating_per_film_at_release</th>\n",
       "    </tr>\n",
       "  </thead>\n",
       "  <tbody>\n",
       "    <tr>\n",
       "      <th>3</th>\n",
       "      <td>4.9</td>\n",
       "      <td>2001.0</td>\n",
       "      <td>98.0</td>\n",
       "      <td>John Carpenter</td>\n",
       "      <td>NaN</td>\n",
       "      <td>Ghosts of Mars</td>\n",
       "      <td>1.401083e+07</td>\n",
       "      <td>98.0</td>\n",
       "      <td>{\"/m/09c7w0\": \"United States of America\"}</td>\n",
       "      <td>2001.0</td>\n",
       "      <td>...</td>\n",
       "      <td>1967-09-12</td>\n",
       "      <td>M</td>\n",
       "      <td>1.75</td>\n",
       "      <td>NaN</td>\n",
       "      <td>Jason Statham</td>\n",
       "      <td>33.0</td>\n",
       "      <td>4.240291e+07</td>\n",
       "      <td>1.0</td>\n",
       "      <td>2</td>\n",
       "      <td>5.600000</td>\n",
       "    </tr>\n",
       "    <tr>\n",
       "      <th>40041</th>\n",
       "      <td>7.6</td>\n",
       "      <td>1967.0</td>\n",
       "      <td>60.0</td>\n",
       "      <td>Georg Fenady</td>\n",
       "      <td>NaN</td>\n",
       "      <td>The Expendables</td>\n",
       "      <td>2.744704e+08</td>\n",
       "      <td>98.0</td>\n",
       "      <td>{\"/m/09c7w0\": \"United States of America\", \"/m/...</td>\n",
       "      <td>2010.0</td>\n",
       "      <td>...</td>\n",
       "      <td>1967-09-12</td>\n",
       "      <td>M</td>\n",
       "      <td>1.75</td>\n",
       "      <td>NaN</td>\n",
       "      <td>Jason Statham</td>\n",
       "      <td>42.0</td>\n",
       "      <td>6.208297e+07</td>\n",
       "      <td>10.0</td>\n",
       "      <td>20</td>\n",
       "      <td>6.361111</td>\n",
       "    </tr>\n",
       "    <tr>\n",
       "      <th>66637</th>\n",
       "      <td>6.2</td>\n",
       "      <td>1973.0</td>\n",
       "      <td>90.0</td>\n",
       "      <td>David Lowell Rich</td>\n",
       "      <td>Charles Kuenstle</td>\n",
       "      <td>Death Race</td>\n",
       "      <td>6.125371e+07</td>\n",
       "      <td>111.0</td>\n",
       "      <td>{\"/m/09c7w0\": \"United States of America\", \"/m/...</td>\n",
       "      <td>2008.0</td>\n",
       "      <td>...</td>\n",
       "      <td>1967-09-12</td>\n",
       "      <td>M</td>\n",
       "      <td>1.75</td>\n",
       "      <td>NaN</td>\n",
       "      <td>Jason Statham</td>\n",
       "      <td>40.0</td>\n",
       "      <td>6.679244e+07</td>\n",
       "      <td>8.0</td>\n",
       "      <td>16</td>\n",
       "      <td>6.446667</td>\n",
       "    </tr>\n",
       "    <tr>\n",
       "      <th>130142</th>\n",
       "      <td>6.4</td>\n",
       "      <td>2001.0</td>\n",
       "      <td>99.0</td>\n",
       "      <td>Barry Skolnick</td>\n",
       "      <td>NaN</td>\n",
       "      <td>Mean Machine</td>\n",
       "      <td>7.310206e+06</td>\n",
       "      <td>98.0</td>\n",
       "      <td>{\"/m/09c7w0\": \"United States of America\", \"/m/...</td>\n",
       "      <td>2001.0</td>\n",
       "      <td>...</td>\n",
       "      <td>1967-09-12</td>\n",
       "      <td>M</td>\n",
       "      <td>1.75</td>\n",
       "      <td>NaN</td>\n",
       "      <td>Jason Statham</td>\n",
       "      <td>34.0</td>\n",
       "      <td>4.240291e+07</td>\n",
       "      <td>1.0</td>\n",
       "      <td>2</td>\n",
       "      <td>5.600000</td>\n",
       "    </tr>\n",
       "    <tr>\n",
       "      <th>137253</th>\n",
       "      <td>6.8</td>\n",
       "      <td>1972.0</td>\n",
       "      <td>100.0</td>\n",
       "      <td>Michael Winner</td>\n",
       "      <td>NaN</td>\n",
       "      <td>The Mechanic</td>\n",
       "      <td>5.107081e+07</td>\n",
       "      <td>93.0</td>\n",
       "      <td>{\"/m/09c7w0\": \"United States of America\"}</td>\n",
       "      <td>2011.0</td>\n",
       "      <td>...</td>\n",
       "      <td>1967-09-12</td>\n",
       "      <td>M</td>\n",
       "      <td>1.75</td>\n",
       "      <td>NaN</td>\n",
       "      <td>Jason Statham</td>\n",
       "      <td>43.0</td>\n",
       "      <td>7.024967e+07</td>\n",
       "      <td>11.0</td>\n",
       "      <td>22</td>\n",
       "      <td>6.395000</td>\n",
       "    </tr>\n",
       "    <tr>\n",
       "      <th>147120</th>\n",
       "      <td>5.4</td>\n",
       "      <td>1991.0</td>\n",
       "      <td>25.0</td>\n",
       "      <td>Ted Emery</td>\n",
       "      <td>NaN</td>\n",
       "      <td>Turn It Up</td>\n",
       "      <td>1.247949e+06</td>\n",
       "      <td>87.0</td>\n",
       "      <td>{\"/m/09c7w0\": \"United States of America\"}</td>\n",
       "      <td>2000.0</td>\n",
       "      <td>...</td>\n",
       "      <td>1967-09-12</td>\n",
       "      <td>M</td>\n",
       "      <td>1.75</td>\n",
       "      <td>NaN</td>\n",
       "      <td>Jason Statham</td>\n",
       "      <td>32.0</td>\n",
       "      <td>NaN</td>\n",
       "      <td>0.0</td>\n",
       "      <td>0</td>\n",
       "      <td>NaN</td>\n",
       "    </tr>\n",
       "    <tr>\n",
       "      <th>149730</th>\n",
       "      <td>NaN</td>\n",
       "      <td>NaN</td>\n",
       "      <td>NaN</td>\n",
       "      <td>NaN</td>\n",
       "      <td>NaN</td>\n",
       "      <td>Crank: High Voltage</td>\n",
       "      <td>3.456058e+07</td>\n",
       "      <td>96.0</td>\n",
       "      <td>{\"/m/09c7w0\": \"United States of America\"}</td>\n",
       "      <td>2009.0</td>\n",
       "      <td>...</td>\n",
       "      <td>1967-09-12</td>\n",
       "      <td>M</td>\n",
       "      <td>1.75</td>\n",
       "      <td>NaN</td>\n",
       "      <td>Jason Statham</td>\n",
       "      <td>41.0</td>\n",
       "      <td>6.353152e+07</td>\n",
       "      <td>9.0</td>\n",
       "      <td>19</td>\n",
       "      <td>6.361111</td>\n",
       "    </tr>\n",
       "    <tr>\n",
       "      <th>155529</th>\n",
       "      <td>5.8</td>\n",
       "      <td>1999.0</td>\n",
       "      <td>15.0</td>\n",
       "      <td>Gert Embrechts</td>\n",
       "      <td>Gert Embrechts</td>\n",
       "      <td>13</td>\n",
       "      <td>2.936302e+07</td>\n",
       "      <td>97.0</td>\n",
       "      <td>{\"/m/09c7w0\": \"United States of America\"}</td>\n",
       "      <td>2010.0</td>\n",
       "      <td>...</td>\n",
       "      <td>1967-09-12</td>\n",
       "      <td>M</td>\n",
       "      <td>1.75</td>\n",
       "      <td>NaN</td>\n",
       "      <td>Jason Statham</td>\n",
       "      <td>42.0</td>\n",
       "      <td>6.208297e+07</td>\n",
       "      <td>10.0</td>\n",
       "      <td>20</td>\n",
       "      <td>6.361111</td>\n",
       "    </tr>\n",
       "    <tr>\n",
       "      <th>177978</th>\n",
       "      <td>6.4</td>\n",
       "      <td>2011.0</td>\n",
       "      <td>116.0</td>\n",
       "      <td>Gary McKendry</td>\n",
       "      <td>NaN</td>\n",
       "      <td>Killer Elite</td>\n",
       "      <td>5.570190e+07</td>\n",
       "      <td>120.0</td>\n",
       "      <td>{\"/m/09c7w0\": \"United States of America\", \"/m/...</td>\n",
       "      <td>2011.0</td>\n",
       "      <td>...</td>\n",
       "      <td>1967-09-12</td>\n",
       "      <td>M</td>\n",
       "      <td>1.75</td>\n",
       "      <td>NaN</td>\n",
       "      <td>Jason Statham</td>\n",
       "      <td>43.0</td>\n",
       "      <td>7.024967e+07</td>\n",
       "      <td>11.0</td>\n",
       "      <td>22</td>\n",
       "      <td>6.395000</td>\n",
       "    </tr>\n",
       "    <tr>\n",
       "      <th>193820</th>\n",
       "      <td>3.7</td>\n",
       "      <td>1913.0</td>\n",
       "      <td>30.0</td>\n",
       "      <td>Francis Ford</td>\n",
       "      <td>Grace Cunard</td>\n",
       "      <td>War</td>\n",
       "      <td>4.045264e+07</td>\n",
       "      <td>103.0</td>\n",
       "      <td>{\"/m/09c7w0\": \"United States of America\"}</td>\n",
       "      <td>2007.0</td>\n",
       "      <td>...</td>\n",
       "      <td>1967-09-12</td>\n",
       "      <td>M</td>\n",
       "      <td>1.75</td>\n",
       "      <td>NaN</td>\n",
       "      <td>Jason Statham</td>\n",
       "      <td>39.0</td>\n",
       "      <td>6.854843e+07</td>\n",
       "      <td>7.0</td>\n",
       "      <td>15</td>\n",
       "      <td>6.642857</td>\n",
       "    </tr>\n",
       "    <tr>\n",
       "      <th>198986</th>\n",
       "      <td>9.2</td>\n",
       "      <td>2015.0</td>\n",
       "      <td>43.0</td>\n",
       "      <td>Michael Pressman</td>\n",
       "      <td>NaN</td>\n",
       "      <td>Collateral</td>\n",
       "      <td>2.177643e+08</td>\n",
       "      <td>120.0</td>\n",
       "      <td>{\"/m/09c7w0\": \"United States of America\"}</td>\n",
       "      <td>2004.0</td>\n",
       "      <td>...</td>\n",
       "      <td>1967-09-12</td>\n",
       "      <td>M</td>\n",
       "      <td>1.75</td>\n",
       "      <td>NaN</td>\n",
       "      <td>Jason Statham</td>\n",
       "      <td>36.0</td>\n",
       "      <td>5.750860e+07</td>\n",
       "      <td>4.0</td>\n",
       "      <td>8</td>\n",
       "      <td>5.742857</td>\n",
       "    </tr>\n",
       "    <tr>\n",
       "      <th>201341</th>\n",
       "      <td>7.2</td>\n",
       "      <td>1969.0</td>\n",
       "      <td>99.0</td>\n",
       "      <td>Peter Collinson</td>\n",
       "      <td>Troy Kennedy Martin</td>\n",
       "      <td>The Italian Job</td>\n",
       "      <td>1.760702e+08</td>\n",
       "      <td>111.0</td>\n",
       "      <td>{\"/m/09c7w0\": \"United States of America\", \"/m/...</td>\n",
       "      <td>2003.0</td>\n",
       "      <td>...</td>\n",
       "      <td>1967-09-12</td>\n",
       "      <td>M</td>\n",
       "      <td>1.75</td>\n",
       "      <td>NaN</td>\n",
       "      <td>Jason Statham</td>\n",
       "      <td>35.0</td>\n",
       "      <td>3.712415e+07</td>\n",
       "      <td>3.0</td>\n",
       "      <td>6</td>\n",
       "      <td>5.500000</td>\n",
       "    </tr>\n",
       "    <tr>\n",
       "      <th>208832</th>\n",
       "      <td>7.0</td>\n",
       "      <td>2011.0</td>\n",
       "      <td>NaN</td>\n",
       "      <td>Logan Ridenbaugh</td>\n",
       "      <td>NaN</td>\n",
       "      <td>Gnomeo and Juliet</td>\n",
       "      <td>1.939677e+08</td>\n",
       "      <td>84.0</td>\n",
       "      <td>{\"/m/09c7w0\": \"United States of America\", \"/m/...</td>\n",
       "      <td>2011.0</td>\n",
       "      <td>...</td>\n",
       "      <td>1967-09-12</td>\n",
       "      <td>M</td>\n",
       "      <td>1.75</td>\n",
       "      <td>NaN</td>\n",
       "      <td>Jason Statham</td>\n",
       "      <td>43.0</td>\n",
       "      <td>7.024967e+07</td>\n",
       "      <td>11.0</td>\n",
       "      <td>22</td>\n",
       "      <td>6.395000</td>\n",
       "    </tr>\n",
       "    <tr>\n",
       "      <th>212758</th>\n",
       "      <td>8.5</td>\n",
       "      <td>2006.0</td>\n",
       "      <td>45.0</td>\n",
       "      <td>John Gray</td>\n",
       "      <td>John Gray</td>\n",
       "      <td>The One</td>\n",
       "      <td>7.268913e+07</td>\n",
       "      <td>85.0</td>\n",
       "      <td>{\"/m/09c7w0\": \"United States of America\"}</td>\n",
       "      <td>2001.0</td>\n",
       "      <td>...</td>\n",
       "      <td>1967-09-12</td>\n",
       "      <td>M</td>\n",
       "      <td>1.75</td>\n",
       "      <td>NaN</td>\n",
       "      <td>Jason Statham</td>\n",
       "      <td>34.0</td>\n",
       "      <td>4.240291e+07</td>\n",
       "      <td>1.0</td>\n",
       "      <td>2</td>\n",
       "      <td>5.600000</td>\n",
       "    </tr>\n",
       "    <tr>\n",
       "      <th>271081</th>\n",
       "      <td>7.8</td>\n",
       "      <td>1980.0</td>\n",
       "      <td>24.0</td>\n",
       "      <td>Gerren Keith</td>\n",
       "      <td>NaN</td>\n",
       "      <td>The Bank Job</td>\n",
       "      <td>6.406816e+07</td>\n",
       "      <td>111.0</td>\n",
       "      <td>{\"/m/09c7w0\": \"United States of America\", \"/m/...</td>\n",
       "      <td>2008.0</td>\n",
       "      <td>...</td>\n",
       "      <td>1967-09-12</td>\n",
       "      <td>M</td>\n",
       "      <td>1.75</td>\n",
       "      <td>NaN</td>\n",
       "      <td>Jason Statham</td>\n",
       "      <td>40.0</td>\n",
       "      <td>6.679244e+07</td>\n",
       "      <td>8.0</td>\n",
       "      <td>16</td>\n",
       "      <td>6.446667</td>\n",
       "    </tr>\n",
       "    <tr>\n",
       "      <th>273026</th>\n",
       "      <td>5.8</td>\n",
       "      <td>1976.0</td>\n",
       "      <td>90.0</td>\n",
       "      <td>Eriprando Visconti</td>\n",
       "      <td>NaN</td>\n",
       "      <td>Snatch</td>\n",
       "      <td>8.355787e+07</td>\n",
       "      <td>103.0</td>\n",
       "      <td>{\"/m/09c7w0\": \"United States of America\", \"/m/...</td>\n",
       "      <td>2000.0</td>\n",
       "      <td>...</td>\n",
       "      <td>1967-09-12</td>\n",
       "      <td>M</td>\n",
       "      <td>1.75</td>\n",
       "      <td>NaN</td>\n",
       "      <td>Jason Statham</td>\n",
       "      <td>32.0</td>\n",
       "      <td>NaN</td>\n",
       "      <td>0.0</td>\n",
       "      <td>0</td>\n",
       "      <td>NaN</td>\n",
       "    </tr>\n",
       "    <tr>\n",
       "      <th>275190</th>\n",
       "      <td>8.0</td>\n",
       "      <td>1991.0</td>\n",
       "      <td>NaN</td>\n",
       "      <td>Dominic Brigstocke</td>\n",
       "      <td>Clive James</td>\n",
       "      <td>London</td>\n",
       "      <td>2.036100e+04</td>\n",
       "      <td>92.0</td>\n",
       "      <td>{\"/m/09c7w0\": \"United States of America\", \"/m/...</td>\n",
       "      <td>2006.0</td>\n",
       "      <td>...</td>\n",
       "      <td>1967-09-12</td>\n",
       "      <td>M</td>\n",
       "      <td>1.75</td>\n",
       "      <td>NaN</td>\n",
       "      <td>Jason Statham</td>\n",
       "      <td>38.0</td>\n",
       "      <td>6.886864e+07</td>\n",
       "      <td>6.0</td>\n",
       "      <td>12</td>\n",
       "      <td>6.290909</td>\n",
       "    </tr>\n",
       "    <tr>\n",
       "      <th>281101</th>\n",
       "      <td>6.5</td>\n",
       "      <td>2004.0</td>\n",
       "      <td>94.0</td>\n",
       "      <td>David R. Ellis</td>\n",
       "      <td>NaN</td>\n",
       "      <td>Cellular</td>\n",
       "      <td>5.642269e+07</td>\n",
       "      <td>95.0</td>\n",
       "      <td>{\"/m/09c7w0\": \"United States of America\"}</td>\n",
       "      <td>2004.0</td>\n",
       "      <td>...</td>\n",
       "      <td>1967-09-12</td>\n",
       "      <td>M</td>\n",
       "      <td>1.75</td>\n",
       "      <td>NaN</td>\n",
       "      <td>Jason Statham</td>\n",
       "      <td>36.0</td>\n",
       "      <td>5.750860e+07</td>\n",
       "      <td>4.0</td>\n",
       "      <td>8</td>\n",
       "      <td>5.742857</td>\n",
       "    </tr>\n",
       "    <tr>\n",
       "      <th>285684</th>\n",
       "      <td>8.8</td>\n",
       "      <td>2007.0</td>\n",
       "      <td>NaN</td>\n",
       "      <td>Jared Bentley</td>\n",
       "      <td>NaN</td>\n",
       "      <td>Crank</td>\n",
       "      <td>4.293104e+07</td>\n",
       "      <td>93.0</td>\n",
       "      <td>{\"/m/09c7w0\": \"United States of America\"}</td>\n",
       "      <td>2006.0</td>\n",
       "      <td>...</td>\n",
       "      <td>1967-09-12</td>\n",
       "      <td>M</td>\n",
       "      <td>1.75</td>\n",
       "      <td>NaN</td>\n",
       "      <td>Jason Statham</td>\n",
       "      <td>38.0</td>\n",
       "      <td>6.886864e+07</td>\n",
       "      <td>6.0</td>\n",
       "      <td>12</td>\n",
       "      <td>6.290909</td>\n",
       "    </tr>\n",
       "    <tr>\n",
       "      <th>295375</th>\n",
       "      <td>6.3</td>\n",
       "      <td>2005.0</td>\n",
       "      <td>87.0</td>\n",
       "      <td>Louis Leterrier</td>\n",
       "      <td>NaN</td>\n",
       "      <td>Transporter 2</td>\n",
       "      <td>8.516764e+07</td>\n",
       "      <td>87.0</td>\n",
       "      <td>{\"/m/09c7w0\": \"United States of America\", \"/m/...</td>\n",
       "      <td>2005.0</td>\n",
       "      <td>...</td>\n",
       "      <td>1967-09-12</td>\n",
       "      <td>M</td>\n",
       "      <td>1.75</td>\n",
       "      <td>NaN</td>\n",
       "      <td>Jason Statham</td>\n",
       "      <td>37.0</td>\n",
       "      <td>7.342558e+07</td>\n",
       "      <td>5.0</td>\n",
       "      <td>10</td>\n",
       "      <td>6.211111</td>\n",
       "    </tr>\n",
       "    <tr>\n",
       "      <th>299564</th>\n",
       "      <td>7.0</td>\n",
       "      <td>2001.0</td>\n",
       "      <td>109.0</td>\n",
       "      <td>Coline Serreau</td>\n",
       "      <td>Coline Serreau</td>\n",
       "      <td>Chaos</td>\n",
       "      <td>7.000248e+06</td>\n",
       "      <td>105.0</td>\n",
       "      <td>{\"/m/09c7w0\": \"United States of America\", \"/m/...</td>\n",
       "      <td>2005.0</td>\n",
       "      <td>...</td>\n",
       "      <td>1967-09-12</td>\n",
       "      <td>M</td>\n",
       "      <td>1.75</td>\n",
       "      <td>NaN</td>\n",
       "      <td>Jason Statham</td>\n",
       "      <td>38.0</td>\n",
       "      <td>7.342558e+07</td>\n",
       "      <td>5.0</td>\n",
       "      <td>10</td>\n",
       "      <td>6.211111</td>\n",
       "    </tr>\n",
       "    <tr>\n",
       "      <th>304995</th>\n",
       "      <td>7.0</td>\n",
       "      <td>1963.0</td>\n",
       "      <td>115.0</td>\n",
       "      <td>Blake Edwards</td>\n",
       "      <td>NaN</td>\n",
       "      <td>The Pink Panther</td>\n",
       "      <td>1.588514e+08</td>\n",
       "      <td>93.0</td>\n",
       "      <td>{\"/m/0f8l9c\": \"France\", \"/m/09c7w0\": \"United S...</td>\n",
       "      <td>2006.0</td>\n",
       "      <td>...</td>\n",
       "      <td>1967-09-12</td>\n",
       "      <td>M</td>\n",
       "      <td>1.75</td>\n",
       "      <td>NaN</td>\n",
       "      <td>Jason Statham</td>\n",
       "      <td>38.0</td>\n",
       "      <td>6.886864e+07</td>\n",
       "      <td>6.0</td>\n",
       "      <td>12</td>\n",
       "      <td>6.290909</td>\n",
       "    </tr>\n",
       "    <tr>\n",
       "      <th>350092</th>\n",
       "      <td>2.0</td>\n",
       "      <td>2022.0</td>\n",
       "      <td>NaN</td>\n",
       "      <td>Silk White</td>\n",
       "      <td>NaN</td>\n",
       "      <td>The Transporter</td>\n",
       "      <td>4.392893e+07</td>\n",
       "      <td>94.0</td>\n",
       "      <td>{\"/m/0f8l9c\": \"France\", \"/m/09c7w0\": \"United S...</td>\n",
       "      <td>2002.0</td>\n",
       "      <td>...</td>\n",
       "      <td>1967-09-12</td>\n",
       "      <td>M</td>\n",
       "      <td>1.75</td>\n",
       "      <td>NaN</td>\n",
       "      <td>Jason Statham</td>\n",
       "      <td>35.0</td>\n",
       "      <td>3.576320e+07</td>\n",
       "      <td>2.0</td>\n",
       "      <td>5</td>\n",
       "      <td>6.200000</td>\n",
       "    </tr>\n",
       "    <tr>\n",
       "      <th>393232</th>\n",
       "      <td>NaN</td>\n",
       "      <td>NaN</td>\n",
       "      <td>NaN</td>\n",
       "      <td>NaN</td>\n",
       "      <td>NaN</td>\n",
       "      <td>The Brazilian Job</td>\n",
       "      <td>6.125371e+07</td>\n",
       "      <td>NaN</td>\n",
       "      <td>{\"/m/09c7w0\": \"United States of America\"}</td>\n",
       "      <td>NaN</td>\n",
       "      <td>...</td>\n",
       "      <td>1967-09-12</td>\n",
       "      <td>M</td>\n",
       "      <td>1.75</td>\n",
       "      <td>NaN</td>\n",
       "      <td>Jason Statham</td>\n",
       "      <td>35.0</td>\n",
       "      <td>3.712415e+07</td>\n",
       "      <td>3.0</td>\n",
       "      <td>6</td>\n",
       "      <td>5.500000</td>\n",
       "    </tr>\n",
       "    <tr>\n",
       "      <th>409606</th>\n",
       "      <td>3.8</td>\n",
       "      <td>2007.0</td>\n",
       "      <td>127.0</td>\n",
       "      <td>Uwe Boll</td>\n",
       "      <td>NaN</td>\n",
       "      <td>In the Name of the King: A Dungeon Siege Tale</td>\n",
       "      <td>1.309792e+07</td>\n",
       "      <td>127.0</td>\n",
       "      <td>{\"/m/09c7w0\": \"United States of America\", \"/m/...</td>\n",
       "      <td>2008.0</td>\n",
       "      <td>...</td>\n",
       "      <td>1967-09-12</td>\n",
       "      <td>M</td>\n",
       "      <td>1.75</td>\n",
       "      <td>NaN</td>\n",
       "      <td>Jason Statham</td>\n",
       "      <td>40.0</td>\n",
       "      <td>6.679244e+07</td>\n",
       "      <td>8.0</td>\n",
       "      <td>16</td>\n",
       "      <td>6.446667</td>\n",
       "    </tr>\n",
       "    <tr>\n",
       "      <th>419334</th>\n",
       "      <td>7.7</td>\n",
       "      <td>2005.0</td>\n",
       "      <td>42.0</td>\n",
       "      <td>Jeannot Szwarc</td>\n",
       "      <td>NaN</td>\n",
       "      <td>Safe</td>\n",
       "      <td>4.034619e+07</td>\n",
       "      <td>95.0</td>\n",
       "      <td>{\"/m/09c7w0\": \"United States of America\"}</td>\n",
       "      <td>2012.0</td>\n",
       "      <td>...</td>\n",
       "      <td>1967-09-12</td>\n",
       "      <td>M</td>\n",
       "      <td>1.75</td>\n",
       "      <td>NaN</td>\n",
       "      <td>Jason Statham</td>\n",
       "      <td>44.0</td>\n",
       "      <td>7.384933e+07</td>\n",
       "      <td>12.0</td>\n",
       "      <td>25</td>\n",
       "      <td>6.439130</td>\n",
       "    </tr>\n",
       "  </tbody>\n",
       "</table>\n",
       "<p>26 rows × 27 columns</p>\n",
       "</div>"
      ],
      "text/plain": [
       "        imdb_rating  movie_start_year  runtime            director  \\\n",
       "3               4.9            2001.0     98.0      John Carpenter   \n",
       "40041           7.6            1967.0     60.0        Georg Fenady   \n",
       "66637           6.2            1973.0     90.0   David Lowell Rich   \n",
       "130142          6.4            2001.0     99.0      Barry Skolnick   \n",
       "137253          6.8            1972.0    100.0      Michael Winner   \n",
       "147120          5.4            1991.0     25.0           Ted Emery   \n",
       "149730          NaN               NaN      NaN                 NaN   \n",
       "155529          5.8            1999.0     15.0      Gert Embrechts   \n",
       "177978          6.4            2011.0    116.0       Gary McKendry   \n",
       "193820          3.7            1913.0     30.0        Francis Ford   \n",
       "198986          9.2            2015.0     43.0    Michael Pressman   \n",
       "201341          7.2            1969.0     99.0     Peter Collinson   \n",
       "208832          7.0            2011.0      NaN    Logan Ridenbaugh   \n",
       "212758          8.5            2006.0     45.0           John Gray   \n",
       "271081          7.8            1980.0     24.0        Gerren Keith   \n",
       "273026          5.8            1976.0     90.0  Eriprando Visconti   \n",
       "275190          8.0            1991.0      NaN  Dominic Brigstocke   \n",
       "281101          6.5            2004.0     94.0      David R. Ellis   \n",
       "285684          8.8            2007.0      NaN       Jared Bentley   \n",
       "295375          6.3            2005.0     87.0     Louis Leterrier   \n",
       "299564          7.0            2001.0    109.0      Coline Serreau   \n",
       "304995          7.0            1963.0    115.0       Blake Edwards   \n",
       "350092          2.0            2022.0      NaN          Silk White   \n",
       "393232          NaN               NaN      NaN                 NaN   \n",
       "409606          3.8            2007.0    127.0            Uwe Boll   \n",
       "419334          7.7            2005.0     42.0      Jeannot Szwarc   \n",
       "\n",
       "                     writer                                     Movie_name  \\\n",
       "3                       NaN                                 Ghosts of Mars   \n",
       "40041                   NaN                                The Expendables   \n",
       "66637      Charles Kuenstle                                     Death Race   \n",
       "130142                  NaN                                   Mean Machine   \n",
       "137253                  NaN                                   The Mechanic   \n",
       "147120                  NaN                                     Turn It Up   \n",
       "149730                  NaN                            Crank: High Voltage   \n",
       "155529       Gert Embrechts                                             13   \n",
       "177978                  NaN                                   Killer Elite   \n",
       "193820         Grace Cunard                                            War   \n",
       "198986                  NaN                                     Collateral   \n",
       "201341  Troy Kennedy Martin                                The Italian Job   \n",
       "208832                  NaN                              Gnomeo and Juliet   \n",
       "212758            John Gray                                        The One   \n",
       "271081                  NaN                                   The Bank Job   \n",
       "273026                  NaN                                         Snatch   \n",
       "275190          Clive James                                         London   \n",
       "281101                  NaN                                       Cellular   \n",
       "285684                  NaN                                          Crank   \n",
       "295375                  NaN                                  Transporter 2   \n",
       "299564       Coline Serreau                                          Chaos   \n",
       "304995                  NaN                               The Pink Panther   \n",
       "350092                  NaN                                The Transporter   \n",
       "393232                  NaN                              The Brazilian Job   \n",
       "409606                  NaN  In the Name of the King: A Dungeon Siege Tale   \n",
       "419334                  NaN                                           Safe   \n",
       "\n",
       "        Movie_revenue  Movie_runtime  \\\n",
       "3        1.401083e+07           98.0   \n",
       "40041    2.744704e+08           98.0   \n",
       "66637    6.125371e+07          111.0   \n",
       "130142   7.310206e+06           98.0   \n",
       "137253   5.107081e+07           93.0   \n",
       "147120   1.247949e+06           87.0   \n",
       "149730   3.456058e+07           96.0   \n",
       "155529   2.936302e+07           97.0   \n",
       "177978   5.570190e+07          120.0   \n",
       "193820   4.045264e+07          103.0   \n",
       "198986   2.177643e+08          120.0   \n",
       "201341   1.760702e+08          111.0   \n",
       "208832   1.939677e+08           84.0   \n",
       "212758   7.268913e+07           85.0   \n",
       "271081   6.406816e+07          111.0   \n",
       "273026   8.355787e+07          103.0   \n",
       "275190   2.036100e+04           92.0   \n",
       "281101   5.642269e+07           95.0   \n",
       "285684   4.293104e+07           93.0   \n",
       "295375   8.516764e+07           87.0   \n",
       "299564   7.000248e+06          105.0   \n",
       "304995   1.588514e+08           93.0   \n",
       "350092   4.392893e+07           94.0   \n",
       "393232   6.125371e+07            NaN   \n",
       "409606   1.309792e+07          127.0   \n",
       "419334   4.034619e+07           95.0   \n",
       "\n",
       "                                          Movie_countries  Year_of_release  \\\n",
       "3               {\"/m/09c7w0\": \"United States of America\"}           2001.0   \n",
       "40041   {\"/m/09c7w0\": \"United States of America\", \"/m/...           2010.0   \n",
       "66637   {\"/m/09c7w0\": \"United States of America\", \"/m/...           2008.0   \n",
       "130142  {\"/m/09c7w0\": \"United States of America\", \"/m/...           2001.0   \n",
       "137253          {\"/m/09c7w0\": \"United States of America\"}           2011.0   \n",
       "147120          {\"/m/09c7w0\": \"United States of America\"}           2000.0   \n",
       "149730          {\"/m/09c7w0\": \"United States of America\"}           2009.0   \n",
       "155529          {\"/m/09c7w0\": \"United States of America\"}           2010.0   \n",
       "177978  {\"/m/09c7w0\": \"United States of America\", \"/m/...           2011.0   \n",
       "193820          {\"/m/09c7w0\": \"United States of America\"}           2007.0   \n",
       "198986          {\"/m/09c7w0\": \"United States of America\"}           2004.0   \n",
       "201341  {\"/m/09c7w0\": \"United States of America\", \"/m/...           2003.0   \n",
       "208832  {\"/m/09c7w0\": \"United States of America\", \"/m/...           2011.0   \n",
       "212758          {\"/m/09c7w0\": \"United States of America\"}           2001.0   \n",
       "271081  {\"/m/09c7w0\": \"United States of America\", \"/m/...           2008.0   \n",
       "273026  {\"/m/09c7w0\": \"United States of America\", \"/m/...           2000.0   \n",
       "275190  {\"/m/09c7w0\": \"United States of America\", \"/m/...           2006.0   \n",
       "281101          {\"/m/09c7w0\": \"United States of America\"}           2004.0   \n",
       "285684          {\"/m/09c7w0\": \"United States of America\"}           2006.0   \n",
       "295375  {\"/m/09c7w0\": \"United States of America\", \"/m/...           2005.0   \n",
       "299564  {\"/m/09c7w0\": \"United States of America\", \"/m/...           2005.0   \n",
       "304995  {\"/m/0f8l9c\": \"France\", \"/m/09c7w0\": \"United S...           2006.0   \n",
       "350092  {\"/m/0f8l9c\": \"France\", \"/m/09c7w0\": \"United S...           2002.0   \n",
       "393232          {\"/m/09c7w0\": \"United States of America\"}              NaN   \n",
       "409606  {\"/m/09c7w0\": \"United States of America\", \"/m/...           2008.0   \n",
       "419334          {\"/m/09c7w0\": \"United States of America\"}           2012.0   \n",
       "\n",
       "        ...  Actor_birth  Actor_gender Actor_height Actor_ethnicity  \\\n",
       "3       ...   1967-09-12             M         1.75             NaN   \n",
       "40041   ...   1967-09-12             M         1.75             NaN   \n",
       "66637   ...   1967-09-12             M         1.75             NaN   \n",
       "130142  ...   1967-09-12             M         1.75             NaN   \n",
       "137253  ...   1967-09-12             M         1.75             NaN   \n",
       "147120  ...   1967-09-12             M         1.75             NaN   \n",
       "149730  ...   1967-09-12             M         1.75             NaN   \n",
       "155529  ...   1967-09-12             M         1.75             NaN   \n",
       "177978  ...   1967-09-12             M         1.75             NaN   \n",
       "193820  ...   1967-09-12             M         1.75             NaN   \n",
       "198986  ...   1967-09-12             M         1.75             NaN   \n",
       "201341  ...   1967-09-12             M         1.75             NaN   \n",
       "208832  ...   1967-09-12             M         1.75             NaN   \n",
       "212758  ...   1967-09-12             M         1.75             NaN   \n",
       "271081  ...   1967-09-12             M         1.75             NaN   \n",
       "273026  ...   1967-09-12             M         1.75             NaN   \n",
       "275190  ...   1967-09-12             M         1.75             NaN   \n",
       "281101  ...   1967-09-12             M         1.75             NaN   \n",
       "285684  ...   1967-09-12             M         1.75             NaN   \n",
       "295375  ...   1967-09-12             M         1.75             NaN   \n",
       "299564  ...   1967-09-12             M         1.75             NaN   \n",
       "304995  ...   1967-09-12             M         1.75             NaN   \n",
       "350092  ...   1967-09-12             M         1.75             NaN   \n",
       "393232  ...   1967-09-12             M         1.75             NaN   \n",
       "409606  ...   1967-09-12             M         1.75             NaN   \n",
       "419334  ...   1967-09-12             M         1.75             NaN   \n",
       "\n",
       "           Actor_name  Actor_age_release Avg_revenue_per_film_at_release  \\\n",
       "3       Jason Statham               33.0                    4.240291e+07   \n",
       "40041   Jason Statham               42.0                    6.208297e+07   \n",
       "66637   Jason Statham               40.0                    6.679244e+07   \n",
       "130142  Jason Statham               34.0                    4.240291e+07   \n",
       "137253  Jason Statham               43.0                    7.024967e+07   \n",
       "147120  Jason Statham               32.0                             NaN   \n",
       "149730  Jason Statham               41.0                    6.353152e+07   \n",
       "155529  Jason Statham               42.0                    6.208297e+07   \n",
       "177978  Jason Statham               43.0                    7.024967e+07   \n",
       "193820  Jason Statham               39.0                    6.854843e+07   \n",
       "198986  Jason Statham               36.0                    5.750860e+07   \n",
       "201341  Jason Statham               35.0                    3.712415e+07   \n",
       "208832  Jason Statham               43.0                    7.024967e+07   \n",
       "212758  Jason Statham               34.0                    4.240291e+07   \n",
       "271081  Jason Statham               40.0                    6.679244e+07   \n",
       "273026  Jason Statham               32.0                             NaN   \n",
       "275190  Jason Statham               38.0                    6.886864e+07   \n",
       "281101  Jason Statham               36.0                    5.750860e+07   \n",
       "285684  Jason Statham               38.0                    6.886864e+07   \n",
       "295375  Jason Statham               37.0                    7.342558e+07   \n",
       "299564  Jason Statham               38.0                    7.342558e+07   \n",
       "304995  Jason Statham               38.0                    6.886864e+07   \n",
       "350092  Jason Statham               35.0                    3.576320e+07   \n",
       "393232  Jason Statham               35.0                    3.712415e+07   \n",
       "409606  Jason Statham               40.0                    6.679244e+07   \n",
       "419334  Jason Statham               44.0                    7.384933e+07   \n",
       "\n",
       "       Longevity Number_of_film_at_release  Avg_rating_per_film_at_release  \n",
       "3            1.0                         2                        5.600000  \n",
       "40041       10.0                        20                        6.361111  \n",
       "66637        8.0                        16                        6.446667  \n",
       "130142       1.0                         2                        5.600000  \n",
       "137253      11.0                        22                        6.395000  \n",
       "147120       0.0                         0                             NaN  \n",
       "149730       9.0                        19                        6.361111  \n",
       "155529      10.0                        20                        6.361111  \n",
       "177978      11.0                        22                        6.395000  \n",
       "193820       7.0                        15                        6.642857  \n",
       "198986       4.0                         8                        5.742857  \n",
       "201341       3.0                         6                        5.500000  \n",
       "208832      11.0                        22                        6.395000  \n",
       "212758       1.0                         2                        5.600000  \n",
       "271081       8.0                        16                        6.446667  \n",
       "273026       0.0                         0                             NaN  \n",
       "275190       6.0                        12                        6.290909  \n",
       "281101       4.0                         8                        5.742857  \n",
       "285684       6.0                        12                        6.290909  \n",
       "295375       5.0                        10                        6.211111  \n",
       "299564       5.0                        10                        6.211111  \n",
       "304995       6.0                        12                        6.290909  \n",
       "350092       2.0                         5                        6.200000  \n",
       "393232       3.0                         6                        5.500000  \n",
       "409606       8.0                        16                        6.446667  \n",
       "419334      12.0                        25                        6.439130  \n",
       "\n",
       "[26 rows x 27 columns]"
      ]
     },
     "execution_count": 87,
     "metadata": {},
     "output_type": "execute_result"
    }
   ],
   "source": [
    "df_mov1_filtered = df_movie[df_movie['Actor_name'] == 'Jason Statham']\n",
    "df_mov1_filtered\n"
   ]
  },
  {
   "cell_type": "code",
   "execution_count": null,
   "metadata": {},
   "outputs": [],
   "source": []
  }
 ],
 "metadata": {
  "kernelspec": {
   "display_name": "Python 3 (ipykernel)",
   "language": "python",
   "name": "python3"
  },
  "language_info": {
   "codemirror_mode": {
    "name": "ipython",
    "version": 3
   },
   "file_extension": ".py",
   "mimetype": "text/x-python",
   "name": "python",
   "nbconvert_exporter": "python",
   "pygments_lexer": "ipython3",
   "version": "3.9.18"
  }
 },
 "nbformat": 4,
 "nbformat_minor": 4
}
