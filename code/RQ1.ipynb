{
 "cells": [
  {
   "cell_type": "code",
   "execution_count": 76,
   "metadata": {},
   "outputs": [
    {
     "name": "stdout",
     "output_type": "stream",
     "text": [
      "The autoreload extension is already loaded. To reload it, use:\n",
      "  %reload_ext autoreload\n"
     ]
    }
   ],
   "source": [
    "import pandas as pd\n",
    "import numpy as np\n",
    "import matplotlib.pyplot as plt\n",
    "%matplotlib inline\n",
    "import seaborn as sns\n",
    "import seaborn.objects as so\n",
    "import math\n",
    "from statsmodels.stats import diagnostic\n",
    "import statsmodels.stats as st\n",
    "from scipy import stats\n",
    "import statsmodels.api as sm\n",
    "import statsmodels.formula.api as smf\n",
    "import statsmodels.regression.recursive_ls as rls\n",
    "import plotly.express as px\n",
    "import plotly.graph_objects as go\n",
    "from plotly.subplots import make_subplots\n",
    "import pickle\n",
    "\n",
    "import plotly.express as px\n",
    "\n",
    "%load_ext autoreload\n",
    "%autoreload 2"
   ]
  },
  {
   "cell_type": "code",
   "execution_count": 77,
   "metadata": {},
   "outputs": [
    {
     "name": "stdout",
     "output_type": "stream",
     "text": [
      "The autoreload extension is already loaded. To reload it, use:\n",
      "  %reload_ext autoreload\n"
     ]
    }
   ],
   "source": [
    "import plotly.io as pio\n",
    "import template_plotly\n",
    "%load_ext autoreload\n",
    "%autoreload 2\n",
    "\n",
    "pd.options.plotting.backend = \"plotly\""
   ]
  },
  {
   "cell_type": "code",
   "execution_count": 78,
   "metadata": {},
   "outputs": [
    {
     "data": {
      "text/html": [
       "<div>\n",
       "<style scoped>\n",
       "    .dataframe tbody tr th:only-of-type {\n",
       "        vertical-align: middle;\n",
       "    }\n",
       "\n",
       "    .dataframe tbody tr th {\n",
       "        vertical-align: top;\n",
       "    }\n",
       "\n",
       "    .dataframe thead th {\n",
       "        text-align: right;\n",
       "    }\n",
       "</style>\n",
       "<table border=\"1\" class=\"dataframe\">\n",
       "  <thead>\n",
       "    <tr style=\"text-align: right;\">\n",
       "      <th></th>\n",
       "      <th>Movie_name</th>\n",
       "      <th>Movie_release</th>\n",
       "      <th>Movie_revenue</th>\n",
       "      <th>Movie_runtime</th>\n",
       "      <th>Movie_languages</th>\n",
       "      <th>Movie_countries</th>\n",
       "      <th>Main_genre</th>\n",
       "      <th>Sec_Genre</th>\n",
       "      <th>Movie_rating</th>\n",
       "      <th>Producer</th>\n",
       "      <th>...</th>\n",
       "      <th>Actor_name</th>\n",
       "      <th>Actor_age_release</th>\n",
       "      <th>Inflation Factor for 2023</th>\n",
       "      <th>2023 valued revenue</th>\n",
       "      <th>Avg_revenue_per_film_at_release</th>\n",
       "      <th>Longevity</th>\n",
       "      <th>Number_of_film_at_release</th>\n",
       "      <th>Avg_rating_per_film_at_release</th>\n",
       "      <th>First_film</th>\n",
       "      <th>Actor_main_genre</th>\n",
       "    </tr>\n",
       "  </thead>\n",
       "  <tbody>\n",
       "    <tr>\n",
       "      <th>287768</th>\n",
       "      <td>Midway</td>\n",
       "      <td>1976.0</td>\n",
       "      <td>43220000.0</td>\n",
       "      <td>132.0</td>\n",
       "      <td>{\"/m/02h40lc\": \"English Language\"}</td>\n",
       "      <td>{\"/m/09c7w0\": \"United States of America\"}</td>\n",
       "      <td>Action/Adventure</td>\n",
       "      <td>Action</td>\n",
       "      <td>6.7</td>\n",
       "      <td>Walter Mirisch</td>\n",
       "      <td>...</td>\n",
       "      <td>Cliff Robertson</td>\n",
       "      <td>52.0</td>\n",
       "      <td>5.41</td>\n",
       "      <td>2.338202e+08</td>\n",
       "      <td>1.533683e+07</td>\n",
       "      <td>20.0</td>\n",
       "      <td>7</td>\n",
       "      <td>6.842857</td>\n",
       "      <td>False</td>\n",
       "      <td>Thriller</td>\n",
       "    </tr>\n",
       "    <tr>\n",
       "      <th>43990</th>\n",
       "      <td>Jack</td>\n",
       "      <td>1996.0</td>\n",
       "      <td>58586889.0</td>\n",
       "      <td>113.0</td>\n",
       "      <td>{\"/m/02h40lc\": \"English Language\"}</td>\n",
       "      <td>{\"/m/09c7w0\": \"United States of America\"}</td>\n",
       "      <td>Drama</td>\n",
       "      <td>Science Fiction</td>\n",
       "      <td>5.8</td>\n",
       "      <td>Fred Fuchs</td>\n",
       "      <td>...</td>\n",
       "      <td>Jennifer Lopez</td>\n",
       "      <td>27.0</td>\n",
       "      <td>1.96</td>\n",
       "      <td>1.148303e+08</td>\n",
       "      <td>4.527871e+07</td>\n",
       "      <td>9.0</td>\n",
       "      <td>3</td>\n",
       "      <td>6.550000</td>\n",
       "      <td>False</td>\n",
       "      <td>Romantic comedy</td>\n",
       "    </tr>\n",
       "  </tbody>\n",
       "</table>\n",
       "<p>2 rows × 29 columns</p>\n",
       "</div>"
      ],
      "text/plain": [
       "       Movie_name  Movie_release  Movie_revenue  Movie_runtime  \\\n",
       "287768     Midway         1976.0     43220000.0          132.0   \n",
       "43990        Jack         1996.0     58586889.0          113.0   \n",
       "\n",
       "                           Movie_languages  \\\n",
       "287768  {\"/m/02h40lc\": \"English Language\"}   \n",
       "43990   {\"/m/02h40lc\": \"English Language\"}   \n",
       "\n",
       "                                  Movie_countries        Main_genre  \\\n",
       "287768  {\"/m/09c7w0\": \"United States of America\"}  Action/Adventure   \n",
       "43990   {\"/m/09c7w0\": \"United States of America\"}             Drama   \n",
       "\n",
       "              Sec_Genre  Movie_rating        Producer  ...       Actor_name  \\\n",
       "287768           Action           6.7  Walter Mirisch  ...  Cliff Robertson   \n",
       "43990   Science Fiction           5.8      Fred Fuchs  ...   Jennifer Lopez   \n",
       "\n",
       "       Actor_age_release Inflation Factor for 2023 2023 valued revenue  \\\n",
       "287768              52.0                      5.41        2.338202e+08   \n",
       "43990               27.0                      1.96        1.148303e+08   \n",
       "\n",
       "       Avg_revenue_per_film_at_release Longevity Number_of_film_at_release  \\\n",
       "287768                    1.533683e+07      20.0                         7   \n",
       "43990                     4.527871e+07       9.0                         3   \n",
       "\n",
       "        Avg_rating_per_film_at_release First_film Actor_main_genre  \n",
       "287768                        6.842857      False         Thriller  \n",
       "43990                         6.550000      False  Romantic comedy  \n",
       "\n",
       "[2 rows x 29 columns]"
      ]
     },
     "metadata": {},
     "output_type": "display_data"
    },
    {
     "data": {
      "text/html": [
       "<div>\n",
       "<style scoped>\n",
       "    .dataframe tbody tr th:only-of-type {\n",
       "        vertical-align: middle;\n",
       "    }\n",
       "\n",
       "    .dataframe tbody tr th {\n",
       "        vertical-align: top;\n",
       "    }\n",
       "\n",
       "    .dataframe thead th {\n",
       "        text-align: right;\n",
       "    }\n",
       "</style>\n",
       "<table border=\"1\" class=\"dataframe\">\n",
       "  <thead>\n",
       "    <tr style=\"text-align: right;\">\n",
       "      <th></th>\n",
       "      <th>Movie_name</th>\n",
       "      <th>Movie_release</th>\n",
       "      <th>Actor_pairs</th>\n",
       "      <th>Movie_revenue</th>\n",
       "      <th>Movie_rating</th>\n",
       "      <th>Actor1</th>\n",
       "      <th>Actor2</th>\n",
       "      <th>Age_difference</th>\n",
       "      <th>Film_count_difference</th>\n",
       "      <th>Average_revenue_difference</th>\n",
       "      <th>First_film</th>\n",
       "      <th>First_film_for_one</th>\n",
       "      <th>Number_of_films_together</th>\n",
       "      <th>Same_genre</th>\n",
       "      <th>Genre</th>\n",
       "    </tr>\n",
       "  </thead>\n",
       "  <tbody>\n",
       "    <tr>\n",
       "      <th>119011</th>\n",
       "      <td>Did You Hear About the Morgans?</td>\n",
       "      <td>2009.0</td>\n",
       "      <td>(David Call, Mario D'Leon)</td>\n",
       "      <td>85280250.0</td>\n",
       "      <td>4.9</td>\n",
       "      <td>David Call</td>\n",
       "      <td>Mario D'Leon</td>\n",
       "      <td>NaN</td>\n",
       "      <td>0</td>\n",
       "      <td>0.000000e+00</td>\n",
       "      <td>True</td>\n",
       "      <td>True</td>\n",
       "      <td>0</td>\n",
       "      <td>True</td>\n",
       "      <td>Romantic comedy</td>\n",
       "    </tr>\n",
       "    <tr>\n",
       "      <th>285598</th>\n",
       "      <td>Ocean's Twelve</td>\n",
       "      <td>2004.0</td>\n",
       "      <td>(Bruce Willis, Don Cheadle)</td>\n",
       "      <td>362744280.0</td>\n",
       "      <td>6.5</td>\n",
       "      <td>Bruce Willis</td>\n",
       "      <td>Don Cheadle</td>\n",
       "      <td>9.0</td>\n",
       "      <td>21</td>\n",
       "      <td>2.266748e+07</td>\n",
       "      <td>False</td>\n",
       "      <td>False</td>\n",
       "      <td>0</td>\n",
       "      <td>False</td>\n",
       "      <td>None</td>\n",
       "    </tr>\n",
       "  </tbody>\n",
       "</table>\n",
       "</div>"
      ],
      "text/plain": [
       "                             Movie_name  Movie_release  \\\n",
       "119011  Did You Hear About the Morgans?         2009.0   \n",
       "285598                   Ocean's Twelve         2004.0   \n",
       "\n",
       "                        Actor_pairs  Movie_revenue  Movie_rating  \\\n",
       "119011   (David Call, Mario D'Leon)     85280250.0           4.9   \n",
       "285598  (Bruce Willis, Don Cheadle)    362744280.0           6.5   \n",
       "\n",
       "              Actor1        Actor2  Age_difference  Film_count_difference  \\\n",
       "119011    David Call  Mario D'Leon             NaN                      0   \n",
       "285598  Bruce Willis   Don Cheadle             9.0                     21   \n",
       "\n",
       "        Average_revenue_difference  First_film  First_film_for_one  \\\n",
       "119011                0.000000e+00        True                True   \n",
       "285598                2.266748e+07       False               False   \n",
       "\n",
       "        Number_of_films_together  Same_genre            Genre  \n",
       "119011                         0        True  Romantic comedy  \n",
       "285598                         0       False             None  "
      ]
     },
     "metadata": {},
     "output_type": "display_data"
    }
   ],
   "source": [
    "df_movie = pd.read_pickle('../data/df_movie.pkl')\n",
    "df_pairs = pd.read_pickle('../data/df_pairs.pkl')\n",
    "display(df_movie.sample(2))\n",
    "display(df_pairs.sample(2))"
   ]
  },
  {
   "cell_type": "markdown",
   "metadata": {},
   "source": [
    "### RQ1: How does the frequency of actor co-starring impact the chemistry and success of collaborative films?"
   ]
  },
  {
   "cell_type": "code",
   "execution_count": 79,
   "metadata": {},
   "outputs": [],
   "source": [
    "df_pairs.sort_values(by=['Movie_rating', 'Movie_revenue'], ascending=[False, False], inplace=True)\n",
    "\n",
    "# Rank the movies based on the sorted order\n",
    "df_pairs['Rank'] = range(1, len(df_pairs) + 1)\n",
    "\n",
    "# Calculate the ranking ratio\n",
    "df_pairs['Ranking_ratio'] = 1 - ((df_pairs['Rank'] - 1) / (len(df_pairs) - 1))"
   ]
  },
  {
   "cell_type": "code",
   "execution_count": 81,
   "metadata": {},
   "outputs": [
    {
     "data": {
      "text/html": [
       "<div>\n",
       "<style scoped>\n",
       "    .dataframe tbody tr th:only-of-type {\n",
       "        vertical-align: middle;\n",
       "    }\n",
       "\n",
       "    .dataframe tbody tr th {\n",
       "        vertical-align: top;\n",
       "    }\n",
       "\n",
       "    .dataframe thead th {\n",
       "        text-align: right;\n",
       "    }\n",
       "</style>\n",
       "<table border=\"1\" class=\"dataframe\">\n",
       "  <thead>\n",
       "    <tr style=\"text-align: right;\">\n",
       "      <th></th>\n",
       "      <th>Movie_name</th>\n",
       "      <th>Movie_release</th>\n",
       "      <th>Actor_pairs</th>\n",
       "      <th>Movie_revenue</th>\n",
       "      <th>Movie_rating</th>\n",
       "      <th>Actor1</th>\n",
       "      <th>Actor2</th>\n",
       "      <th>Age_difference</th>\n",
       "      <th>Film_count_difference</th>\n",
       "      <th>Average_revenue_difference</th>\n",
       "      <th>First_film</th>\n",
       "      <th>First_film_for_one</th>\n",
       "      <th>Number_of_films_together</th>\n",
       "      <th>Same_genre</th>\n",
       "      <th>Genre</th>\n",
       "      <th>Rank</th>\n",
       "      <th>Ranking_ratio</th>\n",
       "    </tr>\n",
       "  </thead>\n",
       "  <tbody>\n",
       "    <tr>\n",
       "      <th>396885</th>\n",
       "      <td>Terror in the Aisles</td>\n",
       "      <td>1984.0</td>\n",
       "      <td>(Dean Martin, Jerry Lewis)</td>\n",
       "      <td>10004817.0</td>\n",
       "      <td>6.3</td>\n",
       "      <td>Dean Martin</td>\n",
       "      <td>Jerry Lewis</td>\n",
       "      <td>9.0</td>\n",
       "      <td>4</td>\n",
       "      <td>1.515564e+07</td>\n",
       "      <td>False</td>\n",
       "      <td>False</td>\n",
       "      <td>15</td>\n",
       "      <td>True</td>\n",
       "      <td>Comedy</td>\n",
       "      <td>336575</td>\n",
       "      <td>0.390451</td>\n",
       "    </tr>\n",
       "    <tr>\n",
       "      <th>294270</th>\n",
       "      <td>Pardners</td>\n",
       "      <td>1956.0</td>\n",
       "      <td>(Dean Martin, Jerry Lewis)</td>\n",
       "      <td>3600000.0</td>\n",
       "      <td>6.1</td>\n",
       "      <td>Dean Martin</td>\n",
       "      <td>Jerry Lewis</td>\n",
       "      <td>9.0</td>\n",
       "      <td>0</td>\n",
       "      <td>0.000000e+00</td>\n",
       "      <td>False</td>\n",
       "      <td>False</td>\n",
       "      <td>13</td>\n",
       "      <td>True</td>\n",
       "      <td>Comedy</td>\n",
       "      <td>383695</td>\n",
       "      <td>0.305115</td>\n",
       "    </tr>\n",
       "    <tr>\n",
       "      <th>34036</th>\n",
       "      <td>Artists and Models</td>\n",
       "      <td>1955.0</td>\n",
       "      <td>(Dean Martin, Jerry Lewis)</td>\n",
       "      <td>3800000.0</td>\n",
       "      <td>6.5</td>\n",
       "      <td>Dean Martin</td>\n",
       "      <td>Jerry Lewis</td>\n",
       "      <td>9.0</td>\n",
       "      <td>0</td>\n",
       "      <td>0.000000e+00</td>\n",
       "      <td>False</td>\n",
       "      <td>False</td>\n",
       "      <td>11</td>\n",
       "      <td>True</td>\n",
       "      <td>Comedy</td>\n",
       "      <td>291571</td>\n",
       "      <td>0.471955</td>\n",
       "    </tr>\n",
       "    <tr>\n",
       "      <th>549956</th>\n",
       "      <td>You're Never Too Young</td>\n",
       "      <td>1955.0</td>\n",
       "      <td>(Dean Martin, Jerry Lewis)</td>\n",
       "      <td>3400000.0</td>\n",
       "      <td>6.5</td>\n",
       "      <td>Dean Martin</td>\n",
       "      <td>Jerry Lewis</td>\n",
       "      <td>9.0</td>\n",
       "      <td>0</td>\n",
       "      <td>0.000000e+00</td>\n",
       "      <td>False</td>\n",
       "      <td>False</td>\n",
       "      <td>11</td>\n",
       "      <td>True</td>\n",
       "      <td>Comedy</td>\n",
       "      <td>291805</td>\n",
       "      <td>0.471531</td>\n",
       "    </tr>\n",
       "    <tr>\n",
       "      <th>171113</th>\n",
       "      <td>Grown Ups</td>\n",
       "      <td>2010.0</td>\n",
       "      <td>(Adam Sandler, Rob Schneider)</td>\n",
       "      <td>271430189.0</td>\n",
       "      <td>6.0</td>\n",
       "      <td>Adam Sandler</td>\n",
       "      <td>Rob Schneider</td>\n",
       "      <td>3.0</td>\n",
       "      <td>3</td>\n",
       "      <td>7.400058e+06</td>\n",
       "      <td>False</td>\n",
       "      <td>False</td>\n",
       "      <td>11</td>\n",
       "      <td>False</td>\n",
       "      <td>None</td>\n",
       "      <td>388990</td>\n",
       "      <td>0.295525</td>\n",
       "    </tr>\n",
       "  </tbody>\n",
       "</table>\n",
       "</div>"
      ],
      "text/plain": [
       "                    Movie_name  Movie_release                    Actor_pairs  \\\n",
       "396885    Terror in the Aisles         1984.0     (Dean Martin, Jerry Lewis)   \n",
       "294270                Pardners         1956.0     (Dean Martin, Jerry Lewis)   \n",
       "34036       Artists and Models         1955.0     (Dean Martin, Jerry Lewis)   \n",
       "549956  You're Never Too Young         1955.0     (Dean Martin, Jerry Lewis)   \n",
       "171113               Grown Ups         2010.0  (Adam Sandler, Rob Schneider)   \n",
       "\n",
       "        Movie_revenue  Movie_rating        Actor1         Actor2  \\\n",
       "396885     10004817.0           6.3   Dean Martin    Jerry Lewis   \n",
       "294270      3600000.0           6.1   Dean Martin    Jerry Lewis   \n",
       "34036       3800000.0           6.5   Dean Martin    Jerry Lewis   \n",
       "549956      3400000.0           6.5   Dean Martin    Jerry Lewis   \n",
       "171113    271430189.0           6.0  Adam Sandler  Rob Schneider   \n",
       "\n",
       "        Age_difference  Film_count_difference  Average_revenue_difference  \\\n",
       "396885             9.0                      4                1.515564e+07   \n",
       "294270             9.0                      0                0.000000e+00   \n",
       "34036              9.0                      0                0.000000e+00   \n",
       "549956             9.0                      0                0.000000e+00   \n",
       "171113             3.0                      3                7.400058e+06   \n",
       "\n",
       "        First_film  First_film_for_one  Number_of_films_together  Same_genre  \\\n",
       "396885       False               False                        15        True   \n",
       "294270       False               False                        13        True   \n",
       "34036        False               False                        11        True   \n",
       "549956       False               False                        11        True   \n",
       "171113       False               False                        11       False   \n",
       "\n",
       "         Genre    Rank  Ranking_ratio  \n",
       "396885  Comedy  336575       0.390451  \n",
       "294270  Comedy  383695       0.305115  \n",
       "34036   Comedy  291571       0.471955  \n",
       "549956  Comedy  291805       0.471531  \n",
       "171113    None  388990       0.295525  "
      ]
     },
     "execution_count": 81,
     "metadata": {},
     "output_type": "execute_result"
    }
   ],
   "source": [
    "df_pairs.sort_values(['Number_of_films_together', 'Ranking_ratio'], ascending= [False, False]).head()"
   ]
  },
  {
   "cell_type": "code",
   "execution_count": 89,
   "metadata": {},
   "outputs": [
    {
     "data": {
      "application/vnd.plotly.v1+json": {
       "config": {
        "plotlyServerURL": "https://plot.ly"
       },
       "data": [
        {
         "alignmentgroup": "True",
         "hovertemplate": "variable=Movie_rating<br>Number_of_films_together=%{x}<br>value=%{y}<extra></extra>",
         "legendgroup": "Movie_rating",
         "marker": {
          "color": "#ff0085",
          "pattern": {
           "shape": ""
          }
         },
         "name": "Movie_rating",
         "offsetgroup": "Movie_rating",
         "orientation": "v",
         "showlegend": true,
         "textposition": "auto",
         "type": "bar",
         "x": [
          0,
          1,
          2,
          3,
          4,
          5,
          6,
          7,
          8,
          9,
          10,
          11,
          13,
          15
         ],
         "xaxis": "x",
         "y": [
          6.466157518346563,
          6.512763214439192,
          6.7896054628224585,
          6.659634146341463,
          6.832371794871794,
          7.189082969432314,
          6.257142857142857,
          6.4125,
          6.175,
          6.18,
          6,
          6.333333333333333,
          6.1,
          6.3
         ],
         "yaxis": "y"
        }
       ],
       "layout": {
        "barmode": "relative",
        "legend": {
         "title": {
          "text": "variable"
         },
         "tracegroupgap": 0
        },
        "margin": {
         "t": 60
        },
        "showlegend": false,
        "template": {
         "data": {
          "bar": [
           {
            "error_x": {
             "color": "#2a3f5f"
            },
            "error_y": {
             "color": "#2a3f5f"
            },
            "marker": {
             "line": {
              "color": "#E5ECF6",
              "width": 0.5
             },
             "pattern": {
              "fillmode": "overlay",
              "size": 10,
              "solidity": 0.2
             }
            },
            "type": "bar"
           }
          ],
          "barpolar": [
           {
            "marker": {
             "line": {
              "color": "#E5ECF6",
              "width": 0.5
             },
             "pattern": {
              "fillmode": "overlay",
              "size": 10,
              "solidity": 0.2
             }
            },
            "type": "barpolar"
           }
          ],
          "carpet": [
           {
            "aaxis": {
             "endlinecolor": "#2a3f5f",
             "gridcolor": "white",
             "linecolor": "white",
             "minorgridcolor": "white",
             "startlinecolor": "#2a3f5f"
            },
            "baxis": {
             "endlinecolor": "#2a3f5f",
             "gridcolor": "white",
             "linecolor": "white",
             "minorgridcolor": "white",
             "startlinecolor": "#2a3f5f"
            },
            "type": "carpet"
           }
          ],
          "choropleth": [
           {
            "colorbar": {
             "outlinewidth": 0,
             "ticks": ""
            },
            "type": "choropleth"
           }
          ],
          "contour": [
           {
            "colorbar": {
             "outlinewidth": 0,
             "ticks": ""
            },
            "colorscale": [
             [
              0,
              "#0d0887"
             ],
             [
              0.1111111111111111,
              "#46039f"
             ],
             [
              0.2222222222222222,
              "#7201a8"
             ],
             [
              0.3333333333333333,
              "#9c179e"
             ],
             [
              0.4444444444444444,
              "#bd3786"
             ],
             [
              0.5555555555555556,
              "#d8576b"
             ],
             [
              0.6666666666666666,
              "#ed7953"
             ],
             [
              0.7777777777777778,
              "#fb9f3a"
             ],
             [
              0.8888888888888888,
              "#fdca26"
             ],
             [
              1,
              "#f0f921"
             ]
            ],
            "type": "contour"
           }
          ],
          "contourcarpet": [
           {
            "colorbar": {
             "outlinewidth": 0,
             "ticks": ""
            },
            "type": "contourcarpet"
           }
          ],
          "heatmap": [
           {
            "colorbar": {
             "outlinewidth": 0,
             "ticks": ""
            },
            "colorscale": [
             [
              0,
              "#0d0887"
             ],
             [
              0.1111111111111111,
              "#46039f"
             ],
             [
              0.2222222222222222,
              "#7201a8"
             ],
             [
              0.3333333333333333,
              "#9c179e"
             ],
             [
              0.4444444444444444,
              "#bd3786"
             ],
             [
              0.5555555555555556,
              "#d8576b"
             ],
             [
              0.6666666666666666,
              "#ed7953"
             ],
             [
              0.7777777777777778,
              "#fb9f3a"
             ],
             [
              0.8888888888888888,
              "#fdca26"
             ],
             [
              1,
              "#f0f921"
             ]
            ],
            "type": "heatmap"
           }
          ],
          "heatmapgl": [
           {
            "colorbar": {
             "outlinewidth": 0,
             "ticks": ""
            },
            "colorscale": [
             [
              0,
              "#0d0887"
             ],
             [
              0.1111111111111111,
              "#46039f"
             ],
             [
              0.2222222222222222,
              "#7201a8"
             ],
             [
              0.3333333333333333,
              "#9c179e"
             ],
             [
              0.4444444444444444,
              "#bd3786"
             ],
             [
              0.5555555555555556,
              "#d8576b"
             ],
             [
              0.6666666666666666,
              "#ed7953"
             ],
             [
              0.7777777777777778,
              "#fb9f3a"
             ],
             [
              0.8888888888888888,
              "#fdca26"
             ],
             [
              1,
              "#f0f921"
             ]
            ],
            "type": "heatmapgl"
           }
          ],
          "histogram": [
           {
            "marker": {
             "pattern": {
              "fillmode": "overlay",
              "size": 10,
              "solidity": 0.2
             }
            },
            "type": "histogram"
           }
          ],
          "histogram2d": [
           {
            "colorbar": {
             "outlinewidth": 0,
             "ticks": ""
            },
            "colorscale": [
             [
              0,
              "#0d0887"
             ],
             [
              0.1111111111111111,
              "#46039f"
             ],
             [
              0.2222222222222222,
              "#7201a8"
             ],
             [
              0.3333333333333333,
              "#9c179e"
             ],
             [
              0.4444444444444444,
              "#bd3786"
             ],
             [
              0.5555555555555556,
              "#d8576b"
             ],
             [
              0.6666666666666666,
              "#ed7953"
             ],
             [
              0.7777777777777778,
              "#fb9f3a"
             ],
             [
              0.8888888888888888,
              "#fdca26"
             ],
             [
              1,
              "#f0f921"
             ]
            ],
            "type": "histogram2d"
           }
          ],
          "histogram2dcontour": [
           {
            "colorbar": {
             "outlinewidth": 0,
             "ticks": ""
            },
            "colorscale": [
             [
              0,
              "#0d0887"
             ],
             [
              0.1111111111111111,
              "#46039f"
             ],
             [
              0.2222222222222222,
              "#7201a8"
             ],
             [
              0.3333333333333333,
              "#9c179e"
             ],
             [
              0.4444444444444444,
              "#bd3786"
             ],
             [
              0.5555555555555556,
              "#d8576b"
             ],
             [
              0.6666666666666666,
              "#ed7953"
             ],
             [
              0.7777777777777778,
              "#fb9f3a"
             ],
             [
              0.8888888888888888,
              "#fdca26"
             ],
             [
              1,
              "#f0f921"
             ]
            ],
            "type": "histogram2dcontour"
           }
          ],
          "mesh3d": [
           {
            "colorbar": {
             "outlinewidth": 0,
             "ticks": ""
            },
            "type": "mesh3d"
           }
          ],
          "parcoords": [
           {
            "line": {
             "colorbar": {
              "outlinewidth": 0,
              "ticks": ""
             }
            },
            "type": "parcoords"
           }
          ],
          "pie": [
           {
            "automargin": true,
            "type": "pie"
           }
          ],
          "scatter": [
           {
            "fillpattern": {
             "fillmode": "overlay",
             "size": 10,
             "solidity": 0.2
            },
            "type": "scatter"
           }
          ],
          "scatter3d": [
           {
            "line": {
             "colorbar": {
              "outlinewidth": 0,
              "ticks": ""
             }
            },
            "marker": {
             "colorbar": {
              "outlinewidth": 0,
              "ticks": ""
             }
            },
            "type": "scatter3d"
           }
          ],
          "scattercarpet": [
           {
            "marker": {
             "colorbar": {
              "outlinewidth": 0,
              "ticks": ""
             }
            },
            "type": "scattercarpet"
           }
          ],
          "scattergeo": [
           {
            "marker": {
             "colorbar": {
              "outlinewidth": 0,
              "ticks": ""
             }
            },
            "type": "scattergeo"
           }
          ],
          "scattergl": [
           {
            "marker": {
             "colorbar": {
              "outlinewidth": 0,
              "ticks": ""
             }
            },
            "type": "scattergl"
           }
          ],
          "scattermapbox": [
           {
            "marker": {
             "colorbar": {
              "outlinewidth": 0,
              "ticks": ""
             }
            },
            "type": "scattermapbox"
           }
          ],
          "scatterpolar": [
           {
            "marker": {
             "colorbar": {
              "outlinewidth": 0,
              "ticks": ""
             }
            },
            "type": "scatterpolar"
           }
          ],
          "scatterpolargl": [
           {
            "marker": {
             "colorbar": {
              "outlinewidth": 0,
              "ticks": ""
             }
            },
            "type": "scatterpolargl"
           }
          ],
          "scatterternary": [
           {
            "marker": {
             "colorbar": {
              "outlinewidth": 0,
              "ticks": ""
             }
            },
            "type": "scatterternary"
           }
          ],
          "surface": [
           {
            "colorbar": {
             "outlinewidth": 0,
             "ticks": ""
            },
            "colorscale": [
             [
              0,
              "#0d0887"
             ],
             [
              0.1111111111111111,
              "#46039f"
             ],
             [
              0.2222222222222222,
              "#7201a8"
             ],
             [
              0.3333333333333333,
              "#9c179e"
             ],
             [
              0.4444444444444444,
              "#bd3786"
             ],
             [
              0.5555555555555556,
              "#d8576b"
             ],
             [
              0.6666666666666666,
              "#ed7953"
             ],
             [
              0.7777777777777778,
              "#fb9f3a"
             ],
             [
              0.8888888888888888,
              "#fdca26"
             ],
             [
              1,
              "#f0f921"
             ]
            ],
            "type": "surface"
           }
          ],
          "table": [
           {
            "cells": {
             "fill": {
              "color": "#EBF0F8"
             },
             "line": {
              "color": "white"
             }
            },
            "header": {
             "fill": {
              "color": "#C8D4E3"
             },
             "line": {
              "color": "white"
             }
            },
            "type": "table"
           }
          ]
         },
         "layout": {
          "annotationdefaults": {
           "arrowcolor": "#2a3f5f",
           "arrowhead": 0,
           "arrowwidth": 1
          },
          "autotypenumbers": "strict",
          "coloraxis": {
           "colorbar": {
            "outlinewidth": 0,
            "ticks": ""
           }
          },
          "colorscale": {
           "diverging": [
            [
             0,
             "#de24ab"
            ],
            [
             0.5,
             "#968478"
            ],
            [
             1,
             "#6d45ae"
            ]
           ],
           "sequential": [
            [
             0,
             "#6d45ae"
            ],
            [
             0.25,
             "#9540b2"
            ],
            [
             0.5,
             "#ba36b1"
            ],
            [
             0.75,
             "#de24ab"
            ],
            [
             1,
             "#ff0085"
            ]
           ],
           "sequentialminus": [
            [
             0,
             "#0d0887"
            ],
            [
             0.1111111111111111,
             "#46039f"
            ],
            [
             0.2222222222222222,
             "#7201a8"
            ],
            [
             0.3333333333333333,
             "#9c179e"
            ],
            [
             0.4444444444444444,
             "#bd3786"
            ],
            [
             0.5555555555555556,
             "#d8576b"
            ],
            [
             0.6666666666666666,
             "#ed7953"
            ],
            [
             0.7777777777777778,
             "#fb9f3a"
            ],
            [
             0.8888888888888888,
             "#fdca26"
            ],
            [
             1,
             "#f0f921"
            ]
           ]
          },
          "colorway": [
           "#ff0085",
           "#de24ab",
           "#ba36b1",
           "#9540b2",
           "#6d45ae",
           "#705589",
           "#392323",
           "#968478"
          ],
          "font": {
           "color": "#392323",
           "family": "Raleway"
          },
          "geo": {
           "bgcolor": "white",
           "lakecolor": "white",
           "landcolor": "#E5ECF6",
           "showlakes": true,
           "showland": true,
           "subunitcolor": "white"
          },
          "hoverlabel": {
           "align": "left"
          },
          "hovermode": "closest",
          "mapbox": {
           "style": "light"
          },
          "paper_bgcolor": "#f9f4e3",
          "plot_bgcolor": "#e9dcc8",
          "polar": {
           "angularaxis": {
            "gridcolor": "white",
            "linecolor": "white",
            "ticks": ""
           },
           "bgcolor": "#E5ECF6",
           "radialaxis": {
            "gridcolor": "white",
            "linecolor": "white",
            "ticks": ""
           }
          },
          "scene": {
           "xaxis": {
            "backgroundcolor": "#E5ECF6",
            "gridcolor": "white",
            "gridwidth": 2,
            "linecolor": "white",
            "showbackground": true,
            "ticks": "",
            "zerolinecolor": "white"
           },
           "yaxis": {
            "backgroundcolor": "#E5ECF6",
            "gridcolor": "white",
            "gridwidth": 2,
            "linecolor": "white",
            "showbackground": true,
            "ticks": "",
            "zerolinecolor": "white"
           },
           "zaxis": {
            "backgroundcolor": "#E5ECF6",
            "gridcolor": "white",
            "gridwidth": 2,
            "linecolor": "white",
            "showbackground": true,
            "ticks": "",
            "zerolinecolor": "white"
           }
          },
          "shapedefaults": {
           "line": {
            "color": "#2a3f5f"
           }
          },
          "ternary": {
           "aaxis": {
            "gridcolor": "white",
            "linecolor": "white",
            "ticks": ""
           },
           "baxis": {
            "gridcolor": "white",
            "linecolor": "white",
            "ticks": ""
           },
           "bgcolor": "#E5ECF6",
           "caxis": {
            "gridcolor": "white",
            "linecolor": "white",
            "ticks": ""
           }
          },
          "title": {
           "x": 0.05
          },
          "xaxis": {
           "automargin": true,
           "gridcolor": "white",
           "linecolor": "white",
           "ticks": "",
           "title": {
            "standoff": 15
           },
           "zerolinecolor": "white",
           "zerolinewidth": 2
          },
          "yaxis": {
           "automargin": true,
           "gridcolor": "white",
           "linecolor": "white",
           "ticks": "",
           "title": {
            "standoff": 15
           },
           "zerolinecolor": "white",
           "zerolinewidth": 2
          }
         }
        },
        "title": {
         "text": "Average rating by number of films together"
        },
        "xaxis": {
         "anchor": "y",
         "domain": [
          0,
          1
         ],
         "tickmode": "linear",
         "title": {
          "text": "Number of films together"
         }
        },
        "yaxis": {
         "anchor": "x",
         "domain": [
          0,
          1
         ],
         "range": [
          1,
          10
         ],
         "title": {
          "text": "Average rating"
         }
        }
       }
      }
     },
     "metadata": {},
     "output_type": "display_data"
    }
   ],
   "source": [
    "avg_rating_by_nb_films_together = df_pairs.groupby('Number_of_films_together')['Movie_rating'].mean()\n",
    "fig = avg_rating_by_nb_films_together.plot(kind='bar')\n",
    "\n",
    "fig.update_layout(\n",
    "    title=\"Average rating by number of films together\",\n",
    "    xaxis_title=\"Number of films together\",\n",
    "    yaxis_title=\"Average rating\",\n",
    "    showlegend=False,\n",
    "    xaxis={'tickmode':'linear'},\n",
    "    yaxis_range=[1, 10],\n",
    ")\n",
    "fig.show()"
   ]
  },
  {
   "cell_type": "code",
   "execution_count": 90,
   "metadata": {},
   "outputs": [
    {
     "name": "stdout",
     "output_type": "stream",
     "text": [
      "                            OLS Regression Results                            \n",
      "==============================================================================\n",
      "Dep. Variable:           Movie_rating   R-squared:                       0.001\n",
      "Model:                            OLS   Adj. R-squared:                  0.001\n",
      "Method:                 Least Squares   F-statistic:                     373.6\n",
      "Date:                Fri, 22 Dec 2023   Prob (F-statistic):           3.26e-83\n",
      "Time:                        17:54:12   Log-Likelihood:            -7.6697e+05\n",
      "No. Observations:              552170   AIC:                         1.534e+06\n",
      "Df Residuals:                  552168   BIC:                         1.534e+06\n",
      "Df Model:                           1                                         \n",
      "Covariance Type:            nonrobust                                         \n",
      "============================================================================================\n",
      "                               coef    std err          t      P>|t|      [0.025      0.975]\n",
      "--------------------------------------------------------------------------------------------\n",
      "Intercept                    6.4657      0.001   4891.219      0.000       6.463       6.468\n",
      "Number_of_films_together     0.0890      0.005     19.329      0.000       0.080       0.098\n",
      "==============================================================================\n",
      "Omnibus:                    31614.526   Durbin-Watson:                   0.001\n",
      "Prob(Omnibus):                  0.000   Jarque-Bera (JB):            47122.651\n",
      "Skew:                          -0.500   Prob(JB):                         0.00\n",
      "Kurtosis:                       4.024   Cond. No.                         3.53\n",
      "==============================================================================\n",
      "\n",
      "Notes:\n",
      "[1] Standard Errors assume that the covariance matrix of the errors is correctly specified.\n"
     ]
    }
   ],
   "source": [
    "model = smf.ols(formula='Movie_rating ~ Number_of_films_together', data=df_pairs)\n",
    "model_fit = model.fit()\n",
    "print(model_fit.summary())"
   ]
  },
  {
   "cell_type": "markdown",
   "metadata": {},
   "source": [
    "# Answer :\n",
    "\n",
    "As we can observe in the plot, the average rating doesn't seem to depend on the frequency of actors costarring. This is confirmed by the test, where R_squared is very low, and thus ranking ratio doesn't depend on the frequency of actors costarring."
   ]
  }
 ],
 "metadata": {
  "kernelspec": {
   "display_name": "Python 3",
   "language": "python",
   "name": "python3"
  },
  "language_info": {
   "codemirror_mode": {
    "name": "ipython",
    "version": 3
   },
   "file_extension": ".py",
   "mimetype": "text/x-python",
   "name": "python",
   "nbconvert_exporter": "python",
   "pygments_lexer": "ipython3",
   "version": "3.12.1"
  }
 },
 "nbformat": 4,
 "nbformat_minor": 2
}
