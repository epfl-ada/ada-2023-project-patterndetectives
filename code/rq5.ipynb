{
 "cells": [
  {
   "cell_type": "code",
   "execution_count": 1,
   "metadata": {},
   "outputs": [],
   "source": [
    "import pandas as pd\n",
    "import numpy as np\n",
    "import matplotlib.pyplot as plt\n",
    "%matplotlib inline\n",
    "import seaborn as sns\n",
    "import math\n",
    "from statsmodels.stats import diagnostic\n",
    "import statsmodels.stats as st\n",
    "from scipy import stats\n",
    "from itertools import combinations\n",
    "import networkx as nx\n",
    "import statsmodels.api as sm\n",
    "import statsmodels.formula.api as smf\n",
    "from sklearn.linear_model import LinearRegression, LogisticRegression, Ridge\n",
    "from sklearn.ensemble import RandomForestClassifier\n",
    "from sklearn.preprocessing import OneHotEncoder\n",
    "from pandas.plotting import scatter_matrix\n",
    "from sklearn.neighbors import KNeighborsClassifier\n",
    "from sklearn.model_selection import cross_val_predict\n",
    "from sklearn.model_selection import cross_val_score\n",
    "from sklearn.metrics import mean_squared_error, auc, roc_curve\n",
    "import missingno as msno\n",
    "import ast\n",
    "from collections import Counter\n",
    "import statsmodels.regression.recursive_ls as rls\n",
    "import plotly.express as px\n",
    "import plotly.graph_objects as go\n",
    "from plotly.subplots import make_subplots\n",
    "from pyvis.network import Network\n",
    "\n",
    "%load_ext autoreload\n",
    "%autoreload 2"
   ]
  },
  {
   "cell_type": "code",
   "execution_count": 2,
   "metadata": {},
   "outputs": [
    {
     "data": {
      "text/html": [
       "<div>\n",
       "<style scoped>\n",
       "    .dataframe tbody tr th:only-of-type {\n",
       "        vertical-align: middle;\n",
       "    }\n",
       "\n",
       "    .dataframe tbody tr th {\n",
       "        vertical-align: top;\n",
       "    }\n",
       "\n",
       "    .dataframe thead th {\n",
       "        text-align: right;\n",
       "    }\n",
       "</style>\n",
       "<table border=\"1\" class=\"dataframe\">\n",
       "  <thead>\n",
       "    <tr style=\"text-align: right;\">\n",
       "      <th></th>\n",
       "      <th>Movie_name</th>\n",
       "      <th>Movie_release</th>\n",
       "      <th>Movie_revenue</th>\n",
       "      <th>Movie_runtime</th>\n",
       "      <th>Movie_languages</th>\n",
       "      <th>Movie_countries</th>\n",
       "      <th>Main_genre</th>\n",
       "      <th>Sec_Genre</th>\n",
       "      <th>Movie_rating</th>\n",
       "      <th>Producer</th>\n",
       "      <th>...</th>\n",
       "      <th>Actor_name</th>\n",
       "      <th>Actor_age_release</th>\n",
       "      <th>Inflation Factor for 2023</th>\n",
       "      <th>2023 valued revenue</th>\n",
       "      <th>Avg_revenue_per_film_at_release</th>\n",
       "      <th>Longevity</th>\n",
       "      <th>Number_of_film_at_release</th>\n",
       "      <th>Avg_rating_per_film_at_release</th>\n",
       "      <th>First_film</th>\n",
       "      <th>Actor_main_genre</th>\n",
       "    </tr>\n",
       "  </thead>\n",
       "  <tbody>\n",
       "    <tr>\n",
       "      <th>403088</th>\n",
       "      <td>The Fox and the Hound</td>\n",
       "      <td>1981.0</td>\n",
       "      <td>63456988.0</td>\n",
       "      <td>83.0</td>\n",
       "      <td>{\"/m/02h40lc\": \"English Language\"}</td>\n",
       "      <td>{\"/m/09c7w0\": \"United States of America\"}</td>\n",
       "      <td>Adventure</td>\n",
       "      <td>Children's/Family</td>\n",
       "      <td>NaN</td>\n",
       "      <td>NaN</td>\n",
       "      <td>...</td>\n",
       "      <td>'Squeeks' the Caterpillar</td>\n",
       "      <td>NaN</td>\n",
       "      <td>3.38</td>\n",
       "      <td>2.144846e+08</td>\n",
       "      <td>6.345699e+07</td>\n",
       "      <td>0.0</td>\n",
       "      <td>1</td>\n",
       "      <td>NaN</td>\n",
       "      <td>True</td>\n",
       "      <td>Adventure</td>\n",
       "    </tr>\n",
       "    <tr>\n",
       "      <th>400285</th>\n",
       "      <td>Miss March</td>\n",
       "      <td>2009.0</td>\n",
       "      <td>4591629.0</td>\n",
       "      <td>90.0</td>\n",
       "      <td>{\"/m/05zjd\": \"Portuguese Language\", \"/m/02h40l...</td>\n",
       "      <td>{\"/m/09c7w0\": \"United States of America\"}</td>\n",
       "      <td>Road movie</td>\n",
       "      <td>Sex comedy</td>\n",
       "      <td>NaN</td>\n",
       "      <td>NaN</td>\n",
       "      <td>...</td>\n",
       "      <td>40 Glocc</td>\n",
       "      <td>29.0</td>\n",
       "      <td>1.43</td>\n",
       "      <td>6.566029e+06</td>\n",
       "      <td>4.591629e+06</td>\n",
       "      <td>0.0</td>\n",
       "      <td>1</td>\n",
       "      <td>NaN</td>\n",
       "      <td>True</td>\n",
       "      <td>Road movie</td>\n",
       "    </tr>\n",
       "    <tr>\n",
       "      <th>71882</th>\n",
       "      <td>Get Rich or Die Tryin'</td>\n",
       "      <td>2005.0</td>\n",
       "      <td>46442528.0</td>\n",
       "      <td>117.0</td>\n",
       "      <td>{\"/m/02h40lc\": \"English Language\"}</td>\n",
       "      <td>{\"/m/09c7w0\": \"United States of America\"}</td>\n",
       "      <td>Crime Fiction</td>\n",
       "      <td>Hip hop movies</td>\n",
       "      <td>5.4</td>\n",
       "      <td>Jimmy Iovine</td>\n",
       "      <td>...</td>\n",
       "      <td>50 Cent</td>\n",
       "      <td>30.0</td>\n",
       "      <td>1.58</td>\n",
       "      <td>7.337919e+07</td>\n",
       "      <td>4.644253e+07</td>\n",
       "      <td>0.0</td>\n",
       "      <td>1</td>\n",
       "      <td>5.400000</td>\n",
       "      <td>True</td>\n",
       "      <td>Crime Fiction</td>\n",
       "    </tr>\n",
       "    <tr>\n",
       "      <th>419847</th>\n",
       "      <td>Home of the Brave</td>\n",
       "      <td>2006.0</td>\n",
       "      <td>499620.0</td>\n",
       "      <td>106.0</td>\n",
       "      <td>{\"/m/0jzc\": \"Arabic Language\", \"/m/02h40lc\": \"...</td>\n",
       "      <td>{\"/m/09c7w0\": \"United States of America\", \"/m/...</td>\n",
       "      <td>Drama</td>\n",
       "      <td>War film</td>\n",
       "      <td>5.6</td>\n",
       "      <td>NaN</td>\n",
       "      <td>...</td>\n",
       "      <td>50 Cent</td>\n",
       "      <td>31.0</td>\n",
       "      <td>1.53</td>\n",
       "      <td>7.644186e+05</td>\n",
       "      <td>2.347107e+07</td>\n",
       "      <td>1.0</td>\n",
       "      <td>2</td>\n",
       "      <td>5.500000</td>\n",
       "      <td>False</td>\n",
       "      <td>Crime Fiction</td>\n",
       "    </tr>\n",
       "    <tr>\n",
       "      <th>126916</th>\n",
       "      <td>Righteous Kill</td>\n",
       "      <td>2008.0</td>\n",
       "      <td>76747202.0</td>\n",
       "      <td>100.0</td>\n",
       "      <td>{\"/m/06b_j\": \"Russian Language\", \"/m/02h40lc\":...</td>\n",
       "      <td>{\"/m/09c7w0\": \"United States of America\"}</td>\n",
       "      <td>Thriller</td>\n",
       "      <td>Crime Fiction</td>\n",
       "      <td>6.0</td>\n",
       "      <td>NaN</td>\n",
       "      <td>...</td>\n",
       "      <td>50 Cent</td>\n",
       "      <td>33.0</td>\n",
       "      <td>1.43</td>\n",
       "      <td>1.097485e+08</td>\n",
       "      <td>4.122978e+07</td>\n",
       "      <td>3.0</td>\n",
       "      <td>3</td>\n",
       "      <td>5.666667</td>\n",
       "      <td>False</td>\n",
       "      <td>Crime Fiction</td>\n",
       "    </tr>\n",
       "  </tbody>\n",
       "</table>\n",
       "<p>5 rows × 29 columns</p>\n",
       "</div>"
      ],
      "text/plain": [
       "                    Movie_name  Movie_release  Movie_revenue  Movie_runtime  \\\n",
       "403088   The Fox and the Hound         1981.0     63456988.0           83.0   \n",
       "400285              Miss March         2009.0      4591629.0           90.0   \n",
       "71882   Get Rich or Die Tryin'         2005.0     46442528.0          117.0   \n",
       "419847       Home of the Brave         2006.0       499620.0          106.0   \n",
       "126916          Righteous Kill         2008.0     76747202.0          100.0   \n",
       "\n",
       "                                          Movie_languages  \\\n",
       "403088                 {\"/m/02h40lc\": \"English Language\"}   \n",
       "400285  {\"/m/05zjd\": \"Portuguese Language\", \"/m/02h40l...   \n",
       "71882                  {\"/m/02h40lc\": \"English Language\"}   \n",
       "419847  {\"/m/0jzc\": \"Arabic Language\", \"/m/02h40lc\": \"...   \n",
       "126916  {\"/m/06b_j\": \"Russian Language\", \"/m/02h40lc\":...   \n",
       "\n",
       "                                          Movie_countries     Main_genre  \\\n",
       "403088          {\"/m/09c7w0\": \"United States of America\"}      Adventure   \n",
       "400285          {\"/m/09c7w0\": \"United States of America\"}     Road movie   \n",
       "71882           {\"/m/09c7w0\": \"United States of America\"}  Crime Fiction   \n",
       "419847  {\"/m/09c7w0\": \"United States of America\", \"/m/...          Drama   \n",
       "126916          {\"/m/09c7w0\": \"United States of America\"}       Thriller   \n",
       "\n",
       "                Sec_Genre  Movie_rating      Producer  ...  \\\n",
       "403088  Children's/Family           NaN           NaN  ...   \n",
       "400285         Sex comedy           NaN           NaN  ...   \n",
       "71882      Hip hop movies           5.4  Jimmy Iovine  ...   \n",
       "419847           War film           5.6           NaN  ...   \n",
       "126916      Crime Fiction           6.0           NaN  ...   \n",
       "\n",
       "                       Actor_name Actor_age_release Inflation Factor for 2023  \\\n",
       "403088  'Squeeks' the Caterpillar               NaN                      3.38   \n",
       "400285                   40 Glocc              29.0                      1.43   \n",
       "71882                     50 Cent              30.0                      1.58   \n",
       "419847                    50 Cent              31.0                      1.53   \n",
       "126916                    50 Cent              33.0                      1.43   \n",
       "\n",
       "       2023 valued revenue Avg_revenue_per_film_at_release Longevity  \\\n",
       "403088        2.144846e+08                    6.345699e+07       0.0   \n",
       "400285        6.566029e+06                    4.591629e+06       0.0   \n",
       "71882         7.337919e+07                    4.644253e+07       0.0   \n",
       "419847        7.644186e+05                    2.347107e+07       1.0   \n",
       "126916        1.097485e+08                    4.122978e+07       3.0   \n",
       "\n",
       "       Number_of_film_at_release  Avg_rating_per_film_at_release First_film  \\\n",
       "403088                         1                             NaN       True   \n",
       "400285                         1                             NaN       True   \n",
       "71882                          1                        5.400000       True   \n",
       "419847                         2                        5.500000      False   \n",
       "126916                         3                        5.666667      False   \n",
       "\n",
       "       Actor_main_genre  \n",
       "403088        Adventure  \n",
       "400285       Road movie  \n",
       "71882     Crime Fiction  \n",
       "419847    Crime Fiction  \n",
       "126916    Crime Fiction  \n",
       "\n",
       "[5 rows x 29 columns]"
      ]
     },
     "execution_count": 2,
     "metadata": {},
     "output_type": "execute_result"
    }
   ],
   "source": [
    "df = pd.read_pickle('../data/df_movie.pkl')\n",
    "df.head()"
   ]
  },
  {
   "cell_type": "code",
   "execution_count": 3,
   "metadata": {},
   "outputs": [
    {
     "data": {
      "text/html": [
       "<div>\n",
       "<style scoped>\n",
       "    .dataframe tbody tr th:only-of-type {\n",
       "        vertical-align: middle;\n",
       "    }\n",
       "\n",
       "    .dataframe tbody tr th {\n",
       "        vertical-align: top;\n",
       "    }\n",
       "\n",
       "    .dataframe thead th {\n",
       "        text-align: right;\n",
       "    }\n",
       "</style>\n",
       "<table border=\"1\" class=\"dataframe\">\n",
       "  <thead>\n",
       "    <tr style=\"text-align: right;\">\n",
       "      <th></th>\n",
       "      <th>Movie_name</th>\n",
       "      <th>Movie_release</th>\n",
       "      <th>Actor_pairs</th>\n",
       "      <th>Movie_revenue</th>\n",
       "      <th>Movie_rating</th>\n",
       "      <th>Actor1</th>\n",
       "      <th>Actor2</th>\n",
       "      <th>Age_difference</th>\n",
       "      <th>Film_count_difference</th>\n",
       "      <th>Average_revenue_difference</th>\n",
       "      <th>First_film</th>\n",
       "      <th>First_film_for_one</th>\n",
       "      <th>Number_of_films_together</th>\n",
       "      <th>Same_genre</th>\n",
       "      <th>Genre</th>\n",
       "    </tr>\n",
       "  </thead>\n",
       "  <tbody>\n",
       "    <tr>\n",
       "      <th>0</th>\n",
       "      <td>'Til There Was You</td>\n",
       "      <td>1997.0</td>\n",
       "      <td>(Alice Drummond, Christine Ebersole)</td>\n",
       "      <td>3525125.0</td>\n",
       "      <td>4.8</td>\n",
       "      <td>Alice Drummond</td>\n",
       "      <td>Christine Ebersole</td>\n",
       "      <td>25.0</td>\n",
       "      <td>3</td>\n",
       "      <td>3.612798e+07</td>\n",
       "      <td>False</td>\n",
       "      <td>False</td>\n",
       "      <td>0</td>\n",
       "      <td>False</td>\n",
       "      <td>None</td>\n",
       "    </tr>\n",
       "    <tr>\n",
       "      <th>1</th>\n",
       "      <td>'Til There Was You</td>\n",
       "      <td>1997.0</td>\n",
       "      <td>(Alice Drummond, Craig Bierko)</td>\n",
       "      <td>3525125.0</td>\n",
       "      <td>4.8</td>\n",
       "      <td>Alice Drummond</td>\n",
       "      <td>Craig Bierko</td>\n",
       "      <td>37.0</td>\n",
       "      <td>5</td>\n",
       "      <td>1.416641e+07</td>\n",
       "      <td>False</td>\n",
       "      <td>False</td>\n",
       "      <td>0</td>\n",
       "      <td>False</td>\n",
       "      <td>None</td>\n",
       "    </tr>\n",
       "    <tr>\n",
       "      <th>2</th>\n",
       "      <td>'Til There Was You</td>\n",
       "      <td>1997.0</td>\n",
       "      <td>(Alice Drummond, Dylan McDermott)</td>\n",
       "      <td>3525125.0</td>\n",
       "      <td>4.8</td>\n",
       "      <td>Alice Drummond</td>\n",
       "      <td>Dylan McDermott</td>\n",
       "      <td>34.0</td>\n",
       "      <td>1</td>\n",
       "      <td>1.315054e+07</td>\n",
       "      <td>False</td>\n",
       "      <td>False</td>\n",
       "      <td>0</td>\n",
       "      <td>False</td>\n",
       "      <td>None</td>\n",
       "    </tr>\n",
       "    <tr>\n",
       "      <th>3</th>\n",
       "      <td>'Til There Was You</td>\n",
       "      <td>1997.0</td>\n",
       "      <td>(Alice Drummond, Jeanne Tripplehorn)</td>\n",
       "      <td>3525125.0</td>\n",
       "      <td>4.8</td>\n",
       "      <td>Alice Drummond</td>\n",
       "      <td>Jeanne Tripplehorn</td>\n",
       "      <td>36.0</td>\n",
       "      <td>2</td>\n",
       "      <td>1.241967e+08</td>\n",
       "      <td>False</td>\n",
       "      <td>False</td>\n",
       "      <td>0</td>\n",
       "      <td>False</td>\n",
       "      <td>None</td>\n",
       "    </tr>\n",
       "    <tr>\n",
       "      <th>4</th>\n",
       "      <td>'Til There Was You</td>\n",
       "      <td>1997.0</td>\n",
       "      <td>(Alice Drummond, Jennifer Aniston)</td>\n",
       "      <td>3525125.0</td>\n",
       "      <td>4.8</td>\n",
       "      <td>Alice Drummond</td>\n",
       "      <td>Jennifer Aniston</td>\n",
       "      <td>41.0</td>\n",
       "      <td>3</td>\n",
       "      <td>4.310507e+07</td>\n",
       "      <td>False</td>\n",
       "      <td>False</td>\n",
       "      <td>0</td>\n",
       "      <td>False</td>\n",
       "      <td>None</td>\n",
       "    </tr>\n",
       "  </tbody>\n",
       "</table>\n",
       "</div>"
      ],
      "text/plain": [
       "           Movie_name  Movie_release                           Actor_pairs  \\\n",
       "0  'Til There Was You         1997.0  (Alice Drummond, Christine Ebersole)   \n",
       "1  'Til There Was You         1997.0        (Alice Drummond, Craig Bierko)   \n",
       "2  'Til There Was You         1997.0     (Alice Drummond, Dylan McDermott)   \n",
       "3  'Til There Was You         1997.0  (Alice Drummond, Jeanne Tripplehorn)   \n",
       "4  'Til There Was You         1997.0    (Alice Drummond, Jennifer Aniston)   \n",
       "\n",
       "   Movie_revenue  Movie_rating          Actor1              Actor2  \\\n",
       "0      3525125.0           4.8  Alice Drummond  Christine Ebersole   \n",
       "1      3525125.0           4.8  Alice Drummond        Craig Bierko   \n",
       "2      3525125.0           4.8  Alice Drummond     Dylan McDermott   \n",
       "3      3525125.0           4.8  Alice Drummond  Jeanne Tripplehorn   \n",
       "4      3525125.0           4.8  Alice Drummond    Jennifer Aniston   \n",
       "\n",
       "   Age_difference  Film_count_difference  Average_revenue_difference  \\\n",
       "0            25.0                      3                3.612798e+07   \n",
       "1            37.0                      5                1.416641e+07   \n",
       "2            34.0                      1                1.315054e+07   \n",
       "3            36.0                      2                1.241967e+08   \n",
       "4            41.0                      3                4.310507e+07   \n",
       "\n",
       "   First_film  First_film_for_one  Number_of_films_together  Same_genre Genre  \n",
       "0       False               False                         0       False  None  \n",
       "1       False               False                         0       False  None  \n",
       "2       False               False                         0       False  None  \n",
       "3       False               False                         0       False  None  \n",
       "4       False               False                         0       False  None  "
      ]
     },
     "execution_count": 3,
     "metadata": {},
     "output_type": "execute_result"
    }
   ],
   "source": [
    "df1 = pd.read_pickle('../data/df_pairs.pkl')\n",
    "df1.head()"
   ]
  },
  {
   "cell_type": "code",
   "execution_count": 4,
   "metadata": {},
   "outputs": [
    {
     "data": {
      "text/html": [
       "<div>\n",
       "<style scoped>\n",
       "    .dataframe tbody tr th:only-of-type {\n",
       "        vertical-align: middle;\n",
       "    }\n",
       "\n",
       "    .dataframe tbody tr th {\n",
       "        vertical-align: top;\n",
       "    }\n",
       "\n",
       "    .dataframe thead th {\n",
       "        text-align: right;\n",
       "    }\n",
       "</style>\n",
       "<table border=\"1\" class=\"dataframe\">\n",
       "  <thead>\n",
       "    <tr style=\"text-align: right;\">\n",
       "      <th></th>\n",
       "      <th>Actor_pairs</th>\n",
       "      <th>Average_Movie_revenue</th>\n",
       "      <th>Average_Movie_rating</th>\n",
       "      <th>Count</th>\n",
       "      <th>Actor1</th>\n",
       "      <th>Actor2</th>\n",
       "      <th>Genre</th>\n",
       "    </tr>\n",
       "  </thead>\n",
       "  <tbody>\n",
       "    <tr>\n",
       "      <th>0</th>\n",
       "      <td>(50 Cent, Adewale Akinnuoye-Agbaje)</td>\n",
       "      <td>46442528.0</td>\n",
       "      <td>5.4</td>\n",
       "      <td>1</td>\n",
       "      <td>50 Cent</td>\n",
       "      <td>Adewale Akinnuoye-Agbaje</td>\n",
       "      <td>None</td>\n",
       "    </tr>\n",
       "    <tr>\n",
       "      <th>1</th>\n",
       "      <td>(50 Cent, Al Pacino)</td>\n",
       "      <td>76747202.0</td>\n",
       "      <td>6.0</td>\n",
       "      <td>1</td>\n",
       "      <td>50 Cent</td>\n",
       "      <td>Al Pacino</td>\n",
       "      <td>None</td>\n",
       "    </tr>\n",
       "    <tr>\n",
       "      <th>2</th>\n",
       "      <td>(50 Cent, Alan Blumenfeld)</td>\n",
       "      <td>76747202.0</td>\n",
       "      <td>6.0</td>\n",
       "      <td>1</td>\n",
       "      <td>50 Cent</td>\n",
       "      <td>Alan Blumenfeld</td>\n",
       "      <td>Crime Fiction</td>\n",
       "    </tr>\n",
       "    <tr>\n",
       "      <th>3</th>\n",
       "      <td>(50 Cent, Alan Rosenberg)</td>\n",
       "      <td>76747202.0</td>\n",
       "      <td>6.0</td>\n",
       "      <td>1</td>\n",
       "      <td>50 Cent</td>\n",
       "      <td>Alan Rosenberg</td>\n",
       "      <td>None</td>\n",
       "    </tr>\n",
       "    <tr>\n",
       "      <th>4</th>\n",
       "      <td>(50 Cent, Ambyr Childers)</td>\n",
       "      <td>2566717.0</td>\n",
       "      <td>5.6</td>\n",
       "      <td>1</td>\n",
       "      <td>50 Cent</td>\n",
       "      <td>Ambyr Childers</td>\n",
       "      <td>Crime Fiction</td>\n",
       "    </tr>\n",
       "    <tr>\n",
       "      <th>...</th>\n",
       "      <td>...</td>\n",
       "      <td>...</td>\n",
       "      <td>...</td>\n",
       "      <td>...</td>\n",
       "      <td>...</td>\n",
       "      <td>...</td>\n",
       "      <td>...</td>\n",
       "    </tr>\n",
       "    <tr>\n",
       "      <th>474803</th>\n",
       "      <td>(Zhenwei Wang, Zhiheng Wang)</td>\n",
       "      <td>359126022.0</td>\n",
       "      <td>6.2</td>\n",
       "      <td>1</td>\n",
       "      <td>Zhenwei Wang</td>\n",
       "      <td>Zhiheng Wang</td>\n",
       "      <td>Action/Adventure</td>\n",
       "    </tr>\n",
       "    <tr>\n",
       "      <th>474804</th>\n",
       "      <td>(Zoe Saldana, Zulay Henao)</td>\n",
       "      <td>70587268.0</td>\n",
       "      <td>6.2</td>\n",
       "      <td>1</td>\n",
       "      <td>Zoe Saldana</td>\n",
       "      <td>Zulay Henao</td>\n",
       "      <td>None</td>\n",
       "    </tr>\n",
       "    <tr>\n",
       "      <th>474805</th>\n",
       "      <td>(Zoe Saldana, Óscar Jaenada)</td>\n",
       "      <td>29379723.0</td>\n",
       "      <td>6.2</td>\n",
       "      <td>1</td>\n",
       "      <td>Zoe Saldana</td>\n",
       "      <td>Óscar Jaenada</td>\n",
       "      <td>Thriller</td>\n",
       "    </tr>\n",
       "    <tr>\n",
       "      <th>474806</th>\n",
       "      <td>(Zoe Saldana, Željko Ivanek)</td>\n",
       "      <td>11494838.0</td>\n",
       "      <td>8.6</td>\n",
       "      <td>1</td>\n",
       "      <td>Zoe Saldana</td>\n",
       "      <td>Željko Ivanek</td>\n",
       "      <td>Thriller</td>\n",
       "    </tr>\n",
       "    <tr>\n",
       "      <th>474807</th>\n",
       "      <td>(Zoë Kravitz, Álex González)</td>\n",
       "      <td>353624124.0</td>\n",
       "      <td>7.7</td>\n",
       "      <td>1</td>\n",
       "      <td>Zoë Kravitz</td>\n",
       "      <td>Álex González</td>\n",
       "      <td>Thriller</td>\n",
       "    </tr>\n",
       "  </tbody>\n",
       "</table>\n",
       "<p>474808 rows × 7 columns</p>\n",
       "</div>"
      ],
      "text/plain": [
       "                                Actor_pairs  Average_Movie_revenue  \\\n",
       "0       (50 Cent, Adewale Akinnuoye-Agbaje)             46442528.0   \n",
       "1                      (50 Cent, Al Pacino)             76747202.0   \n",
       "2                (50 Cent, Alan Blumenfeld)             76747202.0   \n",
       "3                 (50 Cent, Alan Rosenberg)             76747202.0   \n",
       "4                 (50 Cent, Ambyr Childers)              2566717.0   \n",
       "...                                     ...                    ...   \n",
       "474803         (Zhenwei Wang, Zhiheng Wang)            359126022.0   \n",
       "474804           (Zoe Saldana, Zulay Henao)             70587268.0   \n",
       "474805         (Zoe Saldana, Óscar Jaenada)             29379723.0   \n",
       "474806         (Zoe Saldana, Željko Ivanek)             11494838.0   \n",
       "474807         (Zoë Kravitz, Álex González)            353624124.0   \n",
       "\n",
       "        Average_Movie_rating  Count        Actor1                    Actor2  \\\n",
       "0                        5.4      1       50 Cent  Adewale Akinnuoye-Agbaje   \n",
       "1                        6.0      1       50 Cent                 Al Pacino   \n",
       "2                        6.0      1       50 Cent           Alan Blumenfeld   \n",
       "3                        6.0      1       50 Cent            Alan Rosenberg   \n",
       "4                        5.6      1       50 Cent            Ambyr Childers   \n",
       "...                      ...    ...           ...                       ...   \n",
       "474803                   6.2      1  Zhenwei Wang              Zhiheng Wang   \n",
       "474804                   6.2      1   Zoe Saldana               Zulay Henao   \n",
       "474805                   6.2      1   Zoe Saldana             Óscar Jaenada   \n",
       "474806                   8.6      1   Zoe Saldana             Željko Ivanek   \n",
       "474807                   7.7      1   Zoë Kravitz             Álex González   \n",
       "\n",
       "                   Genre  \n",
       "0                   None  \n",
       "1                   None  \n",
       "2          Crime Fiction  \n",
       "3                   None  \n",
       "4          Crime Fiction  \n",
       "...                  ...  \n",
       "474803  Action/Adventure  \n",
       "474804              None  \n",
       "474805          Thriller  \n",
       "474806          Thriller  \n",
       "474807          Thriller  \n",
       "\n",
       "[474808 rows x 7 columns]"
      ]
     },
     "execution_count": 4,
     "metadata": {},
     "output_type": "execute_result"
    }
   ],
   "source": [
    "df2 = df1.copy()\n",
    "\n",
    "#Filter the years to have only the films from 1980 to 1985 first\n",
    "df2 = df2[(df2['Movie_release'] >= 1980) & (df2['Movie_release'] <= 2020)]\n",
    "\n",
    "\n",
    "# Step 1: Create a mapping DataFrame for 'Actor_pairs' to 'Actor1', 'Actor2', and 'Genre'\n",
    "actor_pairs_mapping = df2[['Actor_pairs', 'Actor1', 'Actor2', 'Genre']].drop_duplicates()\n",
    "\n",
    "# Step 2: Grouping by 'Actor_pairs' and calculating the required metrics along with including 'Genre'\n",
    "grouped_df = df2.groupby('Actor_pairs').agg(\n",
    "    Average_Movie_revenue=pd.NamedAgg(column='Movie_revenue', aggfunc='mean'),\n",
    "    Average_Movie_rating=pd.NamedAgg(column='Movie_rating', aggfunc='mean'),\n",
    "    Count=pd.NamedAgg(column='Movie_name', aggfunc='count')\n",
    ")\n",
    "\n",
    "# Reset index in the grouped DataFrame\n",
    "grouped_df.reset_index(inplace=True)\n",
    "\n",
    "# Step 3: Merge the aggregated DataFrame with the mapping DataFrame\n",
    "# Note: The merge may result in multiple rows per actor pair if they have multiple genres.\n",
    "final_df = pd.merge(grouped_df, actor_pairs_mapping, on='Actor_pairs')\n",
    "\n",
    "final_df"
   ]
  },
  {
   "cell_type": "code",
   "execution_count": 5,
   "metadata": {},
   "outputs": [
    {
     "data": {
      "text/html": [
       "<div>\n",
       "<style scoped>\n",
       "    .dataframe tbody tr th:only-of-type {\n",
       "        vertical-align: middle;\n",
       "    }\n",
       "\n",
       "    .dataframe tbody tr th {\n",
       "        vertical-align: top;\n",
       "    }\n",
       "\n",
       "    .dataframe thead th {\n",
       "        text-align: right;\n",
       "    }\n",
       "</style>\n",
       "<table border=\"1\" class=\"dataframe\">\n",
       "  <thead>\n",
       "    <tr style=\"text-align: right;\">\n",
       "      <th></th>\n",
       "      <th>Actor_pairs</th>\n",
       "      <th>Average_Movie_revenue</th>\n",
       "      <th>Average_Movie_rating</th>\n",
       "      <th>Count</th>\n",
       "      <th>Actor1</th>\n",
       "      <th>Actor2</th>\n",
       "      <th>Genre</th>\n",
       "      <th>rank</th>\n",
       "      <th>rank_ratio</th>\n",
       "      <th>Color</th>\n",
       "    </tr>\n",
       "  </thead>\n",
       "  <tbody>\n",
       "    <tr>\n",
       "      <th>0</th>\n",
       "      <td>(Andy Serkis, Billy Boyd)</td>\n",
       "      <td>1.00</td>\n",
       "      <td>1.000000</td>\n",
       "      <td>3</td>\n",
       "      <td>Andy Serkis</td>\n",
       "      <td>Billy Boyd</td>\n",
       "      <td>Fantasy Adventure</td>\n",
       "      <td>1</td>\n",
       "      <td>1.000000</td>\n",
       "      <td>(0, 1.0, 0.3)</td>\n",
       "    </tr>\n",
       "    <tr>\n",
       "      <th>1</th>\n",
       "      <td>(Andy Serkis, Cate Blanchett)</td>\n",
       "      <td>1.00</td>\n",
       "      <td>1.000000</td>\n",
       "      <td>3</td>\n",
       "      <td>Andy Serkis</td>\n",
       "      <td>Cate Blanchett</td>\n",
       "      <td>None</td>\n",
       "      <td>1</td>\n",
       "      <td>1.000000</td>\n",
       "      <td>(0, 1.0, 0.3)</td>\n",
       "    </tr>\n",
       "    <tr>\n",
       "      <th>2</th>\n",
       "      <td>(Andy Serkis, Christopher Lee)</td>\n",
       "      <td>1.00</td>\n",
       "      <td>1.000000</td>\n",
       "      <td>3</td>\n",
       "      <td>Andy Serkis</td>\n",
       "      <td>Christopher Lee</td>\n",
       "      <td>None</td>\n",
       "      <td>1</td>\n",
       "      <td>1.000000</td>\n",
       "      <td>(0, 1.0, 0.3)</td>\n",
       "    </tr>\n",
       "    <tr>\n",
       "      <th>3</th>\n",
       "      <td>(Andy Serkis, David Wenham)</td>\n",
       "      <td>1.00</td>\n",
       "      <td>1.000000</td>\n",
       "      <td>3</td>\n",
       "      <td>Andy Serkis</td>\n",
       "      <td>David Wenham</td>\n",
       "      <td>Fantasy Adventure</td>\n",
       "      <td>1</td>\n",
       "      <td>1.000000</td>\n",
       "      <td>(0, 1.0, 0.3)</td>\n",
       "    </tr>\n",
       "    <tr>\n",
       "      <th>4</th>\n",
       "      <td>(Andy Serkis, Dominic Monaghan)</td>\n",
       "      <td>1.00</td>\n",
       "      <td>1.000000</td>\n",
       "      <td>3</td>\n",
       "      <td>Andy Serkis</td>\n",
       "      <td>Dominic Monaghan</td>\n",
       "      <td>Fantasy Adventure</td>\n",
       "      <td>1</td>\n",
       "      <td>1.000000</td>\n",
       "      <td>(0, 1.0, 0.3)</td>\n",
       "    </tr>\n",
       "    <tr>\n",
       "      <th>...</th>\n",
       "      <td>...</td>\n",
       "      <td>...</td>\n",
       "      <td>...</td>\n",
       "      <td>...</td>\n",
       "      <td>...</td>\n",
       "      <td>...</td>\n",
       "      <td>...</td>\n",
       "      <td>...</td>\n",
       "      <td>...</td>\n",
       "      <td>...</td>\n",
       "    </tr>\n",
       "    <tr>\n",
       "      <th>2172</th>\n",
       "      <td>(Loretta Devine, Regina Hall)</td>\n",
       "      <td>0.00</td>\n",
       "      <td>0.116906</td>\n",
       "      <td>4</td>\n",
       "      <td>Loretta Devine</td>\n",
       "      <td>Regina Hall</td>\n",
       "      <td>None</td>\n",
       "      <td>2172</td>\n",
       "      <td>0.002756</td>\n",
       "      <td>(0.994487827285255, 0, 0.3)</td>\n",
       "    </tr>\n",
       "    <tr>\n",
       "      <th>2173</th>\n",
       "      <td>(Anthony Anderson, Loretta Devine)</td>\n",
       "      <td>0.00</td>\n",
       "      <td>0.115108</td>\n",
       "      <td>3</td>\n",
       "      <td>Anthony Anderson</td>\n",
       "      <td>Loretta Devine</td>\n",
       "      <td>Crime Fiction</td>\n",
       "      <td>2174</td>\n",
       "      <td>0.001837</td>\n",
       "      <td>(0.99632521819017, 0, 0.3)</td>\n",
       "    </tr>\n",
       "    <tr>\n",
       "      <th>2174</th>\n",
       "      <td>(David Mann, Tamela Mann)</td>\n",
       "      <td>0.05</td>\n",
       "      <td>0.079137</td>\n",
       "      <td>3</td>\n",
       "      <td>David Mann</td>\n",
       "      <td>Tamela Mann</td>\n",
       "      <td>None</td>\n",
       "      <td>2175</td>\n",
       "      <td>0.001378</td>\n",
       "      <td>(0.9972439136426274, 0, 0.3)</td>\n",
       "    </tr>\n",
       "    <tr>\n",
       "      <th>2175</th>\n",
       "      <td>(David Mann, Tyler Perry)</td>\n",
       "      <td>0.05</td>\n",
       "      <td>0.079137</td>\n",
       "      <td>3</td>\n",
       "      <td>David Mann</td>\n",
       "      <td>Tyler Perry</td>\n",
       "      <td>None</td>\n",
       "      <td>2175</td>\n",
       "      <td>0.001378</td>\n",
       "      <td>(0.9972439136426274, 0, 0.3)</td>\n",
       "    </tr>\n",
       "    <tr>\n",
       "      <th>2176</th>\n",
       "      <td>(Alan McRae, Victor Wong)</td>\n",
       "      <td>0.00</td>\n",
       "      <td>0.000000</td>\n",
       "      <td>3</td>\n",
       "      <td>Alan McRae</td>\n",
       "      <td>Victor Wong</td>\n",
       "      <td>None</td>\n",
       "      <td>2177</td>\n",
       "      <td>0.000459</td>\n",
       "      <td>(0.9990813045475425, 0, 0.3)</td>\n",
       "    </tr>\n",
       "  </tbody>\n",
       "</table>\n",
       "<p>2177 rows × 10 columns</p>\n",
       "</div>"
      ],
      "text/plain": [
       "                             Actor_pairs  Average_Movie_revenue  \\\n",
       "0              (Andy Serkis, Billy Boyd)                   1.00   \n",
       "1          (Andy Serkis, Cate Blanchett)                   1.00   \n",
       "2         (Andy Serkis, Christopher Lee)                   1.00   \n",
       "3            (Andy Serkis, David Wenham)                   1.00   \n",
       "4        (Andy Serkis, Dominic Monaghan)                   1.00   \n",
       "...                                  ...                    ...   \n",
       "2172       (Loretta Devine, Regina Hall)                   0.00   \n",
       "2173  (Anthony Anderson, Loretta Devine)                   0.00   \n",
       "2174           (David Mann, Tamela Mann)                   0.05   \n",
       "2175           (David Mann, Tyler Perry)                   0.05   \n",
       "2176           (Alan McRae, Victor Wong)                   0.00   \n",
       "\n",
       "      Average_Movie_rating  Count            Actor1            Actor2  \\\n",
       "0                 1.000000      3       Andy Serkis        Billy Boyd   \n",
       "1                 1.000000      3       Andy Serkis    Cate Blanchett   \n",
       "2                 1.000000      3       Andy Serkis   Christopher Lee   \n",
       "3                 1.000000      3       Andy Serkis      David Wenham   \n",
       "4                 1.000000      3       Andy Serkis  Dominic Monaghan   \n",
       "...                    ...    ...               ...               ...   \n",
       "2172              0.116906      4    Loretta Devine       Regina Hall   \n",
       "2173              0.115108      3  Anthony Anderson    Loretta Devine   \n",
       "2174              0.079137      3        David Mann       Tamela Mann   \n",
       "2175              0.079137      3        David Mann       Tyler Perry   \n",
       "2176              0.000000      3        Alan McRae       Victor Wong   \n",
       "\n",
       "                  Genre  rank  rank_ratio                         Color  \n",
       "0     Fantasy Adventure     1    1.000000                 (0, 1.0, 0.3)  \n",
       "1                  None     1    1.000000                 (0, 1.0, 0.3)  \n",
       "2                  None     1    1.000000                 (0, 1.0, 0.3)  \n",
       "3     Fantasy Adventure     1    1.000000                 (0, 1.0, 0.3)  \n",
       "4     Fantasy Adventure     1    1.000000                 (0, 1.0, 0.3)  \n",
       "...                 ...   ...         ...                           ...  \n",
       "2172               None  2172    0.002756   (0.994487827285255, 0, 0.3)  \n",
       "2173      Crime Fiction  2174    0.001837    (0.99632521819017, 0, 0.3)  \n",
       "2174               None  2175    0.001378  (0.9972439136426274, 0, 0.3)  \n",
       "2175               None  2175    0.001378  (0.9972439136426274, 0, 0.3)  \n",
       "2176               None  2177    0.000459  (0.9990813045475425, 0, 0.3)  \n",
       "\n",
       "[2177 rows x 10 columns]"
      ]
     },
     "execution_count": 5,
     "metadata": {},
     "output_type": "execute_result"
    }
   ],
   "source": [
    "from sklearn.preprocessing import MinMaxScaler\n",
    "\n",
    "\n",
    "# Filter to only keep real duos\n",
    "duos = final_df[final_df['Count'] >=3]\n",
    "\n",
    "# Creating a copy of the DataFrame slice\n",
    "duos_standardized = duos.copy()\n",
    "\n",
    "# Initialize the StandardScaler\n",
    "standard_scaler = MinMaxScaler()\n",
    "\n",
    "# Selecting the columns to be normalized\n",
    "cols_to_normalize = ['Average_Movie_revenue', 'Average_Movie_rating']\n",
    "\n",
    "# Applying normalization to the selected columns\n",
    "duos_standardized[cols_to_normalize] = standard_scaler.fit_transform(duos_standardized[cols_to_normalize])\n",
    "\n",
    "def round_down_to_nearest_05(number):\n",
    "    return np.floor(number / 0.05) * 0.05\n",
    "\n",
    "duos_standardized['Average_Movie_revenue'] = duos_standardized['Average_Movie_revenue'].apply(round_down_to_nearest_05)\n",
    "\n",
    "\n",
    "rating_stand = duos_standardized.sort_values(by=[\"Average_Movie_rating\",\"Average_Movie_revenue\"], ascending= False)\n",
    "\n",
    "\n",
    "revenue_stand = duos_standardized.copy()\n",
    "revenue_stand = duos_standardized.sort_values(by=[\"Average_Movie_revenue\",\"Average_Movie_rating\"], ascending= False)\n",
    "\n",
    "\n",
    "rating_stand.reset_index(drop=True, inplace=True)\n",
    "rating_stand['rank'] = rating_stand.index + 1   # Adding 1 to start the ranking from 1\n",
    "\n",
    "revenue_stand.reset_index(drop=True, inplace=True)\n",
    "revenue_stand['rank'] = revenue_stand.index + 1   # Adding 1 to start the ranking from 1\n",
    "\n",
    "\n",
    "for i in range(1, len(rating_stand)):\n",
    "    # Check if the current row has the same speed and mass as the previous row\n",
    "    if (rating_stand.loc[i, 'Average_Movie_revenue'] == rating_stand.loc[i-1, 'Average_Movie_revenue']) and (rating_stand.loc[i, 'Average_Movie_rating'] == rating_stand.loc[i-1, 'Average_Movie_rating']):\n",
    "        # Update the rank to be the same as the previous row\n",
    "        rating_stand.loc[i, 'rank'] = rating_stand.loc[i-1, 'rank']\n",
    "    \n",
    "for i in range(1, len(revenue_stand)):\n",
    "    # Check if the current row has the same speed and mass as the previous row\n",
    "    if (revenue_stand.loc[i, 'Average_Movie_revenue'] == revenue_stand.loc[i-1, 'Average_Movie_revenue']) and (revenue_stand.loc[i, 'Average_Movie_rating'] == rating_stand.loc[i-1, 'Average_Movie_rating']):\n",
    "        # Update the rank to be the same as the previous row\n",
    "        revenue_stand.loc[i, 'rank'] = revenue_stand.loc[i-1, 'rank']\n",
    "\n",
    "length = len(rating_stand)\n",
    "\n",
    "rating_stand['rank_ratio']  = (length - (rating_stand['rank']-1))/ length\n",
    "revenue_stand['rank_ratio']  = (length - (revenue_stand['rank']-1))/ length\n",
    "\n",
    "# Function to transform x to y and create a tuple\n",
    "def transform(x):\n",
    "    if x >= 0.5:\n",
    "        y = (x - 0.5) * 2  \n",
    "        return (0, y, 0.3)\n",
    "    else:\n",
    "        y = np.abs((x - 0.5) * 2)\n",
    "        return (y, 0, 0.3)\n",
    "\n",
    "# Apply the transformation\n",
    "rating_stand['Color'] = rating_stand['rank_ratio'].apply(transform)\n",
    "revenue_stand['Color'] = revenue_stand['rank_ratio'].apply(transform)\n",
    "\n",
    "rating_stand"
   ]
  },
  {
   "cell_type": "code",
   "execution_count": 6,
   "metadata": {},
   "outputs": [
    {
     "name": "stdout",
     "output_type": "stream",
     "text": [
      "Cluster 386.95714285714286: ['Andy Serkis', 'Billy Boyd', 'Cate Blanchett', 'Christopher Lee', 'David Wenham', 'Dominic Monaghan', 'Elijah Wood', 'Hugo Weaving', 'Ian McKellen', 'John Rhys-Davies', 'Liv Tyler', 'Orlando Bloom', 'Sala Baker', 'Sean Astin', 'Sean Bean', 'Viggo Mortensen', 'Peter Jackson', 'Ian Holm', 'Brad Dourif', 'Hugh Jackman', 'Rebecca Romijn', 'Aaron Stanford', 'Anna Paquin', 'Bruce Davison', 'Famke Janssen', 'Halle Berry', 'James Marsden', 'Patrick Stewart', 'Jacek Koman', 'Richard Roxburgh', 'Brent Spiner', 'Gates McFadden', 'Jonathan Frakes', 'LeVar Burton', 'Marina Sirtis', 'Michael Dorn', 'Danny Mann', 'Miriam Margolyes', 'Magda Szubanski', 'Gretchen Mol']\n",
      "Cluster 437.3171206225681: ['Gary Oldman', 'Alfred Enoch', 'Timothy Spall', 'Bonnie Wright', 'Daniel Radcliffe', 'David Bradley', 'Devon Murray', 'Emma Watson', 'Geraldine Somerville', 'James Phelps', 'Jamie Waylett', 'Joshua Herdman', 'Maggie Smith', 'Mark Williams', 'Matthew David Lewis', 'Michael Gambon', 'Oliver Phelps', 'Robbie Coltrane', 'Rupert Grint', 'Tom Felton', 'Warwick Davis', 'Adrian Rawlins', 'Alan Rickman', 'Robert Hardy', 'Brendan Gleeson', 'Ralph Fiennes', 'Emma Thompson', 'Hugh Grant', 'David Thewlis', 'Julie Walters', 'Afshan Azad', 'Katie Leung', 'Shefali Chowdhury', 'Chris Rankin', 'Fiona Shaw', 'Harry Melling', 'Richard Griffiths', 'Gemma Jones', 'Jason Isaacs', 'Helena Bonham Carter', 'Liam Neeson', 'Imelda Staunton', 'Derek Jacobi', 'Kenneth Branagh', 'Cary Elwes', 'Laura Linney', 'Natasha Richardson']\n",
      "Cluster 813.3018867924528: ['Gary Sinise', 'Tom Hanks', 'Don Rickles', 'John Morris', 'John Ratzenberger', 'Laurie Metcalf', 'R. Lee Ermey', 'Tim Allen', 'Wallace Shawn', 'Chris Ellis', 'Estelle Harris', 'Clancy Brown', 'Bonnie Hunt', 'Judge Reinhold', 'Meg Ryan', 'Rita Wilson', 'Dabney Coleman', 'Rob Reiner', 'Eric Lloyd', 'Peter Boyle', 'Wendy Crewson', 'Spencer Breslin']\n",
      "Cluster 977.7045454545455: ['Giancarlo Esposito', 'Ossie Davis', 'Spike Lee', 'Clark Gregg', 'Gwyneth Paltrow', 'Paul Bettany', 'Robert Downey Jr.', 'Samuel L. Jackson', 'J. K. Simmons', 'Sam Elliott', 'Seymour Cassel', 'Bill Nunn', 'Bruce Campbell', 'Ted Raimi', 'Elizabeth Banks', 'Tobey Maguire', 'Ving Rhames', 'Dan Hicks', 'Rosemary Harris', 'Scarlett Johansson', 'Stan Lee', 'David Morse', 'James Franco', 'Josh Brolin', 'Vincent Laresca', 'Cliff Robertson', 'Kirsten Dunst', 'Willem Dafoe', 'Jude Law', 'Ray Winstone', 'Joie Lee', 'Jeremy Renner', 'Stellan Skarsgård', 'Daniel Dae Kim', 'Mickey Rourke', 'Michael Rispoli', 'Nicolas Cage', 'Tom Cruise', 'Kate Winslet', 'Joe Manganiello', 'Armando Riesco', 'Michael Papajohn', 'Michael Rapaport', 'Eva Mendes', 'Kevin Corrigan']\n",
      "Cluster 1046.7898550724638: ['Julia Stiles', 'Matt Damon', 'Ben Affleck', 'Cole Hauser', 'Casey Affleck', 'Denzel Washington', 'Ethan Suplee', \"Brian O'Halloran\", 'Jason Lee', 'Jason Mewes', 'George Clooney', 'Thomas McCarthy', 'Brad Pitt', 'Joey Lauren Adams', 'Kevin Smith', 'Dwight Ewell', 'Julia Roberts', 'Kimberly Elise', 'Andy García', 'Bernie Mac', 'Carl Reiner', 'Eddie Jemison', 'Elliott Gould', 'Scott Caan', 'Shaobo Qin', 'Don Cheadle', 'Eddie Izzard', 'Walt Flanagan', 'Zooey Deschanel', 'Jeff Anderson', 'Jennifer Schwalbach Smith', 'George Carlin', 'Harley Quinn Smith', 'Topher Grace', 'Carrie Fisher', 'Richard Bradford', 'Hector Elizondo', 'Paul Giamatti', 'Lisa Roberts Gillan', 'Jennifer Garner']\n",
      "Cluster 1129.2592592592594: ['John C. Reilly', 'Julianne Moore', 'Tom Sizemore', 'William Fichtner', 'Luis Guzmán', 'Philip Seymour Hoffman', 'Leonardo DiCaprio', 'Pete Postlethwaite', 'Melora Walters', 'Philip Baker Hall', 'Johnny Depp', 'Mackenzie Crook', 'Ricky Jay', 'William H. Macy', 'Alfred Molina', 'Emily Watson', 'Charles Hallahan', 'Kurt Russell', 'Geoffrey Rush', 'Kevin McNally', 'Jonathan Pryce', 'Crispin Glover', 'Amy Adams', 'Christian Slater', 'Drew Barrymore', 'Maggie Gyllenhaal', 'Val Kilmer', 'J. T. Walsh', 'Woody Harrelson', 'Jason Segel', 'Emily Blunt', 'Amy Ryan', 'Sean Penn', 'Meryl Streep', 'Molly Shannon', 'Ian Roberts', 'Wesley Snipes', 'Lionel Mark Smith', 'Vincent Guastaferro', 'Rebecca Pidgeon', 'Samantha Mathis', 'Sam Rockwell', 'Kris Kristofferson', 'Paul Perri', 'Jeff Bridges', 'Peter Friedman', 'Brian Dennehy', 'John Leguizamo', 'M. C. Gainey', 'Anne Heche', 'Dermot Mulroney', 'James LeGros', 'Roger Ashton-Griffiths', 'Will Patton']\n",
      "Cluster 1137.8: ['Djimon Hounsou', 'Michael Sheen', 'Bill Nighy', 'Martin Freeman', 'Shane Brolly', 'Kate Beckinsale', 'Marton Csokas']\n",
      "Cluster 1168.5454545454545: ['DeForest Kelley', 'George Takei', 'James Doohan', 'Leonard Nimoy', 'Nichelle Nichols', 'Walter Koenig', 'William Shatner']\n",
      "Cluster 1276.0: ['Jesse McCartney', 'Kristin Chenoweth', 'Lucy Liu', 'Mae Whitman', 'Pamela Adlon', 'Raven-Symoné']\n",
      "Cluster 1301.1194029850747: ['Clint Howard', 'Kevin Bacon', 'Billy Crystal', 'Bruno Kirby', 'Fred Ward', 'Peter Gallagher', 'Tim Robbins', 'Joan Cusack', 'Jack Black', 'Whoopi Goldberg', 'Susan Sarandon', 'Harold Ramis', 'John Cusack', 'Amy Madigan', 'Ed Harris', 'Celia Weston', 'Margo Martindale', 'Jeremy Piven', 'Denis Leary', 'Michael Jeter', 'Robin Williams', 'Gene Hackman', 'Kiefer Sutherland', 'Oliver Platt', 'E. G. Marshall', 'Alec Baldwin', 'James Rebhorn', 'Nicole Kidman', 'Hal Holbrook', 'M. Emmet Walsh', 'Amanda Peet', 'Beth Grant', 'Sandra Bullock', 'Kyra Sedgwick', 'Eva Amurri', 'Harve Presnell', 'Josef Sommer', 'Hank Azaria', 'Ned Bellamy', 'Kathy Najimy', 'Dennis Quaid', 'Richard Dreyfuss', 'Lou Diamond Phillips', 'Chris Penn', 'Richard Schiff', 'David Paymer', 'Holmes Osborne']\n",
      "Cluster 1303.423076923077: ['Christopher Lloyd', 'J.J. Cohen', 'James Tolkan', 'Michael J. Fox', 'Lea Thompson', 'Thomas F. Wilson', 'Anthony Hopkins', 'Frankie Faison', 'Mia Farrow', 'Woody Allen', 'Sam Waterston', \"Caitlin O'Heaney\", 'Dianne Wiest', 'Alan Alda', 'John Turturro', 'Frank Welker', 'Judy Davis', 'Tony Darrow', 'Nicholas Turturro', 'Kevin Dunn', 'David Ogden Stiers', 'Jim Cummings', 'Peter Cullen', 'Christine Baranski', 'Nathan Lane', 'Tom Kenny', 'Charles Adler', 'Jess Harnell', 'Josh Duhamel', 'Julie White', 'Mark Ryan', 'Robert Foxworth', 'Shia LaBeouf', 'Tyrese Gibson', 'John Fiedler', 'Kath Soucie', 'Ken Sansom', 'Nikita Hopkins', 'Michael Lerner', 'Jeff Bennett', 'Rob Paulsen', 'Mike Starr', 'Tony Jay', 'Peter MacNicol']\n",
      "Cluster 1317.0077519379845: ['Frank Vincent', 'Joe Pesci', 'Robert De Niro', 'Bill Murray', 'Jason Schwartzman', 'Adrien Brody', 'Owen Wilson', 'Christopher Guest', 'Ed Begley, Jr.', 'Fred Willard', 'Michael McKean', 'Jeff Goldblum', 'Scott Glenn', \"Catherine O'Hara\", 'Glenn Shadix', 'Jeffrey Jones', 'Martin Landau', 'Anjelica Huston', 'Brian Doyle-Murray', 'Winona Ryder', 'Danny Glover', 'Darlene Love', 'Traci Wolfe', 'Mel Gibson', 'Rick Moranis', 'Andrew Wilson', 'Luke Wilson', 'Blythe Danner', 'Catherine Keener', 'Jena Malone', 'Harry Shearer', 'Christina Ricci', 'Michael Keaton', 'Tilda Swinton', 'Cathy Moriarty', 'Eugene Levy', 'Jennifer Coolidge', 'Bob Balaban', 'Daniel Stern', 'Keanu Reeves', 'Steve Kahan', 'Chris Cooper', 'Devin Ratray', 'Steve Martin', 'John Heard', 'Rene Russo', 'Ben Stiller', 'Fran Drescher', 'Missi Pyle', 'Dustin Hoffman', 'Eddie Kaye Thomas', 'John Cho', 'Chevy Chase', 'Steve Coogan', \"Beverly D'Angelo\", 'Seann William Scott', 'Jason Biggs', 'John Candy', 'Larry Hankin', 'Andy Dick', 'Amy Stiller', 'Martin Scorsese', 'Robin Duke', 'Dan Aykroyd', 'Judah Friedlander', 'Melissa Leo', 'Janeane Garofalo', 'Jim Belushi', 'Teri Polo', 'David Pressman', 'Barbra Streisand', 'Linda Fiorentino', 'Geena Davis', 'Barry Primus', 'Rosanna Arquette', 'Jamie Lee Curtis', 'Alyson Hannigan', 'Ben Stein', 'Donna Dixon', 'Jessica Cauffiel', 'Randy Quaid', 'Michael Richards', 'Cuba Gooding, Jr.']\n",
      "Cluster 1360.6153846153845: ['Judi Dench', 'Tom Wilkinson', 'Michael Kitchen', 'Desmond Llewelyn', 'Pierce Brosnan', 'Samantha Bond', 'Joe Don Baker', 'Robert Brown', 'Colin Salmon']\n",
      "Cluster 1426.686274509804: ['Jason Bateman', 'Ed Helms', 'Rob Riggle', 'Bill Hader', 'Joe Lo Truglio', 'Seth Rogen', 'Jane Lynch', 'John Michael Higgins', 'Martin Starr', 'Jonah Hill', 'Danny McBride', 'Carla Gallo', 'Paul Rudd', 'Steve Carell', 'Kristen Wiig', 'Mila Kunis', 'Ken Jeong', 'Vince Vaughn', 'Will Ferrell', 'Mark Wahlberg', 'Parker Posey', 'Michael Hitchcock', 'Nicky Katt', 'Rip Torn', 'Tommy Lee Jones', 'Will Smith', 'Craig Robinson', 'Leslie Mann', 'Jon Favreau', 'Justin Long', 'Stephen Root', 'Leslie Bibb', 'Michael Cera', 'David Cross', 'Kathryn Hahn', 'Aziz Ansari', 'Andy Richter', 'Josh Hamilton', 'Diedrich Bader', 'David Koechner', 'Vernon Vaughn', 'Ken Marino', 'Rashida Jones', 'A.D. Miles', 'Jennifer Aniston', 'Faizon Love', 'Thomas Lennon', 'Will Arnett', 'Tony Hale']\n",
      "Cluster 1488.6813186813188: ['Cillian Murphy', 'Michael Caine', 'Christian Bale', 'Morgan Freeman', 'Quentin Tarantino', 'Steve Buscemi', 'Harvey Keitel', 'Paul Calderon', 'Bruce Willis', 'Christopher Walken', 'Roger Rees', 'Billy Bob Thornton', 'Brent Briscoe', 'Jay O. Sanders', 'Ashley Judd', 'Chelcie Ross', 'Kevin James', 'Allen Covert', 'Adam Sandler', 'Jonathan Loughran', 'Rob Schneider', 'Loudon Wainwright III', 'Victor Argo', 'Robert Smigel', 'Benicio del Toro', 'Kevin Nealon', 'Wayne Knight', 'Pam Grier', 'Chris Farley', 'David Spade', 'Peter Dante', 'Maya Rudolph', 'Jon Lovitz', 'Matthew Perry', 'Nick Swardson', 'Blake Clark', 'Henry Winkler', 'Johnny Messner', 'Michael Clarke Duncan', 'Kevin Pollak', 'Carl Weathers', 'James Earl Jones', 'Norm Macdonald', 'Joe Pantoliano', 'Dana Goodman']\n",
      "Cluster 1497.8333333333333: ['Michael G. Hagerty', 'Mike Myers', 'Michael York', 'Rob Lowe', 'Seth Green', 'Mindy Sterling', 'Verne Troyer']\n",
      "Cluster 1537.139534883721: ['Ethan Hawke', 'Julie Delpy', 'Harry Dean Stanton', 'John Lurie', 'John Travolta', 'Thomas Jane', 'Uma Thurman', 'Sam Shepard', 'Dennis Farina', 'Grace Zabriskie', 'James Cromwell', 'John Goodman', 'James Gandolfini', 'Robert Sean Leonard', 'Steve Zahn', 'Jessica Lange', 'Hope Davis', 'Stanley Tucci', 'Mark Ruffalo', 'Jack Nicholson', 'Connor Fielding', 'Devon Bostick', 'Grayson Russell', 'Karan Brar', 'Laine MacNeil', 'Owen Fielding', 'Rachael Harris', 'Robert Capron', 'Zachary Gordon', \"Vincent D'Onofrio\", 'Richard Jenkins', 'Diane Keaton', 'Paz de la Huerta', 'Ann-Margret', 'Kelly Preston', 'Richard Riehle', 'Kirstie Alley', 'Olympia Dukakis']\n",
      "Cluster 1539.125: ['Courteney Cox', 'Jamie Kennedy', 'Liev Schreiber', 'David Arquette', 'Neve Campbell', 'Roger L. Jackson', \"Nancy O'Dell\"]\n",
      "Cluster 1580.8333333333333: ['Emilio Estevez', 'Martin Sheen', 'Demi Moore', 'Joshua Jackson', 'Charlie Sheen', 'Marguerite Moreau']\n",
      "Cluster 1653.3333333333333: ['Dina Meyer', 'Shawnee Smith', 'Tobin Bell', 'Donnie Wahlberg', 'Lyriq Bent', 'Betsy Russell', 'Costas Mandylor']\n",
      "Cluster 1659.108695652174: ['Bill Paxton', 'Lance Henriksen', 'Arnold Schwarzenegger', 'Earl Boen', 'Forest Whitaker', 'Keith David', 'Chris Tucker', \"Tommy 'Tiny' Lister\", 'John C. McGinley', 'Danny DeVito', 'Kathleen Turner', 'Jackie Chan', 'Terrence Howard', 'Larenz Tate', 'Michael Douglas', 'Ice Cube', 'Eddie Murphy', 'Ronny Cox', 'Sven-Ole Thorsen', 'Steven Williams', 'Terry Crews', 'John Witherspoon', 'Snoop Dogg', 'Tracey Walter', 'Chris Rock', 'Tracy Morgan', 'James Woods', 'Anthony Anderson', 'DMX', 'Loretta Devine', 'Anna Faris', 'Regina Hall', 'Cedric the Entertainer', 'Mike Epps', 'DeRay Davis', 'Meagan Good', 'Clifton Powell', 'Katt Williams']\n",
      "Cluster 1879.1818181818182: ['Danny Trejo', 'Salma Hayek', 'Antonio Banderas', 'Cheech Marin', 'Tito Larriva', 'Pedro Armendáriz Jr.', 'Tommy Chong', 'Tony Shalhoub', 'Carla Gugino', 'Daryl Sabara', 'Alan Cumming', 'Alexa Vega']\n",
      "Cluster 1896.3254437869823: ['Cameron Bright', 'Daniel Cudmore', 'Dakota Fanning', 'Kristen Stewart', 'Nikki Reed', 'Sarah Clarke', 'Anna Kendrick', 'Charlie Bewley', 'Ashley Greene', 'Billy Burke', 'Christian Serratos', 'Elizabeth Reaser', 'Gil Birmingham', 'Jackson Rathbone', 'Justin Chon', 'Kellan Lutz', 'Michael Welch', 'Peter Facinelli', 'Robert Pattinson', 'Taylor Lautner']\n",
      "Cluster 2086.4864864864867: ['G. W. Bailey', 'Steve Guttenberg', 'Bubba Smith', 'Scott Thomson', 'David Graf', 'George Gaynes', 'Leslie Easterbrook', 'Michael Winslow', 'Bruce Mahler', 'Marion Ramsey']\n"
     ]
    }
   ],
   "source": [
    "import networkx as nx\n",
    "import community as community_louvain\n",
    "import numpy as np\n",
    "from collections import defaultdict\n",
    "\n",
    "# Create a new NetworkX graph\n",
    "G = nx.Graph()\n",
    "\n",
    "# Add nodes and edges from the DataFrame\n",
    "for _, row in rating_stand.iterrows():\n",
    "    G.add_edge(row['Actor1'], row['Actor2'], weight=row['Count'])\n",
    "\n",
    "# Detect communities (clusters) using the Louvain method\n",
    "partition = community_louvain.best_partition(G, weight='weight')\n",
    "\n",
    "# Group nodes by their cluster\n",
    "clusters = defaultdict(list)\n",
    "for node, cluster_id in partition.items():\n",
    "    clusters[cluster_id].append(node)\n",
    "\n",
    "# Filter clusters with more than 5 nodes\n",
    "large_clusters = {k: v for k, v in clusters.items() if len(v) > 5}\n",
    "\n",
    "# Analysis for each large cluster\n",
    "cluster_averages = {}\n",
    "\n",
    "for cluster_id, nodes in large_clusters.items():\n",
    "    # Extract rows from DataFrame that belong to the current cluster\n",
    "    cluster_rows = rating_stand[(rating_stand['Actor1'].isin(nodes)) | (rating_stand['Actor2'].isin(nodes))]\n",
    "\n",
    "    # Calculate average rank for the cluster\n",
    "    average_rank = cluster_rows['rank'].mean() if not cluster_rows.empty else None\n",
    "\n",
    "    # Store the results\n",
    "    cluster_averages[cluster_id] = {\n",
    "        'actors': nodes,\n",
    "        'average_rank': average_rank\n",
    "    }\n",
    "\n",
    "# Sort clusters by average rank in ascending order\n",
    "sorted_cluster_averages = dict(sorted(cluster_averages.items(), key=lambda item: item[1]['average_rank']))\n",
    "\n",
    "# List to store the cluster analysis results\n",
    "cluster_analysis = []\n",
    "\n",
    "# Add cluster analysis results to the list\n",
    "for cluster_id, info in sorted_cluster_averages.items():\n",
    "    cluster_analysis.append({\n",
    "        'cluster_id': cluster_id,\n",
    "        'actors': info['actors'],\n",
    "        'average_rank': info['average_rank']\n",
    "    })\n",
    "\n",
    "# Print the cluster analysis results\n",
    "for cluster in cluster_analysis:\n",
    "    print(f\"Cluster {cluster['average_rank']}: {cluster['actors']}\")"
   ]
  },
  {
   "cell_type": "markdown",
   "metadata": {},
   "source": [
    "# **MOVIES GENRES**"
   ]
  },
  {
   "cell_type": "code",
   "execution_count": 7,
   "metadata": {},
   "outputs": [
    {
     "name": "stderr",
     "output_type": "stream",
     "text": [
      "Processing clusters: 100%|██████████| 24/24 [02:10<00:00,  5.43s/it]"
     ]
    },
    {
     "name": "stdout",
     "output_type": "stream",
     "text": [
      "Cluster 0:\n",
      "  Average Rank: 306.89230769230767\n",
      "  Fantasy Adventure: 8.16%\n",
      "  Adventure: 14.29%\n",
      "  Monster movie: 2.04%\n",
      "  Thriller: 26.53%\n",
      "  Parody: 10.20%\n",
      "  Horror: 2.04%\n",
      "  Biography: 2.04%\n",
      "  Period piece: 2.04%\n",
      "  Romantic drama: 4.08%\n",
      "  Fantasy: 2.04%\n",
      "  Jukebox musical: 2.04%\n",
      "  Action: 2.04%\n",
      "  Romantic comedy: 2.04%\n",
      "  Science Fiction: 4.08%\n",
      "  Alien Film: 2.04%\n",
      "  Mystery: 2.04%\n",
      "  Sports: 2.04%\n",
      "  Sword and Sandal: 2.04%\n",
      "  LGBT: 2.04%\n",
      "  Crime Fiction: 6.12%\n",
      "\n",
      "Cluster 2:\n",
      "  Average Rank: 431.99604743083006\n",
      "  Thriller: 18.06%\n",
      "  Drama: 4.17%\n",
      "  Fantasy Adventure: 5.56%\n",
      "  Crime Fiction: 9.72%\n",
      "  Adventure: 11.11%\n",
      "  Computer Animation: 2.78%\n",
      "  Costume drama: 4.17%\n",
      "  Romantic comedy: 9.72%\n",
      "  Family Film: 4.17%\n",
      "  Science Fiction: 6.94%\n",
      "  Romantic drama: 2.78%\n",
      "  Other Genres: 20.83%\n",
      "\n",
      "Cluster 3:\n",
      "  Average Rank: 768.2708333333334\n",
      "  Coming of age: 2.86%\n",
      "  History: 2.86%\n",
      "  Crime Fiction: 11.43%\n",
      "  Buddy film: 2.86%\n",
      "  Adventure: 25.71%\n",
      "  Romantic comedy: 20.00%\n",
      "  Adventure Comedy: 2.86%\n",
      "  Thriller: 5.71%\n",
      "  Parody: 5.71%\n",
      "  Mystery: 2.86%\n",
      "  Holiday Film: 2.86%\n",
      "  Fantasy Comedy: 2.86%\n",
      "  Family Film: 2.86%\n",
      "  Science Fiction: 2.86%\n",
      "  Sports: 2.86%\n",
      "  Black comedy: 2.86%\n",
      "\n",
      "Cluster 13:\n",
      "  Average Rank: 951.8333333333334\n",
      "  Drama: 5.00%\n",
      "  Thriller: 33.57%\n",
      "  Crime Fiction: 12.86%\n",
      "  Parody: 3.57%\n",
      "  LGBT: 2.86%\n",
      "  Action/Adventure: 2.86%\n",
      "  Romantic comedy: 10.00%\n",
      "  Sports: 6.43%\n",
      "  Adventure: 2.14%\n",
      "  Other Genres: 20.71%\n",
      "\n",
      "Cluster 10:\n",
      "  Average Rank: 1026.1818181818182\n",
      "  Thriller: 24.69%\n",
      "  Crime Fiction: 16.05%\n",
      "  Romantic comedy: 20.99%\n",
      "  Drama: 7.41%\n",
      "  Road movie: 2.47%\n",
      "  Parody: 3.70%\n",
      "  Buddy film: 3.70%\n",
      "  Ensemble Film: 3.70%\n",
      "  Sports: 3.70%\n",
      "  Other Genres: 13.58%\n",
      "\n",
      "Cluster 12:\n",
      "  Average Rank: 1078.7121212121212\n",
      "  LGBT: 4.37%\n",
      "  Drama: 6.31%\n",
      "  Thriller: 24.76%\n",
      "  Crime Fiction: 16.02%\n",
      "  Indie: 2.43%\n",
      "  Biography: 3.88%\n",
      "  Parody: 4.37%\n",
      "  Romantic comedy: 7.28%\n",
      "  Sports: 2.43%\n",
      "  Action/Adventure: 3.40%\n",
      "  Other Genres: 24.76%\n",
      "\n",
      "Cluster 15:\n",
      "  Average Rank: 1131.888888888889\n",
      "  Adventure: 12.50%\n",
      "  Crime Fiction: 12.50%\n",
      "  Tragedy: 6.25%\n",
      "  Thriller: 31.25%\n",
      "  Computer Animation: 6.25%\n",
      "  Musical: 6.25%\n",
      "  Romantic comedy: 6.25%\n",
      "  Parody: 6.25%\n",
      "  Science Fiction: 12.50%\n",
      "\n",
      "Cluster 51:\n",
      "  Average Rank: 1165.0\n",
      "  Science Fiction: 33.33%\n",
      "  Time travel: 16.67%\n",
      "  Thriller: 33.33%\n",
      "  Western: 16.67%\n",
      "\n",
      "Cluster 69:\n",
      "  Average Rank: 1260.377358490566\n",
      "  Thriller: 20.00%\n",
      "  Romantic comedy: 14.63%\n",
      "  Crime Fiction: 10.73%\n",
      "  Drama: 5.85%\n",
      "  Parody: 6.34%\n",
      "  Adventure: 4.88%\n",
      "  Ensemble Film: 3.41%\n",
      "  LGBT: 2.93%\n",
      "  Other Genres: 31.22%\n",
      "\n",
      "Cluster 62:\n",
      "  Average Rank: 1276.0\n",
      "  Adventure: 66.67%\n",
      "  Family Film: 33.33%\n",
      "\n",
      "Cluster 73:\n",
      "  Average Rank: 1288.070796460177\n",
      "  Thriller: 11.85%\n",
      "  Crime Fiction: 9.12%\n",
      "  Romantic comedy: 13.98%\n",
      "  Drama: 5.47%\n",
      "  Parody: 11.25%\n",
      "  Black comedy: 3.04%\n",
      "  Adventure: 4.86%\n",
      "  Science Fiction: 2.74%\n",
      "  Sports: 2.13%\n",
      "  Family Film: 3.04%\n",
      "  Comedy: 2.74%\n",
      "  Other Genres: 29.79%\n",
      "\n",
      "Cluster 18:\n",
      "  Average Rank: 1296.5405405405406\n",
      "  Science Fiction: 8.94%\n",
      "  Family Film: 8.13%\n",
      "  Adventure: 15.45%\n",
      "  Parody: 6.50%\n",
      "  Thriller: 13.82%\n",
      "  Romantic comedy: 9.76%\n",
      "  Fantasy Adventure: 2.44%\n",
      "  Crime Fiction: 6.50%\n",
      "  Drama: 4.07%\n",
      "  LGBT: 2.44%\n",
      "  Costume drama: 2.44%\n",
      "  Other Genres: 19.51%\n",
      "\n",
      "Cluster 39:\n",
      "  Average Rank: 1360.6153846153845\n",
      "  Romantic comedy: 15.38%\n",
      "  Drama: 7.69%\n",
      "  Thriller: 53.85%\n",
      "  Action/Adventure: 7.69%\n",
      "  Biographical film: 7.69%\n",
      "  Adventure: 7.69%\n",
      "\n",
      "Cluster 31:\n",
      "  Average Rank: 1411.5121951219512\n",
      "  Romantic comedy: 24.29%\n",
      "  Adventure: 5.08%\n",
      "  Parody: 12.43%\n",
      "  Crime Fiction: 6.78%\n",
      "  Thriller: 5.65%\n",
      "  Sports: 4.52%\n",
      "  Comedy: 5.65%\n",
      "  Computer Animation: 2.26%\n",
      "  Science Fiction: 3.39%\n",
      "  Romance Film: 2.82%\n",
      "  Drama: 3.39%\n",
      "  Action/Adventure: 2.26%\n",
      "  Other Genres: 21.47%\n",
      "\n",
      "Cluster 61:\n",
      "  Average Rank: 1497.8333333333333\n",
      "  Buddy film: 10.00%\n",
      "  Romantic comedy: 20.00%\n",
      "  Parody: 30.00%\n",
      "  LGBT: 20.00%\n",
      "  Crime Fiction: 10.00%\n",
      "  Science Fiction: 10.00%\n",
      "\n",
      "Cluster 42:\n",
      "  Average Rank: 1518.407894736842\n",
      "  Crime Fiction: 15.33%\n",
      "  Thriller: 21.90%\n",
      "  Action/Adventure: 2.19%\n",
      "  Romantic comedy: 13.87%\n",
      "  Biography: 2.92%\n",
      "  Black comedy: 2.92%\n",
      "  Comedy: 2.19%\n",
      "  Adventure: 3.65%\n",
      "  Drama: 2.92%\n",
      "  Science Fiction: 2.92%\n",
      "  Sports: 2.19%\n",
      "  Fantasy Comedy: 2.19%\n",
      "  Parody: 2.19%\n",
      "  Other Genres: 22.63%\n",
      "\n",
      "Cluster 82:\n",
      "  Average Rank: 1539.125\n",
      "  Parody: 40.00%\n",
      "  Crime Fiction: 40.00%\n",
      "  Thriller: 20.00%\n",
      "\n",
      "Cluster 40:\n",
      "  Average Rank: 1547.1066666666666\n",
      "  Ensemble Film: 5.60%\n",
      "  Romantic comedy: 16.00%\n",
      "  Thriller: 24.00%\n",
      "  Crime Fiction: 17.60%\n",
      "  Drama: 8.80%\n",
      "  Family Film: 3.20%\n",
      "  Biography: 2.40%\n",
      "  Other Genres: 22.40%\n",
      "\n",
      "Cluster 38:\n",
      "  Average Rank: 1580.8333333333333\n",
      "  History: 7.69%\n",
      "  Drama: 23.08%\n",
      "  Anti-war: 7.69%\n",
      "  Crime Fiction: 15.38%\n",
      "  Children's/Family: 7.69%\n",
      "  Sports: 15.38%\n",
      "  Thriller: 15.38%\n",
      "  Parody: 7.69%\n",
      "\n",
      "Cluster 46:\n",
      "  Average Rank: 1641.6097560975609\n",
      "  Thriller: 18.32%\n",
      "  Cult: 2.29%\n",
      "  Crime Fiction: 22.90%\n",
      "  Buddy film: 3.05%\n",
      "  Romantic comedy: 8.40%\n",
      "  Adventure: 5.34%\n",
      "  Science Fiction: 2.29%\n",
      "  Drama: 2.29%\n",
      "  Comedy: 3.82%\n",
      "  Family Film: 3.82%\n",
      "  Black comedy: 3.05%\n",
      "  Parody: 3.05%\n",
      "  Other Genres: 21.37%\n",
      "\n",
      "Cluster 72:\n",
      "  Average Rank: 1653.3333333333333\n",
      "  Thriller: 71.43%\n",
      "  Crime Fiction: 28.57%\n",
      "\n",
      "Cluster 79:\n",
      "  Average Rank: 1896.3254437869823\n",
      "  Thriller: 50.00%\n",
      "  Drama: 12.50%\n",
      "  Punk rock: 12.50%\n",
      "  Adventure: 12.50%\n",
      "  LGBT: 12.50%\n",
      "\n",
      "Cluster 49:\n",
      "  Average Rank: 1901.1904761904761\n",
      "  Crime Fiction: 6.06%\n",
      "  Thriller: 21.21%\n",
      "  Science Fiction: 12.12%\n",
      "  Cult: 15.15%\n",
      "  Comedy: 6.06%\n",
      "  Biography: 3.03%\n",
      "  Adventure: 9.09%\n",
      "  Swashbuckler films: 6.06%\n",
      "  Romantic comedy: 3.03%\n",
      "  Parody: 9.09%\n",
      "  Indie: 3.03%\n",
      "  Stoner film: 3.03%\n",
      "  Buddy film: 3.03%\n",
      "\n",
      "Cluster 104:\n",
      "  Average Rank: 2086.4864864864867\n",
      "  Crime Fiction: 25.00%\n",
      "  Action/Adventure: 75.00%\n",
      "\n"
     ]
    },
    {
     "name": "stderr",
     "output_type": "stream",
     "text": [
      "\n"
     ]
    }
   ],
   "source": [
    "import itertools\n",
    "from collections import defaultdict, Counter\n",
    "from tqdm import tqdm\n",
    "\n",
    "# Create a dictionary to store movie genre counts and average rank for each cluster\n",
    "cluster_info = defaultdict(lambda: {'movie_genre_counts': defaultdict(int), 'total_movie_count': 0, 'average_rank': 0})\n",
    "\n",
    "for cluster_id, actors in tqdm(large_clusters.items(), desc='Processing clusters'):\n",
    "    # Find all unique pairs of actors within this cluster\n",
    "    actor_pairs = list(itertools.combinations(actors, 2))\n",
    "    \n",
    "    # A set to keep track of movies we've already counted for this cluster to avoid duplicates\n",
    "    movies_counted = set()\n",
    "    \n",
    "    for actor1, actor2 in actor_pairs:\n",
    "        # Get the movies both actors appeared in together\n",
    "        movies_actor1 = set(df[df['Actor_name'] == actor1]['Movie_name'])\n",
    "        movies_actor2 = set(df[df['Actor_name'] == actor2]['Movie_name'])\n",
    "        movies_together = movies_actor1.intersection(movies_actor2)\n",
    "        \n",
    "        # Filter out movies that have already been counted for this cluster\n",
    "        unique_movies_together = movies_together - movies_counted\n",
    "        movies_counted.update(unique_movies_together)\n",
    "        \n",
    "        # Count the genres from these movies\n",
    "        for movie in unique_movies_together:\n",
    "            movie_genres = df[df['Movie_name'] == movie]['Main_genre'].unique()\n",
    "            for genre in movie_genres:\n",
    "                cluster_info[cluster_id]['movie_genre_counts'][genre] += 1\n",
    "    \n",
    "    # Update the total movie count for the cluster\n",
    "    cluster_info[cluster_id]['total_movie_count'] = sum(cluster_info[cluster_id]['movie_genre_counts'].values())\n",
    "    \n",
    "    # Calculate average rank for the cluster using movie genres\n",
    "    cluster_rows = rating_stand[rating_stand['Actor1'].isin(actors) & rating_stand['Actor2'].isin(actors)]\n",
    "    average_rank = cluster_rows['rank'].mean() if not cluster_rows.empty else None\n",
    "    cluster_info[cluster_id]['average_rank'] = average_rank\n",
    "\n",
    "# Sort the clusters by average rank in ascending order\n",
    "sorted_clusters = sorted(cluster_info.items(), key=lambda item: item[1]['average_rank'] if item[1]['average_rank'] is not None else float('inf'))\n",
    "\n",
    "# Convert the counts to ratios and merge small genres into \"Other Genres\"\n",
    "for cluster_id, info in cluster_info.items():\n",
    "    total_movies = info['total_movie_count']\n",
    "    other_genres_count = 0\n",
    "\n",
    "    if total_movies > 0:\n",
    "        # Calculate ratios and find genres to be merged\n",
    "        genres_to_merge = []\n",
    "        for genre, count in info['movie_genre_counts'].items():\n",
    "            ratio = count / total_movies\n",
    "            if ratio < 0.02:  # If the ratio is less than 2%\n",
    "                other_genres_count += count\n",
    "                genres_to_merge.append(genre)\n",
    "\n",
    "        # Remove genres that are merged into \"Other Genres\"\n",
    "        for genre in genres_to_merge:\n",
    "            del info['movie_genre_counts'][genre]\n",
    "\n",
    "        # If there are any 'Other Genres', add them to the dictionary\n",
    "        if other_genres_count > 0:\n",
    "            info['movie_genre_counts']['Other Genres'] = other_genres_count\n",
    "\n",
    "        # Finally, convert the counts to ratios\n",
    "        for genre in info['movie_genre_counts']:\n",
    "            info['movie_genre_counts'][genre] /= total_movies\n",
    "\n",
    "# Now you can print the sorted clusters with their genre ratios and average rank\n",
    "for cluster_id, info in sorted_clusters:\n",
    "    print(f\"Cluster {cluster_id}:\")\n",
    "    print(f\"  Average Rank: {info['average_rank']}\")\n",
    "    if info['total_movie_count'] > 0:\n",
    "        for genre, ratio in info['movie_genre_counts'].items():\n",
    "            print(f\"  {genre}: {ratio:.2%}\")  # Updated to display as percentage\n",
    "    print()"
   ]
  },
  {
   "cell_type": "markdown",
   "metadata": {},
   "source": [
    "### **Dashapp code but cannot be used for the website**"
   ]
  },
  {
   "cell_type": "code",
   "execution_count": 8,
   "metadata": {},
   "outputs": [
    {
     "data": {
      "text/html": [
       "\n",
       "        <iframe\n",
       "            width=\"100%\"\n",
       "            height=\"650\"\n",
       "            src=\"http://127.0.0.1:8050/\"\n",
       "            frameborder=\"0\"\n",
       "            allowfullscreen\n",
       "            \n",
       "        ></iframe>\n",
       "        "
      ],
      "text/plain": [
       "<IPython.lib.display.IFrame at 0x14634f220>"
      ]
     },
     "metadata": {},
     "output_type": "display_data"
    }
   ],
   "source": [
    "import dash\n",
    "from dash import dcc, html, Input, Output\n",
    "import plotly.graph_objs as go\n",
    "\n",
    "# Assuming `cluster_info` is updated as per your latest structure...\n",
    "\n",
    "# Initialize the Dash app\n",
    "app = dash.Dash(__name__)\n",
    "\n",
    "# Sort clusters by average rank in ascending order and prepare data for plotting\n",
    "sorted_cluster_ids = sorted(cluster_info, key=lambda x: cluster_info[x]['average_rank'] or float('inf'))\n",
    "cluster_ids = [f\"Cluster {cluster_id}\" for cluster_id in sorted_cluster_ids]\n",
    "average_ranks = [round(cluster_info[cluster_id]['average_rank']) for cluster_id in sorted_cluster_ids]\n",
    "\n",
    "# Create the bar chart\n",
    "bar_chart = go.Figure(data=[\n",
    "    go.Bar(x=cluster_ids, y=average_ranks, name='Average Rank')\n",
    "])\n",
    "\n",
    "# App layout with the pie chart to the right of the bar chart\n",
    "app.layout = html.Div([\n",
    "    dcc.Graph(id='bar-chart', figure=bar_chart),\n",
    "    dcc.Graph(id='pie-chart'),\n",
    "], style={'display': 'flex'})\n",
    "\n",
    "# Callback for updating pie-chart based on clicked bar\n",
    "@app.callback(\n",
    "    Output('pie-chart', 'figure'),\n",
    "    [Input('bar-chart', 'clickData')]\n",
    ")\n",
    "def display_click_data(clickData):\n",
    "    if clickData:\n",
    "        # Extract the cluster id from the clicked point\n",
    "        cluster_id = int(clickData['points'][0]['x'].split()[1])\n",
    "        # Update the dictionary key to 'movie_genre_counts'\n",
    "        genres = list(cluster_info[cluster_id]['movie_genre_counts'].keys())\n",
    "        counts = list(cluster_info[cluster_id]['movie_genre_counts'].values())\n",
    "        # Normalize the counts to ratios\n",
    "        total = sum(counts)\n",
    "        ratios = [count / total for count in counts]\n",
    "        # Create the pie chart based on the selected cluster\n",
    "        pie_chart = go.Figure(data=[go.Pie(labels=genres, values=ratios)])\n",
    "        return pie_chart\n",
    "    else:\n",
    "        # If no bar is clicked yet, return an empty figure\n",
    "        return go.Figure()\n",
    "\n",
    "# Save the bar chart as an HTML file   \n",
    "bar_chart.write_html(\"../plots/plot_movies_q5.html\")\n",
    "\n",
    "# Run the Dash app\n",
    "if __name__ == '__main__':\n",
    "    app.run_server(debug=True)"
   ]
  },
  {
   "cell_type": "markdown",
   "metadata": {},
   "source": [
    "## **This code can be used for website**"
   ]
  },
  {
   "cell_type": "code",
   "execution_count": 9,
   "metadata": {},
   "outputs": [
    {
     "data": {
      "application/vnd.jupyter.widget-view+json": {
       "model_id": "0f0e76e86f2246de968f30e0acc5a312",
       "version_major": 2,
       "version_minor": 0
      },
      "text/plain": [
       "Dropdown(description='Select Cluster:', options=('Cluster 0', 'Cluster 2', 'Cluster 3', 'Cluster 13', 'Cluster…"
      ]
     },
     "metadata": {},
     "output_type": "display_data"
    },
    {
     "data": {
      "application/vnd.plotly.v1+json": {
       "config": {
        "plotlyServerURL": "https://plot.ly"
       },
       "data": [
        {
         "name": "Average Rank",
         "type": "bar",
         "x": [
          "Cluster 0",
          "Cluster 2",
          "Cluster 3",
          "Cluster 13",
          "Cluster 10",
          "Cluster 12",
          "Cluster 15",
          "Cluster 51",
          "Cluster 69",
          "Cluster 62",
          "Cluster 73",
          "Cluster 18",
          "Cluster 39",
          "Cluster 31",
          "Cluster 61",
          "Cluster 42",
          "Cluster 82",
          "Cluster 40",
          "Cluster 38",
          "Cluster 46",
          "Cluster 72",
          "Cluster 79",
          "Cluster 49",
          "Cluster 104"
         ],
         "y": [
          307,
          432,
          768,
          952,
          1026,
          1079,
          1132,
          1165,
          1260,
          1276,
          1288,
          1297,
          1361,
          1412,
          1498,
          1518,
          1539,
          1547,
          1581,
          1642,
          1653,
          1896,
          1901,
          2086
         ]
        }
       ],
       "layout": {
        "clickmode": "event+select",
        "template": {
         "data": {
          "bar": [
           {
            "error_x": {
             "color": "#2a3f5f"
            },
            "error_y": {
             "color": "#2a3f5f"
            },
            "marker": {
             "line": {
              "color": "#E5ECF6",
              "width": 0.5
             },
             "pattern": {
              "fillmode": "overlay",
              "size": 10,
              "solidity": 0.2
             }
            },
            "type": "bar"
           }
          ],
          "barpolar": [
           {
            "marker": {
             "line": {
              "color": "#E5ECF6",
              "width": 0.5
             },
             "pattern": {
              "fillmode": "overlay",
              "size": 10,
              "solidity": 0.2
             }
            },
            "type": "barpolar"
           }
          ],
          "carpet": [
           {
            "aaxis": {
             "endlinecolor": "#2a3f5f",
             "gridcolor": "white",
             "linecolor": "white",
             "minorgridcolor": "white",
             "startlinecolor": "#2a3f5f"
            },
            "baxis": {
             "endlinecolor": "#2a3f5f",
             "gridcolor": "white",
             "linecolor": "white",
             "minorgridcolor": "white",
             "startlinecolor": "#2a3f5f"
            },
            "type": "carpet"
           }
          ],
          "choropleth": [
           {
            "colorbar": {
             "outlinewidth": 0,
             "ticks": ""
            },
            "type": "choropleth"
           }
          ],
          "contour": [
           {
            "colorbar": {
             "outlinewidth": 0,
             "ticks": ""
            },
            "colorscale": [
             [
              0,
              "#0d0887"
             ],
             [
              0.1111111111111111,
              "#46039f"
             ],
             [
              0.2222222222222222,
              "#7201a8"
             ],
             [
              0.3333333333333333,
              "#9c179e"
             ],
             [
              0.4444444444444444,
              "#bd3786"
             ],
             [
              0.5555555555555556,
              "#d8576b"
             ],
             [
              0.6666666666666666,
              "#ed7953"
             ],
             [
              0.7777777777777778,
              "#fb9f3a"
             ],
             [
              0.8888888888888888,
              "#fdca26"
             ],
             [
              1,
              "#f0f921"
             ]
            ],
            "type": "contour"
           }
          ],
          "contourcarpet": [
           {
            "colorbar": {
             "outlinewidth": 0,
             "ticks": ""
            },
            "type": "contourcarpet"
           }
          ],
          "heatmap": [
           {
            "colorbar": {
             "outlinewidth": 0,
             "ticks": ""
            },
            "colorscale": [
             [
              0,
              "#0d0887"
             ],
             [
              0.1111111111111111,
              "#46039f"
             ],
             [
              0.2222222222222222,
              "#7201a8"
             ],
             [
              0.3333333333333333,
              "#9c179e"
             ],
             [
              0.4444444444444444,
              "#bd3786"
             ],
             [
              0.5555555555555556,
              "#d8576b"
             ],
             [
              0.6666666666666666,
              "#ed7953"
             ],
             [
              0.7777777777777778,
              "#fb9f3a"
             ],
             [
              0.8888888888888888,
              "#fdca26"
             ],
             [
              1,
              "#f0f921"
             ]
            ],
            "type": "heatmap"
           }
          ],
          "heatmapgl": [
           {
            "colorbar": {
             "outlinewidth": 0,
             "ticks": ""
            },
            "colorscale": [
             [
              0,
              "#0d0887"
             ],
             [
              0.1111111111111111,
              "#46039f"
             ],
             [
              0.2222222222222222,
              "#7201a8"
             ],
             [
              0.3333333333333333,
              "#9c179e"
             ],
             [
              0.4444444444444444,
              "#bd3786"
             ],
             [
              0.5555555555555556,
              "#d8576b"
             ],
             [
              0.6666666666666666,
              "#ed7953"
             ],
             [
              0.7777777777777778,
              "#fb9f3a"
             ],
             [
              0.8888888888888888,
              "#fdca26"
             ],
             [
              1,
              "#f0f921"
             ]
            ],
            "type": "heatmapgl"
           }
          ],
          "histogram": [
           {
            "marker": {
             "pattern": {
              "fillmode": "overlay",
              "size": 10,
              "solidity": 0.2
             }
            },
            "type": "histogram"
           }
          ],
          "histogram2d": [
           {
            "colorbar": {
             "outlinewidth": 0,
             "ticks": ""
            },
            "colorscale": [
             [
              0,
              "#0d0887"
             ],
             [
              0.1111111111111111,
              "#46039f"
             ],
             [
              0.2222222222222222,
              "#7201a8"
             ],
             [
              0.3333333333333333,
              "#9c179e"
             ],
             [
              0.4444444444444444,
              "#bd3786"
             ],
             [
              0.5555555555555556,
              "#d8576b"
             ],
             [
              0.6666666666666666,
              "#ed7953"
             ],
             [
              0.7777777777777778,
              "#fb9f3a"
             ],
             [
              0.8888888888888888,
              "#fdca26"
             ],
             [
              1,
              "#f0f921"
             ]
            ],
            "type": "histogram2d"
           }
          ],
          "histogram2dcontour": [
           {
            "colorbar": {
             "outlinewidth": 0,
             "ticks": ""
            },
            "colorscale": [
             [
              0,
              "#0d0887"
             ],
             [
              0.1111111111111111,
              "#46039f"
             ],
             [
              0.2222222222222222,
              "#7201a8"
             ],
             [
              0.3333333333333333,
              "#9c179e"
             ],
             [
              0.4444444444444444,
              "#bd3786"
             ],
             [
              0.5555555555555556,
              "#d8576b"
             ],
             [
              0.6666666666666666,
              "#ed7953"
             ],
             [
              0.7777777777777778,
              "#fb9f3a"
             ],
             [
              0.8888888888888888,
              "#fdca26"
             ],
             [
              1,
              "#f0f921"
             ]
            ],
            "type": "histogram2dcontour"
           }
          ],
          "mesh3d": [
           {
            "colorbar": {
             "outlinewidth": 0,
             "ticks": ""
            },
            "type": "mesh3d"
           }
          ],
          "parcoords": [
           {
            "line": {
             "colorbar": {
              "outlinewidth": 0,
              "ticks": ""
             }
            },
            "type": "parcoords"
           }
          ],
          "pie": [
           {
            "automargin": true,
            "type": "pie"
           }
          ],
          "scatter": [
           {
            "fillpattern": {
             "fillmode": "overlay",
             "size": 10,
             "solidity": 0.2
            },
            "type": "scatter"
           }
          ],
          "scatter3d": [
           {
            "line": {
             "colorbar": {
              "outlinewidth": 0,
              "ticks": ""
             }
            },
            "marker": {
             "colorbar": {
              "outlinewidth": 0,
              "ticks": ""
             }
            },
            "type": "scatter3d"
           }
          ],
          "scattercarpet": [
           {
            "marker": {
             "colorbar": {
              "outlinewidth": 0,
              "ticks": ""
             }
            },
            "type": "scattercarpet"
           }
          ],
          "scattergeo": [
           {
            "marker": {
             "colorbar": {
              "outlinewidth": 0,
              "ticks": ""
             }
            },
            "type": "scattergeo"
           }
          ],
          "scattergl": [
           {
            "marker": {
             "colorbar": {
              "outlinewidth": 0,
              "ticks": ""
             }
            },
            "type": "scattergl"
           }
          ],
          "scattermapbox": [
           {
            "marker": {
             "colorbar": {
              "outlinewidth": 0,
              "ticks": ""
             }
            },
            "type": "scattermapbox"
           }
          ],
          "scatterpolar": [
           {
            "marker": {
             "colorbar": {
              "outlinewidth": 0,
              "ticks": ""
             }
            },
            "type": "scatterpolar"
           }
          ],
          "scatterpolargl": [
           {
            "marker": {
             "colorbar": {
              "outlinewidth": 0,
              "ticks": ""
             }
            },
            "type": "scatterpolargl"
           }
          ],
          "scatterternary": [
           {
            "marker": {
             "colorbar": {
              "outlinewidth": 0,
              "ticks": ""
             }
            },
            "type": "scatterternary"
           }
          ],
          "surface": [
           {
            "colorbar": {
             "outlinewidth": 0,
             "ticks": ""
            },
            "colorscale": [
             [
              0,
              "#0d0887"
             ],
             [
              0.1111111111111111,
              "#46039f"
             ],
             [
              0.2222222222222222,
              "#7201a8"
             ],
             [
              0.3333333333333333,
              "#9c179e"
             ],
             [
              0.4444444444444444,
              "#bd3786"
             ],
             [
              0.5555555555555556,
              "#d8576b"
             ],
             [
              0.6666666666666666,
              "#ed7953"
             ],
             [
              0.7777777777777778,
              "#fb9f3a"
             ],
             [
              0.8888888888888888,
              "#fdca26"
             ],
             [
              1,
              "#f0f921"
             ]
            ],
            "type": "surface"
           }
          ],
          "table": [
           {
            "cells": {
             "fill": {
              "color": "#EBF0F8"
             },
             "line": {
              "color": "white"
             }
            },
            "header": {
             "fill": {
              "color": "#C8D4E3"
             },
             "line": {
              "color": "white"
             }
            },
            "type": "table"
           }
          ]
         },
         "layout": {
          "annotationdefaults": {
           "arrowcolor": "#2a3f5f",
           "arrowhead": 0,
           "arrowwidth": 1
          },
          "autotypenumbers": "strict",
          "coloraxis": {
           "colorbar": {
            "outlinewidth": 0,
            "ticks": ""
           }
          },
          "colorscale": {
           "diverging": [
            [
             0,
             "#8e0152"
            ],
            [
             0.1,
             "#c51b7d"
            ],
            [
             0.2,
             "#de77ae"
            ],
            [
             0.3,
             "#f1b6da"
            ],
            [
             0.4,
             "#fde0ef"
            ],
            [
             0.5,
             "#f7f7f7"
            ],
            [
             0.6,
             "#e6f5d0"
            ],
            [
             0.7,
             "#b8e186"
            ],
            [
             0.8,
             "#7fbc41"
            ],
            [
             0.9,
             "#4d9221"
            ],
            [
             1,
             "#276419"
            ]
           ],
           "sequential": [
            [
             0,
             "#0d0887"
            ],
            [
             0.1111111111111111,
             "#46039f"
            ],
            [
             0.2222222222222222,
             "#7201a8"
            ],
            [
             0.3333333333333333,
             "#9c179e"
            ],
            [
             0.4444444444444444,
             "#bd3786"
            ],
            [
             0.5555555555555556,
             "#d8576b"
            ],
            [
             0.6666666666666666,
             "#ed7953"
            ],
            [
             0.7777777777777778,
             "#fb9f3a"
            ],
            [
             0.8888888888888888,
             "#fdca26"
            ],
            [
             1,
             "#f0f921"
            ]
           ],
           "sequentialminus": [
            [
             0,
             "#0d0887"
            ],
            [
             0.1111111111111111,
             "#46039f"
            ],
            [
             0.2222222222222222,
             "#7201a8"
            ],
            [
             0.3333333333333333,
             "#9c179e"
            ],
            [
             0.4444444444444444,
             "#bd3786"
            ],
            [
             0.5555555555555556,
             "#d8576b"
            ],
            [
             0.6666666666666666,
             "#ed7953"
            ],
            [
             0.7777777777777778,
             "#fb9f3a"
            ],
            [
             0.8888888888888888,
             "#fdca26"
            ],
            [
             1,
             "#f0f921"
            ]
           ]
          },
          "colorway": [
           "#636efa",
           "#EF553B",
           "#00cc96",
           "#ab63fa",
           "#FFA15A",
           "#19d3f3",
           "#FF6692",
           "#B6E880",
           "#FF97FF",
           "#FECB52"
          ],
          "font": {
           "color": "#2a3f5f"
          },
          "geo": {
           "bgcolor": "white",
           "lakecolor": "white",
           "landcolor": "#E5ECF6",
           "showlakes": true,
           "showland": true,
           "subunitcolor": "white"
          },
          "hoverlabel": {
           "align": "left"
          },
          "hovermode": "closest",
          "mapbox": {
           "style": "light"
          },
          "paper_bgcolor": "white",
          "plot_bgcolor": "#E5ECF6",
          "polar": {
           "angularaxis": {
            "gridcolor": "white",
            "linecolor": "white",
            "ticks": ""
           },
           "bgcolor": "#E5ECF6",
           "radialaxis": {
            "gridcolor": "white",
            "linecolor": "white",
            "ticks": ""
           }
          },
          "scene": {
           "xaxis": {
            "backgroundcolor": "#E5ECF6",
            "gridcolor": "white",
            "gridwidth": 2,
            "linecolor": "white",
            "showbackground": true,
            "ticks": "",
            "zerolinecolor": "white"
           },
           "yaxis": {
            "backgroundcolor": "#E5ECF6",
            "gridcolor": "white",
            "gridwidth": 2,
            "linecolor": "white",
            "showbackground": true,
            "ticks": "",
            "zerolinecolor": "white"
           },
           "zaxis": {
            "backgroundcolor": "#E5ECF6",
            "gridcolor": "white",
            "gridwidth": 2,
            "linecolor": "white",
            "showbackground": true,
            "ticks": "",
            "zerolinecolor": "white"
           }
          },
          "shapedefaults": {
           "line": {
            "color": "#2a3f5f"
           }
          },
          "ternary": {
           "aaxis": {
            "gridcolor": "white",
            "linecolor": "white",
            "ticks": ""
           },
           "baxis": {
            "gridcolor": "white",
            "linecolor": "white",
            "ticks": ""
           },
           "bgcolor": "#E5ECF6",
           "caxis": {
            "gridcolor": "white",
            "linecolor": "white",
            "ticks": ""
           }
          },
          "title": {
           "x": 0.05
          },
          "xaxis": {
           "automargin": true,
           "gridcolor": "white",
           "linecolor": "white",
           "ticks": "",
           "title": {
            "standoff": 15
           },
           "zerolinecolor": "white",
           "zerolinewidth": 2
          },
          "yaxis": {
           "automargin": true,
           "gridcolor": "white",
           "linecolor": "white",
           "ticks": "",
           "title": {
            "standoff": 15
           },
           "zerolinecolor": "white",
           "zerolinewidth": 2
          }
         }
        }
       }
      }
     },
     "metadata": {},
     "output_type": "display_data"
    },
    {
     "data": {
      "application/vnd.jupyter.widget-view+json": {
       "model_id": "0fabe9e52a834fcdb2718ea0e4ef5911",
       "version_major": 2,
       "version_minor": 0
      },
      "text/plain": [
       "FigureWidget({\n",
       "    'data': [], 'layout': {'template': '...'}\n",
       "})"
      ]
     },
     "metadata": {},
     "output_type": "display_data"
    }
   ],
   "source": [
    "import ipywidgets as widgets\n",
    "import plotly.graph_objs as go\n",
    "from IPython.display import display\n",
    "\n",
    "# Assuming `cluster_info` is updated as per your latest structure...\n",
    "\n",
    "# Prepare data for plotting\n",
    "sorted_cluster_ids = sorted(cluster_info, key=lambda x: cluster_info[x]['average_rank'] or float('inf'))\n",
    "cluster_ids = [f\"Cluster {cluster_id}\" for cluster_id in sorted_cluster_ids]\n",
    "average_ranks = [round(cluster_info[cluster_id]['average_rank']) for cluster_id in sorted_cluster_ids]\n",
    "\n",
    "# Create the bar chart\n",
    "bar_chart = go.Figure(data=[\n",
    "    go.Bar(x=cluster_ids, y=average_ranks, name='Average Rank')\n",
    "])\n",
    "bar_chart.update_layout(clickmode='event+select')\n",
    "\n",
    "# Initialize the pie chart\n",
    "pie_chart = go.FigureWidget()\n",
    "\n",
    "# Function to update pie chart based on selected bar\n",
    "def update_pie_chart(change):\n",
    "    cluster_id_str = change['new']  # Corrected to access the 'new' value from the change dictionary\n",
    "    if cluster_id_str:\n",
    "        cluster_id = int(cluster_id_str.split()[1])\n",
    "        genres = list(cluster_info[cluster_id]['movie_genre_counts'].keys())\n",
    "        counts = list(cluster_info[cluster_id]['movie_genre_counts'].values())\n",
    "\n",
    "        # Normalize the counts to ratios\n",
    "        total = sum(counts)\n",
    "        ratios = [count / total for count in counts]\n",
    "\n",
    "        # Update the pie chart\n",
    "        pie_chart.data = []\n",
    "        pie_chart.add_trace(go.Pie(labels=genres, values=ratios))\n",
    "\n",
    "# Interactive widget for selecting bar\n",
    "bar_select = widgets.Dropdown(\n",
    "    options=cluster_ids,\n",
    "    description='Select Cluster:',\n",
    "    disabled=False,\n",
    ")\n",
    "bar_select.observe(update_pie_chart, names='value')\n",
    "\n",
    "# Display widgets and initial charts\n",
    "display(bar_select)\n",
    "display(bar_chart)\n",
    "display(pie_chart)"
   ]
  },
  {
   "cell_type": "code",
   "execution_count": 29,
   "metadata": {},
   "outputs": [
    {
     "name": "stdout",
     "output_type": "stream",
     "text": [
      "Genre: Children's/Family\n",
      "  T-statistic: 0.31108397462319104, P-value: 0.7682882721761619\n",
      "\n",
      "Genre: Anti-war\n",
      "  T-statistic: -0.21715728148527474, P-value: 0.8482255070493716\n",
      "\n",
      "Genre: Sports\n",
      "  T-statistic: -0.8043495033589552, P-value: 0.438233666774269\n",
      "\n",
      "Genre: Biographical film\n",
      "  T-statistic: 0.007845715891245164, P-value: 0.9941157885405132\n",
      "\n",
      "Genre: Comedy-drama\n",
      "  T-statistic: -0.049311666992489976, P-value: 0.9651525635523521\n",
      "\n",
      "Genre: Buddy film\n",
      "  T-statistic: -0.24011451565207556, P-value: 0.818234732107234\n",
      "\n",
      "Genre: Tragedy\n",
      "  T-statistic: -1.0609603545071324, P-value: 0.36655548035759805\n",
      "\n",
      "Genre: Cult\n",
      "  T-statistic: -0.35592369661680395, P-value: 0.7311010183707939\n",
      "\n",
      "Genre: Romantic drama\n",
      "  T-statistic: -0.4556507171292711, P-value: 0.6646663524008103\n",
      "\n",
      "Genre: Swashbuckler films\n",
      "  T-statistic: -0.42372302484359975, P-value: 0.7448500902699474\n",
      "\n",
      "Genre: LGBT\n",
      "  T-statistic: 0.7519323092202886, P-value: 0.4678762021112801\n",
      "\n",
      "Genre: Satire\n",
      "  T-statistic: 2.0768769701781022, P-value: 0.2856716772360128\n",
      "\n",
      "Genre: Musical\n",
      "  T-statistic: -1.7451102858132639, P-value: 0.15590421438944868\n",
      "\n",
      "Genre: Road movie\n",
      "  T-statistic: -2.97448899523155, P-value: 0.05885606513935282\n",
      "\n",
      "Genre: Comedy of manners\n",
      "  T-statistic: -2.914186709843571, P-value: 0.2104400202663652\n",
      "\n",
      "Genre: Music\n",
      "  T-statistic: -1.0812733520204345, P-value: 0.3926151418140841\n",
      "\n",
      "Genre: Crime Fiction\n",
      "  T-statistic: 2.7909028513736573, P-value: 0.01308454739159397\n",
      "\n",
      "Genre: Family Film\n",
      "  T-statistic: -0.13570080678822644, P-value: 0.8954102598313745\n",
      "\n",
      "Genre: Fantasy Comedy\n",
      "  T-statistic: 2.545461562142669, P-value: 0.08427623021571219\n",
      "\n",
      "Genre: Thriller\n",
      "  T-statistic: -0.275759585349488, P-value: 0.7860567573507184\n",
      "\n",
      "Genre: Indie\n",
      "  T-statistic: -0.6931530836358778, P-value: 0.507833791511808\n",
      "\n",
      "Genre: Monster movie\n",
      "  T-statistic: -5.467247309228003, P-value: 0.11516939472950323\n",
      "\n",
      "Genre: Action/Adventure\n",
      "  T-statistic: 0.3207712555440956, P-value: 0.7557067626552023\n",
      "\n",
      "Genre: Stoner film\n",
      "  T-statistic: 3.680475029912896, P-value: 0.06653940290679847\n",
      "\n",
      "Genre: Romantic comedy\n",
      "  T-statistic: 1.176079901011507, P-value: 0.26065129328191544\n",
      "\n",
      "Genre: Drama\n",
      "  T-statistic: 0.9666815708984715, P-value: 0.3527823546628658\n",
      "\n",
      "Genre: Romance Film\n",
      "  T-statistic: -0.971153882720187, P-value: 0.37607464426164366\n",
      "\n",
      "Genre: Domestic Comedy\n",
      "  T-statistic: 1.5283741040312002, P-value: 0.36884805992834674\n",
      "\n",
      "Genre: Political cinema\n",
      "  T-statistic: -0.6287254282917574, P-value: 0.5937611433520011\n",
      "\n",
      "Genre: Parody\n",
      "  T-statistic: -0.29987155671297044, P-value: 0.7690161987324\n",
      "\n",
      "Genre: Coming of age\n",
      "  T-statistic: -0.7586965828758159, P-value: 0.5868059296545238\n",
      "\n",
      "Genre: Period piece\n",
      "  T-statistic: -0.6520604113000946, P-value: 0.5326450541252691\n",
      "\n",
      "Genre: Ensemble Film\n",
      "  T-statistic: 0.30596241837719335, P-value: 0.7665923883555207\n",
      "\n",
      "Genre: Adventure\n",
      "  T-statistic: -0.9185694156977011, P-value: 0.37504973094830607\n",
      "\n",
      "Genre: Comedy film\n",
      "  T-statistic: 0.17175238964149617, P-value: 0.8794385729671998\n",
      "\n",
      "Genre: Fantasy\n",
      "  T-statistic: -5.228623384242368, P-value: 0.03468647849709734\n",
      "\n",
      "Genre: Family Drama\n",
      "  T-statistic: -1.1317827084774743, P-value: 0.32097750799888247\n",
      "\n",
      "Genre: Action\n",
      "  T-statistic: -0.4455013268325934, P-value: 0.6995386677861436\n",
      "\n",
      "Genre: Comedy\n",
      "  T-statistic: 2.297532968629563, P-value: 0.05519137753040656\n",
      "\n",
      "Genre: Mystery\n",
      "  T-statistic: -0.9792334124405245, P-value: 0.3724364167843616\n",
      "\n",
      "Genre: Western\n",
      "  T-statistic: 0.9011700718147576, P-value: 0.4626084899161822\n",
      "\n",
      "Genre: Screwball comedy\n",
      "  T-statistic: -3.2355029380614715, P-value: 0.048014607504952775\n",
      "\n",
      "Genre: Horror\n",
      "  T-statistic: -0.5215091127189172, P-value: 0.6295552565489311\n",
      "\n",
      "Genre: Biography\n",
      "  T-statistic: 0.31979271242037627, P-value: 0.7564243431746349\n",
      "\n",
      "Genre: Sex comedy\n",
      "  T-statistic: 0.11056908228725919, P-value: 0.929894303433312\n",
      "\n",
      "Genre: Costume drama\n",
      "  T-statistic: -1.7697777342622882, P-value: 0.127163104163707\n",
      "\n",
      "Genre: Computer Animation\n",
      "  T-statistic: -0.7971754255690319, P-value: 0.4515371971198102\n",
      "\n",
      "Genre: Christmas movie\n",
      "  T-statistic: 0.7196012868575145, P-value: 0.5464981392690168\n",
      "\n",
      "Genre: Science Fiction\n",
      "  T-statistic: -0.924989745024879, P-value: 0.37319882440224106\n",
      "\n",
      "Genre: Fantasy Adventure\n",
      "  T-statistic: -2.5482591801134404, P-value: 0.03426738437998325\n",
      "\n",
      "Genre: History\n",
      "  T-statistic: 0.5154936981414621, P-value: 0.628182796253676\n",
      "\n",
      "Genre: Black comedy\n",
      "  T-statistic: 2.304735271415867, P-value: 0.0607051854954123\n",
      "\n"
     ]
    }
   ],
   "source": [
    "import scipy.stats as stats\n",
    "from statistics import median\n",
    "import math\n",
    "\n",
    "# Initialize a list to store the results\n",
    "t_test_results = []\n",
    "\n",
    "# Get a list of all unique genres across all clusters\n",
    "all_genres = set()\n",
    "for info in cluster_info.values():\n",
    "    all_genres.update(info['movie_genre_counts'].keys())  # Make sure this key matches your data structure\n",
    "\n",
    "# Perform T-tests for each genre\n",
    "for genre in all_genres:\n",
    "    genre_ratios = []\n",
    "    average_ranks = []\n",
    "\n",
    "    # Extract genre ratio and average rank for each cluster\n",
    "    for cluster_id, info in cluster_info.items():\n",
    "        if info['total_movie_count'] > 0 and genre in info['movie_genre_counts']:  # Adjust the key here as well\n",
    "            genre_ratio = info['movie_genre_counts'][genre]  # Adjust the key here as well\n",
    "            genre_ratios.append(genre_ratio)\n",
    "            average_ranks.append(info['average_rank'])\n",
    "\n",
    "    # Split data based on median genre ratio\n",
    "    median_ratio = median(genre_ratios)\n",
    "    high_ratio_ranks = [rank for ratio, rank in zip(genre_ratios, average_ranks) if ratio > median_ratio]\n",
    "    low_ratio_ranks = [rank for ratio, rank in zip(genre_ratios, average_ranks) if ratio <= median_ratio]\n",
    "\n",
    "    # Perform a T-test\n",
    "    t_stat, p_value = stats.ttest_ind(high_ratio_ranks, low_ratio_ranks, nan_policy='omit')\n",
    "\n",
    "    # Check for NaN values\n",
    "    if not math.isnan(t_stat) and not math.isnan(p_value):\n",
    "        t_test_results.append((genre, t_stat, p_value))\n",
    "\n",
    "# Print the non-NaN T-test results for each genre\n",
    "for genre, t_stat, p_value in t_test_results:\n",
    "    print(f\"Genre: {genre}\")\n",
    "    print(f\"  T-statistic: {t_stat}, P-value: {p_value}\")\n",
    "    print()"
   ]
  },
  {
   "cell_type": "markdown",
   "metadata": {},
   "source": [
    "# **ACTORS GENRES**"
   ]
  },
  {
   "cell_type": "code",
   "execution_count": 18,
   "metadata": {},
   "outputs": [
    {
     "name": "stdout",
     "output_type": "stream",
     "text": [
      "Cluster 0:\n",
      "  Average Rank: 386.95714285714286\n",
      "  Fantasy Adventure: 0.20\n",
      "  Thriller: 0.62\n",
      "  Crime Fiction: 0.07\n",
      "  Drama: 0.03\n",
      "  Adventure: 0.07\n",
      "\n",
      "Cluster 2:\n",
      "  Average Rank: 437.3171206225681\n",
      "  Thriller: 0.34\n",
      "  Fantasy Adventure: 0.45\n",
      "  Costume drama: 0.02\n",
      "  Adventure: 0.04\n",
      "  Science Fiction: 0.02\n",
      "  Crime Fiction: 0.04\n",
      "  Romantic comedy: 0.09\n",
      "\n",
      "Cluster 9:\n",
      "  Average Rank: 638.8095238095239\n",
      "  Science Fiction: 0.30\n",
      "  Thriller: 0.40\n",
      "  Romantic comedy: 0.20\n",
      "  Adventure: 0.10\n",
      "\n",
      "Cluster 44:\n",
      "  Average Rank: 813.3018867924528\n",
      "  Thriller: 0.27\n",
      "  Romantic comedy: 0.32\n",
      "  Adventure: 0.23\n",
      "  Crime Fiction: 0.05\n",
      "  Action/Adventure: 0.05\n",
      "  Holiday Film: 0.05\n",
      "  Parody: 0.05\n",
      "\n",
      "Cluster 34:\n",
      "  Average Rank: 977.7045454545455\n",
      "  Thriller: 0.78\n",
      "  Drama: 0.04\n",
      "  Romantic comedy: 0.04\n",
      "  Cult: 0.02\n",
      "  Crime Fiction: 0.07\n",
      "  Ensemble Film: 0.02\n",
      "  Adventure: 0.02\n",
      "\n",
      "Cluster 10:\n",
      "  Average Rank: 1046.7898550724638\n",
      "  Romantic comedy: 0.25\n",
      "  Thriller: 0.33\n",
      "  Crime Fiction: 0.23\n",
      "  Parody: 0.05\n",
      "  Buddy film: 0.10\n",
      "  LGBT: 0.03\n",
      "  Road movie: 0.03\n",
      "\n",
      "Cluster 11:\n",
      "  Average Rank: 1129.2592592592594\n",
      "  Thriller: 0.65\n",
      "  Romantic comedy: 0.17\n",
      "  Crime Fiction: 0.13\n",
      "  Swashbuckler films: 0.02\n",
      "  Drama: 0.02\n",
      "  Parody: 0.02\n",
      "\n",
      "Cluster 14:\n",
      "  Average Rank: 1137.8\n",
      "  Thriller: 0.86\n",
      "  Romantic comedy: 0.14\n",
      "\n",
      "Cluster 20:\n",
      "  Average Rank: 1271.4825174825176\n",
      "  Thriller: 0.41\n",
      "  Crime Fiction: 0.14\n",
      "  Parody: 0.07\n",
      "  Romantic comedy: 0.34\n",
      "  Adventure: 0.02\n",
      "  Science Fiction: 0.01\n",
      "  Sports: 0.01\n",
      "\n",
      "Cluster 60:\n",
      "  Average Rank: 1276.0\n",
      "  Computer Animation: 0.17\n",
      "  Romantic comedy: 0.17\n",
      "  Thriller: 0.17\n",
      "  Adventure: 0.50\n",
      "\n",
      "Cluster 18:\n",
      "  Average Rank: 1339.875\n",
      "  Parody: 0.25\n",
      "  Thriller: 0.30\n",
      "  Romantic comedy: 0.35\n",
      "  Black comedy: 0.03\n",
      "  Action/Adventure: 0.03\n",
      "  Family Film: 0.03\n",
      "  Crime Fiction: 0.03\n",
      "\n",
      "Cluster 38:\n",
      "  Average Rank: 1360.6153846153845\n",
      "  Thriller: 1.00\n",
      "\n",
      "Cluster 25:\n",
      "  Average Rank: 1419.1854838709678\n",
      "  Thriller: 0.33\n",
      "  Adventure: 0.24\n",
      "  LGBT: 0.03\n",
      "  Science Fiction: 0.21\n",
      "  Romantic comedy: 0.09\n",
      "  Children's/Family: 0.03\n",
      "  Family Film: 0.03\n",
      "  Japanese Movies: 0.03\n",
      "\n",
      "Cluster 29:\n",
      "  Average Rank: 1426.686274509804\n",
      "  Romantic comedy: 0.53\n",
      "  Parody: 0.22\n",
      "  Crime Fiction: 0.02\n",
      "  Drama: 0.02\n",
      "  Thriller: 0.12\n",
      "  LGBT: 0.02\n",
      "  Children's/Family: 0.02\n",
      "  Action/Adventure: 0.02\n",
      "  Adventure: 0.02\n",
      "\n",
      "Cluster 13:\n",
      "  Average Rank: 1448.6140350877192\n",
      "  Thriller: 0.64\n",
      "  Crime Fiction: 0.11\n",
      "  Buddy film: 0.02\n",
      "  Americana: 0.02\n",
      "  Drama: 0.05\n",
      "  Romantic comedy: 0.16\n",
      "\n",
      "Cluster 40:\n",
      "  Average Rank: 1488.6813186813188\n",
      "  Thriller: 0.38\n",
      "  Romantic comedy: 0.24\n",
      "  Crime Fiction: 0.18\n",
      "  Computer Animation: 0.02\n",
      "  Sports: 0.07\n",
      "  Parody: 0.04\n",
      "  Adventure: 0.02\n",
      "  Biography: 0.02\n",
      "  Fantasy Adventure: 0.02\n",
      "\n",
      "Cluster 58:\n",
      "  Average Rank: 1497.8333333333333\n",
      "  Romantic comedy: 0.43\n",
      "  Parody: 0.57\n",
      "\n",
      "Cluster 80:\n",
      "  Average Rank: 1539.125\n",
      "  Thriller: 0.43\n",
      "  Parody: 0.29\n",
      "  Crime Fiction: 0.29\n",
      "\n",
      "Cluster 59:\n",
      "  Average Rank: 1547.8541666666667\n",
      "  Romantic comedy: 0.18\n",
      "  Family Film: 0.64\n",
      "  Thriller: 0.18\n",
      "\n",
      "Cluster 37:\n",
      "  Average Rank: 1580.8333333333333\n",
      "  Thriller: 0.67\n",
      "  Crime Fiction: 0.17\n",
      "  Sports: 0.17\n",
      "\n",
      "Cluster 70:\n",
      "  Average Rank: 1653.3333333333333\n",
      "  Thriller: 0.86\n",
      "  Crime Fiction: 0.14\n",
      "\n",
      "Cluster 35:\n",
      "  Average Rank: 1776.6571428571428\n",
      "  Thriller: 0.29\n",
      "  Crime Fiction: 0.43\n",
      "  Romantic comedy: 0.14\n",
      "  Comedy: 0.04\n",
      "  Parody: 0.07\n",
      "  Adventure: 0.04\n",
      "\n",
      "Cluster 47:\n",
      "  Average Rank: 1879.1818181818182\n",
      "  Crime Fiction: 0.08\n",
      "  Thriller: 0.58\n",
      "  Cult: 0.08\n",
      "  Science Fiction: 0.25\n",
      "\n",
      "Cluster 77:\n",
      "  Average Rank: 1896.3254437869823\n",
      "  Thriller: 0.75\n",
      "  LGBT: 0.05\n",
      "  Romantic comedy: 0.05\n",
      "  Drama: 0.10\n",
      "  Adventure: 0.05\n",
      "\n",
      "Cluster 102:\n",
      "  Average Rank: 2086.4864864864867\n",
      "  Action/Adventure: 0.80\n",
      "  Crime Fiction: 0.20\n",
      "\n"
     ]
    }
   ],
   "source": [
    "# Create a dictionary to store genre counts and average rank for each cluster\n",
    "cluster_info = defaultdict(lambda: {'genre_counts': defaultdict(int), 'total_genre_count': 0, 'average_rank': 0})\n",
    "\n",
    "for cluster_id, nodes in large_clusters.items():\n",
    "    # For each actor in the cluster\n",
    "    for actor in nodes:\n",
    "        # Find the main genre of the actor\n",
    "        main_genres = df[df['Actor_name'] == actor]['Actor_main_genre'].unique()\n",
    "        # Count each genre\n",
    "        for genre in main_genres:\n",
    "            cluster_info[cluster_id]['genre_counts'][genre] += 1\n",
    "            cluster_info[cluster_id]['total_genre_count'] += 1\n",
    "\n",
    "    # Calculate average rank for the cluster\n",
    "    cluster_rows = rating_stand[(rating_stand['Actor1'].isin(nodes)) | (rating_stand['Actor2'].isin(nodes))]\n",
    "    average_rank = cluster_rows['rank'].mean() if not cluster_rows.empty else None\n",
    "    cluster_info[cluster_id]['average_rank'] = average_rank\n",
    "\n",
    "# Sort the clusters by average rank in ascending order\n",
    "sorted_clusters = sorted(cluster_info.items(), key=lambda item: item[1]['average_rank'] if item[1]['average_rank'] is not None else float('inf'))\n",
    "\n",
    "# Print the sorted clusters with their genre ratios and average rank\n",
    "for cluster_id, info in sorted_clusters:\n",
    "    print(f\"Cluster {cluster_id}:\")\n",
    "    print(f\"  Average Rank: {info['average_rank']}\")\n",
    "    if info['total_genre_count'] > 0:\n",
    "        for genre, count in info['genre_counts'].items():\n",
    "            ratio = count / info['total_genre_count']\n",
    "            print(f\"  {genre}: {ratio:.2f}\")\n",
    "    print()"
   ]
  },
  {
   "cell_type": "code",
   "execution_count": 19,
   "metadata": {},
   "outputs": [
    {
     "data": {
      "text/html": [
       "\n",
       "        <iframe\n",
       "            width=\"100%\"\n",
       "            height=\"650\"\n",
       "            src=\"http://127.0.0.1:8050/\"\n",
       "            frameborder=\"0\"\n",
       "            allowfullscreen\n",
       "            \n",
       "        ></iframe>\n",
       "        "
      ],
      "text/plain": [
       "<IPython.lib.display.IFrame at 0x147a10eb0>"
      ]
     },
     "metadata": {},
     "output_type": "display_data"
    }
   ],
   "source": [
    "import dash\n",
    "from dash import dcc, html, Input, Output, State\n",
    "import plotly.graph_objs as go\n",
    "import pandas as pd\n",
    "\n",
    "# Assuming `cluster_info` is a dictionary with cluster ids as keys and dictionaries with 'average_rank' and 'genre_counts' as values\n",
    "\n",
    "# Initialize the Dash app\n",
    "app = dash.Dash(__name__)\n",
    "\n",
    "# Sort clusters by average rank in ascending order and prepare data for plotting\n",
    "sorted_cluster_ids = sorted(cluster_info, key=lambda x: cluster_info[x]['average_rank'])\n",
    "cluster_ids = [f\"Cluster {cluster_id}\" for cluster_id in sorted_cluster_ids]\n",
    "average_ranks = [round(cluster_info[cluster_id]['average_rank']) for cluster_id in sorted_cluster_ids]\n",
    "\n",
    "# Create the bar chart\n",
    "bar_chart = go.Figure(data=[\n",
    "    go.Bar(x=cluster_ids, y=average_ranks, name='Average Rank')\n",
    "])\n",
    "\n",
    "# Set up the callback for clicking the bar, which will not have any output but will update the pie chart via clientside callback\n",
    "bar_chart.update_layout(clickmode='event+select')\n",
    "\n",
    "# App layout with the pie chart to the right of the bar chart\n",
    "app.layout = html.Div([\n",
    "    dcc.Graph(id='bar-chart', figure=bar_chart),\n",
    "    dcc.Graph(id='pie-chart'),\n",
    "], style={'display': 'flex'})\n",
    "\n",
    "# Callback for updating pie-chart based on clicked bar\n",
    "@app.callback(\n",
    "    Output('pie-chart', 'figure'),\n",
    "    [Input('bar-chart', 'clickData')],\n",
    "    [State('bar-chart', 'figure')]\n",
    ")\n",
    "def display_click_data(clickData, figure):\n",
    "    if clickData:\n",
    "        # Extract the cluster id from the clicked point\n",
    "        cluster_id = int(clickData['points'][0]['x'].split()[1])\n",
    "        genres = list(cluster_info[cluster_id]['genre_counts'].keys())\n",
    "        counts = list(cluster_info[cluster_id]['genre_counts'].values())\n",
    "        # Create the pie chart based on the selected cluster\n",
    "        pie_chart = go.Figure(data=[go.Pie(labels=genres, values=counts)])\n",
    "        return pie_chart\n",
    "    else:\n",
    "        # If no bar is clicked yet, return an empty figure\n",
    "        return go.Figure()\n",
    "    \n",
    "# Save the bar chart as an HTML file\n",
    "bar_chart.write_html(\"../plots/plot_actors_q5.html\")\n",
    "\n",
    "# Run the Dash app\n",
    "if __name__ == '__main__':\n",
    "    app.run_server(debug=True)"
   ]
  },
  {
   "cell_type": "code",
   "execution_count": 20,
   "metadata": {},
   "outputs": [
    {
     "data": {
      "application/vnd.jupyter.widget-view+json": {
       "model_id": "5685556fe7804f969b5b8750505e7673",
       "version_major": 2,
       "version_minor": 0
      },
      "text/plain": [
       "Dropdown(description='Select Cluster:', options=('Cluster 0', 'Cluster 2', 'Cluster 9', 'Cluster 44', 'Cluster…"
      ]
     },
     "metadata": {},
     "output_type": "display_data"
    },
    {
     "data": {
      "application/vnd.plotly.v1+json": {
       "config": {
        "plotlyServerURL": "https://plot.ly"
       },
       "data": [
        {
         "name": "Average Rank",
         "type": "bar",
         "x": [
          "Cluster 0",
          "Cluster 2",
          "Cluster 9",
          "Cluster 44",
          "Cluster 34",
          "Cluster 10",
          "Cluster 11",
          "Cluster 14",
          "Cluster 20",
          "Cluster 60",
          "Cluster 18",
          "Cluster 38",
          "Cluster 25",
          "Cluster 29",
          "Cluster 13",
          "Cluster 40",
          "Cluster 58",
          "Cluster 80",
          "Cluster 59",
          "Cluster 37",
          "Cluster 70",
          "Cluster 35",
          "Cluster 47",
          "Cluster 77",
          "Cluster 102"
         ],
         "y": [
          387,
          437,
          639,
          813,
          978,
          1047,
          1129,
          1138,
          1271,
          1276,
          1340,
          1361,
          1419,
          1427,
          1449,
          1489,
          1498,
          1539,
          1548,
          1581,
          1653,
          1777,
          1879,
          1896,
          2086
         ]
        }
       ],
       "layout": {
        "template": {
         "data": {
          "bar": [
           {
            "error_x": {
             "color": "#2a3f5f"
            },
            "error_y": {
             "color": "#2a3f5f"
            },
            "marker": {
             "line": {
              "color": "#E5ECF6",
              "width": 0.5
             },
             "pattern": {
              "fillmode": "overlay",
              "size": 10,
              "solidity": 0.2
             }
            },
            "type": "bar"
           }
          ],
          "barpolar": [
           {
            "marker": {
             "line": {
              "color": "#E5ECF6",
              "width": 0.5
             },
             "pattern": {
              "fillmode": "overlay",
              "size": 10,
              "solidity": 0.2
             }
            },
            "type": "barpolar"
           }
          ],
          "carpet": [
           {
            "aaxis": {
             "endlinecolor": "#2a3f5f",
             "gridcolor": "white",
             "linecolor": "white",
             "minorgridcolor": "white",
             "startlinecolor": "#2a3f5f"
            },
            "baxis": {
             "endlinecolor": "#2a3f5f",
             "gridcolor": "white",
             "linecolor": "white",
             "minorgridcolor": "white",
             "startlinecolor": "#2a3f5f"
            },
            "type": "carpet"
           }
          ],
          "choropleth": [
           {
            "colorbar": {
             "outlinewidth": 0,
             "ticks": ""
            },
            "type": "choropleth"
           }
          ],
          "contour": [
           {
            "colorbar": {
             "outlinewidth": 0,
             "ticks": ""
            },
            "colorscale": [
             [
              0,
              "#0d0887"
             ],
             [
              0.1111111111111111,
              "#46039f"
             ],
             [
              0.2222222222222222,
              "#7201a8"
             ],
             [
              0.3333333333333333,
              "#9c179e"
             ],
             [
              0.4444444444444444,
              "#bd3786"
             ],
             [
              0.5555555555555556,
              "#d8576b"
             ],
             [
              0.6666666666666666,
              "#ed7953"
             ],
             [
              0.7777777777777778,
              "#fb9f3a"
             ],
             [
              0.8888888888888888,
              "#fdca26"
             ],
             [
              1,
              "#f0f921"
             ]
            ],
            "type": "contour"
           }
          ],
          "contourcarpet": [
           {
            "colorbar": {
             "outlinewidth": 0,
             "ticks": ""
            },
            "type": "contourcarpet"
           }
          ],
          "heatmap": [
           {
            "colorbar": {
             "outlinewidth": 0,
             "ticks": ""
            },
            "colorscale": [
             [
              0,
              "#0d0887"
             ],
             [
              0.1111111111111111,
              "#46039f"
             ],
             [
              0.2222222222222222,
              "#7201a8"
             ],
             [
              0.3333333333333333,
              "#9c179e"
             ],
             [
              0.4444444444444444,
              "#bd3786"
             ],
             [
              0.5555555555555556,
              "#d8576b"
             ],
             [
              0.6666666666666666,
              "#ed7953"
             ],
             [
              0.7777777777777778,
              "#fb9f3a"
             ],
             [
              0.8888888888888888,
              "#fdca26"
             ],
             [
              1,
              "#f0f921"
             ]
            ],
            "type": "heatmap"
           }
          ],
          "heatmapgl": [
           {
            "colorbar": {
             "outlinewidth": 0,
             "ticks": ""
            },
            "colorscale": [
             [
              0,
              "#0d0887"
             ],
             [
              0.1111111111111111,
              "#46039f"
             ],
             [
              0.2222222222222222,
              "#7201a8"
             ],
             [
              0.3333333333333333,
              "#9c179e"
             ],
             [
              0.4444444444444444,
              "#bd3786"
             ],
             [
              0.5555555555555556,
              "#d8576b"
             ],
             [
              0.6666666666666666,
              "#ed7953"
             ],
             [
              0.7777777777777778,
              "#fb9f3a"
             ],
             [
              0.8888888888888888,
              "#fdca26"
             ],
             [
              1,
              "#f0f921"
             ]
            ],
            "type": "heatmapgl"
           }
          ],
          "histogram": [
           {
            "marker": {
             "pattern": {
              "fillmode": "overlay",
              "size": 10,
              "solidity": 0.2
             }
            },
            "type": "histogram"
           }
          ],
          "histogram2d": [
           {
            "colorbar": {
             "outlinewidth": 0,
             "ticks": ""
            },
            "colorscale": [
             [
              0,
              "#0d0887"
             ],
             [
              0.1111111111111111,
              "#46039f"
             ],
             [
              0.2222222222222222,
              "#7201a8"
             ],
             [
              0.3333333333333333,
              "#9c179e"
             ],
             [
              0.4444444444444444,
              "#bd3786"
             ],
             [
              0.5555555555555556,
              "#d8576b"
             ],
             [
              0.6666666666666666,
              "#ed7953"
             ],
             [
              0.7777777777777778,
              "#fb9f3a"
             ],
             [
              0.8888888888888888,
              "#fdca26"
             ],
             [
              1,
              "#f0f921"
             ]
            ],
            "type": "histogram2d"
           }
          ],
          "histogram2dcontour": [
           {
            "colorbar": {
             "outlinewidth": 0,
             "ticks": ""
            },
            "colorscale": [
             [
              0,
              "#0d0887"
             ],
             [
              0.1111111111111111,
              "#46039f"
             ],
             [
              0.2222222222222222,
              "#7201a8"
             ],
             [
              0.3333333333333333,
              "#9c179e"
             ],
             [
              0.4444444444444444,
              "#bd3786"
             ],
             [
              0.5555555555555556,
              "#d8576b"
             ],
             [
              0.6666666666666666,
              "#ed7953"
             ],
             [
              0.7777777777777778,
              "#fb9f3a"
             ],
             [
              0.8888888888888888,
              "#fdca26"
             ],
             [
              1,
              "#f0f921"
             ]
            ],
            "type": "histogram2dcontour"
           }
          ],
          "mesh3d": [
           {
            "colorbar": {
             "outlinewidth": 0,
             "ticks": ""
            },
            "type": "mesh3d"
           }
          ],
          "parcoords": [
           {
            "line": {
             "colorbar": {
              "outlinewidth": 0,
              "ticks": ""
             }
            },
            "type": "parcoords"
           }
          ],
          "pie": [
           {
            "automargin": true,
            "type": "pie"
           }
          ],
          "scatter": [
           {
            "fillpattern": {
             "fillmode": "overlay",
             "size": 10,
             "solidity": 0.2
            },
            "type": "scatter"
           }
          ],
          "scatter3d": [
           {
            "line": {
             "colorbar": {
              "outlinewidth": 0,
              "ticks": ""
             }
            },
            "marker": {
             "colorbar": {
              "outlinewidth": 0,
              "ticks": ""
             }
            },
            "type": "scatter3d"
           }
          ],
          "scattercarpet": [
           {
            "marker": {
             "colorbar": {
              "outlinewidth": 0,
              "ticks": ""
             }
            },
            "type": "scattercarpet"
           }
          ],
          "scattergeo": [
           {
            "marker": {
             "colorbar": {
              "outlinewidth": 0,
              "ticks": ""
             }
            },
            "type": "scattergeo"
           }
          ],
          "scattergl": [
           {
            "marker": {
             "colorbar": {
              "outlinewidth": 0,
              "ticks": ""
             }
            },
            "type": "scattergl"
           }
          ],
          "scattermapbox": [
           {
            "marker": {
             "colorbar": {
              "outlinewidth": 0,
              "ticks": ""
             }
            },
            "type": "scattermapbox"
           }
          ],
          "scatterpolar": [
           {
            "marker": {
             "colorbar": {
              "outlinewidth": 0,
              "ticks": ""
             }
            },
            "type": "scatterpolar"
           }
          ],
          "scatterpolargl": [
           {
            "marker": {
             "colorbar": {
              "outlinewidth": 0,
              "ticks": ""
             }
            },
            "type": "scatterpolargl"
           }
          ],
          "scatterternary": [
           {
            "marker": {
             "colorbar": {
              "outlinewidth": 0,
              "ticks": ""
             }
            },
            "type": "scatterternary"
           }
          ],
          "surface": [
           {
            "colorbar": {
             "outlinewidth": 0,
             "ticks": ""
            },
            "colorscale": [
             [
              0,
              "#0d0887"
             ],
             [
              0.1111111111111111,
              "#46039f"
             ],
             [
              0.2222222222222222,
              "#7201a8"
             ],
             [
              0.3333333333333333,
              "#9c179e"
             ],
             [
              0.4444444444444444,
              "#bd3786"
             ],
             [
              0.5555555555555556,
              "#d8576b"
             ],
             [
              0.6666666666666666,
              "#ed7953"
             ],
             [
              0.7777777777777778,
              "#fb9f3a"
             ],
             [
              0.8888888888888888,
              "#fdca26"
             ],
             [
              1,
              "#f0f921"
             ]
            ],
            "type": "surface"
           }
          ],
          "table": [
           {
            "cells": {
             "fill": {
              "color": "#EBF0F8"
             },
             "line": {
              "color": "white"
             }
            },
            "header": {
             "fill": {
              "color": "#C8D4E3"
             },
             "line": {
              "color": "white"
             }
            },
            "type": "table"
           }
          ]
         },
         "layout": {
          "annotationdefaults": {
           "arrowcolor": "#2a3f5f",
           "arrowhead": 0,
           "arrowwidth": 1
          },
          "autotypenumbers": "strict",
          "coloraxis": {
           "colorbar": {
            "outlinewidth": 0,
            "ticks": ""
           }
          },
          "colorscale": {
           "diverging": [
            [
             0,
             "#8e0152"
            ],
            [
             0.1,
             "#c51b7d"
            ],
            [
             0.2,
             "#de77ae"
            ],
            [
             0.3,
             "#f1b6da"
            ],
            [
             0.4,
             "#fde0ef"
            ],
            [
             0.5,
             "#f7f7f7"
            ],
            [
             0.6,
             "#e6f5d0"
            ],
            [
             0.7,
             "#b8e186"
            ],
            [
             0.8,
             "#7fbc41"
            ],
            [
             0.9,
             "#4d9221"
            ],
            [
             1,
             "#276419"
            ]
           ],
           "sequential": [
            [
             0,
             "#0d0887"
            ],
            [
             0.1111111111111111,
             "#46039f"
            ],
            [
             0.2222222222222222,
             "#7201a8"
            ],
            [
             0.3333333333333333,
             "#9c179e"
            ],
            [
             0.4444444444444444,
             "#bd3786"
            ],
            [
             0.5555555555555556,
             "#d8576b"
            ],
            [
             0.6666666666666666,
             "#ed7953"
            ],
            [
             0.7777777777777778,
             "#fb9f3a"
            ],
            [
             0.8888888888888888,
             "#fdca26"
            ],
            [
             1,
             "#f0f921"
            ]
           ],
           "sequentialminus": [
            [
             0,
             "#0d0887"
            ],
            [
             0.1111111111111111,
             "#46039f"
            ],
            [
             0.2222222222222222,
             "#7201a8"
            ],
            [
             0.3333333333333333,
             "#9c179e"
            ],
            [
             0.4444444444444444,
             "#bd3786"
            ],
            [
             0.5555555555555556,
             "#d8576b"
            ],
            [
             0.6666666666666666,
             "#ed7953"
            ],
            [
             0.7777777777777778,
             "#fb9f3a"
            ],
            [
             0.8888888888888888,
             "#fdca26"
            ],
            [
             1,
             "#f0f921"
            ]
           ]
          },
          "colorway": [
           "#636efa",
           "#EF553B",
           "#00cc96",
           "#ab63fa",
           "#FFA15A",
           "#19d3f3",
           "#FF6692",
           "#B6E880",
           "#FF97FF",
           "#FECB52"
          ],
          "font": {
           "color": "#2a3f5f"
          },
          "geo": {
           "bgcolor": "white",
           "lakecolor": "white",
           "landcolor": "#E5ECF6",
           "showlakes": true,
           "showland": true,
           "subunitcolor": "white"
          },
          "hoverlabel": {
           "align": "left"
          },
          "hovermode": "closest",
          "mapbox": {
           "style": "light"
          },
          "paper_bgcolor": "white",
          "plot_bgcolor": "#E5ECF6",
          "polar": {
           "angularaxis": {
            "gridcolor": "white",
            "linecolor": "white",
            "ticks": ""
           },
           "bgcolor": "#E5ECF6",
           "radialaxis": {
            "gridcolor": "white",
            "linecolor": "white",
            "ticks": ""
           }
          },
          "scene": {
           "xaxis": {
            "backgroundcolor": "#E5ECF6",
            "gridcolor": "white",
            "gridwidth": 2,
            "linecolor": "white",
            "showbackground": true,
            "ticks": "",
            "zerolinecolor": "white"
           },
           "yaxis": {
            "backgroundcolor": "#E5ECF6",
            "gridcolor": "white",
            "gridwidth": 2,
            "linecolor": "white",
            "showbackground": true,
            "ticks": "",
            "zerolinecolor": "white"
           },
           "zaxis": {
            "backgroundcolor": "#E5ECF6",
            "gridcolor": "white",
            "gridwidth": 2,
            "linecolor": "white",
            "showbackground": true,
            "ticks": "",
            "zerolinecolor": "white"
           }
          },
          "shapedefaults": {
           "line": {
            "color": "#2a3f5f"
           }
          },
          "ternary": {
           "aaxis": {
            "gridcolor": "white",
            "linecolor": "white",
            "ticks": ""
           },
           "baxis": {
            "gridcolor": "white",
            "linecolor": "white",
            "ticks": ""
           },
           "bgcolor": "#E5ECF6",
           "caxis": {
            "gridcolor": "white",
            "linecolor": "white",
            "ticks": ""
           }
          },
          "title": {
           "x": 0.05
          },
          "xaxis": {
           "automargin": true,
           "gridcolor": "white",
           "linecolor": "white",
           "ticks": "",
           "title": {
            "standoff": 15
           },
           "zerolinecolor": "white",
           "zerolinewidth": 2
          },
          "yaxis": {
           "automargin": true,
           "gridcolor": "white",
           "linecolor": "white",
           "ticks": "",
           "title": {
            "standoff": 15
           },
           "zerolinecolor": "white",
           "zerolinewidth": 2
          }
         }
        }
       }
      }
     },
     "metadata": {},
     "output_type": "display_data"
    },
    {
     "data": {
      "application/vnd.jupyter.widget-view+json": {
       "model_id": "9e8dab6873d04b4dbc661ba3c2ca79cf",
       "version_major": 2,
       "version_minor": 0
      },
      "text/plain": [
       "FigureWidget({\n",
       "    'data': [], 'layout': {'template': '...'}\n",
       "})"
      ]
     },
     "metadata": {},
     "output_type": "display_data"
    }
   ],
   "source": [
    "import ipywidgets as widgets\n",
    "import plotly.graph_objs as go\n",
    "from IPython.display import display\n",
    "\n",
    "# Assuming `cluster_info` is a dictionary with cluster ids as keys and dictionaries with 'average_rank' and 'genre_counts' as values\n",
    "\n",
    "# Prepare data for plotting\n",
    "sorted_cluster_ids = sorted(cluster_info, key=lambda x: cluster_info[x]['average_rank'])\n",
    "cluster_ids = [f\"Cluster {cluster_id}\" for cluster_id in sorted_cluster_ids]\n",
    "average_ranks = [round(cluster_info[cluster_id]['average_rank']) for cluster_id in sorted_cluster_ids]\n",
    "\n",
    "# Create the bar chart\n",
    "bar_chart = go.Figure(data=[\n",
    "    go.Bar(x=cluster_ids, y=average_ranks, name='Average Rank')\n",
    "])\n",
    "\n",
    "# Initialize the pie chart\n",
    "pie_chart = go.FigureWidget()\n",
    "\n",
    "# Function to update pie chart based on selected bar\n",
    "def update_pie_chart(change):\n",
    "    cluster_id_str = change['new']\n",
    "    if cluster_id_str:\n",
    "        cluster_id = int(cluster_id_str.split()[1])\n",
    "        genres = list(cluster_info[cluster_id]['genre_counts'].keys())\n",
    "        counts = list(cluster_info[cluster_id]['genre_counts'].values())\n",
    "\n",
    "        # Update the pie chart\n",
    "        pie_chart.data = []\n",
    "        pie_chart.add_trace(go.Pie(labels=genres, values=counts))\n",
    "\n",
    "# Interactive widget for selecting bar\n",
    "bar_select = widgets.Dropdown(\n",
    "    options=cluster_ids,\n",
    "    description='Select Cluster:',\n",
    "    disabled=False,\n",
    ")\n",
    "bar_select.observe(update_pie_chart, names='value')\n",
    "\n",
    "# Display widgets and initial charts\n",
    "display(bar_select)\n",
    "display(bar_chart)\n",
    "display(pie_chart)"
   ]
  },
  {
   "cell_type": "code",
   "execution_count": 24,
   "metadata": {},
   "outputs": [
    {
     "name": "stdout",
     "output_type": "stream",
     "text": [
      "Genre: Romantic comedy\n",
      "  T-statistic: 0.2217531564920889, P-value: 0.8279515046675615\n",
      "\n",
      "Genre: Drama\n",
      "  T-statistic: 1.1795004100519173, P-value: 0.3035602223696104\n",
      "\n",
      "Genre: Crime Fiction\n",
      "  T-statistic: 2.9085291356846388, P-value: 0.01220641492402976\n",
      "\n",
      "Genre: Family Film\n",
      "  T-statistic: 5.997377411521753, P-value: 0.10518205672064193\n",
      "\n",
      "Genre: Sports\n",
      "  T-statistic: 0.6759788580827808, P-value: 0.6215793115870516\n",
      "\n",
      "Genre: Thriller\n",
      "  T-statistic: -0.02184559668160145, P-value: 0.9828114700251053\n",
      "\n",
      "Genre: Science Fiction\n",
      "  T-statistic: 0.3512600443192874, P-value: 0.7486145630794654\n",
      "\n",
      "Genre: Parody\n",
      "  T-statistic: 0.9524259347402088, P-value: 0.372601818224183\n",
      "\n",
      "Genre: Fantasy Adventure\n",
      "  T-statistic: -0.5276994613705112, P-value: 0.6908823703478878\n",
      "\n",
      "Genre: Action/Adventure\n",
      "  T-statistic: 1.6727219592917053, P-value: 0.23635116609420023\n",
      "\n",
      "Genre: Adventure\n",
      "  T-statistic: -0.13261040932918045, P-value: 0.8974190393757402\n",
      "\n",
      "Genre: LGBT\n",
      "  T-statistic: 1.1129940881323561, P-value: 0.3815511974868291\n",
      "\n"
     ]
    }
   ],
   "source": [
    "import scipy.stats as stats\n",
    "from statistics import median\n",
    "import math\n",
    "\n",
    "# Initialize a list to store the results\n",
    "t_test_results = []\n",
    "\n",
    "# Get a list of all unique genres across all clusters\n",
    "all_genres = set()\n",
    "for info in cluster_info.values():\n",
    "    all_genres.update(info['genre_counts'].keys())\n",
    "\n",
    "# Perform T-tests for each genre\n",
    "for genre in all_genres:\n",
    "    genre_ratios = []\n",
    "    average_ranks = []\n",
    "\n",
    "    # Extract genre ratio and average rank for each cluster\n",
    "    for cluster_id, info in cluster_info.items():\n",
    "        if info['total_genre_count'] > 0 and genre in info['genre_counts']:\n",
    "            genre_ratio = info['genre_counts'][genre] / info['total_genre_count']\n",
    "            genre_ratios.append(genre_ratio)\n",
    "            average_ranks.append(info['average_rank'])\n",
    "\n",
    "    # Split data based on median genre ratio\n",
    "    median_ratio = median(genre_ratios)\n",
    "    high_ratio_ranks = [rank for ratio, rank in zip(genre_ratios, average_ranks) if ratio > median_ratio]\n",
    "    low_ratio_ranks = [rank for ratio, rank in zip(genre_ratios, average_ranks) if ratio <= median_ratio]\n",
    "\n",
    "    # Perform a T-test\n",
    "    t_stat, p_value = stats.ttest_ind(high_ratio_ranks, low_ratio_ranks, nan_policy='omit')\n",
    "\n",
    "    # Check for NaN values\n",
    "    if not math.isnan(t_stat) and not math.isnan(p_value):\n",
    "        t_test_results.append((genre, t_stat, p_value))\n",
    "\n",
    "# Print the non-NaN T-test results for each genre\n",
    "for genre, t_stat, p_value in t_test_results:\n",
    "    print(f\"Genre: {genre}\")\n",
    "    print(f\"  T-statistic: {t_stat}, P-value: {p_value}\")\n",
    "    print()"
   ]
  },
  {
   "cell_type": "markdown",
   "metadata": {},
   "source": [
    "# **ANSWER TO THE QUESTION**\n",
    "\n",
    "**5. What role does genre play in shaping collaborative dynamics, and how do successful collaborations differ across genres?**"
   ]
  },
  {
   "cell_type": "markdown",
   "metadata": {},
   "source": [
    "In our first analysis, we meticulously calculated the ratios of movie genres for each cluster, basing our calculations on the films in which actors within the cluster participated. This approach provided a collective genre profile for each cluster. Conversely, our second analysis adopted a different perspective, focusing on the main genres associated with the actors themselves. This method offered an individualistic genre representation of each cluster. Upon initial inspection of both datasets, there wasn't an immediately discernible correlation between specific genres and the clusters' ranks.\n",
    "\n",
    "The analysis took a compelling turn when we applied T-tests to each genre across the clusters. A significant finding emerged from this statistical examination, particularly with the crime-fiction genre. When analyzed in the context of the actors' main genres, crime-fiction yielded a p-value below 0.05, indicating a statistically significant association. Delving deeper into this discovery, especially concentrating on the crime-fiction genre, revealed a notable pattern: an increased prevalence of this genre corresponded with lower cluster rankings, suggesting a potential inverse relationship.\n",
    "\n",
    "Extending this statistical scrutiny to the movie genre ratios, we observed a parallel trend for crime-fiction, which again manifested a p-value under 0.05. This consistency in results underscores the genre's impact on cluster rankings. However, the study uncovered an intriguing contrast with genres such as \"fantasy\" and \"fantasy adventure,\" where the p-values were less than 0.05. This intriguing outcome implies that unlike crime-fiction, which appears to negatively influence a cluster's average rank, the presence of fantasy or fantasy adventure genres could contribute positively to enhancing a cluster's rank.\n",
    "\n",
    "The significant correlation between the prevalence of crime-fiction and lower cluster rankings suggests that clusters heavily skewed towards this genre might face certain challenges. This could be attributed to the demanding nature of crime-fiction narratives, which often require intense, dramatic performances and may not always appeal to a broad audience. Such a genre-specific focus could limit the versatility and appeal of the cluster's collective filmography.\n",
    "\n",
    "On the other hand, the positive correlation observed with fantasy and fantasy adventure genres hints at a different dynamic. These genres, often characterized by imaginative storytelling and visual spectacle, might offer more opportunities for creative expression and broad audience appeal. This can lead to a more diverse and engaging portfolio of work, potentially contributing to higher cluster rankings.\n",
    "\n",
    "These patterns underscore the idea that the collective genre profile of a cluster is not just a reflection of individual actor preferences, but a strategic element that can influence the cluster's overall success. The study suggests that a balanced and diverse genre portfolio within a cluster might be more conducive to achieving higher rankings, possibly due to wider audience appeal and greater opportunities for showcasing a range of acting skills and storylines. This insight could be valuable for actors and industry professionals in forming collaborative groups and choosing projects, emphasizing the importance of genre diversity as a strategic consideration in their career trajectories."
   ]
  }
 ],
 "metadata": {
  "kernelspec": {
   "display_name": "venv",
   "language": "python",
   "name": "python3"
  },
  "language_info": {
   "codemirror_mode": {
    "name": "ipython",
    "version": 3
   },
   "file_extension": ".py",
   "mimetype": "text/x-python",
   "name": "python",
   "nbconvert_exporter": "python",
   "pygments_lexer": "ipython3",
   "version": "3.10.0"
  }
 },
 "nbformat": 4,
 "nbformat_minor": 2
}
