{
 "cells": [
  {
   "cell_type": "code",
   "execution_count": 2,
   "id": "975ae4a7-69b5-4850-b6f8-81a9cf35bfbc",
   "metadata": {
    "tags": []
   },
   "outputs": [
    {
     "name": "stdout",
     "output_type": "stream",
     "text": [
      "The autoreload extension is already loaded. To reload it, use:\n",
      "  %reload_ext autoreload\n"
     ]
    }
   ],
   "source": [
    "import pandas as pd\n",
    "import numpy as np\n",
    "import math\n",
    "import matplotlib.pyplot as plt\n",
    "%matplotlib inline\n",
    "import seaborn as sns\n",
    "from scipy import stats\n",
    "\n",
    "import ast\n",
    "import collections\n",
    "import itertools\n",
    "\n",
    "import statsmodels.api as sm\n",
    "import statsmodels.formula.api as smf\n",
    "from statsmodels.stats import diagnostic\n",
    "import statsmodels.stats as st\n",
    "import statsmodels.regression.recursive_ls as rls\n",
    "\n",
    "from sklearn.neighbors import KNeighborsClassifier\n",
    "from sklearn.model_selection import cross_val_predict\n",
    "from sklearn.model_selection import cross_val_score\n",
    "from sklearn.metrics import mean_squared_error, auc, roc_curve\n",
    "\n",
    "from itertools import combinations\n",
    "from pandas.plotting import scatter_matrix\n",
    "\n",
    "import missingno as msno\n",
    "from collections import Counter\n",
    "\n",
    "import plotly.express as px\n",
    "import plotly.graph_objects as go\n",
    "from plotly.subplots import make_subplots\n",
    "\n",
    "from director_scrap import director_scrap\n",
    "from operator import itemgetter\n",
    "\n",
    "import networkx as nx\n",
    "from community import community_louvain\n",
    "from networkx.algorithms.community.centrality import girvan_newman\n",
    "from networkx.algorithms import bipartite\n",
    "from pyvis.network import Network\n",
    "\n",
    "%load_ext autoreload\n",
    "%autoreload 2"
   ]
  },
  {
   "cell_type": "code",
   "execution_count": 3,
   "id": "f4ed4ee2-f4cf-4e55-8a07-97fb0480812f",
   "metadata": {
    "tags": []
   },
   "outputs": [
    {
     "data": {
      "text/html": [
       "<div>\n",
       "<style scoped>\n",
       "    .dataframe tbody tr th:only-of-type {\n",
       "        vertical-align: middle;\n",
       "    }\n",
       "\n",
       "    .dataframe tbody tr th {\n",
       "        vertical-align: top;\n",
       "    }\n",
       "\n",
       "    .dataframe thead th {\n",
       "        text-align: right;\n",
       "    }\n",
       "</style>\n",
       "<table border=\"1\" class=\"dataframe\">\n",
       "  <thead>\n",
       "    <tr style=\"text-align: right;\">\n",
       "      <th></th>\n",
       "      <th>Movie_name</th>\n",
       "      <th>Movie_release</th>\n",
       "      <th>Movie_revenue</th>\n",
       "      <th>Movie_runtime</th>\n",
       "      <th>Movie_languages</th>\n",
       "      <th>Movie_countries</th>\n",
       "      <th>Movie_genres</th>\n",
       "      <th>Movie_rating</th>\n",
       "      <th>Movie_producer</th>\n",
       "      <th>Movie_composer</th>\n",
       "      <th>Movie_director</th>\n",
       "      <th>Movie_writer</th>\n",
       "      <th>Char_name</th>\n",
       "      <th>Actor_birth</th>\n",
       "      <th>Actor_gender</th>\n",
       "      <th>Actor_height</th>\n",
       "      <th>Actor_ethnicity</th>\n",
       "      <th>Actor_name</th>\n",
       "      <th>Actor_age_release</th>\n",
       "    </tr>\n",
       "  </thead>\n",
       "  <tbody>\n",
       "    <tr>\n",
       "      <th>0</th>\n",
       "      <td>Ghosts of Mars</td>\n",
       "      <td>2001.0</td>\n",
       "      <td>14010832.0</td>\n",
       "      <td>98.0</td>\n",
       "      <td>{\"/m/02h40lc\": \"English Language\"}</td>\n",
       "      <td>{\"/m/09c7w0\": \"United States of America\"}</td>\n",
       "      <td>{\"/m/01jfsb\": \"Thriller\", \"/m/06n90\": \"Science...</td>\n",
       "      <td>4.9</td>\n",
       "      <td>Sandy King</td>\n",
       "      <td>Anthrax</td>\n",
       "      <td>John Carpenter</td>\n",
       "      <td>NaN</td>\n",
       "      <td>Akooshay</td>\n",
       "      <td>1958-08-26</td>\n",
       "      <td>F</td>\n",
       "      <td>1.62</td>\n",
       "      <td>NaN</td>\n",
       "      <td>Wanda De Jesus</td>\n",
       "      <td>42.0</td>\n",
       "    </tr>\n",
       "  </tbody>\n",
       "</table>\n",
       "</div>"
      ],
      "text/plain": [
       "       Movie_name  Movie_release  Movie_revenue  Movie_runtime  \\\n",
       "0  Ghosts of Mars         2001.0     14010832.0           98.0   \n",
       "\n",
       "                      Movie_languages  \\\n",
       "0  {\"/m/02h40lc\": \"English Language\"}   \n",
       "\n",
       "                             Movie_countries  \\\n",
       "0  {\"/m/09c7w0\": \"United States of America\"}   \n",
       "\n",
       "                                        Movie_genres  Movie_rating  \\\n",
       "0  {\"/m/01jfsb\": \"Thriller\", \"/m/06n90\": \"Science...           4.9   \n",
       "\n",
       "  Movie_producer Movie_composer  Movie_director Movie_writer Char_name  \\\n",
       "0     Sandy King        Anthrax  John Carpenter          NaN  Akooshay   \n",
       "\n",
       "  Actor_birth Actor_gender  Actor_height Actor_ethnicity      Actor_name  \\\n",
       "0  1958-08-26            F          1.62             NaN  Wanda De Jesus   \n",
       "\n",
       "   Actor_age_release  \n",
       "0               42.0  "
      ]
     },
     "execution_count": 3,
     "metadata": {},
     "output_type": "execute_result"
    }
   ],
   "source": [
    "#df is simply the data that we have at the end of the section 2.Merging the data\n",
    "df = pd.read_table('../data/data_usa.tsv')\n",
    "df.head(1)"
   ]
  },
  {
   "cell_type": "code",
   "execution_count": 4,
   "id": "1a3f65cc-facd-44b1-bab6-6e4092bbb629",
   "metadata": {},
   "outputs": [
    {
     "data": {
      "text/plain": [
       "Index(['Movie_name', 'Movie_release', 'Movie_revenue', 'Movie_runtime',\n",
       "       'Movie_languages', 'Movie_countries', 'Movie_genres', 'Movie_rating',\n",
       "       'Movie_producer', 'Movie_composer', 'Movie_director', 'Movie_writer',\n",
       "       'Char_name', 'Actor_birth', 'Actor_gender', 'Actor_height',\n",
       "       'Actor_ethnicity', 'Actor_name', 'Actor_age_release'],\n",
       "      dtype='object')"
      ]
     },
     "execution_count": 4,
     "metadata": {},
     "output_type": "execute_result"
    }
   ],
   "source": [
    "df.columns"
   ]
  },
  {
   "cell_type": "code",
   "execution_count": 5,
   "id": "56536158-fe88-487e-a60a-8ae4ff75d0b7",
   "metadata": {
    "tags": []
   },
   "outputs": [],
   "source": [
    "# Helper function for plotting the degree distribution of a Graph\n",
    "def plot_degree_distribution(G):\n",
    "    degrees = {}\n",
    "    for node in G.nodes():\n",
    "        degree = G.degree(node)\n",
    "        if degree not in degrees:\n",
    "            degrees[degree] = 0\n",
    "        degrees[degree] += 1\n",
    "    sorted_degree = sorted(degrees.items())\n",
    "    deg = [k for (k,v) in sorted_degree]\n",
    "    cnt = [v for (k,v) in sorted_degree]\n",
    "    fig, ax = plt.subplots()\n",
    "    plt.bar(deg, cnt, width=0.80, color='b')\n",
    "    plt.title(\"Degree Distribution\")\n",
    "    plt.ylabel(\"Frequency\")\n",
    "    plt.xlabel(\"Degree\")\n",
    "    \n",
    "    # Generate a list of x-axis tick marks and labels every 50 degrees\n",
    "    tick_marks = range(0, max(deg)+1, 70)\n",
    "    ax.set_xticks(tick_marks)\n",
    "    ax.set_xticklabels([str(d) for d in tick_marks])\n",
    "    \n",
    "\n",
    "# Helper function for printing various graph properties\n",
    "def describe_graph(G):\n",
    "    print(G)\n",
    "    if nx.is_connected(G):\n",
    "        print(\"Avg. Shortest Path Length: %.4f\" %nx.average_shortest_path_length(G))\n",
    "        print(\"Diameter: %.4f\" %nx.diameter(G)) # Longest shortest path\n",
    "    else:\n",
    "        print(\"Graph is not connected\")\n",
    "        print(\"Diameter and Avg shortest path length are not defined!\")\n",
    "    print(\"Sparsity: %.4f\" %nx.density(G))  # #edges/#edges-complete-graph\n",
    "    # #closed-triplets(3*#triangles)/#all-triplets\n",
    "    print(\"Global clustering coefficient aka Transitivity: %.4f\" %nx.transitivity(G))\n",
    "    print(\"Avg. Clustering coefficient: %.4f\" %nx.average_clustering(G))\n",
    "    print(\"Number of connected components: %d\" %nx.number_connected_components(G))\n",
    "    print(\"Size of largest component: %d\" %len(max(nx.connected_components(G), key=len)))\n"
   ]
  },
  {
   "cell_type": "code",
   "execution_count": 6,
   "id": "253e8ce7-2cf4-4e5a-ab71-6fcdfec74223",
   "metadata": {
    "tags": []
   },
   "outputs": [
    {
     "name": "stdout",
     "output_type": "stream",
     "text": [
      "Graph with 30650 nodes and 643759 edges\n",
      "Graph is not connected\n",
      "Diameter and Avg shortest path length are not defined!\n",
      "Sparsity: 0.0014\n",
      "Global clustering coefficient aka Transitivity: 0.1664\n",
      "Avg. Clustering coefficient: 0.7502\n",
      "Number of connected components: 48\n",
      "Size of largest component: 30290\n"
     ]
    },
    {
     "data": {
      "image/png": "[encoded data removed]",
      "text/plain": [
       "<Figure size 640x480 with 1 Axes>"
      ]
     },
     "metadata": {},
     "output_type": "display_data"
    }
   ],
   "source": [
    "# Create a bipartite graph\n",
    "B = nx.Graph()\n",
    "\n",
    "# Add nodes with the node attribute \"bipartite\"\n",
    "actors = df['Actor_name'].unique()\n",
    "movies = df['Movie_name'].unique()\n",
    "\n",
    "# Add actors and movies as nodes\n",
    "B.add_nodes_from(actors, bipartite=0)  # Actors\n",
    "B.add_nodes_from(movies, bipartite=1)  # Movies\n",
    "\n",
    "# Add edges between actors and movies\n",
    "df.apply(lambda row: B.add_edge(row['Actor_name'], row['Movie_name']), axis=1)\n",
    "\n",
    "# Create weighted projected graph\n",
    "actor_network = nx.Graph()\n",
    "\n",
    "# Add weighted edges between all pairs of actors\n",
    "for movie in movies:\n",
    "    actors_in_movie = [actor for actor in B.neighbors(movie)]\n",
    "    for i, actor1 in enumerate(actors_in_movie):\n",
    "        for actor2 in actors_in_movie[i+1:]:\n",
    "            if actor_network.has_edge(actor1, actor2):\n",
    "                actor_network[actor1][actor2]['weight'] += 1\n",
    "            else:\n",
    "                actor_network.add_edge(actor1, actor2, weight=1)\n",
    "\n",
    "describe_graph(actor_network)\n",
    "plot_degree_distribution(actor_network)"
   ]
  },
  {
   "cell_type": "code",
   "execution_count": 8,
   "id": "b56ddf6e",
   "metadata": {},
   "outputs": [
    {
     "name": "stderr",
     "output_type": "stream",
     "text": [
      "Adding nodes: 100%|██████████| 30650/30650 [00:05<00:00, 5651.37it/s] \n",
      "Adding edges:  16%|█▌        | 100212/643759 [08:30<1:40:06, 90.50it/s]"
     ]
    }
   ],
   "source": [
    "from pyvis.network import Network\n",
    "from tqdm import tqdm\n",
    "\n",
    "# Initialize the Network, set physics to False for bipartite graph\n",
    "net = Network(height='800px', width='100%', bgcolor='#222222', font_color='white')\n",
    "\n",
    "# Add nodes and edges to the PyVis network\n",
    "for node in tqdm(actor_network.nodes, desc=\"Adding nodes\"):\n",
    "    net.add_node(node)\n",
    "\n",
    "for edge in tqdm(actor_network.edges, desc=\"Adding edges\"):\n",
    "    net.add_edge(edge[0], edge[1], value=actor_network[edge[0]][edge[1]]['weight'])\n",
    "\n",
    "# Show the network\n",
    "net.show('actor_network.html')"
   ]
  },
  {
   "cell_type": "code",
   "execution_count": null,
   "id": "22dda244",
   "metadata": {},
   "outputs": [],
   "source": [
    "# Louvain method\n",
    "partition = community_louvain.best_partition(actor_network)\n",
    "\n",
    "# Add community attribute to the nodes\n",
    "nx.set_node_attributes(actor_network, partition, \"louvain\")\n",
    "\n",
    "# Plot it out\n",
    "pos = nx.spring_layout(actor_network, k=0.2)\n",
    "plt.figure(figsize=(10, 10))  # Set the figure size\n",
    "\n",
    "# Draw the edges\n",
    "nx.draw_networkx_edges(actor_network, pos, alpha=0.2)\n",
    "\n",
    "# Draw the nodes, colored by community\n",
    "node_colors = [actor_network.nodes[n][\"louvain\"] for n in actor_network.nodes]\n",
    "nx.draw_networkx_nodes(actor_network, pos, node_color=node_colors, node_size=100, cmap=plt.cm.jet)\n",
    "\n",
    "plt.axis('off')\n",
    "plt.show()"
   ]
  },
  {
   "cell_type": "code",
   "execution_count": null,
   "id": "26e3ec9a",
   "metadata": {},
   "outputs": [],
   "source": [
    "# Louvain method\n",
    "partition = community_louvain.best_partition(actor_network)\n",
    "\n",
    "# Initialize the Network\n",
    "net = Network(height='800px', width='100%', bgcolor='#222222', font_color='white')\n",
    "\n",
    "# Create a color map\n",
    "color_map = plt.get_cmap('viridis', max(partition.values())+1)\n",
    "\n",
    "# Add nodes to the network\n",
    "for node in actor_network.nodes:\n",
    "    net.add_node(node, \n",
    "                 title=node, \n",
    "                 color=color_map(partition[node]),\n",
    "                 size=10)\n",
    "\n",
    "# Add edges to the network\n",
    "for edge in actor_network.edges:\n",
    "    net.add_edge(edge[0], edge[1], value=actor_network[edge[0]][edge[1]]['weight'])\n",
    "\n",
    "# Show the network\n",
    "net.show('actor_network.html')"
   ]
  }
 ],
 "metadata": {
  "kernelspec": {
   "display_name": "Python 3 (ipykernel)",
   "language": "python",
   "name": "python3"
  },
  "language_info": {
   "codemirror_mode": {
    "name": "ipython",
    "version": 3
   },
   "file_extension": ".py",
   "mimetype": "text/x-python",
   "name": "python",
   "nbconvert_exporter": "python",
   "pygments_lexer": "ipython3",
   "version": "3.10.0"
  }
 },
 "nbformat": 4,
 "nbformat_minor": 5
}
